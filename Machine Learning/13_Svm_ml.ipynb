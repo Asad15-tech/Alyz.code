{
 "cells": [
  {
   "cell_type": "markdown",
   "id": "ddf7c220",
   "metadata": {},
   "source": [
    "# Machine Learning"
   ]
  },
  {
   "cell_type": "markdown",
   "id": "c3db5b08",
   "metadata": {},
   "source": [
    "## Support Vector Machine as a Regressor"
   ]
  },
  {
   "cell_type": "code",
   "execution_count": 54,
   "id": "aada426d",
   "metadata": {},
   "outputs": [],
   "source": [
    "# Importing Libraries\n",
    "import pandas as pd\n",
    "import numpy as np\n",
    "import seaborn as sns\n",
    "import matplotlib.pyplot as plt\n",
    "from sklearn.preprocessing import LabelEncoder, MinMaxScaler\n",
    "from sklearn.svm import SVR\n",
    "from sklearn.model_selection import train_test_split\n",
    "from sklearn.metrics import mean_squared_error,r2_score,root_mean_squared_error"
   ]
  },
  {
   "cell_type": "code",
   "execution_count": 55,
   "id": "e0eb1ed4",
   "metadata": {},
   "outputs": [
    {
     "name": "stdout",
     "output_type": "stream",
     "text": [
      "   carat      cut color clarity  depth  table  price     x     y     z\n",
      "0   0.23    Ideal     E     SI2   61.5   55.0    326  3.95  3.98  2.43\n",
      "1   0.21  Premium     E     SI1   59.8   61.0    326  3.89  3.84  2.31\n",
      "2   0.23     Good     E     VS1   56.9   65.0    327  4.05  4.07  2.31\n",
      "3   0.29  Premium     I     VS2   62.4   58.0    334  4.20  4.23  2.63\n",
      "4   0.31     Good     J     SI2   63.3   58.0    335  4.34  4.35  2.75\n"
     ]
    }
   ],
   "source": [
    "# Loading Dataset\n",
    "df = sns.load_dataset(\"diamonds\")\n",
    "# Let's have look on the top rows of our dataset\n",
    "print(df.head())"
   ]
  },
  {
   "cell_type": "code",
   "execution_count": 56,
   "id": "1ffd2226",
   "metadata": {},
   "outputs": [
    {
     "data": {
      "text/plain": [
       "Index(['carat', 'cut', 'color', 'clarity', 'depth', 'table', 'price', 'x', 'y',\n",
       "       'z'],\n",
       "      dtype='object')"
      ]
     },
     "execution_count": 56,
     "metadata": {},
     "output_type": "execute_result"
    }
   ],
   "source": [
    "# To check name of the columns\n",
    "df.columns"
   ]
  },
  {
   "cell_type": "code",
   "execution_count": 57,
   "id": "e3841240",
   "metadata": {},
   "outputs": [
    {
     "data": {
      "text/plain": [
       "(53940, 10)"
      ]
     },
     "execution_count": 57,
     "metadata": {},
     "output_type": "execute_result"
    }
   ],
   "source": [
    "# Get the shape of dataset\n",
    "df.shape"
   ]
  },
  {
   "cell_type": "code",
   "execution_count": 58,
   "id": "a0084e4e",
   "metadata": {},
   "outputs": [
    {
     "name": "stdout",
     "output_type": "stream",
     "text": [
      "<class 'pandas.core.frame.DataFrame'>\n",
      "RangeIndex: 53940 entries, 0 to 53939\n",
      "Data columns (total 10 columns):\n",
      " #   Column   Non-Null Count  Dtype   \n",
      "---  ------   --------------  -----   \n",
      " 0   carat    53940 non-null  float64 \n",
      " 1   cut      53940 non-null  category\n",
      " 2   color    53940 non-null  category\n",
      " 3   clarity  53940 non-null  category\n",
      " 4   depth    53940 non-null  float64 \n",
      " 5   table    53940 non-null  float64 \n",
      " 6   price    53940 non-null  int64   \n",
      " 7   x        53940 non-null  float64 \n",
      " 8   y        53940 non-null  float64 \n",
      " 9   z        53940 non-null  float64 \n",
      "dtypes: category(3), float64(6), int64(1)\n",
      "memory usage: 3.0 MB\n"
     ]
    }
   ],
   "source": [
    "# To get the info of Diamond Dataset\n",
    "df.info()"
   ]
  },
  {
   "cell_type": "code",
   "execution_count": 59,
   "id": "113f95ca",
   "metadata": {},
   "outputs": [
    {
     "name": "stdout",
     "output_type": "stream",
     "text": [
      "carat      0\n",
      "cut        0\n",
      "color      0\n",
      "clarity    0\n",
      "depth      0\n",
      "table      0\n",
      "price      0\n",
      "x          0\n",
      "y          0\n",
      "z          0\n",
      "dtype: int64\n"
     ]
    }
   ],
   "source": [
    "# Let's check for missing values in our dataset.\n",
    "print(df.isnull().sum())"
   ]
  },
  {
   "cell_type": "code",
   "execution_count": 60,
   "id": "34983a1b",
   "metadata": {},
   "outputs": [],
   "source": [
    "# Let's Encode the category column\n",
    "# Initialize the LabelEncoder\n",
    "le = LabelEncoder()\n",
    "\n",
    "# List of categorical columns to encode\n",
    "categorical_columns = ['cut', 'color', 'clarity']\n",
    "\n",
    "# Encode each categorical column\n",
    "for column in categorical_columns:\n",
    "    df[column] = le.fit_transform(df[column])"
   ]
  },
  {
   "cell_type": "code",
   "execution_count": 61,
   "id": "c02b014a",
   "metadata": {},
   "outputs": [
    {
     "name": "stdout",
     "output_type": "stream",
     "text": [
      "<class 'pandas.core.frame.DataFrame'>\n",
      "RangeIndex: 53940 entries, 0 to 53939\n",
      "Data columns (total 10 columns):\n",
      " #   Column   Non-Null Count  Dtype  \n",
      "---  ------   --------------  -----  \n",
      " 0   carat    53940 non-null  float64\n",
      " 1   cut      53940 non-null  int64  \n",
      " 2   color    53940 non-null  int64  \n",
      " 3   clarity  53940 non-null  int64  \n",
      " 4   depth    53940 non-null  float64\n",
      " 5   table    53940 non-null  float64\n",
      " 6   price    53940 non-null  int64  \n",
      " 7   x        53940 non-null  float64\n",
      " 8   y        53940 non-null  float64\n",
      " 9   z        53940 non-null  float64\n",
      "dtypes: float64(6), int64(4)\n",
      "memory usage: 4.1 MB\n"
     ]
    }
   ],
   "source": [
    "# Let's again get the info our dataset\n",
    "df.info()"
   ]
  },
  {
   "cell_type": "code",
   "execution_count": 62,
   "id": "8e9ef5fa",
   "metadata": {},
   "outputs": [],
   "source": [
    "# Calculate Q1 (25th percentile) and Q3 (75th percentile)\n",
    "Q1 = df.quantile(0.25)\n",
    "Q3 = df.quantile(0.75)\n",
    "\n",
    "# Calculate the IQR\n",
    "IQR = Q3 - Q1\n",
    "\n",
    "# Define the bounds for outliers\n",
    "lower_bound = Q1 - 1.5 * IQR\n",
    "upper_bound = Q3 + 1.5 * IQR\n",
    "\n",
    "# Remove outliers\n",
    "filtered_df = df[~((df < lower_bound) | (df > upper_bound)).any(axis=1)]"
   ]
  },
  {
   "cell_type": "code",
   "execution_count": 63,
   "id": "d9a8448e",
   "metadata": {},
   "outputs": [
    {
     "name": "stdout",
     "output_type": "stream",
     "text": [
      "Mean Squared Error: 0.003792229747276556\n",
      "Root Mean Squared Error: 0.06158108270627073\n",
      "R-squared: 0.9332767724818729\n"
     ]
    }
   ],
   "source": [
    "\n",
    "# Define features and target variable\n",
    "X = filtered_df.drop('price', axis=1)\n",
    "y = filtered_df['price'].values.reshape(-1, 1)  # Reshape y to be 2D\n",
    "\n",
    "# Initialize the MinMaxScaler\n",
    "scaler = MinMaxScaler()\n",
    "\n",
    "# Scale the feature columns\n",
    "X_scaled = scaler.fit_transform(X)\n",
    "y_scaled = scaler.fit_transform(y)\n",
    "\n",
    "# Split the dataset into training and testing sets\n",
    "X_train, X_test, y_train, y_test = train_test_split(X_scaled, y_scaled, test_size=0.2, random_state=42)\n",
    "\n",
    "# Initialize and fit the Support Vector Regressor\n",
    "svr = SVR()\n",
    "svr.fit(X_train, y_train.ravel())  # Flatten y_train for fitting\n",
    "\n",
    "# Make predictions\n",
    "y_pred = svr.predict(X_test)\n",
    "\n",
    "# Calculate Mean Squared Error\n",
    "mse = mean_squared_error(y_test, y_pred)\n",
    "\n",
    "# Calculate Root Mean Squared Error\n",
    "rmse = np.sqrt(mse)\n",
    "\n",
    "# Calculate R-squared\n",
    "r_squared = r2_score(y_test, y_pred)\n",
    "\n",
    "# Print the results\n",
    "print(f'Mean Squared Error: {mse}')\n",
    "print(f'Root Mean Squared Error: {rmse}')\n",
    "print(f'R-squared: {r_squared}')"
   ]
  },
  {
   "cell_type": "code",
   "execution_count": 64,
   "id": "d3215287",
   "metadata": {},
   "outputs": [
    {
     "name": "stdout",
     "output_type": "stream",
     "text": [
      "     Actual  Predicted\n",
      "0  0.484901   0.600045\n",
      "1  0.542269   0.624312\n",
      "2  0.207407   0.258712\n",
      "3  0.019209   0.098672\n",
      "4  0.660898   0.486640\n",
      "5  0.067232   0.101591\n",
      "6  0.145020   0.217204\n",
      "7  0.036082   0.084691\n",
      "8  0.443887   0.443683\n",
      "9  0.027256   0.094931\n"
     ]
    }
   ],
   "source": [
    "# Create a DataFrame to compare actual vs predicted values\n",
    "results = pd.DataFrame({\n",
    "    'Actual': y_test.flatten(),  # Flatten to 1D for display\n",
    "    'Predicted': y_pred\n",
    "})\n",
    "\n",
    "# Print the results\n",
    "print(results.head(10))  # Display the first 10 rows"
   ]
  },
  {
   "cell_type": "code",
   "execution_count": 65,
   "id": "92f24374",
   "metadata": {},
   "outputs": [
    {
     "data": {
      "image/png": "[encoded data removed]",
      "text/plain": [
       "<Figure size 1000x600 with 1 Axes>"
      ]
     },
     "metadata": {},
     "output_type": "display_data"
    }
   ],
   "source": [
    "\n",
    "\n",
    "# Plot actual vs predicted values\n",
    "plt.figure(figsize=(10, 6))\n",
    "plt.scatter(y_test, y_pred, color='blue', label='Predicted vs Actual')\n",
    "plt.plot([y_test.min(), y_test.max()], [y_test.min(), y_test.max()], color='red', linestyle='--', label='Perfect Prediction')\n",
    "plt.xlabel('Actual Values')\n",
    "plt.ylabel('Predicted Values')\n",
    "plt.title('Actual vs Predicted Prices')\n",
    "plt.legend()\n",
    "plt.grid()\n",
    "plt.show()"
   ]
  },
  {
   "cell_type": "markdown",
   "id": "11ea4bfe",
   "metadata": {},
   "source": [
    "# SVM as Classifer"
   ]
  },
  {
   "cell_type": "code",
   "execution_count": 77,
   "id": "f2dc57cd",
   "metadata": {},
   "outputs": [],
   "source": [
    "# Importing Libraries\n",
    "import pandas as pd\n",
    "import seaborn as sns\n",
    "import numpy as np\n",
    "import matplotlib.pyplot as plt\n",
    "from sklearn.preprocessing import MinMaxScaler, LabelEncoder, OneHotEncoder\n",
    "from sklearn.compose import ColumnTransformer\n",
    "from sklearn.pipeline import Pipeline\n",
    "from sklearn.svm import SVC\n",
    "from sklearn.model_selection import train_test_split\n",
    "from sklearn.metrics import confusion_matrix,classification_report"
   ]
  },
  {
   "cell_type": "code",
   "execution_count": 67,
   "id": "22638137",
   "metadata": {},
   "outputs": [
    {
     "name": "stdout",
     "output_type": "stream",
     "text": [
      "  species     island  bill_length_mm  bill_depth_mm  flipper_length_mm  \\\n",
      "0  Adelie  Torgersen            39.1           18.7              181.0   \n",
      "1  Adelie  Torgersen            39.5           17.4              186.0   \n",
      "2  Adelie  Torgersen            40.3           18.0              195.0   \n",
      "3  Adelie  Torgersen             NaN            NaN                NaN   \n",
      "4  Adelie  Torgersen            36.7           19.3              193.0   \n",
      "\n",
      "   body_mass_g     sex  \n",
      "0       3750.0    Male  \n",
      "1       3800.0  Female  \n",
      "2       3250.0  Female  \n",
      "3          NaN     NaN  \n",
      "4       3450.0  Female  \n"
     ]
    }
   ],
   "source": [
    "# Load Dataset\n",
    "df = sns.load_dataset(\"penguins\")\n",
    "# Let's have a look on the top 5 rows of our dataset\n",
    "print(df.head())"
   ]
  },
  {
   "cell_type": "code",
   "execution_count": 68,
   "id": "a739ab17",
   "metadata": {},
   "outputs": [
    {
     "data": {
      "text/plain": [
       "Index(['species', 'island', 'bill_length_mm', 'bill_depth_mm',\n",
       "       'flipper_length_mm', 'body_mass_g', 'sex'],\n",
       "      dtype='object')"
      ]
     },
     "execution_count": 68,
     "metadata": {},
     "output_type": "execute_result"
    }
   ],
   "source": [
    "# Let's check the name of columns\n",
    "df.columns"
   ]
  },
  {
   "cell_type": "code",
   "execution_count": 69,
   "id": "9de9b4ab",
   "metadata": {},
   "outputs": [
    {
     "data": {
      "text/plain": [
       "(344, 7)"
      ]
     },
     "execution_count": 69,
     "metadata": {},
     "output_type": "execute_result"
    }
   ],
   "source": [
    "# Shape of columns\n",
    "df.shape"
   ]
  },
  {
   "cell_type": "code",
   "execution_count": 70,
   "id": "3c4b74cf",
   "metadata": {},
   "outputs": [
    {
     "name": "stdout",
     "output_type": "stream",
     "text": [
      "<class 'pandas.core.frame.DataFrame'>\n",
      "RangeIndex: 344 entries, 0 to 343\n",
      "Data columns (total 7 columns):\n",
      " #   Column             Non-Null Count  Dtype  \n",
      "---  ------             --------------  -----  \n",
      " 0   species            344 non-null    object \n",
      " 1   island             344 non-null    object \n",
      " 2   bill_length_mm     342 non-null    float64\n",
      " 3   bill_depth_mm      342 non-null    float64\n",
      " 4   flipper_length_mm  342 non-null    float64\n",
      " 5   body_mass_g        342 non-null    float64\n",
      " 6   sex                333 non-null    object \n",
      "dtypes: float64(4), object(3)\n",
      "memory usage: 18.9+ KB\n"
     ]
    }
   ],
   "source": [
    "# Let's get the info of dataset\n",
    "df.info()"
   ]
  },
  {
   "cell_type": "code",
   "execution_count": 71,
   "id": "fe6d767d",
   "metadata": {},
   "outputs": [
    {
     "name": "stdout",
     "output_type": "stream",
     "text": [
      "species               0\n",
      "island                0\n",
      "bill_length_mm        2\n",
      "bill_depth_mm         2\n",
      "flipper_length_mm     2\n",
      "body_mass_g           2\n",
      "sex                  11\n",
      "dtype: int64\n"
     ]
    }
   ],
   "source": [
    "# Let's check for missing values in our dataset\n",
    "print(df.isnull().sum())"
   ]
  },
  {
   "cell_type": "code",
   "execution_count": 72,
   "id": "6cb1fd98",
   "metadata": {},
   "outputs": [
    {
     "data": {
      "application/vnd.microsoft.datawrangler.viewer.v0+json": {
       "columns": [
        {
         "name": "index",
         "rawType": "object",
         "type": "string"
        },
        {
         "name": "0",
         "rawType": "float64",
         "type": "float"
        }
       ],
       "ref": "4686f33c-b115-4002-97df-00a1755a8ac8",
       "rows": [
        [
         "species",
         "0.0"
        ],
        [
         "island",
         "0.0"
        ],
        [
         "bill_length_mm",
         "0.5813953488372093"
        ],
        [
         "bill_depth_mm",
         "0.5813953488372093"
        ],
        [
         "flipper_length_mm",
         "0.5813953488372093"
        ],
        [
         "body_mass_g",
         "0.5813953488372093"
        ],
        [
         "sex",
         "3.1976744186046515"
        ]
       ],
       "shape": {
        "columns": 1,
        "rows": 7
       }
      },
      "text/plain": [
       "species              0.000000\n",
       "island               0.000000\n",
       "bill_length_mm       0.581395\n",
       "bill_depth_mm        0.581395\n",
       "flipper_length_mm    0.581395\n",
       "body_mass_g          0.581395\n",
       "sex                  3.197674\n",
       "dtype: float64"
      ]
     },
     "execution_count": 72,
     "metadata": {},
     "output_type": "execute_result"
    }
   ],
   "source": [
    "# Let's check the percentage of missing values in our dataset\n",
    "# Let's check for missing values in our dataset\n",
    "df.isnull().sum() / len(df) * 100\n"
   ]
  },
  {
   "cell_type": "code",
   "execution_count": 73,
   "id": "d63d5b78",
   "metadata": {},
   "outputs": [
    {
     "data": {
      "application/vnd.microsoft.datawrangler.viewer.v0+json": {
       "columns": [
        {
         "name": "index",
         "rawType": "object",
         "type": "string"
        },
        {
         "name": "0",
         "rawType": "int64",
         "type": "integer"
        }
       ],
       "ref": "70a3f737-4629-4a08-bbc5-a77002ec29fd",
       "rows": [
        [
         "species",
         "0"
        ],
        [
         "island",
         "0"
        ],
        [
         "bill_length_mm",
         "0"
        ],
        [
         "bill_depth_mm",
         "0"
        ],
        [
         "flipper_length_mm",
         "0"
        ],
        [
         "body_mass_g",
         "0"
        ],
        [
         "sex",
         "0"
        ]
       ],
       "shape": {
        "columns": 1,
        "rows": 7
       }
      },
      "text/plain": [
       "species              0\n",
       "island               0\n",
       "bill_length_mm       0\n",
       "bill_depth_mm        0\n",
       "flipper_length_mm    0\n",
       "body_mass_g          0\n",
       "sex                  0\n",
       "dtype: int64"
      ]
     },
     "execution_count": 73,
     "metadata": {},
     "output_type": "execute_result"
    }
   ],
   "source": [
    "# Let's fill the missing values\n",
    "df[\"bill_depth_mm\"] = df[\"bill_depth_mm\"].fillna(df[\"bill_depth_mm\"].mean())\n",
    "df[\"bill_length_mm\"] = df[\"bill_length_mm\"].fillna(df[\"bill_length_mm\"].mean())\n",
    "df[\"flipper_length_mm\"] = df[\"flipper_length_mm\"].fillna(df[\"flipper_length_mm\"].mean())\n",
    "df[\"body_mass_g\"] = df[\"body_mass_g\"].fillna(df[\"body_mass_g\"].mean())\n",
    "df[\"sex\"] = df[\"sex\"].fillna(df[\"sex\"].mode()[0])\n",
    "# Let's again check for missing values\n",
    "df.isnull().sum()"
   ]
  },
  {
   "cell_type": "code",
   "execution_count": 74,
   "id": "6bcd4f4e",
   "metadata": {},
   "outputs": [
    {
     "name": "stdout",
     "output_type": "stream",
     "text": [
      "['Adelie' 'Chinstrap' 'Gentoo']\n",
      "species\n",
      "Adelie       152\n",
      "Gentoo       124\n",
      "Chinstrap     68\n",
      "Name: count, dtype: int64\n"
     ]
    }
   ],
   "source": [
    "# Let's check the unique and number of uniques values\n",
    "print(df[\"species\"].unique())\n",
    "print(df[\"species\"].value_counts())"
   ]
  },
  {
   "cell_type": "code",
   "execution_count": 78,
   "id": "5c60d467",
   "metadata": {},
   "outputs": [
    {
     "name": "stdout",
     "output_type": "stream",
     "text": [
      "Classification Report:\n",
      "              precision    recall  f1-score   support\n",
      "\n",
      "           0       1.00      1.00      1.00        32\n",
      "           1       1.00      1.00      1.00        16\n",
      "           2       1.00      1.00      1.00        21\n",
      "\n",
      "    accuracy                           1.00        69\n",
      "   macro avg       1.00      1.00      1.00        69\n",
      "weighted avg       1.00      1.00      1.00        69\n",
      "\n",
      "Confusion Matrix:\n",
      "[[32  0  0]\n",
      " [ 0 16  0]\n",
      " [ 0  0 21]]\n"
     ]
    }
   ],
   "source": [
    "# Define features and target variable\n",
    "X = df.drop('species', axis=1)\n",
    "y = df['species']\n",
    "\n",
    "# Initialize the LabelEncoder for the target variable\n",
    "label_encoder = LabelEncoder()\n",
    "y_encoded = label_encoder.fit_transform(y)  # Encode the categorical labels\n",
    "\n",
    "# Identify categorical columns to encode\n",
    "categorical_cols = X.select_dtypes(include=['object']).columns\n",
    "\n",
    "# Create a ColumnTransformer to handle categorical features\n",
    "preprocessor = ColumnTransformer(\n",
    "    transformers=[\n",
    "        ('cat', OneHotEncoder(), categorical_cols)  # One-hot encode categorical features\n",
    "    ],\n",
    "    remainder='passthrough'  # Keep other columns as they are\n",
    ")\n",
    "\n",
    "# Create a pipeline that first transforms the features and then scales them\n",
    "pipeline = Pipeline(steps=[\n",
    "    ('preprocessor', preprocessor),\n",
    "    ('scaler', MinMaxScaler())\n",
    "])\n",
    "\n",
    "# Fit and transform the features\n",
    "X_scaled = pipeline.fit_transform(X)\n",
    "\n",
    "# Split the dataset into training and testing sets\n",
    "X_train, X_test, y_train, y_test = train_test_split(X_scaled, y_encoded, test_size=0.2, random_state=42)\n",
    "\n",
    "# Initialize and fit the Support Vector Classifier\n",
    "svr = SVC()\n",
    "svr.fit(X_train, y_train)\n",
    "\n",
    "# Make predictions\n",
    "y_pred = svr.predict(X_test)\n",
    "\n",
    "# Print classification report and confusion matrix\n",
    "print(\"Classification Report:\")\n",
    "print(classification_report(y_test, y_pred))\n",
    "\n",
    "print(\"Confusion Matrix:\")\n",
    "print(confusion_matrix(y_test, y_pred))"
   ]
  },
  {
   "cell_type": "code",
   "execution_count": 79,
   "id": "8eb48789",
   "metadata": {},
   "outputs": [
    {
     "name": "stdout",
     "output_type": "stream",
     "text": [
      "      Actual  Predicted\n",
      "0  Chinstrap  Chinstrap\n",
      "1  Chinstrap  Chinstrap\n",
      "2     Gentoo     Gentoo\n",
      "3  Chinstrap  Chinstrap\n",
      "4     Gentoo     Gentoo\n",
      "5     Gentoo     Gentoo\n",
      "6     Gentoo     Gentoo\n",
      "7     Gentoo     Gentoo\n",
      "8     Adelie     Adelie\n",
      "9     Gentoo     Gentoo\n"
     ]
    }
   ],
   "source": [
    "# Create a DataFrame for actual vs predicted values\n",
    "results = pd.DataFrame({\n",
    "    'Actual': label_encoder.inverse_transform(y_test),  # Decode back to original labels\n",
    "    'Predicted': label_encoder.inverse_transform(y_pred)  # Decode predicted labels\n",
    "})\n",
    "\n",
    "# Print the results\n",
    "print(results.head(10))  # Display the first 10 rows"
   ]
  },
  {
   "cell_type": "code",
   "execution_count": 82,
   "id": "b151a60a",
   "metadata": {},
   "outputs": [
    {
     "data": {
      "image/png": "[encoded data removed]",
      "text/plain": [
       "<Figure size 1200x600 with 1 Axes>"
      ]
     },
     "metadata": {},
     "output_type": "display_data"
    }
   ],
   "source": [
    "\n",
    "# Melt the DataFrame for easier plotting\n",
    "results_melted = results.melt(var_name='Type', value_name='Species')\n",
    "\n",
    "# Set up the plot\n",
    "plt.figure(figsize=(12, 6))\n",
    "\n",
    "# Create a count plot with a dark color palette\n",
    "sns.countplot(data=results_melted, x='Species', hue='Type', palette='dark:blue_r')\n",
    "\n",
    "# Adding labels and title\n",
    "plt.xlabel('Species')\n",
    "plt.ylabel('Count')\n",
    "plt.title('Count of Actual vs Predicted Species')\n",
    "plt.xticks(rotation=45)\n",
    "plt.legend(title='Type')\n",
    "\n",
    "# Show the plot\n",
    "plt.tight_layout()\n",
    "plt.show()"
   ]
  }
 ],
 "metadata": {
  "kernelspec": {
   "display_name": "pandas_pratice",
   "language": "python",
   "name": "python3"
  },
  "language_info": {
   "codemirror_mode": {
    "name": "ipython",
    "version": 3
   },
   "file_extension": ".py",
   "mimetype": "text/x-python",
   "name": "python",
   "nbconvert_exporter": "python",
   "pygments_lexer": "ipython3",
   "version": "3.13.0"
  }
 },
 "nbformat": 4,
 "nbformat_minor": 5
}
