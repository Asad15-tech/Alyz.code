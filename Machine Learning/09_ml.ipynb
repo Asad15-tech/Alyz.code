{
 "cells": [
  {
   "cell_type": "markdown",
   "id": "c107f03d",
   "metadata": {},
   "source": [
    "# Machine Learning"
   ]
  },
  {
   "cell_type": "markdown",
   "id": "85558396",
   "metadata": {},
   "source": [
    "## `Note`: This model is not well trained.This model is just for practicing purpose."
   ]
  },
  {
   "cell_type": "markdown",
   "id": "cb98b6e0",
   "metadata": {},
   "source": [
    "## Model that Predicts the Fare on the base of Age and Class of Passangers."
   ]
  },
  {
   "cell_type": "code",
   "execution_count": 162,
   "id": "70788045",
   "metadata": {},
   "outputs": [],
   "source": [
    "# Importing Libraries\n",
    "import pandas as pd\n",
    "import numpy as np\n",
    "import seaborn as sns\n",
    "import matplotlib.pyplot as plt\n",
    "from sklearn.model_selection import train_test_split\n",
    "from sklearn.linear_model import LinearRegression\n",
    "from sklearn.preprocessing import StandardScaler, MinMaxScaler, RobustScaler\n"
   ]
  },
  {
   "cell_type": "code",
   "execution_count": 163,
   "id": "273d459e",
   "metadata": {},
   "outputs": [
    {
     "name": "stdout",
     "output_type": "stream",
     "text": [
      "   survived  pclass     sex   age  sibsp  parch     fare embarked  class  \\\n",
      "0         0       3    male  22.0      1      0   7.2500        S  Third   \n",
      "1         1       1  female  38.0      1      0  71.2833        C  First   \n",
      "2         1       3  female  26.0      0      0   7.9250        S  Third   \n",
      "3         1       1  female  35.0      1      0  53.1000        S  First   \n",
      "4         0       3    male  35.0      0      0   8.0500        S  Third   \n",
      "\n",
      "     who  adult_male deck  embark_town alive  alone  \n",
      "0    man        True  NaN  Southampton    no  False  \n",
      "1  woman       False    C    Cherbourg   yes  False  \n",
      "2  woman       False  NaN  Southampton   yes   True  \n",
      "3  woman       False    C  Southampton   yes  False  \n",
      "4    man        True  NaN  Southampton    no   True  \n"
     ]
    }
   ],
   "source": [
    "# Display the maximumn number of rows in the DataFrame\n",
    "pd.set_option('display.max_rows', None)\n",
    "# Display the maximum number of columns in the DataFrame\n",
    "pd.set_option('display.max_columns', None)\n",
    "# Loading the Dataset\n",
    "df = sns.load_dataset(\"titanic\")\n",
    "# Displaying the first few rows of the dataset\n",
    "print(df.head())"
   ]
  },
  {
   "cell_type": "code",
   "execution_count": 164,
   "id": "15187826",
   "metadata": {},
   "outputs": [
    {
     "name": "stdout",
     "output_type": "stream",
     "text": [
      "\n",
      "Missing values in each column:\n",
      "deck           688\n",
      "age            177\n",
      "embarked         2\n",
      "embark_town      2\n",
      "sex              0\n",
      "pclass           0\n",
      "survived         0\n",
      "fare             0\n",
      "parch            0\n",
      "sibsp            0\n",
      "class            0\n",
      "adult_male       0\n",
      "who              0\n",
      "alive            0\n",
      "alone            0\n",
      "dtype: int64\n"
     ]
    }
   ],
   "source": [
    "# Let's check for missing values in the dataset\n",
    "print(\"\\nMissing values in each column:\")\n",
    "print(df.isnull().sum().sort_values(ascending=False))\n"
   ]
  },
  {
   "cell_type": "code",
   "execution_count": 165,
   "id": "7016471e",
   "metadata": {},
   "outputs": [
    {
     "name": "stdout",
     "output_type": "stream",
     "text": [
      "\n",
      "Percentage of missing values in each column:\n",
      "deck           77.216611\n",
      "age            19.865320\n",
      "embarked        0.224467\n",
      "embark_town     0.224467\n",
      "sex             0.000000\n",
      "pclass          0.000000\n",
      "survived        0.000000\n",
      "fare            0.000000\n",
      "parch           0.000000\n",
      "sibsp           0.000000\n",
      "class           0.000000\n",
      "adult_male      0.000000\n",
      "who             0.000000\n",
      "alive           0.000000\n",
      "alone           0.000000\n",
      "dtype: float64\n"
     ]
    }
   ],
   "source": [
    "# Let's check the percentage of missing values in each column\n",
    "missing_percentage = df.isnull().mean() * 100\n",
    "print(\"\\nPercentage of missing values in each column:\")\n",
    "print(missing_percentage.sort_values(ascending=False))"
   ]
  },
  {
   "cell_type": "code",
   "execution_count": 166,
   "id": "bec175cc",
   "metadata": {},
   "outputs": [],
   "source": [
    "# Fill missing values in 'age' with the mean age\n",
    "if df['age'].isnull().any():\n",
    "    df['age'] = df['age'].fillna(df['age'].mean())\n",
    "\n",
    "# Fill missing values in 'embarked' with the mode\n",
    "if df['embarked'].isnull().any():\n",
    "    df['embarked'] = df['embarked'].fillna(df['embarked'].mode()[0])\n",
    "\n",
    "# Drop the 'deck' column if it exists\n",
    "if 'deck' in df.columns:\n",
    "    df = df.drop(columns=['deck'])"
   ]
  },
  {
   "cell_type": "code",
   "execution_count": 167,
   "id": "b40bdde8",
   "metadata": {},
   "outputs": [
    {
     "name": "stdout",
     "output_type": "stream",
     "text": [
      "\n",
      "Percentage of missing values in each column:\n",
      "embark_town    0.224467\n",
      "survived       0.000000\n",
      "sex            0.000000\n",
      "age            0.000000\n",
      "sibsp          0.000000\n",
      "pclass         0.000000\n",
      "parch          0.000000\n",
      "fare           0.000000\n",
      "class          0.000000\n",
      "embarked       0.000000\n",
      "who            0.000000\n",
      "adult_male     0.000000\n",
      "alive          0.000000\n",
      "alone          0.000000\n",
      "dtype: float64\n"
     ]
    }
   ],
   "source": [
    "# Let's again check the missing values in the dataset\n",
    "# Let's check the percentage of missing values in each column\n",
    "missing_percentage = df.isnull().mean() * 100\n",
    "print(\"\\nPercentage of missing values in each column:\")\n",
    "print(missing_percentage.sort_values(ascending=False))"
   ]
  },
  {
   "cell_type": "code",
   "execution_count": 168,
   "id": "935c6e8c",
   "metadata": {},
   "outputs": [
    {
     "name": "stdout",
     "output_type": "stream",
     "text": [
      "   survived  pclass     sex   age  sibsp  parch     fare embarked  class  \\\n",
      "0         0       3    male  22.0      1      0   7.2500        S  Third   \n",
      "1         1       1  female  38.0      1      0  71.2833        C  First   \n",
      "2         1       3  female  26.0      0      0   7.9250        S  Third   \n",
      "3         1       1  female  35.0      1      0  53.1000        S  First   \n",
      "4         0       3    male  35.0      0      0   8.0500        S  Third   \n",
      "\n",
      "     who  adult_male  embark_town alive  alone  \n",
      "0    man        True  Southampton    no  False  \n",
      "1  woman       False    Cherbourg   yes  False  \n",
      "2  woman       False  Southampton   yes   True  \n",
      "3  woman       False  Southampton   yes  False  \n",
      "4    man        True  Southampton    no   True  \n"
     ]
    }
   ],
   "source": [
    "print(df.head())"
   ]
  },
  {
   "cell_type": "code",
   "execution_count": 176,
   "id": "ce6f8cab",
   "metadata": {},
   "outputs": [
    {
     "name": "stdout",
     "output_type": "stream",
     "text": [
      "\n",
      "Dataset after encoding categorical variables:\n",
      "   survived  pclass  sex       age  sibsp  parch      fare  embarked  class  \\\n",
      "0         0       3    1 -0.592481      1      0 -0.502445         2  Third   \n",
      "1         1       1    0  0.638789      1      0  0.786845         0  First   \n",
      "2         1       3    0 -0.284663      0      0 -0.488854         2  Third   \n",
      "3         1       1    0  0.407926      1      0  0.420730         2  First   \n",
      "4         0       3    1  0.407926      0      0 -0.486337         2  Third   \n",
      "\n",
      "   who  adult_male  embark_town alive  alone  \n",
      "0    1        True  Southampton    no  False  \n",
      "1    2       False    Cherbourg   yes  False  \n",
      "2    2       False  Southampton   yes   True  \n",
      "3    2       False  Southampton   yes  False  \n",
      "4    1        True  Southampton    no   True  \n"
     ]
    }
   ],
   "source": [
    "# Let's Encode the categorical variables using sklearn's LabelEncoder\n",
    "from sklearn.preprocessing import LabelEncoder\n",
    "# Create a LabelEncoder object\n",
    "label_encoder = LabelEncoder()\n",
    "# Encode the sex, embarked, parch and sibsp columns\n",
    "df['sex'] = label_encoder.fit_transform(df['sex'])\n",
    "df['embarked'] = label_encoder.fit_transform(df['embarked'])\n",
    "df['parch'] = label_encoder.fit_transform(df['parch'])\n",
    "df['sibsp'] = label_encoder.fit_transform(df['sibsp'])\n",
    "df[\"survived\"] = label_encoder.fit_transform(df[\"survived\"])\n",
    "df[\"who\"] = label_encoder.fit_transform(df[\"who\"])\n",
    "# Display the first few rows of the dataset after encoding\n",
    "print(\"\\nDataset after encoding categorical variables:\")\n",
    "print(df.head())\n"
   ]
  },
  {
   "cell_type": "code",
   "execution_count": 170,
   "id": "0e2eadf0",
   "metadata": {},
   "outputs": [
    {
     "name": "stdout",
     "output_type": "stream",
     "text": [
      "\n",
      "Dataset after scaling numerical features:\n",
      "   survived  pclass  sex       age  sibsp  parch      fare  embarked  class  \\\n",
      "0         0       3    1 -0.592481      1      0 -0.502445         2  Third   \n",
      "1         1       1    0  0.638789      1      0  0.786845         0  First   \n",
      "2         1       3    0 -0.284663      0      0 -0.488854         2  Third   \n",
      "3         1       1    0  0.407926      1      0  0.420730         2  First   \n",
      "4         0       3    1  0.407926      0      0 -0.486337         2  Third   \n",
      "\n",
      "     who  adult_male  embark_town alive  alone  \n",
      "0    man        True  Southampton    no  False  \n",
      "1  woman       False    Cherbourg   yes  False  \n",
      "2  woman       False  Southampton   yes   True  \n",
      "3  woman       False  Southampton   yes  False  \n",
      "4    man        True  Southampton    no   True  \n"
     ]
    }
   ],
   "source": [
    "# Let's Scaling the numerical features using StandaradScaler.\n",
    "scaler = StandardScaler()\n",
    "# Select numerical columns to scale\n",
    "numerical_cols = ['age', 'fare']\n",
    "# Scale the numerical columns\n",
    "df[numerical_cols] = scaler.fit_transform(df[numerical_cols])\n",
    "# Display the first few rows of the dataset after scaling\n",
    "print(\"\\nDataset after scaling numerical features:\")\n",
    "print(df.head())"
   ]
  },
  {
   "cell_type": "code",
   "execution_count": 160,
   "id": "491edc75",
   "metadata": {},
   "outputs": [
    {
     "data": {
      "text/plain": [
       "Index(['survived', 'pclass', 'sex', 'age', 'sibsp', 'parch', 'fare',\n",
       "       'embarked', 'class', 'who', 'adult_male', 'embark_town', 'alive',\n",
       "       'alone'],\n",
       "      dtype='object')"
      ]
     },
     "execution_count": 160,
     "metadata": {},
     "output_type": "execute_result"
    }
   ],
   "source": [
    "df.columns"
   ]
  },
  {
   "cell_type": "code",
   "execution_count": 182,
   "id": "9d94be67",
   "metadata": {},
   "outputs": [
    {
     "name": "stdout",
     "output_type": "stream",
     "text": [
      "\n",
      "First few predictions:\n",
      "[ 0.16566118 -0.05116243 -0.67542841  0.02015585 -0.38838154]\n",
      "\n",
      "Model Evaluation Metrics:\n",
      "Mean Squared Error: 0.37477641972039377\n",
      "R-squared Score: 0.4025912503202608\n",
      "\n",
      "First few actual vs predicted values:\n",
      "       Actual  Predicted\n",
      "709 -0.341452   0.165661\n",
      "439 -0.437007  -0.051162\n",
      "840 -0.488854  -0.675428\n",
      "720  0.016023   0.020156\n",
      "39  -0.422074  -0.388382\n",
      "\n",
      "Predicted fare for a 50 years old female passenger: [-2.06165882]\n"
     ]
    },
    {
     "data": {
      "image/png": "[encoded data removed]",
      "text/plain": [
       "<Figure size 1000x600 with 1 Axes>"
      ]
     },
     "metadata": {},
     "output_type": "display_data"
    }
   ],
   "source": [
    "# Let's Training and Testing the Dataset\n",
    "# Define the features and target variable\n",
    "X = df[[\"survived\",\"sex\", \"age\",\"pclass\", \"parch\", \"sibsp\", \"embarked\", \"who\"]]\n",
    "y = df[\"fare\"]\n",
    "\n",
    "# Split the dataset into training and testing sets\n",
    "X_train, X_test, y_train, y_test = train_test_split(X, y, test_size=0.2, random_state=42)\n",
    "\n",
    "# Fit a scaler only on 'age' column\n",
    "age_scaler = StandardScaler()\n",
    "X_train_scaled = X_train.copy()\n",
    "X_test_scaled = X_test.copy()\n",
    "X_train_scaled['age'] = age_scaler.fit_transform(X_train[['age']])\n",
    "X_test_scaled['age'] = age_scaler.transform(X_test[['age']])\n",
    "\n",
    "# Initialize the Linear Regression model\n",
    "model = LinearRegression()\n",
    "# Fit the model on the training data\n",
    "model.fit(X_train_scaled, y_train)\n",
    "# Predict the target variable on the test set\n",
    "y_pred = model.predict(X_test_scaled)\n",
    "# Display the first few predictions\n",
    "print(\"\\nFirst few predictions:\")\n",
    "print(y_pred[:5])\n",
    "# Let's Evaluate the Model\n",
    "from sklearn.metrics import mean_squared_error, r2_score\n",
    "# Calculate the Mean Squared Error\n",
    "mse = mean_squared_error(y_test, y_pred)\n",
    "mse = mean_squared_error(y_test, y_pred)\n",
    "# Calculate the R-squared score\n",
    "r2 = r2_score(y_test, y_pred)\n",
    "# Display the evaluation metrics\n",
    "print(\"\\nModel Evaluation Metrics:\")\n",
    "print(f\"Mean Squared Error: {mse}\")\n",
    "print(f\"R-squared Score: {r2}\")\n",
    "# Let's check the results of the model\n",
    "print(\"\\nFirst few actual vs predicted values:\")\n",
    "print(pd.DataFrame({\"Actual\": y_test, \"Predicted\": y_pred}).head())\n",
    "\n",
    "# Let's check the prediction of fare for 50 years old female passenger with 0 parch, 0 sibsp, and embarked at 'S'\n",
    "test_passenger = pd.DataFrame({\"survived\": [1], \"sex\": [1], \"age\": [50],\"pclass\":[1], \"parch\": [0], \"sibsp\": [0], \"embarked\": [1],\"who\": [2]})\n",
    "test_passenger['age'] = age_scaler.transform(test_passenger[['age']])  # Only scale 'age'\n",
    "\n",
    "# Predict the fare\n",
    "predicted_fare = model.predict(test_passenger)\n",
    "print(f\"\\nPredicted fare for a 50 years old female passenger: {predicted_fare}\")\n",
    "\n",
    "# Let's Visualize the Results\n",
    "plt.figure(figsize=(10, 6))\n",
    "sns.scatterplot(x=y_test, y=y_pred)\n",
    "plt.xlabel(\"Actual Fare\")\n",
    "plt.ylabel(\"Predicted Fare\")\n",
    "plt.title(\"Actual vs Predicted Fare\")\n",
    "plt.plot([y.min(), y.max()], [y.min(), y.max()], color='red', linestyle='--')\n",
    "plt.show()"
   ]
  }
 ],
 "metadata": {
  "kernelspec": {
   "display_name": "pandas_pratice",
   "language": "python",
   "name": "python3"
  },
  "language_info": {
   "codemirror_mode": {
    "name": "ipython",
    "version": 3
   },
   "file_extension": ".py",
   "mimetype": "text/x-python",
   "name": "python",
   "nbconvert_exporter": "python",
   "pygments_lexer": "ipython3",
   "version": "3.13.0"
  }
 },
 "nbformat": 4,
 "nbformat_minor": 5
}
