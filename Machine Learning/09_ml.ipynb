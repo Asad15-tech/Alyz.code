{
 "cells": [
  {
   "cell_type": "markdown",
   "id": "c107f03d",
   "metadata": {},
   "source": [
    "# Machine Learning"
   ]
  },
  {
   "cell_type": "markdown",
   "id": "85558396",
   "metadata": {},
   "source": [
    "## `Note`: This model is not well trained.This model is just for practicing purpose."
   ]
  },
  {
   "cell_type": "markdown",
   "id": "cb98b6e0",
   "metadata": {},
   "source": [
    "## Model that Predicts the Fare on the base of Age and Class of Passangers."
   ]
  },
  {
   "cell_type": "code",
   "execution_count": 1,
   "id": "70788045",
   "metadata": {},
   "outputs": [],
   "source": [
    "# Importing Libraries\n",
    "import pandas as pd\n",
    "import numpy as np\n",
    "import seaborn as sns\n",
    "import matplotlib.pyplot as plt\n",
    "from sklearn.model_selection import train_test_split\n",
    "from sklearn.linear_model import LinearRegression\n",
    "from sklearn.preprocessing import StandardScaler, MinMaxScaler, RobustScaler\n"
   ]
  },
  {
   "cell_type": "code",
   "execution_count": 2,
   "id": "273d459e",
   "metadata": {},
   "outputs": [
    {
     "name": "stdout",
     "output_type": "stream",
     "text": [
      "   survived  pclass     sex   age  sibsp  parch     fare embarked  class  \\\n",
      "0         0       3    male  22.0      1      0   7.2500        S  Third   \n",
      "1         1       1  female  38.0      1      0  71.2833        C  First   \n",
      "2         1       3  female  26.0      0      0   7.9250        S  Third   \n",
      "3         1       1  female  35.0      1      0  53.1000        S  First   \n",
      "4         0       3    male  35.0      0      0   8.0500        S  Third   \n",
      "\n",
      "     who  adult_male deck  embark_town alive  alone  \n",
      "0    man        True  NaN  Southampton    no  False  \n",
      "1  woman       False    C    Cherbourg   yes  False  \n",
      "2  woman       False  NaN  Southampton   yes   True  \n",
      "3  woman       False    C  Southampton   yes  False  \n",
      "4    man        True  NaN  Southampton    no   True  \n"
     ]
    }
   ],
   "source": [
    "# Display the maximumn number of rows in the DataFrame\n",
    "pd.set_option('display.max_rows', None)\n",
    "# Display the maximum number of columns in the DataFrame\n",
    "pd.set_option('display.max_columns', None)\n",
    "# Loading the Dataset\n",
    "df = sns.load_dataset(\"titanic\")\n",
    "# Displaying the first few rows of the dataset\n",
    "print(df.head())"
   ]
  },
  {
   "cell_type": "code",
   "execution_count": 3,
   "id": "15187826",
   "metadata": {},
   "outputs": [
    {
     "name": "stdout",
     "output_type": "stream",
     "text": [
      "\n",
      "Missing values in each column:\n",
      "deck           688\n",
      "age            177\n",
      "embarked         2\n",
      "embark_town      2\n",
      "sex              0\n",
      "pclass           0\n",
      "survived         0\n",
      "fare             0\n",
      "parch            0\n",
      "sibsp            0\n",
      "class            0\n",
      "adult_male       0\n",
      "who              0\n",
      "alive            0\n",
      "alone            0\n",
      "dtype: int64\n"
     ]
    }
   ],
   "source": [
    "# Let's check for missing values in the dataset\n",
    "print(\"\\nMissing values in each column:\")\n",
    "print(df.isnull().sum().sort_values(ascending=False))\n"
   ]
  },
  {
   "cell_type": "code",
   "execution_count": 4,
   "id": "7016471e",
   "metadata": {},
   "outputs": [
    {
     "name": "stdout",
     "output_type": "stream",
     "text": [
      "\n",
      "Percentage of missing values in each column:\n",
      "deck           77.216611\n",
      "age            19.865320\n",
      "embarked        0.224467\n",
      "embark_town     0.224467\n",
      "sex             0.000000\n",
      "pclass          0.000000\n",
      "survived        0.000000\n",
      "fare            0.000000\n",
      "parch           0.000000\n",
      "sibsp           0.000000\n",
      "class           0.000000\n",
      "adult_male      0.000000\n",
      "who             0.000000\n",
      "alive           0.000000\n",
      "alone           0.000000\n",
      "dtype: float64\n"
     ]
    }
   ],
   "source": [
    "# Let's check the percentage of missing values in each column\n",
    "missing_percentage = df.isnull().mean() * 100\n",
    "print(\"\\nPercentage of missing values in each column:\")\n",
    "print(missing_percentage.sort_values(ascending=False))"
   ]
  },
  {
   "cell_type": "code",
   "execution_count": 5,
   "id": "bec175cc",
   "metadata": {},
   "outputs": [],
   "source": [
    "# Fill missing values in 'age' with the mean age\n",
    "if df['age'].isnull().any():\n",
    "    df['age'] = df['age'].fillna(df['age'].mean())\n",
    "\n",
    "# Fill missing values in 'embarked' with the mode\n",
    "if df['embarked'].isnull().any():\n",
    "    df['embarked'] = df['embarked'].fillna(df['embarked'].mode()[0])\n",
    "\n",
    "# Drop the 'deck' column if it exists\n",
    "if 'deck' in df.columns:\n",
    "    df = df.drop(columns=['deck'])"
   ]
  },
  {
   "cell_type": "code",
   "execution_count": 6,
   "id": "b40bdde8",
   "metadata": {},
   "outputs": [
    {
     "name": "stdout",
     "output_type": "stream",
     "text": [
      "\n",
      "Percentage of missing values in each column:\n",
      "embark_town    0.224467\n",
      "survived       0.000000\n",
      "sex            0.000000\n",
      "age            0.000000\n",
      "sibsp          0.000000\n",
      "pclass         0.000000\n",
      "parch          0.000000\n",
      "fare           0.000000\n",
      "class          0.000000\n",
      "embarked       0.000000\n",
      "who            0.000000\n",
      "adult_male     0.000000\n",
      "alive          0.000000\n",
      "alone          0.000000\n",
      "dtype: float64\n"
     ]
    }
   ],
   "source": [
    "# Let's again check the missing values in the dataset\n",
    "# Let's check the percentage of missing values in each column\n",
    "missing_percentage = df.isnull().mean() * 100\n",
    "print(\"\\nPercentage of missing values in each column:\")\n",
    "print(missing_percentage.sort_values(ascending=False))"
   ]
  },
  {
   "cell_type": "code",
   "execution_count": 7,
   "id": "935c6e8c",
   "metadata": {},
   "outputs": [
    {
     "name": "stdout",
     "output_type": "stream",
     "text": [
      "   survived  pclass     sex   age  sibsp  parch     fare embarked  class  \\\n",
      "0         0       3    male  22.0      1      0   7.2500        S  Third   \n",
      "1         1       1  female  38.0      1      0  71.2833        C  First   \n",
      "2         1       3  female  26.0      0      0   7.9250        S  Third   \n",
      "3         1       1  female  35.0      1      0  53.1000        S  First   \n",
      "4         0       3    male  35.0      0      0   8.0500        S  Third   \n",
      "\n",
      "     who  adult_male  embark_town alive  alone  \n",
      "0    man        True  Southampton    no  False  \n",
      "1  woman       False    Cherbourg   yes  False  \n",
      "2  woman       False  Southampton   yes   True  \n",
      "3  woman       False  Southampton   yes  False  \n",
      "4    man        True  Southampton    no   True  \n"
     ]
    }
   ],
   "source": [
    "print(df.head())"
   ]
  },
  {
   "cell_type": "code",
   "execution_count": 14,
   "id": "fcb4d4d6",
   "metadata": {},
   "outputs": [
    {
     "data": {
      "application/vnd.microsoft.datawrangler.viewer.v0+json": {
       "columns": [
        {
         "name": "index",
         "rawType": "int64",
         "type": "integer"
        },
        {
         "name": "survived",
         "rawType": "int64",
         "type": "integer"
        },
        {
         "name": "pclass",
         "rawType": "int64",
         "type": "integer"
        },
        {
         "name": "sex",
         "rawType": "int64",
         "type": "integer"
        },
        {
         "name": "age",
         "rawType": "float64",
         "type": "float"
        },
        {
         "name": "sibsp",
         "rawType": "int64",
         "type": "integer"
        },
        {
         "name": "parch",
         "rawType": "int64",
         "type": "integer"
        },
        {
         "name": "fare",
         "rawType": "float64",
         "type": "float"
        },
        {
         "name": "embarked",
         "rawType": "int64",
         "type": "integer"
        },
        {
         "name": "class",
         "rawType": "category",
         "type": "unknown"
        },
        {
         "name": "who",
         "rawType": "int64",
         "type": "integer"
        },
        {
         "name": "adult_male",
         "rawType": "bool",
         "type": "boolean"
        },
        {
         "name": "embark_town",
         "rawType": "object",
         "type": "string"
        },
        {
         "name": "alive",
         "rawType": "object",
         "type": "string"
        },
        {
         "name": "alone",
         "rawType": "bool",
         "type": "boolean"
        }
       ],
       "ref": "400e5e3d-4486-4026-8283-ebd1788aeb2d",
       "rows": [
        [
         "0",
         "0",
         "3",
         "1",
         "-0.5924805998028931",
         "1",
         "0",
         "-0.5024451714361923",
         "2",
         "Third",
         "1",
         "True",
         "Southampton",
         "no",
         "False"
        ],
        [
         "2",
         "1",
         "3",
         "0",
         "-0.2846631968415396",
         "0",
         "0",
         "-0.4888542575852486",
         "2",
         "Third",
         "2",
         "False",
         "Southampton",
         "yes",
         "True"
        ],
        [
         "3",
         "1",
         "1",
         "0",
         "0.40792595982150565",
         "1",
         "0",
         "0.4207302360686478",
         "2",
         "First",
         "2",
         "False",
         "Southampton",
         "yes",
         "False"
        ],
        [
         "4",
         "0",
         "3",
         "1",
         "0.40792595982150565",
         "0",
         "0",
         "-0.4863374216869257",
         "2",
         "Third",
         "1",
         "True",
         "Southampton",
         "no",
         "True"
        ],
        [
         "5",
         "0",
         "3",
         "1",
         "0.0",
         "0",
         "0",
         "-0.47811642890864375",
         "1",
         "Third",
         "1",
         "True",
         "Queenstown",
         "no",
         "True"
        ]
       ],
       "shape": {
        "columns": 14,
        "rows": 5
       }
      },
      "text/html": [
       "<div>\n",
       "<style scoped>\n",
       "    .dataframe tbody tr th:only-of-type {\n",
       "        vertical-align: middle;\n",
       "    }\n",
       "\n",
       "    .dataframe tbody tr th {\n",
       "        vertical-align: top;\n",
       "    }\n",
       "\n",
       "    .dataframe thead th {\n",
       "        text-align: right;\n",
       "    }\n",
       "</style>\n",
       "<table border=\"1\" class=\"dataframe\">\n",
       "  <thead>\n",
       "    <tr style=\"text-align: right;\">\n",
       "      <th></th>\n",
       "      <th>survived</th>\n",
       "      <th>pclass</th>\n",
       "      <th>sex</th>\n",
       "      <th>age</th>\n",
       "      <th>sibsp</th>\n",
       "      <th>parch</th>\n",
       "      <th>fare</th>\n",
       "      <th>embarked</th>\n",
       "      <th>class</th>\n",
       "      <th>who</th>\n",
       "      <th>adult_male</th>\n",
       "      <th>embark_town</th>\n",
       "      <th>alive</th>\n",
       "      <th>alone</th>\n",
       "    </tr>\n",
       "  </thead>\n",
       "  <tbody>\n",
       "    <tr>\n",
       "      <th>0</th>\n",
       "      <td>0</td>\n",
       "      <td>3</td>\n",
       "      <td>1</td>\n",
       "      <td>-0.592481</td>\n",
       "      <td>1</td>\n",
       "      <td>0</td>\n",
       "      <td>-0.502445</td>\n",
       "      <td>2</td>\n",
       "      <td>Third</td>\n",
       "      <td>1</td>\n",
       "      <td>True</td>\n",
       "      <td>Southampton</td>\n",
       "      <td>no</td>\n",
       "      <td>False</td>\n",
       "    </tr>\n",
       "    <tr>\n",
       "      <th>2</th>\n",
       "      <td>1</td>\n",
       "      <td>3</td>\n",
       "      <td>0</td>\n",
       "      <td>-0.284663</td>\n",
       "      <td>0</td>\n",
       "      <td>0</td>\n",
       "      <td>-0.488854</td>\n",
       "      <td>2</td>\n",
       "      <td>Third</td>\n",
       "      <td>2</td>\n",
       "      <td>False</td>\n",
       "      <td>Southampton</td>\n",
       "      <td>yes</td>\n",
       "      <td>True</td>\n",
       "    </tr>\n",
       "    <tr>\n",
       "      <th>3</th>\n",
       "      <td>1</td>\n",
       "      <td>1</td>\n",
       "      <td>0</td>\n",
       "      <td>0.407926</td>\n",
       "      <td>1</td>\n",
       "      <td>0</td>\n",
       "      <td>0.420730</td>\n",
       "      <td>2</td>\n",
       "      <td>First</td>\n",
       "      <td>2</td>\n",
       "      <td>False</td>\n",
       "      <td>Southampton</td>\n",
       "      <td>yes</td>\n",
       "      <td>False</td>\n",
       "    </tr>\n",
       "    <tr>\n",
       "      <th>4</th>\n",
       "      <td>0</td>\n",
       "      <td>3</td>\n",
       "      <td>1</td>\n",
       "      <td>0.407926</td>\n",
       "      <td>0</td>\n",
       "      <td>0</td>\n",
       "      <td>-0.486337</td>\n",
       "      <td>2</td>\n",
       "      <td>Third</td>\n",
       "      <td>1</td>\n",
       "      <td>True</td>\n",
       "      <td>Southampton</td>\n",
       "      <td>no</td>\n",
       "      <td>True</td>\n",
       "    </tr>\n",
       "    <tr>\n",
       "      <th>5</th>\n",
       "      <td>0</td>\n",
       "      <td>3</td>\n",
       "      <td>1</td>\n",
       "      <td>0.000000</td>\n",
       "      <td>0</td>\n",
       "      <td>0</td>\n",
       "      <td>-0.478116</td>\n",
       "      <td>1</td>\n",
       "      <td>Third</td>\n",
       "      <td>1</td>\n",
       "      <td>True</td>\n",
       "      <td>Queenstown</td>\n",
       "      <td>no</td>\n",
       "      <td>True</td>\n",
       "    </tr>\n",
       "  </tbody>\n",
       "</table>\n",
       "</div>"
      ],
      "text/plain": [
       "   survived  pclass  sex       age  sibsp  parch      fare  embarked  class  \\\n",
       "0         0       3    1 -0.592481      1      0 -0.502445         2  Third   \n",
       "2         1       3    0 -0.284663      0      0 -0.488854         2  Third   \n",
       "3         1       1    0  0.407926      1      0  0.420730         2  First   \n",
       "4         0       3    1  0.407926      0      0 -0.486337         2  Third   \n",
       "5         0       3    1  0.000000      0      0 -0.478116         1  Third   \n",
       "\n",
       "   who  adult_male  embark_town alive  alone  \n",
       "0    1        True  Southampton    no  False  \n",
       "2    2       False  Southampton   yes   True  \n",
       "3    2       False  Southampton   yes  False  \n",
       "4    1        True  Southampton    no   True  \n",
       "5    1        True   Queenstown    no   True  "
      ]
     },
     "execution_count": 14,
     "metadata": {},
     "output_type": "execute_result"
    }
   ],
   "source": [
    "# Removing the outliers in the 'age' column using IQR method\n",
    "Q1 = df['age'].quantile(0.25)\n",
    "Q3 = df['age'].quantile(0.75)\n",
    "IQR = Q3 - Q1\n",
    "lower_bound = Q1 - 1.5 * IQR\n",
    "upper_bound = Q3 + 1.5 * IQR\n",
    "df = df[(df['age'] >= lower_bound) & (df['age'] <= upper_bound)]\n",
    "# Removing the outliers in the 'fare' column using IQR method\n",
    "Q1 = df['fare'].quantile(0.25)\n",
    "Q3 = df['fare'].quantile(0.75)\n",
    "IQR = Q3 - Q1\n",
    "lower_bound = Q1 - 1.5 * IQR\n",
    "upper_bound = Q3 + 1.5 * IQR\n",
    "df = df[(df['fare'] >= lower_bound) & (df['fare'] <= upper_bound)]\n",
    "# Displaying the first few rows of the dataset after cleaning\n",
    "df.head()"
   ]
  },
  {
   "cell_type": "code",
   "execution_count": null,
   "id": "ce6f8cab",
   "metadata": {},
   "outputs": [
    {
     "name": "stdout",
     "output_type": "stream",
     "text": [
      "\n",
      "Dataset after encoding categorical variables:\n",
      "   survived  pclass  sex       age  sibsp  parch      fare  embarked  class  \\\n",
      "0         0       3    1 -0.592481      1      0 -0.502445         2  Third   \n",
      "2         1       3    0 -0.284663      0      0 -0.488854         2  Third   \n",
      "3         1       1    0  0.407926      1      0  0.420730         2  First   \n",
      "4         0       3    1  0.407926      0      0 -0.486337         2  Third   \n",
      "5         0       3    1  0.000000      0      0 -0.478116         1  Third   \n",
      "\n",
      "   who  adult_male  embark_town alive  alone  \n",
      "0    1        True  Southampton    no  False  \n",
      "2    2       False  Southampton   yes   True  \n",
      "3    2       False  Southampton   yes  False  \n",
      "4    1        True  Southampton    no   True  \n",
      "5    1        True   Queenstown    no   True  \n"
     ]
    }
   ],
   "source": [
    "# Let's Encode the categorical variables using sklearn's LabelEncoder\n",
    "from sklearn.preprocessing import LabelEncoder\n",
    "# Create a LabelEncoder object\n",
    "label_encoder = LabelEncoder\n",
    "# Encode the sex, survived, embarked, parch, who and sibsp columns\n",
    "df['sex'] = label_encoder.fit_transform(df['sex'])\n",
    "df['embarked'] = label_encoder.fit_transform(df['embarked'])\n",
    "df['parch'] = label_encoder.fit_transform(df['parch'])\n",
    "df['sibsp'] = label_encoder.fit_transform(df['sibsp'])\n",
    "df[\"survived\"] = label_encoder.fit_transform(df[\"survived\"])\n",
    "df[\"who\"] = label_encoder.fit_transform(df[\"who\"])\n",
    "# Display the first few rows of the dataset after encoding\n",
    "print(\"\\nDataset after encoding categorical variables:\")\n",
    "print(df.head())\n"
   ]
  },
  {
   "cell_type": "code",
   "execution_count": 19,
   "id": "0e2eadf0",
   "metadata": {},
   "outputs": [
    {
     "name": "stdout",
     "output_type": "stream",
     "text": [
      "\n",
      "Dataset after scaling numerical features:\n",
      "   survived  pclass  sex       age  sibsp  parch      fare  embarked  class  \\\n",
      "0         0       3    1  0.372549      1      0  0.118118         2  Third   \n",
      "2         1       3    0  0.450980      0      0  0.129115         2  Third   \n",
      "3         1       1    0  0.627451      1      0  0.865114         2  First   \n",
      "4         0       3    1  0.627451      0      0  0.131152         2  Third   \n",
      "5         0       3    1  0.523512      0      0  0.137804         1  Third   \n",
      "\n",
      "   who  adult_male  embark_town alive  alone  \n",
      "0    1        True  Southampton    no  False  \n",
      "2    2       False  Southampton   yes   True  \n",
      "3    2       False  Southampton   yes  False  \n",
      "4    1        True  Southampton    no   True  \n",
      "5    1        True   Queenstown    no   True  \n"
     ]
    }
   ],
   "source": [
    "# Let's Scaling the numerical features using MinMaxScaler.\n",
    "scaler = MinMaxScaler()\n",
    "# Select numerical columns to scale\n",
    "numerical_cols = ['age', 'fare']\n",
    "# Scale the numerical columns\n",
    "df[numerical_cols] = scaler.fit_transform(df[numerical_cols])\n",
    "# Display the first few rows of the dataset after scaling\n",
    "print(\"\\nDataset after scaling numerical features:\")\n",
    "print(df.head())"
   ]
  },
  {
   "cell_type": "code",
   "execution_count": 20,
   "id": "491edc75",
   "metadata": {},
   "outputs": [
    {
     "data": {
      "text/plain": [
       "Index(['survived', 'pclass', 'sex', 'age', 'sibsp', 'parch', 'fare',\n",
       "       'embarked', 'class', 'who', 'adult_male', 'embark_town', 'alive',\n",
       "       'alone'],\n",
       "      dtype='object')"
      ]
     },
     "execution_count": 20,
     "metadata": {},
     "output_type": "execute_result"
    }
   ],
   "source": [
    "df.columns"
   ]
  },
  {
   "cell_type": "code",
   "execution_count": 32,
   "id": "9d94be67",
   "metadata": {},
   "outputs": [
    {
     "name": "stdout",
     "output_type": "stream",
     "text": [
      "\n",
      "First few predictions:\n",
      "[0.15326617 0.49053958 0.33351276 0.52296345 0.21057582]\n",
      "\n",
      "Model Evaluation Metrics:\n",
      "Mean Squared Error: 0.021228321958787894\n",
      "Root Mean Squared Error: 0.14569942333032035\n",
      "R-squared Score: 0.5499322888042192\n",
      "\n",
      "First few actual vs predicted values:\n",
      "     Actual  Predicted\n",
      "0  0.127010   0.153266\n",
      "1  0.529495   0.490540\n",
      "2  0.353201   0.333513\n",
      "3  0.422443   0.522963\n",
      "4  0.262304   0.210576\n",
      "\n",
      "Predicted fare for a 25 years old female passenger: [1.88764066]\n"
     ]
    },
    {
     "data": {
      "image/png": "[encoded data removed]",
      "text/plain": [
       "<Figure size 1000x600 with 1 Axes>"
      ]
     },
     "metadata": {},
     "output_type": "display_data"
    }
   ],
   "source": [
    "# Let's Training and Testing the Dataset\n",
    "# Define the features and target variable\n",
    "X = df[[\"survived\", \"sex\", \"age\", \"pclass\", \"parch\", \"sibsp\", \"embarked\", \"who\"]]\n",
    "y = df[\"fare\"]\n",
    "\n",
    "# Split the dataset into training and testing sets\n",
    "X_train, X_test, y_train, y_test = train_test_split(X, y, test_size=0.2, random_state=42)\n",
    "\n",
    "# Fit a scaler only on 'age' column\n",
    "age_scaler = StandardScaler()\n",
    "X_train_scaled = X_train.copy()\n",
    "X_test_scaled = X_test.copy()\n",
    "X_train_scaled['age'] = age_scaler.fit_transform(X_train[['age']])\n",
    "X_test_scaled['age'] = age_scaler.transform(X_test[['age']])\n",
    "\n",
    "# Initialize the Linear Regression model\n",
    "model = LinearRegression()\n",
    "# Fit the model on the training data\n",
    "model.fit(X_train_scaled, y_train)\n",
    "# Predict the target variable on the test set\n",
    "y_pred = model.predict(X_test_scaled)\n",
    "# Display the first few predictions\n",
    "print(\"\\nFirst few predictions:\")\n",
    "print(y_pred[:5])\n",
    "\n",
    "# Let's Evaluate the Model\n",
    "from sklearn.metrics import mean_squared_error, r2_score\n",
    "# Calculate the Mean Squared Error\n",
    "mse = mean_squared_error(y_test, y_pred)\n",
    "# calculate the Root Mean Squared Error\n",
    "from sklearn.metrics import mean_squared_error\n",
    "rmse = np.sqrt(mse)\n",
    "# Calculate the R-squared score\n",
    "r2 = r2_score(y_test, y_pred)\n",
    "# Display the evaluation metrics\n",
    "print(\"\\nModel Evaluation Metrics:\")\n",
    "print(f\"Mean Squared Error: {mse}\")\n",
    "print(f\"Root Mean Squared Error: {rmse}\")\n",
    "print(f\"R-squared Score: {r2}\")\n",
    "\n",
    "# Let's check the results of the model\n",
    "print(\"\\nFirst few actual vs predicted values:\")\n",
    "print(pd.DataFrame({\"Actual\": y_test.values, \"Predicted\": y_pred}).head())\n",
    "\n",
    "# Let's check the predicted fare for a passenger who is survived female 25 years old from first class with no parents or children and no siblings or spouses, embarked from Southampton\n",
    "test_passenger = pd.DataFrame({\n",
    "    \"survived\": [1],\n",
    "    \"sex\": [1],\n",
    "    \"age\": [25],\n",
    "    \"pclass\": [1],\n",
    "    \"parch\": [0],\n",
    "    \"sibsp\": [0],\n",
    "    \"embarked\": [1],\n",
    "    \"who\": [2]\n",
    "})\n",
    "test_passenger['age'] = age_scaler.transform(test_passenger[['age']])  # Only scale 'age'\n",
    "\n",
    "# Predict the fare\n",
    "predicted_fare = model.predict(test_passenger)\n",
    "print(f\"\\nPredicted fare for a 25 years old female passenger: {predicted_fare}\")\n",
    "\n",
    "# Let's Visualize the Results\n",
    "plt.figure(figsize=(10, 6))\n",
    "sns.scatterplot(x=y_test, y=y_pred)\n",
    "plt.xlabel(\"Actual Fare\")\n",
    "plt.ylabel(\"Predicted Fare\")\n",
    "plt.title(\"Actual vs Predicted Fare\")\n",
    "plt.plot([y.min(), y.max()], [y.min(), y.max()], color='red', linestyle='--')\n",
    "plt.show()"
   ]
  },
  {
   "cell_type": "code",
   "execution_count": 33,
   "id": "c45f93f8",
   "metadata": {},
   "outputs": [],
   "source": [
    "# Let's save the model using pickle\n",
    "import pickle\n",
    "# Save the model to a Models folder inside Machine Learning folder\n",
    "model_filename = 'Models/titanic_fare_prediction_model.pkl'\n",
    "with open(model_filename, 'wb') as file:\n",
    "    pickle.dump(model, file)"
   ]
  }
 ],
 "metadata": {
  "kernelspec": {
   "display_name": "pandas_pratice",
   "language": "python",
   "name": "python3"
  },
  "language_info": {
   "codemirror_mode": {
    "name": "ipython",
    "version": 3
   },
   "file_extension": ".py",
   "mimetype": "text/x-python",
   "name": "python",
   "nbconvert_exporter": "python",
   "pygments_lexer": "ipython3",
   "version": "3.13.0"
  }
 },
 "nbformat": 4,
 "nbformat_minor": 5
}
