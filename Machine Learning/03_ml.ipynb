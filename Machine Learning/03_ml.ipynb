{
 "cells": [
  {
   "cell_type": "markdown",
   "id": "58512564",
   "metadata": {},
   "source": [
    "# Machine Learning"
   ]
  },
  {
   "cell_type": "markdown",
   "id": "594e712c",
   "metadata": {},
   "source": [
    "## Importing Libraries"
   ]
  },
  {
   "cell_type": "code",
   "execution_count": 1,
   "id": "825bce6c",
   "metadata": {},
   "outputs": [],
   "source": [
    "import pandas as pd\n",
    "import numpy as np\n",
    "import seaborn as sns\n",
    "import matplotlib.pyplot as plt"
   ]
  },
  {
   "cell_type": "code",
   "execution_count": 3,
   "id": "773d65de",
   "metadata": {},
   "outputs": [
    {
     "name": "stdout",
     "output_type": "stream",
     "text": [
      "Original DataFrame:\n",
      "   Age\n",
      "0    1\n",
      "1    2\n",
      "2    3\n",
      "3    4\n",
      "4    5\n",
      "5    6\n",
      "6    7\n",
      "7    8\n",
      "8    9\n",
      "9  100\n"
     ]
    }
   ],
   "source": [
    "# Let's create a sample DataFrame\n",
    "df = pd.DataFrame({\"Age\": [1,2,3,4,5,6,7,8,9,100]})\n",
    "print(\"Original DataFrame:\")\n",
    "print(df)"
   ]
  },
  {
   "cell_type": "markdown",
   "id": "d503d1cc",
   "metadata": {},
   "source": [
    "### What is a Z-Score?\n",
    "### A `Z-score` tells you how far away a data point is from the mean (average) of a dataset, measured in standard deviations. It helps you understand whether a value is typical or unusual compared to the rest of the data.\n",
    "### Formula : Z = (X−μ) / σ\n",
    "​\n",
    " \n"
   ]
  },
  {
   "cell_type": "code",
   "execution_count": 6,
   "id": "3469f295",
   "metadata": {},
   "outputs": [
    {
     "name": "stdout",
     "output_type": "stream",
     "text": [
      "\n",
      "Mean Age: 14.5\n",
      "Standard Deviation of Age: 30.152390728873666\n",
      "\n",
      "DataFrame with Z-Scores:\n",
      "   Age   Z-Score\n",
      "0    1 -0.447726\n",
      "1    2 -0.414561\n",
      "2    3 -0.381396\n",
      "3    4 -0.348231\n",
      "4    5 -0.315066\n",
      "5    6 -0.281901\n",
      "6    7 -0.248736\n",
      "7    8 -0.215572\n",
      "8    9 -0.182407\n",
      "9  100  2.835596\n"
     ]
    }
   ],
   "source": [
    "# Calculating the mean and standard deviation\n",
    "mean_age = df[\"Age\"].mean()\n",
    "std_age = df[\"Age\"].std()\n",
    "print(\"\\nMean Age:\", mean_age)\n",
    "print(\"Standard Deviation of Age:\", std_age)\n",
    "# Calculating the z-scores\n",
    "df[\"Z-Score\"] = (df[\"Age\"] - mean_age) / std_age\n",
    "print(\"\\nDataFrame with Z-Scores:\")\n",
    "print(df)"
   ]
  },
  {
   "cell_type": "markdown",
   "id": "bf7f5c28",
   "metadata": {},
   "source": [
    "- We can see that in the above dataframe there is a outlier "
   ]
  },
  {
   "cell_type": "code",
   "execution_count": 9,
   "id": "bec8a42b",
   "metadata": {},
   "outputs": [
    {
     "name": "stdout",
     "output_type": "stream",
     "text": [
      "Here are the outliers based on the z-score threshold, 2.75:\n",
      "    Age   Z-Score\n",
      "9  100  2.835596\n",
      "----------------------------------------\n"
     ]
    }
   ],
   "source": [
    "print(f\"Here are the outliers based on the z-score threshold, 2.75:\\n {df[df['Z-Score'] > 2.75]}\")\n",
    "print(\"----------------------------------------\")"
   ]
  },
  {
   "cell_type": "code",
   "execution_count": 14,
   "id": "296e7990",
   "metadata": {},
   "outputs": [
    {
     "name": "stdout",
     "output_type": "stream",
     "text": [
      "DataFrame after removing outliers:\n",
      "   Age   Z-Score\n",
      "0    1 -0.447726\n",
      "1    2 -0.414561\n",
      "2    3 -0.381396\n",
      "3    4 -0.348231\n",
      "4    5 -0.315066\n",
      "5    6 -0.281901\n",
      "6    7 -0.248736\n",
      "7    8 -0.215572\n",
      "8    9 -0.182407\n"
     ]
    }
   ],
   "source": [
    "\n",
    "# Removing outliers\n",
    "df_no_outliers = df[df[\"Z-Score\"].abs() <= 2.75]\n",
    "print(\"DataFrame after removing outliers:\")\n",
    "print(df_no_outliers)"
   ]
  }
 ],
 "metadata": {
  "kernelspec": {
   "display_name": "pandas_pratice",
   "language": "python",
   "name": "python3"
  },
  "language_info": {
   "codemirror_mode": {
    "name": "ipython",
    "version": 3
   },
   "file_extension": ".py",
   "mimetype": "text/x-python",
   "name": "python",
   "nbconvert_exporter": "python",
   "pygments_lexer": "ipython3",
   "version": "3.13.0"
  }
 },
 "nbformat": 4,
 "nbformat_minor": 5
}
