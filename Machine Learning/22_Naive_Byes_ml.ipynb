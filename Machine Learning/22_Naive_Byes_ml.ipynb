{
 "cells": [
  {
   "cell_type": "markdown",
   "id": "e87ab7f1",
   "metadata": {},
   "source": [
    "## Naive Bayes Algorithm"
   ]
  },
  {
   "cell_type": "code",
   "execution_count": 23,
   "id": "d19d077e",
   "metadata": {},
   "outputs": [],
   "source": [
    "# Importing Libraries\n",
    "import pandas as pd\n",
    "import numpy as np\n",
    "import seaborn as sns\n",
    "import matplotlib.pyplot as plt\n",
    "from sklearn.preprocessing import LabelEncoder\n",
    "from sklearn.model_selection import train_test_split\n",
    "from sklearn.naive_bayes import GaussianNB, MultinomialNB, BernoulliNB\n",
    "from sklearn.metrics import accuracy_score, confusion_matrix, classification_report\n"
   ]
  },
  {
   "cell_type": "code",
   "execution_count": 24,
   "id": "7c70e53f",
   "metadata": {},
   "outputs": [
    {
     "name": "stdout",
     "output_type": "stream",
     "text": [
      "  species     island  bill_length_mm  bill_depth_mm  flipper_length_mm  \\\n",
      "0  Adelie  Torgersen            39.1           18.7              181.0   \n",
      "1  Adelie  Torgersen            39.5           17.4              186.0   \n",
      "2  Adelie  Torgersen            40.3           18.0              195.0   \n",
      "3  Adelie  Torgersen             NaN            NaN                NaN   \n",
      "4  Adelie  Torgersen            36.7           19.3              193.0   \n",
      "\n",
      "   body_mass_g     sex  \n",
      "0       3750.0    Male  \n",
      "1       3800.0  Female  \n",
      "2       3250.0  Female  \n",
      "3          NaN     NaN  \n",
      "4       3450.0  Female  \n"
     ]
    }
   ],
   "source": [
    "# Loading the Dataset\n",
    "df = sns.load_dataset(\"penguins\")\n",
    "print(df.head())"
   ]
  },
  {
   "cell_type": "code",
   "execution_count": 25,
   "id": "ff78002e",
   "metadata": {},
   "outputs": [
    {
     "name": "stdout",
     "output_type": "stream",
     "text": [
      "<class 'pandas.core.frame.DataFrame'>\n",
      "RangeIndex: 344 entries, 0 to 343\n",
      "Data columns (total 7 columns):\n",
      " #   Column             Non-Null Count  Dtype  \n",
      "---  ------             --------------  -----  \n",
      " 0   species            344 non-null    object \n",
      " 1   island             344 non-null    object \n",
      " 2   bill_length_mm     342 non-null    float64\n",
      " 3   bill_depth_mm      342 non-null    float64\n",
      " 4   flipper_length_mm  342 non-null    float64\n",
      " 5   body_mass_g        342 non-null    float64\n",
      " 6   sex                333 non-null    object \n",
      "dtypes: float64(4), object(3)\n",
      "memory usage: 18.9+ KB\n"
     ]
    }
   ],
   "source": [
    "#  Getting info of our dataset\n",
    "df.info()"
   ]
  },
  {
   "cell_type": "code",
   "execution_count": 26,
   "id": "a0658c47",
   "metadata": {},
   "outputs": [
    {
     "name": "stdout",
     "output_type": "stream",
     "text": [
      "sex                  11\n",
      "bill_depth_mm         2\n",
      "bill_length_mm        2\n",
      "flipper_length_mm     2\n",
      "body_mass_g           2\n",
      "island                0\n",
      "species               0\n",
      "dtype: int64\n"
     ]
    }
   ],
   "source": [
    "# Let's check for missng values in our dataset\n",
    "print(df.isnull().sum().sort_values(ascending=False))"
   ]
  },
  {
   "cell_type": "code",
   "execution_count": 27,
   "id": "5e69db9b",
   "metadata": {},
   "outputs": [
    {
     "name": "stdout",
     "output_type": "stream",
     "text": [
      "  species     island  bill_length_mm  bill_depth_mm  flipper_length_mm  \\\n",
      "0  Adelie  Torgersen            39.1           18.7              181.0   \n",
      "1  Adelie  Torgersen            39.5           17.4              186.0   \n",
      "2  Adelie  Torgersen            40.3           18.0              195.0   \n",
      "3  Adelie  Torgersen             NaN            NaN                NaN   \n",
      "4  Adelie  Torgersen            36.7           19.3              193.0   \n",
      "\n",
      "   body_mass_g     sex  \n",
      "0       3750.0    Male  \n",
      "1       3800.0  Female  \n",
      "2       3250.0  Female  \n",
      "3          NaN     NaN  \n",
      "4       3450.0  Female  \n"
     ]
    }
   ],
   "source": [
    "# Again have a look on our dataset\n",
    "print(df.head())"
   ]
  },
  {
   "cell_type": "code",
   "execution_count": 28,
   "id": "7ecbe9dc",
   "metadata": {},
   "outputs": [],
   "source": [
    "# Let's filling the missing values by mean and mode\n",
    "df[\"sex\"] = df[\"sex\"].fillna(df[\"sex\"].mode()[0])\n",
    "df[\"bill_length_mm\"] = df[\"bill_length_mm\"].fillna(df[\"bill_length_mm\"].mean())\n",
    "df[\"bill_depth_mm\"] = df[\"bill_depth_mm\"].fillna(df[\"bill_depth_mm\"].mean())\n",
    "df[\"flipper_length_mm\"] = df[\"flipper_length_mm\"].fillna(df[\"flipper_length_mm\"].mean())\n",
    "df[\"body_mass_g\"] = df[\"body_mass_g\"].fillna(df[\"body_mass_g\"].mean())\n"
   ]
  },
  {
   "cell_type": "code",
   "execution_count": 29,
   "id": "081b3bfd",
   "metadata": {},
   "outputs": [
    {
     "name": "stdout",
     "output_type": "stream",
     "text": [
      "species              0\n",
      "island               0\n",
      "bill_length_mm       0\n",
      "bill_depth_mm        0\n",
      "flipper_length_mm    0\n",
      "body_mass_g          0\n",
      "sex                  0\n",
      "dtype: int64\n"
     ]
    }
   ],
   "source": [
    "# Let's again check for missing values in our dataset\n",
    "print(df.isnull().sum().sort_values(ascending=False))"
   ]
  },
  {
   "cell_type": "code",
   "execution_count": 30,
   "id": "74698ed7",
   "metadata": {},
   "outputs": [],
   "source": [
    "# Create a LabelEncoder object\n",
    "le = LabelEncoder()\n",
    "\n",
    "# Encode all categorical columns in the DataFrame\n",
    "for col in df.select_dtypes(include=['object', 'category']).columns:\n",
    "    df[col] = le.fit_transform(df[col])"
   ]
  },
  {
   "cell_type": "code",
   "execution_count": 31,
   "id": "88b39c86",
   "metadata": {},
   "outputs": [],
   "source": [
    "# Select Feature and Target Variable\n",
    "X = df.drop(\"island\",axis=1)\n",
    "y = df[\"island\"]\n",
    "# Splitting dataset in to train and test by 80/20 ratio\n",
    "X_train, X_test, y_train, y_test = train_test_split(X, y, test_size=0.2, random_state=42)"
   ]
  },
  {
   "cell_type": "markdown",
   "id": "f6ffcfcc",
   "metadata": {},
   "source": [
    "## Guassian NB\n"
   ]
  },
  {
   "cell_type": "code",
   "execution_count": 34,
   "id": "6fe0d699",
   "metadata": {},
   "outputs": [
    {
     "name": "stdout",
     "output_type": "stream",
     "text": [
      "Confusion Matrix:\n",
      " [[21  0 10]\n",
      " [ 0 16  9]\n",
      " [ 0  0 13]]\n",
      "Accuracy Score: 0.7246376811594203\n",
      "Classification Report:\n",
      "               precision    recall  f1-score   support\n",
      "\n",
      "           0       1.00      0.68      0.81        31\n",
      "           1       1.00      0.64      0.78        25\n",
      "           2       0.41      1.00      0.58        13\n",
      "\n",
      "    accuracy                           0.72        69\n",
      "   macro avg       0.80      0.77      0.72        69\n",
      "weighted avg       0.89      0.72      0.75        69\n",
      "\n"
     ]
    }
   ],
   "source": [
    "# Initialising the Gaussian Model\n",
    "gnb = GaussianNB()\n",
    "# Training the Model\n",
    "gnb.fit(X_train, y_train)\n",
    "# Predicting the model\n",
    "y_predict = gnb.predict(X_test)\n",
    "\n",
    "# Confusion Matrix\n",
    "cm = confusion_matrix(y_test, y_predict)\n",
    "print(\"Confusion Matrix:\\n\", cm)\n",
    "\n",
    "# Accuracy Score\n",
    "acc = accuracy_score(y_test, y_predict)\n",
    "print(\"Accuracy Score:\", acc)\n",
    "\n",
    "# Classification Report\n",
    "cr = classification_report(y_test, y_predict)\n",
    "print(\"Classification Report:\\n\", cr)"
   ]
  },
  {
   "cell_type": "markdown",
   "id": "fa3c8dce",
   "metadata": {},
   "source": [
    "##  MultiNomial NB"
   ]
  },
  {
   "cell_type": "code",
   "execution_count": 36,
   "id": "999dfbb1",
   "metadata": {},
   "outputs": [
    {
     "name": "stdout",
     "output_type": "stream",
     "text": [
      "Confusion Matrix:\n",
      " [[23  4  4]\n",
      " [ 2 21  2]\n",
      " [ 2  8  3]]\n",
      "Accuracy Score: 0.6811594202898551\n",
      "Classification Report:\n",
      "               precision    recall  f1-score   support\n",
      "\n",
      "           0       0.85      0.74      0.79        31\n",
      "           1       0.64      0.84      0.72        25\n",
      "           2       0.33      0.23      0.27        13\n",
      "\n",
      "    accuracy                           0.68        69\n",
      "   macro avg       0.61      0.60      0.60        69\n",
      "weighted avg       0.68      0.68      0.67        69\n",
      "\n"
     ]
    }
   ],
   "source": [
    "# Initialising the Gaussian Model\n",
    "MNB = MultinomialNB()\n",
    "# Training the Model\n",
    "MNB.fit(X_train, y_train)\n",
    "# Predicting the model\n",
    "y_predict = MNB.predict(X_test)\n",
    "\n",
    "# Confusion Matrix\n",
    "cm = confusion_matrix(y_test, y_predict)\n",
    "print(\"Confusion Matrix:\\n\", cm)\n",
    "\n",
    "# Accuracy Score\n",
    "acc = accuracy_score(y_test, y_predict)\n",
    "print(\"Accuracy Score:\", acc)\n",
    "\n",
    "# Classification Report\n",
    "cr = classification_report(y_test, y_predict)\n",
    "print(\"Classification Report:\\n\", cr)"
   ]
  },
  {
   "cell_type": "markdown",
   "id": "420c4768",
   "metadata": {},
   "source": [
    "## Bernoulli NB"
   ]
  },
  {
   "cell_type": "code",
   "execution_count": 38,
   "id": "fad7f281",
   "metadata": {},
   "outputs": [
    {
     "name": "stdout",
     "output_type": "stream",
     "text": [
      "Confusion Matrix:\n",
      " [[21 10  0]\n",
      " [16  9  0]\n",
      " [ 0 13  0]]\n",
      "Accuracy Score: 0.43478260869565216\n",
      "Classification Report:\n",
      "               precision    recall  f1-score   support\n",
      "\n",
      "           0       0.57      0.68      0.62        31\n",
      "           1       0.28      0.36      0.32        25\n",
      "           2       0.00      0.00      0.00        13\n",
      "\n",
      "    accuracy                           0.43        69\n",
      "   macro avg       0.28      0.35      0.31        69\n",
      "weighted avg       0.36      0.43      0.39        69\n",
      "\n"
     ]
    }
   ],
   "source": [
    "import warnings\n",
    "warnings.filterwarnings('ignore')\n",
    "# Initialising the Gaussian Model\n",
    "BNB = BernoulliNB()\n",
    "# Training the Model\n",
    "BNB.fit(X_train, y_train)\n",
    "# Predicting the model\n",
    "y_predict = BNB.predict(X_test)\n",
    "\n",
    "# Confusion Matrix\n",
    "cm = confusion_matrix(y_test, y_predict)\n",
    "print(\"Confusion Matrix:\\n\", cm)\n",
    "\n",
    "# Accuracy Score\n",
    "acc = accuracy_score(y_test, y_predict)\n",
    "print(\"Accuracy Score:\", acc)\n",
    "\n",
    "# Classification Report\n",
    "cr = classification_report(y_test, y_predict)\n",
    "print(\"Classification Report:\\n\", cr) "
   ]
  }
 ],
 "metadata": {
  "kernelspec": {
   "display_name": "pandas_pratice",
   "language": "python",
   "name": "python3"
  },
  "language_info": {
   "codemirror_mode": {
    "name": "ipython",
    "version": 3
   },
   "file_extension": ".py",
   "mimetype": "text/x-python",
   "name": "python",
   "nbconvert_exporter": "python",
   "pygments_lexer": "ipython3",
   "version": "3.13.0"
  }
 },
 "nbformat": 4,
 "nbformat_minor": 5
}
