{
 "cells": [
  {
   "cell_type": "markdown",
   "id": "0b437ea9",
   "metadata": {},
   "source": [
    "# Machine Learning"
   ]
  },
  {
   "cell_type": "markdown",
   "id": "604794d3",
   "metadata": {},
   "source": [
    "## Data Merge"
   ]
  },
  {
   "cell_type": "code",
   "execution_count": 1,
   "id": "9080cade",
   "metadata": {},
   "outputs": [
    {
     "name": "stdout",
     "output_type": "stream",
     "text": [
      "DataFrame 1:\n",
      "      ID    Name Age\n",
      "0  10001    Asad  28\n",
      "1  10002     Aly  22\n",
      "2  10003   Adnan  25\n",
      "3  10004  Zainab  22\n",
      "\n",
      "DataFrame 2:\n",
      "      ID       City Occupation Salary\n",
      "0  10001    Karachi   Engineer  50000\n",
      "1  10002     Lahore     Doctor  60000\n",
      "2  10003  Islamabad     Artist  70000\n",
      "3  10004     Quetta    Teacher  80000\n"
     ]
    }
   ],
   "source": [
    "# Import necessary libraries\n",
    "import pandas as pd\n",
    "import numpy as np\n",
    "# Let's creating two Dataframes to merge them\n",
    "df1 = pd.DataFrame({\n",
    "    \"ID\":[\"10001\",\"10002\",\"10003\",\"10004\"],\n",
    "    \"Name\": [\"Asad\",\"Aly\",\"Adnan\",\"Zainab\"],\n",
    "    \"Age\":[\"28\",\"22\",\"25\",\"22\"]\n",
    "})\n",
    "print(\"DataFrame 1:\")\n",
    "print(df1)\n",
    "df2 = pd.DataFrame({\n",
    "    \"ID\":[\"10001\",\"10002\",\"10003\",\"10004\"],\n",
    "    \"City\": [\"Karachi\",\"Lahore\",\"Islamabad\",\"Quetta\"],\n",
    "    \"Occupation\":[\"Engineer\",\"Doctor\",\"Artist\",\"Teacher\"],\n",
    "    \"Salary\":[\"50000\",\"60000\",\"70000\",\"80000\"]\n",
    "}) \n",
    "print(\"\\nDataFrame 2:\")\n",
    "print(df2)      \n"
   ]
  },
  {
   "cell_type": "code",
   "execution_count": 5,
   "id": "96a2d9e0",
   "metadata": {},
   "outputs": [
    {
     "name": "stdout",
     "output_type": "stream",
     "text": [
      "      ID    Name Age       City Occupation Salary\n",
      "0  10001    Asad  28    Karachi   Engineer  50000\n",
      "1  10002     Aly  22     Lahore     Doctor  60000\n",
      "2  10003   Adnan  25  Islamabad     Artist  70000\n",
      "3  10004  Zainab  22     Quetta    Teacher  80000\n"
     ]
    }
   ],
   "source": [
    "df = pd.merge(df1, df2,on=\"ID\", how=\"inner\")\n",
    "print(df)"
   ]
  },
  {
   "cell_type": "markdown",
   "id": "8cac7553",
   "metadata": {},
   "source": [
    "# Concatenation"
   ]
  },
  {
   "cell_type": "code",
   "execution_count": 7,
   "id": "b2ed5f0f",
   "metadata": {},
   "outputs": [
    {
     "name": "stdout",
     "output_type": "stream",
     "text": [
      "\n",
      "DataFrame 3:\n",
      "   Name Age\n",
      "0   Ali  30\n",
      "1  Sara  27\n",
      "\n",
      "DataFrame 4:\n",
      "  Occupation Salary\n",
      "0  Scientist  90000\n",
      "1      Nurse  85000\n",
      "\n",
      "DataFrame 5:\n",
      "       City        Country\n",
      "0  Peshawar       Pakistan\n",
      "1   Chicago  United States\n"
     ]
    }
   ],
   "source": [
    "# Let's create three different dataframes to concatenate them\n",
    "df3 = pd.DataFrame({\n",
    "    \n",
    "    \"Name\": [\"Ali\",\"Sara\"],\n",
    "    \"Age\":[\"30\",\"27\"]\n",
    "})\n",
    "df4 = pd.DataFrame({\n",
    "\n",
    "   \n",
    "    \"Occupation\":[\"Scientist\",\"Nurse\"],\n",
    "    \"Salary\":[\"90000\",\"85000\"]\n",
    "})\n",
    "df5 = pd.DataFrame({\n",
    "     \"City\": [\"Peshawar\",\"Chicago\"],\n",
    "    \"Country\": [\"Pakistan\",\"United States\"]\n",
    "   \n",
    "})\n",
    "print(\"\\nDataFrame 3:\")\n",
    "print(df3)\n",
    "print(\"\\nDataFrame 4:\")\n",
    "print(df4)\n",
    "print(\"\\nDataFrame 5:\")\n",
    "print(df5)"
   ]
  },
  {
   "cell_type": "code",
   "execution_count": 8,
   "id": "a6d2b14b",
   "metadata": {},
   "outputs": [
    {
     "name": "stdout",
     "output_type": "stream",
     "text": [
      "\n",
      "Concatenated DataFrame:\n",
      "   Name Age Occupation Salary      City        Country\n",
      "0   Ali  30  Scientist  90000  Peshawar       Pakistan\n",
      "1  Sara  27      Nurse  85000   Chicago  United States\n"
     ]
    }
   ],
   "source": [
    "dff = pd.concat([df3,df4,df5], axis=1)\n",
    "print(\"\\nConcatenated DataFrame:\")\n",
    "print(dff)"
   ]
  }
 ],
 "metadata": {
  "kernelspec": {
   "display_name": "pandas_pratice",
   "language": "python",
   "name": "python3"
  },
  "language_info": {
   "codemirror_mode": {
    "name": "ipython",
    "version": 3
   },
   "file_extension": ".py",
   "mimetype": "text/x-python",
   "name": "python",
   "nbconvert_exporter": "python",
   "pygments_lexer": "ipython3",
   "version": "3.13.0"
  }
 },
 "nbformat": 4,
 "nbformat_minor": 5
}
