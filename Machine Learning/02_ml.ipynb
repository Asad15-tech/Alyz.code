{
 "cells": [
  {
   "cell_type": "markdown",
   "id": "1f1721fd",
   "metadata": {},
   "source": [
    "# Machine Learning"
   ]
  },
  {
   "cell_type": "code",
   "execution_count": 1,
   "id": "c48bb202",
   "metadata": {},
   "outputs": [],
   "source": [
    "# Importing Libraries\n",
    "import pandas as pd\n",
    "import numpy as np\n",
    "import seaborn as sns\n",
    "import matplotlib.pyplot as plt\n"
   ]
  },
  {
   "cell_type": "code",
   "execution_count": 2,
   "id": "4da1290b",
   "metadata": {},
   "outputs": [
    {
     "name": "stdout",
     "output_type": "stream",
     "text": [
      "         Date    Country    Name  Age  Score\n",
      "0  2021-12-01        Pak  Aassad   25   88.5\n",
      "1  01-12-2022         PK    Alyy   30   92.0\n",
      "2  2022/12/01  Pakistani   Andna   22   79.5\n",
      "3  12-01-2021        PAK  Zainab   28   85.0\n",
      "4  2023-03-15  PAKISTANI  Kainat   35   90.5\n"
     ]
    }
   ],
   "source": [
    "# Creating a DataFrame with various date formats\n",
    "\n",
    "Data = {\n",
    "    \"Date\": ['2021-12-01', '01-12-2022', '2022/12/01', '12-01-2021', '2023-03-15'],\n",
    "    \"Country\": ['Pak', 'PK', 'Pakistani', 'PAK', 'PAKISTANI'],\n",
    "    \"Name\": ['Aassad', 'Alyy', 'Andna', 'Zainab', 'Kainat'],\n",
    "    \"Age\": [25, 30, 22, 28, 35],\n",
    "    \"Score\": [88.5, 92.0, 79.5, 85.0, 90.5]\n",
    "}\n",
    "df = pd.DataFrame(Data)\n",
    "print(df)"
   ]
  },
  {
   "cell_type": "code",
   "execution_count": 3,
   "id": "9695fc48",
   "metadata": {},
   "outputs": [
    {
     "name": "stdout",
     "output_type": "stream",
     "text": [
      "         Date    Country    Name  Age  Score\n",
      "0  2021-12-01        Pak  Aassad   25   88.5\n",
      "1  2022-12-01         PK    Alyy   30   92.0\n",
      "2  2022-01-12  Pakistani   Andna   22   79.5\n",
      "3  2021-01-12        PAK  Zainab   28   85.0\n",
      "4  2023-03-15  PAKISTANI  Kainat   35   90.5\n"
     ]
    }
   ],
   "source": [
    "# Convert All types of date formats to a standard format (YYYY-MM-DD)\n",
    "def parse_date(x):\n",
    "    try:\n",
    "        # Try ISO format first\n",
    "        return pd.to_datetime(x, format='%Y-%m-%d')\n",
    "    except Exception:\n",
    "        # Try ambiguous formats\n",
    "        for day in (True, False):\n",
    "            dt = pd.to_datetime(x, errors='coerce', dayfirst=day)\n",
    "            if not pd.isna(dt):\n",
    "                return dt\n",
    "    return pd.NaT\n",
    "\n",
    "df['Date'] = df['Date'].apply(parse_date)\n",
    "df['Date'] = df['Date'].dt.strftime('%Y-%m-%d')\n",
    "print(df)"
   ]
  },
  {
   "cell_type": "code",
   "execution_count": 4,
   "id": "c40966aa",
   "metadata": {},
   "outputs": [
    {
     "name": "stdout",
     "output_type": "stream",
     "text": [
      "         Date   Country    Name  Age  Score\n",
      "0  2021-12-01  Pakistan  Aassad   25   88.5\n",
      "1  2022-12-01  Pakistan    Alyy   30   92.0\n",
      "2  2022-01-12  Pakistan   Andna   22   79.5\n",
      "3  2021-01-12  Pakistan  Zainab   28   85.0\n",
      "4  2023-03-15  Pakistan  Kainat   35   90.5\n"
     ]
    }
   ],
   "source": [
    "# Harmonizing Country names\n",
    "Country_Mapping =  {'Pak': 'Pakistan', 'PK': 'Pakistan', 'Pakistani': 'Pakistan', 'PAK': 'Pakistan', 'PAKISTANI': 'Pakistan'}\n",
    "df[\"Country\"] = df[\"Country\"].replace(Country_Mapping)\n",
    "print(df)\n"
   ]
  },
  {
   "cell_type": "code",
   "execution_count": 5,
   "id": "e0156b06",
   "metadata": {},
   "outputs": [
    {
     "name": "stdout",
     "output_type": "stream",
     "text": [
      "         Date   Country   Name  Age  Score\n",
      "0  2021-12-01  Pakistan   Asad   25   88.5\n",
      "1  2022-12-01  Pakistan    Ali   30   92.0\n",
      "2  2022-01-12  Pakistan  Adnan   22   79.5\n",
      "3  2021-01-12  Pakistan    Ali   28   85.0\n",
      "4  2023-03-15  Pakistan  Adnan   35   90.5\n"
     ]
    }
   ],
   "source": [
    "# Correcting the Typographical errors in the Name column\n",
    "Name_Mapping = {'Aassad':'Asad', 'Alyy':'Ali', 'Andna':'Adnan', 'Zainab':'Ali', 'Kainat':'Adnan'}\n",
    "df[\"Name\"] = df[\"Name\"].replace(Name_Mapping)\n",
    "print(df)"
   ]
  },
  {
   "cell_type": "code",
   "execution_count": 6,
   "id": "c12454a9",
   "metadata": {},
   "outputs": [
    {
     "name": "stdout",
     "output_type": "stream",
     "text": [
      "         Date   Country   Name  Age  Score\n",
      "0  2021-12-01  Pakistan   Asad   25   88.5\n",
      "1  2022-12-01  Pakistan    Ali   30   92.0\n",
      "2  2022-01-12  Pakistan  Adnan   22   79.5\n"
     ]
    }
   ],
   "source": [
    "# Removing duplicates\n",
    "df = df.drop_duplicates(subset=\"Name\")\n",
    "print(df)\n",
    "# When you run this command you got duplicate free data basedn on the Name column"
   ]
  },
  {
   "cell_type": "code",
   "execution_count": 9,
   "id": "0284725a",
   "metadata": {},
   "outputs": [
    {
     "name": "stdout",
     "output_type": "stream",
     "text": [
      "         Date   Country  Name  Age  Score\n",
      "0  2021-12-01  Pakistan  Asad   25   88.5\n",
      "1  2022-12-01  Pakistan   Ali   30   92.0\n"
     ]
    }
   ],
   "source": [
    "# Displaying the final DataFrame\n",
    "print(df)"
   ]
  },
  {
   "cell_type": "code",
   "execution_count": 8,
   "id": "413f88da",
   "metadata": {},
   "outputs": [
    {
     "name": "stdout",
     "output_type": "stream",
     "text": [
      "         Date   Country  Name  Age  Score\n",
      "0  2021-12-01  Pakistan  Asad   25   88.5\n",
      "1  2022-12-01  Pakistan   Ali   30   92.0\n"
     ]
    }
   ],
   "source": [
    "# Dropping rows which score is less than 89 and higher than or equal to 92\n",
    "\n",
    "df = df[(df['Score'] > 85) & (df['Score'] <= 92)]\n",
    "print(df)"
   ]
  }
 ],
 "metadata": {
  "kernelspec": {
   "display_name": "pandas_pratice",
   "language": "python",
   "name": "python3"
  },
  "language_info": {
   "codemirror_mode": {
    "name": "ipython",
    "version": 3
   },
   "file_extension": ".py",
   "mimetype": "text/x-python",
   "name": "python",
   "nbconvert_exporter": "python",
   "pygments_lexer": "ipython3",
   "version": "3.13.0"
  }
 },
 "nbformat": 4,
 "nbformat_minor": 5
}
