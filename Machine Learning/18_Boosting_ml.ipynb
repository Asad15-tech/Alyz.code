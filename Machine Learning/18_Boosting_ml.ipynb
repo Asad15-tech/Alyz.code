{
 "cells": [
  {
   "cell_type": "markdown",
   "id": "1a5f53d2",
   "metadata": {},
   "source": [
    "# Machine Learning"
   ]
  },
  {
   "cell_type": "markdown",
   "id": "5e119240",
   "metadata": {},
   "source": [
    "## Decision Tree As Regressor"
   ]
  },
  {
   "cell_type": "code",
   "execution_count": 53,
   "id": "a25cb98d",
   "metadata": {},
   "outputs": [],
   "source": [
    "# Importing Libraries\n",
    "import pandas as pd\n",
    "import seaborn as sns\n",
    "import numpy as np\n",
    "import matplotlib.pyplot as plt\n",
    "from sklearn.preprocessing import LabelEncoder, MinMaxScaler\n",
    "from sklearn.model_selection import train_test_split\n",
    "from sklearn.tree import DecisionTreeRegressor\n",
    "from sklearn.metrics import mean_absolute_error,mean_squared_error,root_mean_squared_error,r2_score\n"
   ]
  },
  {
   "cell_type": "code",
   "execution_count": 54,
   "id": "d5507e25",
   "metadata": {},
   "outputs": [
    {
     "name": "stdout",
     "output_type": "stream",
     "text": [
      "   total_bill   tip     sex smoker  day    time  size\n",
      "0       16.99  1.01  Female     No  Sun  Dinner     2\n",
      "1       10.34  1.66    Male     No  Sun  Dinner     3\n",
      "2       21.01  3.50    Male     No  Sun  Dinner     3\n",
      "3       23.68  3.31    Male     No  Sun  Dinner     2\n",
      "4       24.59  3.61  Female     No  Sun  Dinner     4\n"
     ]
    }
   ],
   "source": [
    "# Importing Dataset\n",
    "df = sns.load_dataset(\"tips\")\n",
    "print(df.head())"
   ]
  },
  {
   "cell_type": "code",
   "execution_count": 55,
   "id": "cd2f6139",
   "metadata": {},
   "outputs": [
    {
     "name": "stdout",
     "output_type": "stream",
     "text": [
      "<class 'pandas.core.frame.DataFrame'>\n",
      "RangeIndex: 244 entries, 0 to 243\n",
      "Data columns (total 7 columns):\n",
      " #   Column      Non-Null Count  Dtype   \n",
      "---  ------      --------------  -----   \n",
      " 0   total_bill  244 non-null    float64 \n",
      " 1   tip         244 non-null    float64 \n",
      " 2   sex         244 non-null    category\n",
      " 3   smoker      244 non-null    category\n",
      " 4   day         244 non-null    category\n",
      " 5   time        244 non-null    category\n",
      " 6   size        244 non-null    int64   \n",
      "dtypes: category(4), float64(2), int64(1)\n",
      "memory usage: 7.4 KB\n"
     ]
    }
   ],
   "source": [
    "df.info()"
   ]
  },
  {
   "cell_type": "code",
   "execution_count": 56,
   "id": "93863ffc",
   "metadata": {},
   "outputs": [
    {
     "name": "stdout",
     "output_type": "stream",
     "text": [
      "total_bill    0\n",
      "tip           0\n",
      "sex           0\n",
      "smoker        0\n",
      "day           0\n",
      "time          0\n",
      "size          0\n",
      "dtype: int64\n"
     ]
    }
   ],
   "source": [
    "# Check for missing values\n",
    "print(df.isnull().sum().sort_values(ascending=False))\n"
   ]
  },
  {
   "cell_type": "code",
   "execution_count": 57,
   "id": "d5268eed",
   "metadata": {},
   "outputs": [],
   "source": [
    "# Let's encode the object/category column in our dataset using LabelEncoder in For Loop\n",
    "label_encoder = LabelEncoder()\n",
    "\n",
    "# Loop through categorical columns and encode them\n",
    "for column in df.select_dtypes(include=['category']).columns:\n",
    "    df[column] = label_encoder.fit_transform(df[column])\n"
   ]
  },
  {
   "cell_type": "code",
   "execution_count": 58,
   "id": "8a62cceb",
   "metadata": {},
   "outputs": [
    {
     "name": "stderr",
     "output_type": "stream",
     "text": [
      "C:\\Users\\SUN IT\\AppData\\Local\\Temp\\ipykernel_9452\\162237776.py:12: SettingWithCopyWarning:\n",
      "\n",
      "\n",
      "A value is trying to be set on a copy of a slice from a DataFrame.\n",
      "Try using .loc[row_indexer,col_indexer] = value instead\n",
      "\n",
      "See the caveats in the documentation: https://pandas.pydata.org/pandas-docs/stable/user_guide/indexing.html#returning-a-view-versus-a-copy\n",
      "\n"
     ]
    }
   ],
   "source": [
    "# ...existing code...\n",
    "\n",
    "# Remove outliers using IQR\n",
    "Q1 = df.quantile(0.25)\n",
    "Q3 = df.quantile(0.75)\n",
    "IQR = Q3 - Q1\n",
    "df_no_outliers = df[~((df < (Q1 - 1.5 * IQR)) | (df > (Q3 + 1.5 * IQR))).any(axis=1)]\n",
    "\n",
    "# Scaling features (except the target 'tip')\n",
    "scaler = MinMaxScaler()\n",
    "feature_cols = df_no_outliers.columns.drop('tip')\n",
    "df_no_outliers[feature_cols] = scaler.fit_transform(df_no_outliers[feature_cols])\n",
    "\n",
    "# ...existing code...\n",
    "\n",
    "# Split the data into X and y.\n",
    "X = df_no_outliers.drop(\"tip\", axis=1)\n",
    "y = df_no_outliers[\"tip\"]\n",
    "# Splitting dataset into train and test by 80/20 ratio.\n",
    "X_train, X_test, y_train, y_test = train_test_split(X, y, test_size=0.2, random_state=42)\n",
    "\n",
    "# ...existing code..."
   ]
  },
  {
   "cell_type": "code",
   "execution_count": 59,
   "id": "0dd7dfe2",
   "metadata": {},
   "outputs": [
    {
     "name": "stdout",
     "output_type": "stream",
     "text": [
      "   Actual  Predicted\n",
      "0    3.23       3.02\n",
      "1    4.00       3.25\n",
      "2    1.68       2.61\n",
      "3    2.74       3.00\n",
      "4    2.00       3.48\n",
      "Mean Squared Error (MSE): 1.312\n",
      "Root Mean Squared Error (RMSE): 1.146\n",
      "Mean Absolute Error (MAE): 0.832\n",
      "R^2 Score: -0.387\n",
      "CPU times: total: 46.9 ms\n",
      "Wall time: 870 ms\n"
     ]
    }
   ],
   "source": [
    "%%time\n",
    "# Train the Decision Tree model\n",
    "dt = DecisionTreeRegressor()\n",
    "dt.fit(X_train, y_train)\n",
    "\n",
    "# Predict the test data\n",
    "y_pred_dt = dt.predict(X_test)\n",
    "\n",
    "# Evaluate the model\n",
    "mse = mean_squared_error(y_test, y_pred_dt)\n",
    "rmse = np.sqrt(mse)\n",
    "mae = mean_absolute_error(y_test, y_pred_dt)\n",
    "r2 = r2_score(y_test, y_pred_dt)\n",
    "\n",
    "# Show some actual and predicted values\n",
    "comparison = pd.DataFrame({'Actual': y_test.values, 'Predicted': y_pred_dt})\n",
    "print(comparison.head(5))\n",
    "\n",
    "print(f\"Mean Squared Error (MSE): {mse:.3f}\")\n",
    "print(f\"Root Mean Squared Error (RMSE): {rmse:.3f}\")\n",
    "print(f\"Mean Absolute Error (MAE): {mae:.3f}\")\n",
    "print(f\"R^2 Score: {r2:.3f}\")"
   ]
  },
  {
   "cell_type": "markdown",
   "id": "a5998ff4",
   "metadata": {},
   "source": [
    "# Random Forest Regressor"
   ]
  },
  {
   "cell_type": "code",
   "execution_count": 60,
   "id": "fb8595bb",
   "metadata": {},
   "outputs": [
    {
     "name": "stdout",
     "output_type": "stream",
     "text": [
      "   Actual  Predicted\n",
      "0    3.23     2.2328\n",
      "1    4.00     2.8275\n",
      "2    1.68     2.4981\n",
      "3    2.74     2.6672\n",
      "4    2.00     3.5352\n",
      "Mean Squared Error (MSE): 0.683\n",
      "Root Mean Squared Error (RMSE): 0.827\n",
      "Mean Absolute Error (MAE): 0.635\n",
      "R^2 Score: 0.278\n"
     ]
    }
   ],
   "source": [
    "from sklearn.ensemble import RandomForestRegressor\n",
    "\n",
    "# Train the Random Forest model\n",
    "rf = RandomForestRegressor(random_state=42)\n",
    "rf.fit(X_train, y_train)\n",
    "\n",
    "# Predict the test data\n",
    "y_pred_rf = rf.predict(X_test)\n",
    "\n",
    "# Evaluate the model\n",
    "mse = mean_squared_error(y_test, y_pred_rf)\n",
    "rmse = np.sqrt(mse)\n",
    "mae = mean_absolute_error(y_test, y_pred_rf)\n",
    "r2 = r2_score(y_test, y_pred_rf)\n",
    "\n",
    "# Show some actual and predicted values\n",
    "comparison = pd.DataFrame({'Actual': y_test.values, 'Predicted': y_pred_rf})\n",
    "print(comparison.head(5))\n",
    "\n",
    "print(f\"Mean Squared Error (MSE): {mse:.3f}\")\n",
    "print(f\"Root Mean Squared Error (RMSE): {rmse:.3f}\")\n",
    "print(f\"Mean Absolute Error (MAE): {mae:.3f}\")\n",
    "print(f\"R^2 Score: {r2:.3f}\")"
   ]
  },
  {
   "cell_type": "markdown",
   "id": "45da6b1c",
   "metadata": {},
   "source": [
    "## XG Boost Regressor"
   ]
  },
  {
   "cell_type": "code",
   "execution_count": 61,
   "id": "5c9bf979",
   "metadata": {},
   "outputs": [
    {
     "name": "stdout",
     "output_type": "stream",
     "text": [
      "   Actual  Predicted\n",
      "0    3.23   2.256634\n",
      "1    4.00   3.147958\n",
      "2    1.68   2.204896\n",
      "3    2.74   1.085196\n",
      "4    2.00   3.648058\n",
      "Mean Squared Error (MSE): 1.123\n",
      "Root Mean Squared Error (RMSE): 1.060\n",
      "Mean Absolute Error (MAE): 0.830\n",
      "R^2 Score: -0.187\n"
     ]
    }
   ],
   "source": [
    "from xgboost import XGBRegressor\n",
    "\n",
    "# Train the XGBoost model\n",
    "xgb = XGBRegressor(random_state=42)\n",
    "xgb.fit(X_train, y_train)\n",
    "\n",
    "# Predict the test data\n",
    "y_pred_xgb = xgb.predict(X_test)\n",
    "\n",
    "# Evaluate the model\n",
    "mse = mean_squared_error(y_test, y_pred_xgb)\n",
    "rmse = np.sqrt(mse)\n",
    "mae = mean_absolute_error(y_test, y_pred_xgb)\n",
    "r2 = r2_score(y_test, y_pred_xgb)\n",
    "\n",
    "# Show some actual and predicted values\n",
    "comparison = pd.DataFrame({'Actual': y_test.values, 'Predicted': y_pred_xgb})\n",
    "print(comparison.head(5))\n",
    "\n",
    "print(f\"Mean Squared Error (MSE): {mse:.3f}\")\n",
    "print(f\"Root Mean Squared Error (RMSE): {rmse:.3f}\")\n",
    "print(f\"Mean Absolute Error (MAE): {mae:.3f}\")\n",
    "print(f\"R^2 Score: {r2:.3f}\")"
   ]
  },
  {
   "cell_type": "markdown",
   "id": "35014e80",
   "metadata": {},
   "source": [
    "## Cat Boost Regressor"
   ]
  },
  {
   "cell_type": "code",
   "execution_count": 62,
   "id": "01a2f1c4",
   "metadata": {},
   "outputs": [
    {
     "name": "stdout",
     "output_type": "stream",
     "text": [
      "   Actual  Predicted\n",
      "0    3.23   2.138998\n",
      "1    4.00   2.801503\n",
      "2    1.68   2.255374\n",
      "3    2.74   2.537046\n",
      "4    2.00   3.248859\n",
      "Mean Squared Error (MSE): 0.731\n",
      "Root Mean Squared Error (RMSE): 0.855\n",
      "Mean Absolute Error (MAE): 0.716\n",
      "R^2 Score: 0.228\n"
     ]
    }
   ],
   "source": [
    "from catboost import CatBoostRegressor\n",
    "\n",
    "# Train the CatBoost model\n",
    "cat = CatBoostRegressor(verbose=0, random_state=42)\n",
    "cat.fit(X_train, y_train)\n",
    "\n",
    "# Predict the test data\n",
    "y_pred_cat = cat.predict(X_test)\n",
    "\n",
    "# Evaluate the model\n",
    "mse = mean_squared_error(y_test, y_pred_cat)\n",
    "rmse = np.sqrt(mse)\n",
    "mae = mean_absolute_error(y_test, y_pred_cat)\n",
    "r2 = r2_score(y_test, y_pred_cat)\n",
    "\n",
    "# Show some actual and predicted values\n",
    "comparison = pd.DataFrame({'Actual': y_test.values, 'Predicted': y_pred_cat})\n",
    "print(comparison.head(5))\n",
    "\n",
    "print(f\"Mean Squared Error (MSE): {mse:.3f}\")\n",
    "print(f\"Root Mean Squared Error (RMSE): {rmse:.3f}\")\n",
    "print(f\"Mean Absolute Error (MAE): {mae:.3f}\")\n",
    "print(f\"R^2 Score: {r2:.3f}\")"
   ]
  },
  {
   "cell_type": "markdown",
   "id": "0fe1f35e",
   "metadata": {},
   "source": [
    "## Visual Comparison"
   ]
  },
  {
   "cell_type": "code",
   "execution_count": 63,
   "id": "13dd601d",
   "metadata": {},
   "outputs": [
    {
     "data": {
      "application/vnd.plotly.v1+json": {
       "config": {
        "plotlyServerURL": "https://plot.ly"
       },
       "data": [
        {
         "marker": {
          "color": "blue",
          "symbol": "circle"
         },
         "mode": "markers",
         "name": "Decision Tree",
         "type": "scatter",
         "x": [
          3.23,
          4,
          1.68,
          2.74,
          2,
          1.5,
          3,
          3.76,
          2.02,
          2,
          1.5,
          3.92,
          1.44,
          2,
          2.5,
          5,
          3.5,
          5.17,
          3,
          2.5,
          4,
          3.5,
          1.83,
          2,
          3.75,
          2,
          1.1,
          1.97,
          3.76,
          1.64,
          3,
          3.14,
          1.67,
          3.41,
          2.24,
          1.8,
          2,
          3.5,
          3,
          2,
          1.73,
          2.5,
          4,
          2.52,
          2
         ],
         "y": [
          3.02,
          3.25,
          2.61,
          3,
          3.48,
          2,
          1.01,
          3,
          1.5,
          2,
          5.85,
          3.31,
          1,
          2.72,
          2.34,
          3.31,
          4,
          5.2,
          3.35,
          1.76,
          3,
          1.01,
          1.48,
          1.44,
          3.61,
          2,
          2.23,
          1,
          3.08,
          3,
          3.16,
          2,
          1.66,
          2,
          2.83,
          2,
          1.61,
          2.54,
          2.18,
          4,
          1.48,
          4.3,
          3.5,
          2,
          3
         ]
        },
        {
         "marker": {
          "color": "green",
          "symbol": "square"
         },
         "mode": "markers",
         "name": "Random Forest",
         "type": "scatter",
         "x": [
          3.23,
          4,
          1.68,
          2.74,
          2,
          1.5,
          3,
          3.76,
          2.02,
          2,
          1.5,
          3.92,
          1.44,
          2,
          2.5,
          5,
          3.5,
          5.17,
          3,
          2.5,
          4,
          3.5,
          1.83,
          2,
          3.75,
          2,
          1.1,
          1.97,
          3.76,
          1.64,
          3,
          3.14,
          1.67,
          3.41,
          2.24,
          1.8,
          2,
          3.5,
          3,
          2,
          1.73,
          2.5,
          4,
          2.52,
          2
         ],
         "y": [
          2.232800000000001,
          2.8275,
          2.498100000000001,
          2.6671999999999993,
          3.535200000000001,
          1.7683999999999997,
          2.3114999999999957,
          3.0734000000000004,
          1.9515999999999993,
          2.101899999999999,
          3.8786000000000036,
          3.513600000000001,
          2.0226999999999995,
          2.4996000000000005,
          2.727900000000001,
          3.314300000000001,
          3.7386999999999997,
          5.011599999999998,
          2.9812999999999987,
          1.8887000000000003,
          2.8158000000000003,
          1.9478999999999989,
          1.7369999999999999,
          1.9724999999999993,
          4.435,
          2.3999000000000006,
          2.209099999999998,
          2.0410999999999984,
          3.220600000000001,
          2.6582,
          2.5866999999999996,
          2.9087,
          2.1808999999999985,
          2.9524,
          3.286,
          1.996099999999999,
          1.7895000000000025,
          2.327499999999999,
          2.8631000000000015,
          2.212599999999999,
          1.5305999999999984,
          3.5489000000000033,
          3.0538000000000007,
          1.996099999999999,
          3.3844000000000007
         ]
        },
        {
         "marker": {
          "color": "red",
          "symbol": "diamond"
         },
         "mode": "markers",
         "name": "XGBoost",
         "type": "scatter",
         "x": [
          3.23,
          4,
          1.68,
          2.74,
          2,
          1.5,
          3,
          3.76,
          2.02,
          2,
          1.5,
          3.92,
          1.44,
          2,
          2.5,
          5,
          3.5,
          5.17,
          3,
          2.5,
          4,
          3.5,
          1.83,
          2,
          3.75,
          2,
          1.1,
          1.97,
          3.76,
          1.64,
          3,
          3.14,
          1.67,
          3.41,
          2.24,
          1.8,
          2,
          3.5,
          3,
          2,
          1.73,
          2.5,
          4,
          2.52,
          2
         ],
         "y": [
          2.25663423538208,
          3.147958278656006,
          2.2048964500427246,
          1.0851964950561523,
          3.6480579376220703,
          1.6182332038879395,
          0.9948832988739014,
          3.2336108684539795,
          1.4963563680648804,
          2.006307601928711,
          4.400825500488281,
          3.7832460403442383,
          1.4700404405593872,
          2.6682138442993164,
          2.9290528297424316,
          3.0973386764526367,
          3.8846404552459717,
          5.641860485076904,
          2.2251834869384766,
          1.863321304321289,
          2.6075775623321533,
          2.987438201904297,
          1.5347305536270142,
          4.518369197845459,
          4.826937675476074,
          2.2241358757019043,
          2.1995532512664795,
          1.8647797107696533,
          3.121675968170166,
          2.842597246170044,
          2.4391164779663086,
          4.592000484466553,
          2.5309154987335205,
          4.5811920166015625,
          3.4792540073394775,
          1.9990712404251099,
          1.6206519603729248,
          2.692032814025879,
          2.489488363265991,
          2.2357494831085205,
          1.1945209503173828,
          3.679609537124634,
          2.396601438522339,
          2.190319061279297,
          2.0625686645507812
         ]
        },
        {
         "marker": {
          "color": "orange",
          "symbol": "cross"
         },
         "mode": "markers",
         "name": "CatBoost",
         "type": "scatter",
         "x": [
          3.23,
          4,
          1.68,
          2.74,
          2,
          1.5,
          3,
          3.76,
          2.02,
          2,
          1.5,
          3.92,
          1.44,
          2,
          2.5,
          5,
          3.5,
          5.17,
          3,
          2.5,
          4,
          3.5,
          1.83,
          2,
          3.75,
          2,
          1.1,
          1.97,
          3.76,
          1.64,
          3,
          3.14,
          1.67,
          3.41,
          2.24,
          1.8,
          2,
          3.5,
          3,
          2,
          1.73,
          2.5,
          4,
          2.52,
          2
         ],
         "y": [
          2.1389977611475848,
          2.8015031032826223,
          2.2553738667482506,
          2.537046373808787,
          3.248859081071619,
          1.6980239604264373,
          2.238412395901665,
          3.224492516690955,
          1.905099173409781,
          2.0953423082854044,
          2.875851408561045,
          3.47202459586174,
          1.913779897853367,
          2.393215976665091,
          2.6259328214698754,
          3.3136288811901906,
          3.9345974919110653,
          4.446930583799107,
          2.836816302543171,
          2.029627697559678,
          2.36709959642456,
          1.9680505185503194,
          1.6425932813941913,
          1.5162211937281158,
          4.346217546493643,
          2.414678678991835,
          2.385990336642913,
          2.0902655859523525,
          2.739790492277325,
          2.477311483343075,
          2.44250867747228,
          2.2645319684911516,
          2.331643173979106,
          2.2803785259952916,
          3.2664616391292003,
          1.9931606294607567,
          1.7114269669109718,
          2.2949945630277173,
          3.183700783245612,
          2.7136786744500907,
          1.2990714271247468,
          3.731193739532125,
          2.8900421183958636,
          1.9931606294607567,
          3.6446615263257875
         ]
        },
        {
         "line": {
          "color": "black",
          "dash": "dash"
         },
         "mode": "lines",
         "name": "Perfect Prediction (y=x)",
         "type": "scatter",
         "x": [
          3.23,
          4,
          1.68,
          2.74,
          2,
          1.5,
          3,
          3.76,
          2.02,
          2,
          1.5,
          3.92,
          1.44,
          2,
          2.5,
          5,
          3.5,
          5.17,
          3,
          2.5,
          4,
          3.5,
          1.83,
          2,
          3.75,
          2,
          1.1,
          1.97,
          3.76,
          1.64,
          3,
          3.14,
          1.67,
          3.41,
          2.24,
          1.8,
          2,
          3.5,
          3,
          2,
          1.73,
          2.5,
          4,
          2.52,
          2
         ],
         "y": [
          3.23,
          4,
          1.68,
          2.74,
          2,
          1.5,
          3,
          3.76,
          2.02,
          2,
          1.5,
          3.92,
          1.44,
          2,
          2.5,
          5,
          3.5,
          5.17,
          3,
          2.5,
          4,
          3.5,
          1.83,
          2,
          3.75,
          2,
          1.1,
          1.97,
          3.76,
          1.64,
          3,
          3.14,
          1.67,
          3.41,
          2.24,
          1.8,
          2,
          3.5,
          3,
          2,
          1.73,
          2.5,
          4,
          2.52,
          2
         ]
        }
       ],
       "layout": {
        "height": 500,
        "legend": {
         "title": {
          "text": "Model"
         }
        },
        "template": {
         "data": {
          "bar": [
           {
            "error_x": {
             "color": "#2a3f5f"
            },
            "error_y": {
             "color": "#2a3f5f"
            },
            "marker": {
             "line": {
              "color": "#E5ECF6",
              "width": 0.5
             },
             "pattern": {
              "fillmode": "overlay",
              "size": 10,
              "solidity": 0.2
             }
            },
            "type": "bar"
           }
          ],
          "barpolar": [
           {
            "marker": {
             "line": {
              "color": "#E5ECF6",
              "width": 0.5
             },
             "pattern": {
              "fillmode": "overlay",
              "size": 10,
              "solidity": 0.2
             }
            },
            "type": "barpolar"
           }
          ],
          "carpet": [
           {
            "aaxis": {
             "endlinecolor": "#2a3f5f",
             "gridcolor": "white",
             "linecolor": "white",
             "minorgridcolor": "white",
             "startlinecolor": "#2a3f5f"
            },
            "baxis": {
             "endlinecolor": "#2a3f5f",
             "gridcolor": "white",
             "linecolor": "white",
             "minorgridcolor": "white",
             "startlinecolor": "#2a3f5f"
            },
            "type": "carpet"
           }
          ],
          "choropleth": [
           {
            "colorbar": {
             "outlinewidth": 0,
             "ticks": ""
            },
            "type": "choropleth"
           }
          ],
          "contour": [
           {
            "colorbar": {
             "outlinewidth": 0,
             "ticks": ""
            },
            "colorscale": [
             [
              0,
              "#0d0887"
             ],
             [
              0.1111111111111111,
              "#46039f"
             ],
             [
              0.2222222222222222,
              "#7201a8"
             ],
             [
              0.3333333333333333,
              "#9c179e"
             ],
             [
              0.4444444444444444,
              "#bd3786"
             ],
             [
              0.5555555555555556,
              "#d8576b"
             ],
             [
              0.6666666666666666,
              "#ed7953"
             ],
             [
              0.7777777777777778,
              "#fb9f3a"
             ],
             [
              0.8888888888888888,
              "#fdca26"
             ],
             [
              1,
              "#f0f921"
             ]
            ],
            "type": "contour"
           }
          ],
          "contourcarpet": [
           {
            "colorbar": {
             "outlinewidth": 0,
             "ticks": ""
            },
            "type": "contourcarpet"
           }
          ],
          "heatmap": [
           {
            "colorbar": {
             "outlinewidth": 0,
             "ticks": ""
            },
            "colorscale": [
             [
              0,
              "#0d0887"
             ],
             [
              0.1111111111111111,
              "#46039f"
             ],
             [
              0.2222222222222222,
              "#7201a8"
             ],
             [
              0.3333333333333333,
              "#9c179e"
             ],
             [
              0.4444444444444444,
              "#bd3786"
             ],
             [
              0.5555555555555556,
              "#d8576b"
             ],
             [
              0.6666666666666666,
              "#ed7953"
             ],
             [
              0.7777777777777778,
              "#fb9f3a"
             ],
             [
              0.8888888888888888,
              "#fdca26"
             ],
             [
              1,
              "#f0f921"
             ]
            ],
            "type": "heatmap"
           }
          ],
          "heatmapgl": [
           {
            "colorbar": {
             "outlinewidth": 0,
             "ticks": ""
            },
            "colorscale": [
             [
              0,
              "#0d0887"
             ],
             [
              0.1111111111111111,
              "#46039f"
             ],
             [
              0.2222222222222222,
              "#7201a8"
             ],
             [
              0.3333333333333333,
              "#9c179e"
             ],
             [
              0.4444444444444444,
              "#bd3786"
             ],
             [
              0.5555555555555556,
              "#d8576b"
             ],
             [
              0.6666666666666666,
              "#ed7953"
             ],
             [
              0.7777777777777778,
              "#fb9f3a"
             ],
             [
              0.8888888888888888,
              "#fdca26"
             ],
             [
              1,
              "#f0f921"
             ]
            ],
            "type": "heatmapgl"
           }
          ],
          "histogram": [
           {
            "marker": {
             "pattern": {
              "fillmode": "overlay",
              "size": 10,
              "solidity": 0.2
             }
            },
            "type": "histogram"
           }
          ],
          "histogram2d": [
           {
            "colorbar": {
             "outlinewidth": 0,
             "ticks": ""
            },
            "colorscale": [
             [
              0,
              "#0d0887"
             ],
             [
              0.1111111111111111,
              "#46039f"
             ],
             [
              0.2222222222222222,
              "#7201a8"
             ],
             [
              0.3333333333333333,
              "#9c179e"
             ],
             [
              0.4444444444444444,
              "#bd3786"
             ],
             [
              0.5555555555555556,
              "#d8576b"
             ],
             [
              0.6666666666666666,
              "#ed7953"
             ],
             [
              0.7777777777777778,
              "#fb9f3a"
             ],
             [
              0.8888888888888888,
              "#fdca26"
             ],
             [
              1,
              "#f0f921"
             ]
            ],
            "type": "histogram2d"
           }
          ],
          "histogram2dcontour": [
           {
            "colorbar": {
             "outlinewidth": 0,
             "ticks": ""
            },
            "colorscale": [
             [
              0,
              "#0d0887"
             ],
             [
              0.1111111111111111,
              "#46039f"
             ],
             [
              0.2222222222222222,
              "#7201a8"
             ],
             [
              0.3333333333333333,
              "#9c179e"
             ],
             [
              0.4444444444444444,
              "#bd3786"
             ],
             [
              0.5555555555555556,
              "#d8576b"
             ],
             [
              0.6666666666666666,
              "#ed7953"
             ],
             [
              0.7777777777777778,
              "#fb9f3a"
             ],
             [
              0.8888888888888888,
              "#fdca26"
             ],
             [
              1,
              "#f0f921"
             ]
            ],
            "type": "histogram2dcontour"
           }
          ],
          "mesh3d": [
           {
            "colorbar": {
             "outlinewidth": 0,
             "ticks": ""
            },
            "type": "mesh3d"
           }
          ],
          "parcoords": [
           {
            "line": {
             "colorbar": {
              "outlinewidth": 0,
              "ticks": ""
             }
            },
            "type": "parcoords"
           }
          ],
          "pie": [
           {
            "automargin": true,
            "type": "pie"
           }
          ],
          "scatter": [
           {
            "fillpattern": {
             "fillmode": "overlay",
             "size": 10,
             "solidity": 0.2
            },
            "type": "scatter"
           }
          ],
          "scatter3d": [
           {
            "line": {
             "colorbar": {
              "outlinewidth": 0,
              "ticks": ""
             }
            },
            "marker": {
             "colorbar": {
              "outlinewidth": 0,
              "ticks": ""
             }
            },
            "type": "scatter3d"
           }
          ],
          "scattercarpet": [
           {
            "marker": {
             "colorbar": {
              "outlinewidth": 0,
              "ticks": ""
             }
            },
            "type": "scattercarpet"
           }
          ],
          "scattergeo": [
           {
            "marker": {
             "colorbar": {
              "outlinewidth": 0,
              "ticks": ""
             }
            },
            "type": "scattergeo"
           }
          ],
          "scattergl": [
           {
            "marker": {
             "colorbar": {
              "outlinewidth": 0,
              "ticks": ""
             }
            },
            "type": "scattergl"
           }
          ],
          "scattermapbox": [
           {
            "marker": {
             "colorbar": {
              "outlinewidth": 0,
              "ticks": ""
             }
            },
            "type": "scattermapbox"
           }
          ],
          "scatterpolar": [
           {
            "marker": {
             "colorbar": {
              "outlinewidth": 0,
              "ticks": ""
             }
            },
            "type": "scatterpolar"
           }
          ],
          "scatterpolargl": [
           {
            "marker": {
             "colorbar": {
              "outlinewidth": 0,
              "ticks": ""
             }
            },
            "type": "scatterpolargl"
           }
          ],
          "scatterternary": [
           {
            "marker": {
             "colorbar": {
              "outlinewidth": 0,
              "ticks": ""
             }
            },
            "type": "scatterternary"
           }
          ],
          "surface": [
           {
            "colorbar": {
             "outlinewidth": 0,
             "ticks": ""
            },
            "colorscale": [
             [
              0,
              "#0d0887"
             ],
             [
              0.1111111111111111,
              "#46039f"
             ],
             [
              0.2222222222222222,
              "#7201a8"
             ],
             [
              0.3333333333333333,
              "#9c179e"
             ],
             [
              0.4444444444444444,
              "#bd3786"
             ],
             [
              0.5555555555555556,
              "#d8576b"
             ],
             [
              0.6666666666666666,
              "#ed7953"
             ],
             [
              0.7777777777777778,
              "#fb9f3a"
             ],
             [
              0.8888888888888888,
              "#fdca26"
             ],
             [
              1,
              "#f0f921"
             ]
            ],
            "type": "surface"
           }
          ],
          "table": [
           {
            "cells": {
             "fill": {
              "color": "#EBF0F8"
             },
             "line": {
              "color": "white"
             }
            },
            "header": {
             "fill": {
              "color": "#C8D4E3"
             },
             "line": {
              "color": "white"
             }
            },
            "type": "table"
           }
          ]
         },
         "layout": {
          "annotationdefaults": {
           "arrowcolor": "#2a3f5f",
           "arrowhead": 0,
           "arrowwidth": 1
          },
          "autotypenumbers": "strict",
          "coloraxis": {
           "colorbar": {
            "outlinewidth": 0,
            "ticks": ""
           }
          },
          "colorscale": {
           "diverging": [
            [
             0,
             "#8e0152"
            ],
            [
             0.1,
             "#c51b7d"
            ],
            [
             0.2,
             "#de77ae"
            ],
            [
             0.3,
             "#f1b6da"
            ],
            [
             0.4,
             "#fde0ef"
            ],
            [
             0.5,
             "#f7f7f7"
            ],
            [
             0.6,
             "#e6f5d0"
            ],
            [
             0.7,
             "#b8e186"
            ],
            [
             0.8,
             "#7fbc41"
            ],
            [
             0.9,
             "#4d9221"
            ],
            [
             1,
             "#276419"
            ]
           ],
           "sequential": [
            [
             0,
             "#0d0887"
            ],
            [
             0.1111111111111111,
             "#46039f"
            ],
            [
             0.2222222222222222,
             "#7201a8"
            ],
            [
             0.3333333333333333,
             "#9c179e"
            ],
            [
             0.4444444444444444,
             "#bd3786"
            ],
            [
             0.5555555555555556,
             "#d8576b"
            ],
            [
             0.6666666666666666,
             "#ed7953"
            ],
            [
             0.7777777777777778,
             "#fb9f3a"
            ],
            [
             0.8888888888888888,
             "#fdca26"
            ],
            [
             1,
             "#f0f921"
            ]
           ],
           "sequentialminus": [
            [
             0,
             "#0d0887"
            ],
            [
             0.1111111111111111,
             "#46039f"
            ],
            [
             0.2222222222222222,
             "#7201a8"
            ],
            [
             0.3333333333333333,
             "#9c179e"
            ],
            [
             0.4444444444444444,
             "#bd3786"
            ],
            [
             0.5555555555555556,
             "#d8576b"
            ],
            [
             0.6666666666666666,
             "#ed7953"
            ],
            [
             0.7777777777777778,
             "#fb9f3a"
            ],
            [
             0.8888888888888888,
             "#fdca26"
            ],
            [
             1,
             "#f0f921"
            ]
           ]
          },
          "colorway": [
           "#636efa",
           "#EF553B",
           "#00cc96",
           "#ab63fa",
           "#FFA15A",
           "#19d3f3",
           "#FF6692",
           "#B6E880",
           "#FF97FF",
           "#FECB52"
          ],
          "font": {
           "color": "#2a3f5f"
          },
          "geo": {
           "bgcolor": "white",
           "lakecolor": "white",
           "landcolor": "#E5ECF6",
           "showlakes": true,
           "showland": true,
           "subunitcolor": "white"
          },
          "hoverlabel": {
           "align": "left"
          },
          "hovermode": "closest",
          "mapbox": {
           "style": "light"
          },
          "paper_bgcolor": "white",
          "plot_bgcolor": "#E5ECF6",
          "polar": {
           "angularaxis": {
            "gridcolor": "white",
            "linecolor": "white",
            "ticks": ""
           },
           "bgcolor": "#E5ECF6",
           "radialaxis": {
            "gridcolor": "white",
            "linecolor": "white",
            "ticks": ""
           }
          },
          "scene": {
           "xaxis": {
            "backgroundcolor": "#E5ECF6",
            "gridcolor": "white",
            "gridwidth": 2,
            "linecolor": "white",
            "showbackground": true,
            "ticks": "",
            "zerolinecolor": "white"
           },
           "yaxis": {
            "backgroundcolor": "#E5ECF6",
            "gridcolor": "white",
            "gridwidth": 2,
            "linecolor": "white",
            "showbackground": true,
            "ticks": "",
            "zerolinecolor": "white"
           },
           "zaxis": {
            "backgroundcolor": "#E5ECF6",
            "gridcolor": "white",
            "gridwidth": 2,
            "linecolor": "white",
            "showbackground": true,
            "ticks": "",
            "zerolinecolor": "white"
           }
          },
          "shapedefaults": {
           "line": {
            "color": "#2a3f5f"
           }
          },
          "ternary": {
           "aaxis": {
            "gridcolor": "white",
            "linecolor": "white",
            "ticks": ""
           },
           "baxis": {
            "gridcolor": "white",
            "linecolor": "white",
            "ticks": ""
           },
           "bgcolor": "#E5ECF6",
           "caxis": {
            "gridcolor": "white",
            "linecolor": "white",
            "ticks": ""
           }
          },
          "title": {
           "x": 0.05
          },
          "xaxis": {
           "automargin": true,
           "gridcolor": "white",
           "linecolor": "white",
           "ticks": "",
           "title": {
            "standoff": 15
           },
           "zerolinecolor": "white",
           "zerolinewidth": 2
          },
          "yaxis": {
           "automargin": true,
           "gridcolor": "white",
           "linecolor": "white",
           "ticks": "",
           "title": {
            "standoff": 15
           },
           "zerolinecolor": "white",
           "zerolinewidth": 2
          }
         }
        },
        "title": {
         "text": "Actual vs Predicted Values (All Regressors)"
        },
        "width": 700,
        "xaxis": {
         "title": {
          "text": "Actual"
         }
        },
        "yaxis": {
         "title": {
          "text": "Predicted"
         }
        }
       }
      }
     },
     "metadata": {},
     "output_type": "display_data"
    }
   ],
   "source": [
    "import plotly.graph_objs as go\n",
    "\n",
    "fig = go.Figure()\n",
    "\n",
    "# Decision Tree\n",
    "fig.add_trace(go.Scatter(\n",
    "    x=y_test, y=y_pred_dt,\n",
    "    mode='markers',\n",
    "    name='Decision Tree',\n",
    "    marker=dict(color='blue', symbol='circle')\n",
    "))\n",
    "\n",
    "# Random Forest\n",
    "fig.add_trace(go.Scatter(\n",
    "    x=y_test, y=y_pred_rf,\n",
    "    mode='markers',\n",
    "    name='Random Forest',\n",
    "    marker=dict(color='green', symbol='square')\n",
    "))\n",
    "\n",
    "# XGBoost\n",
    "fig.add_trace(go.Scatter(\n",
    "    x=y_test, y=y_pred_xgb,\n",
    "    mode='markers',\n",
    "    name='XGBoost',\n",
    "    marker=dict(color='red', symbol='diamond')\n",
    "))\n",
    "\n",
    "# CatBoost\n",
    "fig.add_trace(go.Scatter(\n",
    "    x=y_test, y=y_pred_cat,\n",
    "    mode='markers',\n",
    "    name='CatBoost',\n",
    "    marker=dict(color='orange', symbol='cross')\n",
    "))\n",
    "\n",
    "# Perfect prediction line\n",
    "fig.add_trace(go.Scatter(\n",
    "    x=y_test, y=y_test,\n",
    "    mode='lines',\n",
    "    name='Perfect Prediction (y=x)',\n",
    "    line=dict(color='black', dash='dash')\n",
    "))\n",
    "\n",
    "fig.update_layout(\n",
    "    title='Actual vs Predicted Values (All Regressors)',\n",
    "    xaxis_title='Actual',\n",
    "    yaxis_title='Predicted',\n",
    "    legend_title='Model',\n",
    "    width=700,\n",
    "    height=500\n",
    ")\n",
    "\n",
    "fig.show()"
   ]
  }
 ],
 "metadata": {
  "kernelspec": {
   "display_name": "pandas_pratice",
   "language": "python",
   "name": "python3"
  },
  "language_info": {
   "codemirror_mode": {
    "name": "ipython",
    "version": 3
   },
   "file_extension": ".py",
   "mimetype": "text/x-python",
   "name": "python",
   "nbconvert_exporter": "python",
   "pygments_lexer": "ipython3",
   "version": "3.13.0"
  }
 },
 "nbformat": 4,
 "nbformat_minor": 5
}
