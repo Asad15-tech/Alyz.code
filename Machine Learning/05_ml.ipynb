{
 "cells": [
  {
   "cell_type": "markdown",
   "id": "e1d36887",
   "metadata": {},
   "source": [
    "# Machine Learning"
   ]
  },
  {
   "cell_type": "markdown",
   "id": "bf128afb",
   "metadata": {},
   "source": [
    "## Scaling"
   ]
  },
  {
   "cell_type": "code",
   "execution_count": 2,
   "id": "583fc7c3",
   "metadata": {},
   "outputs": [],
   "source": [
    "# Importing Libraries\n",
    "import pandas as pd\n",
    "from sklearn.preprocessing import StandardScaler,MinMaxScaler,MaxAbsScaler,RobustScaler"
   ]
  },
  {
   "cell_type": "code",
   "execution_count": 5,
   "id": "b5b00d47",
   "metadata": {},
   "outputs": [
    {
     "name": "stdout",
     "output_type": "stream",
     "text": [
      "  Product  Units_Sold  Unit_Price  Total_Sales\n",
      "0       A         120        10.5       1260.0\n",
      "1       B          85        12.0       1020.0\n",
      "2       C          60         9.5        570.0\n",
      "3       D         150        11.0       1650.0\n",
      "4       E          95        13.5       1282.5\n"
     ]
    }
   ],
   "source": [
    "# Creating a DataFrame\n",
    "\n",
    "data = {\n",
    "    \"Product\": [\"A\", \"B\", \"C\", \"D\", \"E\"],\n",
    "    \"Units_Sold\": [120, 85, 60, 150, 95],\n",
    "    \"Unit_Price\": [10.5, 12.0, 9.5, 11.0, 13.5],\n",
    "    \"Total_Sales\": [1260, 1020, 570, 1650, 1282.5]\n",
    "}\n",
    "\n",
    "df = pd.DataFrame(data)\n",
    "print(df)"
   ]
  },
  {
   "cell_type": "markdown",
   "id": "e9069650",
   "metadata": {},
   "source": [
    "# Standard Scalar"
   ]
  },
  {
   "cell_type": "code",
   "execution_count": 6,
   "id": "e3a2d5af",
   "metadata": {},
   "outputs": [
    {
     "name": "stdout",
     "output_type": "stream",
     "text": [
      "   Units_Sold  Unit_Price  Total_Sales\n",
      "0    0.585230   -0.586588     0.290945\n",
      "1   -0.552718    0.513265    -0.383710\n",
      "2   -1.365538   -1.319824    -1.648689\n",
      "3    1.560615   -0.219971     1.387260\n",
      "4   -0.227590    1.613118     0.354194\n"
     ]
    }
   ],
   "source": [
    "# Implementing StandardScaler\n",
    "scaler = StandardScaler()\n",
    "scaled_data = scaler.fit_transform(df[[\"Units_Sold\", \"Unit_Price\", \"Total_Sales\"]])\n",
    "scaled_df = pd.DataFrame(scaled_data, columns=[\"Units_Sold\", \"Unit_Price\", \"Total_Sales\"])\n",
    "print(scaled_df)"
   ]
  },
  {
   "cell_type": "markdown",
   "id": "7a7080f6",
   "metadata": {},
   "source": [
    "## Min Max Scalar"
   ]
  },
  {
   "cell_type": "code",
   "execution_count": 7,
   "id": "04040f63",
   "metadata": {},
   "outputs": [
    {
     "name": "stdout",
     "output_type": "stream",
     "text": [
      "   Units_Sold  Unit_Price  Total_Sales\n",
      "0    0.666667       0.250     0.638889\n",
      "1    0.277778       0.625     0.416667\n",
      "2    0.000000       0.000     0.000000\n",
      "3    1.000000       0.375     1.000000\n",
      "4    0.388889       1.000     0.659722\n"
     ]
    }
   ],
   "source": [
    "# Implementing MinMaxScaler\n",
    "minmax_scaler = MinMaxScaler()\n",
    "minmax_scaled_data = minmax_scaler.fit_transform(df[[\"Units_Sold\", \"Unit_Price\", \"Total_Sales\"]])\n",
    "minmax_scaled_df = pd.DataFrame(minmax_scaled_data, columns=[\"Units_Sold\", \"Unit_Price\", \"Total_Sales\"])\n",
    "print(minmax_scaled_df)"
   ]
  },
  {
   "cell_type": "markdown",
   "id": "02e1b224",
   "metadata": {},
   "source": [
    "## Max Abs Scalar"
   ]
  },
  {
   "cell_type": "code",
   "execution_count": 8,
   "id": "0363db77",
   "metadata": {},
   "outputs": [
    {
     "name": "stdout",
     "output_type": "stream",
     "text": [
      "   Units_Sold  Unit_Price  Total_Sales\n",
      "0    0.800000    0.777778     0.763636\n",
      "1    0.566667    0.888889     0.618182\n",
      "2    0.400000    0.703704     0.345455\n",
      "3    1.000000    0.814815     1.000000\n",
      "4    0.633333    1.000000     0.777273\n"
     ]
    }
   ],
   "source": [
    "# Implementing MaxAbsScaler\n",
    "maxabs_scaler = MaxAbsScaler()\n",
    "maxabs_scaled_data = maxabs_scaler.fit_transform(df[[\"Units_Sold\", \"Unit_Price\", \"Total_Sales\"]])\n",
    "maxabs_scaled_df = pd.DataFrame(maxabs_scaled_data, columns=[\"Units_Sold\", \"Unit_Price\", \"Total_Sales\"])\n",
    "print(maxabs_scaled_df)"
   ]
  },
  {
   "cell_type": "markdown",
   "id": "c8f456d3",
   "metadata": {},
   "source": [
    "## Robust Scalar\n"
   ]
  },
  {
   "cell_type": "code",
   "execution_count": 9,
   "id": "8c0612c8",
   "metadata": {},
   "outputs": [
    {
     "name": "stdout",
     "output_type": "stream",
     "text": [
      "   Units_Sold  Unit_Price  Total_Sales\n",
      "0    0.714286   -0.333333     0.000000\n",
      "1   -0.285714    0.666667    -0.914286\n",
      "2   -1.000000   -1.000000    -2.628571\n",
      "3    1.571429    0.000000     1.485714\n",
      "4    0.000000    1.666667     0.085714\n"
     ]
    }
   ],
   "source": [
    "# Implementing RobustScaler\n",
    "robust_scaler = RobustScaler()\n",
    "robust_scaled_data = robust_scaler.fit_transform(df[[\"Units_Sold\", \"Unit_Price\", \"Total_Sales\"]])\n",
    "robust_scaled_df = pd.DataFrame(robust_scaled_data, columns=[\"Units_Sold\", \"Unit_Price\", \"Total_Sales\"])\n",
    "print(robust_scaled_df)"
   ]
  }
 ],
 "metadata": {
  "kernelspec": {
   "display_name": "pandas_pratice",
   "language": "python",
   "name": "python3"
  },
  "language_info": {
   "codemirror_mode": {
    "name": "ipython",
    "version": 3
   },
   "file_extension": ".py",
   "mimetype": "text/x-python",
   "name": "python",
   "nbconvert_exporter": "python",
   "pygments_lexer": "ipython3",
   "version": "3.13.0"
  }
 },
 "nbformat": 4,
 "nbformat_minor": 5
}
