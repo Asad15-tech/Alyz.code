{
 "cells": [
  {
   "cell_type": "markdown",
   "id": "3dd51042",
   "metadata": {},
   "source": [
    "# Machine Learning"
   ]
  },
  {
   "cell_type": "markdown",
   "id": "ab929879",
   "metadata": {},
   "source": [
    "## Cross Validation"
   ]
  },
  {
   "cell_type": "code",
   "execution_count": 23,
   "id": "ba795517",
   "metadata": {},
   "outputs": [],
   "source": [
    "# Importing Libraries\n",
    "import pandas as pd\n",
    "import numpy as np\n",
    "import seaborn as sns\n",
    "import matplotlib.pyplot as plt\n",
    "from sklearn.preprocessing import LabelEncoder, MinMaxScaler\n",
    "from sklearn.model_selection import cross_val_score, train_test_split\n",
    "from sklearn.ensemble import RandomForestRegressor"
   ]
  },
  {
   "cell_type": "code",
   "execution_count": 24,
   "id": "2e0efa23",
   "metadata": {},
   "outputs": [
    {
     "name": "stdout",
     "output_type": "stream",
     "text": [
      "   sepal_length  sepal_width  petal_length  petal_width species\n",
      "0           5.1          3.5           1.4          0.2  setosa\n",
      "1           4.9          3.0           1.4          0.2  setosa\n",
      "2           4.7          3.2           1.3          0.2  setosa\n",
      "3           4.6          3.1           1.5          0.2  setosa\n",
      "4           5.0          3.6           1.4          0.2  setosa\n"
     ]
    }
   ],
   "source": [
    "# Loading the Dataset\n",
    "df = sns.load_dataset(\"iris\")\n",
    "print(df.head())"
   ]
  },
  {
   "cell_type": "code",
   "execution_count": 25,
   "id": "ecfd488f",
   "metadata": {},
   "outputs": [
    {
     "name": "stdout",
     "output_type": "stream",
     "text": [
      "<class 'pandas.core.frame.DataFrame'>\n",
      "RangeIndex: 150 entries, 0 to 149\n",
      "Data columns (total 5 columns):\n",
      " #   Column        Non-Null Count  Dtype  \n",
      "---  ------        --------------  -----  \n",
      " 0   sepal_length  150 non-null    float64\n",
      " 1   sepal_width   150 non-null    float64\n",
      " 2   petal_length  150 non-null    float64\n",
      " 3   petal_width   150 non-null    float64\n",
      " 4   species       150 non-null    object \n",
      "dtypes: float64(4), object(1)\n",
      "memory usage: 6.0+ KB\n"
     ]
    }
   ],
   "source": [
    "# Getting Info of Dataset\n",
    "df.info()"
   ]
  },
  {
   "cell_type": "code",
   "execution_count": 26,
   "id": "2b19a005",
   "metadata": {},
   "outputs": [
    {
     "name": "stdout",
     "output_type": "stream",
     "text": [
      "sepal_length    0\n",
      "sepal_width     0\n",
      "petal_length    0\n",
      "petal_width     0\n",
      "species         0\n",
      "dtype: int64\n"
     ]
    }
   ],
   "source": [
    "# To check for missing values in our dataset.\n",
    "print(df.isnull().sum().sort_values(ascending=False))\n"
   ]
  },
  {
   "cell_type": "code",
   "execution_count": 27,
   "id": "e1dc4587",
   "metadata": {},
   "outputs": [],
   "source": [
    "# Let's Encode the Species Column.\n",
    "le = LabelEncoder()\n",
    "df[\"species\"] = le.fit_transform(df[\"species\"])\n"
   ]
  },
  {
   "cell_type": "code",
   "execution_count": 35,
   "id": "af1eef70",
   "metadata": {},
   "outputs": [
    {
     "name": "stdout",
     "output_type": "stream",
     "text": [
      "Scores for each fold: [np.float64(1.0), np.float64(0.9883), np.float64(0.0), np.float64(0.7978), np.float64(0.0)]\n",
      "Mean score: 0.5572\n",
      "Standard deviation: 0.4606\n"
     ]
    }
   ],
   "source": [
    "# Create a Model\n",
    "model = RandomForestRegressor()\n",
    "# Defining the Features and Target Variable.\n",
    "X = df.drop(\"species\",axis=1)\n",
    "y = df[\"species\"]\n",
    "# Perform k-fold cross-validation with k=5\n",
    "scores = cross_val_score(model, X, y, cv=5, scoring='r2')\n",
    "\n",
    "# Print the scores for each fold and the mean score\n",
    "print(\"Scores for each fold:\", [round(score, 4) for score in scores])\n",
    "print(f\"Mean score: {scores.mean():.4f}\")\n",
    "print(f\"Standard deviation: {scores.std():.4f}\")"
   ]
  },
  {
   "cell_type": "code",
   "execution_count": 36,
   "id": "edefba76",
   "metadata": {},
   "outputs": [
    {
     "data": {
      "image/png": "[encoded data removed]",
      "text/plain": [
       "<Figure size 800x400 with 1 Axes>"
      ]
     },
     "metadata": {},
     "output_type": "display_data"
    }
   ],
   "source": [
    "# ...existing code...\n",
    "import matplotlib.pyplot as plt\n",
    "\n",
    "# Visualize the cross-validation scores\n",
    "plt.figure(figsize=(8, 4))\n",
    "plt.bar(range(1, len(scores) + 1), scores, color='skyblue')\n",
    "plt.xlabel('Fold')\n",
    "plt.ylabel('R2 Score')\n",
    "plt.title('Cross-Validation Scores per Fold')\n",
    "plt.ylim(0, 1)\n",
    "plt.xticks(range(1, len(scores) + 1))\n",
    "plt.grid(axis='y', linestyle='--', alpha=0.7)\n",
    "plt.show()\n",
    "# ...existing code..."
   ]
  },
  {
   "cell_type": "code",
   "execution_count": 39,
   "id": "2f9e0b01",
   "metadata": {},
   "outputs": [
    {
     "name": "stdout",
     "output_type": "stream",
     "text": [
      "R2 score on test set: 1.0000\n"
     ]
    }
   ],
   "source": [
    "# ...existing code...\n",
    "from sklearn.metrics import r2_score\n",
    "from sklearn.tree import DecisionTreeClassifier\n",
    "\n",
    "# Split the data into train and test sets\n",
    "X_train, X_test, y_train, y_test = train_test_split(X, y, test_size=0.2, random_state=42)\n",
    "\n",
    "# Train the model\n",
    "model = DecisionTreeClassifier()\n",
    "model.fit(X_train, y_train)\n",
    "\n",
    "# Predict on the test set\n",
    "y_pred = model.predict(X_test)\n",
    "\n",
    "# Calculate R2 score\n",
    "r2 = r2_score(y_test, y_pred)\n",
    "print(f\"R2 score on test set: {r2:.4f}\")\n",
    "# ...existing code..."
   ]
  },
  {
   "cell_type": "code",
   "execution_count": 43,
   "id": "2059a39b",
   "metadata": {},
   "outputs": [
    {
     "name": "stdout",
     "output_type": "stream",
     "text": [
      "Actual vs Predicted values (first 10):\n",
      "Actual: 1 (versicolor), Predicted: 1 (versicolor)\n",
      "Actual: 0 (setosa), Predicted: 0 (setosa)\n",
      "Actual: 2 (virginica), Predicted: 2 (virginica)\n",
      "Actual: 1 (versicolor), Predicted: 1 (versicolor)\n",
      "Actual: 1 (versicolor), Predicted: 1 (versicolor)\n",
      "Actual: 0 (setosa), Predicted: 0 (setosa)\n",
      "Actual: 1 (versicolor), Predicted: 1 (versicolor)\n",
      "Actual: 2 (virginica), Predicted: 2 (virginica)\n",
      "Actual: 1 (versicolor), Predicted: 1 (versicolor)\n",
      "Actual: 1 (versicolor), Predicted: 1 (versicolor)\n"
     ]
    }
   ],
   "source": [
    "\n",
    "\n",
    "# Show some predictions vs actual values (decoded)\n",
    "print(\"Actual vs Predicted values (first 10):\")\n",
    "actual_decoded = le.inverse_transform(y_test[:10])\n",
    "pred_decoded = le.inverse_transform(y_pred[:10])\n",
    "for actual_num, pred_num, actual_str, pred_str in zip(y_test[:10], y_pred[:10], actual_decoded, pred_decoded):\n",
    "    print(f\"Actual: {actual_num} ({actual_str}), Predicted: {pred_num} ({pred_str})\")"
   ]
  }
 ],
 "metadata": {
  "kernelspec": {
   "display_name": "pandas_pratice",
   "language": "python",
   "name": "python3"
  },
  "language_info": {
   "codemirror_mode": {
    "name": "ipython",
    "version": 3
   },
   "file_extension": ".py",
   "mimetype": "text/x-python",
   "name": "python",
   "nbconvert_exporter": "python",
   "pygments_lexer": "ipython3",
   "version": "3.13.0"
  }
 },
 "nbformat": 4,
 "nbformat_minor": 5
}
