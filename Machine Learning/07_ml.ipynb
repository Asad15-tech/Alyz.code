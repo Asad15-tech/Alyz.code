{
 "cells": [
  {
   "cell_type": "markdown",
   "id": "c7e86de4",
   "metadata": {},
   "source": [
    "# Machine Learning"
   ]
  },
  {
   "cell_type": "markdown",
   "id": "a593ee6f",
   "metadata": {},
   "source": [
    "## Feature Encoding\n",
    "### `Feature Encoding` is the process of converting categorical data (such as text labels or categories) into a numerical format that can be used by machine learning algorithms. Most algorithms require input features to be numeric, so encoding is essential for handling non-numeric (categorical) variables.\n",
    "### Main Encoders include\n",
    "- Label Encoder\n",
    "- One Hot Encoder\n",
    "- Ordinal Encoder"
   ]
  },
  {
   "cell_type": "code",
   "execution_count": 1,
   "id": "79777d43",
   "metadata": {},
   "outputs": [],
   "source": [
    "# Importing Libraries\n",
    "import pandas as pd\n",
    "import numpy as np\n",
    "import matplotlib.pyplot as plt\n",
    "import seaborn as sns"
   ]
  },
  {
   "cell_type": "code",
   "execution_count": 4,
   "id": "2607c8fe",
   "metadata": {},
   "outputs": [
    {
     "name": "stdout",
     "output_type": "stream",
     "text": [
      "   survived  pclass     sex   age  sibsp  parch     fare embarked  class  \\\n",
      "0         0       3    male  22.0      1      0   7.2500        S  Third   \n",
      "1         1       1  female  38.0      1      0  71.2833        C  First   \n",
      "2         1       3  female  26.0      0      0   7.9250        S  Third   \n",
      "3         1       1  female  35.0      1      0  53.1000        S  First   \n",
      "4         0       3    male  35.0      0      0   8.0500        S  Third   \n",
      "\n",
      "     who  adult_male deck  embark_town alive  alone  \n",
      "0    man        True  NaN  Southampton    no  False  \n",
      "1  woman       False    C    Cherbourg   yes  False  \n",
      "2  woman       False  NaN  Southampton   yes   True  \n",
      "3  woman       False    C  Southampton   yes  False  \n",
      "4    man        True  NaN  Southampton    no   True  \n"
     ]
    }
   ],
   "source": [
    "# Loading the dataset\n",
    "df = sns.load_dataset(\"titanic\")\n",
    "print(df.head())"
   ]
  },
  {
   "cell_type": "code",
   "execution_count": 6,
   "id": "6144852d",
   "metadata": {},
   "outputs": [
    {
     "name": "stdout",
     "output_type": "stream",
     "text": [
      "['man' 'woman' 'child']\n",
      "who\n",
      "man      537\n",
      "woman    271\n",
      "child     83\n",
      "Name: count, dtype: int64\n"
     ]
    }
   ],
   "source": [
    "# Displaying the unique values in the 'who' column\n",
    "print(df[\"who\"].unique())\n",
    "# Diaplaying the value counts of the 'who' column\n",
    "print(df[\"who\"].value_counts())"
   ]
  },
  {
   "cell_type": "markdown",
   "id": "4a1825d7",
   "metadata": {},
   "source": [
    "## Label Encoder"
   ]
  },
  {
   "cell_type": "code",
   "execution_count": 19,
   "id": "1b403026",
   "metadata": {},
   "outputs": [
    {
     "name": "stdout",
     "output_type": "stream",
     "text": [
      "     who  Encoded_who\n",
      "0    man            1\n",
      "1  woman            2\n",
      "2  woman            2\n",
      "3  woman            2\n",
      "4    man            1\n",
      "5    man            1\n",
      "6    man            1\n",
      "7  child            0\n",
      "8  woman            2\n",
      "9  child            0\n",
      "---------------------------------\n",
      "Unique values in who: ['man' 'woman' 'child']\n",
      "Unique values in Encoded_who: [1 2 0]\n",
      "---------------------------------\n",
      "Unique values in  who\n",
      "man      537\n",
      "woman    271\n",
      "child     83\n",
      "Name: count, dtype: int64\n",
      "Unique values in  Encoded_who\n",
      "1    537\n",
      "2    271\n",
      "0     83\n",
      "Name: count, dtype: int64\n"
     ]
    }
   ],
   "source": [
    "# Importing Differnet Encoders from SK-Learn Library\n",
    "from sklearn.preprocessing import LabelEncoder, OneHotEncoder, OrdinalEncoder\n",
    "# Creating an instance of LabelEncoder\n",
    "le = LabelEncoder()\n",
    "# Encoding the 'who' column using LabelEncoder\n",
    "df[\"Encoded_who\"] = le.fit_transform(df[\"who\"])\n",
    "# Displaying the first few rows of the DataFrame with the new encoded column\n",
    "print(df[[\"who\", \"Encoded_who\"]].head(10))\n",
    "print(\"---------------------------------\")\n",
    "# Check unique values in multiple columns\n",
    "columns = ['who', 'Encoded_who']  \n",
    "for col in columns:\n",
    "    print(f\"Unique values in {col}: {df[col].unique()}\")\n",
    "print(\"---------------------------------\")    \n",
    "# Displaying the value counts of the 'Encoded_who' column\n",
    "columns = ['who', 'Encoded_who']  \n",
    "for col in columns:\n",
    "    print(f\"Unique values in  {df[col].value_counts()}\")"
   ]
  },
  {
   "cell_type": "markdown",
   "id": "441948f1",
   "metadata": {},
   "source": [
    "## One Hot Encoder"
   ]
  },
  {
   "cell_type": "code",
   "execution_count": 48,
   "id": "e298c002",
   "metadata": {},
   "outputs": [
    {
     "name": "stdout",
     "output_type": "stream",
     "text": [
      "   total_bill   tip     sex smoker  day    time  size\n",
      "0       16.99  1.01  Female     No  Sun  Dinner     2\n",
      "1       10.34  1.66    Male     No  Sun  Dinner     3\n",
      "2       21.01  3.50    Male     No  Sun  Dinner     3\n",
      "3       23.68  3.31    Male     No  Sun  Dinner     2\n",
      "4       24.59  3.61  Female     No  Sun  Dinner     4\n",
      "---------------------------------\n",
      "['Sun', 'Sat', 'Thur', 'Fri']\n",
      "Categories (4, object): ['Thur', 'Fri', 'Sat', 'Sun']\n",
      "day\n",
      "Sat     87\n",
      "Sun     76\n",
      "Thur    62\n",
      "Fri     19\n",
      "Name: count, dtype: int64\n"
     ]
    }
   ],
   "source": [
    "# Loading the dataset\n",
    "df = sns.load_dataset(\"tips\")\n",
    "print(df.head())\n",
    "print(\"---------------------------------\")\n",
    "# Displaying the unique values in the 'day' column\n",
    "print(df[\"day\"].unique())\n",
    "# Displaying the value counts of the 'day' column\n",
    "print(df[\"day\"].value_counts())"
   ]
  },
  {
   "cell_type": "code",
   "execution_count": 49,
   "id": "cfe98956",
   "metadata": {},
   "outputs": [
    {
     "name": "stdout",
     "output_type": "stream",
     "text": [
      "First 5 rows of the DataFrame with OneHotEncoded columns:\n",
      "   total_bill   tip     sex smoker  day    time  size  day_Fri  day_Sat  \\\n",
      "0       16.99  1.01  Female     No  Sun  Dinner     2      0.0      0.0   \n",
      "1       10.34  1.66    Male     No  Sun  Dinner     3      0.0      0.0   \n",
      "2       21.01  3.50    Male     No  Sun  Dinner     3      0.0      0.0   \n",
      "3       23.68  3.31    Male     No  Sun  Dinner     2      0.0      0.0   \n",
      "4       24.59  3.61  Female     No  Sun  Dinner     4      0.0      0.0   \n",
      "\n",
      "   day_Sun  day_Thur  \n",
      "0      1.0       0.0  \n",
      "1      1.0       0.0  \n",
      "2      1.0       0.0  \n",
      "3      1.0       0.0  \n",
      "4      1.0       0.0  \n",
      "Last 5 rows of the DataFrame with OneHotEncoded columns:\n",
      "     total_bill   tip     sex smoker   day    time  size  day_Fri  day_Sat  \\\n",
      "239       29.03  5.92    Male     No   Sat  Dinner     3      0.0      1.0   \n",
      "240       27.18  2.00  Female    Yes   Sat  Dinner     2      0.0      1.0   \n",
      "241       22.67  2.00    Male    Yes   Sat  Dinner     2      0.0      1.0   \n",
      "242       17.82  1.75    Male     No   Sat  Dinner     2      0.0      1.0   \n",
      "243       18.78  3.00  Female     No  Thur  Dinner     2      0.0      0.0   \n",
      "\n",
      "     day_Sun  day_Thur  \n",
      "239      0.0       0.0  \n",
      "240      0.0       0.0  \n",
      "241      0.0       0.0  \n",
      "242      0.0       0.0  \n",
      "243      0.0       1.0  \n",
      "---------------------------------\n",
      "Unique values in the new encoded columns:\n",
      "Unique values in day_Fri: [0. 1.]\n",
      "Unique values in day_Sat: [0. 1.]\n",
      "Unique values in day_Sun: [1. 0.]\n",
      "Unique values in day_Thur: [0. 1.]\n"
     ]
    }
   ],
   "source": [
    "# Creating an instance of OneHotEncoder\n",
    "ohe = OneHotEncoder(sparse_output=False, drop=None)\n",
    "# Encoding the 'day' column using OneHotEncoder\n",
    "Day_Encoded = ohe.fit_transform(df[[\"day\"]])\n",
    "# Displaying the original DataFrame with the new encoded columns\n",
    "encoded_cols = ohe.get_feature_names_out([\"day\"])\n",
    "df = pd.concat([df, pd.DataFrame(Day_Encoded, columns=encoded_cols, index=df.index)], axis=1)\n",
    "print(\"First 5 rows of the DataFrame with OneHotEncoded columns:\")\n",
    "print(df.head(5))\n",
    "print(\"Last 5 rows of the DataFrame with OneHotEncoded columns:\")\n",
    "print(df.tail(5))\n",
    "# Displaying the unique values in the new encoded columns\n",
    "print(\"---------------------------------\")\n",
    "print(\"Unique values in the new encoded columns:\")\n",
    "for col in encoded_cols:\n",
    "    print(f\"Unique values in {col}: {df[col].unique()}\")"
   ]
  },
  {
   "cell_type": "code",
   "execution_count": 50,
   "id": "e981c6a2",
   "metadata": {},
   "outputs": [
    {
     "name": "stdout",
     "output_type": "stream",
     "text": [
      "---------------------------------\n",
      "Only newly created columns:\n",
      "   day_Fri  day_Sat  day_Sun  day_Thur\n",
      "0      0.0      0.0      1.0       0.0\n",
      "1      0.0      0.0      1.0       0.0\n",
      "2      0.0      0.0      1.0       0.0\n",
      "3      0.0      0.0      1.0       0.0\n",
      "4      0.0      0.0      1.0       0.0\n",
      "---------------------------------\n",
      "Value counts for day_Fri:\n",
      "day_Fri\n",
      "0.0    225\n",
      "1.0     19\n",
      "Name: count, dtype: int64\n",
      "---------------------------------\n",
      "Value counts for day_Sat:\n",
      "day_Sat\n",
      "0.0    157\n",
      "1.0     87\n",
      "Name: count, dtype: int64\n",
      "---------------------------------\n",
      "Value counts for day_Sun:\n",
      "day_Sun\n",
      "0.0    168\n",
      "1.0     76\n",
      "Name: count, dtype: int64\n",
      "---------------------------------\n",
      "Value counts for day_Thur:\n",
      "day_Thur\n",
      "0.0    182\n",
      "1.0     62\n",
      "Name: count, dtype: int64\n",
      "---------------------------------\n"
     ]
    }
   ],
   "source": [
    "# Display the only newly created columns\n",
    "print(\"---------------------------------\")\n",
    "print(\"Only newly created columns:\")\n",
    "print(df[encoded_cols].head(5))\n",
    "# Displaying the value counts of the new encoded columns\n",
    "print(\"---------------------------------\")\n",
    "for col in encoded_cols:\n",
    "    print(f\"Value counts for {col}:\")\n",
    "    print(df[col].value_counts())\n",
    "    print(\"---------------------------------\")"
   ]
  },
  {
   "cell_type": "code",
   "execution_count": 52,
   "id": "c0b8ebdd",
   "metadata": {},
   "outputs": [
    {
     "name": "stdout",
     "output_type": "stream",
     "text": [
      "Value counts for original 'day' column:\n",
      "day\n",
      "Sat     87\n",
      "Sun     76\n",
      "Thur    62\n",
      "Fri     19\n",
      "Name: count, dtype: int64\n"
     ]
    }
   ],
   "source": [
    "# For Confirmation, displaying the value counts of the original 'day' column\n",
    "print(\"Value counts for original 'day' column:\")\n",
    "print(df[\"day\"].value_counts())"
   ]
  },
  {
   "cell_type": "markdown",
   "id": "1349ea9b",
   "metadata": {},
   "source": [
    "## Ordinal Encoder"
   ]
  },
  {
   "cell_type": "code",
   "execution_count": 53,
   "id": "441e14eb",
   "metadata": {},
   "outputs": [
    {
     "name": "stdout",
     "output_type": "stream",
     "text": [
      "   survived  pclass     sex   age  sibsp  parch     fare embarked  class  \\\n",
      "0         0       3    male  22.0      1      0   7.2500        S  Third   \n",
      "1         1       1  female  38.0      1      0  71.2833        C  First   \n",
      "2         1       3  female  26.0      0      0   7.9250        S  Third   \n",
      "3         1       1  female  35.0      1      0  53.1000        S  First   \n",
      "4         0       3    male  35.0      0      0   8.0500        S  Third   \n",
      "\n",
      "     who  adult_male deck  embark_town alive  alone  \n",
      "0    man        True  NaN  Southampton    no  False  \n",
      "1  woman       False    C    Cherbourg   yes  False  \n",
      "2  woman       False  NaN  Southampton   yes   True  \n",
      "3  woman       False    C  Southampton   yes  False  \n",
      "4    man        True  NaN  Southampton    no   True  \n"
     ]
    }
   ],
   "source": [
    "df = sns.load_dataset(\"titanic\")\n",
    "# Displaying the first few rows of the DataFrame\n",
    "print(df.head())"
   ]
  },
  {
   "cell_type": "code",
   "execution_count": 54,
   "id": "e86e517a",
   "metadata": {},
   "outputs": [
    {
     "name": "stdout",
     "output_type": "stream",
     "text": [
      "First 10 rows of the DataFrame with OrdinalEncoded column:\n",
      "    class  Encoded_class\n",
      "0   Third            2.0\n",
      "1   First            0.0\n",
      "2   Third            2.0\n",
      "3   First            0.0\n",
      "4   Third            2.0\n",
      "5   Third            2.0\n",
      "6   First            0.0\n",
      "7   Third            2.0\n",
      "8   Third            2.0\n",
      "9  Second            1.0\n"
     ]
    }
   ],
   "source": [
    "# Creating an instance of OrdinalEncoder\n",
    "oe = OrdinalEncoder(categories=[['First','Second','Third']])\n",
    "# Encoding the 'class' column using OrdinalEncoder\n",
    "df[\"Encoded_class\"] = oe.fit_transform(df[[\"class\"]])\n",
    "# Displaying the first few rows of the DataFrame with the new encoded column\n",
    "print(\"First 10 rows of the DataFrame with OrdinalEncoded column:\")\n",
    "print(df[[\"class\", \"Encoded_class\"]].head(10))"
   ]
  },
  {
   "cell_type": "markdown",
   "id": "d053f04f",
   "metadata": {},
   "source": [
    "## How to use Pandas for Feature Encoding."
   ]
  },
  {
   "cell_type": "code",
   "execution_count": 62,
   "id": "c2e15cb7",
   "metadata": {},
   "outputs": [
    {
     "name": "stdout",
     "output_type": "stream",
     "text": [
      "   survived  pclass     sex   age  sibsp  parch     fare embarked  class  \\\n",
      "0         0       3    male  22.0      1      0   7.2500        S  Third   \n",
      "1         1       1  female  38.0      1      0  71.2833        C  First   \n",
      "2         1       3  female  26.0      0      0   7.9250        S  Third   \n",
      "3         1       1  female  35.0      1      0  53.1000        S  First   \n",
      "4         0       3    male  35.0      0      0   8.0500        S  Third   \n",
      "\n",
      "     who  adult_male deck  embark_town alive  alone  \n",
      "0    man        True  NaN  Southampton    no  False  \n",
      "1  woman       False    C    Cherbourg   yes  False  \n",
      "2  woman       False  NaN  Southampton   yes   True  \n",
      "3  woman       False    C  Southampton   yes  False  \n",
      "4    man        True  NaN  Southampton    no   True  \n"
     ]
    }
   ],
   "source": [
    "df = sns.load_dataset(\"titanic\")\n",
    "# Displaying the first few rows of the DataFrame\n",
    "print(df.head())"
   ]
  },
  {
   "cell_type": "code",
   "execution_count": 63,
   "id": "fdbf1ca2",
   "metadata": {},
   "outputs": [
    {
     "name": "stdout",
     "output_type": "stream",
     "text": [
      "First 5 rows of the DataFrame with dummy variables:\n",
      "   survived  pclass     sex   age  sibsp  parch     fare embarked  class  \\\n",
      "0         0       3    male  22.0      1      0   7.2500        S  Third   \n",
      "1         1       1  female  38.0      1      0  71.2833        C  First   \n",
      "2         1       3  female  26.0      0      0   7.9250        S  Third   \n",
      "3         1       1  female  35.0      1      0  53.1000        S  First   \n",
      "4         0       3    male  35.0      0      0   8.0500        S  Third   \n",
      "\n",
      "     who  adult_male deck alive  alone  embark_town_Cherbourg  \\\n",
      "0    man        True  NaN    no  False                  False   \n",
      "1  woman       False    C   yes  False                   True   \n",
      "2  woman       False  NaN   yes   True                  False   \n",
      "3  woman       False    C   yes  False                  False   \n",
      "4    man        True  NaN    no   True                  False   \n",
      "\n",
      "   embark_town_Queenstown  embark_town_Southampton  \n",
      "0                   False                     True  \n",
      "1                   False                    False  \n",
      "2                   False                     True  \n",
      "3                   False                     True  \n",
      "4                   False                     True  \n"
     ]
    }
   ],
   "source": [
    "dummy = pd.get_dummies(df, columns=[\"embark_town\"],  drop_first=False)\n",
    "# Displaying the first few rows of the DataFrame with dummy variables\n",
    "print(\"First 5 rows of the DataFrame with dummy variables:\")\n",
    "print(dummy.head(5))"
   ]
  }
 ],
 "metadata": {
  "kernelspec": {
   "display_name": "pandas_pratice",
   "language": "python",
   "name": "python3"
  },
  "language_info": {
   "codemirror_mode": {
    "name": "ipython",
    "version": 3
   },
   "file_extension": ".py",
   "mimetype": "text/x-python",
   "name": "python",
   "nbconvert_exporter": "python",
   "pygments_lexer": "ipython3",
   "version": "3.13.0"
  }
 },
 "nbformat": 4,
 "nbformat_minor": 5
}
