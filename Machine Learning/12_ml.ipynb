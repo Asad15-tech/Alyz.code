{
 "cells": [
  {
   "cell_type": "markdown",
   "id": "8db5d565",
   "metadata": {},
   "source": [
    "# Machine Learning\n"
   ]
  },
  {
   "cell_type": "markdown",
   "id": "f094bae4",
   "metadata": {},
   "source": [
    "## Linear Regression"
   ]
  },
  {
   "cell_type": "code",
   "execution_count": null,
   "id": "49e1a8ed",
   "metadata": {},
   "outputs": [],
   "source": [
    "import pandas as pd\n",
    "import seaborn as sns\n",
    "import numpy as np\n",
    "import matplotlib.pyplot as plt\n",
    "from sklearn.preprocessing import StandardScaler,MinMaxScaler,OneHotEncoder,LabelEncoder\n",
    "from sklearn.linear_model import LinearRegression"
   ]
  },
  {
   "cell_type": "code",
   "execution_count": 6,
   "id": "fe99e30f",
   "metadata": {},
   "outputs": [
    {
     "name": "stdout",
     "output_type": "stream",
     "text": [
      "               pickup             dropoff  passengers  distance  fare   tip  \\\n",
      "0 2019-03-23 20:21:09 2019-03-23 20:27:24           1      1.60   7.0  2.15   \n",
      "1 2019-03-04 16:11:55 2019-03-04 16:19:00           1      0.79   5.0  0.00   \n",
      "2 2019-03-27 17:53:01 2019-03-27 18:00:25           1      1.37   7.5  2.36   \n",
      "3 2019-03-10 01:23:59 2019-03-10 01:49:51           1      7.70  27.0  6.15   \n",
      "4 2019-03-30 13:27:42 2019-03-30 13:37:14           3      2.16   9.0  1.10   \n",
      "\n",
      "   tolls  total   color      payment            pickup_zone  \\\n",
      "0    0.0  12.95  yellow  credit card        Lenox Hill West   \n",
      "1    0.0   9.30  yellow         cash  Upper West Side South   \n",
      "2    0.0  14.16  yellow  credit card          Alphabet City   \n",
      "3    0.0  36.95  yellow  credit card              Hudson Sq   \n",
      "4    0.0  13.40  yellow  credit card           Midtown East   \n",
      "\n",
      "            dropoff_zone pickup_borough dropoff_borough  \n",
      "0    UN/Turtle Bay South      Manhattan       Manhattan  \n",
      "1  Upper West Side South      Manhattan       Manhattan  \n",
      "2           West Village      Manhattan       Manhattan  \n",
      "3         Yorkville West      Manhattan       Manhattan  \n",
      "4         Yorkville West      Manhattan       Manhattan  \n"
     ]
    }
   ],
   "source": [
    "# Setting to display maximum rows and columns\n",
    "pd.set_option(\"display.max_rows\",None)\n",
    "pd.set_option(\"display.max_columns\",None)\n",
    "# Loading Dataset\n",
    "df = sns.load_dataset(\"taxis\")\n",
    "# Display first few rows\n",
    "print(df.head())"
   ]
  },
  {
   "cell_type": "code",
   "execution_count": 8,
   "id": "23316836",
   "metadata": {},
   "outputs": [
    {
     "data": {
      "text/plain": [
       "Index(['pickup', 'dropoff', 'passengers', 'distance', 'fare', 'tip', 'tolls',\n",
       "       'total', 'color', 'payment', 'pickup_zone', 'dropoff_zone',\n",
       "       'pickup_borough', 'dropoff_borough'],\n",
       "      dtype='object')"
      ]
     },
     "execution_count": 8,
     "metadata": {},
     "output_type": "execute_result"
    }
   ],
   "source": [
    "# Let's check the name of columns\n",
    "df.columns"
   ]
  },
  {
   "cell_type": "code",
   "execution_count": 9,
   "metadata": {},
   "outputs": [
    {
     "name": "stdout",
     "output_type": "stream",
     "text": [
      "pickup              0\n",
      "dropoff             0\n",
      "passengers          0\n",
      "distance            0\n",
      "fare                0\n",
      "tip                 0\n",
      "tolls               0\n",
      "total               0\n",
      "color               0\n",
      "payment            44\n",
      "pickup_zone        26\n",
      "dropoff_zone       45\n",
      "pickup_borough     26\n",
      "dropoff_borough    45\n",
      "dtype: int64\n"
     ]
    }
   ],
   "source": [
    "# Let's check for missing values\n",
    "print(df.isnull().sum())"
   ]
  },
  {
   "cell_type": "code",
   "execution_count": 11,
   "id": "2ba54126",
   "metadata": {},
   "outputs": [
    {
     "name": "stdout",
     "output_type": "stream",
     "text": [
      "pickup             0.000000\n",
      "dropoff            0.000000\n",
      "passengers         0.000000\n",
      "distance           0.000000\n",
      "fare               0.000000\n",
      "tip                0.000000\n",
      "tolls              0.000000\n",
      "total              0.000000\n",
      "color              0.000000\n",
      "payment            0.683973\n",
      "pickup_zone        0.404166\n",
      "dropoff_zone       0.699518\n",
      "pickup_borough     0.404166\n",
      "dropoff_borough    0.699518\n",
      "dtype: float64\n"
     ]
    }
   ],
   "source": [
    "# Let's check the missing values percentage\n",
    "print(df.isnull().sum() / len(df) * 100)\n"
   ]
  },
  {
   "cell_type": "code",
   "execution_count": 12,
   "id": "29efdda3",
   "metadata": {},
   "outputs": [
    {
     "name": "stdout",
     "output_type": "stream",
     "text": [
      "       payment            pickup_zone           dropoff_zone pickup_borough  \\\n",
      "0  credit card        Lenox Hill West    UN/Turtle Bay South      Manhattan   \n",
      "1         cash  Upper West Side South  Upper West Side South      Manhattan   \n",
      "2  credit card          Alphabet City           West Village      Manhattan   \n",
      "3  credit card              Hudson Sq         Yorkville West      Manhattan   \n",
      "4  credit card           Midtown East         Yorkville West      Manhattan   \n",
      "\n",
      "  dropoff_borough  \n",
      "0       Manhattan  \n",
      "1       Manhattan  \n",
      "2       Manhattan  \n",
      "3       Manhattan  \n",
      "4       Manhattan  \n"
     ]
    }
   ],
   "source": [
    "print(df[[\"payment\",\"pickup_zone\",\"dropoff_zone\",\"pickup_borough\",\"dropoff_borough\"]].head())"
   ]
  },
  {
   "cell_type": "code",
   "execution_count": 14,
   "id": "eb49cc00",
   "metadata": {},
   "outputs": [
    {
     "name": "stdout",
     "output_type": "stream",
     "text": [
      "pickup             0\n",
      "dropoff            0\n",
      "passengers         0\n",
      "distance           0\n",
      "fare               0\n",
      "tip                0\n",
      "tolls              0\n",
      "total              0\n",
      "color              0\n",
      "payment            0\n",
      "pickup_zone        0\n",
      "dropoff_zone       0\n",
      "pickup_borough     0\n",
      "dropoff_borough    0\n",
      "dtype: int64\n"
     ]
    }
   ],
   "source": [
    "# Fill missing values using the mode for each column\n",
    "for column in df.columns:\n",
    "    if df[column].isnull().any():  # Check if there are missing values\n",
    "        mode_value = df[column].mode()[0]  # Get the mode\n",
    "        df[column].fillna(mode_value, inplace=True)  # Fill missing values\n",
    "\n",
    "# Check if there are any missing values left\n",
    "print(df.isnull().sum())"
   ]
  },
  {
   "cell_type": "code",
   "execution_count": 15,
   "id": "ed4a82ad",
   "metadata": {},
   "outputs": [
    {
     "name": "stdout",
     "output_type": "stream",
     "text": [
      "               pickup             dropoff  passengers  distance  fare   tip  \\\n",
      "0 2019-03-23 20:21:09 2019-03-23 20:27:24           1      1.60   7.0  2.15   \n",
      "1 2019-03-04 16:11:55 2019-03-04 16:19:00           1      0.79   5.0  0.00   \n",
      "2 2019-03-27 17:53:01 2019-03-27 18:00:25           1      1.37   7.5  2.36   \n",
      "3 2019-03-10 01:23:59 2019-03-10 01:49:51           1      7.70  27.0  6.15   \n",
      "4 2019-03-30 13:27:42 2019-03-30 13:37:14           3      2.16   9.0  1.10   \n",
      "\n",
      "   tolls  total  color  payment  pickup_zone  dropoff_zone  pickup_borough  \\\n",
      "0    0.0  12.95      1        1           99           176               2   \n",
      "1    0.0   9.30      1        0          174           182               2   \n",
      "2    0.0  14.16      1        1            1           190               2   \n",
      "3    0.0  36.95      1        1           86           202               2   \n",
      "4    0.0  13.40      1        1          116           202               2   \n",
      "\n",
      "   dropoff_borough  \n",
      "0                2  \n",
      "1                2  \n",
      "2                2  \n",
      "3                2  \n",
      "4                2  \n"
     ]
    }
   ],
   "source": [
    "# Create a LabelEncoder instance\n",
    "label_encoder = LabelEncoder()\n",
    "\n",
    "# Apply label encoding to all columns except 'fare'\n",
    "for column in df.columns:\n",
    "    if column != 'fare' and df[column].dtype == 'object':\n",
    "        df[column] = label_encoder.fit_transform(df[column])\n",
    "\n",
    "# Display the transformed DataFrame\n",
    "print(df.head())"
   ]
  },
  {
   "cell_type": "code",
   "execution_count": 17,
   "id": "24e29b78",
   "metadata": {},
   "outputs": [
    {
     "name": "stdout",
     "output_type": "stream",
     "text": [
      "Mean Squared Error: 0.6975140375551041\n",
      "R-squared: 0.9944981898368453\n"
     ]
    }
   ],
   "source": [
    "# Drop all datetime columns from features\n",
    "X = df.drop(['fare'], axis=1)\n",
    "datetime_cols = X.select_dtypes(include=['datetime', 'datetime64[ns]']).columns\n",
    "X = X.drop(datetime_cols, axis=1)\n",
    "\n",
    "# Now split and train as before\n",
    "X_train, X_test, y_train, y_test = train_test_split(X, y, test_size=0.2, random_state=42)\n",
    "\n",
    "model = LinearRegression()\n",
    "model.fit(X_train, y_train)\n",
    "y_pred = model.predict(X_test)\n",
    "\n",
    "mse = mean_squared_error(y_test, y_pred)\n",
    "r2 = r2_score(y_test, y_pred)\n",
    "\n",
    "print(\"Mean Squared Error:\", mse)\n",
    "print(\"R-squared:\", r2)"
   ]
  },
  {
   "cell_type": "code",
   "execution_count": 18,
   "id": "f3298f41",
   "metadata": {},
   "outputs": [
    {
     "name": "stdout",
     "output_type": "stream",
     "text": [
      "      Actual  Predicted\n",
      "1056     5.5   6.087014\n",
      "5845     4.0   3.515981\n",
      "5430     9.0   9.242677\n",
      "315      8.0   8.406649\n",
      "3469     4.5   5.284127\n",
      "1375    19.5  19.193506\n",
      "151     34.0  33.285127\n",
      "2787     8.5   8.996315\n",
      "5153     4.5   4.586513\n",
      "3740    12.0  11.572312\n"
     ]
    }
   ],
   "source": [
    "# Check a sample of actual vs predicted values\n",
    "sample_df = pd.DataFrame({'Actual': y_test, 'Predicted': y_pred})\n",
    "print(sample_df.sample(10))  "
   ]
  },
  {
   "cell_type": "code",
   "execution_count": 19,
   "id": "2b6a4c73",
   "metadata": {},
   "outputs": [
    {
     "data": {
      "image/png": "[encoded data removed]",
      "text/plain": [
       "<Figure size 1000x600 with 1 Axes>"
      ]
     },
     "metadata": {},
     "output_type": "display_data"
    }
   ],
   "source": [
    "# Assuming you have the actual and predicted values from the previous steps\n",
    "# Create a DataFrame for visualization\n",
    "visualization_df = pd.DataFrame({'Actual': y_test, 'Predicted': y_pred})\n",
    "\n",
    "# Set the style of seaborn\n",
    "sns.set(style='whitegrid')\n",
    "\n",
    "# Create a scatter plot\n",
    "plt.figure(figsize=(10, 6))\n",
    "sns.scatterplot(x='Actual', y='Predicted', data=visualization_df, alpha=0.6)\n",
    "plt.plot([visualization_df['Actual'].min(), visualization_df['Actual'].max()],\n",
    "         [visualization_df['Actual'].min(), visualization_df['Actual'].max()],\n",
    "         color='red', linestyle='--')  # Line for perfect predictions\n",
    "plt.title('Actual vs Predicted Fare')\n",
    "plt.xlabel('Actual Fare')\n",
    "plt.ylabel('Predicted Fare')\n",
    "plt.xlim(visualization_df['Actual'].min(), visualization_df['Actual'].max())\n",
    "plt.ylim(visualization_df['Actual'].min(), visualization_df['Actual'].max())\n",
    "plt.show()"
   ]
  },
  {
   "cell_type": "code",
   "execution_count": 20,
   "id": "cd8219f0",
   "metadata": {},
   "outputs": [],
   "source": [
    "# Save the model\n",
    "import pickle\n",
    "# Save the model \n",
    "model_filename = 'Models/Ride_Fare_prediction_model.pkl'\n",
    "with open(model_filename, 'wb') as file:\n",
    "    pickle.dump(model, file)"
   ]
  }
 ],
 "metadata": {
  "kernelspec": {
   "display_name": "pandas_pratice",
   "language": "python",
   "name": "python3"
  },
  "language_info": {
   "codemirror_mode": {
    "name": "ipython",
    "version": 3
   },
   "file_extension": ".py",
   "mimetype": "text/x-python",
   "name": "python",
   "nbconvert_exporter": "python",
   "pygments_lexer": "ipython3",
   "version": "3.13.0"
  }
 },
 "nbformat": 4,
 "nbformat_minor": 5
}
