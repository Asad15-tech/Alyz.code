{
 "cells": [
  {
   "cell_type": "markdown",
   "id": "cfb0a8f5",
   "metadata": {},
   "source": [
    "# **Machine Learning**\n",
    "# Decoding Categoric Features"
   ]
  },
  {
   "cell_type": "code",
   "execution_count": 36,
   "id": "c19e2ce5",
   "metadata": {},
   "outputs": [],
   "source": [
    "# Importing Libraries\n",
    "import pandas as pd\n",
    "import numpy as np\n",
    "import matplotlib.pyplot as plt\n",
    "import seaborn as sns\n",
    "from sklearn.preprocessing import LabelEncoder, OneHotEncoder, OrdinalEncoder\n",
    "from sklearn.model_selection import train_test_split\n",
    "from sklearn.ensemble import RandomForestClassifier\n",
    "from sklearn.metrics import accuracy_score, classification_report, confusion_matrix\n"
   ]
  },
  {
   "cell_type": "code",
   "execution_count": 37,
   "id": "94894bf0",
   "metadata": {},
   "outputs": [],
   "source": [
    "# To display max rows and columns in the output\n",
    "pd.set_option(\"display.max_rows\", None)\n",
    "pd.set_option(\"display.max_columns\", None)"
   ]
  },
  {
   "cell_type": "code",
   "execution_count": 38,
   "id": "66c6fc42",
   "metadata": {},
   "outputs": [
    {
     "name": "stdout",
     "output_type": "stream",
     "text": [
      "  species     island  bill_length_mm  bill_depth_mm  flipper_length_mm  \\\n",
      "0  Adelie  Torgersen            39.1           18.7              181.0   \n",
      "1  Adelie  Torgersen            39.5           17.4              186.0   \n",
      "2  Adelie  Torgersen            40.3           18.0              195.0   \n",
      "3  Adelie  Torgersen             NaN            NaN                NaN   \n",
      "4  Adelie  Torgersen            36.7           19.3              193.0   \n",
      "\n",
      "   body_mass_g     sex  \n",
      "0       3750.0    Male  \n",
      "1       3800.0  Female  \n",
      "2       3250.0  Female  \n",
      "3          NaN     NaN  \n",
      "4       3450.0  Female  \n"
     ]
    }
   ],
   "source": [
    "# Load the penguins dataset using seaborn Library\n",
    "df = sns.load_dataset(\"penguins\")\n",
    "print(df.head())"
   ]
  },
  {
   "cell_type": "code",
   "execution_count": 39,
   "id": "85006c0c",
   "metadata": {},
   "outputs": [
    {
     "name": "stdout",
     "output_type": "stream",
     "text": [
      "sex                  11\n",
      "bill_depth_mm         2\n",
      "bill_length_mm        2\n",
      "flipper_length_mm     2\n",
      "body_mass_g           2\n",
      "island                0\n",
      "species               0\n",
      "dtype: int64\n"
     ]
    }
   ],
   "source": [
    "# Let's first check for missing values in our dataset\n",
    "print(df.isnull().sum().sort_values(ascending=False))"
   ]
  },
  {
   "cell_type": "code",
   "execution_count": 40,
   "id": "17d443e9",
   "metadata": {},
   "outputs": [
    {
     "name": "stdout",
     "output_type": "stream",
     "text": [
      "species              0\n",
      "island               0\n",
      "bill_length_mm       0\n",
      "bill_depth_mm        0\n",
      "flipper_length_mm    0\n",
      "body_mass_g          0\n",
      "sex                  0\n",
      "dtype: int64\n"
     ]
    }
   ],
   "source": [
    "# Let's fill the missing values in the dataset\n",
    "df[\"sex\"] = df[\"sex\"].fillna(df[\"sex\"].mode()[0])\n",
    "df[\"bill_depth_mm\"] = df[\"bill_depth_mm\"].fillna(df[\"bill_depth_mm\"].mean())\n",
    "df[\"bill_length_mm\"] = df[\"bill_length_mm\"].fillna(df[\"bill_length_mm\"].mean())\n",
    "df[\"body_mass_g\"] = df[\"body_mass_g\"].fillna(df[\"body_mass_g\"].mean())\n",
    "df[\"flipper_length_mm\"] = df[\"flipper_length_mm\"].fillna(df[\"flipper_length_mm\"].mean())\n",
    "# Let's check the dataset again for missing values\n",
    "print(df.isnull().sum().sort_values(ascending=False))"
   ]
  },
  {
   "cell_type": "code",
   "execution_count": 41,
   "id": "c5723308",
   "metadata": {},
   "outputs": [
    {
     "name": "stdout",
     "output_type": "stream",
     "text": [
      "   species  island  bill_length_mm  bill_depth_mm  flipper_length_mm  \\\n",
      "0        0       2        39.10000       18.70000         181.000000   \n",
      "1        0       2        39.50000       17.40000         186.000000   \n",
      "2        0       2        40.30000       18.00000         195.000000   \n",
      "3        0       2        43.92193       17.15117         200.915205   \n",
      "4        0       2        36.70000       19.30000         193.000000   \n",
      "\n",
      "   body_mass_g  sex  \n",
      "0  3750.000000    1  \n",
      "1  3800.000000    0  \n",
      "2  3250.000000    0  \n",
      "3  4201.754386    1  \n",
      "4  3450.000000    0  \n",
      "Categorical Features Encoded Successfully!\n"
     ]
    }
   ],
   "source": [
    "# Call the object of LabelEncoder\n",
    "le_sex = LabelEncoder()\n",
    "le_species = LabelEncoder()\n",
    "le_island = LabelEncoder()\n",
    "# Encode the categoric features\n",
    "df[\"sex\"] = le_sex.fit_transform(df[\"sex\"])\n",
    "df[\"species\"] = le_species.fit_transform(df[\"species\"])\n",
    "df[\"island\"] = le_island.fit_transform(df[\"island\"])\n",
    "# Let's check the dataset after encoding\n",
    "print(df.head())\n",
    "print(\"Categorical Features Encoded Successfully!\")"
   ]
  },
  {
   "cell_type": "code",
   "execution_count": 42,
   "id": "eff4408f",
   "metadata": {},
   "outputs": [
    {
     "name": "stdout",
     "output_type": "stream",
     "text": [
      "  species     island  bill_length_mm  bill_depth_mm  flipper_length_mm  \\\n",
      "0  Adelie  Torgersen        39.10000       18.70000         181.000000   \n",
      "1  Adelie  Torgersen        39.50000       17.40000         186.000000   \n",
      "2  Adelie  Torgersen        40.30000       18.00000         195.000000   \n",
      "3  Adelie  Torgersen        43.92193       17.15117         200.915205   \n",
      "4  Adelie  Torgersen        36.70000       19.30000         193.000000   \n",
      "\n",
      "   body_mass_g     sex  \n",
      "0  3750.000000    Male  \n",
      "1  3800.000000  Female  \n",
      "2  3250.000000  Female  \n",
      "3  4201.754386    Male  \n",
      "4  3450.000000  Female  \n",
      "Categorical Features Decoded Successfully!\n"
     ]
    }
   ],
   "source": [
    "# Let's Decode the features back to thier original form\n",
    "df[\"sex\"] = le_sex.inverse_transform(df[\"sex\"])\n",
    "df[\"species\"] = le_species.inverse_transform(df[\"species\"])\n",
    "df[\"island\"] = le_island.inverse_transform(df[\"island\"])\n",
    "# Let's check the dataset after encoding\n",
    "print(df.head())\n",
    "print(\"Categorical Features Decoded Successfully!\")\n"
   ]
  },
  {
   "cell_type": "markdown",
   "id": "4548aa70",
   "metadata": {},
   "source": [
    "## Ordinal Encoder"
   ]
  },
  {
   "cell_type": "code",
   "execution_count": 43,
   "id": "03616179",
   "metadata": {},
   "outputs": [
    {
     "name": "stdout",
     "output_type": "stream",
     "text": [
      "  species     island  bill_length_mm  bill_depth_mm  flipper_length_mm  \\\n",
      "0  Adelie  Torgersen            39.1           18.7              181.0   \n",
      "1  Adelie  Torgersen            39.5           17.4              186.0   \n",
      "2  Adelie  Torgersen            40.3           18.0              195.0   \n",
      "3  Adelie  Torgersen             NaN            NaN                NaN   \n",
      "4  Adelie  Torgersen            36.7           19.3              193.0   \n",
      "\n",
      "   body_mass_g     sex  \n",
      "0       3750.0    Male  \n",
      "1       3800.0  Female  \n",
      "2       3250.0  Female  \n",
      "3          NaN     NaN  \n",
      "4       3450.0  Female  \n",
      "sex                  11\n",
      "bill_depth_mm         2\n",
      "bill_length_mm        2\n",
      "flipper_length_mm     2\n",
      "body_mass_g           2\n",
      "island                0\n",
      "species               0\n",
      "dtype: int64\n",
      "After filling missing values:\n",
      "species              0\n",
      "island               0\n",
      "bill_length_mm       0\n",
      "bill_depth_mm        0\n",
      "flipper_length_mm    0\n",
      "body_mass_g          0\n",
      "sex                  0\n",
      "dtype: int64\n"
     ]
    }
   ],
   "source": [
    "# Load the penguins dataset using seaborn Library\n",
    "df = sns.load_dataset(\"penguins\")\n",
    "print(df.head())\n",
    "# Let's first check for missing values in our dataset\n",
    "print(df.isnull().sum().sort_values(ascending=False))\n",
    "# Let's fill the missing values in the dataset\n",
    "df[\"sex\"] = df[\"sex\"].fillna(df[\"sex\"].mode()[0])\n",
    "df[\"bill_depth_mm\"] = df[\"bill_depth_mm\"].fillna(df[\"bill_depth_mm\"].mean())\n",
    "df[\"bill_length_mm\"] = df[\"bill_length_mm\"].fillna(df[\"bill_length_mm\"].mean())\n",
    "df[\"body_mass_g\"] = df[\"body_mass_g\"].fillna(df[\"body_mass_g\"].mean())\n",
    "df[\"flipper_length_mm\"] = df[\"flipper_length_mm\"].fillna(df[\"flipper_length_mm\"].mean())\n",
    "# Let's check the dataset again for missing values\n",
    "print(\"After filling missing values:\")\n",
    "print(df.isnull().sum().sort_values(ascending=False))"
   ]
  },
  {
   "cell_type": "code",
   "execution_count": 45,
   "id": "6b6cc416",
   "metadata": {},
   "outputs": [
    {
     "name": "stdout",
     "output_type": "stream",
     "text": [
      "   species  island  bill_length_mm  bill_depth_mm  flipper_length_mm  \\\n",
      "0      0.0     2.0        39.10000       18.70000         181.000000   \n",
      "1      0.0     2.0        39.50000       17.40000         186.000000   \n",
      "2      0.0     2.0        40.30000       18.00000         195.000000   \n",
      "3      0.0     2.0        43.92193       17.15117         200.915205   \n",
      "4      0.0     2.0        36.70000       19.30000         193.000000   \n",
      "\n",
      "   body_mass_g  sex  \n",
      "0  3750.000000  1.0  \n",
      "1  3800.000000  0.0  \n",
      "2  3250.000000  0.0  \n",
      "3  4201.754386  1.0  \n",
      "4  3450.000000  0.0  \n",
      "Categorical Features Encoded Successfully!\n"
     ]
    }
   ],
   "source": [
    "# Call the object of OrdinalEncoder\n",
    "ole_sex = OrdinalEncoder()\n",
    "ole_species = OrdinalEncoder()\n",
    "ole_island = OrdinalEncoder()\n",
    "# Encode the categoric features\n",
    "df[\"sex\"] = ole_sex.fit_transform(df[[\"sex\"]])\n",
    "df[\"species\"] = ole_species.fit_transform(df[[\"species\"]])\n",
    "df[\"island\"] = ole_island.fit_transform(df[[\"island\"]])\n",
    "# Let's check the dataset after encoding\n",
    "print(df.head())\n",
    "print(\"Categorical Features Encoded Successfully!\")"
   ]
  },
  {
   "cell_type": "code",
   "execution_count": 50,
   "id": "ac29287d",
   "metadata": {},
   "outputs": [
    {
     "name": "stdout",
     "output_type": "stream",
     "text": [
      "  species     island  bill_length_mm  bill_depth_mm  flipper_length_mm  \\\n",
      "0  Adelie  Torgersen        39.10000       18.70000         181.000000   \n",
      "1  Adelie  Torgersen        39.50000       17.40000         186.000000   \n",
      "2  Adelie  Torgersen        40.30000       18.00000         195.000000   \n",
      "3  Adelie  Torgersen        43.92193       17.15117         200.915205   \n",
      "4  Adelie  Torgersen        36.70000       19.30000         193.000000   \n",
      "\n",
      "   body_mass_g     sex  \n",
      "0  3750.000000    Male  \n",
      "1  3800.000000  Female  \n",
      "2  3250.000000  Female  \n",
      "3  4201.754386    Male  \n",
      "4  3450.000000  Female  \n",
      "Categorical Features Decoded Successfully!\n"
     ]
    }
   ],
   "source": [
    "# Let's Decode the features back to their original form\n",
    "df[\"sex\"] = ole_sex.inverse_transform(df[[\"sex\"]]).ravel()\n",
    "df[\"species\"] = ole_species.inverse_transform(df[[\"species\"]]).ravel()\n",
    "df[\"island\"] = ole_island.inverse_transform(df[[\"island\"]]).ravel()\n",
    "# Let's check the dataset after decoding\n",
    "print(df.head())\n",
    "print(\"Categorical Features Decoded Successfully!\")"
   ]
  },
  {
   "cell_type": "markdown",
   "id": "6d4f3616",
   "metadata": {},
   "source": [
    "## One Hot Encoder"
   ]
  },
  {
   "cell_type": "code",
   "execution_count": 54,
   "id": "01da77e7",
   "metadata": {},
   "outputs": [
    {
     "name": "stdout",
     "output_type": "stream",
     "text": [
      "   survived  pclass     sex   age  sibsp  parch     fare embarked  class  \\\n",
      "0         0       3    male  22.0      1      0   7.2500        S  Third   \n",
      "1         1       1  female  38.0      1      0  71.2833        C  First   \n",
      "2         1       3  female  26.0      0      0   7.9250        S  Third   \n",
      "3         1       1  female  35.0      1      0  53.1000        S  First   \n",
      "4         0       3    male  35.0      0      0   8.0500        S  Third   \n",
      "\n",
      "     who  adult_male deck  embark_town alive  alone  sex_female  sex_male  \\\n",
      "0    man        True  NaN  Southampton    no  False         0.0       1.0   \n",
      "1  woman       False    C    Cherbourg   yes  False         1.0       0.0   \n",
      "2  woman       False  NaN  Southampton   yes   True         1.0       0.0   \n",
      "3  woman       False    C  Southampton   yes  False         1.0       0.0   \n",
      "4    man        True  NaN  Southampton    no   True         0.0       1.0   \n",
      "\n",
      "   embarked_C  embarked_Q  embarked_S  embarked_nan  \n",
      "0         0.0         0.0         1.0           0.0  \n",
      "1         1.0         0.0         0.0           0.0  \n",
      "2         0.0         0.0         1.0           0.0  \n",
      "3         0.0         0.0         1.0           0.0  \n",
      "4         0.0         0.0         1.0           0.0  \n"
     ]
    }
   ],
   "source": [
    "# Load the Titanic dataset using the Seaborn library\n",
    "df = sns.load_dataset('titanic')\n",
    "\n",
    "# Specify the categorical columns to be encoded\n",
    "cat_columns = ['sex', 'embarked']\n",
    "\n",
    "# Initialize the OneHotEncoder\n",
    "encoder = OneHotEncoder(sparse_output=False)\n",
    "\n",
    "# Fit the encoder and transform the categorical columns into a new DataFrame\n",
    "encoded_data = encoder.fit_transform(df[cat_columns])\n",
    "encoded_df = pd.DataFrame(encoded_data)\n",
    "\n",
    "# Create a dictionary to hold the original categories of each column\n",
    "original_categories = {}\n",
    "for i in range(len(cat_columns)):\n",
    "    column_name = cat_columns[i]  # Get the column name\n",
    "    categories = encoder.categories_[i]  # Get the categories for that column\n",
    "    original_categories[column_name] = categories  # Add to the dictionary\n",
    "\n",
    "# Create a list to hold the new feature names\n",
    "feature_names = []\n",
    "for column_name in cat_columns:\n",
    "    for category in encoder.categories_[cat_columns.index(column_name)]:\n",
    "        # Create a new feature name and add it to the list\n",
    "        new_feature_name = f\"{column_name}_{category}\"  # Example: \"sex_male\"\n",
    "        feature_names.append(new_feature_name)\n",
    "\n",
    "# Create a new DataFrame with the encoded data and new feature names\n",
    "encoded_df.columns = feature_names  # Assign new feature names to the DataFrame\n",
    "\n",
    "# Concatenate the original DataFrame with the encoded DataFrame\n",
    "df = pd.concat([df, encoded_df], axis=1)\n",
    "\n",
    "# Optionally drop the original categorical columns\n",
    "# df.drop(cat_columns, axis=1, inplace=True)\n",
    "\n",
    "# Display the first few rows of the updated DataFrame\n",
    "print(df.head())"
   ]
  }
 ],
 "metadata": {
  "kernelspec": {
   "display_name": "pandas_pratice",
   "language": "python",
   "name": "python3"
  },
  "language_info": {
   "codemirror_mode": {
    "name": "ipython",
    "version": 3
   },
   "file_extension": ".py",
   "mimetype": "text/x-python",
   "name": "python",
   "nbconvert_exporter": "python",
   "pygments_lexer": "ipython3",
   "version": "3.13.0"
  }
 },
 "nbformat": 4,
 "nbformat_minor": 5
}
