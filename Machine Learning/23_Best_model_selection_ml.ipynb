{
 "cells": [
  {
   "cell_type": "markdown",
   "id": "824da12f",
   "metadata": {},
   "source": [
    "# Machine Learning"
   ]
  },
  {
   "cell_type": "markdown",
   "id": "b83ce012",
   "metadata": {},
   "source": [
    "## Best Model Selection  "
   ]
  },
  {
   "cell_type": "code",
   "execution_count": 1,
   "id": "d0f70b05",
   "metadata": {},
   "outputs": [],
   "source": [
    "# Importing Libraries\n",
    "import pandas as pd\n",
    "import numpy as np\n",
    "import seaborn as sns\n",
    "import matplotlib.pyplot as plt\n",
    "# Importing Classification Models\n",
    "from sklearn.model_selection import train_test_split, GridSearchCV\n",
    "from sklearn.preprocessing import LabelEncoder\n",
    "from xgboost import XGBClassifier\n",
    "from sklearn.linear_model import LogisticRegression\n",
    "from sklearn.ensemble import RandomForestClassifier\n",
    "from sklearn.svm import SVC\n",
    "from sklearn.neighbors import KNeighborsClassifier\n",
    "from sklearn.tree import DecisionTreeClassifier\n",
    "from sklearn.ensemble import GradientBoostingClassifier\n",
    "# Importing Classification Metrics\n",
    "from sklearn.metrics import accuracy_score, confusion_matrix, classification_report\n"
   ]
  },
  {
   "cell_type": "code",
   "execution_count": 2,
   "id": "d0784b8f",
   "metadata": {},
   "outputs": [],
   "source": [
    "# Ignoring Warnings\n",
    "import warnings\n",
    "warnings.filterwarnings(\"ignore\")"
   ]
  },
  {
   "cell_type": "code",
   "execution_count": 3,
   "id": "2cabd4d0",
   "metadata": {},
   "outputs": [
    {
     "name": "stdout",
     "output_type": "stream",
     "text": [
      "   carat      cut color clarity  depth  table  price     x     y     z\n",
      "0   0.23    Ideal     E     SI2   61.5   55.0    326  3.95  3.98  2.43\n",
      "1   0.21  Premium     E     SI1   59.8   61.0    326  3.89  3.84  2.31\n",
      "2   0.23     Good     E     VS1   56.9   65.0    327  4.05  4.07  2.31\n",
      "3   0.29  Premium     I     VS2   62.4   58.0    334  4.20  4.23  2.63\n",
      "4   0.31     Good     J     SI2   63.3   58.0    335  4.34  4.35  2.75\n"
     ]
    }
   ],
   "source": [
    "# Loading the Dataset\n",
    "df = sns.load_dataset(\"diamonds\")\n",
    "print(df.head())"
   ]
  },
  {
   "cell_type": "code",
   "execution_count": 4,
   "id": "c186edb1",
   "metadata": {},
   "outputs": [
    {
     "name": "stdout",
     "output_type": "stream",
     "text": [
      "<class 'pandas.core.frame.DataFrame'>\n",
      "RangeIndex: 53940 entries, 0 to 53939\n",
      "Data columns (total 10 columns):\n",
      " #   Column   Non-Null Count  Dtype   \n",
      "---  ------   --------------  -----   \n",
      " 0   carat    53940 non-null  float64 \n",
      " 1   cut      53940 non-null  category\n",
      " 2   color    53940 non-null  category\n",
      " 3   clarity  53940 non-null  category\n",
      " 4   depth    53940 non-null  float64 \n",
      " 5   table    53940 non-null  float64 \n",
      " 6   price    53940 non-null  int64   \n",
      " 7   x        53940 non-null  float64 \n",
      " 8   y        53940 non-null  float64 \n",
      " 9   z        53940 non-null  float64 \n",
      "dtypes: category(3), float64(6), int64(1)\n",
      "memory usage: 3.0 MB\n"
     ]
    }
   ],
   "source": [
    "# Getting basic info of our Dataset\n",
    "df.info()"
   ]
  },
  {
   "cell_type": "code",
   "execution_count": 5,
   "id": "7f79c905",
   "metadata": {},
   "outputs": [
    {
     "name": "stdout",
     "output_type": "stream",
     "text": [
      "carat      0\n",
      "cut        0\n",
      "color      0\n",
      "clarity    0\n",
      "depth      0\n",
      "table      0\n",
      "price      0\n",
      "x          0\n",
      "y          0\n",
      "z          0\n",
      "dtype: int64\n"
     ]
    }
   ],
   "source": [
    "# Let's check for missing values in our dataset\n",
    "print(df.isnull().sum().sort_values(ascending=False))"
   ]
  },
  {
   "cell_type": "code",
   "execution_count": 6,
   "id": "b234f8b6",
   "metadata": {},
   "outputs": [],
   "source": [
    "# Create a LabelEncoder object\n",
    "le = LabelEncoder()\n",
    "\n",
    "# Encode all categorical columns in the DataFrame\n",
    "for col in df.select_dtypes(include=['object', 'category']).columns:\n",
    "    df[col] = le.fit_transform(df[col])"
   ]
  },
  {
   "cell_type": "code",
   "execution_count": 7,
   "id": "1e4e8a17",
   "metadata": {},
   "outputs": [
    {
     "data": {
      "text/plain": [
       "Index(['carat', 'cut', 'color', 'clarity', 'depth', 'table', 'price', 'x', 'y',\n",
       "       'z'],\n",
       "      dtype='object')"
      ]
     },
     "execution_count": 7,
     "metadata": {},
     "output_type": "execute_result"
    }
   ],
   "source": [
    "# Getting the name of columns\n",
    "df.columns"
   ]
  },
  {
   "cell_type": "markdown",
   "id": "fadb1d8a",
   "metadata": {},
   "source": [
    "## Train Test Split"
   ]
  },
  {
   "cell_type": "code",
   "execution_count": 8,
   "id": "19170629",
   "metadata": {},
   "outputs": [],
   "source": [
    "# Selecting Features and Target Variable\n",
    "X = df.drop(\"clarity\", axis=1)\n",
    "y = df[\"clarity\"]\n",
    "# Splitting the Dataset using Train-Test-Split by 80/20 ratio\n",
    "X_train, X_test, y_train, y_test = train_test_split(X, y, test_size=0.2, random_state=42)"
   ]
  },
  {
   "cell_type": "code",
   "execution_count": 9,
   "id": "19170629",
   "metadata": {},
   "outputs": [
    {
     "name": "stdout",
     "output_type": "stream",
     "text": [
      "                       Model  Accuracy\n",
      "         Logistic Regression  0.239525\n",
      "   Support Vector Classifier  0.271042\n",
      "      K Neighbors Classifier  0.420838\n",
      "Gradient Boosting Classifier  0.521320\n",
      "              XGB Classifier  0.657953\n",
      "    Random Forest Classifier  0.688265\n",
      "\n",
      "Best Model: Random Forest Classifier with Accuracy: 0.6883\n"
     ]
    }
   ],
   "source": [
    "# Create a dictionary of models to evaluate\n",
    "models = { \n",
    "    'XGB Classifier': XGBClassifier(),  # XGBoost classifier\n",
    "    'Logistic Regression': LogisticRegression(),  # Logistic Regression\n",
    "    'Random Forest Classifier': RandomForestClassifier(),  # Random Forest\n",
    "    'Support Vector Classifier': SVC(),  # Support Vector Machine\n",
    "    'K Neighbors Classifier': KNeighborsClassifier(),  # KNN Classifier\n",
    "    'Gradient Boosting Classifier': GradientBoostingClassifier()  # Gradient Boosting\n",
    "}\n",
    "\n",
    "model_scores = []  # List to store model names and their accuracy\n",
    "\n",
    "# Loop through each model\n",
    "for name, model in models.items():\n",
    "    model.fit(X_train, y_train)  # Train the model on training data\n",
    "    y_pred = model.predict(X_test)  # Predict on test data\n",
    "    acc = accuracy_score(y_test, y_pred)  # Calculate accuracy\n",
    "    model_scores.append((name, acc))  # Append model name and accuracy to list\n",
    "\n",
    "# Sort the models by accuracy in ascending order\n",
    "model_scores_sorted = sorted(model_scores, key=lambda x: x[1])\n",
    "\n",
    "# Create a DataFrame for results\n",
    "results_df = pd.DataFrame(model_scores_sorted, columns=['Model', 'Accuracy'])\n",
    "\n",
    "# Print the results table\n",
    "print(results_df.to_string(index=False))  # Display as a table\n",
    "\n",
    "# Get the best model\n",
    "best_model = results_df.iloc[-1]  # Last row contains the best model\n",
    "print(f\"\\nBest Model: {best_model['Model']} with Accuracy: {best_model['Accuracy']:.4f}\")"
   ]
  }
 ],
 "metadata": {
  "kernelspec": {
   "display_name": "pandas_pratice",
   "language": "python",
   "name": "python3"
  },
  "language_info": {
   "codemirror_mode": {
    "name": "ipython",
    "version": 3
   },
   "file_extension": ".py",
   "mimetype": "text/x-python",
   "name": "python",
   "nbconvert_exporter": "python",
   "pygments_lexer": "ipython3",
   "version": "3.13.0"
  }
 },
 "nbformat": 4,
 "nbformat_minor": 5
}
