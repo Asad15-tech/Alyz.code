{
 "cells": [
  {
   "cell_type": "markdown",
   "id": "eac665c9",
   "metadata": {},
   "source": [
    "# Pandas Day 6"
   ]
  },
  {
   "cell_type": "markdown",
   "id": "4e36a45f",
   "metadata": {},
   "source": [
    "## Splitting a string into different columns"
   ]
  },
  {
   "cell_type": "code",
   "execution_count": 12,
   "id": "fc145336",
   "metadata": {},
   "outputs": [],
   "source": [
    "import pandas as pd\n",
    "import numpy as np\n",
    "import seaborn as sns"
   ]
  },
  {
   "cell_type": "code",
   "execution_count": 13,
   "id": "24c46b71",
   "metadata": {},
   "outputs": [
    {
     "name": "stdout",
     "output_type": "stream",
     "text": [
      "Original DataFrame:\n",
      "          Name        Location\n",
      "0     Asad Ali     NewYork USA\n",
      "1    Adnan Ali  LosAngeles USA\n",
      "2  Husnain Ali     Chicago USA\n",
      "3     Zain Ali     Houston USA\n"
     ]
    }
   ],
   "source": [
    "# Create a DataFrame \n",
    "df = pd.DataFrame({\n",
    "    \"Name\": [\"Asad Ali\", \"Adnan Ali\", \"Husnain Ali\",\"Zain Ali\"],\n",
    "    \"Location\": [\"NewYork USA\", \"LosAngeles USA\", \"Chicago USA\", \"Houston USA\"],\n",
    "})\n",
    "print(\"Original DataFrame:\")\n",
    "print(df)"
   ]
  },
  {
   "cell_type": "code",
   "execution_count": 14,
   "id": "5c0e14fd",
   "metadata": {},
   "outputs": [
    {
     "name": "stdout",
     "output_type": "stream",
     "text": [
      "\n",
      "DataFrame after splitting 'Name' into 'First Name' and 'Last Name':\n",
      "  First Name Last Name\n",
      "0       Asad       Ali\n",
      "1      Adnan       Ali\n",
      "2    Husnain       Ali\n",
      "3       Zain       Ali\n",
      "\n",
      "DataFrame after dropping the 'Name' column:\n",
      "         Location First Name Last Name\n",
      "0     NewYork USA       Asad       Ali\n",
      "1  LosAngeles USA      Adnan       Ali\n",
      "2     Chicago USA    Husnain       Ali\n",
      "3     Houston USA       Zain       Ali\n"
     ]
    }
   ],
   "source": [
    "# Let's Splitting a Name  Column\n",
    "df[[\"First Name\", \"Last Name\"]] = df[\"Name\"].str.split(\" \", expand=True)\n",
    "print(\"\\nDataFrame after splitting 'Name' into 'First Name' and 'Last Name':\")\n",
    "print(df[[\"First Name\", \"Last Name\"]])\n",
    "# Dropping the original 'Name' column\n",
    "df = df.drop(columns=[\"Name\"])\n",
    "print(\"\\nDataFrame after dropping the 'Name' column:\")\n",
    "print(df)"
   ]
  },
  {
   "cell_type": "code",
   "execution_count": 15,
   "id": "045474e5",
   "metadata": {},
   "outputs": [
    {
     "name": "stdout",
     "output_type": "stream",
     "text": [
      "\n",
      "DataFrame after splitting 'Location' into 'City' and 'Country':\n",
      "         City Country\n",
      "0     NewYork     USA\n",
      "1  LosAngeles     USA\n",
      "2     Chicago     USA\n",
      "3     Houston     USA\n",
      "\n",
      "DataFrame after dropping the 'Location' column:\n",
      "  First Name Last Name        City Country\n",
      "0       Asad       Ali     NewYork     USA\n",
      "1      Adnan       Ali  LosAngeles     USA\n",
      "2    Husnain       Ali     Chicago     USA\n",
      "3       Zain       Ali     Houston     USA\n"
     ]
    }
   ],
   "source": [
    "# Let's Splitting the 'Location' column into two new columns: 'City' and 'Country'\n",
    "df[[\"City\",\"Country\"]] = df[\"Location\"].str.split(\" \",expand=True, n=1)\n",
    "print(\"\\nDataFrame after splitting 'Location' into 'City' and 'Country':\")\n",
    "print(df[[\"City\", \"Country\"]])\n",
    "# Dropping the original 'Location' column\n",
    "df = df.drop(columns=[\"Location\"])\n",
    "print(\"\\nDataFrame after dropping the 'Location' column:\")\n",
    "print(df)"
   ]
  },
  {
   "cell_type": "markdown",
   "id": "ea9c1db2",
   "metadata": {},
   "source": [
    "## Aggregation by Multiple Groups/Functions"
   ]
  },
  {
   "cell_type": "code",
   "execution_count": 16,
   "id": "11e762da",
   "metadata": {},
   "outputs": [
    {
     "name": "stdout",
     "output_type": "stream",
     "text": [
      "\n",
      "Titanic Dataset:\n",
      "   survived  pclass     sex   age  sibsp  parch     fare embarked  class  \\\n",
      "0         0       3    male  22.0      1      0   7.2500        S  Third   \n",
      "1         1       1  female  38.0      1      0  71.2833        C  First   \n",
      "2         1       3  female  26.0      0      0   7.9250        S  Third   \n",
      "3         1       1  female  35.0      1      0  53.1000        S  First   \n",
      "4         0       3    male  35.0      0      0   8.0500        S  Third   \n",
      "\n",
      "     who  adult_male deck  embark_town alive  alone  \n",
      "0    man        True  NaN  Southampton    no  False  \n",
      "1  woman       False    C    Cherbourg   yes  False  \n",
      "2  woman       False  NaN  Southampton   yes   True  \n",
      "3  woman       False    C  Southampton   yes  False  \n",
      "4    man        True  NaN  Southampton    no   True  \n"
     ]
    }
   ],
   "source": [
    "df = sns.load_dataset(\"titanic\")\n",
    "# Display the first few rows of the DataFrame\n",
    "print(\"\\nTitanic Dataset:\")\n",
    "print(df.head())"
   ]
  },
  {
   "cell_type": "code",
   "execution_count": 19,
   "id": "6f882c4e",
   "metadata": {},
   "outputs": [
    {
     "name": "stdout",
     "output_type": "stream",
     "text": [
      "\n",
      "Count of occurrences grouped by 'who':\n",
      "       survived  pclass  sex  age  sibsp  parch  fare  embarked  class  \\\n",
      "who                                                                      \n",
      "child        83      83   83   83     83     83    83        83     83   \n",
      "man         537     537  537  413    537    537   537       537    537   \n",
      "woman       271     271  271  218    271    271   271       269    271   \n",
      "\n",
      "       adult_male  deck  embark_town  alive  alone  \n",
      "who                                                 \n",
      "child          83    13           83     83     83  \n",
      "man           537    99          537    537    537  \n",
      "woman         271    91          269    271    271  \n"
     ]
    }
   ],
   "source": [
    "# Grouping by 'who' and counting the number of occurrences\n",
    "print(\"\\nCount of occurrences grouped by 'who':\")\n",
    "print(df.groupby(\"who\").count())"
   ]
  },
  {
   "cell_type": "code",
   "execution_count": 23,
   "id": "9ea51602",
   "metadata": {},
   "outputs": [
    {
     "name": "stdout",
     "output_type": "stream",
     "text": [
      "\n",
      "Count of occurrences grouped by 'sex',  'adult_male', and 'embark_town':\n",
      "                               survived  pclass  age  sibsp  parch  fare  \\\n",
      "sex    adult_male embark_town                                              \n",
      "female False      Cherbourg          73      73   61     73     73    73   \n",
      "                  Queenstown         36      36   12     36     36    36   \n",
      "                  Southampton       203     203  186    203    203   203   \n",
      "male   False      Cherbourg           5       5    5      5      5     5   \n",
      "                  Queenstown          4       4    4      4      4     4   \n",
      "                  Southampton        31      31   31     31     31    31   \n",
      "       True       Cherbourg          90      90   64     90     90    90   \n",
      "                  Queenstown         37      37   12     37     37    37   \n",
      "                  Southampton       410     410  337    410    410   410   \n",
      "\n",
      "                               embarked  class  who  deck  alive  alone  \n",
      "sex    adult_male embark_town                                            \n",
      "female False      Cherbourg          73     73   73    37     73     73  \n",
      "                  Queenstown         36     36   36     2     36     36  \n",
      "                  Southampton       203    203  203    56    203    203  \n",
      "male   False      Cherbourg           5      5    5     0      5      5  \n",
      "                  Queenstown          4      4    4     0      4      4  \n",
      "                  Southampton        31     31   31     7     31     31  \n",
      "       True       Cherbourg          90     90   90    32     90     90  \n",
      "                  Queenstown         37     37   37     2     37     37  \n",
      "                  Southampton       410    410  410    65    410    410  \n"
     ]
    }
   ],
   "source": [
    "# Grouping by 'sex' ,  'adult_male' and 'embark_town' and counting the number of occurrences\n",
    "print(\"\\nCount of occurrences grouped by 'sex',  'adult_male', and 'embark_town':\")\n",
    "print(df.groupby([\"sex\", \"adult_male\", \"embark_town\"]).count())"
   ]
  }
 ],
 "metadata": {
  "kernelspec": {
   "display_name": "pandas_pratice",
   "language": "python",
   "name": "python3"
  },
  "language_info": {
   "codemirror_mode": {
    "name": "ipython",
    "version": 3
   },
   "file_extension": ".py",
   "mimetype": "text/x-python",
   "name": "python",
   "nbconvert_exporter": "python",
   "pygments_lexer": "ipython3",
   "version": "3.13.0"
  }
 },
 "nbformat": 4,
 "nbformat_minor": 5
}
