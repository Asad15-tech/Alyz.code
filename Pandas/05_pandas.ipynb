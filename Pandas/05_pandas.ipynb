{
 "cells": [
  {
   "cell_type": "markdown",
   "metadata": {},
   "source": [
    "# Pandas Day 5"
   ]
  },
  {
   "cell_type": "markdown",
   "metadata": {},
   "source": [
    "# Data Filteration"
   ]
  },
  {
   "cell_type": "markdown",
   "metadata": {},
   "source": [
    "### `Data filtration` refers to the process of selecting, isolating, or extracting specific subsets of data from a larger dataset based on certain conditions or criteria. This process is commonly used in data analysis to focus on relevant data, remove noise, or prepare data for further analysis. "
   ]
  },
  {
   "cell_type": "code",
   "execution_count": 1,
   "metadata": {},
   "outputs": [],
   "source": [
    "# Importing Libraries \n",
    "import pandas as pd\n",
    "import numpy as np\n",
    "import matplotlib.pyplot as plt\n",
    "import seaborn as sns"
   ]
  },
  {
   "cell_type": "code",
   "execution_count": 2,
   "metadata": {},
   "outputs": [
    {
     "name": "stdout",
     "output_type": "stream",
     "text": [
      "   survived  pclass     sex   age  sibsp  parch     fare embarked  class  \\\n",
      "0         0       3    male  22.0      1      0   7.2500        S  Third   \n",
      "1         1       1  female  38.0      1      0  71.2833        C  First   \n",
      "2         1       3  female  26.0      0      0   7.9250        S  Third   \n",
      "3         1       1  female  35.0      1      0  53.1000        S  First   \n",
      "4         0       3    male  35.0      0      0   8.0500        S  Third   \n",
      "\n",
      "     who  adult_male deck  embark_town alive  alone  \n",
      "0    man        True  NaN  Southampton    no  False  \n",
      "1  woman       False    C    Cherbourg   yes  False  \n",
      "2  woman       False  NaN  Southampton   yes   True  \n",
      "3  woman       False    C  Southampton   yes  False  \n",
      "4    man        True  NaN  Southampton    no   True  \n"
     ]
    }
   ],
   "source": [
    "# Load Titanic Dataset using Seaborn \n",
    "df  = sns.load_dataset('titanic')\n",
    "# Display the first 5 rows of the dataset   \n",
    "print(df.head())"
   ]
  },
  {
   "cell_type": "code",
   "execution_count": 3,
   "metadata": {},
   "outputs": [
    {
     "name": "stdout",
     "output_type": "stream",
     "text": [
      "Index(['survived', 'pclass', 'sex', 'age', 'sibsp', 'parch', 'fare',\n",
      "       'embarked', 'class', 'who', 'adult_male', 'deck', 'embark_town',\n",
      "       'alive', 'alone'],\n",
      "      dtype='object')\n"
     ]
    }
   ],
   "source": [
    "# Let's check the names of the columns in the dataset\n",
    "print(df.columns)"
   ]
  },
  {
   "cell_type": "code",
   "execution_count": 4,
   "metadata": {},
   "outputs": [
    {
     "data": {
      "application/vnd.microsoft.datawrangler.viewer.v0+json": {
       "columns": [
        {
         "name": "index",
         "rawType": "object",
         "type": "string"
        },
        {
         "name": "0",
         "rawType": "int64",
         "type": "integer"
        }
       ],
       "ref": "56aa23f5-6be0-4da2-b6fd-4d0d4f14a684",
       "rows": [
        [
         "survived",
         "0"
        ],
        [
         "pclass",
         "0"
        ],
        [
         "sex",
         "0"
        ],
        [
         "age",
         "177"
        ],
        [
         "sibsp",
         "0"
        ],
        [
         "parch",
         "0"
        ],
        [
         "fare",
         "0"
        ],
        [
         "embarked",
         "2"
        ],
        [
         "class",
         "0"
        ],
        [
         "who",
         "0"
        ],
        [
         "adult_male",
         "0"
        ],
        [
         "deck",
         "688"
        ],
        [
         "embark_town",
         "2"
        ],
        [
         "alive",
         "0"
        ],
        [
         "alone",
         "0"
        ]
       ],
       "shape": {
        "columns": 1,
        "rows": 15
       }
      },
      "text/plain": [
       "survived         0\n",
       "pclass           0\n",
       "sex              0\n",
       "age            177\n",
       "sibsp            0\n",
       "parch            0\n",
       "fare             0\n",
       "embarked         2\n",
       "class            0\n",
       "who              0\n",
       "adult_male       0\n",
       "deck           688\n",
       "embark_town      2\n",
       "alive            0\n",
       "alone            0\n",
       "dtype: int64"
      ]
     },
     "execution_count": 4,
     "metadata": {},
     "output_type": "execute_result"
    }
   ],
   "source": [
    "# check for null values \n",
    "df.isnull().sum()"
   ]
  },
  {
   "cell_type": "code",
   "execution_count": 5,
   "metadata": {},
   "outputs": [
    {
     "name": "stdout",
     "output_type": "stream",
     "text": [
      "survived         0\n",
      "pclass           0\n",
      "sex              0\n",
      "age              0\n",
      "sibsp            0\n",
      "parch            0\n",
      "fare             0\n",
      "embarked         2\n",
      "class            0\n",
      "who              0\n",
      "adult_male       0\n",
      "deck           688\n",
      "embark_town      2\n",
      "alive            0\n",
      "alone            0\n",
      "dtype: int64\n"
     ]
    }
   ],
   "source": [
    "# Impute the missing values in the 'age' column with the mean age\n",
    "df['age'] = df['age'].fillna(df['age'].mean())\n",
    "# Again check for null values\n",
    "print(df.isnull().sum())"
   ]
  },
  {
   "cell_type": "code",
   "execution_count": 6,
   "metadata": {},
   "outputs": [
    {
     "data": {
      "application/vnd.microsoft.datawrangler.viewer.v0+json": {
       "columns": [
        {
         "name": "index",
         "rawType": "int64",
         "type": "integer"
        },
        {
         "name": "age",
         "rawType": "category",
         "type": "unknown"
        }
       ],
       "ref": "14af9d7a-18bb-49b8-ba0c-b257967a2b1d",
       "rows": [
        [
         "0",
         "Youngs"
        ],
        [
         "1",
         "Middle Aged"
        ],
        [
         "2",
         "Youngs"
        ],
        [
         "3",
         "Middle Aged"
        ],
        [
         "4",
         "Middle Aged"
        ],
        [
         "5",
         "Youngs"
        ],
        [
         "6",
         "Old"
        ],
        [
         "7",
         "Toddlers"
        ],
        [
         "8",
         "Youngs"
        ],
        [
         "9",
         "Teens"
        ],
        [
         "10",
         "Toddlers"
        ],
        [
         "11",
         "Old"
        ],
        [
         "12",
         "Youngs"
        ],
        [
         "13",
         "Middle Aged"
        ],
        [
         "14",
         "Teens"
        ],
        [
         "15",
         "Old"
        ],
        [
         "16",
         "Toddlers"
        ],
        [
         "17",
         "Youngs"
        ],
        [
         "18",
         "Middle Aged"
        ],
        [
         "19",
         "Youngs"
        ],
        [
         "20",
         "Middle Aged"
        ],
        [
         "21",
         "Middle Aged"
        ],
        [
         "22",
         "Teens"
        ],
        [
         "23",
         "Youngs"
        ],
        [
         "24",
         "Kids"
        ],
        [
         "25",
         "Middle Aged"
        ],
        [
         "26",
         "Youngs"
        ],
        [
         "27",
         "Youngs"
        ],
        [
         "28",
         "Youngs"
        ],
        [
         "29",
         "Youngs"
        ],
        [
         "30",
         "Middle Aged"
        ],
        [
         "31",
         "Youngs"
        ],
        [
         "32",
         "Youngs"
        ],
        [
         "33",
         "Old"
        ],
        [
         "34",
         "Youngs"
        ],
        [
         "35",
         "Middle Aged"
        ],
        [
         "36",
         "Youngs"
        ],
        [
         "37",
         "Youngs"
        ],
        [
         "38",
         "Teens"
        ],
        [
         "39",
         "Teens"
        ],
        [
         "40",
         "Middle Aged"
        ],
        [
         "41",
         "Youngs"
        ],
        [
         "42",
         "Youngs"
        ],
        [
         "43",
         "Toddlers"
        ],
        [
         "44",
         "Youngs"
        ],
        [
         "45",
         "Youngs"
        ],
        [
         "46",
         "Youngs"
        ],
        [
         "47",
         "Youngs"
        ],
        [
         "48",
         "Youngs"
        ],
        [
         "49",
         "Teens"
        ]
       ],
       "shape": {
        "columns": 1,
        "rows": 891
       }
      },
      "text/plain": [
       "0           Youngs\n",
       "1      Middle Aged\n",
       "2           Youngs\n",
       "3      Middle Aged\n",
       "4      Middle Aged\n",
       "          ...     \n",
       "886         Youngs\n",
       "887         Youngs\n",
       "888         Youngs\n",
       "889         Youngs\n",
       "890    Middle Aged\n",
       "Name: age, Length: 891, dtype: category\n",
       "Categories (7, object): ['Infants' < 'Toddlers' < 'Kids' < 'Teens' < 'Youngs' < 'Middle Aged' < 'Old']"
      ]
     },
     "execution_count": 6,
     "metadata": {},
     "output_type": "execute_result"
    }
   ],
   "source": [
    "# Binning of age coloumns in to 7 categories\n",
    "bins = [0,1,5,12,18,30,50,80]\n",
    "labels = [\"Infants\",\"Toddlers\",\"Kids\",\"Teens\",\"Youngs\",\"Middle Aged\",\"Old\"]\n",
    "#Which coloumn is converted into bins\n",
    "pd.cut(df['age'], bins=bins, labels=labels)"
   ]
  },
  {
   "cell_type": "code",
   "execution_count": 7,
   "metadata": {},
   "outputs": [
    {
     "name": "stdout",
     "output_type": "stream",
     "text": [
      "   survived  pclass     sex   age  sibsp  parch     fare embarked  class  \\\n",
      "0         0       3    male  22.0      1      0   7.2500        S  Third   \n",
      "1         1       1  female  38.0      1      0  71.2833        C  First   \n",
      "2         1       3  female  26.0      0      0   7.9250        S  Third   \n",
      "3         1       1  female  35.0      1      0  53.1000        S  First   \n",
      "4         0       3    male  35.0      0      0   8.0500        S  Third   \n",
      "\n",
      "     who  adult_male deck  embark_town alive  alone   Age_groups  \n",
      "0    man        True  NaN  Southampton    no  False       Youngs  \n",
      "1  woman       False    C    Cherbourg   yes  False  Middle Aged  \n",
      "2  woman       False  NaN  Southampton   yes   True       Youngs  \n",
      "3  woman       False    C  Southampton   yes  False  Middle Aged  \n",
      "4    man        True  NaN  Southampton    no   True  Middle Aged  \n"
     ]
    }
   ],
   "source": [
    "# Adding new coloumn in a dataset on the base of other coloumn in a dataset.\n",
    "bins = [0,1,5,12,18,30,50,80]\n",
    "labels = [\"Infants\",\"Toddlers\",\"Kids\",\"Teens\",\"Youngs\",\"Middle Aged\",\"Old\"]\n",
    "#Which coloumn is converted into bins\n",
    "df[\"Age_groups\"] = pd.cut(df['age'], bins=bins, labels=labels)\n",
    "# Display the first 5 rows of the dataset\n",
    "print(df.head())\n"
   ]
  },
  {
   "cell_type": "code",
   "execution_count": 8,
   "metadata": {},
   "outputs": [
    {
     "name": "stdout",
     "output_type": "stream",
     "text": [
      "   survived   Age_groups     fare  class\n",
      "0         0       Youngs   7.2500  Third\n",
      "1         1  Middle Aged  71.2833  First\n",
      "2         1       Youngs   7.9250  Third\n",
      "3         1  Middle Aged  53.1000  First\n",
      "4         0  Middle Aged   8.0500  Third\n"
     ]
    }
   ],
   "source": [
    "# Filter the dataset with coloumns include survived, age_groups, fare and class\n",
    "df_1 = df[[\"survived\",\"Age_groups\",\"fare\",\"class\"]]\n",
    "# Display the first 5 rows of the dataset\n",
    "print(df_1.head())"
   ]
  },
  {
   "cell_type": "code",
   "execution_count": 9,
   "metadata": {},
   "outputs": [
    {
     "name": "stdout",
     "output_type": "stream",
     "text": [
      "<class 'pandas.core.frame.DataFrame'>\n",
      "RangeIndex: 891 entries, 0 to 890\n",
      "Data columns (total 4 columns):\n",
      " #   Column      Non-Null Count  Dtype   \n",
      "---  ------      --------------  -----   \n",
      " 0   survived    891 non-null    int64   \n",
      " 1   Age_groups  891 non-null    category\n",
      " 2   fare        891 non-null    float64 \n",
      " 3   class       891 non-null    category\n",
      "dtypes: category(2), float64(1), int64(1)\n",
      "memory usage: 16.3 KB\n"
     ]
    }
   ],
   "source": [
    "# Get the information about the dataset\n",
    "df_1.info()"
   ]
  },
  {
   "cell_type": "code",
   "execution_count": 10,
   "metadata": {},
   "outputs": [
    {
     "data": {
      "application/vnd.microsoft.datawrangler.viewer.v0+json": {
       "columns": [
        {
         "name": "index",
         "rawType": "int64",
         "type": "integer"
        },
        {
         "name": "survived",
         "rawType": "int64",
         "type": "integer"
        },
        {
         "name": "Age_groups",
         "rawType": "category",
         "type": "unknown"
        },
        {
         "name": "fare",
         "rawType": "float64",
         "type": "float"
        },
        {
         "name": "class",
         "rawType": "category",
         "type": "unknown"
        }
       ],
       "ref": "563c0b0e-fbc7-4ad9-bc9c-014ae46f8ebf",
       "rows": [
        [
         "1",
         "1",
         "Middle Aged",
         "71.2833",
         "First"
        ],
        [
         "3",
         "1",
         "Middle Aged",
         "53.1",
         "First"
        ],
        [
         "6",
         "0",
         "Old",
         "51.8625",
         "First"
        ],
        [
         "11",
         "1",
         "Old",
         "26.55",
         "First"
        ],
        [
         "23",
         "1",
         "Youngs",
         "35.5",
         "First"
        ]
       ],
       "shape": {
        "columns": 4,
        "rows": 5
       }
      },
      "text/html": [
       "<div>\n",
       "<style scoped>\n",
       "    .dataframe tbody tr th:only-of-type {\n",
       "        vertical-align: middle;\n",
       "    }\n",
       "\n",
       "    .dataframe tbody tr th {\n",
       "        vertical-align: top;\n",
       "    }\n",
       "\n",
       "    .dataframe thead th {\n",
       "        text-align: right;\n",
       "    }\n",
       "</style>\n",
       "<table border=\"1\" class=\"dataframe\">\n",
       "  <thead>\n",
       "    <tr style=\"text-align: right;\">\n",
       "      <th></th>\n",
       "      <th>survived</th>\n",
       "      <th>Age_groups</th>\n",
       "      <th>fare</th>\n",
       "      <th>class</th>\n",
       "    </tr>\n",
       "  </thead>\n",
       "  <tbody>\n",
       "    <tr>\n",
       "      <th>1</th>\n",
       "      <td>1</td>\n",
       "      <td>Middle Aged</td>\n",
       "      <td>71.2833</td>\n",
       "      <td>First</td>\n",
       "    </tr>\n",
       "    <tr>\n",
       "      <th>3</th>\n",
       "      <td>1</td>\n",
       "      <td>Middle Aged</td>\n",
       "      <td>53.1000</td>\n",
       "      <td>First</td>\n",
       "    </tr>\n",
       "    <tr>\n",
       "      <th>6</th>\n",
       "      <td>0</td>\n",
       "      <td>Old</td>\n",
       "      <td>51.8625</td>\n",
       "      <td>First</td>\n",
       "    </tr>\n",
       "    <tr>\n",
       "      <th>11</th>\n",
       "      <td>1</td>\n",
       "      <td>Old</td>\n",
       "      <td>26.5500</td>\n",
       "      <td>First</td>\n",
       "    </tr>\n",
       "    <tr>\n",
       "      <th>23</th>\n",
       "      <td>1</td>\n",
       "      <td>Youngs</td>\n",
       "      <td>35.5000</td>\n",
       "      <td>First</td>\n",
       "    </tr>\n",
       "  </tbody>\n",
       "</table>\n",
       "</div>"
      ],
      "text/plain": [
       "    survived   Age_groups     fare  class\n",
       "1          1  Middle Aged  71.2833  First\n",
       "3          1  Middle Aged  53.1000  First\n",
       "6          0          Old  51.8625  First\n",
       "11         1          Old  26.5500  First\n",
       "23         1       Youngs  35.5000  First"
      ]
     },
     "execution_count": 10,
     "metadata": {},
     "output_type": "execute_result"
    }
   ],
   "source": [
    "#Filter the data on the base of row criteria \n",
    "df_2 = df_1[df_1[\"class\"] == \"First\"]\n",
    "# Display the first 5 rows of the filtered dataset\n",
    "df_2.head()"
   ]
  },
  {
   "cell_type": "code",
   "execution_count": 11,
   "metadata": {},
   "outputs": [
    {
     "data": {
      "application/vnd.microsoft.datawrangler.viewer.v0+json": {
       "columns": [
        {
         "name": "index",
         "rawType": "int64",
         "type": "integer"
        },
        {
         "name": "survived",
         "rawType": "int64",
         "type": "integer"
        },
        {
         "name": "Age_groups",
         "rawType": "category",
         "type": "unknown"
        },
        {
         "name": "fare",
         "rawType": "float64",
         "type": "float"
        },
        {
         "name": "class",
         "rawType": "category",
         "type": "unknown"
        }
       ],
       "ref": "5be43457-2f2a-42ff-ae96-e56f8bfe6d78",
       "rows": [
        [
         "1",
         "1",
         "Middle Aged",
         "71.2833",
         "First"
        ],
        [
         "2",
         "1",
         "Youngs",
         "7.925",
         "Third"
        ],
        [
         "3",
         "1",
         "Middle Aged",
         "53.1",
         "First"
        ],
        [
         "8",
         "1",
         "Youngs",
         "11.1333",
         "Third"
        ],
        [
         "9",
         "1",
         "Teens",
         "30.0708",
         "Second"
        ]
       ],
       "shape": {
        "columns": 4,
        "rows": 5
       }
      },
      "text/html": [
       "<div>\n",
       "<style scoped>\n",
       "    .dataframe tbody tr th:only-of-type {\n",
       "        vertical-align: middle;\n",
       "    }\n",
       "\n",
       "    .dataframe tbody tr th {\n",
       "        vertical-align: top;\n",
       "    }\n",
       "\n",
       "    .dataframe thead th {\n",
       "        text-align: right;\n",
       "    }\n",
       "</style>\n",
       "<table border=\"1\" class=\"dataframe\">\n",
       "  <thead>\n",
       "    <tr style=\"text-align: right;\">\n",
       "      <th></th>\n",
       "      <th>survived</th>\n",
       "      <th>Age_groups</th>\n",
       "      <th>fare</th>\n",
       "      <th>class</th>\n",
       "    </tr>\n",
       "  </thead>\n",
       "  <tbody>\n",
       "    <tr>\n",
       "      <th>1</th>\n",
       "      <td>1</td>\n",
       "      <td>Middle Aged</td>\n",
       "      <td>71.2833</td>\n",
       "      <td>First</td>\n",
       "    </tr>\n",
       "    <tr>\n",
       "      <th>2</th>\n",
       "      <td>1</td>\n",
       "      <td>Youngs</td>\n",
       "      <td>7.9250</td>\n",
       "      <td>Third</td>\n",
       "    </tr>\n",
       "    <tr>\n",
       "      <th>3</th>\n",
       "      <td>1</td>\n",
       "      <td>Middle Aged</td>\n",
       "      <td>53.1000</td>\n",
       "      <td>First</td>\n",
       "    </tr>\n",
       "    <tr>\n",
       "      <th>8</th>\n",
       "      <td>1</td>\n",
       "      <td>Youngs</td>\n",
       "      <td>11.1333</td>\n",
       "      <td>Third</td>\n",
       "    </tr>\n",
       "    <tr>\n",
       "      <th>9</th>\n",
       "      <td>1</td>\n",
       "      <td>Teens</td>\n",
       "      <td>30.0708</td>\n",
       "      <td>Second</td>\n",
       "    </tr>\n",
       "  </tbody>\n",
       "</table>\n",
       "</div>"
      ],
      "text/plain": [
       "   survived   Age_groups     fare   class\n",
       "1         1  Middle Aged  71.2833   First\n",
       "2         1       Youngs   7.9250   Third\n",
       "3         1  Middle Aged  53.1000   First\n",
       "8         1       Youngs  11.1333   Third\n",
       "9         1        Teens  30.0708  Second"
      ]
     },
     "execution_count": 11,
     "metadata": {},
     "output_type": "execute_result"
    }
   ],
   "source": [
    "# Filter the dataset to include only rows where the \"survived\" column has a value of 1 (indicating passengers who survived)\n",
    "df_2 = df_1[df_1[\"survived\"] == 1]\n",
    "df_2.head()"
   ]
  },
  {
   "cell_type": "code",
   "execution_count": 12,
   "metadata": {},
   "outputs": [
    {
     "data": {
      "application/vnd.microsoft.datawrangler.viewer.v0+json": {
       "columns": [
        {
         "name": "Age_groups",
         "rawType": "category",
         "type": "unknown"
        },
        {
         "name": "count",
         "rawType": "int64",
         "type": "integer"
        }
       ],
       "ref": "bf7928a0-1676-4582-81e2-d2495cd5a3c0",
       "rows": [
        [
         "Infants",
         "12"
        ],
        [
         "Toddlers",
         "0"
        ],
        [
         "Kids",
         "0"
        ],
        [
         "Teens",
         "0"
        ],
        [
         "Youngs",
         "0"
        ],
        [
         "Middle Aged",
         "0"
        ],
        [
         "Old",
         "0"
        ]
       ],
       "shape": {
        "columns": 1,
        "rows": 7
       }
      },
      "text/plain": [
       "Age_groups\n",
       "Infants        12\n",
       "Toddlers        0\n",
       "Kids            0\n",
       "Teens           0\n",
       "Youngs          0\n",
       "Middle Aged     0\n",
       "Old             0\n",
       "Name: count, dtype: int64"
      ]
     },
     "execution_count": 12,
     "metadata": {},
     "output_type": "execute_result"
    }
   ],
   "source": [
    "# Filter the dataset to include only rows where the \"Age_Groups\" column has a value of \"Infants\"\n",
    "df_2 = df_2[df_2[\"Age_groups\"] == \"Infants\"]\n",
    "# Display the count of unique values in the \"Age_Groups\" column\n",
    "df_2[\"Age_groups\"].value_counts()"
   ]
  },
  {
   "cell_type": "code",
   "execution_count": 13,
   "metadata": {},
   "outputs": [
    {
     "data": {
      "application/vnd.microsoft.datawrangler.viewer.v0+json": {
       "columns": [
        {
         "name": "index",
         "rawType": "int64",
         "type": "integer"
        },
        {
         "name": "survived",
         "rawType": "int64",
         "type": "integer"
        },
        {
         "name": "Age_groups",
         "rawType": "category",
         "type": "unknown"
        },
        {
         "name": "fare",
         "rawType": "float64",
         "type": "float"
        },
        {
         "name": "class",
         "rawType": "category",
         "type": "unknown"
        }
       ],
       "ref": "af0e72ad-35ee-4d73-87a5-dd1bd5f2b0d5",
       "rows": [
        [
         "78",
         "1",
         "Infants",
         "29.0",
         "Second"
        ],
        [
         "183",
         "1",
         "Infants",
         "39.0",
         "Second"
        ],
        [
         "755",
         "1",
         "Infants",
         "14.5",
         "Second"
        ],
        [
         "827",
         "1",
         "Infants",
         "37.0042",
         "Second"
        ],
        [
         "831",
         "1",
         "Infants",
         "18.75",
         "Second"
        ]
       ],
       "shape": {
        "columns": 4,
        "rows": 5
       }
      },
      "text/html": [
       "<div>\n",
       "<style scoped>\n",
       "    .dataframe tbody tr th:only-of-type {\n",
       "        vertical-align: middle;\n",
       "    }\n",
       "\n",
       "    .dataframe tbody tr th {\n",
       "        vertical-align: top;\n",
       "    }\n",
       "\n",
       "    .dataframe thead th {\n",
       "        text-align: right;\n",
       "    }\n",
       "</style>\n",
       "<table border=\"1\" class=\"dataframe\">\n",
       "  <thead>\n",
       "    <tr style=\"text-align: right;\">\n",
       "      <th></th>\n",
       "      <th>survived</th>\n",
       "      <th>Age_groups</th>\n",
       "      <th>fare</th>\n",
       "      <th>class</th>\n",
       "    </tr>\n",
       "  </thead>\n",
       "  <tbody>\n",
       "    <tr>\n",
       "      <th>78</th>\n",
       "      <td>1</td>\n",
       "      <td>Infants</td>\n",
       "      <td>29.0000</td>\n",
       "      <td>Second</td>\n",
       "    </tr>\n",
       "    <tr>\n",
       "      <th>183</th>\n",
       "      <td>1</td>\n",
       "      <td>Infants</td>\n",
       "      <td>39.0000</td>\n",
       "      <td>Second</td>\n",
       "    </tr>\n",
       "    <tr>\n",
       "      <th>755</th>\n",
       "      <td>1</td>\n",
       "      <td>Infants</td>\n",
       "      <td>14.5000</td>\n",
       "      <td>Second</td>\n",
       "    </tr>\n",
       "    <tr>\n",
       "      <th>827</th>\n",
       "      <td>1</td>\n",
       "      <td>Infants</td>\n",
       "      <td>37.0042</td>\n",
       "      <td>Second</td>\n",
       "    </tr>\n",
       "    <tr>\n",
       "      <th>831</th>\n",
       "      <td>1</td>\n",
       "      <td>Infants</td>\n",
       "      <td>18.7500</td>\n",
       "      <td>Second</td>\n",
       "    </tr>\n",
       "  </tbody>\n",
       "</table>\n",
       "</div>"
      ],
      "text/plain": [
       "     survived Age_groups     fare   class\n",
       "78          1    Infants  29.0000  Second\n",
       "183         1    Infants  39.0000  Second\n",
       "755         1    Infants  14.5000  Second\n",
       "827         1    Infants  37.0042  Second\n",
       "831         1    Infants  18.7500  Second"
      ]
     },
     "execution_count": 13,
     "metadata": {},
     "output_type": "execute_result"
    }
   ],
   "source": [
    "# Based on Multiple Filtering in a Dataset\n",
    "df_3 = df_1[(df_1[\"survived\"] == 1) & (df_1[\"Age_groups\"] == \"Infants\") & (df_1[\"class\"] == \"Second\") & (df_1[\"fare\"] < 300)]\n",
    "# Let's check the first 5 rows of the filtered dataset\n",
    "df_3.head()"
   ]
  },
  {
   "cell_type": "markdown",
   "metadata": {},
   "source": [
    "## Filtering by Large Categories"
   ]
  },
  {
   "cell_type": "code",
   "execution_count": 18,
   "metadata": {},
   "outputs": [
    {
     "name": "stdout",
     "output_type": "stream",
     "text": [
      "embark_town\n",
      "Southampton    644\n",
      "Cherbourg      168\n",
      "Queenstown      77\n",
      "Name: count, dtype: int64\n",
      "------------Largest 2-----------------------\n",
      "Index(['Southampton', 'Cherbourg'], dtype='object', name='embark_town')\n",
      "------------Smallest 2-----------------------\n",
      "Index(['Queenstown', 'Cherbourg'], dtype='object', name='embark_town')\n"
     ]
    }
   ],
   "source": [
    "df = sns.load_dataset(\"titanic\")\n",
    "print(df[\"embark_town\"].value_counts())\n",
    "print(\"------------Largest 2-----------------------\")\n",
    "print(df[\"embark_town\"].value_counts().nlargest(2).index)\n",
    "print(\"------------Smallest 2-----------------------\")\n",
    "print(df[\"embark_town\"].value_counts().nsmallest(2).index)"
   ]
  },
  {
   "cell_type": "markdown",
   "metadata": {},
   "source": [
    "# 🎉 Mission Complete! 🚀✨"
   ]
  }
 ],
 "metadata": {
  "kernelspec": {
   "display_name": "pandas_pratice",
   "language": "python",
   "name": "python3"
  },
  "language_info": {
   "codemirror_mode": {
    "name": "ipython",
    "version": 3
   },
   "file_extension": ".py",
   "mimetype": "text/x-python",
   "name": "python",
   "nbconvert_exporter": "python",
   "pygments_lexer": "ipython3",
   "version": "3.13.0"
  }
 },
 "nbformat": 4,
 "nbformat_minor": 2
}
