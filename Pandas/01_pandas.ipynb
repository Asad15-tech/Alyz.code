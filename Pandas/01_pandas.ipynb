{
 "cells": [
  {
   "cell_type": "markdown",
   "id": "86656002",
   "metadata": {},
   "source": [
    "# Pandas Day 1"
   ]
  },
  {
   "cell_type": "markdown",
   "id": "b5c77c04",
   "metadata": {},
   "source": [
    "## Importing Libraries\n"
   ]
  },
  {
   "cell_type": "code",
   "execution_count": 1,
   "id": "5a5a8dcc",
   "metadata": {},
   "outputs": [],
   "source": [
    "import pandas as pd\n",
    "import numpy as np\n",
    "import seaborn as sns\n",
    "import matplotlib.pyplot as plt"
   ]
  },
  {
   "cell_type": "markdown",
   "id": "4d9ff24f",
   "metadata": {},
   "source": [
    "## How to get Pandas Version"
   ]
  },
  {
   "cell_type": "code",
   "execution_count": 2,
   "id": "9006977a",
   "metadata": {},
   "outputs": [
    {
     "name": "stdout",
     "output_type": "stream",
     "text": [
      "2.2.3\n",
      "-------------------------\n",
      "\n",
      "INSTALLED VERSIONS\n",
      "------------------\n",
      "commit                : 0691c5cf90477d3503834d983f69350f250a6ff7\n",
      "python                : 3.13.0\n",
      "python-bits           : 64\n",
      "OS                    : Windows\n",
      "OS-release            : 10\n",
      "Version               : 10.0.19045\n",
      "machine               : AMD64\n",
      "processor             : Intel64 Family 6 Model 69 Stepping 1, GenuineIntel\n",
      "byteorder             : little\n",
      "LC_ALL                : None\n",
      "LANG                  : None\n",
      "LOCALE                : English_United States.1252\n",
      "\n",
      "pandas                : 2.2.3\n",
      "numpy                 : 2.1.3\n",
      "pytz                  : 2024.2\n",
      "dateutil              : 2.9.0.post0\n",
      "pip                   : 24.2\n",
      "Cython                : None\n",
      "sphinx                : None\n",
      "IPython               : 8.29.0\n",
      "adbc-driver-postgresql: None\n",
      "adbc-driver-sqlite    : None\n",
      "bs4                   : None\n",
      "blosc                 : None\n",
      "bottleneck            : None\n",
      "dataframe-api-compat  : None\n",
      "fastparquet           : None\n",
      "fsspec                : None\n",
      "html5lib              : None\n",
      "hypothesis            : None\n",
      "gcsfs                 : None\n",
      "jinja2                : 3.1.5\n",
      "lxml.etree            : None\n",
      "matplotlib            : 3.9.2\n",
      "numba                 : None\n",
      "numexpr               : None\n",
      "odfpy                 : None\n",
      "openpyxl              : 3.1.5\n",
      "pandas_gbq            : None\n",
      "psycopg2              : None\n",
      "pymysql               : None\n",
      "pyarrow               : None\n",
      "pyreadstat            : None\n",
      "pytest                : None\n",
      "python-calamine       : None\n",
      "pyxlsb                : None\n",
      "s3fs                  : None\n",
      "scipy                 : 1.15.2\n",
      "sqlalchemy            : None\n",
      "tables                : None\n",
      "tabulate              : None\n",
      "xarray                : None\n",
      "xlrd                  : 2.0.1\n",
      "xlsxwriter            : None\n",
      "zstandard             : None\n",
      "tzdata                : 2024.2\n",
      "qtpy                  : None\n",
      "pyqt5                 : None\n"
     ]
    }
   ],
   "source": [
    "# Print only the version of pandas\n",
    "print(pd.__version__)\n",
    "print(\"-------------------------\")\n",
    "# Print the versions of all dependencies\n",
    "pd.show_versions()"
   ]
  },
  {
   "cell_type": "markdown",
   "id": "0a1b284b",
   "metadata": {},
   "source": [
    "# How to make dataframe"
   ]
  },
  {
   "cell_type": "code",
   "execution_count": 3,
   "id": "5e5a7cda",
   "metadata": {},
   "outputs": [
    {
     "data": {
      "application/vnd.microsoft.datawrangler.viewer.v0+json": {
       "columns": [
        {
         "name": "index",
         "rawType": "int64",
         "type": "integer"
        },
        {
         "name": "Asad",
         "rawType": "object",
         "type": "string"
        },
        {
         "name": "Adnan",
         "rawType": "object",
         "type": "string"
        },
        {
         "name": "Aly",
         "rawType": "object",
         "type": "string"
        }
       ],
       "ref": "044a54a0-dbb2-407c-8e54-e715f020266d",
       "rows": [
        [
         "0",
         "Range Rover Sportage",
         "Honda Civic",
         "Toyota Corolla"
        ],
        [
         "1",
         "Lamborghini Urus",
         "Honda Accord",
         "Toyota Camry"
        ],
        [
         "2",
         "Rolls Royce Cullinan",
         "Honda Civic",
         "Toyota Corolla"
        ]
       ],
       "shape": {
        "columns": 3,
        "rows": 3
       }
      },
      "text/html": [
       "<div>\n",
       "<style scoped>\n",
       "    .dataframe tbody tr th:only-of-type {\n",
       "        vertical-align: middle;\n",
       "    }\n",
       "\n",
       "    .dataframe tbody tr th {\n",
       "        vertical-align: top;\n",
       "    }\n",
       "\n",
       "    .dataframe thead th {\n",
       "        text-align: right;\n",
       "    }\n",
       "</style>\n",
       "<table border=\"1\" class=\"dataframe\">\n",
       "  <thead>\n",
       "    <tr style=\"text-align: right;\">\n",
       "      <th></th>\n",
       "      <th>Asad</th>\n",
       "      <th>Adnan</th>\n",
       "      <th>Aly</th>\n",
       "    </tr>\n",
       "  </thead>\n",
       "  <tbody>\n",
       "    <tr>\n",
       "      <th>0</th>\n",
       "      <td>Range Rover Sportage</td>\n",
       "      <td>Honda Civic</td>\n",
       "      <td>Toyota Corolla</td>\n",
       "    </tr>\n",
       "    <tr>\n",
       "      <th>1</th>\n",
       "      <td>Lamborghini Urus</td>\n",
       "      <td>Honda Accord</td>\n",
       "      <td>Toyota Camry</td>\n",
       "    </tr>\n",
       "    <tr>\n",
       "      <th>2</th>\n",
       "      <td>Rolls Royce Cullinan</td>\n",
       "      <td>Honda Civic</td>\n",
       "      <td>Toyota Corolla</td>\n",
       "    </tr>\n",
       "  </tbody>\n",
       "</table>\n",
       "</div>"
      ],
      "text/plain": [
       "                   Asad         Adnan             Aly\n",
       "0  Range Rover Sportage   Honda Civic  Toyota Corolla\n",
       "1      Lamborghini Urus  Honda Accord    Toyota Camry\n",
       "2  Rolls Royce Cullinan   Honda Civic  Toyota Corolla"
      ]
     },
     "execution_count": 3,
     "metadata": {},
     "output_type": "execute_result"
    }
   ],
   "source": [
    "data = {\n",
    "    \"Asad\":[\"Range Rover Sportage\",\"Lamborghini Urus\",\"Rolls Royce Cullinan\"],\n",
    "    \"Adnan\":[\"Honda Civic\",\"Honda Accord\",\"Honda Civic\"],\n",
    "    \"Aly\":[\"Toyota Corolla\",\"Toyota Camry\",\"Toyota Corolla\"],\n",
    "}\n",
    "# Create a DataFrame from the dictionary\n",
    "df = pd.DataFrame(data)\n",
    "# Display the first few rows of the DataFrame\n",
    "df.head()"
   ]
  },
  {
   "cell_type": "code",
   "execution_count": 4,
   "id": "d70ff8d4",
   "metadata": {},
   "outputs": [
    {
     "name": "stdout",
     "output_type": "stream",
     "text": [
      "    Name                   Car   Price\n",
      "0   Asad  Range Rover Sportage  100000\n",
      "1  Adnan           Honda Civic   20000\n",
      "2    Aly        Toyota Corolla   30000\n",
      "-------------------------\n",
      "          A         B         C         D         E\n",
      "0  0.316502  0.429864  0.406932  0.267567  0.509875\n",
      "1  0.562245  0.758951  0.042690  0.440461  0.353075\n",
      "2  0.843759  0.063919  0.299827  0.755138  0.744284\n",
      "3  0.692448  0.456250  0.890466  0.262938  0.657831\n",
      "4  0.108102  0.768896  0.137682  0.663341  0.685945\n"
     ]
    }
   ],
   "source": [
    "# Create a DataFrame using numpy library\n",
    "data2 = {\n",
    "    \"Name\": np.array([\"Asad\", \"Adnan\", \"Aly\"]),\n",
    "    \"Car\": np.array([\"Range Rover Sportage\", \"Honda Civic\", \"Toyota Corolla\"]),\n",
    "    \"Price\": np.array([100000, 20000, 30000])\n",
    "}\n",
    "df2 = pd.DataFrame(data2)\n",
    "print(df2)\n",
    "print(\"-------------------------\")\n",
    "# Create a DataFrame with random numbers)\n",
    "df3 = pd.DataFrame(np.random.rand(5,5), columns=list(\"ABCDE\"))\n",
    "print(df3)\n"
   ]
  },
  {
   "cell_type": "markdown",
   "id": "2284b18a",
   "metadata": {},
   "source": [
    "## How to Rename Columns\n"
   ]
  },
  {
   "cell_type": "code",
   "execution_count": 5,
   "id": "a0d84bc5",
   "metadata": {},
   "outputs": [
    {
     "data": {
      "application/vnd.microsoft.datawrangler.viewer.v0+json": {
       "columns": [
        {
         "name": "index",
         "rawType": "int64",
         "type": "integer"
        },
        {
         "name": "Asad",
         "rawType": "object",
         "type": "string"
        },
        {
         "name": "Adnan",
         "rawType": "object",
         "type": "string"
        },
        {
         "name": "Aly",
         "rawType": "object",
         "type": "string"
        }
       ],
       "ref": "9731f77b-d2e5-412f-b33c-0c2417028642",
       "rows": [
        [
         "0",
         "Range Rover Sportage",
         "Honda Civic",
         "Toyota Corolla"
        ],
        [
         "1",
         "Lamborghini Urus",
         "Honda Accord",
         "Toyota Camry"
        ],
        [
         "2",
         "Rolls Royce Cullinan",
         "Honda Civic",
         "Toyota Corolla"
        ]
       ],
       "shape": {
        "columns": 3,
        "rows": 3
       }
      },
      "text/html": [
       "<div>\n",
       "<style scoped>\n",
       "    .dataframe tbody tr th:only-of-type {\n",
       "        vertical-align: middle;\n",
       "    }\n",
       "\n",
       "    .dataframe tbody tr th {\n",
       "        vertical-align: top;\n",
       "    }\n",
       "\n",
       "    .dataframe thead th {\n",
       "        text-align: right;\n",
       "    }\n",
       "</style>\n",
       "<table border=\"1\" class=\"dataframe\">\n",
       "  <thead>\n",
       "    <tr style=\"text-align: right;\">\n",
       "      <th></th>\n",
       "      <th>Asad</th>\n",
       "      <th>Adnan</th>\n",
       "      <th>Aly</th>\n",
       "    </tr>\n",
       "  </thead>\n",
       "  <tbody>\n",
       "    <tr>\n",
       "      <th>0</th>\n",
       "      <td>Range Rover Sportage</td>\n",
       "      <td>Honda Civic</td>\n",
       "      <td>Toyota Corolla</td>\n",
       "    </tr>\n",
       "    <tr>\n",
       "      <th>1</th>\n",
       "      <td>Lamborghini Urus</td>\n",
       "      <td>Honda Accord</td>\n",
       "      <td>Toyota Camry</td>\n",
       "    </tr>\n",
       "    <tr>\n",
       "      <th>2</th>\n",
       "      <td>Rolls Royce Cullinan</td>\n",
       "      <td>Honda Civic</td>\n",
       "      <td>Toyota Corolla</td>\n",
       "    </tr>\n",
       "  </tbody>\n",
       "</table>\n",
       "</div>"
      ],
      "text/plain": [
       "                   Asad         Adnan             Aly\n",
       "0  Range Rover Sportage   Honda Civic  Toyota Corolla\n",
       "1      Lamborghini Urus  Honda Accord    Toyota Camry\n",
       "2  Rolls Royce Cullinan   Honda Civic  Toyota Corolla"
      ]
     },
     "execution_count": 5,
     "metadata": {},
     "output_type": "execute_result"
    }
   ],
   "source": [
    "# Let's again have a look on a dataset\n",
    "df.head()"
   ]
  },
  {
   "cell_type": "code",
   "execution_count": 6,
   "id": "29d75631",
   "metadata": {},
   "outputs": [
    {
     "name": "stdout",
     "output_type": "stream",
     "text": [
      "Index(['Asad', 'Adnan', 'Aly'], dtype='object')\n",
      "----------------\n",
      "        Asad_Dream_Cars Adnan_Dream_Cars  Aly_Dream_Cars\n",
      "0  Range Rover Sportage      Honda Civic  Toyota Corolla\n",
      "1      Lamborghini Urus     Honda Accord    Toyota Camry\n",
      "2  Rolls Royce Cullinan      Honda Civic  Toyota Corolla\n",
      "Index(['Asad_Dream_Cars', 'Adnan_Dream_Cars', 'Aly_Dream_Cars'], dtype='object')\n"
     ]
    }
   ],
   "source": [
    "# Current name of columns\n",
    "print(df.columns)\n",
    "print(\"----------------\")\n",
    "# Rename the columns of the DataFrame\n",
    "df.rename(columns={\"Asad\":\"Asad_Dream_Cars\",\"Adnan\":\"Adnan_Dream_Cars\",\"Aly\":\"Aly_Dream_Cars\"}, inplace=True)\n",
    "print(df.head())\n",
    "# Let's recheck the columns names\n",
    "print(df.columns)\n"
   ]
  },
  {
   "cell_type": "markdown",
   "id": "4dfa16a8",
   "metadata": {},
   "source": [
    "# How to use Template Data"
   ]
  },
  {
   "cell_type": "code",
   "execution_count": 14,
   "id": "d74ca277",
   "metadata": {},
   "outputs": [],
   "source": [
    "# Setting to display all rows\n",
    "pd.set_option('display.max_rows', None)"
   ]
  },
  {
   "cell_type": "code",
   "execution_count": 15,
   "id": "a52b482d",
   "metadata": {},
   "outputs": [
    {
     "name": "stdout",
     "output_type": "stream",
     "text": [
      "Titanic Dataset\n",
      "   survived  pclass     sex   age  sibsp  parch     fare embarked  class  \\\n",
      "0         0       3    male  22.0      1      0   7.2500        S  Third   \n",
      "1         1       1  female  38.0      1      0  71.2833        C  First   \n",
      "2         1       3  female  26.0      0      0   7.9250        S  Third   \n",
      "3         1       1  female  35.0      1      0  53.1000        S  First   \n",
      "4         0       3    male  35.0      0      0   8.0500        S  Third   \n",
      "\n",
      "     who  adult_male deck  embark_town alive  alone  \n",
      "0    man        True  NaN  Southampton    no  False  \n",
      "1  woman       False    C    Cherbourg   yes  False  \n",
      "2  woman       False  NaN  Southampton   yes   True  \n",
      "3  woman       False    C  Southampton   yes  False  \n",
      "4    man        True  NaN  Southampton    no   True  \n",
      "---------------------------\n",
      "Iris Dataset\n",
      "     sepal_length  sepal_width  petal_length  petal_width    species\n",
      "145           6.7          3.0           5.2          2.3  virginica\n",
      "146           6.3          2.5           5.0          1.9  virginica\n",
      "147           6.5          3.0           5.2          2.0  virginica\n",
      "148           6.2          3.4           5.4          2.3  virginica\n",
      "149           5.9          3.0           5.1          1.8  virginica\n",
      "-------------------------\n",
      "       sepal_length  sepal_width  petal_length  petal_width\n",
      "count    150.000000   150.000000    150.000000   150.000000\n",
      "mean       5.843333     3.057333      3.758000     1.199333\n",
      "std        0.828066     0.435866      1.765298     0.762238\n",
      "min        4.300000     2.000000      1.000000     0.100000\n",
      "25%        5.100000     2.800000      1.600000     0.300000\n",
      "50%        5.800000     3.000000      4.350000     1.300000\n",
      "75%        6.400000     3.300000      5.100000     1.800000\n",
      "max        7.900000     4.400000      6.900000     2.500000\n",
      "-------------------------\n",
      "Index(['sepal_length', 'sepal_width', 'petal_length', 'petal_width',\n",
      "       'species'],\n",
      "      dtype='object')\n",
      "-------------------------\n"
     ]
    }
   ],
   "source": [
    "# Load a Titanic dataset using seaborn\n",
    "boat = sns.load_dataset('titanic')\n",
    "# Let's have a look on the top 5 rows of titanic dataset\n",
    "print(\"Titanic Dataset\")\n",
    "print(boat.head(5))\n",
    "print(\"---------------------------\")\n",
    "# Again load the Iris dataset using seaborn\n",
    "print(\"Iris Dataset\")\n",
    "flower = sns.load_dataset(\"iris\")\n",
    "# Let's have a look on the last 5 rows of Iris Dataset\n",
    "print(flower.tail(5))\n",
    "print(\"-------------------------\")\n",
    "# Let's get the statistical summary of the Iris Dataset\n",
    "print(flower.describe())\n",
    "print(\"-------------------------\")\n",
    "# Let's get the name of columns of the Iris dataset\n",
    "print(flower.columns)\n",
    "print(\"-------------------------\")\n",
    "# Let's save the Iris dataset to a CSV file\n",
    "flower.to_csv(\"Iris.csv\")\n",
    "# Let's save the Iris dataset to an Excel file\n",
    "flower.to_excel(\"Iris.xlsx\")\n",
    "# Let's read the Iris dataset from a CSV file\n",
    "flower = pd.read_csv(\"Iris.csv\")\n",
    "\n"
   ]
  },
  {
   "cell_type": "markdown",
   "id": "007a66e6",
   "metadata": {},
   "source": [
    "# Reverse Row Order"
   ]
  },
  {
   "cell_type": "code",
   "execution_count": 17,
   "id": "837a7d44",
   "metadata": {},
   "outputs": [
    {
     "name": "stdout",
     "output_type": "stream",
     "text": [
      "   survived  pclass     sex   age  sibsp  parch     fare embarked  class  \\\n",
      "0         0       3    male  22.0      1      0   7.2500        S  Third   \n",
      "1         1       1  female  38.0      1      0  71.2833        C  First   \n",
      "2         1       3  female  26.0      0      0   7.9250        S  Third   \n",
      "3         1       1  female  35.0      1      0  53.1000        S  First   \n",
      "4         0       3    male  35.0      0      0   8.0500        S  Third   \n",
      "\n",
      "     who  adult_male deck  embark_town alive  alone  \n",
      "0    man        True  NaN  Southampton    no  False  \n",
      "1  woman       False    C    Cherbourg   yes  False  \n",
      "2  woman       False  NaN  Southampton   yes   True  \n",
      "3  woman       False    C  Southampton   yes  False  \n",
      "4    man        True  NaN  Southampton    no   True  \n"
     ]
    }
   ],
   "source": [
    "df = sns.load_dataset(\"titanic\")\n",
    "print(df.head())"
   ]
  },
  {
   "cell_type": "code",
   "execution_count": 21,
   "id": "f4a23f0e",
   "metadata": {},
   "outputs": [
    {
     "name": "stdout",
     "output_type": "stream",
     "text": [
      "   survived  pclass     sex   age  sibsp  parch     fare embarked  class  \\\n",
      "0         0       3    male  22.0      1      0   7.2500        S  Third   \n",
      "1         1       1  female  38.0      1      0  71.2833        C  First   \n",
      "2         1       3  female  26.0      0      0   7.9250        S  Third   \n",
      "3         1       1  female  35.0      1      0  53.1000        S  First   \n",
      "4         0       3    male  35.0      0      0   8.0500        S  Third   \n",
      "\n",
      "     who  adult_male deck  embark_town alive  alone  \n",
      "0    man        True  NaN  Southampton    no  False  \n",
      "1  woman       False    C    Cherbourg   yes  False  \n",
      "2  woman       False  NaN  Southampton   yes   True  \n",
      "3  woman       False    C  Southampton   yes  False  \n",
      "4    man        True  NaN  Southampton    no   True  \n"
     ]
    }
   ],
   "source": [
    "# Row reverse order\n",
    "df = df.loc[::-1]\n",
    "print(df.head())"
   ]
  },
  {
   "cell_type": "code",
   "execution_count": 24,
   "id": "e1747134",
   "metadata": {},
   "outputs": [
    {
     "name": "stdout",
     "output_type": "stream",
     "text": [
      "   survived  pclass     sex   age  sibsp  parch     fare embarked  class  \\\n",
      "0         0       3    male  22.0      1      0   7.2500        S  Third   \n",
      "1         1       1  female  38.0      1      0  71.2833        C  First   \n",
      "2         1       3  female  26.0      0      0   7.9250        S  Third   \n",
      "3         1       1  female  35.0      1      0  53.1000        S  First   \n",
      "4         0       3    male  35.0      0      0   8.0500        S  Third   \n",
      "\n",
      "     who  adult_male deck  embark_town alive  alone  \n",
      "0    man        True  NaN  Southampton    no  False  \n",
      "1  woman       False    C    Cherbourg   yes  False  \n",
      "2  woman       False  NaN  Southampton   yes   True  \n",
      "3  woman       False    C  Southampton   yes  False  \n",
      "4    man        True  NaN  Southampton    no   True  \n"
     ]
    }
   ],
   "source": [
    "# Reset index of rows in to its original order\n",
    "df = df.loc[::-1].reset_index(drop=True)\n",
    "print(df.head())"
   ]
  },
  {
   "cell_type": "code",
   "execution_count": 29,
   "id": "437f23d9",
   "metadata": {},
   "outputs": [
    {
     "name": "stdout",
     "output_type": "stream",
     "text": [
      "   alone alive  embark_town deck  adult_male    who  class embarked     fare  \\\n",
      "0  False    no  Southampton  NaN        True    man  Third        S   7.2500   \n",
      "1  False   yes    Cherbourg    C       False  woman  First        C  71.2833   \n",
      "2   True   yes  Southampton  NaN       False  woman  Third        S   7.9250   \n",
      "3  False   yes  Southampton    C       False  woman  First        S  53.1000   \n",
      "4   True    no  Southampton  NaN        True    man  Third        S   8.0500   \n",
      "\n",
      "   parch  sibsp   age     sex  pclass  survived  \n",
      "0      0      1  22.0    male       3         0  \n",
      "1      0      1  38.0  female       1         1  \n",
      "2      0      0  26.0  female       3         1  \n",
      "3      0      1  35.0  female       1         1  \n",
      "4      0      0  35.0    male       3         0  \n"
     ]
    }
   ],
   "source": [
    "# Let's reverse the order of columns\n",
    "df = sns.load_dataset(\"titanic\")  # Ensure df is a DataFrame\n",
    "df = df[df.columns[::-1]]\n",
    "print(df.head())"
   ]
  },
  {
   "cell_type": "markdown",
   "id": "91f9702b",
   "metadata": {},
   "source": [
    "# Select columns from dataset on the base of datatype"
   ]
  },
  {
   "cell_type": "code",
   "execution_count": 33,
   "id": "73af9db0",
   "metadata": {},
   "outputs": [
    {
     "data": {
      "application/vnd.microsoft.datawrangler.viewer.v0+json": {
       "columns": [
        {
         "name": "index",
         "rawType": "int64",
         "type": "integer"
        },
        {
         "name": "survived",
         "rawType": "int64",
         "type": "integer"
        },
        {
         "name": "pclass",
         "rawType": "int64",
         "type": "integer"
        },
        {
         "name": "sex",
         "rawType": "object",
         "type": "string"
        },
        {
         "name": "age",
         "rawType": "float64",
         "type": "float"
        },
        {
         "name": "sibsp",
         "rawType": "int64",
         "type": "integer"
        },
        {
         "name": "parch",
         "rawType": "int64",
         "type": "integer"
        },
        {
         "name": "fare",
         "rawType": "float64",
         "type": "float"
        },
        {
         "name": "embarked",
         "rawType": "object",
         "type": "string"
        },
        {
         "name": "class",
         "rawType": "category",
         "type": "unknown"
        },
        {
         "name": "who",
         "rawType": "object",
         "type": "string"
        },
        {
         "name": "adult_male",
         "rawType": "bool",
         "type": "boolean"
        },
        {
         "name": "deck",
         "rawType": "category",
         "type": "unknown"
        },
        {
         "name": "embark_town",
         "rawType": "object",
         "type": "string"
        },
        {
         "name": "alive",
         "rawType": "object",
         "type": "string"
        },
        {
         "name": "alone",
         "rawType": "bool",
         "type": "boolean"
        }
       ],
       "ref": "9ff10951-0682-49c1-a34a-5c8bb82de4a6",
       "rows": [
        [
         "0",
         "0",
         "3",
         "male",
         "22.0",
         "1",
         "0",
         "7.25",
         "S",
         "Third",
         "man",
         "True",
         null,
         "Southampton",
         "no",
         "False"
        ],
        [
         "1",
         "1",
         "1",
         "female",
         "38.0",
         "1",
         "0",
         "71.2833",
         "C",
         "First",
         "woman",
         "False",
         "C",
         "Cherbourg",
         "yes",
         "False"
        ],
        [
         "2",
         "1",
         "3",
         "female",
         "26.0",
         "0",
         "0",
         "7.925",
         "S",
         "Third",
         "woman",
         "False",
         null,
         "Southampton",
         "yes",
         "True"
        ],
        [
         "3",
         "1",
         "1",
         "female",
         "35.0",
         "1",
         "0",
         "53.1",
         "S",
         "First",
         "woman",
         "False",
         "C",
         "Southampton",
         "yes",
         "False"
        ],
        [
         "4",
         "0",
         "3",
         "male",
         "35.0",
         "0",
         "0",
         "8.05",
         "S",
         "Third",
         "man",
         "True",
         null,
         "Southampton",
         "no",
         "True"
        ]
       ],
       "shape": {
        "columns": 15,
        "rows": 5
       }
      },
      "text/html": [
       "<div>\n",
       "<style scoped>\n",
       "    .dataframe tbody tr th:only-of-type {\n",
       "        vertical-align: middle;\n",
       "    }\n",
       "\n",
       "    .dataframe tbody tr th {\n",
       "        vertical-align: top;\n",
       "    }\n",
       "\n",
       "    .dataframe thead th {\n",
       "        text-align: right;\n",
       "    }\n",
       "</style>\n",
       "<table border=\"1\" class=\"dataframe\">\n",
       "  <thead>\n",
       "    <tr style=\"text-align: right;\">\n",
       "      <th></th>\n",
       "      <th>survived</th>\n",
       "      <th>pclass</th>\n",
       "      <th>sex</th>\n",
       "      <th>age</th>\n",
       "      <th>sibsp</th>\n",
       "      <th>parch</th>\n",
       "      <th>fare</th>\n",
       "      <th>embarked</th>\n",
       "      <th>class</th>\n",
       "      <th>who</th>\n",
       "      <th>adult_male</th>\n",
       "      <th>deck</th>\n",
       "      <th>embark_town</th>\n",
       "      <th>alive</th>\n",
       "      <th>alone</th>\n",
       "    </tr>\n",
       "  </thead>\n",
       "  <tbody>\n",
       "    <tr>\n",
       "      <th>0</th>\n",
       "      <td>0</td>\n",
       "      <td>3</td>\n",
       "      <td>male</td>\n",
       "      <td>22.0</td>\n",
       "      <td>1</td>\n",
       "      <td>0</td>\n",
       "      <td>7.2500</td>\n",
       "      <td>S</td>\n",
       "      <td>Third</td>\n",
       "      <td>man</td>\n",
       "      <td>True</td>\n",
       "      <td>NaN</td>\n",
       "      <td>Southampton</td>\n",
       "      <td>no</td>\n",
       "      <td>False</td>\n",
       "    </tr>\n",
       "    <tr>\n",
       "      <th>1</th>\n",
       "      <td>1</td>\n",
       "      <td>1</td>\n",
       "      <td>female</td>\n",
       "      <td>38.0</td>\n",
       "      <td>1</td>\n",
       "      <td>0</td>\n",
       "      <td>71.2833</td>\n",
       "      <td>C</td>\n",
       "      <td>First</td>\n",
       "      <td>woman</td>\n",
       "      <td>False</td>\n",
       "      <td>C</td>\n",
       "      <td>Cherbourg</td>\n",
       "      <td>yes</td>\n",
       "      <td>False</td>\n",
       "    </tr>\n",
       "    <tr>\n",
       "      <th>2</th>\n",
       "      <td>1</td>\n",
       "      <td>3</td>\n",
       "      <td>female</td>\n",
       "      <td>26.0</td>\n",
       "      <td>0</td>\n",
       "      <td>0</td>\n",
       "      <td>7.9250</td>\n",
       "      <td>S</td>\n",
       "      <td>Third</td>\n",
       "      <td>woman</td>\n",
       "      <td>False</td>\n",
       "      <td>NaN</td>\n",
       "      <td>Southampton</td>\n",
       "      <td>yes</td>\n",
       "      <td>True</td>\n",
       "    </tr>\n",
       "    <tr>\n",
       "      <th>3</th>\n",
       "      <td>1</td>\n",
       "      <td>1</td>\n",
       "      <td>female</td>\n",
       "      <td>35.0</td>\n",
       "      <td>1</td>\n",
       "      <td>0</td>\n",
       "      <td>53.1000</td>\n",
       "      <td>S</td>\n",
       "      <td>First</td>\n",
       "      <td>woman</td>\n",
       "      <td>False</td>\n",
       "      <td>C</td>\n",
       "      <td>Southampton</td>\n",
       "      <td>yes</td>\n",
       "      <td>False</td>\n",
       "    </tr>\n",
       "    <tr>\n",
       "      <th>4</th>\n",
       "      <td>0</td>\n",
       "      <td>3</td>\n",
       "      <td>male</td>\n",
       "      <td>35.0</td>\n",
       "      <td>0</td>\n",
       "      <td>0</td>\n",
       "      <td>8.0500</td>\n",
       "      <td>S</td>\n",
       "      <td>Third</td>\n",
       "      <td>man</td>\n",
       "      <td>True</td>\n",
       "      <td>NaN</td>\n",
       "      <td>Southampton</td>\n",
       "      <td>no</td>\n",
       "      <td>True</td>\n",
       "    </tr>\n",
       "  </tbody>\n",
       "</table>\n",
       "</div>"
      ],
      "text/plain": [
       "   survived  pclass     sex   age  sibsp  parch     fare embarked  class  \\\n",
       "0         0       3    male  22.0      1      0   7.2500        S  Third   \n",
       "1         1       1  female  38.0      1      0  71.2833        C  First   \n",
       "2         1       3  female  26.0      0      0   7.9250        S  Third   \n",
       "3         1       1  female  35.0      1      0  53.1000        S  First   \n",
       "4         0       3    male  35.0      0      0   8.0500        S  Third   \n",
       "\n",
       "     who  adult_male deck  embark_town alive  alone  \n",
       "0    man        True  NaN  Southampton    no  False  \n",
       "1  woman       False    C    Cherbourg   yes  False  \n",
       "2  woman       False  NaN  Southampton   yes   True  \n",
       "3  woman       False    C  Southampton   yes  False  \n",
       "4    man        True  NaN  Southampton    no   True  "
      ]
     },
     "execution_count": 33,
     "metadata": {},
     "output_type": "execute_result"
    }
   ],
   "source": [
    "df = sns.load_dataset(\"titanic\")\n",
    "df.head()"
   ]
  },
  {
   "cell_type": "code",
   "execution_count": 34,
   "id": "634cab78",
   "metadata": {},
   "outputs": [
    {
     "data": {
      "text/plain": [
       "Index(['survived', 'pclass', 'age', 'sibsp', 'parch', 'fare'], dtype='object')"
      ]
     },
     "execution_count": 34,
     "metadata": {},
     "output_type": "execute_result"
    }
   ],
   "source": [
    "# Selecting specific columns that is numeric\n",
    "df = df.select_dtypes(include=[\"number\"])\n",
    "df.columns"
   ]
  },
  {
   "cell_type": "code",
   "execution_count": 35,
   "id": "89f68e07",
   "metadata": {},
   "outputs": [
    {
     "data": {
      "text/plain": [
       "Index(['sex', 'embarked', 'who', 'embark_town', 'alive'], dtype='object')"
      ]
     },
     "execution_count": 35,
     "metadata": {},
     "output_type": "execute_result"
    }
   ],
   "source": [
    "# Selecting specific columns that is object\n",
    "df = sns.load_dataset(\"titanic\")  # Ensure df is a DataFrame\n",
    "df = df.select_dtypes(include=[\"object\"])\n",
    "df.columns"
   ]
  },
  {
   "cell_type": "code",
   "execution_count": 38,
   "id": "b8cae6c3",
   "metadata": {},
   "outputs": [
    {
     "data": {
      "text/plain": [
       "Index(['class', 'adult_male', 'deck', 'alone'], dtype='object')"
      ]
     },
     "execution_count": 38,
     "metadata": {},
     "output_type": "execute_result"
    }
   ],
   "source": [
    "# Selecting specific columns that are neither a number nor an object\n",
    "df = sns.load_dataset(\"titanic\")  # Ensure df is a DataFrame\n",
    "df = df.select_dtypes(exclude=[\"number\",\"object\"])\n",
    "df.columns"
   ]
  },
  {
   "cell_type": "code",
   "execution_count": 40,
   "id": "44a34530",
   "metadata": {},
   "outputs": [
    {
     "data": {
      "text/plain": [
       "Index(['adult_male', 'alone'], dtype='object')"
      ]
     },
     "execution_count": 40,
     "metadata": {},
     "output_type": "execute_result"
    }
   ],
   "source": [
    "# Selecting specific columns that is boolean\n",
    "df = sns.load_dataset(\"titanic\")\n",
    "df = df.select_dtypes(include=[\"bool\"])\n",
    "df.columns"
   ]
  }
 ],
 "metadata": {
  "kernelspec": {
   "display_name": "pandas_pratice",
   "language": "python",
   "name": "python3"
  },
  "language_info": {
   "codemirror_mode": {
    "name": "ipython",
    "version": 3
   },
   "file_extension": ".py",
   "mimetype": "text/x-python",
   "name": "python",
   "nbconvert_exporter": "python",
   "pygments_lexer": "ipython3",
   "version": "3.13.0"
  }
 },
 "nbformat": 4,
 "nbformat_minor": 5
}
