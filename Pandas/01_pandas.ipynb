{
 "cells": [
  {
   "cell_type": "markdown",
   "id": "86656002",
   "metadata": {},
   "source": [
    "# Pandas Day 1"
   ]
  },
  {
   "cell_type": "markdown",
   "id": "b5c77c04",
   "metadata": {},
   "source": [
    "## Importing Libraries\n"
   ]
  },
  {
   "cell_type": "code",
   "execution_count": 1,
   "id": "5a5a8dcc",
   "metadata": {},
   "outputs": [],
   "source": [
    "import pandas as pd\n",
    "import numpy as np\n",
    "import seaborn as sns\n",
    "import matplotlib.pyplot as plt"
   ]
  },
  {
   "cell_type": "markdown",
   "id": "4d9ff24f",
   "metadata": {},
   "source": [
    "## How to get Pandas Version"
   ]
  },
  {
   "cell_type": "code",
   "execution_count": 2,
   "id": "9006977a",
   "metadata": {},
   "outputs": [
    {
     "name": "stdout",
     "output_type": "stream",
     "text": [
      "2.2.3\n",
      "-------------------------\n",
      "\n",
      "INSTALLED VERSIONS\n",
      "------------------\n",
      "commit                : 0691c5cf90477d3503834d983f69350f250a6ff7\n",
      "python                : 3.13.0\n",
      "python-bits           : 64\n",
      "OS                    : Windows\n",
      "OS-release            : 10\n",
      "Version               : 10.0.19045\n",
      "machine               : AMD64\n",
      "processor             : Intel64 Family 6 Model 69 Stepping 1, GenuineIntel\n",
      "byteorder             : little\n",
      "LC_ALL                : None\n",
      "LANG                  : None\n",
      "LOCALE                : English_United States.1252\n",
      "\n",
      "pandas                : 2.2.3\n",
      "numpy                 : 2.1.3\n",
      "pytz                  : 2024.2\n",
      "dateutil              : 2.9.0.post0\n",
      "pip                   : 25.1.1\n",
      "Cython                : None\n",
      "sphinx                : None\n",
      "IPython               : 8.29.0\n",
      "adbc-driver-postgresql: None\n",
      "adbc-driver-sqlite    : None\n",
      "bs4                   : None\n",
      "blosc                 : None\n",
      "bottleneck            : None\n",
      "dataframe-api-compat  : None\n",
      "fastparquet           : None\n",
      "fsspec                : None\n",
      "html5lib              : None\n",
      "hypothesis            : None\n",
      "gcsfs                 : None\n",
      "jinja2                : 3.1.5\n",
      "lxml.etree            : None\n",
      "matplotlib            : 3.9.2\n",
      "numba                 : None\n",
      "numexpr               : None\n",
      "odfpy                 : None\n",
      "openpyxl              : 3.1.5\n",
      "pandas_gbq            : None\n",
      "psycopg2              : None\n",
      "pymysql               : None\n",
      "pyarrow               : None\n",
      "pyreadstat            : None\n",
      "pytest                : None\n",
      "python-calamine       : None\n",
      "pyxlsb                : None\n",
      "s3fs                  : None\n",
      "scipy                 : 1.15.2\n",
      "sqlalchemy            : None\n",
      "tables                : None\n",
      "tabulate              : None\n",
      "xarray                : None\n",
      "xlrd                  : 2.0.1\n",
      "xlsxwriter            : None\n",
      "zstandard             : None\n",
      "tzdata                : 2024.2\n",
      "qtpy                  : None\n",
      "pyqt5                 : None\n"
     ]
    }
   ],
   "source": [
    "# Print only the version of pandas\n",
    "print(pd.__version__)\n",
    "print(\"-------------------------\")\n",
    "# Print the versions of all dependencies\n",
    "pd.show_versions()"
   ]
  },
  {
   "cell_type": "markdown",
   "id": "0a1b284b",
   "metadata": {},
   "source": [
    "# How to make dataframe"
   ]
  },
  {
   "cell_type": "code",
   "execution_count": 3,
   "id": "5e5a7cda",
   "metadata": {},
   "outputs": [
    {
     "data": {
      "application/vnd.microsoft.datawrangler.viewer.v0+json": {
       "columns": [
        {
         "name": "index",
         "rawType": "int64",
         "type": "integer"
        },
        {
         "name": "Asad",
         "rawType": "object",
         "type": "string"
        },
        {
         "name": "Adnan",
         "rawType": "object",
         "type": "string"
        },
        {
         "name": "Aly",
         "rawType": "object",
         "type": "string"
        }
       ],
       "ref": "b23fe0b9-a2b4-4724-9203-c38e11765e1d",
       "rows": [
        [
         "0",
         "Range Rover Sportage",
         "Honda Civic",
         "Toyota Corolla"
        ],
        [
         "1",
         "Lamborghini Urus",
         "Honda Accord",
         "Toyota Camry"
        ],
        [
         "2",
         "Rolls Royce Cullinan",
         "Honda Civic",
         "Toyota Corolla"
        ]
       ],
       "shape": {
        "columns": 3,
        "rows": 3
       }
      },
      "text/html": [
       "<div>\n",
       "<style scoped>\n",
       "    .dataframe tbody tr th:only-of-type {\n",
       "        vertical-align: middle;\n",
       "    }\n",
       "\n",
       "    .dataframe tbody tr th {\n",
       "        vertical-align: top;\n",
       "    }\n",
       "\n",
       "    .dataframe thead th {\n",
       "        text-align: right;\n",
       "    }\n",
       "</style>\n",
       "<table border=\"1\" class=\"dataframe\">\n",
       "  <thead>\n",
       "    <tr style=\"text-align: right;\">\n",
       "      <th></th>\n",
       "      <th>Asad</th>\n",
       "      <th>Adnan</th>\n",
       "      <th>Aly</th>\n",
       "    </tr>\n",
       "  </thead>\n",
       "  <tbody>\n",
       "    <tr>\n",
       "      <th>0</th>\n",
       "      <td>Range Rover Sportage</td>\n",
       "      <td>Honda Civic</td>\n",
       "      <td>Toyota Corolla</td>\n",
       "    </tr>\n",
       "    <tr>\n",
       "      <th>1</th>\n",
       "      <td>Lamborghini Urus</td>\n",
       "      <td>Honda Accord</td>\n",
       "      <td>Toyota Camry</td>\n",
       "    </tr>\n",
       "    <tr>\n",
       "      <th>2</th>\n",
       "      <td>Rolls Royce Cullinan</td>\n",
       "      <td>Honda Civic</td>\n",
       "      <td>Toyota Corolla</td>\n",
       "    </tr>\n",
       "  </tbody>\n",
       "</table>\n",
       "</div>"
      ],
      "text/plain": [
       "                   Asad         Adnan             Aly\n",
       "0  Range Rover Sportage   Honda Civic  Toyota Corolla\n",
       "1      Lamborghini Urus  Honda Accord    Toyota Camry\n",
       "2  Rolls Royce Cullinan   Honda Civic  Toyota Corolla"
      ]
     },
     "execution_count": 3,
     "metadata": {},
     "output_type": "execute_result"
    }
   ],
   "source": [
    "data = {\n",
    "    \"Asad\":[\"Range Rover Sportage\",\"Lamborghini Urus\",\"Rolls Royce Cullinan\"],\n",
    "    \"Adnan\":[\"Honda Civic\",\"Honda Accord\",\"Honda Civic\"],\n",
    "    \"Aly\":[\"Toyota Corolla\",\"Toyota Camry\",\"Toyota Corolla\"],\n",
    "}\n",
    "# Create a DataFrame from the dictionary\n",
    "df = pd.DataFrame(data)\n",
    "# Display the first few rows of the DataFrame\n",
    "df.head()"
   ]
  },
  {
   "cell_type": "code",
   "execution_count": 4,
   "id": "d70ff8d4",
   "metadata": {},
   "outputs": [
    {
     "name": "stdout",
     "output_type": "stream",
     "text": [
      "    Name                   Car   Price\n",
      "0   Asad  Range Rover Sportage  100000\n",
      "1  Adnan           Honda Civic   20000\n",
      "2    Aly        Toyota Corolla   30000\n",
      "-------------------------\n",
      "          A         B         C         D         E\n",
      "0  0.947930  0.362078  0.419405  0.743905  0.052991\n",
      "1  0.917779  0.444061  0.643134  0.789394  0.042507\n",
      "2  0.200645  0.053391  0.086353  0.102250  0.146619\n",
      "3  0.402860  0.705526  0.114965  0.218708  0.646226\n",
      "4  0.821804  0.984580  0.600277  0.000849  0.334342\n"
     ]
    }
   ],
   "source": [
    "# Create a DataFrame using numpy library\n",
    "data2 = {\n",
    "    \"Name\": np.array([\"Asad\", \"Adnan\", \"Aly\"]),\n",
    "    \"Car\": np.array([\"Range Rover Sportage\", \"Honda Civic\", \"Toyota Corolla\"]),\n",
    "    \"Price\": np.array([100000, 20000, 30000])\n",
    "}\n",
    "df2 = pd.DataFrame(data2)\n",
    "print(df2)\n",
    "print(\"-------------------------\")\n",
    "# Create a DataFrame with random numbers)\n",
    "df3 = pd.DataFrame(np.random.rand(5,5), columns=list(\"ABCDE\"))\n",
    "print(df3)\n"
   ]
  },
  {
   "cell_type": "markdown",
   "id": "2284b18a",
   "metadata": {},
   "source": [
    "## How to Rename Columns\n"
   ]
  },
  {
   "cell_type": "code",
   "execution_count": 5,
   "id": "a0d84bc5",
   "metadata": {},
   "outputs": [
    {
     "data": {
      "application/vnd.microsoft.datawrangler.viewer.v0+json": {
       "columns": [
        {
         "name": "index",
         "rawType": "int64",
         "type": "integer"
        },
        {
         "name": "Asad",
         "rawType": "object",
         "type": "string"
        },
        {
         "name": "Adnan",
         "rawType": "object",
         "type": "string"
        },
        {
         "name": "Aly",
         "rawType": "object",
         "type": "string"
        }
       ],
       "ref": "dfcb40a6-6ff7-4fec-926a-ca84a5bc2ccf",
       "rows": [
        [
         "0",
         "Range Rover Sportage",
         "Honda Civic",
         "Toyota Corolla"
        ],
        [
         "1",
         "Lamborghini Urus",
         "Honda Accord",
         "Toyota Camry"
        ],
        [
         "2",
         "Rolls Royce Cullinan",
         "Honda Civic",
         "Toyota Corolla"
        ]
       ],
       "shape": {
        "columns": 3,
        "rows": 3
       }
      },
      "text/html": [
       "<div>\n",
       "<style scoped>\n",
       "    .dataframe tbody tr th:only-of-type {\n",
       "        vertical-align: middle;\n",
       "    }\n",
       "\n",
       "    .dataframe tbody tr th {\n",
       "        vertical-align: top;\n",
       "    }\n",
       "\n",
       "    .dataframe thead th {\n",
       "        text-align: right;\n",
       "    }\n",
       "</style>\n",
       "<table border=\"1\" class=\"dataframe\">\n",
       "  <thead>\n",
       "    <tr style=\"text-align: right;\">\n",
       "      <th></th>\n",
       "      <th>Asad</th>\n",
       "      <th>Adnan</th>\n",
       "      <th>Aly</th>\n",
       "    </tr>\n",
       "  </thead>\n",
       "  <tbody>\n",
       "    <tr>\n",
       "      <th>0</th>\n",
       "      <td>Range Rover Sportage</td>\n",
       "      <td>Honda Civic</td>\n",
       "      <td>Toyota Corolla</td>\n",
       "    </tr>\n",
       "    <tr>\n",
       "      <th>1</th>\n",
       "      <td>Lamborghini Urus</td>\n",
       "      <td>Honda Accord</td>\n",
       "      <td>Toyota Camry</td>\n",
       "    </tr>\n",
       "    <tr>\n",
       "      <th>2</th>\n",
       "      <td>Rolls Royce Cullinan</td>\n",
       "      <td>Honda Civic</td>\n",
       "      <td>Toyota Corolla</td>\n",
       "    </tr>\n",
       "  </tbody>\n",
       "</table>\n",
       "</div>"
      ],
      "text/plain": [
       "                   Asad         Adnan             Aly\n",
       "0  Range Rover Sportage   Honda Civic  Toyota Corolla\n",
       "1      Lamborghini Urus  Honda Accord    Toyota Camry\n",
       "2  Rolls Royce Cullinan   Honda Civic  Toyota Corolla"
      ]
     },
     "execution_count": 5,
     "metadata": {},
     "output_type": "execute_result"
    }
   ],
   "source": [
    "# Let's again have a look on a dataset\n",
    "df.head()"
   ]
  },
  {
   "cell_type": "code",
   "execution_count": 6,
   "id": "29d75631",
   "metadata": {},
   "outputs": [
    {
     "name": "stdout",
     "output_type": "stream",
     "text": [
      "Index(['Asad', 'Adnan', 'Aly'], dtype='object')\n",
      "----------------\n",
      "        Asad_Dream_Cars Adnan_Dream_Cars  Aly_Dream_Cars\n",
      "0  Range Rover Sportage      Honda Civic  Toyota Corolla\n",
      "1      Lamborghini Urus     Honda Accord    Toyota Camry\n",
      "2  Rolls Royce Cullinan      Honda Civic  Toyota Corolla\n",
      "Index(['Asad_Dream_Cars', 'Adnan_Dream_Cars', 'Aly_Dream_Cars'], dtype='object')\n"
     ]
    }
   ],
   "source": [
    "# Current name of columns\n",
    "print(df.columns)\n",
    "print(\"----------------\")\n",
    "# Rename the columns of the DataFrame\n",
    "df.rename(columns={\"Asad\":\"Asad_Dream_Cars\",\"Adnan\":\"Adnan_Dream_Cars\",\"Aly\":\"Aly_Dream_Cars\"}, inplace=True)\n",
    "print(df.head())\n",
    "# Let's recheck the columns names\n",
    "print(df.columns)\n"
   ]
  },
  {
   "cell_type": "markdown",
   "id": "4dfa16a8",
   "metadata": {},
   "source": [
    "# How to use Template Data"
   ]
  },
  {
   "cell_type": "code",
   "execution_count": 7,
   "id": "d74ca277",
   "metadata": {},
   "outputs": [],
   "source": [
    "# Setting to display all rows\n",
    "pd.set_option('display.max_rows', None)"
   ]
  },
  {
   "cell_type": "code",
   "execution_count": 8,
   "id": "a52b482d",
   "metadata": {},
   "outputs": [
    {
     "name": "stdout",
     "output_type": "stream",
     "text": [
      "Titanic Dataset\n",
      "   survived  pclass     sex   age  sibsp  parch     fare embarked  class  \\\n",
      "0         0       3    male  22.0      1      0   7.2500        S  Third   \n",
      "1         1       1  female  38.0      1      0  71.2833        C  First   \n",
      "2         1       3  female  26.0      0      0   7.9250        S  Third   \n",
      "3         1       1  female  35.0      1      0  53.1000        S  First   \n",
      "4         0       3    male  35.0      0      0   8.0500        S  Third   \n",
      "\n",
      "     who  adult_male deck  embark_town alive  alone  \n",
      "0    man        True  NaN  Southampton    no  False  \n",
      "1  woman       False    C    Cherbourg   yes  False  \n",
      "2  woman       False  NaN  Southampton   yes   True  \n",
      "3  woman       False    C  Southampton   yes  False  \n",
      "4    man        True  NaN  Southampton    no   True  \n",
      "---------------------------\n",
      "Iris Dataset\n",
      "     sepal_length  sepal_width  petal_length  petal_width    species\n",
      "145           6.7          3.0           5.2          2.3  virginica\n",
      "146           6.3          2.5           5.0          1.9  virginica\n",
      "147           6.5          3.0           5.2          2.0  virginica\n",
      "148           6.2          3.4           5.4          2.3  virginica\n",
      "149           5.9          3.0           5.1          1.8  virginica\n",
      "-------------------------\n",
      "       sepal_length  sepal_width  petal_length  petal_width\n",
      "count    150.000000   150.000000    150.000000   150.000000\n",
      "mean       5.843333     3.057333      3.758000     1.199333\n",
      "std        0.828066     0.435866      1.765298     0.762238\n",
      "min        4.300000     2.000000      1.000000     0.100000\n",
      "25%        5.100000     2.800000      1.600000     0.300000\n",
      "50%        5.800000     3.000000      4.350000     1.300000\n",
      "75%        6.400000     3.300000      5.100000     1.800000\n",
      "max        7.900000     4.400000      6.900000     2.500000\n",
      "-------------------------\n",
      "Index(['sepal_length', 'sepal_width', 'petal_length', 'petal_width',\n",
      "       'species'],\n",
      "      dtype='object')\n",
      "-------------------------\n"
     ]
    }
   ],
   "source": [
    "# Load a Titanic dataset using seaborn\n",
    "df = sns.load_dataset('titanic')\n",
    "df.to_csv('titanic.csv', index=False)\n",
    "# Let's have a look on the top 5 rows of titanic dataset\n",
    "print(\"Titanic Dataset\")\n",
    "print(df.head(5))\n",
    "print(\"---------------------------\")\n",
    "# Again load the Iris dataset using seaborn\n",
    "print(\"Iris Dataset\")\n",
    "df = sns.load_dataset(\"iris\")\n",
    "df.to_csv('iris.csv', index=False)\n",
    "# Let's have a look on the last 5 rows of Iris Dataset\n",
    "print(df.tail(5))\n",
    "print(\"-------------------------\")\n",
    "# Let's get the statistical summary of the Iris Dataset\n",
    "print(df.describe())\n",
    "print(\"-------------------------\")\n",
    "# Let's get the name of columns of the Iris dataset\n",
    "print(df.columns)\n",
    "print(\"-------------------------\")\n",
    "# Let's save the Iris dataset to a CSV file\n",
    "df.to_csv(\"Iris.csv\")\n",
    "# Let's save the Iris dataset to an Excel file\n",
    "df.to_excel(\"Iris.xlsx\")\n",
    "# Let's read the Iris dataset from a CSV file\n",
    "df = pd.read_csv(\"Iris.csv\")\n",
    "\n"
   ]
  },
  {
   "cell_type": "markdown",
   "id": "007a66e6",
   "metadata": {},
   "source": [
    "# Reverse Row Order"
   ]
  },
  {
   "cell_type": "code",
   "execution_count": 9,
   "id": "837a7d44",
   "metadata": {},
   "outputs": [
    {
     "name": "stdout",
     "output_type": "stream",
     "text": [
      "   survived  pclass     sex   age  sibsp  parch     fare embarked  class  \\\n",
      "0         0       3    male  22.0      1      0   7.2500        S  Third   \n",
      "1         1       1  female  38.0      1      0  71.2833        C  First   \n",
      "2         1       3  female  26.0      0      0   7.9250        S  Third   \n",
      "3         1       1  female  35.0      1      0  53.1000        S  First   \n",
      "4         0       3    male  35.0      0      0   8.0500        S  Third   \n",
      "\n",
      "     who  adult_male deck  embark_town alive  alone  \n",
      "0    man        True  NaN  Southampton    no  False  \n",
      "1  woman       False    C    Cherbourg   yes  False  \n",
      "2  woman       False  NaN  Southampton   yes   True  \n",
      "3  woman       False    C  Southampton   yes  False  \n",
      "4    man        True  NaN  Southampton    no   True  \n"
     ]
    }
   ],
   "source": [
    "df = sns.load_dataset(\"titanic\")\n",
    "print(df.head())"
   ]
  },
  {
   "cell_type": "code",
   "execution_count": 10,
   "id": "f4a23f0e",
   "metadata": {},
   "outputs": [
    {
     "name": "stdout",
     "output_type": "stream",
     "text": [
      "     survived  pclass     sex   age  sibsp  parch   fare embarked   class  \\\n",
      "890         0       3    male  32.0      0      0   7.75        Q   Third   \n",
      "889         1       1    male  26.0      0      0  30.00        C   First   \n",
      "888         0       3  female   NaN      1      2  23.45        S   Third   \n",
      "887         1       1  female  19.0      0      0  30.00        S   First   \n",
      "886         0       2    male  27.0      0      0  13.00        S  Second   \n",
      "\n",
      "       who  adult_male deck  embark_town alive  alone  \n",
      "890    man        True  NaN   Queenstown    no   True  \n",
      "889    man        True    C    Cherbourg   yes   True  \n",
      "888  woman       False  NaN  Southampton    no  False  \n",
      "887  woman       False    B  Southampton   yes   True  \n",
      "886    man        True  NaN  Southampton    no   True  \n"
     ]
    }
   ],
   "source": [
    "# Row reverse order\n",
    "df = df.loc[::-1]\n",
    "print(df.head())"
   ]
  },
  {
   "cell_type": "code",
   "execution_count": 11,
   "id": "e1747134",
   "metadata": {},
   "outputs": [
    {
     "name": "stdout",
     "output_type": "stream",
     "text": [
      "   survived  pclass     sex   age  sibsp  parch     fare embarked  class  \\\n",
      "0         0       3    male  22.0      1      0   7.2500        S  Third   \n",
      "1         1       1  female  38.0      1      0  71.2833        C  First   \n",
      "2         1       3  female  26.0      0      0   7.9250        S  Third   \n",
      "3         1       1  female  35.0      1      0  53.1000        S  First   \n",
      "4         0       3    male  35.0      0      0   8.0500        S  Third   \n",
      "\n",
      "     who  adult_male deck  embark_town alive  alone  \n",
      "0    man        True  NaN  Southampton    no  False  \n",
      "1  woman       False    C    Cherbourg   yes  False  \n",
      "2  woman       False  NaN  Southampton   yes   True  \n",
      "3  woman       False    C  Southampton   yes  False  \n",
      "4    man        True  NaN  Southampton    no   True  \n"
     ]
    }
   ],
   "source": [
    "# Reset index of rows in to its original order\n",
    "df = df.loc[::-1].reset_index(drop=True)\n",
    "print(df.head())"
   ]
  },
  {
   "cell_type": "code",
   "execution_count": 12,
   "id": "437f23d9",
   "metadata": {},
   "outputs": [
    {
     "name": "stdout",
     "output_type": "stream",
     "text": [
      "   alone alive  embark_town deck  adult_male    who  class embarked     fare  \\\n",
      "0  False    no  Southampton  NaN        True    man  Third        S   7.2500   \n",
      "1  False   yes    Cherbourg    C       False  woman  First        C  71.2833   \n",
      "2   True   yes  Southampton  NaN       False  woman  Third        S   7.9250   \n",
      "3  False   yes  Southampton    C       False  woman  First        S  53.1000   \n",
      "4   True    no  Southampton  NaN        True    man  Third        S   8.0500   \n",
      "\n",
      "   parch  sibsp   age     sex  pclass  survived  \n",
      "0      0      1  22.0    male       3         0  \n",
      "1      0      1  38.0  female       1         1  \n",
      "2      0      0  26.0  female       3         1  \n",
      "3      0      1  35.0  female       1         1  \n",
      "4      0      0  35.0    male       3         0  \n"
     ]
    }
   ],
   "source": [
    "# Let's reverse the order of columns\n",
    "df = sns.load_dataset(\"titanic\")  # Ensure df is a DataFrame\n",
    "df = df[df.columns[::-1]]\n",
    "print(df.head())"
   ]
  },
  {
   "cell_type": "markdown",
   "id": "91f9702b",
   "metadata": {},
   "source": [
    "# Select columns from dataset on the base of datatype"
   ]
  },
  {
   "cell_type": "code",
   "execution_count": 13,
   "id": "73af9db0",
   "metadata": {},
   "outputs": [
    {
     "data": {
      "application/vnd.microsoft.datawrangler.viewer.v0+json": {
       "columns": [
        {
         "name": "index",
         "rawType": "int64",
         "type": "integer"
        },
        {
         "name": "survived",
         "rawType": "int64",
         "type": "integer"
        },
        {
         "name": "pclass",
         "rawType": "int64",
         "type": "integer"
        },
        {
         "name": "sex",
         "rawType": "object",
         "type": "string"
        },
        {
         "name": "age",
         "rawType": "float64",
         "type": "float"
        },
        {
         "name": "sibsp",
         "rawType": "int64",
         "type": "integer"
        },
        {
         "name": "parch",
         "rawType": "int64",
         "type": "integer"
        },
        {
         "name": "fare",
         "rawType": "float64",
         "type": "float"
        },
        {
         "name": "embarked",
         "rawType": "object",
         "type": "string"
        },
        {
         "name": "class",
         "rawType": "category",
         "type": "unknown"
        },
        {
         "name": "who",
         "rawType": "object",
         "type": "string"
        },
        {
         "name": "adult_male",
         "rawType": "bool",
         "type": "boolean"
        },
        {
         "name": "deck",
         "rawType": "category",
         "type": "unknown"
        },
        {
         "name": "embark_town",
         "rawType": "object",
         "type": "string"
        },
        {
         "name": "alive",
         "rawType": "object",
         "type": "string"
        },
        {
         "name": "alone",
         "rawType": "bool",
         "type": "boolean"
        }
       ],
       "ref": "b356f83c-776c-4949-9bb0-4b1c1f40a38c",
       "rows": [
        [
         "0",
         "0",
         "3",
         "male",
         "22.0",
         "1",
         "0",
         "7.25",
         "S",
         "Third",
         "man",
         "True",
         null,
         "Southampton",
         "no",
         "False"
        ],
        [
         "1",
         "1",
         "1",
         "female",
         "38.0",
         "1",
         "0",
         "71.2833",
         "C",
         "First",
         "woman",
         "False",
         "C",
         "Cherbourg",
         "yes",
         "False"
        ],
        [
         "2",
         "1",
         "3",
         "female",
         "26.0",
         "0",
         "0",
         "7.925",
         "S",
         "Third",
         "woman",
         "False",
         null,
         "Southampton",
         "yes",
         "True"
        ],
        [
         "3",
         "1",
         "1",
         "female",
         "35.0",
         "1",
         "0",
         "53.1",
         "S",
         "First",
         "woman",
         "False",
         "C",
         "Southampton",
         "yes",
         "False"
        ],
        [
         "4",
         "0",
         "3",
         "male",
         "35.0",
         "0",
         "0",
         "8.05",
         "S",
         "Third",
         "man",
         "True",
         null,
         "Southampton",
         "no",
         "True"
        ]
       ],
       "shape": {
        "columns": 15,
        "rows": 5
       }
      },
      "text/html": [
       "<div>\n",
       "<style scoped>\n",
       "    .dataframe tbody tr th:only-of-type {\n",
       "        vertical-align: middle;\n",
       "    }\n",
       "\n",
       "    .dataframe tbody tr th {\n",
       "        vertical-align: top;\n",
       "    }\n",
       "\n",
       "    .dataframe thead th {\n",
       "        text-align: right;\n",
       "    }\n",
       "</style>\n",
       "<table border=\"1\" class=\"dataframe\">\n",
       "  <thead>\n",
       "    <tr style=\"text-align: right;\">\n",
       "      <th></th>\n",
       "      <th>survived</th>\n",
       "      <th>pclass</th>\n",
       "      <th>sex</th>\n",
       "      <th>age</th>\n",
       "      <th>sibsp</th>\n",
       "      <th>parch</th>\n",
       "      <th>fare</th>\n",
       "      <th>embarked</th>\n",
       "      <th>class</th>\n",
       "      <th>who</th>\n",
       "      <th>adult_male</th>\n",
       "      <th>deck</th>\n",
       "      <th>embark_town</th>\n",
       "      <th>alive</th>\n",
       "      <th>alone</th>\n",
       "    </tr>\n",
       "  </thead>\n",
       "  <tbody>\n",
       "    <tr>\n",
       "      <th>0</th>\n",
       "      <td>0</td>\n",
       "      <td>3</td>\n",
       "      <td>male</td>\n",
       "      <td>22.0</td>\n",
       "      <td>1</td>\n",
       "      <td>0</td>\n",
       "      <td>7.2500</td>\n",
       "      <td>S</td>\n",
       "      <td>Third</td>\n",
       "      <td>man</td>\n",
       "      <td>True</td>\n",
       "      <td>NaN</td>\n",
       "      <td>Southampton</td>\n",
       "      <td>no</td>\n",
       "      <td>False</td>\n",
       "    </tr>\n",
       "    <tr>\n",
       "      <th>1</th>\n",
       "      <td>1</td>\n",
       "      <td>1</td>\n",
       "      <td>female</td>\n",
       "      <td>38.0</td>\n",
       "      <td>1</td>\n",
       "      <td>0</td>\n",
       "      <td>71.2833</td>\n",
       "      <td>C</td>\n",
       "      <td>First</td>\n",
       "      <td>woman</td>\n",
       "      <td>False</td>\n",
       "      <td>C</td>\n",
       "      <td>Cherbourg</td>\n",
       "      <td>yes</td>\n",
       "      <td>False</td>\n",
       "    </tr>\n",
       "    <tr>\n",
       "      <th>2</th>\n",
       "      <td>1</td>\n",
       "      <td>3</td>\n",
       "      <td>female</td>\n",
       "      <td>26.0</td>\n",
       "      <td>0</td>\n",
       "      <td>0</td>\n",
       "      <td>7.9250</td>\n",
       "      <td>S</td>\n",
       "      <td>Third</td>\n",
       "      <td>woman</td>\n",
       "      <td>False</td>\n",
       "      <td>NaN</td>\n",
       "      <td>Southampton</td>\n",
       "      <td>yes</td>\n",
       "      <td>True</td>\n",
       "    </tr>\n",
       "    <tr>\n",
       "      <th>3</th>\n",
       "      <td>1</td>\n",
       "      <td>1</td>\n",
       "      <td>female</td>\n",
       "      <td>35.0</td>\n",
       "      <td>1</td>\n",
       "      <td>0</td>\n",
       "      <td>53.1000</td>\n",
       "      <td>S</td>\n",
       "      <td>First</td>\n",
       "      <td>woman</td>\n",
       "      <td>False</td>\n",
       "      <td>C</td>\n",
       "      <td>Southampton</td>\n",
       "      <td>yes</td>\n",
       "      <td>False</td>\n",
       "    </tr>\n",
       "    <tr>\n",
       "      <th>4</th>\n",
       "      <td>0</td>\n",
       "      <td>3</td>\n",
       "      <td>male</td>\n",
       "      <td>35.0</td>\n",
       "      <td>0</td>\n",
       "      <td>0</td>\n",
       "      <td>8.0500</td>\n",
       "      <td>S</td>\n",
       "      <td>Third</td>\n",
       "      <td>man</td>\n",
       "      <td>True</td>\n",
       "      <td>NaN</td>\n",
       "      <td>Southampton</td>\n",
       "      <td>no</td>\n",
       "      <td>True</td>\n",
       "    </tr>\n",
       "  </tbody>\n",
       "</table>\n",
       "</div>"
      ],
      "text/plain": [
       "   survived  pclass     sex   age  sibsp  parch     fare embarked  class  \\\n",
       "0         0       3    male  22.0      1      0   7.2500        S  Third   \n",
       "1         1       1  female  38.0      1      0  71.2833        C  First   \n",
       "2         1       3  female  26.0      0      0   7.9250        S  Third   \n",
       "3         1       1  female  35.0      1      0  53.1000        S  First   \n",
       "4         0       3    male  35.0      0      0   8.0500        S  Third   \n",
       "\n",
       "     who  adult_male deck  embark_town alive  alone  \n",
       "0    man        True  NaN  Southampton    no  False  \n",
       "1  woman       False    C    Cherbourg   yes  False  \n",
       "2  woman       False  NaN  Southampton   yes   True  \n",
       "3  woman       False    C  Southampton   yes  False  \n",
       "4    man        True  NaN  Southampton    no   True  "
      ]
     },
     "execution_count": 13,
     "metadata": {},
     "output_type": "execute_result"
    }
   ],
   "source": [
    "df = sns.load_dataset(\"titanic\")\n",
    "df.head()"
   ]
  },
  {
   "cell_type": "code",
   "execution_count": 14,
   "id": "634cab78",
   "metadata": {},
   "outputs": [
    {
     "data": {
      "text/plain": [
       "Index(['survived', 'pclass', 'age', 'sibsp', 'parch', 'fare'], dtype='object')"
      ]
     },
     "execution_count": 14,
     "metadata": {},
     "output_type": "execute_result"
    }
   ],
   "source": [
    "# Selecting specific columns that is numeric\n",
    "df = df.select_dtypes(include=[\"number\"])\n",
    "df.columns"
   ]
  },
  {
   "cell_type": "code",
   "execution_count": 15,
   "id": "89f68e07",
   "metadata": {},
   "outputs": [
    {
     "data": {
      "text/plain": [
       "Index(['sex', 'embarked', 'who', 'embark_town', 'alive'], dtype='object')"
      ]
     },
     "execution_count": 15,
     "metadata": {},
     "output_type": "execute_result"
    }
   ],
   "source": [
    "# Selecting specific columns that is object\n",
    "df = sns.load_dataset(\"titanic\")  # Ensure df is a DataFrame\n",
    "df = df.select_dtypes(include=[\"object\"])\n",
    "df.columns"
   ]
  },
  {
   "cell_type": "code",
   "execution_count": 16,
   "id": "b8cae6c3",
   "metadata": {},
   "outputs": [
    {
     "data": {
      "text/plain": [
       "Index(['class', 'adult_male', 'deck', 'alone'], dtype='object')"
      ]
     },
     "execution_count": 16,
     "metadata": {},
     "output_type": "execute_result"
    }
   ],
   "source": [
    "# Selecting specific columns that are neither a number nor an object\n",
    "df = sns.load_dataset(\"titanic\")  # Ensure df is a DataFrame\n",
    "df = df.select_dtypes(exclude=[\"number\",\"object\"])\n",
    "df.columns"
   ]
  },
  {
   "cell_type": "code",
   "execution_count": 17,
   "id": "44a34530",
   "metadata": {},
   "outputs": [
    {
     "data": {
      "text/plain": [
       "Index(['adult_male', 'alone'], dtype='object')"
      ]
     },
     "execution_count": 17,
     "metadata": {},
     "output_type": "execute_result"
    }
   ],
   "source": [
    "# Selecting specific columns that is boolean\n",
    "df = sns.load_dataset(\"titanic\")\n",
    "df = df.select_dtypes(include=[\"bool\"])\n",
    "df.columns"
   ]
  },
  {
   "cell_type": "markdown",
   "id": "77759b3c",
   "metadata": {},
   "source": [
    "# Convert string into numbers"
   ]
  },
  {
   "cell_type": "code",
   "execution_count": 18,
   "id": "6461c4f6",
   "metadata": {},
   "outputs": [
    {
     "data": {
      "application/vnd.microsoft.datawrangler.viewer.v0+json": {
       "columns": [
        {
         "name": "index",
         "rawType": "int64",
         "type": "integer"
        },
        {
         "name": "Col_A",
         "rawType": "int64",
         "type": "integer"
        },
        {
         "name": "Col_B",
         "rawType": "object",
         "type": "string"
        }
       ],
       "ref": "8281c53d-c24d-4712-819e-6461a5895802",
       "rows": [
        [
         "0",
         "1",
         "6"
        ],
        [
         "1",
         "2",
         "7"
        ],
        [
         "2",
         "3",
         "8"
        ],
        [
         "3",
         "4",
         "9"
        ],
        [
         "4",
         "5",
         "10"
        ]
       ],
       "shape": {
        "columns": 2,
        "rows": 5
       }
      },
      "text/html": [
       "<div>\n",
       "<style scoped>\n",
       "    .dataframe tbody tr th:only-of-type {\n",
       "        vertical-align: middle;\n",
       "    }\n",
       "\n",
       "    .dataframe tbody tr th {\n",
       "        vertical-align: top;\n",
       "    }\n",
       "\n",
       "    .dataframe thead th {\n",
       "        text-align: right;\n",
       "    }\n",
       "</style>\n",
       "<table border=\"1\" class=\"dataframe\">\n",
       "  <thead>\n",
       "    <tr style=\"text-align: right;\">\n",
       "      <th></th>\n",
       "      <th>Col_A</th>\n",
       "      <th>Col_B</th>\n",
       "    </tr>\n",
       "  </thead>\n",
       "  <tbody>\n",
       "    <tr>\n",
       "      <th>0</th>\n",
       "      <td>1</td>\n",
       "      <td>6</td>\n",
       "    </tr>\n",
       "    <tr>\n",
       "      <th>1</th>\n",
       "      <td>2</td>\n",
       "      <td>7</td>\n",
       "    </tr>\n",
       "    <tr>\n",
       "      <th>2</th>\n",
       "      <td>3</td>\n",
       "      <td>8</td>\n",
       "    </tr>\n",
       "    <tr>\n",
       "      <th>3</th>\n",
       "      <td>4</td>\n",
       "      <td>9</td>\n",
       "    </tr>\n",
       "    <tr>\n",
       "      <th>4</th>\n",
       "      <td>5</td>\n",
       "      <td>10</td>\n",
       "    </tr>\n",
       "  </tbody>\n",
       "</table>\n",
       "</div>"
      ],
      "text/plain": [
       "   Col_A Col_B\n",
       "0      1     6\n",
       "1      2     7\n",
       "2      3     8\n",
       "3      4     9\n",
       "4      5    10"
      ]
     },
     "execution_count": 18,
     "metadata": {},
     "output_type": "execute_result"
    }
   ],
   "source": [
    "df = pd.DataFrame({\"Col_A\": [1, 2, 3, 4, 5],\"Col_B\":[\"6\",\"7\",\"8\",\"9\",\"10\"]})\n",
    "df.head()"
   ]
  },
  {
   "cell_type": "code",
   "execution_count": 19,
   "id": "5833fc13",
   "metadata": {},
   "outputs": [
    {
     "data": {
      "application/vnd.microsoft.datawrangler.viewer.v0+json": {
       "columns": [
        {
         "name": "index",
         "rawType": "object",
         "type": "string"
        },
        {
         "name": "0",
         "rawType": "object",
         "type": "unknown"
        }
       ],
       "ref": "3975c635-ce9e-46c2-b0d3-b41b8959e75f",
       "rows": [
        [
         "Col_A",
         "int64"
        ],
        [
         "Col_B",
         "object"
        ]
       ],
       "shape": {
        "columns": 1,
        "rows": 2
       }
      },
      "text/plain": [
       "Col_A     int64\n",
       "Col_B    object\n",
       "dtype: object"
      ]
     },
     "execution_count": 19,
     "metadata": {},
     "output_type": "execute_result"
    }
   ],
   "source": [
    "# Check the data types of the columns\n",
    "df.dtypes"
   ]
  },
  {
   "cell_type": "code",
   "execution_count": 20,
   "id": "4b37b28b",
   "metadata": {},
   "outputs": [
    {
     "name": "stdout",
     "output_type": "stream",
     "text": [
      "Col_A    object\n",
      "Col_B     int64\n",
      "dtype: object\n"
     ]
    }
   ],
   "source": [
    "# To Convert the data type of a column to numeric\n",
    "df[\"Col_B\"] = pd.to_numeric(df[\"Col_B\"])\n",
    "# Convert the 'Col_A' column from numeric to object (string) type\n",
    "df[\"Col_A\"] = df[\"Col_A\"].astype(\"object\")\n",
    "# Check the data types of the columns after conversion\n",
    "print(df.dtypes)"
   ]
  },
  {
   "cell_type": "markdown",
   "id": "e8ea9120",
   "metadata": {},
   "source": [
    "# How to check Dataset Shape and Dimensions"
   ]
  },
  {
   "cell_type": "code",
   "execution_count": 21,
   "id": "9fe35916",
   "metadata": {},
   "outputs": [
    {
     "name": "stdout",
     "output_type": "stream",
     "text": [
      "Shape of the DataFrame: (891, 15)\n",
      "Information about the DataFrame:\n",
      "<class 'pandas.core.frame.DataFrame'>\n",
      "RangeIndex: 891 entries, 0 to 890\n",
      "Data columns (total 15 columns):\n",
      " #   Column       Non-Null Count  Dtype   \n",
      "---  ------       --------------  -----   \n",
      " 0   survived     891 non-null    int64   \n",
      " 1   pclass       891 non-null    int64   \n",
      " 2   sex          891 non-null    object  \n",
      " 3   age          714 non-null    float64 \n",
      " 4   sibsp        891 non-null    int64   \n",
      " 5   parch        891 non-null    int64   \n",
      " 6   fare         891 non-null    float64 \n",
      " 7   embarked     889 non-null    object  \n",
      " 8   class        891 non-null    category\n",
      " 9   who          891 non-null    object  \n",
      " 10  adult_male   891 non-null    bool    \n",
      " 11  deck         203 non-null    category\n",
      " 12  embark_town  889 non-null    object  \n",
      " 13  alive        891 non-null    object  \n",
      " 14  alone        891 non-null    bool    \n",
      "dtypes: bool(2), category(2), float64(2), int64(4), object(5)\n",
      "memory usage: 80.7+ KB\n",
      "Number of rows: 891\n",
      "Number of columns: 15\n"
     ]
    }
   ],
   "source": [
    "df = sns.load_dataset(\"titanic\")\n",
    "# To check the shape of the DataFrame\n",
    "print(\"Shape of the DataFrame:\", df.shape)\n",
    "# To get the information about the DataFrame\n",
    "print(\"Information about the DataFrame:\")\n",
    "df.info()\n",
    "# To get the number of rows and columns in the DataFrame    \n",
    "print(\"Number of rows:\", df.shape[0])\n",
    "print(\"Number of columns:\", df.shape[1])"
   ]
  },
  {
   "cell_type": "markdown",
   "id": "7677e49d",
   "metadata": {},
   "source": [
    "# How to copy data on a clipboard in python"
   ]
  },
  {
   "cell_type": "code",
   "execution_count": 22,
   "id": "167b8d17",
   "metadata": {},
   "outputs": [
    {
     "name": "stdout",
     "output_type": "stream",
     "text": [
      "      Name  Age\n",
      "0    Alice   25\n",
      "1      Bob   30\n",
      "2  Charlie   35\n"
     ]
    }
   ],
   "source": [
    "\n",
    "\n",
    "# Create a sample DataFrame\n",
    "df = pd.DataFrame({\n",
    "    \"Name\": [\"Alice\", \"Bob\", \"Charlie\"],\n",
    "    \"Age\": [25, 30, 35]\n",
    "})\n",
    "\n",
    "# Copy DataFrame to clipboard\n",
    "df.to_clipboard(index=False)\n",
    "\n",
    "# Now, you can paste this data into Excel or Notepad.\n",
    "# To read data from clipboard back into a DataFrame:\n",
    "df_from_clipboard = pd.read_clipboard()\n",
    "print(df_from_clipboard)"
   ]
  },
  {
   "cell_type": "markdown",
   "id": "f42d53db",
   "metadata": {},
   "source": [
    "# Split Dataset into Two Subset"
   ]
  },
  {
   "cell_type": "code",
   "execution_count": 23,
   "id": "4219975a",
   "metadata": {},
   "outputs": [
    {
     "name": "stdout",
     "output_type": "stream",
     "text": [
      "   survived  pclass     sex   age  sibsp  parch     fare embarked  class  \\\n",
      "0         0       3    male  22.0      1      0   7.2500        S  Third   \n",
      "1         1       1  female  38.0      1      0  71.2833        C  First   \n",
      "2         1       3  female  26.0      0      0   7.9250        S  Third   \n",
      "3         1       1  female  35.0      1      0  53.1000        S  First   \n",
      "4         0       3    male  35.0      0      0   8.0500        S  Third   \n",
      "\n",
      "     who  adult_male deck  embark_town alive  alone  \n",
      "0    man        True  NaN  Southampton    no  False  \n",
      "1  woman       False    C    Cherbourg   yes  False  \n",
      "2  woman       False  NaN  Southampton   yes   True  \n",
      "3  woman       False    C  Southampton   yes  False  \n",
      "4    man        True  NaN  Southampton    no   True  \n",
      "Shape of the DataFrame: (891, 15)\n"
     ]
    }
   ],
   "source": [
    "df = sns.load_dataset(\"titanic\")\n",
    "# Display the first few rows of the DataFrame\n",
    "print(df.head())\n",
    "# Shape of DataFrame\n",
    "print(\"Shape of the DataFrame:\", df.shape)"
   ]
  },
  {
   "cell_type": "code",
   "execution_count": 24,
   "id": "5f615933",
   "metadata": {},
   "outputs": [
    {
     "name": "stdout",
     "output_type": "stream",
     "text": [
      "First Half of DataFrame:\n",
      "(446, 15)\n",
      "     survived  pclass     sex   age  sibsp  parch     fare embarked   class  \\\n",
      "862         1       1  female  48.0      0      0  25.9292        S   First   \n",
      "223         0       3    male   NaN      0      0   7.8958        S   Third   \n",
      "84          1       2  female  17.0      0      0  10.5000        S  Second   \n",
      "680         0       3  female   NaN      0      0   8.1375        Q   Third   \n",
      "535         1       2  female   7.0      0      2  26.2500        S  Second   \n",
      "\n",
      "       who  adult_male deck  embark_town alive  alone  \n",
      "862  woman       False    D  Southampton   yes   True  \n",
      "223    man        True  NaN  Southampton    no   True  \n",
      "84   woman       False  NaN  Southampton   yes   True  \n",
      "680  woman       False  NaN   Queenstown    no   True  \n",
      "535  child       False  NaN  Southampton   yes  False  \n",
      "Second Half of DataFrame:\n",
      "(445, 15)\n",
      "    survived  pclass     sex   age  sibsp  parch     fare embarked   class  \\\n",
      "1          1       1  female  38.0      1      0  71.2833        C   First   \n",
      "7          0       3    male   2.0      3      1  21.0750        S   Third   \n",
      "10         1       3  female   4.0      1      1  16.7000        S   Third   \n",
      "15         1       2  female  55.0      0      0  16.0000        S  Second   \n",
      "18         0       3  female  31.0      1      0  18.0000        S   Third   \n",
      "\n",
      "      who  adult_male deck  embark_town alive  alone  \n",
      "1   woman       False    C    Cherbourg   yes  False  \n",
      "7   child       False  NaN  Southampton    no  False  \n",
      "10  child       False    G  Southampton   yes  False  \n",
      "15  woman       False  NaN  Southampton   yes   True  \n",
      "18  woman       False  NaN  Southampton    no  False  \n"
     ]
    }
   ],
   "source": [
    "# Splitting DataFrame into two halves\n",
    "from random import random\n",
    "df1 = df.sample(frac=0.5, random_state=1)  # First half\n",
    "df2 = df.drop(df1.index)  # Second half\n",
    "# Display the first few rows of each half\n",
    "print(\"First Half of DataFrame:\")\n",
    "print(df1.shape)\n",
    "print(df1.head())\n",
    "\n",
    "print(\"Second Half of DataFrame:\")\n",
    "print(df2.shape)\n",
    "print(df2.head())\n",
    "\n"
   ]
  },
  {
   "cell_type": "markdown",
   "id": "f3997338",
   "metadata": {},
   "source": [
    "# Joining Two Datasets\n"
   ]
  },
  {
   "cell_type": "code",
   "execution_count": 25,
   "id": "30979337",
   "metadata": {},
   "outputs": [
    {
     "name": "stdout",
     "output_type": "stream",
     "text": [
      "Concatenated DataFrame Shape: (891, 15)\n",
      "Concatenated DataFrame:    survived  pclass     sex   age  sibsp  parch     fare embarked   class  \\\n",
      "0         1       1  female  48.0      0      0  25.9292        S   First   \n",
      "1         0       3    male   NaN      0      0   7.8958        S   Third   \n",
      "2         1       2  female  17.0      0      0  10.5000        S  Second   \n",
      "3         0       3  female   NaN      0      0   8.1375        Q   Third   \n",
      "4         1       2  female   7.0      0      2  26.2500        S  Second   \n",
      "\n",
      "     who  adult_male deck  embark_town alive  alone  \n",
      "0  woman       False    D  Southampton   yes   True  \n",
      "1    man        True  NaN  Southampton    no   True  \n",
      "2  woman       False  NaN  Southampton   yes   True  \n",
      "3  woman       False  NaN   Queenstown    no   True  \n",
      "4  child       False  NaN  Southampton   yes  False  \n"
     ]
    }
   ],
   "source": [
    "dff = pd.concat([df1, df2], ignore_index=True)  # Concatenate the two halves\n",
    "# Display the shape of the concatenated DataFrame\n",
    "print(\"Concatenated DataFrame Shape:\", dff.shape)\n",
    "# Display the first few rows of the concatenated DataFrame\n",
    "print(\"Concatenated DataFrame:\", dff.head())"
   ]
  },
  {
   "cell_type": "markdown",
   "id": "11c79b74",
   "metadata": {},
   "source": [
    "# Filtering in a Dataset"
   ]
  },
  {
   "cell_type": "code",
   "execution_count": 26,
   "id": "6cb5685e",
   "metadata": {},
   "outputs": [
    {
     "name": "stdout",
     "output_type": "stream",
     "text": [
      "   survived  pclass     sex   age  sibsp  parch     fare embarked  class  \\\n",
      "0         0       3    male  22.0      1      0   7.2500        S  Third   \n",
      "1         1       1  female  38.0      1      0  71.2833        C  First   \n",
      "2         1       3  female  26.0      0      0   7.9250        S  Third   \n",
      "3         1       1  female  35.0      1      0  53.1000        S  First   \n",
      "4         0       3    male  35.0      0      0   8.0500        S  Third   \n",
      "\n",
      "     who  adult_male deck  embark_town alive  alone  \n",
      "0    man        True  NaN  Southampton    no  False  \n",
      "1  woman       False    C    Cherbourg   yes  False  \n",
      "2  woman       False  NaN  Southampton   yes   True  \n",
      "3  woman       False    C  Southampton   yes  False  \n",
      "4    man        True  NaN  Southampton    no   True  \n"
     ]
    }
   ],
   "source": [
    "df = sns.load_dataset(\"titanic\")\n",
    "print(df.head())"
   ]
  },
  {
   "cell_type": "code",
   "execution_count": 27,
   "id": "bf386cdf",
   "metadata": {},
   "outputs": [
    {
     "data": {
      "text/plain": [
       "array(['male', 'female'], dtype=object)"
      ]
     },
     "execution_count": 27,
     "metadata": {},
     "output_type": "execute_result"
    }
   ],
   "source": [
    "# To check unique values in a sex column\n",
    "df[\"sex\"].unique()"
   ]
  },
  {
   "cell_type": "code",
   "execution_count": 28,
   "id": "03fef0cc",
   "metadata": {},
   "outputs": [
    {
     "name": "stdout",
     "output_type": "stream",
     "text": [
      "   survived  pclass   sex   age  sibsp  parch     fare embarked  class    who  \\\n",
      "0         0       3  male  22.0      1      0   7.2500        S  Third    man   \n",
      "4         0       3  male  35.0      0      0   8.0500        S  Third    man   \n",
      "5         0       3  male   NaN      0      0   8.4583        Q  Third    man   \n",
      "6         0       1  male  54.0      0      0  51.8625        S  First    man   \n",
      "7         0       3  male   2.0      3      1  21.0750        S  Third  child   \n",
      "\n",
      "   adult_male deck  embark_town alive  alone  \n",
      "0        True  NaN  Southampton    no  False  \n",
      "4        True  NaN  Southampton    no   True  \n",
      "5        True  NaN   Queenstown    no   True  \n",
      "6        True    E  Southampton    no   True  \n",
      "7       False  NaN  Southampton    no  False  \n"
     ]
    }
   ],
   "source": [
    "# Select only data of males\n",
    "df_males = df[df[\"sex\"] == \"male\"]\n",
    "print(df_males.head())"
   ]
  },
  {
   "cell_type": "code",
   "execution_count": 29,
   "id": "1af05e14",
   "metadata": {},
   "outputs": [
    {
     "data": {
      "application/vnd.microsoft.datawrangler.viewer.v0+json": {
       "columns": [
        {
         "name": "index",
         "rawType": "int64",
         "type": "integer"
        },
        {
         "name": "survived",
         "rawType": "int64",
         "type": "integer"
        },
        {
         "name": "pclass",
         "rawType": "int64",
         "type": "integer"
        },
        {
         "name": "sex",
         "rawType": "object",
         "type": "string"
        },
        {
         "name": "age",
         "rawType": "float64",
         "type": "float"
        },
        {
         "name": "sibsp",
         "rawType": "int64",
         "type": "integer"
        },
        {
         "name": "parch",
         "rawType": "int64",
         "type": "integer"
        },
        {
         "name": "fare",
         "rawType": "float64",
         "type": "float"
        },
        {
         "name": "embarked",
         "rawType": "object",
         "type": "string"
        },
        {
         "name": "class",
         "rawType": "category",
         "type": "unknown"
        },
        {
         "name": "who",
         "rawType": "object",
         "type": "string"
        },
        {
         "name": "adult_male",
         "rawType": "bool",
         "type": "boolean"
        },
        {
         "name": "deck",
         "rawType": "category",
         "type": "unknown"
        },
        {
         "name": "embark_town",
         "rawType": "object",
         "type": "string"
        },
        {
         "name": "alive",
         "rawType": "object",
         "type": "string"
        },
        {
         "name": "alone",
         "rawType": "bool",
         "type": "boolean"
        }
       ],
       "ref": "c47e5684-1606-4ab9-b106-7e17687ddcf7",
       "rows": [
        [
         "0",
         "0",
         "3",
         "male",
         "22.0",
         "1",
         "0",
         "7.25",
         "S",
         "Third",
         "man",
         "True",
         null,
         "Southampton",
         "no",
         "False"
        ],
        [
         "2",
         "1",
         "3",
         "female",
         "26.0",
         "0",
         "0",
         "7.925",
         "S",
         "Third",
         "woman",
         "False",
         null,
         "Southampton",
         "yes",
         "True"
        ],
        [
         "3",
         "1",
         "1",
         "female",
         "35.0",
         "1",
         "0",
         "53.1",
         "S",
         "First",
         "woman",
         "False",
         "C",
         "Southampton",
         "yes",
         "False"
        ],
        [
         "4",
         "0",
         "3",
         "male",
         "35.0",
         "0",
         "0",
         "8.05",
         "S",
         "Third",
         "man",
         "True",
         null,
         "Southampton",
         "no",
         "True"
        ],
        [
         "6",
         "0",
         "1",
         "male",
         "54.0",
         "0",
         "0",
         "51.8625",
         "S",
         "First",
         "man",
         "True",
         "E",
         "Southampton",
         "no",
         "True"
        ]
       ],
       "shape": {
        "columns": 15,
        "rows": 5
       }
      },
      "text/html": [
       "<div>\n",
       "<style scoped>\n",
       "    .dataframe tbody tr th:only-of-type {\n",
       "        vertical-align: middle;\n",
       "    }\n",
       "\n",
       "    .dataframe tbody tr th {\n",
       "        vertical-align: top;\n",
       "    }\n",
       "\n",
       "    .dataframe thead th {\n",
       "        text-align: right;\n",
       "    }\n",
       "</style>\n",
       "<table border=\"1\" class=\"dataframe\">\n",
       "  <thead>\n",
       "    <tr style=\"text-align: right;\">\n",
       "      <th></th>\n",
       "      <th>survived</th>\n",
       "      <th>pclass</th>\n",
       "      <th>sex</th>\n",
       "      <th>age</th>\n",
       "      <th>sibsp</th>\n",
       "      <th>parch</th>\n",
       "      <th>fare</th>\n",
       "      <th>embarked</th>\n",
       "      <th>class</th>\n",
       "      <th>who</th>\n",
       "      <th>adult_male</th>\n",
       "      <th>deck</th>\n",
       "      <th>embark_town</th>\n",
       "      <th>alive</th>\n",
       "      <th>alone</th>\n",
       "    </tr>\n",
       "  </thead>\n",
       "  <tbody>\n",
       "    <tr>\n",
       "      <th>0</th>\n",
       "      <td>0</td>\n",
       "      <td>3</td>\n",
       "      <td>male</td>\n",
       "      <td>22.0</td>\n",
       "      <td>1</td>\n",
       "      <td>0</td>\n",
       "      <td>7.2500</td>\n",
       "      <td>S</td>\n",
       "      <td>Third</td>\n",
       "      <td>man</td>\n",
       "      <td>True</td>\n",
       "      <td>NaN</td>\n",
       "      <td>Southampton</td>\n",
       "      <td>no</td>\n",
       "      <td>False</td>\n",
       "    </tr>\n",
       "    <tr>\n",
       "      <th>2</th>\n",
       "      <td>1</td>\n",
       "      <td>3</td>\n",
       "      <td>female</td>\n",
       "      <td>26.0</td>\n",
       "      <td>0</td>\n",
       "      <td>0</td>\n",
       "      <td>7.9250</td>\n",
       "      <td>S</td>\n",
       "      <td>Third</td>\n",
       "      <td>woman</td>\n",
       "      <td>False</td>\n",
       "      <td>NaN</td>\n",
       "      <td>Southampton</td>\n",
       "      <td>yes</td>\n",
       "      <td>True</td>\n",
       "    </tr>\n",
       "    <tr>\n",
       "      <th>3</th>\n",
       "      <td>1</td>\n",
       "      <td>1</td>\n",
       "      <td>female</td>\n",
       "      <td>35.0</td>\n",
       "      <td>1</td>\n",
       "      <td>0</td>\n",
       "      <td>53.1000</td>\n",
       "      <td>S</td>\n",
       "      <td>First</td>\n",
       "      <td>woman</td>\n",
       "      <td>False</td>\n",
       "      <td>C</td>\n",
       "      <td>Southampton</td>\n",
       "      <td>yes</td>\n",
       "      <td>False</td>\n",
       "    </tr>\n",
       "    <tr>\n",
       "      <th>4</th>\n",
       "      <td>0</td>\n",
       "      <td>3</td>\n",
       "      <td>male</td>\n",
       "      <td>35.0</td>\n",
       "      <td>0</td>\n",
       "      <td>0</td>\n",
       "      <td>8.0500</td>\n",
       "      <td>S</td>\n",
       "      <td>Third</td>\n",
       "      <td>man</td>\n",
       "      <td>True</td>\n",
       "      <td>NaN</td>\n",
       "      <td>Southampton</td>\n",
       "      <td>no</td>\n",
       "      <td>True</td>\n",
       "    </tr>\n",
       "    <tr>\n",
       "      <th>6</th>\n",
       "      <td>0</td>\n",
       "      <td>1</td>\n",
       "      <td>male</td>\n",
       "      <td>54.0</td>\n",
       "      <td>0</td>\n",
       "      <td>0</td>\n",
       "      <td>51.8625</td>\n",
       "      <td>S</td>\n",
       "      <td>First</td>\n",
       "      <td>man</td>\n",
       "      <td>True</td>\n",
       "      <td>E</td>\n",
       "      <td>Southampton</td>\n",
       "      <td>no</td>\n",
       "      <td>True</td>\n",
       "    </tr>\n",
       "  </tbody>\n",
       "</table>\n",
       "</div>"
      ],
      "text/plain": [
       "   survived  pclass     sex   age  sibsp  parch     fare embarked  class  \\\n",
       "0         0       3    male  22.0      1      0   7.2500        S  Third   \n",
       "2         1       3  female  26.0      0      0   7.9250        S  Third   \n",
       "3         1       1  female  35.0      1      0  53.1000        S  First   \n",
       "4         0       3    male  35.0      0      0   8.0500        S  Third   \n",
       "6         0       1    male  54.0      0      0  51.8625        S  First   \n",
       "\n",
       "     who  adult_male deck  embark_town alive  alone  \n",
       "0    man        True  NaN  Southampton    no  False  \n",
       "2  woman       False  NaN  Southampton   yes   True  \n",
       "3  woman       False    C  Southampton   yes  False  \n",
       "4    man        True  NaN  Southampton    no   True  \n",
       "6    man        True    E  Southampton    no   True  "
      ]
     },
     "execution_count": 29,
     "metadata": {},
     "output_type": "execute_result"
    }
   ],
   "source": [
    "# Select the passengers who are from Southampton\n",
    "df[df[\"embark_town\"] == \"Southampton\"].head()"
   ]
  },
  {
   "cell_type": "code",
   "execution_count": 30,
   "id": "324f4a48",
   "metadata": {},
   "outputs": [
    {
     "data": {
      "application/vnd.microsoft.datawrangler.viewer.v0+json": {
       "columns": [
        {
         "name": "index",
         "rawType": "int64",
         "type": "integer"
        },
        {
         "name": "survived",
         "rawType": "int64",
         "type": "integer"
        },
        {
         "name": "pclass",
         "rawType": "int64",
         "type": "integer"
        },
        {
         "name": "sex",
         "rawType": "object",
         "type": "string"
        },
        {
         "name": "age",
         "rawType": "float64",
         "type": "float"
        },
        {
         "name": "sibsp",
         "rawType": "int64",
         "type": "integer"
        },
        {
         "name": "parch",
         "rawType": "int64",
         "type": "integer"
        },
        {
         "name": "fare",
         "rawType": "float64",
         "type": "float"
        },
        {
         "name": "embarked",
         "rawType": "object",
         "type": "string"
        },
        {
         "name": "class",
         "rawType": "category",
         "type": "unknown"
        },
        {
         "name": "who",
         "rawType": "object",
         "type": "string"
        },
        {
         "name": "adult_male",
         "rawType": "bool",
         "type": "boolean"
        },
        {
         "name": "deck",
         "rawType": "category",
         "type": "unknown"
        },
        {
         "name": "embark_town",
         "rawType": "object",
         "type": "string"
        },
        {
         "name": "alive",
         "rawType": "object",
         "type": "string"
        },
        {
         "name": "alone",
         "rawType": "bool",
         "type": "boolean"
        }
       ],
       "ref": "266b2cfa-73f2-460b-8b87-f32b94eb2662",
       "rows": [
        [
         "3",
         "1",
         "1",
         "female",
         "35.0",
         "1",
         "0",
         "53.1",
         "S",
         "First",
         "woman",
         "False",
         "C",
         "Southampton",
         "yes",
         "False"
        ],
        [
         "211",
         "1",
         "2",
         "female",
         "35.0",
         "0",
         "0",
         "21.0",
         "S",
         "Second",
         "woman",
         "False",
         null,
         "Southampton",
         "yes",
         "True"
        ],
        [
         "230",
         "1",
         "1",
         "female",
         "35.0",
         "1",
         "0",
         "83.475",
         "S",
         "First",
         "woman",
         "False",
         "C",
         "Southampton",
         "yes",
         "False"
        ],
        [
         "269",
         "1",
         "1",
         "female",
         "35.0",
         "0",
         "0",
         "135.6333",
         "S",
         "First",
         "woman",
         "False",
         "C",
         "Southampton",
         "yes",
         "True"
        ],
        [
         "279",
         "1",
         "3",
         "female",
         "35.0",
         "1",
         "1",
         "20.25",
         "S",
         "Third",
         "woman",
         "False",
         null,
         "Southampton",
         "yes",
         "False"
        ],
        [
         "383",
         "1",
         "1",
         "female",
         "35.0",
         "1",
         "0",
         "52.0",
         "S",
         "First",
         "woman",
         "False",
         null,
         "Southampton",
         "yes",
         "False"
        ],
        [
         "486",
         "1",
         "1",
         "female",
         "35.0",
         "1",
         "0",
         "90.0",
         "S",
         "First",
         "woman",
         "False",
         "C",
         "Southampton",
         "yes",
         "False"
        ]
       ],
       "shape": {
        "columns": 15,
        "rows": 7
       }
      },
      "text/html": [
       "<div>\n",
       "<style scoped>\n",
       "    .dataframe tbody tr th:only-of-type {\n",
       "        vertical-align: middle;\n",
       "    }\n",
       "\n",
       "    .dataframe tbody tr th {\n",
       "        vertical-align: top;\n",
       "    }\n",
       "\n",
       "    .dataframe thead th {\n",
       "        text-align: right;\n",
       "    }\n",
       "</style>\n",
       "<table border=\"1\" class=\"dataframe\">\n",
       "  <thead>\n",
       "    <tr style=\"text-align: right;\">\n",
       "      <th></th>\n",
       "      <th>survived</th>\n",
       "      <th>pclass</th>\n",
       "      <th>sex</th>\n",
       "      <th>age</th>\n",
       "      <th>sibsp</th>\n",
       "      <th>parch</th>\n",
       "      <th>fare</th>\n",
       "      <th>embarked</th>\n",
       "      <th>class</th>\n",
       "      <th>who</th>\n",
       "      <th>adult_male</th>\n",
       "      <th>deck</th>\n",
       "      <th>embark_town</th>\n",
       "      <th>alive</th>\n",
       "      <th>alone</th>\n",
       "    </tr>\n",
       "  </thead>\n",
       "  <tbody>\n",
       "    <tr>\n",
       "      <th>3</th>\n",
       "      <td>1</td>\n",
       "      <td>1</td>\n",
       "      <td>female</td>\n",
       "      <td>35.0</td>\n",
       "      <td>1</td>\n",
       "      <td>0</td>\n",
       "      <td>53.1000</td>\n",
       "      <td>S</td>\n",
       "      <td>First</td>\n",
       "      <td>woman</td>\n",
       "      <td>False</td>\n",
       "      <td>C</td>\n",
       "      <td>Southampton</td>\n",
       "      <td>yes</td>\n",
       "      <td>False</td>\n",
       "    </tr>\n",
       "    <tr>\n",
       "      <th>211</th>\n",
       "      <td>1</td>\n",
       "      <td>2</td>\n",
       "      <td>female</td>\n",
       "      <td>35.0</td>\n",
       "      <td>0</td>\n",
       "      <td>0</td>\n",
       "      <td>21.0000</td>\n",
       "      <td>S</td>\n",
       "      <td>Second</td>\n",
       "      <td>woman</td>\n",
       "      <td>False</td>\n",
       "      <td>NaN</td>\n",
       "      <td>Southampton</td>\n",
       "      <td>yes</td>\n",
       "      <td>True</td>\n",
       "    </tr>\n",
       "    <tr>\n",
       "      <th>230</th>\n",
       "      <td>1</td>\n",
       "      <td>1</td>\n",
       "      <td>female</td>\n",
       "      <td>35.0</td>\n",
       "      <td>1</td>\n",
       "      <td>0</td>\n",
       "      <td>83.4750</td>\n",
       "      <td>S</td>\n",
       "      <td>First</td>\n",
       "      <td>woman</td>\n",
       "      <td>False</td>\n",
       "      <td>C</td>\n",
       "      <td>Southampton</td>\n",
       "      <td>yes</td>\n",
       "      <td>False</td>\n",
       "    </tr>\n",
       "    <tr>\n",
       "      <th>269</th>\n",
       "      <td>1</td>\n",
       "      <td>1</td>\n",
       "      <td>female</td>\n",
       "      <td>35.0</td>\n",
       "      <td>0</td>\n",
       "      <td>0</td>\n",
       "      <td>135.6333</td>\n",
       "      <td>S</td>\n",
       "      <td>First</td>\n",
       "      <td>woman</td>\n",
       "      <td>False</td>\n",
       "      <td>C</td>\n",
       "      <td>Southampton</td>\n",
       "      <td>yes</td>\n",
       "      <td>True</td>\n",
       "    </tr>\n",
       "    <tr>\n",
       "      <th>279</th>\n",
       "      <td>1</td>\n",
       "      <td>3</td>\n",
       "      <td>female</td>\n",
       "      <td>35.0</td>\n",
       "      <td>1</td>\n",
       "      <td>1</td>\n",
       "      <td>20.2500</td>\n",
       "      <td>S</td>\n",
       "      <td>Third</td>\n",
       "      <td>woman</td>\n",
       "      <td>False</td>\n",
       "      <td>NaN</td>\n",
       "      <td>Southampton</td>\n",
       "      <td>yes</td>\n",
       "      <td>False</td>\n",
       "    </tr>\n",
       "    <tr>\n",
       "      <th>383</th>\n",
       "      <td>1</td>\n",
       "      <td>1</td>\n",
       "      <td>female</td>\n",
       "      <td>35.0</td>\n",
       "      <td>1</td>\n",
       "      <td>0</td>\n",
       "      <td>52.0000</td>\n",
       "      <td>S</td>\n",
       "      <td>First</td>\n",
       "      <td>woman</td>\n",
       "      <td>False</td>\n",
       "      <td>NaN</td>\n",
       "      <td>Southampton</td>\n",
       "      <td>yes</td>\n",
       "      <td>False</td>\n",
       "    </tr>\n",
       "    <tr>\n",
       "      <th>486</th>\n",
       "      <td>1</td>\n",
       "      <td>1</td>\n",
       "      <td>female</td>\n",
       "      <td>35.0</td>\n",
       "      <td>1</td>\n",
       "      <td>0</td>\n",
       "      <td>90.0000</td>\n",
       "      <td>S</td>\n",
       "      <td>First</td>\n",
       "      <td>woman</td>\n",
       "      <td>False</td>\n",
       "      <td>C</td>\n",
       "      <td>Southampton</td>\n",
       "      <td>yes</td>\n",
       "      <td>False</td>\n",
       "    </tr>\n",
       "  </tbody>\n",
       "</table>\n",
       "</div>"
      ],
      "text/plain": [
       "     survived  pclass     sex   age  sibsp  parch      fare embarked   class  \\\n",
       "3           1       1  female  35.0      1      0   53.1000        S   First   \n",
       "211         1       2  female  35.0      0      0   21.0000        S  Second   \n",
       "230         1       1  female  35.0      1      0   83.4750        S   First   \n",
       "269         1       1  female  35.0      0      0  135.6333        S   First   \n",
       "279         1       3  female  35.0      1      1   20.2500        S   Third   \n",
       "383         1       1  female  35.0      1      0   52.0000        S   First   \n",
       "486         1       1  female  35.0      1      0   90.0000        S   First   \n",
       "\n",
       "       who  adult_male deck  embark_town alive  alone  \n",
       "3    woman       False    C  Southampton   yes  False  \n",
       "211  woman       False  NaN  Southampton   yes   True  \n",
       "230  woman       False    C  Southampton   yes  False  \n",
       "269  woman       False    C  Southampton   yes   True  \n",
       "279  woman       False  NaN  Southampton   yes  False  \n",
       "383  woman       False  NaN  Southampton   yes  False  \n",
       "486  woman       False    C  Southampton   yes  False  "
      ]
     },
     "execution_count": 30,
     "metadata": {},
     "output_type": "execute_result"
    }
   ],
   "source": [
    "# Select the passengers who are females that are 35 years old and from Southampton or Queenstown\n",
    "df[(df[\"sex\"] == \"female\") & (df[\"age\"] == 35) & (df[\"embark_town\"].isin([\"Southampton\", \"Queenstown\"]))]"
   ]
  },
  {
   "cell_type": "code",
   "execution_count": 31,
   "id": "f61c29d5",
   "metadata": {},
   "outputs": [
    {
     "data": {
      "application/vnd.microsoft.datawrangler.viewer.v0+json": {
       "columns": [
        {
         "name": "embark_town",
         "rawType": "object",
         "type": "string"
        },
        {
         "name": "count",
         "rawType": "int64",
         "type": "integer"
        }
       ],
       "ref": "b380c878-8cb9-42b2-ad27-b6fe93b2f1ef",
       "rows": [
        [
         "Southampton",
         "644"
        ],
        [
         "Cherbourg",
         "168"
        ],
        [
         "Queenstown",
         "77"
        ]
       ],
       "shape": {
        "columns": 1,
        "rows": 3
       }
      },
      "text/plain": [
       "embark_town\n",
       "Southampton    644\n",
       "Cherbourg      168\n",
       "Queenstown      77\n",
       "Name: count, dtype: int64"
      ]
     },
     "execution_count": 31,
     "metadata": {},
     "output_type": "execute_result"
    }
   ],
   "source": [
    "df.embark_town.value_counts()"
   ]
  },
  {
   "cell_type": "code",
   "execution_count": 32,
   "id": "db510307",
   "metadata": {},
   "outputs": [
    {
     "data": {
      "application/vnd.microsoft.datawrangler.viewer.v0+json": {
       "columns": [
        {
         "name": "sex",
         "rawType": "object",
         "type": "string"
        },
        {
         "name": "count",
         "rawType": "int64",
         "type": "integer"
        }
       ],
       "ref": "641e9ded-f53f-4c6c-8f2e-0477002bcc50",
       "rows": [
        [
         "male",
         "577"
        ],
        [
         "female",
         "314"
        ]
       ],
       "shape": {
        "columns": 1,
        "rows": 2
       }
      },
      "text/plain": [
       "sex\n",
       "male      577\n",
       "female    314\n",
       "Name: count, dtype: int64"
      ]
     },
     "execution_count": 32,
     "metadata": {},
     "output_type": "execute_result"
    }
   ],
   "source": [
    "df.sex.value_counts()"
   ]
  },
  {
   "cell_type": "markdown",
   "id": "b738b8c6",
   "metadata": {},
   "source": [
    "# Splitting a string into different columns"
   ]
  },
  {
   "cell_type": "code",
   "execution_count": 33,
   "id": "0acceac3",
   "metadata": {},
   "outputs": [
    {
     "data": {
      "application/vnd.microsoft.datawrangler.viewer.v0+json": {
       "columns": [
        {
         "name": "index",
         "rawType": "int64",
         "type": "integer"
        },
        {
         "name": "name",
         "rawType": "object",
         "type": "string"
        },
        {
         "name": "location",
         "rawType": "object",
         "type": "string"
        }
       ],
       "ref": "00f1097c-74a6-4ac2-80d4-73ee5b250636",
       "rows": [
        [
         "0",
         "Asad Ali",
         "Okara Pakistan"
        ],
        [
         "1",
         "Ali Zain",
         "Nankana Pakistan"
        ],
        [
         "2",
         "Faisal Iqbal",
         "Pattoki Pakistan"
        ],
        [
         "3",
         "Iqbal Akram",
         "Lahore Pakistan"
        ],
        [
         "4",
         "Shoaib Idrees",
         "Bseerpur Pakistan"
        ]
       ],
       "shape": {
        "columns": 2,
        "rows": 5
       }
      },
      "text/html": [
       "<div>\n",
       "<style scoped>\n",
       "    .dataframe tbody tr th:only-of-type {\n",
       "        vertical-align: middle;\n",
       "    }\n",
       "\n",
       "    .dataframe tbody tr th {\n",
       "        vertical-align: top;\n",
       "    }\n",
       "\n",
       "    .dataframe thead th {\n",
       "        text-align: right;\n",
       "    }\n",
       "</style>\n",
       "<table border=\"1\" class=\"dataframe\">\n",
       "  <thead>\n",
       "    <tr style=\"text-align: right;\">\n",
       "      <th></th>\n",
       "      <th>name</th>\n",
       "      <th>location</th>\n",
       "    </tr>\n",
       "  </thead>\n",
       "  <tbody>\n",
       "    <tr>\n",
       "      <th>0</th>\n",
       "      <td>Asad Ali</td>\n",
       "      <td>Okara Pakistan</td>\n",
       "    </tr>\n",
       "    <tr>\n",
       "      <th>1</th>\n",
       "      <td>Ali Zain</td>\n",
       "      <td>Nankana Pakistan</td>\n",
       "    </tr>\n",
       "    <tr>\n",
       "      <th>2</th>\n",
       "      <td>Faisal Iqbal</td>\n",
       "      <td>Pattoki Pakistan</td>\n",
       "    </tr>\n",
       "    <tr>\n",
       "      <th>3</th>\n",
       "      <td>Iqbal Akram</td>\n",
       "      <td>Lahore Pakistan</td>\n",
       "    </tr>\n",
       "    <tr>\n",
       "      <th>4</th>\n",
       "      <td>Shoaib Idrees</td>\n",
       "      <td>Bseerpur Pakistan</td>\n",
       "    </tr>\n",
       "  </tbody>\n",
       "</table>\n",
       "</div>"
      ],
      "text/plain": [
       "            name           location\n",
       "0       Asad Ali     Okara Pakistan\n",
       "1       Ali Zain   Nankana Pakistan\n",
       "2   Faisal Iqbal   Pattoki Pakistan\n",
       "3    Iqbal Akram    Lahore Pakistan\n",
       "4  Shoaib Idrees  Bseerpur Pakistan"
      ]
     },
     "execution_count": 33,
     "metadata": {},
     "output_type": "execute_result"
    }
   ],
   "source": [
    "df = pd.DataFrame({\"name\":[\"Asad Ali\",\"Ali Zain\",\"Faisal Iqbal\",\"Iqbal Akram\",\"Shoaib Idrees\"],\"location\":[\"Okara Pakistan\",\"Nankana Pakistan\",\"Pattoki Pakistan\",\"Lahore Pakistan\",\"Bseerpur Pakistan\"]})\n",
    "df"
   ]
  },
  {
   "cell_type": "code",
   "execution_count": 34,
   "id": "612eb9fc",
   "metadata": {},
   "outputs": [
    {
     "data": {
      "application/vnd.microsoft.datawrangler.viewer.v0+json": {
       "columns": [
        {
         "name": "index",
         "rawType": "int64",
         "type": "integer"
        },
        {
         "name": "name",
         "rawType": "object",
         "type": "string"
        },
        {
         "name": "location",
         "rawType": "object",
         "type": "string"
        },
        {
         "name": "First_name",
         "rawType": "object",
         "type": "string"
        },
        {
         "name": "Last_name",
         "rawType": "object",
         "type": "string"
        },
        {
         "name": "City",
         "rawType": "object",
         "type": "string"
        },
        {
         "name": "Country",
         "rawType": "object",
         "type": "string"
        }
       ],
       "ref": "e71def6d-1d4d-4ec1-891d-2819054e515e",
       "rows": [
        [
         "0",
         "Asad Ali",
         "Okara Pakistan",
         "Asad",
         "Ali",
         "Okara",
         "Pakistan"
        ],
        [
         "1",
         "Ali Zain",
         "Nankana Pakistan",
         "Ali",
         "Zain",
         "Nankana",
         "Pakistan"
        ],
        [
         "2",
         "Faisal Iqbal",
         "Pattoki Pakistan",
         "Faisal",
         "Iqbal",
         "Pattoki",
         "Pakistan"
        ],
        [
         "3",
         "Iqbal Akram",
         "Lahore Pakistan",
         "Iqbal",
         "Akram",
         "Lahore",
         "Pakistan"
        ],
        [
         "4",
         "Shoaib Idrees",
         "Bseerpur Pakistan",
         "Shoaib",
         "Idrees",
         "Bseerpur",
         "Pakistan"
        ]
       ],
       "shape": {
        "columns": 6,
        "rows": 5
       }
      },
      "text/html": [
       "<div>\n",
       "<style scoped>\n",
       "    .dataframe tbody tr th:only-of-type {\n",
       "        vertical-align: middle;\n",
       "    }\n",
       "\n",
       "    .dataframe tbody tr th {\n",
       "        vertical-align: top;\n",
       "    }\n",
       "\n",
       "    .dataframe thead th {\n",
       "        text-align: right;\n",
       "    }\n",
       "</style>\n",
       "<table border=\"1\" class=\"dataframe\">\n",
       "  <thead>\n",
       "    <tr style=\"text-align: right;\">\n",
       "      <th></th>\n",
       "      <th>name</th>\n",
       "      <th>location</th>\n",
       "      <th>First_name</th>\n",
       "      <th>Last_name</th>\n",
       "      <th>City</th>\n",
       "      <th>Country</th>\n",
       "    </tr>\n",
       "  </thead>\n",
       "  <tbody>\n",
       "    <tr>\n",
       "      <th>0</th>\n",
       "      <td>Asad Ali</td>\n",
       "      <td>Okara Pakistan</td>\n",
       "      <td>Asad</td>\n",
       "      <td>Ali</td>\n",
       "      <td>Okara</td>\n",
       "      <td>Pakistan</td>\n",
       "    </tr>\n",
       "    <tr>\n",
       "      <th>1</th>\n",
       "      <td>Ali Zain</td>\n",
       "      <td>Nankana Pakistan</td>\n",
       "      <td>Ali</td>\n",
       "      <td>Zain</td>\n",
       "      <td>Nankana</td>\n",
       "      <td>Pakistan</td>\n",
       "    </tr>\n",
       "    <tr>\n",
       "      <th>2</th>\n",
       "      <td>Faisal Iqbal</td>\n",
       "      <td>Pattoki Pakistan</td>\n",
       "      <td>Faisal</td>\n",
       "      <td>Iqbal</td>\n",
       "      <td>Pattoki</td>\n",
       "      <td>Pakistan</td>\n",
       "    </tr>\n",
       "    <tr>\n",
       "      <th>3</th>\n",
       "      <td>Iqbal Akram</td>\n",
       "      <td>Lahore Pakistan</td>\n",
       "      <td>Iqbal</td>\n",
       "      <td>Akram</td>\n",
       "      <td>Lahore</td>\n",
       "      <td>Pakistan</td>\n",
       "    </tr>\n",
       "    <tr>\n",
       "      <th>4</th>\n",
       "      <td>Shoaib Idrees</td>\n",
       "      <td>Bseerpur Pakistan</td>\n",
       "      <td>Shoaib</td>\n",
       "      <td>Idrees</td>\n",
       "      <td>Bseerpur</td>\n",
       "      <td>Pakistan</td>\n",
       "    </tr>\n",
       "  </tbody>\n",
       "</table>\n",
       "</div>"
      ],
      "text/plain": [
       "            name           location First_name Last_name      City   Country\n",
       "0       Asad Ali     Okara Pakistan       Asad       Ali     Okara  Pakistan\n",
       "1       Ali Zain   Nankana Pakistan        Ali      Zain   Nankana  Pakistan\n",
       "2   Faisal Iqbal   Pattoki Pakistan     Faisal     Iqbal   Pattoki  Pakistan\n",
       "3    Iqbal Akram    Lahore Pakistan      Iqbal     Akram    Lahore  Pakistan\n",
       "4  Shoaib Idrees  Bseerpur Pakistan     Shoaib    Idrees  Bseerpur  Pakistan"
      ]
     },
     "execution_count": 34,
     "metadata": {},
     "output_type": "execute_result"
    }
   ],
   "source": [
    "# Splitting a string name column into first and last name\n",
    "df[['First_name', 'Last_name']] = df['name'].str.split(' ', n=1, expand=True)\n",
    "df[[\"City\",\"Country\"]] = df[\"location\"].str.split(\" \", n=1, expand=True)\n",
    "df\n"
   ]
  },
  {
   "cell_type": "code",
   "execution_count": 35,
   "id": "02fee4fb",
   "metadata": {},
   "outputs": [
    {
     "name": "stdout",
     "output_type": "stream",
     "text": [
      "  First_name Last_name      City   Country\n",
      "0       Asad       Ali     Okara  Pakistan\n",
      "1        Ali      Zain   Nankana  Pakistan\n",
      "2     Faisal     Iqbal   Pattoki  Pakistan\n",
      "3      Iqbal     Akram    Lahore  Pakistan\n",
      "4     Shoaib    Idrees  Bseerpur  Pakistan\n"
     ]
    }
   ],
   "source": [
    "# Making a copy of the DataFrame\n",
    "df = df[[\"First_name\",\"Last_name\",\"City\",\"Country\"]]\n",
    "print(df.head())"
   ]
  },
  {
   "cell_type": "markdown",
   "id": "72da3833",
   "metadata": {},
   "source": [
    "# Aggregate by multiple groups/functions"
   ]
  },
  {
   "cell_type": "code",
   "execution_count": 36,
   "id": "07b1561f",
   "metadata": {},
   "outputs": [
    {
     "name": "stdout",
     "output_type": "stream",
     "text": [
      "   survived  pclass     sex   age  sibsp  parch     fare embarked  class  \\\n",
      "0         0       3    male  22.0      1      0   7.2500        S  Third   \n",
      "1         1       1  female  38.0      1      0  71.2833        C  First   \n",
      "2         1       3  female  26.0      0      0   7.9250        S  Third   \n",
      "3         1       1  female  35.0      1      0  53.1000        S  First   \n",
      "4         0       3    male  35.0      0      0   8.0500        S  Third   \n",
      "\n",
      "     who  adult_male deck  embark_town alive  alone  \n",
      "0    man        True  NaN  Southampton    no  False  \n",
      "1  woman       False    C    Cherbourg   yes  False  \n",
      "2  woman       False  NaN  Southampton   yes   True  \n",
      "3  woman       False    C  Southampton   yes  False  \n",
      "4    man        True  NaN  Southampton    no   True  \n"
     ]
    }
   ],
   "source": [
    "df = sns.load_dataset(\"titanic\")\n",
    "# Display the first few rows of the DataFrame\n",
    "print(df.head())"
   ]
  },
  {
   "cell_type": "code",
   "execution_count": 37,
   "id": "d98d3f1f",
   "metadata": {},
   "outputs": [
    {
     "data": {
      "application/vnd.microsoft.datawrangler.viewer.v0+json": {
       "columns": [
        {
         "name": "who",
         "rawType": "object",
         "type": "string"
        },
        {
         "name": "survived",
         "rawType": "int64",
         "type": "integer"
        },
        {
         "name": "pclass",
         "rawType": "int64",
         "type": "integer"
        },
        {
         "name": "sex",
         "rawType": "int64",
         "type": "integer"
        },
        {
         "name": "age",
         "rawType": "int64",
         "type": "integer"
        },
        {
         "name": "sibsp",
         "rawType": "int64",
         "type": "integer"
        },
        {
         "name": "parch",
         "rawType": "int64",
         "type": "integer"
        },
        {
         "name": "fare",
         "rawType": "int64",
         "type": "integer"
        },
        {
         "name": "embarked",
         "rawType": "int64",
         "type": "integer"
        },
        {
         "name": "class",
         "rawType": "int64",
         "type": "integer"
        },
        {
         "name": "adult_male",
         "rawType": "int64",
         "type": "integer"
        },
        {
         "name": "deck",
         "rawType": "int64",
         "type": "integer"
        },
        {
         "name": "embark_town",
         "rawType": "int64",
         "type": "integer"
        },
        {
         "name": "alive",
         "rawType": "int64",
         "type": "integer"
        },
        {
         "name": "alone",
         "rawType": "int64",
         "type": "integer"
        }
       ],
       "ref": "2b6abc88-5f4d-48ba-bc22-71ccd7a90b63",
       "rows": [
        [
         "child",
         "83",
         "83",
         "83",
         "83",
         "83",
         "83",
         "83",
         "83",
         "83",
         "83",
         "13",
         "83",
         "83",
         "83"
        ],
        [
         "man",
         "537",
         "537",
         "537",
         "413",
         "537",
         "537",
         "537",
         "537",
         "537",
         "537",
         "99",
         "537",
         "537",
         "537"
        ],
        [
         "woman",
         "271",
         "271",
         "271",
         "218",
         "271",
         "271",
         "271",
         "269",
         "271",
         "271",
         "91",
         "269",
         "271",
         "271"
        ]
       ],
       "shape": {
        "columns": 14,
        "rows": 3
       }
      },
      "text/html": [
       "<div>\n",
       "<style scoped>\n",
       "    .dataframe tbody tr th:only-of-type {\n",
       "        vertical-align: middle;\n",
       "    }\n",
       "\n",
       "    .dataframe tbody tr th {\n",
       "        vertical-align: top;\n",
       "    }\n",
       "\n",
       "    .dataframe thead th {\n",
       "        text-align: right;\n",
       "    }\n",
       "</style>\n",
       "<table border=\"1\" class=\"dataframe\">\n",
       "  <thead>\n",
       "    <tr style=\"text-align: right;\">\n",
       "      <th></th>\n",
       "      <th>survived</th>\n",
       "      <th>pclass</th>\n",
       "      <th>sex</th>\n",
       "      <th>age</th>\n",
       "      <th>sibsp</th>\n",
       "      <th>parch</th>\n",
       "      <th>fare</th>\n",
       "      <th>embarked</th>\n",
       "      <th>class</th>\n",
       "      <th>adult_male</th>\n",
       "      <th>deck</th>\n",
       "      <th>embark_town</th>\n",
       "      <th>alive</th>\n",
       "      <th>alone</th>\n",
       "    </tr>\n",
       "    <tr>\n",
       "      <th>who</th>\n",
       "      <th></th>\n",
       "      <th></th>\n",
       "      <th></th>\n",
       "      <th></th>\n",
       "      <th></th>\n",
       "      <th></th>\n",
       "      <th></th>\n",
       "      <th></th>\n",
       "      <th></th>\n",
       "      <th></th>\n",
       "      <th></th>\n",
       "      <th></th>\n",
       "      <th></th>\n",
       "      <th></th>\n",
       "    </tr>\n",
       "  </thead>\n",
       "  <tbody>\n",
       "    <tr>\n",
       "      <th>child</th>\n",
       "      <td>83</td>\n",
       "      <td>83</td>\n",
       "      <td>83</td>\n",
       "      <td>83</td>\n",
       "      <td>83</td>\n",
       "      <td>83</td>\n",
       "      <td>83</td>\n",
       "      <td>83</td>\n",
       "      <td>83</td>\n",
       "      <td>83</td>\n",
       "      <td>13</td>\n",
       "      <td>83</td>\n",
       "      <td>83</td>\n",
       "      <td>83</td>\n",
       "    </tr>\n",
       "    <tr>\n",
       "      <th>man</th>\n",
       "      <td>537</td>\n",
       "      <td>537</td>\n",
       "      <td>537</td>\n",
       "      <td>413</td>\n",
       "      <td>537</td>\n",
       "      <td>537</td>\n",
       "      <td>537</td>\n",
       "      <td>537</td>\n",
       "      <td>537</td>\n",
       "      <td>537</td>\n",
       "      <td>99</td>\n",
       "      <td>537</td>\n",
       "      <td>537</td>\n",
       "      <td>537</td>\n",
       "    </tr>\n",
       "    <tr>\n",
       "      <th>woman</th>\n",
       "      <td>271</td>\n",
       "      <td>271</td>\n",
       "      <td>271</td>\n",
       "      <td>218</td>\n",
       "      <td>271</td>\n",
       "      <td>271</td>\n",
       "      <td>271</td>\n",
       "      <td>269</td>\n",
       "      <td>271</td>\n",
       "      <td>271</td>\n",
       "      <td>91</td>\n",
       "      <td>269</td>\n",
       "      <td>271</td>\n",
       "      <td>271</td>\n",
       "    </tr>\n",
       "  </tbody>\n",
       "</table>\n",
       "</div>"
      ],
      "text/plain": [
       "       survived  pclass  sex  age  sibsp  parch  fare  embarked  class  \\\n",
       "who                                                                      \n",
       "child        83      83   83   83     83     83    83        83     83   \n",
       "man         537     537  537  413    537    537   537       537    537   \n",
       "woman       271     271  271  218    271    271   271       269    271   \n",
       "\n",
       "       adult_male  deck  embark_town  alive  alone  \n",
       "who                                                 \n",
       "child          83    13           83     83     83  \n",
       "man           537    99          537    537    537  \n",
       "woman         271    91          269    271    271  "
      ]
     },
     "execution_count": 37,
     "metadata": {},
     "output_type": "execute_result"
    }
   ],
   "source": [
    "# Group the DataFrame by the \"who\" column and count the number of non-null values in each column for each group\n",
    "df.groupby(\"who\").count()"
   ]
  },
  {
   "cell_type": "code",
   "execution_count": 38,
   "id": "d08d7768",
   "metadata": {},
   "outputs": [
    {
     "name": "stdout",
     "output_type": "stream",
     "text": [
      "                    survived  pclass  age  sibsp  parch  fare  embarked  \\\n",
      "sex    embark_town                                                        \n",
      "female Cherbourg          73      73   61     73     73    73        73   \n",
      "       Queenstown         36      36   12     36     36    36        36   \n",
      "       Southampton       203     203  186    203    203   203       203   \n",
      "male   Cherbourg          95      95   69     95     95    95        95   \n",
      "       Queenstown         41      41   16     41     41    41        41   \n",
      "       Southampton       441     441  368    441    441   441       441   \n",
      "\n",
      "                    class  who  adult_male  deck  alive  alone  \n",
      "sex    embark_town                                              \n",
      "female Cherbourg       73   73          73    37     73     73  \n",
      "       Queenstown      36   36          36     2     36     36  \n",
      "       Southampton    203  203         203    56    203    203  \n",
      "male   Cherbourg       95   95          95    32     95     95  \n",
      "       Queenstown      41   41          41     2     41     41  \n",
      "       Southampton    441  441         441    72    441    441  \n"
     ]
    }
   ],
   "source": [
    "# Group the DataFrame by the \"sex\" and \"embark_town\" columns,\n",
    "# and count the number of non-null values in each column for each group\n",
    "print(df.groupby([\"sex\", \"embark_town\"]).count())"
   ]
  },
  {
   "cell_type": "markdown",
   "id": "b3461ebe",
   "metadata": {},
   "source": [
    "# How to select specific rows and columns"
   ]
  },
  {
   "cell_type": "code",
   "execution_count": 39,
   "id": "3c58b302",
   "metadata": {},
   "outputs": [
    {
     "name": "stdout",
     "output_type": "stream",
     "text": [
      "   survived  pclass     sex   age  sibsp  parch     fare embarked  class  \\\n",
      "0         0       3    male  22.0      1      0   7.2500        S  Third   \n",
      "1         1       1  female  38.0      1      0  71.2833        C  First   \n",
      "2         1       3  female  26.0      0      0   7.9250        S  Third   \n",
      "3         1       1  female  35.0      1      0  53.1000        S  First   \n",
      "4         0       3    male  35.0      0      0   8.0500        S  Third   \n",
      "\n",
      "     who  adult_male deck  embark_town alive  alone  \n",
      "0    man        True  NaN  Southampton    no  False  \n",
      "1  woman       False    C    Cherbourg   yes  False  \n",
      "2  woman       False  NaN  Southampton   yes   True  \n",
      "3  woman       False    C  Southampton   yes  False  \n",
      "4    man        True  NaN  Southampton    no   True  \n"
     ]
    }
   ],
   "source": [
    "print(df.head())"
   ]
  },
  {
   "cell_type": "code",
   "execution_count": 40,
   "id": "4109bce8",
   "metadata": {},
   "outputs": [
    {
     "data": {
      "application/vnd.microsoft.datawrangler.viewer.v0+json": {
       "columns": [
        {
         "name": "index",
         "rawType": "int64",
         "type": "integer"
        },
        {
         "name": "sex",
         "rawType": "object",
         "type": "string"
        },
        {
         "name": "age",
         "rawType": "float64",
         "type": "float"
        }
       ],
       "ref": "1f1f5f3e-f61b-4ff7-8740-81d1abb1845d",
       "rows": [
        [
         "0",
         "male",
         "22.0"
        ],
        [
         "1",
         "female",
         "38.0"
        ],
        [
         "2",
         "female",
         "26.0"
        ],
        [
         "3",
         "female",
         "35.0"
        ],
        [
         "4",
         "male",
         "35.0"
        ]
       ],
       "shape": {
        "columns": 2,
        "rows": 5
       }
      },
      "text/html": [
       "<div>\n",
       "<style scoped>\n",
       "    .dataframe tbody tr th:only-of-type {\n",
       "        vertical-align: middle;\n",
       "    }\n",
       "\n",
       "    .dataframe tbody tr th {\n",
       "        vertical-align: top;\n",
       "    }\n",
       "\n",
       "    .dataframe thead th {\n",
       "        text-align: right;\n",
       "    }\n",
       "</style>\n",
       "<table border=\"1\" class=\"dataframe\">\n",
       "  <thead>\n",
       "    <tr style=\"text-align: right;\">\n",
       "      <th></th>\n",
       "      <th>sex</th>\n",
       "      <th>age</th>\n",
       "    </tr>\n",
       "  </thead>\n",
       "  <tbody>\n",
       "    <tr>\n",
       "      <th>0</th>\n",
       "      <td>male</td>\n",
       "      <td>22.0</td>\n",
       "    </tr>\n",
       "    <tr>\n",
       "      <th>1</th>\n",
       "      <td>female</td>\n",
       "      <td>38.0</td>\n",
       "    </tr>\n",
       "    <tr>\n",
       "      <th>2</th>\n",
       "      <td>female</td>\n",
       "      <td>26.0</td>\n",
       "    </tr>\n",
       "    <tr>\n",
       "      <th>3</th>\n",
       "      <td>female</td>\n",
       "      <td>35.0</td>\n",
       "    </tr>\n",
       "    <tr>\n",
       "      <th>4</th>\n",
       "      <td>male</td>\n",
       "      <td>35.0</td>\n",
       "    </tr>\n",
       "  </tbody>\n",
       "</table>\n",
       "</div>"
      ],
      "text/plain": [
       "      sex   age\n",
       "0    male  22.0\n",
       "1  female  38.0\n",
       "2  female  26.0\n",
       "3  female  35.0\n",
       "4    male  35.0"
      ]
     },
     "execution_count": 40,
     "metadata": {},
     "output_type": "execute_result"
    }
   ],
   "source": [
    "# To select a specific column in a dataset\n",
    "df[[\"sex\",\"age\"]].head()"
   ]
  },
  {
   "cell_type": "code",
   "execution_count": 41,
   "id": "0199ead0",
   "metadata": {},
   "outputs": [
    {
     "data": {
      "application/vnd.microsoft.datawrangler.viewer.v0+json": {
       "columns": [
        {
         "name": "index",
         "rawType": "object",
         "type": "string"
        },
        {
         "name": "survived",
         "rawType": "float64",
         "type": "float"
        },
        {
         "name": "pclass",
         "rawType": "float64",
         "type": "float"
        },
        {
         "name": "age",
         "rawType": "float64",
         "type": "float"
        },
        {
         "name": "sibsp",
         "rawType": "float64",
         "type": "float"
        },
        {
         "name": "parch",
         "rawType": "float64",
         "type": "float"
        },
        {
         "name": "fare",
         "rawType": "float64",
         "type": "float"
        }
       ],
       "ref": "b14ad4ec-707b-4ffe-8c3f-d6f36ab086b6",
       "rows": [
        [
         "min",
         "0.0",
         "1.0",
         "0.42",
         "0.0",
         "0.0",
         "0.0"
        ],
        [
         "max",
         "1.0",
         "3.0",
         "80.0",
         "8.0",
         "6.0",
         "512.3292"
        ]
       ],
       "shape": {
        "columns": 6,
        "rows": 2
       }
      },
      "text/html": [
       "<div>\n",
       "<style scoped>\n",
       "    .dataframe tbody tr th:only-of-type {\n",
       "        vertical-align: middle;\n",
       "    }\n",
       "\n",
       "    .dataframe tbody tr th {\n",
       "        vertical-align: top;\n",
       "    }\n",
       "\n",
       "    .dataframe thead th {\n",
       "        text-align: right;\n",
       "    }\n",
       "</style>\n",
       "<table border=\"1\" class=\"dataframe\">\n",
       "  <thead>\n",
       "    <tr style=\"text-align: right;\">\n",
       "      <th></th>\n",
       "      <th>survived</th>\n",
       "      <th>pclass</th>\n",
       "      <th>age</th>\n",
       "      <th>sibsp</th>\n",
       "      <th>parch</th>\n",
       "      <th>fare</th>\n",
       "    </tr>\n",
       "  </thead>\n",
       "  <tbody>\n",
       "    <tr>\n",
       "      <th>min</th>\n",
       "      <td>0.0</td>\n",
       "      <td>1.0</td>\n",
       "      <td>0.42</td>\n",
       "      <td>0.0</td>\n",
       "      <td>0.0</td>\n",
       "      <td>0.0000</td>\n",
       "    </tr>\n",
       "    <tr>\n",
       "      <th>max</th>\n",
       "      <td>1.0</td>\n",
       "      <td>3.0</td>\n",
       "      <td>80.00</td>\n",
       "      <td>8.0</td>\n",
       "      <td>6.0</td>\n",
       "      <td>512.3292</td>\n",
       "    </tr>\n",
       "  </tbody>\n",
       "</table>\n",
       "</div>"
      ],
      "text/plain": [
       "     survived  pclass    age  sibsp  parch      fare\n",
       "min       0.0     1.0   0.42    0.0    0.0    0.0000\n",
       "max       1.0     3.0  80.00    8.0    6.0  512.3292"
      ]
     },
     "execution_count": 41,
     "metadata": {},
     "output_type": "execute_result"
    }
   ],
   "source": [
    "# To get the min max of numeric columns\n",
    "df.describe().loc[[\"min\",\"max\"]]"
   ]
  },
  {
   "cell_type": "code",
   "execution_count": 42,
   "id": "485193e2",
   "metadata": {},
   "outputs": [
    {
     "name": "stdout",
     "output_type": "stream",
     "text": [
      "         survived      pclass         age       sibsp       parch        fare\n",
      "count  891.000000  891.000000  714.000000  891.000000  891.000000  891.000000\n",
      "mean     0.383838    2.308642   29.699118    0.523008    0.381594   32.204208\n",
      "std      0.486592    0.836071   14.526497    1.102743    0.806057   49.693429\n",
      "min      0.000000    1.000000    0.420000    0.000000    0.000000    0.000000\n",
      "25%      0.000000    2.000000   20.125000    0.000000    0.000000    7.910400\n",
      "50%      0.000000    3.000000   28.000000    0.000000    0.000000   14.454200\n",
      "75%      1.000000    3.000000   38.000000    1.000000    0.000000   31.000000\n",
      "max      1.000000    3.000000   80.000000    8.000000    6.000000  512.329200\n"
     ]
    }
   ],
   "source": [
    "# To get the statistical summary of the DataFrame\n",
    "print(df.describe())"
   ]
  },
  {
   "cell_type": "code",
   "execution_count": 43,
   "id": "fb9b21be",
   "metadata": {},
   "outputs": [
    {
     "name": "stdout",
     "output_type": "stream",
     "text": [
      "     survived  pclass     age  sibsp  parch      fare\n",
      "min       0.0     1.0   0.420    0.0    0.0    0.0000\n",
      "25%       0.0     2.0  20.125    0.0    0.0    7.9104\n",
      "50%       0.0     3.0  28.000    0.0    0.0   14.4542\n",
      "75%       1.0     3.0  38.000    1.0    0.0   31.0000\n",
      "max       1.0     3.0  80.000    8.0    6.0  512.3292\n"
     ]
    }
   ],
   "source": [
    "# Another way to get the statistical summary of the DataFrame\n",
    "print(df.describe().loc[\"min\":\"max\"])"
   ]
  },
  {
   "cell_type": "markdown",
   "id": "dfb2c1b9",
   "metadata": {},
   "source": [
    "# Reshape Multi Index Series"
   ]
  },
  {
   "cell_type": "code",
   "execution_count": 44,
   "id": "b984e499",
   "metadata": {},
   "outputs": [
    {
     "name": "stdout",
     "output_type": "stream",
     "text": [
      "   survived  pclass     sex   age  sibsp  parch     fare embarked  class  \\\n",
      "0         0       3    male  22.0      1      0   7.2500        S  Third   \n",
      "1         1       1  female  38.0      1      0  71.2833        C  First   \n",
      "2         1       3  female  26.0      0      0   7.9250        S  Third   \n",
      "3         1       1  female  35.0      1      0  53.1000        S  First   \n",
      "4         0       3    male  35.0      0      0   8.0500        S  Third   \n",
      "\n",
      "     who  adult_male deck  embark_town alive  alone  \n",
      "0    man        True  NaN  Southampton    no  False  \n",
      "1  woman       False    C    Cherbourg   yes  False  \n",
      "2  woman       False  NaN  Southampton   yes   True  \n",
      "3  woman       False    C  Southampton   yes  False  \n",
      "4    man        True  NaN  Southampton    no   True  \n"
     ]
    }
   ],
   "source": [
    "# Load titanic dataset using seaborn\n",
    "df = sns.load_dataset(\"titanic\")\n",
    "print(df.head())"
   ]
  },
  {
   "cell_type": "code",
   "execution_count": 45,
   "id": "2fdf34b8",
   "metadata": {},
   "outputs": [
    {
     "name": "stdout",
     "output_type": "stream",
     "text": [
      "Mean of survived column: 0.3838383838383838\n",
      "Mean of survived column of males: 0.18890814558058924\n",
      "Mean survival rate by sex and class: sex     pclass\n",
      "female  1         0.968085\n",
      "        2         0.921053\n",
      "        3         0.500000\n",
      "male    1         0.368852\n",
      "        2         0.157407\n",
      "        3         0.135447\n",
      "Name: survived, dtype: float64\n"
     ]
    }
   ],
   "source": [
    "# Calculate and display the mean value of the 'survived' column\n",
    "print(\"Mean of survived column:\", df[\"survived\"].mean())\n",
    "\n",
    "# Calculate and display the mean value of the 'survived' column for male passengers\n",
    "print(\"Mean of survived column of males:\", df[df[\"sex\"] == \"male\"][\"survived\"].mean())\n",
    "\n",
    "# Group the data by 'sex' and 'pclass', and calculate the mean survival rate for each group\n",
    "print(\"Mean survival rate by sex and class:\", df.groupby(['sex', 'pclass']).survived.mean())"
   ]
  },
  {
   "cell_type": "markdown",
   "id": "cddd9826",
   "metadata": {},
   "source": [
    "# Numeric to Categoric Feature Conversion"
   ]
  },
  {
   "cell_type": "code",
   "execution_count": 46,
   "id": "8bedf273",
   "metadata": {},
   "outputs": [
    {
     "name": "stdout",
     "output_type": "stream",
     "text": [
      "0    22.0\n",
      "1    38.0\n",
      "2    26.0\n",
      "3    35.0\n",
      "4    35.0\n",
      "Name: age, dtype: float64\n"
     ]
    }
   ],
   "source": [
    "print(df.age.head())"
   ]
  },
  {
   "cell_type": "code",
   "execution_count": 47,
   "id": "25a6f4f9",
   "metadata": {},
   "outputs": [
    {
     "name": "stdout",
     "output_type": "stream",
     "text": [
      "   survived  pclass     sex   age  sibsp  parch     fare embarked  class  \\\n",
      "0         0       3    male  22.0      1      0   7.2500        S  Third   \n",
      "1         1       1  female  38.0      1      0  71.2833        C  First   \n",
      "2         1       3  female  26.0      0      0   7.9250        S  Third   \n",
      "3         1       1  female  35.0      1      0  53.1000        S  First   \n",
      "4         0       3    male  35.0      0      0   8.0500        S  Third   \n",
      "\n",
      "     who  adult_male deck  embark_town alive  alone      new_age  \n",
      "0    man        True  NaN  Southampton    no  False  Young_Adult  \n",
      "1  woman       False    C    Cherbourg   yes  False        Adult  \n",
      "2  woman       False  NaN  Southampton   yes   True        Adult  \n",
      "3  woman       False    C  Southampton   yes  False        Adult  \n",
      "4    man        True  NaN  Southampton    no   True        Adult  \n"
     ]
    }
   ],
   "source": [
    "# Creating the Bins of Age and Add a new column 'new_age' to the DataFrame\n",
    "df[\"new_age\"] = pd.cut(df.age, bins=[0,18,25,50,99], labels=[\"Child\",\"Young_Adult\",\"Adult\",\"Old\"])\n",
    "print(df.head())"
   ]
  },
  {
   "cell_type": "code",
   "execution_count": 48,
   "id": "fa10fc2f",
   "metadata": {},
   "outputs": [
    {
     "name": "stdout",
     "output_type": "stream",
     "text": [
      "Unique values and thier sum in new_age column:\n",
      "new_age\n",
      "Adult          349\n",
      "Young_Adult    162\n",
      "Child          139\n",
      "Old             64\n",
      "Name: count, dtype: int64\n"
     ]
    }
   ],
   "source": [
    "# Check the unique values in the new_age column\n",
    "print(\"Unique values and thier sum in new_age column:\")\n",
    "print(df[\"new_age\"].value_counts())"
   ]
  },
  {
   "cell_type": "markdown",
   "id": "9e7d1882",
   "metadata": {},
   "source": [
    "# How to Convert One set of values into another One"
   ]
  },
  {
   "cell_type": "code",
   "execution_count": 49,
   "id": "33bd34df",
   "metadata": {},
   "outputs": [
    {
     "name": "stdout",
     "output_type": "stream",
     "text": [
      "0      male\n",
      "1    female\n",
      "2    female\n",
      "3    female\n",
      "4      male\n",
      "Name: sex, dtype: object\n"
     ]
    }
   ],
   "source": [
    "# Look at the first few rows of the age column in theDataFrame\n",
    "print(df[\"sex\"].head())"
   ]
  },
  {
   "cell_type": "code",
   "execution_count": 50,
   "id": "fbb47ba4",
   "metadata": {},
   "outputs": [
    {
     "name": "stdout",
     "output_type": "stream",
     "text": [
      "   survived  pclass     sex   age  sibsp  parch     fare embarked  class  \\\n",
      "0         0       3    male  22.0      1      0   7.2500        S  Third   \n",
      "1         1       1  female  38.0      1      0  71.2833        C  First   \n",
      "2         1       3  female  26.0      0      0   7.9250        S  Third   \n",
      "3         1       1  female  35.0      1      0  53.1000        S  First   \n",
      "4         0       3    male  35.0      0      0   8.0500        S  Third   \n",
      "\n",
      "     who  adult_male deck  embark_town alive  alone      new_age  sex_num  \n",
      "0    man        True  NaN  Southampton    no  False  Young_Adult        0  \n",
      "1  woman       False    C    Cherbourg   yes  False        Adult        1  \n",
      "2  woman       False  NaN  Southampton   yes   True        Adult        1  \n",
      "3  woman       False    C  Southampton   yes  False        Adult        1  \n",
      "4    man        True  NaN  Southampton    no   True        Adult        0  \n"
     ]
    }
   ],
   "source": [
    "df[\"sex_num\"] = df[\"sex\"].map({\"male\": 0, \"female\": 1})\n",
    "print(df.head())"
   ]
  },
  {
   "cell_type": "code",
   "execution_count": 51,
   "id": "414456b5",
   "metadata": {},
   "outputs": [
    {
     "name": "stdout",
     "output_type": "stream",
     "text": [
      "['Southampton' 'Cherbourg' 'Queenstown' nan]\n"
     ]
    }
   ],
   "source": [
    "# Checking the unique values in embark_town column\n",
    "print(df[\"embark_town\"].unique())"
   ]
  },
  {
   "cell_type": "code",
   "execution_count": 52,
   "id": "ddd93d97",
   "metadata": {},
   "outputs": [
    {
     "name": "stdout",
     "output_type": "stream",
     "text": [
      "   survived  pclass     sex   age  sibsp  parch     fare embarked  class  \\\n",
      "0         0       3    male  22.0      1      0   7.2500        S  Third   \n",
      "1         1       1  female  38.0      1      0  71.2833        C  First   \n",
      "2         1       3  female  26.0      0      0   7.9250        S  Third   \n",
      "3         1       1  female  35.0      1      0  53.1000        S  First   \n",
      "4         0       3    male  35.0      0      0   8.0500        S  Third   \n",
      "\n",
      "     who  adult_male deck  embark_town alive  alone      new_age  sex_num  \\\n",
      "0    man        True  NaN  Southampton    no  False  Young_Adult        0   \n",
      "1  woman       False    C    Cherbourg   yes  False        Adult        1   \n",
      "2  woman       False  NaN  Southampton   yes   True        Adult        1   \n",
      "3  woman       False    C  Southampton   yes  False        Adult        1   \n",
      "4    man        True  NaN  Southampton    no   True        Adult        0   \n",
      "\n",
      "   embark_town_value  \n",
      "0                  0  \n",
      "1                  1  \n",
      "2                  0  \n",
      "3                  0  \n",
      "4                  0  \n"
     ]
    }
   ],
   "source": [
    "# The following code converts the 'embark_town' categorical column into numeric values using factorize().\n",
    "# It creates a new column 'embark_town_value' with the numeric codes.\n",
    "\n",
    "\n",
    "df[\"embark_town_value\"] = df.embark_town.factorize()[0]\n",
    "print(df.head())"
   ]
  },
  {
   "cell_type": "code",
   "execution_count": 53,
   "id": "f7a4c35b",
   "metadata": {},
   "outputs": [
    {
     "name": "stdout",
     "output_type": "stream",
     "text": [
      "embark_town\n",
      "Southampton    644\n",
      "Cherbourg      168\n",
      "Queenstown      77\n",
      "Name: count, dtype: int64\n",
      "embark_town_value\n",
      " 0    644\n",
      " 1    168\n",
      " 2     77\n",
      "-1      2\n",
      "Name: count, dtype: int64\n"
     ]
    }
   ],
   "source": [
    "print(df[\"embark_town\"].value_counts())\n",
    "print(df[\"embark_town_value\"].value_counts())"
   ]
  },
  {
   "cell_type": "markdown",
   "id": "4efc4e5f",
   "metadata": {},
   "source": [
    "# How to get Transpose of a wide dataframe"
   ]
  },
  {
   "cell_type": "code",
   "execution_count": 58,
   "id": "2f82f367",
   "metadata": {},
   "outputs": [
    {
     "name": "stdout",
     "output_type": "stream",
     "text": [
      "          A         B         C         D         E         F         G  \\\n",
      "0  0.341168  0.616518  0.873079  0.455924  0.481180  0.705164  0.627496   \n",
      "1  0.630757  0.331293  0.662406  0.982054  0.447248  0.195136  0.938368   \n",
      "2  0.564987  0.650743  0.643370  0.331433  0.656953  0.450161  0.295262   \n",
      "3  0.350649  0.876750  0.554441  0.852769  0.962504  0.918509  0.727497   \n",
      "4  0.494858  0.178998  0.776991  0.265485  0.088519  0.843035  0.101376   \n",
      "\n",
      "          H         I         J  ...         Q         R         S         T  \\\n",
      "0  0.011001  0.855068  0.518703  ...  0.293306  0.205672  0.010637  0.374104   \n",
      "1  0.647155  0.292898  0.271481  ...  0.127569  0.329981  0.730657  0.661564   \n",
      "2  0.231276  0.166548  0.651078  ...  0.538191  0.798245  0.248265  0.751442   \n",
      "3  0.220705  0.898537  0.037832  ...  0.460372  0.298839  0.087027  0.912799   \n",
      "4  0.581116  0.643525  0.743861  ...  0.685380  0.395505  0.332618  0.162397   \n",
      "\n",
      "          U         V         W         X         Y         Z  \n",
      "0  0.055131  0.217205  0.863592  0.693841  0.144294  0.454046  \n",
      "1  0.916416  0.103824  0.192584  0.328797  0.860109  0.641860  \n",
      "2  0.651637  0.891762  0.748343  0.823038  0.812815  0.184401  \n",
      "3  0.850515  0.202683  0.513210  0.880552  0.307766  0.445812  \n",
      "4  0.594388  0.948638  0.515531  0.343334  0.917935  0.241294  \n",
      "\n",
      "[5 rows x 26 columns]\n"
     ]
    }
   ],
   "source": [
    "# Creating a wide Dataframe\n",
    "df = pd.DataFrame(np.random.rand(400, 26), columns=list(\"ABCDEFGHIJKLMNOPQRSTUVWXYZ\"))\n",
    "print(df.head())"
   ]
  },
  {
   "cell_type": "code",
   "execution_count": null,
   "id": "765b99e7",
   "metadata": {},
   "outputs": [
    {
     "data": {
      "text/plain": [
       "(400, 26)"
      ]
     },
     "execution_count": 59,
     "metadata": {},
     "output_type": "execute_result"
    }
   ],
   "source": [
    "# Shape of Dataframe\n",
    "df.shape"
   ]
  },
  {
   "cell_type": "code",
   "execution_count": 64,
   "id": "7f43b377",
   "metadata": {},
   "outputs": [
    {
     "name": "stdout",
     "output_type": "stream",
     "text": [
      "          0         1         2         3         4\n",
      "A  0.341168  0.630757  0.564987  0.350649  0.494858\n",
      "B  0.616518  0.331293  0.650743  0.876750  0.178998\n",
      "C  0.873079  0.662406  0.643370  0.554441  0.776991\n",
      "D  0.455924  0.982054  0.331433  0.852769  0.265485\n",
      "E  0.481180  0.447248  0.656953  0.962504  0.088519\n",
      "F  0.705164  0.195136  0.450161  0.918509  0.843035\n",
      "G  0.627496  0.938368  0.295262  0.727497  0.101376\n",
      "H  0.011001  0.647155  0.231276  0.220705  0.581116\n",
      "I  0.855068  0.292898  0.166548  0.898537  0.643525\n",
      "J  0.518703  0.271481  0.651078  0.037832  0.743861\n",
      "K  0.943209  0.559847  0.315802  0.093768  0.643451\n",
      "L  0.594810  0.472309  0.305856  0.544249  0.149985\n",
      "M  0.793060  0.904108  0.160458  0.112206  0.653428\n",
      "N  0.473050  0.431263  0.909467  0.755685  0.633583\n",
      "O  0.276476  0.404399  0.971518  0.134920  0.427567\n",
      "P  0.101677  0.452619  0.722424  0.431445  0.497897\n",
      "Q  0.293306  0.127569  0.538191  0.460372  0.685380\n",
      "R  0.205672  0.329981  0.798245  0.298839  0.395505\n",
      "S  0.010637  0.730657  0.248265  0.087027  0.332618\n",
      "T  0.374104  0.661564  0.751442  0.912799  0.162397\n",
      "U  0.055131  0.916416  0.651637  0.850515  0.594388\n",
      "V  0.217205  0.103824  0.891762  0.202683  0.948638\n",
      "W  0.863592  0.192584  0.748343  0.513210  0.515531\n",
      "X  0.693841  0.328797  0.823038  0.880552  0.343334\n",
      "Y  0.144294  0.860109  0.812815  0.307766  0.917935\n",
      "Z  0.454046  0.641860  0.184401  0.445812  0.241294\n"
     ]
    }
   ],
   "source": [
    "# Transposing the DataFrame\n",
    "print(df.head(5).T)"
   ]
  },
  {
   "cell_type": "code",
   "execution_count": 66,
   "id": "691c90f5",
   "metadata": {},
   "outputs": [
    {
     "name": "stdout",
     "output_type": "stream",
     "text": [
      "                A           B           C           D           E           F  \\\n",
      "count  400.000000  400.000000  400.000000  400.000000  400.000000  400.000000   \n",
      "mean     0.484261    0.513876    0.504716    0.492790    0.502330    0.529610   \n",
      "std      0.300254    0.289367    0.296583    0.284042    0.290841    0.293960   \n",
      "min      0.001503    0.000272    0.001967    0.002319    0.000012    0.001876   \n",
      "25%      0.208658    0.277467    0.238306    0.245884    0.263168    0.280904   \n",
      "50%      0.487678    0.499938    0.498585    0.502459    0.498962    0.544777   \n",
      "75%      0.751218    0.771143    0.777002    0.717763    0.746438    0.795337   \n",
      "max      0.998593    0.998133    0.997637    0.999388    0.999126    0.999612   \n",
      "\n",
      "                G           H           I           J  ...           Q  \\\n",
      "count  400.000000  400.000000  400.000000  400.000000  ...  400.000000   \n",
      "mean     0.476792    0.472836    0.490954    0.506274  ...    0.490667   \n",
      "std      0.291503    0.296670    0.293686    0.273938  ...    0.286031   \n",
      "min      0.000086    0.000081    0.001148    0.004546  ...    0.002697   \n",
      "25%      0.221742    0.223412    0.232073    0.274148  ...    0.248295   \n",
      "50%      0.471282    0.450945    0.487531    0.500925  ...    0.496889   \n",
      "75%      0.732994    0.721544    0.744521    0.729884  ...    0.733035   \n",
      "max      0.999141    0.999916    0.997082    0.997029  ...    0.991599   \n",
      "\n",
      "                R           S           T           U           V           W  \\\n",
      "count  400.000000  400.000000  400.000000  400.000000  400.000000  400.000000   \n",
      "mean     0.496380    0.485327    0.506373    0.474897    0.514905    0.486954   \n",
      "std      0.299881    0.292853    0.280468    0.290718    0.294502    0.285670   \n",
      "min      0.006146    0.000700    0.002657    0.003484    0.002244    0.000015   \n",
      "25%      0.231560    0.228690    0.260234    0.226851    0.240786    0.248421   \n",
      "50%      0.490962    0.478560    0.504811    0.458932    0.546213    0.458111   \n",
      "75%      0.759753    0.732244    0.743445    0.719978    0.778260    0.731811   \n",
      "max      0.998568    0.994938    0.999060    0.999148    0.993953    0.996268   \n",
      "\n",
      "                X           Y           Z  \n",
      "count  400.000000  400.000000  400.000000  \n",
      "mean     0.496154    0.505893    0.504021  \n",
      "std      0.290557    0.293719    0.276691  \n",
      "min      0.000577    0.000599    0.001162  \n",
      "25%      0.243074    0.240944    0.270915  \n",
      "50%      0.482129    0.495476    0.505123  \n",
      "75%      0.736651    0.753899    0.743309  \n",
      "max      0.999505    0.999981    0.998471  \n",
      "\n",
      "[8 rows x 26 columns]\n"
     ]
    }
   ],
   "source": [
    "# Get the statistical summary of the Dataframe\n",
    "df.describe()\n",
    "print(df.describe())"
   ]
  },
  {
   "cell_type": "code",
   "execution_count": 67,
   "id": "09c91226",
   "metadata": {},
   "outputs": [
    {
     "name": "stdout",
     "output_type": "stream",
     "text": [
      "   count      mean       std       min       25%       50%       75%       max\n",
      "A  400.0  0.484261  0.300254  0.001503  0.208658  0.487678  0.751218  0.998593\n",
      "B  400.0  0.513876  0.289367  0.000272  0.277467  0.499938  0.771143  0.998133\n",
      "C  400.0  0.504716  0.296583  0.001967  0.238306  0.498585  0.777002  0.997637\n",
      "D  400.0  0.492790  0.284042  0.002319  0.245884  0.502459  0.717763  0.999388\n",
      "E  400.0  0.502330  0.290841  0.000012  0.263168  0.498962  0.746438  0.999126\n",
      "F  400.0  0.529610  0.293960  0.001876  0.280904  0.544777  0.795337  0.999612\n",
      "G  400.0  0.476792  0.291503  0.000086  0.221742  0.471282  0.732994  0.999141\n",
      "H  400.0  0.472836  0.296670  0.000081  0.223412  0.450945  0.721544  0.999916\n",
      "I  400.0  0.490954  0.293686  0.001148  0.232073  0.487531  0.744521  0.997082\n",
      "J  400.0  0.506274  0.273938  0.004546  0.274148  0.500925  0.729884  0.997029\n",
      "K  400.0  0.505335  0.285243  0.001222  0.280320  0.523371  0.743092  0.997568\n",
      "L  400.0  0.497006  0.287904  0.003670  0.246275  0.509434  0.746531  0.998474\n",
      "M  400.0  0.488247  0.291446  0.001452  0.220292  0.467276  0.757326  0.998777\n",
      "N  400.0  0.498605  0.283312  0.000876  0.255307  0.521226  0.738751  0.987489\n",
      "O  400.0  0.506580  0.290538  0.000015  0.251517  0.512020  0.743784  0.999708\n",
      "P  400.0  0.484924  0.300303  0.000220  0.206846  0.483128  0.759735  0.996929\n",
      "Q  400.0  0.490667  0.286031  0.002697  0.248295  0.496889  0.733035  0.991599\n",
      "R  400.0  0.496380  0.299881  0.006146  0.231560  0.490962  0.759753  0.998568\n",
      "S  400.0  0.485327  0.292853  0.000700  0.228690  0.478560  0.732244  0.994938\n",
      "T  400.0  0.506373  0.280468  0.002657  0.260234  0.504811  0.743445  0.999060\n",
      "U  400.0  0.474897  0.290718  0.003484  0.226851  0.458932  0.719978  0.999148\n",
      "V  400.0  0.514905  0.294502  0.002244  0.240786  0.546213  0.778260  0.993953\n",
      "W  400.0  0.486954  0.285670  0.000015  0.248421  0.458111  0.731811  0.996268\n",
      "X  400.0  0.496154  0.290557  0.000577  0.243074  0.482129  0.736651  0.999505\n",
      "Y  400.0  0.505893  0.293719  0.000599  0.240944  0.495476  0.753899  0.999981\n",
      "Z  400.0  0.504021  0.276691  0.001162  0.270915  0.505123  0.743309  0.998471\n"
     ]
    }
   ],
   "source": [
    "# Get the transpose  statistical summary of the Dataframe\n",
    "df.describe()\n",
    "print(df.describe().T)"
   ]
  },
  {
   "cell_type": "markdown",
   "id": "3a071c8c",
   "metadata": {},
   "source": [
    "# Reshaping a Dataframe"
   ]
  },
  {
   "cell_type": "code",
   "execution_count": 69,
   "id": "eb4544d1",
   "metadata": {},
   "outputs": [
    {
     "name": "stdout",
     "output_type": "stream",
     "text": [
      "     zip  factory  warehouse  retail\n",
      "0  12345      100        200     300\n",
      "1  34567      400        500     600\n",
      "2  67890      700        800     900\n"
     ]
    }
   ],
   "source": [
    "# Creating a Dataframe\n",
    "\n",
    "distance = pd.DataFrame([[\"12345\",100,200,300],[\"34567\",400,500,600],[\"67890\",700,800,900]], columns=[\"zip\",\"factory\",\"warehouse\",\"retail\"])\n",
    "print(distance)"
   ]
  },
  {
   "cell_type": "code",
   "execution_count": 70,
   "id": "d2d43b8e",
   "metadata": {},
   "outputs": [
    {
     "name": "stdout",
     "output_type": "stream",
     "text": [
      "               0      1      2\n",
      "zip        12345  34567  67890\n",
      "factory      100    400    700\n",
      "warehouse    200    500    800\n",
      "retail       300    600    900\n"
     ]
    }
   ],
   "source": [
    "# Transposing the Dataframe.\n",
    "print(distance.T)"
   ]
  },
  {
   "cell_type": "code",
   "execution_count": null,
   "id": "d2a73d5c",
   "metadata": {},
   "outputs": [
    {
     "name": "stdout",
     "output_type": "stream",
     "text": [
      "  user_id    zip location_type\n",
      "0       1  12345       factory\n",
      "1       2  34567     warehouse\n"
     ]
    }
   ],
   "source": [
    "# Creating the Dataframe\n",
    "distance2 = pd.DataFrame([[\"1\",\"12345\",\"factory\"],[\"2\",\"34567\",\"warehouse\"]],columns=['user_id',\"zip\",\"location_type\"])\n",
    "print(distance2)"
   ]
  },
  {
   "cell_type": "code",
   "execution_count": 72,
   "id": "f9963ff5",
   "metadata": {},
   "outputs": [
    {
     "name": "stdout",
     "output_type": "stream",
     "text": [
      "                     0          1\n",
      "user_id              1          2\n",
      "zip              12345      34567\n",
      "location_type  factory  warehouse\n"
     ]
    }
   ],
   "source": [
    "# Transposing the Dataframe\n",
    "print(distance2.T)"
   ]
  }
 ],
 "metadata": {
  "kernelspec": {
   "display_name": "pandas_pratice",
   "language": "python",
   "name": "python3"
  },
  "language_info": {
   "codemirror_mode": {
    "name": "ipython",
    "version": 3
   },
   "file_extension": ".py",
   "mimetype": "text/x-python",
   "name": "python",
   "nbconvert_exporter": "python",
   "pygments_lexer": "ipython3",
   "version": "3.13.0"
  }
 },
 "nbformat": 4,
 "nbformat_minor": 5
}
