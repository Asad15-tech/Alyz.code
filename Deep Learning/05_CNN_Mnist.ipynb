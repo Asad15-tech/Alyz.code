{
 "cells": [
  {
   "cell_type": "markdown",
   "id": "624758da",
   "metadata": {},
   "source": [
    "# 📘 Convolutional Neural Network (CNN) – Theoretical Explanation\n",
    "\n",
    "## 🔹 Introduction\n",
    "A **Convolutional Neural Network (CNN)** is a type of deep learning model mainly used for **image recognition, classification, and computer vision tasks**.  \n",
    "Unlike traditional neural networks, CNNs can **automatically learn spatial hierarchies of features** from images (edges → shapes → objects).  \n",
    "\n",
    "---\n",
    "\n",
    "## 🔹 Why CNN?\n",
    "- Traditional **Fully Connected Neural Networks (MLPs)** struggle with image data because:\n",
    "  - Too many parameters (images have thousands of pixels).\n",
    "  - They don’t preserve spatial information (which pixel is near which one).\n",
    "- CNN solves these by:\n",
    "  - **Reducing parameters** using convolution and pooling.\n",
    "  - **Preserving local patterns** (edges, corners, textures).\n",
    "\n",
    "---\n",
    "\n",
    "## 🔹 CNN Architecture Components\n",
    "\n",
    "### 1. **Input Layer**\n",
    "- Accepts raw image data (e.g., 28x28 grayscale or 224x224 RGB).\n",
    "- Images are usually represented as **tensors**:  \n",
    "  - Grayscale → (Height × Width × 1)  \n",
    "  - RGB → (Height × Width × 3)\n",
    "\n",
    "---\n",
    "\n",
    "### 2. **Convolutional Layer**\n",
    "- The **heart of CNN**.\n",
    "- Uses **filters (kernels)** that slide over the image to detect features.\n",
    "- Each filter detects different patterns (e.g., edges, corners, textures).\n",
    "- Output = **Feature Map** (or Activation Map).\n",
    "\n",
    "**Mathematical Idea:**  \n",
    "Convolution = element-wise multiplication + summation of overlapping region.\n",
    "\n",
    "---\n",
    "\n",
    "### 3. **Activation Function (ReLU)**\n",
    "- After convolution, we apply **ReLU (Rectified Linear Unit)**.\n",
    "- Why? To introduce **non-linearity** (since images are not just linear data).\n",
    "- Formula: Relu(x) = max(0, x)\n",
    "---\n",
    "\n",
    "---\n",
    "\n",
    "### 4. **Pooling Layer (Downsampling)**\n",
    "- Reduces the size of feature maps → **fewer computations, avoids overfitting**.\n",
    "- Common types:\n",
    "- **Max Pooling** → takes maximum value from patch.\n",
    "- **Average Pooling** → takes average value from patch.\n",
    "\n",
    "---\n",
    "\n",
    "### 5. **Fully Connected Layer (Dense Layer)**\n",
    "- Flattens the pooled feature maps into a vector.\n",
    "- Passes through traditional neural network layers.\n",
    "- Learns **high-level combinations of features**.\n",
    "\n",
    "---\n",
    "\n",
    "### 6. **Output Layer**\n",
    "- Usually a **Softmax layer** (for classification).\n",
    "- Outputs probability distribution across classes (e.g., dog: 0.8, cat: 0.1, car: 0.1).\n",
    "\n",
    "---\n",
    "\n",
    "## 🔹 CNN Pipeline (Step by Step)\n",
    "1. **Input Image** (e.g., cat picture).\n",
    "2. **Convolution** → detect low-level features (edges, corners).\n",
    "3. **ReLU** → keep only positive values.\n",
    "4. **Pooling** → reduce size, keep important features.\n",
    "5. Repeat **Conv + ReLU + Pooling** multiple times (deeper network).\n",
    "6. **Flatten** → convert to 1D vector.\n",
    "7. **Fully Connected Layers** → learn complex features.\n",
    "8. **Output Layer** → predict the class.\n",
    "\n",
    "---\n",
    "\n",
    "## 🔹 Key Advantages of CNN\n",
    "- **Automatic Feature Extraction** (no manual feature engineering).\n",
    "- **Parameter Sharing** (same filter is reused → fewer weights).\n",
    "- **Translation Invariance** (can detect object regardless of position).\n",
    "\n",
    "---\n",
    "\n",
    "## 🔹 Real-Life Example\n",
    "👀 Suppose you want to detect whether an image is of a **cat or dog**:  \n",
    "- **Convolution Layer 1**: detects edges, fur patterns.  \n",
    "- **Convolution Layer 2**: detects ears, eyes, nose shape.  \n",
    "- **Convolution Layer 3**: detects overall face/head.  \n",
    "- **Fully Connected Layer**: decides → \"This looks 90% like a Cat, 10% Dog\".  \n",
    "\n",
    "---\n",
    "\n",
    "## 🔹 Applications of CNN\n",
    "- Image classification (Cats vs Dogs, MNIST digits).\n",
    "- Object detection (YOLO, Faster R-CNN).\n",
    "- Face recognition.\n",
    "- Medical image analysis (X-ray, MRI).\n",
    "- Self-driving cars (road signs, pedestrians).\n",
    "- Natural Language Processing (using 1D CNNs for text).\n",
    "\n",
    "---\n",
    "\n",
    "## 🔹 Limitations of CNN\n",
    "- Requires **large labeled datasets**.\n",
    "- **High computational cost** (needs GPU/TPU).\n",
    "- Not rotation/scale invariant (unless trained with augmentation).\n",
    "\n",
    "---\n",
    "\n",
    "## 🔹 Summary\n",
    "A **Convolutional Neural Network (CNN)** is a powerful deep learning model that:\n",
    "- Uses convolution to extract features.\n",
    "- Uses pooling to reduce dimensionality.\n",
    "- Uses fully connected layers for classification.  \n",
    "It mimics the way the human brain processes visual data and has revolutionized computer vision tasks.\n",
    "\n",
    "---\n",
    "✅ **In short:** CNN learns to see like humans – starting from edges → shapes → objects → decisions.\n",
    "\n",
    "\n"
   ]
  },
  {
   "cell_type": "code",
   "execution_count": 118,
   "id": "08d0a6a0",
   "metadata": {},
   "outputs": [],
   "source": [
    "# Imporitng Libraries\n",
    "import pandas as pd\n",
    "import numpy as np\n",
    "import matplotlib.pyplot as plt\n",
    "import tensorflow as tf\n",
    "from tensorflow import keras\n",
    "from tensorflow.keras import layers\n",
    "from tensorflow.keras.models import Sequential"
   ]
  },
  {
   "cell_type": "code",
   "execution_count": 119,
   "id": "8679e256",
   "metadata": {},
   "outputs": [],
   "source": [
    "# Let's Load the Dataset\n",
    "(X_train, y_train), (X_test,y_test) = keras.datasets.mnist.load_data()"
   ]
  },
  {
   "cell_type": "code",
   "execution_count": 120,
   "id": "5ec199ad",
   "metadata": {},
   "outputs": [
    {
     "name": "stdout",
     "output_type": "stream",
     "text": [
      "We have 60000 images in the Training Dataset and 10000 in the Testing Dataset.\n"
     ]
    }
   ],
   "source": [
    "# Let's check the shape of dataset\n",
    "print(f\"We have {len(X_train)} images in the Training Dataset and {len(X_test)} in the Testing Dataset.\")"
   ]
  },
  {
   "cell_type": "code",
   "execution_count": 121,
   "id": "22dff2fa",
   "metadata": {},
   "outputs": [
    {
     "name": "stdout",
     "output_type": "stream",
     "text": [
      "Shape of X_train: (60000, 28, 28)\n",
      "Shape of X_test: (10000, 28, 28)\n",
      "Shape of y_train: (60000,)\n",
      "Shape of y_test: (10000,)\n"
     ]
    }
   ],
   "source": [
    "print(f\"Shape of X_train:\", X_train.shape)\n",
    "print(f\"Shape of X_test:\", X_test.shape)\n",
    "print(f\"Shape of y_train:\", y_train.shape)\n",
    "print(f\"Shape of y_test:\", y_test.shape)\n",
    "\n"
   ]
  },
  {
   "cell_type": "code",
   "execution_count": 122,
   "id": "2ee97a0d",
   "metadata": {},
   "outputs": [
    {
     "data": {
      "image/png": "[encoded data removed]",
      "text/plain": [
       "<Figure size 700x700 with 20 Axes>"
      ]
     },
     "metadata": {},
     "output_type": "display_data"
    }
   ],
   "source": [
    "# Display some sample images\n",
    "plt.figure(figsize=(7,7))\n",
    "for i in range(20):\n",
    "    plt.subplot(5, 5, i + 1)\n",
    "    plt.xticks([])\n",
    "    plt.yticks([])\n",
    "    plt.grid(False)\n",
    "    plt.imshow(X_train[i], cmap=plt.cm.binary)\n",
    "    plt.xlabel(y_train[i])\n",
    "plt.show()"
   ]
  },
  {
   "cell_type": "code",
   "execution_count": 123,
   "id": "f7af6d15",
   "metadata": {},
   "outputs": [
    {
     "data": {
      "image/png": "[encoded data removed]",
      "text/plain": [
       "<Figure size 640x480 with 1 Axes>"
      ]
     },
     "metadata": {},
     "output_type": "display_data"
    },
    {
     "name": "stdout",
     "output_type": "stream",
     "text": [
      "Pixel values:\n",
      "  0   0   0   0   0   0   0   0   0   0   0   0   0   0   0   0   0   0   0   0   0   0   0   0   0   0   0   0 \n",
      "  0   0   0   0   0   0   0   0   0   0   0   0   0   0   0   0   0   0   0   0   0   0   0   0   0   0   0   0 \n",
      "  0   0   0   0   0   0   0   0   0   0   0   0   0   0   0   0   0   0   0   0   0   0   0   0   0   0   0   0 \n",
      "  0   0   0   0   0   0   0   0   0   0   0   0   0   0   0   0   0   0   0   0   0   0   0   0   0   0   0   0 \n",
      "  0   0   0   0   0   0   0   0   0   0   0   0   0   0   0   0   0   0   0   0   0   0   0   0   0   0   0   0 \n",
      "  0   0   0   0   0   0   0   0   0   0   0   0   0   0   0   0   0   0   0   0   0   0   0   0   0   0   0   0 \n",
      "  0   0   0   0   0   0   0   0   0   0   0   0   0   0   0   0   0   0   0   0   0   0   0   0   0   0   0   0 \n",
      "  0   0   0   0   0   0   0   0   0   0   0   0  55 148 210 253 253 113  87 148  55   0   0   0   0   0   0   0 \n",
      "  0   0   0   0   0   0   0   0   0   0   0  87 232 252 253 189 210 252 252 253 168   0   0   0   0   0   0   0 \n",
      "  0   0   0   0   0   0   0   0   0   4  57 242 252 190  65   5  12 182 252 253 116   0   0   0   0   0   0   0 \n",
      "  0   0   0   0   0   0   0   0   0  96 252 252 183  14   0   0  92 252 252 225  21   0   0   0   0   0   0   0 \n",
      "  0   0   0   0   0   0   0   0 132 253 252 146  14   0   0   0 215 252 252  79   0   0   0   0   0   0   0   0 \n",
      "  0   0   0   0   0   0   0 126 253 247 176   9   0   0   8  78 245 253 129   0   0   0   0   0   0   0   0   0 \n",
      "  0   0   0   0   0   0  16 232 252 176   0   0   0  36 201 252 252 169  11   0   0   0   0   0   0   0   0   0 \n",
      "  0   0   0   0   0   0  22 252 252  30  22 119 197 241 253 252 251  77   0   0   0   0   0   0   0   0   0   0 \n",
      "  0   0   0   0   0   0  16 231 252 253 252 252 252 226 227 252 231   0   0   0   0   0   0   0   0   0   0   0 \n",
      "  0   0   0   0   0   0   0  55 235 253 217 138  42  24 192 252 143   0   0   0   0   0   0   0   0   0   0   0 \n",
      "  0   0   0   0   0   0   0   0   0   0   0   0   0  62 255 253 109   0   0   0   0   0   0   0   0   0   0   0 \n",
      "  0   0   0   0   0   0   0   0   0   0   0   0   0  71 253 252  21   0   0   0   0   0   0   0   0   0   0   0 \n",
      "  0   0   0   0   0   0   0   0   0   0   0   0   0   0 253 252  21   0   0   0   0   0   0   0   0   0   0   0 \n",
      "  0   0   0   0   0   0   0   0   0   0   0   0   0  71 253 252  21   0   0   0   0   0   0   0   0   0   0   0 \n",
      "  0   0   0   0   0   0   0   0   0   0   0   0   0 106 253 252  21   0   0   0   0   0   0   0   0   0   0   0 \n",
      "  0   0   0   0   0   0   0   0   0   0   0   0   0  45 255 253  21   0   0   0   0   0   0   0   0   0   0   0 \n",
      "  0   0   0   0   0   0   0   0   0   0   0   0   0   0 218 252  56   0   0   0   0   0   0   0   0   0   0   0 \n",
      "  0   0   0   0   0   0   0   0   0   0   0   0   0   0  96 252 189  42   0   0   0   0   0   0   0   0   0   0 \n",
      "  0   0   0   0   0   0   0   0   0   0   0   0   0   0  14 184 252 170  11   0   0   0   0   0   0   0   0   0 \n",
      "  0   0   0   0   0   0   0   0   0   0   0   0   0   0   0  14 147 252  42   0   0   0   0   0   0   0   0   0 \n",
      "  0   0   0   0   0   0   0   0   0   0   0   0   0   0   0   0   0   0   0   0   0   0   0   0   0   0   0   0 \n"
     ]
    }
   ],
   "source": [
    "# Display the fifth image in the dataset as a data matrix\n",
    "plt.imshow(X_train[4], cmap=\"gray\")\n",
    "plt.xticks([])\n",
    "plt.yticks([])\n",
    "plt.grid(False)\n",
    "plt.show()\n",
    "\n",
    "# Display the values of each pixel in the image\n",
    "print(\"Pixel values:\")\n",
    "for row in X_train[4]:\n",
    "    for pixel in row:\n",
    "        print(\"{:3}\".format(pixel), end=\" \")\n",
    "    print()"
   ]
  },
  {
   "cell_type": "code",
   "execution_count": 124,
   "id": "109ad1d3",
   "metadata": {},
   "outputs": [
    {
     "name": "stdout",
     "output_type": "stream",
     "text": [
      "\n",
      "Pixel values after normalization:\n",
      "0.000 0.000 0.000 0.000 0.000 0.000 0.000 0.000 0.000 0.000 0.000 0.000 0.000 0.000 0.000 0.000 0.000 0.000 0.000 0.000 0.000 0.000 0.000 0.000 0.000 0.000 0.000 0.000 \n",
      "0.000 0.000 0.000 0.000 0.000 0.000 0.000 0.000 0.000 0.000 0.000 0.000 0.000 0.000 0.000 0.000 0.000 0.000 0.000 0.000 0.000 0.000 0.000 0.000 0.000 0.000 0.000 0.000 \n",
      "0.000 0.000 0.000 0.000 0.000 0.000 0.000 0.000 0.000 0.000 0.000 0.000 0.000 0.000 0.000 0.000 0.000 0.000 0.000 0.000 0.000 0.000 0.000 0.000 0.000 0.000 0.000 0.000 \n",
      "0.000 0.000 0.000 0.000 0.000 0.000 0.000 0.000 0.000 0.000 0.000 0.000 0.000 0.000 0.000 0.000 0.000 0.000 0.000 0.000 0.000 0.000 0.000 0.000 0.000 0.000 0.000 0.000 \n",
      "0.000 0.000 0.000 0.000 0.000 0.000 0.000 0.000 0.000 0.000 0.000 0.000 0.000 0.000 0.000 0.000 0.000 0.000 0.000 0.000 0.000 0.000 0.000 0.000 0.000 0.000 0.000 0.000 \n",
      "0.000 0.000 0.000 0.000 0.000 0.000 0.000 0.000 0.000 0.000 0.000 0.000 0.012 0.071 0.071 0.071 0.494 0.533 0.686 0.102 0.651 1.000 0.969 0.498 0.000 0.000 0.000 0.000 \n",
      "0.000 0.000 0.000 0.000 0.000 0.000 0.000 0.000 0.118 0.141 0.369 0.604 0.667 0.992 0.992 0.992 0.992 0.992 0.882 0.675 0.992 0.949 0.765 0.251 0.000 0.000 0.000 0.000 \n",
      "0.000 0.000 0.000 0.000 0.000 0.000 0.000 0.192 0.933 0.992 0.992 0.992 0.992 0.992 0.992 0.992 0.992 0.984 0.365 0.322 0.322 0.220 0.153 0.000 0.000 0.000 0.000 0.000 \n",
      "0.000 0.000 0.000 0.000 0.000 0.000 0.000 0.071 0.859 0.992 0.992 0.992 0.992 0.992 0.776 0.714 0.969 0.945 0.000 0.000 0.000 0.000 0.000 0.000 0.000 0.000 0.000 0.000 \n",
      "0.000 0.000 0.000 0.000 0.000 0.000 0.000 0.000 0.314 0.612 0.420 0.992 0.992 0.804 0.043 0.000 0.169 0.604 0.000 0.000 0.000 0.000 0.000 0.000 0.000 0.000 0.000 0.000 \n",
      "0.000 0.000 0.000 0.000 0.000 0.000 0.000 0.000 0.000 0.055 0.004 0.604 0.992 0.353 0.000 0.000 0.000 0.000 0.000 0.000 0.000 0.000 0.000 0.000 0.000 0.000 0.000 0.000 \n",
      "0.000 0.000 0.000 0.000 0.000 0.000 0.000 0.000 0.000 0.000 0.000 0.545 0.992 0.745 0.008 0.000 0.000 0.000 0.000 0.000 0.000 0.000 0.000 0.000 0.000 0.000 0.000 0.000 \n",
      "0.000 0.000 0.000 0.000 0.000 0.000 0.000 0.000 0.000 0.000 0.000 0.043 0.745 0.992 0.275 0.000 0.000 0.000 0.000 0.000 0.000 0.000 0.000 0.000 0.000 0.000 0.000 0.000 \n",
      "0.000 0.000 0.000 0.000 0.000 0.000 0.000 0.000 0.000 0.000 0.000 0.000 0.137 0.945 0.882 0.627 0.424 0.004 0.000 0.000 0.000 0.000 0.000 0.000 0.000 0.000 0.000 0.000 \n",
      "0.000 0.000 0.000 0.000 0.000 0.000 0.000 0.000 0.000 0.000 0.000 0.000 0.000 0.318 0.941 0.992 0.992 0.467 0.098 0.000 0.000 0.000 0.000 0.000 0.000 0.000 0.000 0.000 \n",
      "0.000 0.000 0.000 0.000 0.000 0.000 0.000 0.000 0.000 0.000 0.000 0.000 0.000 0.000 0.176 0.729 0.992 0.992 0.588 0.106 0.000 0.000 0.000 0.000 0.000 0.000 0.000 0.000 \n",
      "0.000 0.000 0.000 0.000 0.000 0.000 0.000 0.000 0.000 0.000 0.000 0.000 0.000 0.000 0.000 0.063 0.365 0.988 0.992 0.733 0.000 0.000 0.000 0.000 0.000 0.000 0.000 0.000 \n",
      "0.000 0.000 0.000 0.000 0.000 0.000 0.000 0.000 0.000 0.000 0.000 0.000 0.000 0.000 0.000 0.000 0.000 0.976 0.992 0.976 0.251 0.000 0.000 0.000 0.000 0.000 0.000 0.000 \n",
      "0.000 0.000 0.000 0.000 0.000 0.000 0.000 0.000 0.000 0.000 0.000 0.000 0.000 0.000 0.180 0.510 0.718 0.992 0.992 0.812 0.008 0.000 0.000 0.000 0.000 0.000 0.000 0.000 \n",
      "0.000 0.000 0.000 0.000 0.000 0.000 0.000 0.000 0.000 0.000 0.000 0.000 0.153 0.580 0.898 0.992 0.992 0.992 0.980 0.714 0.000 0.000 0.000 0.000 0.000 0.000 0.000 0.000 \n",
      "0.000 0.000 0.000 0.000 0.000 0.000 0.000 0.000 0.000 0.000 0.094 0.447 0.867 0.992 0.992 0.992 0.992 0.788 0.306 0.000 0.000 0.000 0.000 0.000 0.000 0.000 0.000 0.000 \n",
      "0.000 0.000 0.000 0.000 0.000 0.000 0.000 0.000 0.090 0.259 0.835 0.992 0.992 0.992 0.992 0.776 0.318 0.008 0.000 0.000 0.000 0.000 0.000 0.000 0.000 0.000 0.000 0.000 \n",
      "0.000 0.000 0.000 0.000 0.000 0.000 0.071 0.671 0.859 0.992 0.992 0.992 0.992 0.765 0.314 0.035 0.000 0.000 0.000 0.000 0.000 0.000 0.000 0.000 0.000 0.000 0.000 0.000 \n",
      "0.000 0.000 0.000 0.000 0.216 0.675 0.886 0.992 0.992 0.992 0.992 0.957 0.522 0.043 0.000 0.000 0.000 0.000 0.000 0.000 0.000 0.000 0.000 0.000 0.000 0.000 0.000 0.000 \n",
      "0.000 0.000 0.000 0.000 0.533 0.992 0.992 0.992 0.831 0.529 0.518 0.063 0.000 0.000 0.000 0.000 0.000 0.000 0.000 0.000 0.000 0.000 0.000 0.000 0.000 0.000 0.000 0.000 \n",
      "0.000 0.000 0.000 0.000 0.000 0.000 0.000 0.000 0.000 0.000 0.000 0.000 0.000 0.000 0.000 0.000 0.000 0.000 0.000 0.000 0.000 0.000 0.000 0.000 0.000 0.000 0.000 0.000 \n",
      "0.000 0.000 0.000 0.000 0.000 0.000 0.000 0.000 0.000 0.000 0.000 0.000 0.000 0.000 0.000 0.000 0.000 0.000 0.000 0.000 0.000 0.000 0.000 0.000 0.000 0.000 0.000 0.000 \n",
      "0.000 0.000 0.000 0.000 0.000 0.000 0.000 0.000 0.000 0.000 0.000 0.000 0.000 0.000 0.000 0.000 0.000 0.000 0.000 0.000 0.000 0.000 0.000 0.000 0.000 0.000 0.000 0.000 \n"
     ]
    }
   ],
   "source": [
    "# Let's Normalize the data.\n",
    "X_train = X_train.astype('float32') / 255.0\n",
    "X_test = X_test.astype('float32') / 255.0\n",
    "\n",
    "print(\"\\nPixel values after normalization:\")\n",
    "for row in X_train[0]:\n",
    "    for pixel in row:\n",
    "        print(\"{:0.3f}\".format(pixel), end=\" \")\n",
    "    print()\n",
    "    "
   ]
  },
  {
   "cell_type": "code",
   "execution_count": 125,
   "id": "7b2d9c7e",
   "metadata": {},
   "outputs": [
    {
     "name": "stdout",
     "output_type": "stream",
     "text": [
      "Model: \"sequential_5\"\n",
      "_________________________________________________________________\n",
      " Layer (type)                Output Shape              Param #   \n",
      "=================================================================\n",
      " conv2d_18 (Conv2D)          (None, 26, 26, 10)        100       \n",
      "                                                                 \n",
      " conv2d_19 (Conv2D)          (None, 24, 24, 10)        910       \n",
      "                                                                 \n",
      " max_pooling2d_10 (MaxPoolin  (None, 12, 12, 10)       0         \n",
      " g2D)                                                            \n",
      "                                                                 \n",
      " conv2d_20 (Conv2D)          (None, 10, 10, 10)        910       \n",
      "                                                                 \n",
      " conv2d_21 (Conv2D)          (None, 8, 8, 10)          910       \n",
      "                                                                 \n",
      " max_pooling2d_11 (MaxPoolin  (None, 4, 4, 10)         0         \n",
      " g2D)                                                            \n",
      "                                                                 \n",
      " flatten_5 (Flatten)         (None, 160)               0         \n",
      "                                                                 \n",
      " dense_6 (Dense)             (None, 10)                1610      \n",
      "                                                                 \n",
      "=================================================================\n",
      "Total params: 4,440\n",
      "Trainable params: 4,440\n",
      "Non-trainable params: 0\n",
      "_________________________________________________________________\n"
     ]
    }
   ],
   "source": [
    "# Let's Build the Model.\n",
    "import tensorflow as tf\n",
    "from tensorflow.keras import layers\n",
    "\n",
    "# create an input layer\n",
    "input_layer = tf.keras.layers.Input(shape=(28, 28, 1)) # 28x28 pixel images with a single color channel\n",
    "\n",
    "# CNN model building\n",
    "\n",
    "model = tf.keras.Sequential([\n",
    "    input_layer, # input layer\n",
    "    layers.Conv2D(filters=10, kernel_size=(3, 3), activation='relu'), # convolutional layer \n",
    "    # filter is the number of filters we want to apply\n",
    "    # kernel is the size of window/filter moving over the image\n",
    "    layers.Conv2D(filters=10, kernel_size=(3, 3),  activation='relu'), # convolutional layer\n",
    "    layers.MaxPooling2D(), # pooling layer\n",
    "    \n",
    "    layers.Conv2D(filters=10, kernel_size=(3, 3), activation='relu'), # convolutional layer\n",
    "    layers.Conv2D(filters=10, kernel_size=(3, 3), activation='relu'), # convolutional layer\n",
    "    layers.MaxPooling2D(), # pooling layer\n",
    "    \n",
    "    layers.Flatten(), # flatten layer\n",
    "    layers.Dense(10, activation='softmax') # output layer # why did we add 10?\n",
    "])\n",
    "\n",
    "model.summary()"
   ]
  },
  {
   "cell_type": "code",
   "execution_count": 126,
   "id": "217c4a85",
   "metadata": {},
   "outputs": [],
   "source": [
    "# Compile the model\n",
    "model.compile(optimizer='adam',\n",
    "              loss=tf.keras.losses.SparseCategoricalCrossentropy(),\n",
    "              metrics=['accuracy'])"
   ]
  },
  {
   "cell_type": "code",
   "execution_count": 127,
   "id": "bccf7086",
   "metadata": {},
   "outputs": [
    {
     "name": "stdout",
     "output_type": "stream",
     "text": [
      "Epoch 1/40\n",
      "1875/1875 [==============================] - 11s 5ms/step - loss: 0.2616 - accuracy: 0.9165 - val_loss: 0.0842 - val_accuracy: 0.9732\n",
      "Epoch 2/40\n",
      "1875/1875 [==============================] - 10s 5ms/step - loss: 0.0892 - accuracy: 0.9721 - val_loss: 0.0747 - val_accuracy: 0.9763\n",
      "Epoch 3/40\n",
      "1875/1875 [==============================] - 10s 5ms/step - loss: 0.0688 - accuracy: 0.9783 - val_loss: 0.0488 - val_accuracy: 0.9860\n",
      "Epoch 4/40\n",
      "1875/1875 [==============================] - 10s 5ms/step - loss: 0.0569 - accuracy: 0.9830 - val_loss: 0.0521 - val_accuracy: 0.9833\n",
      "Epoch 5/40\n",
      "1875/1875 [==============================] - 11s 6ms/step - loss: 0.0496 - accuracy: 0.9841 - val_loss: 0.0401 - val_accuracy: 0.9873\n",
      "Epoch 6/40\n",
      "1875/1875 [==============================] - 11s 6ms/step - loss: 0.0438 - accuracy: 0.9862 - val_loss: 0.0363 - val_accuracy: 0.9883\n",
      "Epoch 7/40\n",
      "1875/1875 [==============================] - 10s 5ms/step - loss: 0.0392 - accuracy: 0.9877 - val_loss: 0.0329 - val_accuracy: 0.9894\n",
      "Epoch 8/40\n",
      "1875/1875 [==============================] - 10s 5ms/step - loss: 0.0358 - accuracy: 0.9885 - val_loss: 0.0384 - val_accuracy: 0.9875\n",
      "Epoch 9/40\n",
      "1875/1875 [==============================] - 10s 5ms/step - loss: 0.0333 - accuracy: 0.9891 - val_loss: 0.0341 - val_accuracy: 0.9882\n",
      "Epoch 10/40\n",
      "1875/1875 [==============================] - 10s 6ms/step - loss: 0.0307 - accuracy: 0.9901 - val_loss: 0.0360 - val_accuracy: 0.9888\n"
     ]
    }
   ],
   "source": [
    "from tensorflow.keras.callbacks import EarlyStopping\n",
    "\n",
    "# Define the callback function\n",
    "early_stopping = EarlyStopping(monitor='val_loss', patience=3, restore_best_weights=True)\n",
    "\n",
    "# Train the model\n",
    "history = model.fit(\n",
    "    X_train, y_train,\n",
    "    epochs=40,\n",
    "    batch_size=32,\n",
    "    validation_data=(X_test, y_test),\n",
    "    callbacks=[early_stopping]\n",
    ")\n"
   ]
  },
  {
   "cell_type": "code",
   "execution_count": 128,
   "id": "5c943114",
   "metadata": {},
   "outputs": [
    {
     "data": {
      "image/png": "[encoded data removed]",
      "text/plain": [
       "<Figure size 640x480 with 1 Axes>"
      ]
     },
     "metadata": {},
     "output_type": "display_data"
    }
   ],
   "source": [
    "import matplotlib.pyplot as plt\n",
    "\n",
    "# show the sixth test image\n",
    "plt.imshow(X_test[5].reshape(28,28), cmap='gray')  # 28x28 pixel gray image\n",
    "plt.title(f\"Label: {y_test[5]}\")\n",
    "plt.axis('off')\n",
    "plt.show()\n"
   ]
  },
  {
   "cell_type": "code",
   "execution_count": 129,
   "id": "779d8b5d",
   "metadata": {},
   "outputs": [
    {
     "data": {
      "image/png": "[encoded data removed]",
      "text/plain": [
       "<Figure size 640x480 with 1 Axes>"
      ]
     },
     "metadata": {},
     "output_type": "display_data"
    }
   ],
   "source": [
    "img = X_test[5].reshape(1,28,28,1)   # reshape for model input\n",
    "pred = model.predict(img, verbose=0).argmax()  # predicted label\n",
    "    \n",
    "plt.imshow(X_test[5].reshape(28,28), cmap='gray')\n",
    "plt.title(f\"True: {y_test[5]}  |  Pred: {pred}\")\n",
    "plt.axis('off')\n",
    "plt.show()"
   ]
  },
  {
   "cell_type": "code",
   "execution_count": 130,
   "id": "cb193944",
   "metadata": {},
   "outputs": [
    {
     "data": {
      "image/png": "[encoded data removed]",
      "text/plain": [
       "<Figure size 640x480 with 2 Axes>"
      ]
     },
     "metadata": {},
     "output_type": "display_data"
    }
   ],
   "source": [
    "# Ensure test data has correct shape (samples, 28, 28, 1)\n",
    "X_test_reshaped = X_test.reshape(-1, 28, 28, 1)\n",
    "\n",
    "# Predict all test images\n",
    "y_pred = model.predict(X_test_reshaped, verbose=0)\n",
    "y_pred_classes = np.argmax(y_pred, axis=1)  # convert probabilities to class index\n",
    "\n",
    "# Create confusion matrix\n",
    "cm = confusion_matrix(y_test, y_pred_classes)\n",
    "\n",
    "# Display confusion matrix\n",
    "disp = ConfusionMatrixDisplay(confusion_matrix=cm, display_labels=np.arange(10))\n",
    "disp.plot(cmap=plt.cm.Blues, xticks_rotation=45)\n",
    "plt.title(\"Confusion Matrix for MNIST CNN\")\n",
    "plt.show()\n"
   ]
  }
 ],
 "metadata": {
  "kernelspec": {
   "display_name": "gpu",
   "language": "python",
   "name": "python3"
  },
  "language_info": {
   "codemirror_mode": {
    "name": "ipython",
    "version": 3
   },
   "file_extension": ".py",
   "mimetype": "text/x-python",
   "name": "python",
   "nbconvert_exporter": "python",
   "pygments_lexer": "ipython3",
   "version": "3.10.15"
  }
 },
 "nbformat": 4,
 "nbformat_minor": 5
}
