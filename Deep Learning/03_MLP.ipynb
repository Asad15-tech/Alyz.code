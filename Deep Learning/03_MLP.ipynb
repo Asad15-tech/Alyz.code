{
 "cells": [
  {
   "cell_type": "markdown",
   "id": "bfe30087",
   "metadata": {},
   "source": [
    "# Multi Layer Perceptron (MLP)"
   ]
  },
  {
   "cell_type": "code",
   "execution_count": 71,
   "id": "626120ce",
   "metadata": {},
   "outputs": [],
   "source": [
    "# Importing Libraries\n",
    "import pandas as pd\n",
    "import numpy as np\n",
    "import seaborn as sns\n",
    "import matplotlib.pyplot as plt\n",
    "from sklearn.model_selection import train_test_split\n",
    "from sklearn.preprocessing import StandardScaler, LabelEncoder\n",
    "import tensorflow as tf\n",
    "from tensorflow import keras\n",
    "from tensorflow.keras import layers, models\n",
    "from tensorflow.keras.callbacks import EarlyStopping"
   ]
  },
  {
   "cell_type": "code",
   "execution_count": 72,
   "id": "a32e9944",
   "metadata": {},
   "outputs": [
    {
     "name": "stdout",
     "output_type": "stream",
     "text": [
      "   total_bill   tip     sex smoker  day    time  size\n",
      "0       16.99  1.01  Female     No  Sun  Dinner     2\n",
      "1       10.34  1.66    Male     No  Sun  Dinner     3\n",
      "2       21.01  3.50    Male     No  Sun  Dinner     3\n",
      "3       23.68  3.31    Male     No  Sun  Dinner     2\n",
      "4       24.59  3.61  Female     No  Sun  Dinner     4\n"
     ]
    }
   ],
   "source": [
    "# Load Dataset using Tip.\n",
    "df = sns.load_dataset(\"tips\")\n",
    "print(df.head())"
   ]
  },
  {
   "cell_type": "code",
   "execution_count": 73,
   "id": "15a853d6",
   "metadata": {},
   "outputs": [
    {
     "name": "stdout",
     "output_type": "stream",
     "text": [
      "Numerical columns: Index(['total_bill', 'tip', 'size'], dtype='object')\n",
      "Categorical columns: Index(['sex', 'smoker', 'day', 'time'], dtype='object')\n"
     ]
    }
   ],
   "source": [
    "# Let's check the number of numerical and categorical columns\n",
    "numerical_cols = df.select_dtypes(include=['float64', 'int64']).columns\n",
    "categorical_cols = df.select_dtypes(include=['object', 'category']).columns\n",
    "\n",
    "print(\"Numerical columns:\", numerical_cols)\n",
    "print(\"Categorical columns:\", categorical_cols) "
   ]
  },
  {
   "cell_type": "code",
   "execution_count": 74,
   "id": "010ed22f",
   "metadata": {},
   "outputs": [
    {
     "name": "stdout",
     "output_type": "stream",
     "text": [
      "total_bill    0\n",
      "tip           0\n",
      "sex           0\n",
      "smoker        0\n",
      "day           0\n",
      "time          0\n",
      "size          0\n",
      "dtype: int64\n"
     ]
    }
   ],
   "source": [
    "# Check for missing values\n",
    "print(df.isnull().sum())\n"
   ]
  },
  {
   "cell_type": "code",
   "execution_count": 75,
   "id": "274b2d04",
   "metadata": {},
   "outputs": [
    {
     "name": "stdout",
     "output_type": "stream",
     "text": [
      "   total_bill       tip     sex smoker  day    time      size\n",
      "0   -0.314711 -1.439947  Female     No  Sun  Dinner -0.600193\n",
      "1   -1.063235 -0.969205    Male     No  Sun  Dinner  0.453383\n",
      "2    0.137780  0.363356    Male     No  Sun  Dinner  0.453383\n",
      "3    0.438315  0.225754    Male     No  Sun  Dinner -0.600193\n",
      "4    0.540745  0.443020  Female     No  Sun  Dinner  1.506958\n"
     ]
    }
   ],
   "source": [
    "# Let's scale the nummerical columns using StandardScaler\n",
    "scaler = StandardScaler()\n",
    "df[numerical_cols] = scaler.fit_transform(df[numerical_cols])\n",
    "print(df.head())"
   ]
  },
  {
   "cell_type": "code",
   "execution_count": 76,
   "id": "3ef85c20",
   "metadata": {},
   "outputs": [
    {
     "name": "stdout",
     "output_type": "stream",
     "text": [
      "   total_bill       tip  sex  smoker  day  time      size\n",
      "0   -0.314711 -1.439947    0       0    2     0 -0.600193\n",
      "1   -1.063235 -0.969205    1       0    2     0  0.453383\n",
      "2    0.137780  0.363356    1       0    2     0  0.453383\n",
      "3    0.438315  0.225754    1       0    2     0 -0.600193\n",
      "4    0.540745  0.443020    0       0    2     0  1.506958\n"
     ]
    }
   ],
   "source": [
    "# Let's encode the categorical variables using Label Encoding\n",
    "label_encoders = {}\n",
    "for col in categorical_cols:\n",
    "    le = LabelEncoder()\n",
    "    df[col] = le.fit_transform(df[col])\n",
    "    label_encoders[col] = le\n",
    "print(df.head())    "
   ]
  },
  {
   "cell_type": "code",
   "execution_count": 77,
   "id": "7f0d2851",
   "metadata": {},
   "outputs": [
    {
     "name": "stdout",
     "output_type": "stream",
     "text": [
      "Epoch 1/100\n",
      "7/7 [==============================] - 1s 29ms/step - loss: 1.2129 - mae: 0.7808 - val_loss: 0.6550 - val_mae: 0.7119\n",
      "Epoch 2/100\n",
      "7/7 [==============================] - 0s 10ms/step - loss: 0.9483 - mae: 0.7046 - val_loss: 0.5576 - val_mae: 0.6569\n",
      "Epoch 3/100\n",
      "7/7 [==============================] - 0s 11ms/step - loss: 0.8273 - mae: 0.6618 - val_loss: 0.4964 - val_mae: 0.6052\n",
      "Epoch 4/100\n",
      "7/7 [==============================] - 0s 9ms/step - loss: 0.7264 - mae: 0.6226 - val_loss: 0.4321 - val_mae: 0.5528\n",
      "Epoch 5/100\n",
      "7/7 [==============================] - 0s 9ms/step - loss: 0.6924 - mae: 0.6014 - val_loss: 0.4121 - val_mae: 0.5321\n",
      "Epoch 6/100\n",
      "7/7 [==============================] - 0s 10ms/step - loss: 0.6452 - mae: 0.5781 - val_loss: 0.3845 - val_mae: 0.5108\n",
      "Epoch 7/100\n",
      "7/7 [==============================] - 0s 9ms/step - loss: 0.6184 - mae: 0.5620 - val_loss: 0.3576 - val_mae: 0.4912\n",
      "Epoch 8/100\n",
      "7/7 [==============================] - 0s 9ms/step - loss: 0.6012 - mae: 0.5526 - val_loss: 0.3507 - val_mae: 0.4850\n",
      "Epoch 9/100\n",
      "7/7 [==============================] - 0s 9ms/step - loss: 0.5909 - mae: 0.5492 - val_loss: 0.3420 - val_mae: 0.4784\n",
      "Epoch 10/100\n",
      "7/7 [==============================] - 0s 9ms/step - loss: 0.5763 - mae: 0.5441 - val_loss: 0.3551 - val_mae: 0.4853\n",
      "Epoch 11/100\n",
      "7/7 [==============================] - 0s 9ms/step - loss: 0.5639 - mae: 0.5426 - val_loss: 0.3587 - val_mae: 0.4920\n",
      "Epoch 12/100\n",
      "7/7 [==============================] - 0s 9ms/step - loss: 0.5578 - mae: 0.5457 - val_loss: 0.3596 - val_mae: 0.4955\n",
      "Epoch 13/100\n",
      "7/7 [==============================] - 0s 9ms/step - loss: 0.5517 - mae: 0.5430 - val_loss: 0.3193 - val_mae: 0.4667\n",
      "Epoch 14/100\n",
      "7/7 [==============================] - 0s 9ms/step - loss: 0.5491 - mae: 0.5349 - val_loss: 0.3083 - val_mae: 0.4573\n",
      "Epoch 15/100\n",
      "7/7 [==============================] - 0s 10ms/step - loss: 0.5384 - mae: 0.5294 - val_loss: 0.3456 - val_mae: 0.4821\n",
      "Epoch 16/100\n",
      "7/7 [==============================] - 0s 10ms/step - loss: 0.5334 - mae: 0.5346 - val_loss: 0.4007 - val_mae: 0.5152\n",
      "Epoch 17/100\n",
      "7/7 [==============================] - 0s 10ms/step - loss: 0.5272 - mae: 0.5318 - val_loss: 0.3628 - val_mae: 0.4857\n",
      "Epoch 18/100\n",
      "7/7 [==============================] - 0s 11ms/step - loss: 0.5158 - mae: 0.5156 - val_loss: 0.3273 - val_mae: 0.4657\n",
      "Epoch 19/100\n",
      "7/7 [==============================] - 0s 10ms/step - loss: 0.5163 - mae: 0.5154 - val_loss: 0.3307 - val_mae: 0.4664\n",
      "Epoch 20/100\n",
      "7/7 [==============================] - 0s 10ms/step - loss: 0.5092 - mae: 0.5128 - val_loss: 0.3484 - val_mae: 0.4753\n",
      "Epoch 21/100\n",
      "7/7 [==============================] - 0s 10ms/step - loss: 0.5028 - mae: 0.5146 - val_loss: 0.3762 - val_mae: 0.4934\n",
      "Epoch 22/100\n",
      "7/7 [==============================] - 0s 11ms/step - loss: 0.5023 - mae: 0.5175 - val_loss: 0.3684 - val_mae: 0.4839\n",
      "Epoch 23/100\n",
      "7/7 [==============================] - 0s 10ms/step - loss: 0.4967 - mae: 0.5098 - val_loss: 0.3490 - val_mae: 0.4713\n",
      "Epoch 24/100\n",
      "7/7 [==============================] - 0s 10ms/step - loss: 0.4951 - mae: 0.5029 - val_loss: 0.3521 - val_mae: 0.4725\n",
      "Epoch 25/100\n",
      "7/7 [==============================] - 0s 10ms/step - loss: 0.4848 - mae: 0.5011 - val_loss: 0.3767 - val_mae: 0.4911\n",
      "Epoch 26/100\n",
      "7/7 [==============================] - 0s 10ms/step - loss: 0.4900 - mae: 0.5107 - val_loss: 0.4046 - val_mae: 0.5108\n",
      "Epoch 27/100\n",
      "7/7 [==============================] - 0s 10ms/step - loss: 0.4871 - mae: 0.5084 - val_loss: 0.3772 - val_mae: 0.4894\n",
      "Epoch 28/100\n",
      "7/7 [==============================] - 0s 11ms/step - loss: 0.4782 - mae: 0.4986 - val_loss: 0.4016 - val_mae: 0.4972\n",
      "Epoch 29/100\n",
      "7/7 [==============================] - 0s 11ms/step - loss: 0.4775 - mae: 0.4985 - val_loss: 0.4074 - val_mae: 0.4987\n",
      "2/2 [==============================] - 0s 5ms/step - loss: 0.3083 - mae: 0.4573\n",
      "\n",
      "Test MAE: 0.4573\n"
     ]
    }
   ],
   "source": [
    "# -----------------------------\n",
    "# Build and Train MLP Model for Regression\n",
    "# -----------------------------\n",
    "\n",
    "# Separate features (X) and target variable (y)\n",
    "X = df.drop('tip', axis=1)   # All columns except 'tip'\n",
    "y = df['tip']                # Target variable: tip amount\n",
    "\n",
    "# Split dataset into training and testing sets (80% train, 20% test)\n",
    "X_train, X_test, y_train, y_test = train_test_split(\n",
    "    X, y, test_size=0.2, random_state=42\n",
    ")\n",
    "\n",
    "# Convert pandas DataFrames/Series into NumPy arrays (required by TensorFlow/Keras)\n",
    "X_train_np = X_train.to_numpy()\n",
    "X_test_np = X_test.to_numpy()\n",
    "y_train_np = y_train.to_numpy()\n",
    "y_test_np = y_test.to_numpy()\n",
    "\n",
    "# -----------------------------\n",
    "# Define the MLP model\n",
    "# -----------------------------\n",
    "model = models.Sequential()\n",
    "\n",
    "# Input layer + first hidden layer (64 neurons, ReLU activation)\n",
    "model.add(layers.Dense(64, activation='relu', input_shape=(X_train_np.shape[1],)))\n",
    "\n",
    "# Second hidden layer (32 neurons, ReLU activation)\n",
    "model.add(layers.Dense(32, activation='relu'))\n",
    "\n",
    "# Output layer (1 neuron for regression output, no activation)\n",
    "model.add(layers.Dense(1))\n",
    "\n",
    "# Compile the model with Adam optimizer, MSE loss, and MAE as evaluation metric\n",
    "model.compile(optimizer='adam', loss='mse', metrics=['mae'])\n",
    "\n",
    "# -----------------------------\n",
    "# Training the model\n",
    "# -----------------------------\n",
    "\n",
    "# Early stopping: stop training if validation loss doesn't improve for 15 epochs,\n",
    "# and restore the best weights\n",
    "earlystopping = EarlyStopping(patience=15, restore_best_weights=True)\n",
    "\n",
    "# Train the model with training data, validate on test data\n",
    "history = model.fit(\n",
    "    X_train_np, y_train_np,\n",
    "    validation_data=(X_test_np, y_test_np),\n",
    "    epochs=100,          # maximum epochs\n",
    "    batch_size=32,       # number of samples per gradient update\n",
    "    verbose=1,           # show training progress\n",
    "    callbacks=[earlystopping]  # apply early stopping\n",
    ")\n",
    "\n",
    "# -----------------------------\n",
    "# Evaluate the model\n",
    "# -----------------------------\n",
    "loss, mae = model.evaluate(X_test_np, y_test_np)\n",
    "print(f\"\\nTest MAE: {mae:.4f}\")  # Print Mean Absolute Error on test set\n",
    "\n"
   ]
  },
  {
   "cell_type": "code",
   "execution_count": 78,
   "id": "05b3760f",
   "metadata": {},
   "outputs": [
    {
     "name": "stdout",
     "output_type": "stream",
     "text": [
      "2/2 [==============================] - 0s 3ms/step\n",
      "\n",
      "Sample Predictions (Actual vs Predicted):\n",
      "Actual: 0.13   Predicted: -0.02\n",
      "Actual: -0.72   Predicted: -0.79\n",
      "Actual: -0.72   Predicted: 0.63\n",
      "Actual: 1.57   Predicted: 0.48\n",
      "Actual: -0.72   Predicted: -0.45\n",
      "Actual: -0.72   Predicted: -0.05\n",
      "Actual: -0.32   Predicted: 0.50\n",
      "Actual: -0.35   Predicted: -0.67\n",
      "Actual: 0.17   Predicted: -0.38\n",
      "Actual: 0.00   Predicted: -0.18\n"
     ]
    }
   ],
   "source": [
    "# -----------------------------\n",
    "# Predictions (Actual vs Predicted)\n",
    "# -----------------------------\n",
    "y_pred = model.predict(X_test_np)  # Get predictions for test data\n",
    "\n",
    "# Show first 10 comparisons\n",
    "print(\"\\nSample Predictions (Actual vs Predicted):\")\n",
    "for i in range(10):\n",
    "    print(f\"Actual: {y_test_np[i]:.2f}   Predicted: {y_pred[i][0]:.2f}\")\n",
    "\n"
   ]
  },
  {
   "cell_type": "code",
   "execution_count": 79,
   "id": "ea994afe",
   "metadata": {},
   "outputs": [
    {
     "data": {
      "image/png": "[encoded data removed]",
      "text/plain": [
       "<Figure size 640x480 with 1 Axes>"
      ]
     },
     "metadata": {},
     "output_type": "display_data"
    }
   ],
   "source": [
    "# -----------------------------\n",
    "# Plot training & validation loss\n",
    "# -----------------------------\n",
    "plt.plot(history.history['loss'], label='Train Loss')\n",
    "plt.plot(history.history['val_loss'], label='Validation Loss')\n",
    "plt.title('Model Loss Curve')\n",
    "plt.ylabel('Loss (MSE)')\n",
    "plt.xlabel('Epoch')\n",
    "plt.legend(loc='upper right')\n",
    "plt.show()\n"
   ]
  }
 ],
 "metadata": {
  "kernelspec": {
   "display_name": "gpu",
   "language": "python",
   "name": "python3"
  },
  "language_info": {
   "codemirror_mode": {
    "name": "ipython",
    "version": 3
   },
   "file_extension": ".py",
   "mimetype": "text/x-python",
   "name": "python",
   "nbconvert_exporter": "python",
   "pygments_lexer": "ipython3",
   "version": "3.10.15"
  }
 },
 "nbformat": 4,
 "nbformat_minor": 5
}
