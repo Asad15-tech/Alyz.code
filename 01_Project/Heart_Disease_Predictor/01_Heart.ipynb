{
 "cells": [
  {
   "cell_type": "markdown",
   "id": "3488f8bf",
   "metadata": {},
   "source": [
    "# ❤️ Heart Disease Prediction System using Machine Learning\n"
   ]
  },
  {
   "cell_type": "markdown",
   "id": "2b973f05",
   "metadata": {},
   "source": [
    "\n",
    "\n",
    "---\n",
    "\n",
    "# 📄 Project Metadata\n",
    "### **Title:** **Heart Disease Prediction using Machine Learning** ❤️‍🩹\n",
    "### **Author:** **Asad Ali** ✍️\n",
    "### **Institute:** **University of Okara & Trainee at Codanics** 🎓\n",
    "### **Email:** 📧 [asadalyy834@gmail.com](mailto:asadalyy834@gmail.com)\n",
    "### **Course:** **Data Science / Machine Learning** 📊🧠\n",
    "### **Date:** **July 2025** 📅\n",
    "### **Version:** **1.0** 🔢\n",
    "### **Language:** **Python** 🐍\n",
    "### **Libraries Overview:**\n",
    "- **Pandas** 📚: Data manipulation and analysis\n",
    "- **NumPy** 🔢: Numerical computing\n",
    "- **Scikit-learn** ⚙️: Machine learning tools and algorithms\n",
    "- **Matplotlib** 📈: Data visualization\n",
    "- **Seaborn** 🌊: Statistical data visualization\n",
    "- **Plotly** 📊: Interactive data visualization\n",
    "### **Dataset:** **UCI Heart Disease Dataset from Kaggle** 📋\n",
    "\n",
    "---\n"
   ]
  },
  {
   "cell_type": "markdown",
   "id": "e606f443",
   "metadata": {},
   "source": [
    "# 📊 About the Dataset\n",
    "\n",
    "### 🧬 Context\n",
    "\n",
    "This is a **multivariate dataset** — it contains multiple statistical variables and supports numerical data analysis. Although the full dataset includes **76 attributes**, most published research focuses on **14 key features**.\n",
    "\n",
    "- 📍 **Primary Source Used:** *Cleveland database* — the most commonly used by machine learning researchers.\n",
    "- 🧠 **Main Objective:** Predict whether a patient has heart disease or not based on medical parameters.\n",
    "- 🔎 **Secondary Objective:** Gain diagnostic insights through statistical and machine learning exploration.\n",
    "\n",
    "---\n",
    "\n",
    "### 📌 Selected Attribute Descriptions (14 Core Features)\n",
    "\n",
    "| 🔢 No. | 🧬 Column Name | 📖 Description                                                                 |\n",
    "|-------:|---------------|--------------------------------------------------------------------------------|\n",
    "| 1️⃣    | `age`         | Age of the patient (in years)                                                  |\n",
    "| 2️⃣    | `sex`         | Gender of patient (`0` = Female, `1` = Male)                                   |\n",
    "| 3️⃣    | `cp`          | Chest pain type: `typical angina`, `atypical angina`, `non-anginal`, `asymptomatic` |\n",
    "| 4️⃣    | `trestbps`    | Resting blood pressure (in mm Hg at admission)                                 |\n",
    "| 5️⃣    | `chol`        | Serum cholesterol level (in mg/dl)                                             |\n",
    "| 6️⃣    | `fbs`         | Fasting blood sugar > 120 mg/dl (`1` = True; `0` = False)                       |\n",
    "| 7️⃣    | `restecg`     | ECG results: `normal`, `ST-T abnormality`, `left ventricular hypertrophy`      |\n",
    "| 8️⃣    | `thalach`     | Maximum heart rate achieved                                                    |\n",
    "| 9️⃣    | `exang`       | Exercise-induced angina (`1` = Yes; `0` = No)                                   |\n",
    "| 🔟     | `oldpeak`     | ST depression induced by exercise relative to rest                             |\n",
    "| 1️⃣1️⃣ | `slope`       | Slope of the peak exercise ST segment                                          |\n",
    "| 1️⃣2️⃣ | `ca`          | Number of major vessels (0–3) colored by fluoroscopy                           |\n",
    "| 1️⃣3️⃣ | `thal`        | Thalassemia condition: `normal`, `fixed defect`, `reversible defect`           |\n",
    "| 1️⃣4️⃣ | target/num | Predicted attribute: 0 → No Disease, 1 → Mild Disease, 2 → Moderate Disease, 3 → Severe Disease, 4 → Very Severe Disease |\n",
    "\n",
    "\n",
    "### 🧾 Additional Columns (May Appear in Extended Datasets)\n",
    "\n",
    "| 🔹 Column        | 🔍 Description                              |\n",
    "|------------------|--------------------------------------------|\n",
    "| `id`             | Unique ID for each patient                 |\n",
    "| `dataset`         | Source location of data (e.g., Hungary)   |\n",
    "\n",
    "---\n",
    "\n",
    "### 👨‍⚕️ Acknowledgements\n",
    "\n",
    "**Contributors & Medical Institutions:**\n",
    "\n",
    "- 🏥 *Hungarian Institute of Cardiology, Budapest*: **Dr. Andras Janosi**  \n",
    "- 🏥 *University Hospital, Zurich, Switzerland*: **Dr. William Steinbrunn**  \n",
    "- 🏥 *University Hospital, Basel, Switzerland*: **Dr. Matthias Pfisterer**  \n",
    "- 🏥 *V.A. Medical Center, Long Beach & Cleveland Clinic*: **Dr. Robert Detrano**\n",
    "\n",
    "---\n",
    "\n",
    "### 📚 Relevant Research Papers\n",
    "\n",
    "- 📄 *International application of a new probability algorithm for the diagnosis of coronary artery disease*  \n",
    "  ➤ *Detrano, R. et al., American Journal of Cardiology, 1989*\n",
    "\n",
    "- 📄 *Instance-based prediction of heart-disease presence with the Cleveland database*  \n",
    "  ➤ *David W. Aha & Dennis Kibler*\n",
    "\n",
    "- 📄 *Models of incremental concept formation*  \n",
    "  ➤ *Gennari, J.H., Langley, P., & Fisher, D., Artificial Intelligence, 1989*\n",
    "\n",
    "---\n",
    "\n",
    "### 🙏 Citation Request\n",
    "\n",
    "> The authors request that any publication using this dataset must credit the principal investigators:\n",
    "> \n",
    "> - **Dr. Andras Janosi** – Hungarian Institute of Cardiology  \n",
    "> - **Dr. William Steinbrunn** – University Hospital, Zurich  \n",
    "> - **Dr. Matthias Pfisterer** – University Hospital, Basel  \n",
    "> - **Dr. Robert Detrano** – Cleveland Clinic Foundation & Long Beach VA Medical Center\n",
    "\n",
    "---\n",
    "\n"
   ]
  },
  {
   "cell_type": "markdown",
   "id": "139a4529",
   "metadata": {},
   "source": [
    "# 1. 📚 Importing Libraries"
   ]
  },
  {
   "cell_type": "code",
   "execution_count": 201,
   "id": "c18e3270",
   "metadata": {},
   "outputs": [],
   "source": [
    "import pandas as pd\n",
    "import numpy as np\n",
    "import matplotlib.pyplot as plt\n",
    "import seaborn as sns\n",
    "import plotly.express as px\n",
    "from sklearn.model_selection import train_test_split\n",
    "from sklearn.preprocessing import StandardScaler, LabelEncoder\n",
    "from sklearn.ensemble import RandomForestClassifier\n",
    "from sklearn.linear_model import LogisticRegression\n",
    "from sklearn.svm import SVC\n",
    "from sklearn.tree import DecisionTreeClassifier\n",
    "from sklearn.neighbors import KNeighborsClassifier\n",
    "from sklearn.impute import KNNImputer\n",
    "from sklearn.experimental import enable_iterative_imputer\n",
    "from sklearn.impute import IterativeImputer\n",
    "from sklearn.metrics import accuracy_score, confusion_matrix, classification_report"
   ]
  },
  {
   "cell_type": "code",
   "execution_count": 202,
   "id": "72f78558",
   "metadata": {},
   "outputs": [],
   "source": [
    "# Setting to Display max rows and columns\n",
    "pd.set_option('display.max_rows', None)\n",
    "pd.set_option('display.max_columns', None)\n",
    "# Setting to ignore warnings\n",
    "import warnings\n",
    "warnings.filterwarnings(\"ignore\")"
   ]
  },
  {
   "cell_type": "code",
   "execution_count": 203,
   "id": "75ead46d",
   "metadata": {},
   "outputs": [
    {
     "name": "stdout",
     "output_type": "stream",
     "text": [
      "   id  age     sex    dataset               cp  trestbps   chol    fbs  \\\n",
      "0   1   63    Male  Cleveland   typical angina     145.0  233.0   True   \n",
      "1   2   67    Male  Cleveland     asymptomatic     160.0  286.0  False   \n",
      "2   3   67    Male  Cleveland     asymptomatic     120.0  229.0  False   \n",
      "3   4   37    Male  Cleveland      non-anginal     130.0  250.0  False   \n",
      "4   5   41  Female  Cleveland  atypical angina     130.0  204.0  False   \n",
      "\n",
      "          restecg  thalch  exang  oldpeak        slope   ca  \\\n",
      "0  lv hypertrophy   150.0  False      2.3  downsloping  0.0   \n",
      "1  lv hypertrophy   108.0   True      1.5         flat  3.0   \n",
      "2  lv hypertrophy   129.0   True      2.6         flat  2.0   \n",
      "3          normal   187.0  False      3.5  downsloping  0.0   \n",
      "4  lv hypertrophy   172.0  False      1.4    upsloping  0.0   \n",
      "\n",
      "                thal  num  \n",
      "0       fixed defect    0  \n",
      "1             normal    2  \n",
      "2  reversable defect    1  \n",
      "3             normal    0  \n",
      "4             normal    0  \n"
     ]
    }
   ],
   "source": [
    "# Let's Load the Dataset that is in our local directory\n",
    "df = pd.read_csv(\"heart_disease_uci.csv\")\n",
    "# Let's have a look at the first few rows of the dataset\n",
    "print(df.head())"
   ]
  },
  {
   "cell_type": "code",
   "execution_count": 204,
   "id": "c4ce08e5",
   "metadata": {},
   "outputs": [
    {
     "name": "stdout",
     "output_type": "stream",
     "text": [
      "Information about the Dataset\n",
      "<class 'pandas.core.frame.DataFrame'>\n",
      "RangeIndex: 920 entries, 0 to 919\n",
      "Data columns (total 16 columns):\n",
      " #   Column    Non-Null Count  Dtype  \n",
      "---  ------    --------------  -----  \n",
      " 0   id        920 non-null    int64  \n",
      " 1   age       920 non-null    int64  \n",
      " 2   sex       920 non-null    object \n",
      " 3   dataset   920 non-null    object \n",
      " 4   cp        920 non-null    object \n",
      " 5   trestbps  861 non-null    float64\n",
      " 6   chol      890 non-null    float64\n",
      " 7   fbs       830 non-null    object \n",
      " 8   restecg   918 non-null    object \n",
      " 9   thalch    865 non-null    float64\n",
      " 10  exang     865 non-null    object \n",
      " 11  oldpeak   858 non-null    float64\n",
      " 12  slope     611 non-null    object \n",
      " 13  ca        309 non-null    float64\n",
      " 14  thal      434 non-null    object \n",
      " 15  num       920 non-null    int64  \n",
      "dtypes: float64(5), int64(3), object(8)\n",
      "memory usage: 115.1+ KB\n",
      "None\n"
     ]
    }
   ],
   "source": [
    "# Getting the info of our Dataset\n",
    "print(\"Information about the Dataset\")\n",
    "print(df.info())"
   ]
  },
  {
   "cell_type": "code",
   "execution_count": 205,
   "id": "6d00e86d",
   "metadata": {},
   "outputs": [
    {
     "name": "stdout",
     "output_type": "stream",
     "text": [
      "Shape of the Dataset\n",
      "The Dataset has 920 rows and 16 columns.\n"
     ]
    }
   ],
   "source": [
    "# Check the Shape of the Dataset\n",
    "print(\"Shape of the Dataset\")\n",
    "print(\"The Dataset has\", df.shape[0], \"rows and\", df.shape[1], \"columns.\")"
   ]
  },
  {
   "cell_type": "markdown",
   "id": "ffed8e7a",
   "metadata": {},
   "source": [
    "-----"
   ]
  },
  {
   "cell_type": "markdown",
   "id": "11d0d919",
   "metadata": {},
   "source": [
    "# 2. Data Preprocessing 🔍\n",
    "## 1. **Handling Missing Values:** Fill or drop missing data.\n",
    "\n",
    "\n"
   ]
  },
  {
   "cell_type": "code",
   "execution_count": 206,
   "id": "57f39fd5",
   "metadata": {},
   "outputs": [
    {
     "name": "stdout",
     "output_type": "stream",
     "text": [
      "Missing Values in the Dataset:\n",
      "ca          611\n",
      "thal        486\n",
      "slope       309\n",
      "fbs          90\n",
      "oldpeak      62\n",
      "trestbps     59\n",
      "exang        55\n",
      "thalch       55\n",
      "chol         30\n",
      "restecg       2\n",
      "dtype: int64\n"
     ]
    }
   ],
   "source": [
    "# Let's First check for missing values in our dataset\n",
    "missing_values = df.isnull().sum().sort_values(ascending=False)\n",
    "print(\"Missing Values in the Dataset:\")\n",
    "print(missing_values[missing_values > 0])"
   ]
  },
  {
   "cell_type": "code",
   "execution_count": 207,
   "id": "7aeffc56",
   "metadata": {},
   "outputs": [
    {
     "name": "stdout",
     "output_type": "stream",
     "text": [
      "ca          66.413043\n",
      "thal        52.826087\n",
      "slope       33.586957\n",
      "fbs          9.782609\n",
      "oldpeak      6.739130\n",
      "trestbps     6.413043\n",
      "exang        5.978261\n",
      "thalch       5.978261\n",
      "chol         3.260870\n",
      "restecg      0.217391\n",
      "cp           0.000000\n",
      "dataset      0.000000\n",
      "id           0.000000\n",
      "age          0.000000\n",
      "sex          0.000000\n",
      "num          0.000000\n",
      "dtype: float64\n"
     ]
    }
   ],
   "source": [
    "# Check the percentage of missing values in our dataset\n",
    "print((df.isnull().sum() / len(df) * 100).sort_values(ascending=False))"
   ]
  },
  {
   "cell_type": "code",
   "execution_count": 208,
   "id": "82cf0a86",
   "metadata": {},
   "outputs": [
    {
     "name": "stdout",
     "output_type": "stream",
     "text": [
      "Data Types of Columns with Missing Values:\n",
      "ca          float64\n",
      "thal         object\n",
      "slope        object\n",
      "fbs          object\n",
      "oldpeak     float64\n",
      "trestbps    float64\n",
      "exang        object\n",
      "thalch      float64\n",
      "chol        float64\n",
      "restecg      object\n",
      "dtype: object\n"
     ]
    }
   ],
   "source": [
    "# Let's check the type of each column that has missing values in our dataset.\n",
    "print(\"Data Types of Columns with Missing Values:\")\n",
    "print(df.dtypes[missing_values[missing_values > 0].index])"
   ]
  },
  {
   "cell_type": "code",
   "execution_count": 209,
   "id": "6c527eb5",
   "metadata": {},
   "outputs": [
    {
     "name": "stdout",
     "output_type": "stream",
     "text": [
      "Missing Values in the Dataset after Imputation:\n",
      "thal       486\n",
      "slope      309\n",
      "fbs         90\n",
      "exang       55\n",
      "restecg      2\n",
      "dtype: int64\n"
     ]
    }
   ],
   "source": [
    "# Let's impute missing values that have int or float data types using KNN Imputer\n",
    "imputer = KNNImputer(n_neighbors=5)\n",
    "df_imputed = pd.DataFrame(imputer.fit_transform(df.select_dtypes(include=[np.number])), columns=df.select_dtypes(include=[np.number]).columns)\n",
    "# Replacing the original numeric columns with the imputed ones\n",
    "df[df.select_dtypes(include=[np.number]).columns] = df_imputed\n",
    "# Let's again have a look at the missing values after imputation of numeric columns\n",
    "missing_values_after_imputation = df.isnull().sum().sort_values(ascending=False)\n",
    "print(\"Missing Values in the Dataset after Imputation:\")\n",
    "print(missing_values_after_imputation[missing_values_after_imputation > 0])\n"
   ]
  },
  {
   "cell_type": "code",
   "execution_count": 210,
   "id": "bb99cab1",
   "metadata": {},
   "outputs": [
    {
     "name": "stdout",
     "output_type": "stream",
     "text": [
      "Data Types of Columns with Missing Values after Imputation:\n",
      "thal       object\n",
      "slope      object\n",
      "fbs        object\n",
      "exang      object\n",
      "restecg    object\n",
      "dtype: object\n"
     ]
    }
   ],
   "source": [
    "# Let's again check the datatype of each column that contain missing values after imputation of numeric columns\n",
    "print(\"Data Types of Columns with Missing Values after Imputation:\")\n",
    "print(df.dtypes[missing_values_after_imputation[missing_values_after_imputation > 0].index])\n"
   ]
  },
  {
   "cell_type": "code",
   "execution_count": 211,
   "id": "654868c9",
   "metadata": {},
   "outputs": [
    {
     "name": "stdout",
     "output_type": "stream",
     "text": [
      "Missing Values in the Dataset after Encoding and RF Imputation:\n",
      "id          0\n",
      "age         0\n",
      "sex         0\n",
      "dataset     0\n",
      "cp          0\n",
      "trestbps    0\n",
      "chol        0\n",
      "fbs         0\n",
      "restecg     0\n",
      "thalch      0\n",
      "exang       0\n",
      "oldpeak     0\n",
      "slope       0\n",
      "ca          0\n",
      "thal        0\n",
      "num         0\n",
      "dtype: int64\n"
     ]
    }
   ],
   "source": [
    "# Encode , Impute and Decode using ML Model\n",
    "def encode_and_rf_impute(df):\n",
    "    df_copy = df.copy()\n",
    "    # Encode object columns\n",
    "    label_encoders = {}\n",
    "    object_cols = df_copy.select_dtypes(include=['object']).columns\n",
    "    for col in object_cols:\n",
    "        le = LabelEncoder()\n",
    "        df_copy[col] = le.fit_transform(df_copy[col].astype(str))\n",
    "        label_encoders[col] = le\n",
    "\n",
    "    # Impute object columns using RandomForestClassifier\n",
    "    from sklearn.ensemble import RandomForestClassifier\n",
    "    for col in object_cols:\n",
    "        missing = df[col].isnull()\n",
    "        if missing.any():\n",
    "            not_missing = ~missing\n",
    "            X_train = df_copy.loc[not_missing].drop(columns=[col])\n",
    "            y_train = df_copy.loc[not_missing, col]\n",
    "            X_pred = df_copy.loc[missing].drop(columns=[col])\n",
    "            clf = RandomForestClassifier(n_estimators=100, random_state=0)\n",
    "            clf.fit(X_train, y_train)\n",
    "            df_copy.loc[missing, col] = clf.predict(X_pred)\n",
    "\n",
    "    # Decode object columns back to original values\n",
    "    for col, le in label_encoders.items():\n",
    "        df_copy[col] = le.inverse_transform(df_copy[col].round().astype(int))\n",
    "\n",
    "    return df_copy\n",
    "\n",
    "# Apply the function using RandomForestClassifier for categorical columns\n",
    "df  = encode_and_rf_impute(df)\n",
    "print(\"Missing Values in the Dataset after Encoding and RF Imputation:\")\n",
    "print(df.isnull().sum())\n"
   ]
  },
  {
   "cell_type": "code",
   "execution_count": 212,
   "id": "4e0a6319",
   "metadata": {},
   "outputs": [
    {
     "name": "stdout",
     "output_type": "stream",
     "text": [
      "Random Rows of the Dataset after Encoding and Imputation:\n",
      "        id   age     sex        dataset              cp  trestbps   chol  \\\n",
      "49    50.0  53.0    Male      Cleveland     non-anginal     130.0  197.0   \n",
      "917  918.0  55.0    Male  VA Long Beach    asymptomatic     122.0  223.0   \n",
      "753  754.0  55.0    Male  VA Long Beach     non-anginal       0.0    0.0   \n",
      "362  363.0  43.0  Female        Hungary  typical angina     100.0  223.0   \n",
      "136  137.0  70.0    Male      Cleveland    asymptomatic     145.0  174.0   \n",
      "\n",
      "       fbs           restecg  thalch  exang  oldpeak        slope   ca  \\\n",
      "49    True    lv hypertrophy   152.0  False      1.2  downsloping  0.0   \n",
      "917   True  st-t abnormality   100.0  False      0.0         flat  1.2   \n",
      "753  False            normal   155.0  False      1.5         flat  1.2   \n",
      "362  False            normal   142.0  False      0.0         flat  0.2   \n",
      "136  False            normal   125.0   True      2.6  downsloping  0.0   \n",
      "\n",
      "                  thal  num  \n",
      "49              normal  0.0  \n",
      "917       fixed defect  2.0  \n",
      "753  reversable defect  3.0  \n",
      "362             normal  0.0  \n",
      "136  reversable defect  4.0  \n"
     ]
    }
   ],
   "source": [
    "# Let's again check the few random rows of the dataset after encoding and imputation\n",
    "print(\"Random Rows of the Dataset after Encoding and Imputation:\")\n",
    "print(df.sample(5))"
   ]
  },
  {
   "cell_type": "code",
   "execution_count": 213,
   "id": "60cae588",
   "metadata": {},
   "outputs": [
    {
     "name": "stdout",
     "output_type": "stream",
     "text": [
      "<class 'pandas.core.frame.DataFrame'>\n",
      "RangeIndex: 920 entries, 0 to 919\n",
      "Data columns (total 16 columns):\n",
      " #   Column    Non-Null Count  Dtype  \n",
      "---  ------    --------------  -----  \n",
      " 0   id        920 non-null    float64\n",
      " 1   age       920 non-null    float64\n",
      " 2   sex       920 non-null    object \n",
      " 3   dataset   920 non-null    object \n",
      " 4   cp        920 non-null    object \n",
      " 5   trestbps  920 non-null    float64\n",
      " 6   chol      920 non-null    float64\n",
      " 7   fbs       920 non-null    object \n",
      " 8   restecg   920 non-null    object \n",
      " 9   thalch    920 non-null    float64\n",
      " 10  exang     920 non-null    object \n",
      " 11  oldpeak   920 non-null    float64\n",
      " 12  slope     920 non-null    object \n",
      " 13  ca        920 non-null    float64\n",
      " 14  thal      920 non-null    object \n",
      " 15  num       920 non-null    float64\n",
      "dtypes: float64(8), object(8)\n",
      "memory usage: 115.1+ KB\n"
     ]
    }
   ],
   "source": [
    "# Getting the info of our dataset\n",
    "df.info()"
   ]
  },
  {
   "cell_type": "code",
   "execution_count": 214,
   "id": "81353207",
   "metadata": {},
   "outputs": [
    {
     "data": {
      "image/png": "[encoded data removed]",
      "text/plain": [
       "<Figure size 1000x800 with 1 Axes>"
      ]
     },
     "metadata": {},
     "output_type": "display_data"
    }
   ],
   "source": [
    "\n",
    "# Check for null values\n",
    "null_values = df.isnull()\n",
    "\n",
    "# Create a heatmap of null values\n",
    "plt.figure(figsize=(10, 8))  # Adjust the figure size as needed\n",
    "sns.heatmap(null_values, cmap='viridis', cbar=False, yticklabels=False)\n",
    "\n",
    "# Show the plot\n",
    "plt.title('Heatmap of Null Values')\n",
    "plt.show()"
   ]
  },
  {
   "cell_type": "markdown",
   "id": "ad90c93c",
   "metadata": {},
   "source": [
    "- ###  Missing values ka rola howa khtm 😎 "
   ]
  },
  {
   "cell_type": "markdown",
   "id": "c9b9ae0e",
   "metadata": {},
   "source": [
    "## 2. **Cleaning:** Remove duplicates and handle outliers."
   ]
  },
  {
   "cell_type": "code",
   "execution_count": 215,
   "id": "646a899e",
   "metadata": {},
   "outputs": [
    {
     "name": "stdout",
     "output_type": "stream",
     "text": [
      "Number of duplicate rows in the dataset: 0\n"
     ]
    }
   ],
   "source": [
    "# Let's check for duplicates in our dataset\n",
    "duplicates = df.duplicated().sum()\n",
    "print(f\"Number of duplicate rows in the dataset: {duplicates}\")"
   ]
  },
  {
   "cell_type": "markdown",
   "id": "0bbfd9de",
   "metadata": {},
   "source": [
    "- ### There is no Duplicates in our Dataset."
   ]
  },
  {
   "cell_type": "markdown",
   "id": "856ef5e2",
   "metadata": {},
   "source": [
    "**🏁 Data Cleaning Mission: Complete!**\n",
    "\n",
    "All data cleaning steps have been successfully performed:\n",
    "- Duplicate records have been checked and not found.\n",
    "- We will deal Outliers in the Exploratory Data Analysis.\n",
    "\n",
    "Our dataset is now clean, reliable, and ready for Machine learning and Statistical analysis."
   ]
  },
  {
   "cell_type": "markdown",
   "id": "9d6471e2",
   "metadata": {},
   "source": [
    "# 3. 📊 Exploratory Data Analysis (EDA) 🔍"
   ]
  },
  {
   "cell_type": "code",
   "execution_count": 216,
   "id": "e8aa1736",
   "metadata": {},
   "outputs": [
    {
     "name": "stdout",
     "output_type": "stream",
     "text": [
      "        id   age     sex        dataset               cp  trestbps   chol  \\\n",
      "915  916.0  54.0  Female  VA Long Beach     asymptomatic     127.0  333.0   \n",
      "916  917.0  62.0    Male  VA Long Beach   typical angina     148.8  139.0   \n",
      "917  918.0  55.0    Male  VA Long Beach     asymptomatic     122.0  223.0   \n",
      "918  919.0  58.0    Male  VA Long Beach     asymptomatic     136.2  385.0   \n",
      "919  920.0  62.0    Male  VA Long Beach  atypical angina     120.0  254.0   \n",
      "\n",
      "       fbs           restecg  thalch  exang  oldpeak slope   ca  \\\n",
      "915   True  st-t abnormality   154.0  False      0.0  flat  1.0   \n",
      "916  False  st-t abnormality   133.2   True      1.8  flat  1.0   \n",
      "917   True  st-t abnormality   100.0  False      0.0  flat  1.2   \n",
      "918   True    lv hypertrophy   133.4  False      0.6  flat  0.8   \n",
      "919  False    lv hypertrophy    93.0   True      0.0  flat  1.2   \n",
      "\n",
      "                  thal  num  \n",
      "915             normal  1.0  \n",
      "916  reversable defect  0.0  \n",
      "917       fixed defect  2.0  \n",
      "918  reversable defect  0.0  \n",
      "919  reversable defect  1.0  \n"
     ]
    }
   ],
   "source": [
    "# Let's look at the tail of Dataset\n",
    "print(df.tail())"
   ]
  },
  {
   "cell_type": "code",
   "execution_count": 217,
   "id": "17be63f5",
   "metadata": {},
   "outputs": [
    {
     "name": "stdout",
     "output_type": "stream",
     "text": [
      "Minimum Age of Patient is 28.0\n",
      "Minimum Age of Patient is  77.0\n"
     ]
    }
   ],
   "source": [
    "# Let's investigate the Age column\n",
    "print(\"Minimum Age of Patient is\", df[\"age\"].min())\n",
    "print(\"Minimum Age of Patient is \", df[\"age\"].max())"
   ]
  },
  {
   "cell_type": "code",
   "execution_count": 218,
   "id": "6948bb6c",
   "metadata": {},
   "outputs": [
    {
     "name": "stdout",
     "output_type": "stream",
     "text": [
      "50\n"
     ]
    }
   ],
   "source": [
    "# Taking the number of unique values of Age column\n",
    "print(df[\"age\"].nunique())"
   ]
  },
  {
   "cell_type": "code",
   "execution_count": 219,
   "id": "7e2e8926",
   "metadata": {},
   "outputs": [
    {
     "name": "stdout",
     "output_type": "stream",
     "text": [
      "count    920.000000\n",
      "mean      53.510870\n",
      "std        9.424685\n",
      "min       28.000000\n",
      "25%       47.000000\n",
      "50%       54.000000\n",
      "75%       60.000000\n",
      "max       77.000000\n",
      "Name: age, dtype: float64\n"
     ]
    }
   ],
   "source": [
    "# Getting the statistical summary of age.\n",
    "print(df[\"age\"].describe())"
   ]
  },
  {
   "cell_type": "code",
   "execution_count": 220,
   "id": "147d15cd",
   "metadata": {},
   "outputs": [
    {
     "name": "stdout",
     "output_type": "stream",
     "text": [
      "sex\n",
      "Male      726\n",
      "Female    194\n",
      "Name: count, dtype: int64\n"
     ]
    }
   ],
   "source": [
    "# Let's check the how many males and females have heart disease.\n",
    "print(df[\"sex\"].value_counts())"
   ]
  },
  {
   "cell_type": "code",
   "execution_count": 221,
   "id": "1b424153",
   "metadata": {},
   "outputs": [
    {
     "name": "stdout",
     "output_type": "stream",
     "text": [
      "Total males: 726\n",
      "Total females: 194\n",
      "Percentage of males: 78.91%\n",
      "Percentage of females: 21.09%\n"
     ]
    }
   ],
   "source": [
    "# Total number of males and females in the dataset\n",
    "sex_counts = df['sex'].value_counts()\n",
    "male_total = sex_counts.get(0, 0)\n",
    "female_total = sex_counts.get(1, 0)\n",
    "\n",
    "print(f\"Total males: {male_total}\")\n",
    "print(f\"Total females: {female_total}\")\n",
    "\n",
    "# Calculate percentage of males and females\n",
    "total_people = male_total + female_total\n",
    "if total_people > 0:\n",
    "    male_percent = (male_total / total_people) * 100\n",
    "    female_percent = (female_total / total_people) * 100\n",
    "    print(f\"Percentage of males: {male_percent:.2f}%\")\n",
    "    print(f\"Percentage of females: {female_percent:.2f}%\")\n",
    "else:\n",
    "    print(\"No Data Available\")"
   ]
  },
  {
   "cell_type": "code",
   "execution_count": 222,
   "id": "faff3753",
   "metadata": {},
   "outputs": [
    {
     "name": "stdout",
     "output_type": "stream",
     "text": [
      "['Cleveland' 'Hungary' 'Switzerland' 'VA Long Beach']\n",
      "dataset\n",
      "Cleveland        304\n",
      "Hungary          293\n",
      "VA Long Beach    200\n",
      "Switzerland      123\n",
      "Name: count, dtype: int64\n"
     ]
    }
   ],
   "source": [
    "# Let's jump into dataset column\n",
    "print(df[\"dataset\"].unique())  # This line will show the unique values in the 'dataset' column\n",
    "# Getting the value count of the 'dataset' column\n",
    "print(df[\"dataset\"].value_counts())"
   ]
  },
  {
   "cell_type": "code",
   "execution_count": 223,
   "id": "d5a1e9e3",
   "metadata": {},
   "outputs": [],
   "source": [
    "import os\n",
    "from IPython.display import IFrame\n",
    "import plotly.graph_objects as go\n",
    "\n",
    "# Create a function to save a figure\n",
    "def save_figure(fig, folder, filename):\n",
    "    if not os.path.exists(folder):\n",
    "        os.makedirs(folder)\n",
    "    fig_path = os.path.join(folder, filename)\n",
    "    fig.write_html(fig_path)  # Save as HTML for interactivity\n",
    "    return fig_path\n",
    "\n",
    "# Create a function to display the saved interactive figure\n",
    "def display_interactive_image(html_path):\n",
    "    display(IFrame(html_path, width=700, height=500))\n"
   ]
  },
  {
   "cell_type": "code",
   "execution_count": 224,
   "id": "e41ad9df",
   "metadata": {},
   "outputs": [
    {
     "data": {
      "application/vnd.plotly.v1+json": {
       "config": {
        "plotlyServerURL": "https://plot.ly"
       },
       "data": [
        {
         "alignmentgroup": "True",
         "customdata": [
          [
           "Female",
           "28-34"
          ],
          [
           "Female",
           "35-39"
          ],
          [
           "Female",
           "40-44"
          ],
          [
           "Female",
           "45-49"
          ],
          [
           "Female",
           "50-54"
          ],
          [
           "Female",
           "55-59"
          ],
          [
           "Female",
           "60-64"
          ],
          [
           "Female",
           "65-69"
          ],
          [
           "Female",
           "70-75"
          ],
          [
           "Female",
           "76-77"
          ],
          [
           "Female",
           "28-34"
          ],
          [
           "Female",
           "35-39"
          ],
          [
           "Female",
           "40-44"
          ],
          [
           "Female",
           "45-49"
          ],
          [
           "Female",
           "50-54"
          ],
          [
           "Female",
           "55-59"
          ],
          [
           "Female",
           "60-64"
          ],
          [
           "Female",
           "65-69"
          ],
          [
           "Female",
           "70-75"
          ],
          [
           "Female",
           "76-77"
          ],
          [
           "Female",
           "28-34"
          ],
          [
           "Female",
           "35-39"
          ],
          [
           "Female",
           "40-44"
          ],
          [
           "Female",
           "45-49"
          ],
          [
           "Female",
           "50-54"
          ],
          [
           "Female",
           "55-59"
          ],
          [
           "Female",
           "60-64"
          ],
          [
           "Female",
           "65-69"
          ],
          [
           "Female",
           "70-75"
          ],
          [
           "Female",
           "76-77"
          ],
          [
           "Female",
           "28-34"
          ],
          [
           "Female",
           "35-39"
          ],
          [
           "Female",
           "40-44"
          ],
          [
           "Female",
           "45-49"
          ],
          [
           "Female",
           "50-54"
          ],
          [
           "Female",
           "55-59"
          ],
          [
           "Female",
           "60-64"
          ],
          [
           "Female",
           "65-69"
          ],
          [
           "Female",
           "70-75"
          ],
          [
           "Female",
           "76-77"
          ]
         ],
         "hovertemplate": "sex=%{customdata[0]}<br>dataset=%{x}<br>count=%{y}<br>age_group=%{customdata[1]}<extra></extra>",
         "legendgroup": "Female",
         "marker": {
          "color": "#636efa",
          "pattern": {
           "shape": ""
          }
         },
         "name": "Female",
         "offsetgroup": "Female",
         "orientation": "v",
         "showlegend": true,
         "textposition": "auto",
         "type": "bar",
         "x": [
          "Cleveland",
          "Cleveland",
          "Cleveland",
          "Cleveland",
          "Cleveland",
          "Cleveland",
          "Cleveland",
          "Cleveland",
          "Cleveland",
          "Cleveland",
          "Hungary",
          "Hungary",
          "Hungary",
          "Hungary",
          "Hungary",
          "Hungary",
          "Hungary",
          "Hungary",
          "Hungary",
          "Hungary",
          "Switzerland",
          "Switzerland",
          "Switzerland",
          "Switzerland",
          "Switzerland",
          "Switzerland",
          "Switzerland",
          "Switzerland",
          "Switzerland",
          "Switzerland",
          "VA Long Beach",
          "VA Long Beach",
          "VA Long Beach",
          "VA Long Beach",
          "VA Long Beach",
          "VA Long Beach",
          "VA Long Beach",
          "VA Long Beach",
          "VA Long Beach",
          "VA Long Beach"
         ],
         "xaxis": "x",
         "y": {
          "bdata": "AgMNCRETFQgEAQcGDxUXBwIAAAAAAgABAQAEAQEAAAAAAAMAAwAAAA==",
          "dtype": "i1"
         },
         "yaxis": "y"
        },
        {
         "alignmentgroup": "True",
         "customdata": [
          [
           "Male",
           "28-34"
          ],
          [
           "Male",
           "35-39"
          ],
          [
           "Male",
           "40-44"
          ],
          [
           "Male",
           "45-49"
          ],
          [
           "Male",
           "50-54"
          ],
          [
           "Male",
           "55-59"
          ],
          [
           "Male",
           "60-64"
          ],
          [
           "Male",
           "65-69"
          ],
          [
           "Male",
           "70-75"
          ],
          [
           "Male",
           "76-77"
          ],
          [
           "Male",
           "28-34"
          ],
          [
           "Male",
           "35-39"
          ],
          [
           "Male",
           "40-44"
          ],
          [
           "Male",
           "45-49"
          ],
          [
           "Male",
           "50-54"
          ],
          [
           "Male",
           "55-59"
          ],
          [
           "Male",
           "60-64"
          ],
          [
           "Male",
           "65-69"
          ],
          [
           "Male",
           "70-75"
          ],
          [
           "Male",
           "76-77"
          ],
          [
           "Male",
           "28-34"
          ],
          [
           "Male",
           "35-39"
          ],
          [
           "Male",
           "40-44"
          ],
          [
           "Male",
           "45-49"
          ],
          [
           "Male",
           "50-54"
          ],
          [
           "Male",
           "55-59"
          ],
          [
           "Male",
           "60-64"
          ],
          [
           "Male",
           "65-69"
          ],
          [
           "Male",
           "70-75"
          ],
          [
           "Male",
           "76-77"
          ],
          [
           "Male",
           "28-34"
          ],
          [
           "Male",
           "35-39"
          ],
          [
           "Male",
           "40-44"
          ],
          [
           "Male",
           "45-49"
          ],
          [
           "Male",
           "50-54"
          ],
          [
           "Male",
           "55-59"
          ],
          [
           "Male",
           "60-64"
          ],
          [
           "Male",
           "65-69"
          ],
          [
           "Male",
           "70-75"
          ],
          [
           "Male",
           "76-77"
          ]
         ],
         "hovertemplate": "sex=%{customdata[0]}<br>dataset=%{x}<br>count=%{y}<br>age_group=%{customdata[1]}<extra></extra>",
         "legendgroup": "Male",
         "marker": {
          "color": "#EF553B",
          "pattern": {
           "shape": ""
          }
         },
         "name": "Male",
         "offsetgroup": "Male",
         "orientation": "v",
         "showlegend": true,
         "textposition": "auto",
         "type": "bar",
         "x": [
          "Cleveland",
          "Cleveland",
          "Cleveland",
          "Cleveland",
          "Cleveland",
          "Cleveland",
          "Cleveland",
          "Cleveland",
          "Cleveland",
          "Cleveland",
          "Hungary",
          "Hungary",
          "Hungary",
          "Hungary",
          "Hungary",
          "Hungary",
          "Hungary",
          "Hungary",
          "Hungary",
          "Hungary",
          "Switzerland",
          "Switzerland",
          "Switzerland",
          "Switzerland",
          "Switzerland",
          "Switzerland",
          "Switzerland",
          "Switzerland",
          "Switzerland",
          "Switzerland",
          "VA Long Beach",
          "VA Long Beach",
          "VA Long Beach",
          "VA Long Beach",
          "VA Long Beach",
          "VA Long Beach",
          "VA Long Beach",
          "VA Long Beach",
          "VA Long Beach",
          "VA Long Beach"
         ],
         "xaxis": "x",
         "y": {
          "bdata": "BQggFig2GRMAAQ0gHjA3GwYBAAADBgcKGRwYCAIAAQQGCiAzNhUNAg==",
          "dtype": "i1"
         },
         "yaxis": "y"
        }
       ],
       "layout": {
        "barmode": "group",
        "legend": {
         "title": {
          "text": "Gender"
         },
         "tracegroupgap": 0
        },
        "template": {
         "data": {
          "bar": [
           {
            "error_x": {
             "color": "#2a3f5f"
            },
            "error_y": {
             "color": "#2a3f5f"
            },
            "marker": {
             "line": {
              "color": "#E5ECF6",
              "width": 0.5
             },
             "pattern": {
              "fillmode": "overlay",
              "size": 10,
              "solidity": 0.2
             }
            },
            "type": "bar"
           }
          ],
          "barpolar": [
           {
            "marker": {
             "line": {
              "color": "#E5ECF6",
              "width": 0.5
             },
             "pattern": {
              "fillmode": "overlay",
              "size": 10,
              "solidity": 0.2
             }
            },
            "type": "barpolar"
           }
          ],
          "carpet": [
           {
            "aaxis": {
             "endlinecolor": "#2a3f5f",
             "gridcolor": "white",
             "linecolor": "white",
             "minorgridcolor": "white",
             "startlinecolor": "#2a3f5f"
            },
            "baxis": {
             "endlinecolor": "#2a3f5f",
             "gridcolor": "white",
             "linecolor": "white",
             "minorgridcolor": "white",
             "startlinecolor": "#2a3f5f"
            },
            "type": "carpet"
           }
          ],
          "choropleth": [
           {
            "colorbar": {
             "outlinewidth": 0,
             "ticks": ""
            },
            "type": "choropleth"
           }
          ],
          "contour": [
           {
            "colorbar": {
             "outlinewidth": 0,
             "ticks": ""
            },
            "colorscale": [
             [
              0,
              "#0d0887"
             ],
             [
              0.1111111111111111,
              "#46039f"
             ],
             [
              0.2222222222222222,
              "#7201a8"
             ],
             [
              0.3333333333333333,
              "#9c179e"
             ],
             [
              0.4444444444444444,
              "#bd3786"
             ],
             [
              0.5555555555555556,
              "#d8576b"
             ],
             [
              0.6666666666666666,
              "#ed7953"
             ],
             [
              0.7777777777777778,
              "#fb9f3a"
             ],
             [
              0.8888888888888888,
              "#fdca26"
             ],
             [
              1,
              "#f0f921"
             ]
            ],
            "type": "contour"
           }
          ],
          "contourcarpet": [
           {
            "colorbar": {
             "outlinewidth": 0,
             "ticks": ""
            },
            "type": "contourcarpet"
           }
          ],
          "heatmap": [
           {
            "colorbar": {
             "outlinewidth": 0,
             "ticks": ""
            },
            "colorscale": [
             [
              0,
              "#0d0887"
             ],
             [
              0.1111111111111111,
              "#46039f"
             ],
             [
              0.2222222222222222,
              "#7201a8"
             ],
             [
              0.3333333333333333,
              "#9c179e"
             ],
             [
              0.4444444444444444,
              "#bd3786"
             ],
             [
              0.5555555555555556,
              "#d8576b"
             ],
             [
              0.6666666666666666,
              "#ed7953"
             ],
             [
              0.7777777777777778,
              "#fb9f3a"
             ],
             [
              0.8888888888888888,
              "#fdca26"
             ],
             [
              1,
              "#f0f921"
             ]
            ],
            "type": "heatmap"
           }
          ],
          "histogram": [
           {
            "marker": {
             "pattern": {
              "fillmode": "overlay",
              "size": 10,
              "solidity": 0.2
             }
            },
            "type": "histogram"
           }
          ],
          "histogram2d": [
           {
            "colorbar": {
             "outlinewidth": 0,
             "ticks": ""
            },
            "colorscale": [
             [
              0,
              "#0d0887"
             ],
             [
              0.1111111111111111,
              "#46039f"
             ],
             [
              0.2222222222222222,
              "#7201a8"
             ],
             [
              0.3333333333333333,
              "#9c179e"
             ],
             [
              0.4444444444444444,
              "#bd3786"
             ],
             [
              0.5555555555555556,
              "#d8576b"
             ],
             [
              0.6666666666666666,
              "#ed7953"
             ],
             [
              0.7777777777777778,
              "#fb9f3a"
             ],
             [
              0.8888888888888888,
              "#fdca26"
             ],
             [
              1,
              "#f0f921"
             ]
            ],
            "type": "histogram2d"
           }
          ],
          "histogram2dcontour": [
           {
            "colorbar": {
             "outlinewidth": 0,
             "ticks": ""
            },
            "colorscale": [
             [
              0,
              "#0d0887"
             ],
             [
              0.1111111111111111,
              "#46039f"
             ],
             [
              0.2222222222222222,
              "#7201a8"
             ],
             [
              0.3333333333333333,
              "#9c179e"
             ],
             [
              0.4444444444444444,
              "#bd3786"
             ],
             [
              0.5555555555555556,
              "#d8576b"
             ],
             [
              0.6666666666666666,
              "#ed7953"
             ],
             [
              0.7777777777777778,
              "#fb9f3a"
             ],
             [
              0.8888888888888888,
              "#fdca26"
             ],
             [
              1,
              "#f0f921"
             ]
            ],
            "type": "histogram2dcontour"
           }
          ],
          "mesh3d": [
           {
            "colorbar": {
             "outlinewidth": 0,
             "ticks": ""
            },
            "type": "mesh3d"
           }
          ],
          "parcoords": [
           {
            "line": {
             "colorbar": {
              "outlinewidth": 0,
              "ticks": ""
             }
            },
            "type": "parcoords"
           }
          ],
          "pie": [
           {
            "automargin": true,
            "type": "pie"
           }
          ],
          "scatter": [
           {
            "fillpattern": {
             "fillmode": "overlay",
             "size": 10,
             "solidity": 0.2
            },
            "type": "scatter"
           }
          ],
          "scatter3d": [
           {
            "line": {
             "colorbar": {
              "outlinewidth": 0,
              "ticks": ""
             }
            },
            "marker": {
             "colorbar": {
              "outlinewidth": 0,
              "ticks": ""
             }
            },
            "type": "scatter3d"
           }
          ],
          "scattercarpet": [
           {
            "marker": {
             "colorbar": {
              "outlinewidth": 0,
              "ticks": ""
             }
            },
            "type": "scattercarpet"
           }
          ],
          "scattergeo": [
           {
            "marker": {
             "colorbar": {
              "outlinewidth": 0,
              "ticks": ""
             }
            },
            "type": "scattergeo"
           }
          ],
          "scattergl": [
           {
            "marker": {
             "colorbar": {
              "outlinewidth": 0,
              "ticks": ""
             }
            },
            "type": "scattergl"
           }
          ],
          "scattermap": [
           {
            "marker": {
             "colorbar": {
              "outlinewidth": 0,
              "ticks": ""
             }
            },
            "type": "scattermap"
           }
          ],
          "scattermapbox": [
           {
            "marker": {
             "colorbar": {
              "outlinewidth": 0,
              "ticks": ""
             }
            },
            "type": "scattermapbox"
           }
          ],
          "scatterpolar": [
           {
            "marker": {
             "colorbar": {
              "outlinewidth": 0,
              "ticks": ""
             }
            },
            "type": "scatterpolar"
           }
          ],
          "scatterpolargl": [
           {
            "marker": {
             "colorbar": {
              "outlinewidth": 0,
              "ticks": ""
             }
            },
            "type": "scatterpolargl"
           }
          ],
          "scatterternary": [
           {
            "marker": {
             "colorbar": {
              "outlinewidth": 0,
              "ticks": ""
             }
            },
            "type": "scatterternary"
           }
          ],
          "surface": [
           {
            "colorbar": {
             "outlinewidth": 0,
             "ticks": ""
            },
            "colorscale": [
             [
              0,
              "#0d0887"
             ],
             [
              0.1111111111111111,
              "#46039f"
             ],
             [
              0.2222222222222222,
              "#7201a8"
             ],
             [
              0.3333333333333333,
              "#9c179e"
             ],
             [
              0.4444444444444444,
              "#bd3786"
             ],
             [
              0.5555555555555556,
              "#d8576b"
             ],
             [
              0.6666666666666666,
              "#ed7953"
             ],
             [
              0.7777777777777778,
              "#fb9f3a"
             ],
             [
              0.8888888888888888,
              "#fdca26"
             ],
             [
              1,
              "#f0f921"
             ]
            ],
            "type": "surface"
           }
          ],
          "table": [
           {
            "cells": {
             "fill": {
              "color": "#EBF0F8"
             },
             "line": {
              "color": "white"
             }
            },
            "header": {
             "fill": {
              "color": "#C8D4E3"
             },
             "line": {
              "color": "white"
             }
            },
            "type": "table"
           }
          ]
         },
         "layout": {
          "annotationdefaults": {
           "arrowcolor": "#2a3f5f",
           "arrowhead": 0,
           "arrowwidth": 1
          },
          "autotypenumbers": "strict",
          "coloraxis": {
           "colorbar": {
            "outlinewidth": 0,
            "ticks": ""
           }
          },
          "colorscale": {
           "diverging": [
            [
             0,
             "#8e0152"
            ],
            [
             0.1,
             "#c51b7d"
            ],
            [
             0.2,
             "#de77ae"
            ],
            [
             0.3,
             "#f1b6da"
            ],
            [
             0.4,
             "#fde0ef"
            ],
            [
             0.5,
             "#f7f7f7"
            ],
            [
             0.6,
             "#e6f5d0"
            ],
            [
             0.7,
             "#b8e186"
            ],
            [
             0.8,
             "#7fbc41"
            ],
            [
             0.9,
             "#4d9221"
            ],
            [
             1,
             "#276419"
            ]
           ],
           "sequential": [
            [
             0,
             "#0d0887"
            ],
            [
             0.1111111111111111,
             "#46039f"
            ],
            [
             0.2222222222222222,
             "#7201a8"
            ],
            [
             0.3333333333333333,
             "#9c179e"
            ],
            [
             0.4444444444444444,
             "#bd3786"
            ],
            [
             0.5555555555555556,
             "#d8576b"
            ],
            [
             0.6666666666666666,
             "#ed7953"
            ],
            [
             0.7777777777777778,
             "#fb9f3a"
            ],
            [
             0.8888888888888888,
             "#fdca26"
            ],
            [
             1,
             "#f0f921"
            ]
           ],
           "sequentialminus": [
            [
             0,
             "#0d0887"
            ],
            [
             0.1111111111111111,
             "#46039f"
            ],
            [
             0.2222222222222222,
             "#7201a8"
            ],
            [
             0.3333333333333333,
             "#9c179e"
            ],
            [
             0.4444444444444444,
             "#bd3786"
            ],
            [
             0.5555555555555556,
             "#d8576b"
            ],
            [
             0.6666666666666666,
             "#ed7953"
            ],
            [
             0.7777777777777778,
             "#fb9f3a"
            ],
            [
             0.8888888888888888,
             "#fdca26"
            ],
            [
             1,
             "#f0f921"
            ]
           ]
          },
          "colorway": [
           "#636efa",
           "#EF553B",
           "#00cc96",
           "#ab63fa",
           "#FFA15A",
           "#19d3f3",
           "#FF6692",
           "#B6E880",
           "#FF97FF",
           "#FECB52"
          ],
          "font": {
           "color": "#2a3f5f"
          },
          "geo": {
           "bgcolor": "white",
           "lakecolor": "white",
           "landcolor": "#E5ECF6",
           "showlakes": true,
           "showland": true,
           "subunitcolor": "white"
          },
          "hoverlabel": {
           "align": "left"
          },
          "hovermode": "closest",
          "mapbox": {
           "style": "light"
          },
          "paper_bgcolor": "white",
          "plot_bgcolor": "#E5ECF6",
          "polar": {
           "angularaxis": {
            "gridcolor": "white",
            "linecolor": "white",
            "ticks": ""
           },
           "bgcolor": "#E5ECF6",
           "radialaxis": {
            "gridcolor": "white",
            "linecolor": "white",
            "ticks": ""
           }
          },
          "scene": {
           "xaxis": {
            "backgroundcolor": "#E5ECF6",
            "gridcolor": "white",
            "gridwidth": 2,
            "linecolor": "white",
            "showbackground": true,
            "ticks": "",
            "zerolinecolor": "white"
           },
           "yaxis": {
            "backgroundcolor": "#E5ECF6",
            "gridcolor": "white",
            "gridwidth": 2,
            "linecolor": "white",
            "showbackground": true,
            "ticks": "",
            "zerolinecolor": "white"
           },
           "zaxis": {
            "backgroundcolor": "#E5ECF6",
            "gridcolor": "white",
            "gridwidth": 2,
            "linecolor": "white",
            "showbackground": true,
            "ticks": "",
            "zerolinecolor": "white"
           }
          },
          "shapedefaults": {
           "line": {
            "color": "#2a3f5f"
           }
          },
          "ternary": {
           "aaxis": {
            "gridcolor": "white",
            "linecolor": "white",
            "ticks": ""
           },
           "baxis": {
            "gridcolor": "white",
            "linecolor": "white",
            "ticks": ""
           },
           "bgcolor": "#E5ECF6",
           "caxis": {
            "gridcolor": "white",
            "linecolor": "white",
            "ticks": ""
           }
          },
          "title": {
           "x": 0.05
          },
          "xaxis": {
           "automargin": true,
           "gridcolor": "white",
           "linecolor": "white",
           "ticks": "",
           "title": {
            "standoff": 15
           },
           "zerolinecolor": "white",
           "zerolinewidth": 2
          },
          "yaxis": {
           "automargin": true,
           "gridcolor": "white",
           "linecolor": "white",
           "ticks": "",
           "title": {
            "standoff": 15
           },
           "zerolinecolor": "white",
           "zerolinewidth": 2
          }
         }
        },
        "title": {
         "text": "Patients Count by Dataset, Gender, and Age Group"
        },
        "xaxis": {
         "anchor": "y",
         "domain": [
          0,
          1
         ],
         "title": {
          "text": "Dataset"
         }
        },
        "yaxis": {
         "anchor": "x",
         "domain": [
          0,
          1
         ],
         "title": {
          "text": "Count"
         }
        }
       }
      }
     },
     "metadata": {},
     "output_type": "display_data"
    }
   ],
   "source": [
    "# Age bins for 28-77 range\n",
    "age_bins = [28, 35, 40, 45, 50, 55, 60, 65, 70, 75, 77]\n",
    "df['age_group'] = pd.cut(df['age'], bins=age_bins, labels=[\n",
    "    '28-34', '35-39', '40-44', '45-49', '50-54', '55-59', '60-64', '65-69', '70-75', '76-77'\n",
    "])\n",
    "\n",
    "# Group by dataset, sex, and age_group for counts\n",
    "grouped = df.groupby(['dataset', 'sex', 'age_group']).size().reset_index(name='count')\n",
    "\n",
    "# Plotly bar plot: hover shows gender, age bin, and count\n",
    "fig1 = px.bar(\n",
    "    grouped,\n",
    "    x='dataset',\n",
    "    y='count',\n",
    "    color='sex',\n",
    "    barmode='group',\n",
    "    title='Patients Count by Dataset, Gender, and Age Group',\n",
    "    hover_data=['sex', 'age_group', 'count']\n",
    ")\n",
    "fig1.update_layout(\n",
    "    xaxis_title=\"Dataset\",\n",
    "    yaxis_title=\"Count\",\n",
    "    legend_title_text=\"Gender\"\n",
    ")\n",
    "\n",
    "# Save the figure\n",
    "folder_name = 'Plotly Plots'  # Folder to save the image\n",
    "figure_name = 'my_figure1.html'  # Change this to your desired figure name\n",
    "saved_path = save_figure(fig1, folder_name, figure_name)\n",
    "\n",
    "fig1.show()"
   ]
  },
  {
   "cell_type": "code",
   "execution_count": 225,
   "id": "5c7f2ba6",
   "metadata": {},
   "outputs": [
    {
     "name": "stdout",
     "output_type": "stream",
     "text": [
      "    id   age     sex    dataset               cp  trestbps   chol    fbs  \\\n",
      "0  1.0  63.0    Male  Cleveland   typical angina     145.0  233.0   True   \n",
      "1  2.0  67.0    Male  Cleveland     asymptomatic     160.0  286.0  False   \n",
      "2  3.0  67.0    Male  Cleveland     asymptomatic     120.0  229.0  False   \n",
      "3  4.0  37.0    Male  Cleveland      non-anginal     130.0  250.0  False   \n",
      "4  5.0  41.0  Female  Cleveland  atypical angina     130.0  204.0  False   \n",
      "\n",
      "          restecg  thalch  exang  oldpeak        slope   ca  \\\n",
      "0  lv hypertrophy   150.0  False      2.3  downsloping  0.0   \n",
      "1  lv hypertrophy   108.0   True      1.5         flat  3.0   \n",
      "2  lv hypertrophy   129.0   True      2.6         flat  2.0   \n",
      "3          normal   187.0  False      3.5  downsloping  0.0   \n",
      "4  lv hypertrophy   172.0  False      1.4    upsloping  0.0   \n",
      "\n",
      "                thal  num age_group  \n",
      "0       fixed defect  0.0     60-64  \n",
      "1             normal  2.0     65-69  \n",
      "2  reversable defect  1.0     65-69  \n",
      "3             normal  0.0     35-39  \n",
      "4             normal  0.0     40-44  \n"
     ]
    }
   ],
   "source": [
    "# Let's again check the first few rows of dataset\n",
    "print(df.head())\n"
   ]
  },
  {
   "cell_type": "code",
   "execution_count": 226,
   "id": "c4ea8c6b",
   "metadata": {},
   "outputs": [
    {
     "name": "stdout",
     "output_type": "stream",
     "text": [
      "cp\n",
      "asymptomatic       496\n",
      "non-anginal        204\n",
      "atypical angina    174\n",
      "typical angina      46\n",
      "Name: count, dtype: int64\n"
     ]
    }
   ],
   "source": [
    "# Getting the value count of cp\n",
    "print(df[\"cp\"].value_counts())"
   ]
  },
  {
   "cell_type": "code",
   "execution_count": 227,
   "id": "55bb0537",
   "metadata": {},
   "outputs": [
    {
     "data": {
      "application/vnd.plotly.v1+json": {
       "config": {
        "plotlyServerURL": "https://plot.ly"
       },
       "data": [
        {
         "alignmentgroup": "True",
         "hovertemplate": "sex=Female<br>cp=%{x}<br>Average Age=%{y}<extra></extra>",
         "legendgroup": "Female",
         "marker": {
          "color": "#636efa",
          "pattern": {
           "shape": ""
          }
         },
         "name": "Female",
         "offsetgroup": "Female",
         "orientation": "v",
         "showlegend": true,
         "textposition": "auto",
         "type": "bar",
         "x": [
          "asymptomatic",
          "atypical angina",
          "non-anginal",
          "typical angina"
         ],
         "xaxis": "x",
         "y": {
          "bdata": "ODIzOw==",
          "dtype": "i1"
         },
         "yaxis": "y"
        },
        {
         "alignmentgroup": "True",
         "hovertemplate": "sex=Male<br>cp=%{x}<br>Average Age=%{y}<extra></extra>",
         "legendgroup": "Male",
         "marker": {
          "color": "#EF553B",
          "pattern": {
           "shape": ""
          }
         },
         "name": "Male",
         "offsetgroup": "Male",
         "orientation": "v",
         "showlegend": true,
         "textposition": "auto",
         "type": "bar",
         "x": [
          "asymptomatic",
          "atypical angina",
          "non-anginal",
          "typical angina"
         ],
         "xaxis": "x",
         "y": {
          "bdata": "ODM2Ow==",
          "dtype": "i1"
         },
         "yaxis": "y"
        }
       ],
       "layout": {
        "barmode": "group",
        "legend": {
         "title": {
          "text": "sex"
         },
         "tracegroupgap": 0
        },
        "template": {
         "data": {
          "bar": [
           {
            "error_x": {
             "color": "#2a3f5f"
            },
            "error_y": {
             "color": "#2a3f5f"
            },
            "marker": {
             "line": {
              "color": "#E5ECF6",
              "width": 0.5
             },
             "pattern": {
              "fillmode": "overlay",
              "size": 10,
              "solidity": 0.2
             }
            },
            "type": "bar"
           }
          ],
          "barpolar": [
           {
            "marker": {
             "line": {
              "color": "#E5ECF6",
              "width": 0.5
             },
             "pattern": {
              "fillmode": "overlay",
              "size": 10,
              "solidity": 0.2
             }
            },
            "type": "barpolar"
           }
          ],
          "carpet": [
           {
            "aaxis": {
             "endlinecolor": "#2a3f5f",
             "gridcolor": "white",
             "linecolor": "white",
             "minorgridcolor": "white",
             "startlinecolor": "#2a3f5f"
            },
            "baxis": {
             "endlinecolor": "#2a3f5f",
             "gridcolor": "white",
             "linecolor": "white",
             "minorgridcolor": "white",
             "startlinecolor": "#2a3f5f"
            },
            "type": "carpet"
           }
          ],
          "choropleth": [
           {
            "colorbar": {
             "outlinewidth": 0,
             "ticks": ""
            },
            "type": "choropleth"
           }
          ],
          "contour": [
           {
            "colorbar": {
             "outlinewidth": 0,
             "ticks": ""
            },
            "colorscale": [
             [
              0,
              "#0d0887"
             ],
             [
              0.1111111111111111,
              "#46039f"
             ],
             [
              0.2222222222222222,
              "#7201a8"
             ],
             [
              0.3333333333333333,
              "#9c179e"
             ],
             [
              0.4444444444444444,
              "#bd3786"
             ],
             [
              0.5555555555555556,
              "#d8576b"
             ],
             [
              0.6666666666666666,
              "#ed7953"
             ],
             [
              0.7777777777777778,
              "#fb9f3a"
             ],
             [
              0.8888888888888888,
              "#fdca26"
             ],
             [
              1,
              "#f0f921"
             ]
            ],
            "type": "contour"
           }
          ],
          "contourcarpet": [
           {
            "colorbar": {
             "outlinewidth": 0,
             "ticks": ""
            },
            "type": "contourcarpet"
           }
          ],
          "heatmap": [
           {
            "colorbar": {
             "outlinewidth": 0,
             "ticks": ""
            },
            "colorscale": [
             [
              0,
              "#0d0887"
             ],
             [
              0.1111111111111111,
              "#46039f"
             ],
             [
              0.2222222222222222,
              "#7201a8"
             ],
             [
              0.3333333333333333,
              "#9c179e"
             ],
             [
              0.4444444444444444,
              "#bd3786"
             ],
             [
              0.5555555555555556,
              "#d8576b"
             ],
             [
              0.6666666666666666,
              "#ed7953"
             ],
             [
              0.7777777777777778,
              "#fb9f3a"
             ],
             [
              0.8888888888888888,
              "#fdca26"
             ],
             [
              1,
              "#f0f921"
             ]
            ],
            "type": "heatmap"
           }
          ],
          "histogram": [
           {
            "marker": {
             "pattern": {
              "fillmode": "overlay",
              "size": 10,
              "solidity": 0.2
             }
            },
            "type": "histogram"
           }
          ],
          "histogram2d": [
           {
            "colorbar": {
             "outlinewidth": 0,
             "ticks": ""
            },
            "colorscale": [
             [
              0,
              "#0d0887"
             ],
             [
              0.1111111111111111,
              "#46039f"
             ],
             [
              0.2222222222222222,
              "#7201a8"
             ],
             [
              0.3333333333333333,
              "#9c179e"
             ],
             [
              0.4444444444444444,
              "#bd3786"
             ],
             [
              0.5555555555555556,
              "#d8576b"
             ],
             [
              0.6666666666666666,
              "#ed7953"
             ],
             [
              0.7777777777777778,
              "#fb9f3a"
             ],
             [
              0.8888888888888888,
              "#fdca26"
             ],
             [
              1,
              "#f0f921"
             ]
            ],
            "type": "histogram2d"
           }
          ],
          "histogram2dcontour": [
           {
            "colorbar": {
             "outlinewidth": 0,
             "ticks": ""
            },
            "colorscale": [
             [
              0,
              "#0d0887"
             ],
             [
              0.1111111111111111,
              "#46039f"
             ],
             [
              0.2222222222222222,
              "#7201a8"
             ],
             [
              0.3333333333333333,
              "#9c179e"
             ],
             [
              0.4444444444444444,
              "#bd3786"
             ],
             [
              0.5555555555555556,
              "#d8576b"
             ],
             [
              0.6666666666666666,
              "#ed7953"
             ],
             [
              0.7777777777777778,
              "#fb9f3a"
             ],
             [
              0.8888888888888888,
              "#fdca26"
             ],
             [
              1,
              "#f0f921"
             ]
            ],
            "type": "histogram2dcontour"
           }
          ],
          "mesh3d": [
           {
            "colorbar": {
             "outlinewidth": 0,
             "ticks": ""
            },
            "type": "mesh3d"
           }
          ],
          "parcoords": [
           {
            "line": {
             "colorbar": {
              "outlinewidth": 0,
              "ticks": ""
             }
            },
            "type": "parcoords"
           }
          ],
          "pie": [
           {
            "automargin": true,
            "type": "pie"
           }
          ],
          "scatter": [
           {
            "fillpattern": {
             "fillmode": "overlay",
             "size": 10,
             "solidity": 0.2
            },
            "type": "scatter"
           }
          ],
          "scatter3d": [
           {
            "line": {
             "colorbar": {
              "outlinewidth": 0,
              "ticks": ""
             }
            },
            "marker": {
             "colorbar": {
              "outlinewidth": 0,
              "ticks": ""
             }
            },
            "type": "scatter3d"
           }
          ],
          "scattercarpet": [
           {
            "marker": {
             "colorbar": {
              "outlinewidth": 0,
              "ticks": ""
             }
            },
            "type": "scattercarpet"
           }
          ],
          "scattergeo": [
           {
            "marker": {
             "colorbar": {
              "outlinewidth": 0,
              "ticks": ""
             }
            },
            "type": "scattergeo"
           }
          ],
          "scattergl": [
           {
            "marker": {
             "colorbar": {
              "outlinewidth": 0,
              "ticks": ""
             }
            },
            "type": "scattergl"
           }
          ],
          "scattermap": [
           {
            "marker": {
             "colorbar": {
              "outlinewidth": 0,
              "ticks": ""
             }
            },
            "type": "scattermap"
           }
          ],
          "scattermapbox": [
           {
            "marker": {
             "colorbar": {
              "outlinewidth": 0,
              "ticks": ""
             }
            },
            "type": "scattermapbox"
           }
          ],
          "scatterpolar": [
           {
            "marker": {
             "colorbar": {
              "outlinewidth": 0,
              "ticks": ""
             }
            },
            "type": "scatterpolar"
           }
          ],
          "scatterpolargl": [
           {
            "marker": {
             "colorbar": {
              "outlinewidth": 0,
              "ticks": ""
             }
            },
            "type": "scatterpolargl"
           }
          ],
          "scatterternary": [
           {
            "marker": {
             "colorbar": {
              "outlinewidth": 0,
              "ticks": ""
             }
            },
            "type": "scatterternary"
           }
          ],
          "surface": [
           {
            "colorbar": {
             "outlinewidth": 0,
             "ticks": ""
            },
            "colorscale": [
             [
              0,
              "#0d0887"
             ],
             [
              0.1111111111111111,
              "#46039f"
             ],
             [
              0.2222222222222222,
              "#7201a8"
             ],
             [
              0.3333333333333333,
              "#9c179e"
             ],
             [
              0.4444444444444444,
              "#bd3786"
             ],
             [
              0.5555555555555556,
              "#d8576b"
             ],
             [
              0.6666666666666666,
              "#ed7953"
             ],
             [
              0.7777777777777778,
              "#fb9f3a"
             ],
             [
              0.8888888888888888,
              "#fdca26"
             ],
             [
              1,
              "#f0f921"
             ]
            ],
            "type": "surface"
           }
          ],
          "table": [
           {
            "cells": {
             "fill": {
              "color": "#EBF0F8"
             },
             "line": {
              "color": "white"
             }
            },
            "header": {
             "fill": {
              "color": "#C8D4E3"
             },
             "line": {
              "color": "white"
             }
            },
            "type": "table"
           }
          ]
         },
         "layout": {
          "annotationdefaults": {
           "arrowcolor": "#2a3f5f",
           "arrowhead": 0,
           "arrowwidth": 1
          },
          "autotypenumbers": "strict",
          "coloraxis": {
           "colorbar": {
            "outlinewidth": 0,
            "ticks": ""
           }
          },
          "colorscale": {
           "diverging": [
            [
             0,
             "#8e0152"
            ],
            [
             0.1,
             "#c51b7d"
            ],
            [
             0.2,
             "#de77ae"
            ],
            [
             0.3,
             "#f1b6da"
            ],
            [
             0.4,
             "#fde0ef"
            ],
            [
             0.5,
             "#f7f7f7"
            ],
            [
             0.6,
             "#e6f5d0"
            ],
            [
             0.7,
             "#b8e186"
            ],
            [
             0.8,
             "#7fbc41"
            ],
            [
             0.9,
             "#4d9221"
            ],
            [
             1,
             "#276419"
            ]
           ],
           "sequential": [
            [
             0,
             "#0d0887"
            ],
            [
             0.1111111111111111,
             "#46039f"
            ],
            [
             0.2222222222222222,
             "#7201a8"
            ],
            [
             0.3333333333333333,
             "#9c179e"
            ],
            [
             0.4444444444444444,
             "#bd3786"
            ],
            [
             0.5555555555555556,
             "#d8576b"
            ],
            [
             0.6666666666666666,
             "#ed7953"
            ],
            [
             0.7777777777777778,
             "#fb9f3a"
            ],
            [
             0.8888888888888888,
             "#fdca26"
            ],
            [
             1,
             "#f0f921"
            ]
           ],
           "sequentialminus": [
            [
             0,
             "#0d0887"
            ],
            [
             0.1111111111111111,
             "#46039f"
            ],
            [
             0.2222222222222222,
             "#7201a8"
            ],
            [
             0.3333333333333333,
             "#9c179e"
            ],
            [
             0.4444444444444444,
             "#bd3786"
            ],
            [
             0.5555555555555556,
             "#d8576b"
            ],
            [
             0.6666666666666666,
             "#ed7953"
            ],
            [
             0.7777777777777778,
             "#fb9f3a"
            ],
            [
             0.8888888888888888,
             "#fdca26"
            ],
            [
             1,
             "#f0f921"
            ]
           ]
          },
          "colorway": [
           "#636efa",
           "#EF553B",
           "#00cc96",
           "#ab63fa",
           "#FFA15A",
           "#19d3f3",
           "#FF6692",
           "#B6E880",
           "#FF97FF",
           "#FECB52"
          ],
          "font": {
           "color": "#2a3f5f"
          },
          "geo": {
           "bgcolor": "white",
           "lakecolor": "white",
           "landcolor": "#E5ECF6",
           "showlakes": true,
           "showland": true,
           "subunitcolor": "white"
          },
          "hoverlabel": {
           "align": "left"
          },
          "hovermode": "closest",
          "mapbox": {
           "style": "light"
          },
          "paper_bgcolor": "white",
          "plot_bgcolor": "#E5ECF6",
          "polar": {
           "angularaxis": {
            "gridcolor": "white",
            "linecolor": "white",
            "ticks": ""
           },
           "bgcolor": "#E5ECF6",
           "radialaxis": {
            "gridcolor": "white",
            "linecolor": "white",
            "ticks": ""
           }
          },
          "scene": {
           "xaxis": {
            "backgroundcolor": "#E5ECF6",
            "gridcolor": "white",
            "gridwidth": 2,
            "linecolor": "white",
            "showbackground": true,
            "ticks": "",
            "zerolinecolor": "white"
           },
           "yaxis": {
            "backgroundcolor": "#E5ECF6",
            "gridcolor": "white",
            "gridwidth": 2,
            "linecolor": "white",
            "showbackground": true,
            "ticks": "",
            "zerolinecolor": "white"
           },
           "zaxis": {
            "backgroundcolor": "#E5ECF6",
            "gridcolor": "white",
            "gridwidth": 2,
            "linecolor": "white",
            "showbackground": true,
            "ticks": "",
            "zerolinecolor": "white"
           }
          },
          "shapedefaults": {
           "line": {
            "color": "#2a3f5f"
           }
          },
          "ternary": {
           "aaxis": {
            "gridcolor": "white",
            "linecolor": "white",
            "ticks": ""
           },
           "baxis": {
            "gridcolor": "white",
            "linecolor": "white",
            "ticks": ""
           },
           "bgcolor": "#E5ECF6",
           "caxis": {
            "gridcolor": "white",
            "linecolor": "white",
            "ticks": ""
           }
          },
          "title": {
           "x": 0.05
          },
          "xaxis": {
           "automargin": true,
           "gridcolor": "white",
           "linecolor": "white",
           "ticks": "",
           "title": {
            "standoff": 15
           },
           "zerolinecolor": "white",
           "zerolinewidth": 2
          },
          "yaxis": {
           "automargin": true,
           "gridcolor": "white",
           "linecolor": "white",
           "ticks": "",
           "title": {
            "standoff": 15
           },
           "zerolinecolor": "white",
           "zerolinewidth": 2
          }
         }
        },
        "title": {
         "text": "Average Age by Chest Pain Type and Sex"
        },
        "xaxis": {
         "anchor": "y",
         "domain": [
          0,
          1
         ],
         "title": {
          "text": "cp"
         }
        },
        "yaxis": {
         "anchor": "x",
         "domain": [
          0,
          1
         ],
         "title": {
          "text": "Average Age"
         }
        }
       }
      }
     },
     "metadata": {},
     "output_type": "display_data"
    }
   ],
   "source": [
    "# This code calculates the median age for each chest pain type and sex, \n",
    "# then creates a grouped bar plot to visualize the average age by chest pain type and sex.\n",
    "# Calculate the average age for each chest pain type and sex\n",
    "average_age = df.groupby(['cp', 'sex'])['age'].median().round(0).astype(int).reset_index()\n",
    "\n",
    "# Bar Plot using Plotly\n",
    "fig2 = px.bar(average_age, \n",
    "             x='cp', \n",
    "             y='age', \n",
    "             color='sex',\n",
    "             barmode='group',\n",
    "             title='Average Age by Chest Pain Type and Sex',\n",
    "             labels={'age': 'Average Age', 'chest_pain': 'Chest Pain Type'})\n",
    "# Save the figure\n",
    "folder_name = 'Plotly Plots'  # Folder to save the image\n",
    "figure_name = 'my_figure2.html'  # Change this to your desired figure name\n",
    "saved_path = save_figure(fig2, folder_name, figure_name)\n",
    "\n",
    "# Display the saved interactive figure\n",
    "fig2.show()\n"
   ]
  },
  {
   "cell_type": "code",
   "execution_count": 228,
   "id": "04c4bfeb",
   "metadata": {},
   "outputs": [
    {
     "data": {
      "application/vnd.plotly.v1+json": {
       "config": {
        "plotlyServerURL": "https://plot.ly"
       },
       "data": [
        {
         "alignmentgroup": "True",
         "hovertemplate": "Resting Blood Pressure (trestbps)=%{y}<extra></extra>",
         "legendgroup": "",
         "marker": {
          "color": "#636efa"
         },
         "name": "",
         "notched": false,
         "offsetgroup": "",
         "orientation": "v",
         "showlegend": false,
         "type": "box",
         "x0": " ",
         "xaxis": "x",
         "y": {
          "bdata": "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",
          "dtype": "f8"
         },
         "y0": " ",
         "yaxis": "y"
        }
       ],
       "layout": {
        "boxmode": "group",
        "legend": {
         "tracegroupgap": 0
        },
        "template": {
         "data": {
          "bar": [
           {
            "error_x": {
             "color": "#2a3f5f"
            },
            "error_y": {
             "color": "#2a3f5f"
            },
            "marker": {
             "line": {
              "color": "#E5ECF6",
              "width": 0.5
             },
             "pattern": {
              "fillmode": "overlay",
              "size": 10,
              "solidity": 0.2
             }
            },
            "type": "bar"
           }
          ],
          "barpolar": [
           {
            "marker": {
             "line": {
              "color": "#E5ECF6",
              "width": 0.5
             },
             "pattern": {
              "fillmode": "overlay",
              "size": 10,
              "solidity": 0.2
             }
            },
            "type": "barpolar"
           }
          ],
          "carpet": [
           {
            "aaxis": {
             "endlinecolor": "#2a3f5f",
             "gridcolor": "white",
             "linecolor": "white",
             "minorgridcolor": "white",
             "startlinecolor": "#2a3f5f"
            },
            "baxis": {
             "endlinecolor": "#2a3f5f",
             "gridcolor": "white",
             "linecolor": "white",
             "minorgridcolor": "white",
             "startlinecolor": "#2a3f5f"
            },
            "type": "carpet"
           }
          ],
          "choropleth": [
           {
            "colorbar": {
             "outlinewidth": 0,
             "ticks": ""
            },
            "type": "choropleth"
           }
          ],
          "contour": [
           {
            "colorbar": {
             "outlinewidth": 0,
             "ticks": ""
            },
            "colorscale": [
             [
              0,
              "#0d0887"
             ],
             [
              0.1111111111111111,
              "#46039f"
             ],
             [
              0.2222222222222222,
              "#7201a8"
             ],
             [
              0.3333333333333333,
              "#9c179e"
             ],
             [
              0.4444444444444444,
              "#bd3786"
             ],
             [
              0.5555555555555556,
              "#d8576b"
             ],
             [
              0.6666666666666666,
              "#ed7953"
             ],
             [
              0.7777777777777778,
              "#fb9f3a"
             ],
             [
              0.8888888888888888,
              "#fdca26"
             ],
             [
              1,
              "#f0f921"
             ]
            ],
            "type": "contour"
           }
          ],
          "contourcarpet": [
           {
            "colorbar": {
             "outlinewidth": 0,
             "ticks": ""
            },
            "type": "contourcarpet"
           }
          ],
          "heatmap": [
           {
            "colorbar": {
             "outlinewidth": 0,
             "ticks": ""
            },
            "colorscale": [
             [
              0,
              "#0d0887"
             ],
             [
              0.1111111111111111,
              "#46039f"
             ],
             [
              0.2222222222222222,
              "#7201a8"
             ],
             [
              0.3333333333333333,
              "#9c179e"
             ],
             [
              0.4444444444444444,
              "#bd3786"
             ],
             [
              0.5555555555555556,
              "#d8576b"
             ],
             [
              0.6666666666666666,
              "#ed7953"
             ],
             [
              0.7777777777777778,
              "#fb9f3a"
             ],
             [
              0.8888888888888888,
              "#fdca26"
             ],
             [
              1,
              "#f0f921"
             ]
            ],
            "type": "heatmap"
           }
          ],
          "histogram": [
           {
            "marker": {
             "pattern": {
              "fillmode": "overlay",
              "size": 10,
              "solidity": 0.2
             }
            },
            "type": "histogram"
           }
          ],
          "histogram2d": [
           {
            "colorbar": {
             "outlinewidth": 0,
             "ticks": ""
            },
            "colorscale": [
             [
              0,
              "#0d0887"
             ],
             [
              0.1111111111111111,
              "#46039f"
             ],
             [
              0.2222222222222222,
              "#7201a8"
             ],
             [
              0.3333333333333333,
              "#9c179e"
             ],
             [
              0.4444444444444444,
              "#bd3786"
             ],
             [
              0.5555555555555556,
              "#d8576b"
             ],
             [
              0.6666666666666666,
              "#ed7953"
             ],
             [
              0.7777777777777778,
              "#fb9f3a"
             ],
             [
              0.8888888888888888,
              "#fdca26"
             ],
             [
              1,
              "#f0f921"
             ]
            ],
            "type": "histogram2d"
           }
          ],
          "histogram2dcontour": [
           {
            "colorbar": {
             "outlinewidth": 0,
             "ticks": ""
            },
            "colorscale": [
             [
              0,
              "#0d0887"
             ],
             [
              0.1111111111111111,
              "#46039f"
             ],
             [
              0.2222222222222222,
              "#7201a8"
             ],
             [
              0.3333333333333333,
              "#9c179e"
             ],
             [
              0.4444444444444444,
              "#bd3786"
             ],
             [
              0.5555555555555556,
              "#d8576b"
             ],
             [
              0.6666666666666666,
              "#ed7953"
             ],
             [
              0.7777777777777778,
              "#fb9f3a"
             ],
             [
              0.8888888888888888,
              "#fdca26"
             ],
             [
              1,
              "#f0f921"
             ]
            ],
            "type": "histogram2dcontour"
           }
          ],
          "mesh3d": [
           {
            "colorbar": {
             "outlinewidth": 0,
             "ticks": ""
            },
            "type": "mesh3d"
           }
          ],
          "parcoords": [
           {
            "line": {
             "colorbar": {
              "outlinewidth": 0,
              "ticks": ""
             }
            },
            "type": "parcoords"
           }
          ],
          "pie": [
           {
            "automargin": true,
            "type": "pie"
           }
          ],
          "scatter": [
           {
            "fillpattern": {
             "fillmode": "overlay",
             "size": 10,
             "solidity": 0.2
            },
            "type": "scatter"
           }
          ],
          "scatter3d": [
           {
            "line": {
             "colorbar": {
              "outlinewidth": 0,
              "ticks": ""
             }
            },
            "marker": {
             "colorbar": {
              "outlinewidth": 0,
              "ticks": ""
             }
            },
            "type": "scatter3d"
           }
          ],
          "scattercarpet": [
           {
            "marker": {
             "colorbar": {
              "outlinewidth": 0,
              "ticks": ""
             }
            },
            "type": "scattercarpet"
           }
          ],
          "scattergeo": [
           {
            "marker": {
             "colorbar": {
              "outlinewidth": 0,
              "ticks": ""
             }
            },
            "type": "scattergeo"
           }
          ],
          "scattergl": [
           {
            "marker": {
             "colorbar": {
              "outlinewidth": 0,
              "ticks": ""
             }
            },
            "type": "scattergl"
           }
          ],
          "scattermap": [
           {
            "marker": {
             "colorbar": {
              "outlinewidth": 0,
              "ticks": ""
             }
            },
            "type": "scattermap"
           }
          ],
          "scattermapbox": [
           {
            "marker": {
             "colorbar": {
              "outlinewidth": 0,
              "ticks": ""
             }
            },
            "type": "scattermapbox"
           }
          ],
          "scatterpolar": [
           {
            "marker": {
             "colorbar": {
              "outlinewidth": 0,
              "ticks": ""
             }
            },
            "type": "scatterpolar"
           }
          ],
          "scatterpolargl": [
           {
            "marker": {
             "colorbar": {
              "outlinewidth": 0,
              "ticks": ""
             }
            },
            "type": "scatterpolargl"
           }
          ],
          "scatterternary": [
           {
            "marker": {
             "colorbar": {
              "outlinewidth": 0,
              "ticks": ""
             }
            },
            "type": "scatterternary"
           }
          ],
          "surface": [
           {
            "colorbar": {
             "outlinewidth": 0,
             "ticks": ""
            },
            "colorscale": [
             [
              0,
              "#0d0887"
             ],
             [
              0.1111111111111111,
              "#46039f"
             ],
             [
              0.2222222222222222,
              "#7201a8"
             ],
             [
              0.3333333333333333,
              "#9c179e"
             ],
             [
              0.4444444444444444,
              "#bd3786"
             ],
             [
              0.5555555555555556,
              "#d8576b"
             ],
             [
              0.6666666666666666,
              "#ed7953"
             ],
             [
              0.7777777777777778,
              "#fb9f3a"
             ],
             [
              0.8888888888888888,
              "#fdca26"
             ],
             [
              1,
              "#f0f921"
             ]
            ],
            "type": "surface"
           }
          ],
          "table": [
           {
            "cells": {
             "fill": {
              "color": "#EBF0F8"
             },
             "line": {
              "color": "white"
             }
            },
            "header": {
             "fill": {
              "color": "#C8D4E3"
             },
             "line": {
              "color": "white"
             }
            },
            "type": "table"
           }
          ]
         },
         "layout": {
          "annotationdefaults": {
           "arrowcolor": "#2a3f5f",
           "arrowhead": 0,
           "arrowwidth": 1
          },
          "autotypenumbers": "strict",
          "coloraxis": {
           "colorbar": {
            "outlinewidth": 0,
            "ticks": ""
           }
          },
          "colorscale": {
           "diverging": [
            [
             0,
             "#8e0152"
            ],
            [
             0.1,
             "#c51b7d"
            ],
            [
             0.2,
             "#de77ae"
            ],
            [
             0.3,
             "#f1b6da"
            ],
            [
             0.4,
             "#fde0ef"
            ],
            [
             0.5,
             "#f7f7f7"
            ],
            [
             0.6,
             "#e6f5d0"
            ],
            [
             0.7,
             "#b8e186"
            ],
            [
             0.8,
             "#7fbc41"
            ],
            [
             0.9,
             "#4d9221"
            ],
            [
             1,
             "#276419"
            ]
           ],
           "sequential": [
            [
             0,
             "#0d0887"
            ],
            [
             0.1111111111111111,
             "#46039f"
            ],
            [
             0.2222222222222222,
             "#7201a8"
            ],
            [
             0.3333333333333333,
             "#9c179e"
            ],
            [
             0.4444444444444444,
             "#bd3786"
            ],
            [
             0.5555555555555556,
             "#d8576b"
            ],
            [
             0.6666666666666666,
             "#ed7953"
            ],
            [
             0.7777777777777778,
             "#fb9f3a"
            ],
            [
             0.8888888888888888,
             "#fdca26"
            ],
            [
             1,
             "#f0f921"
            ]
           ],
           "sequentialminus": [
            [
             0,
             "#0d0887"
            ],
            [
             0.1111111111111111,
             "#46039f"
            ],
            [
             0.2222222222222222,
             "#7201a8"
            ],
            [
             0.3333333333333333,
             "#9c179e"
            ],
            [
             0.4444444444444444,
             "#bd3786"
            ],
            [
             0.5555555555555556,
             "#d8576b"
            ],
            [
             0.6666666666666666,
             "#ed7953"
            ],
            [
             0.7777777777777778,
             "#fb9f3a"
            ],
            [
             0.8888888888888888,
             "#fdca26"
            ],
            [
             1,
             "#f0f921"
            ]
           ]
          },
          "colorway": [
           "#636efa",
           "#EF553B",
           "#00cc96",
           "#ab63fa",
           "#FFA15A",
           "#19d3f3",
           "#FF6692",
           "#B6E880",
           "#FF97FF",
           "#FECB52"
          ],
          "font": {
           "color": "#2a3f5f"
          },
          "geo": {
           "bgcolor": "white",
           "lakecolor": "white",
           "landcolor": "#E5ECF6",
           "showlakes": true,
           "showland": true,
           "subunitcolor": "white"
          },
          "hoverlabel": {
           "align": "left"
          },
          "hovermode": "closest",
          "mapbox": {
           "style": "light"
          },
          "paper_bgcolor": "white",
          "plot_bgcolor": "#E5ECF6",
          "polar": {
           "angularaxis": {
            "gridcolor": "white",
            "linecolor": "white",
            "ticks": ""
           },
           "bgcolor": "#E5ECF6",
           "radialaxis": {
            "gridcolor": "white",
            "linecolor": "white",
            "ticks": ""
           }
          },
          "scene": {
           "xaxis": {
            "backgroundcolor": "#E5ECF6",
            "gridcolor": "white",
            "gridwidth": 2,
            "linecolor": "white",
            "showbackground": true,
            "ticks": "",
            "zerolinecolor": "white"
           },
           "yaxis": {
            "backgroundcolor": "#E5ECF6",
            "gridcolor": "white",
            "gridwidth": 2,
            "linecolor": "white",
            "showbackground": true,
            "ticks": "",
            "zerolinecolor": "white"
           },
           "zaxis": {
            "backgroundcolor": "#E5ECF6",
            "gridcolor": "white",
            "gridwidth": 2,
            "linecolor": "white",
            "showbackground": true,
            "ticks": "",
            "zerolinecolor": "white"
           }
          },
          "shapedefaults": {
           "line": {
            "color": "#2a3f5f"
           }
          },
          "ternary": {
           "aaxis": {
            "gridcolor": "white",
            "linecolor": "white",
            "ticks": ""
           },
           "baxis": {
            "gridcolor": "white",
            "linecolor": "white",
            "ticks": ""
           },
           "bgcolor": "#E5ECF6",
           "caxis": {
            "gridcolor": "white",
            "linecolor": "white",
            "ticks": ""
           }
          },
          "title": {
           "x": 0.05
          },
          "xaxis": {
           "automargin": true,
           "gridcolor": "white",
           "linecolor": "white",
           "ticks": "",
           "title": {
            "standoff": 15
           },
           "zerolinecolor": "white",
           "zerolinewidth": 2
          },
          "yaxis": {
           "automargin": true,
           "gridcolor": "white",
           "linecolor": "white",
           "ticks": "",
           "title": {
            "standoff": 15
           },
           "zerolinecolor": "white",
           "zerolinewidth": 2
          }
         }
        },
        "title": {
         "text": "Box Plot of Resting Blood Pressure (trestbps)"
        },
        "xaxis": {
         "anchor": "y",
         "domain": [
          0,
          1
         ]
        },
        "yaxis": {
         "anchor": "x",
         "domain": [
          0,
          1
         ],
         "title": {
          "text": "Resting Blood Pressure (trestbps)"
         }
        }
       }
      }
     },
     "metadata": {},
     "output_type": "display_data"
    }
   ],
   "source": [
    "# Let's view the tresbps using boxplot\n",
    "# Create a box plot\n",
    "fig3 = px.box(df, y='trestbps', title='Box Plot of Resting Blood Pressure (trestbps)',\n",
    "             labels={'trestbps': 'Resting Blood Pressure (trestbps)'})\n",
    "\n",
    "# Save the figure\n",
    "folder_name = 'Plotly Plots'  # Folder to save the image\n",
    "figure_name = 'my_figure3.html'  # Change this to your desired figure name\n",
    "saved_path = save_figure(fig3, folder_name, figure_name)\n",
    "\n",
    "# Show the plot\n",
    "fig3.show()"
   ]
  },
  {
   "cell_type": "markdown",
   "id": "67e6b87d",
   "metadata": {},
   "source": [
    "# Handling the Outliers of trestbps(Resting Blood Pressure of Patients)                "
   ]
  },
  {
   "cell_type": "code",
   "execution_count": 229,
   "id": "06de23d4",
   "metadata": {},
   "outputs": [],
   "source": [
    "# I see and study thorougly i decided to drop trestbps column at these specific rows where i found outliers.\n",
    "df.drop(df[df[\"trestbps\"] == 0].index, inplace=True)\n",
    "df.drop(df[df[\"trestbps\"] == 80].index, inplace=True)\n",
    "df.drop(df[(df[\"trestbps\"] == 178) & (df[\"chol\"] == 0)].index, inplace=True)\n",
    "df.drop(df[(df[\"trestbps\"] == 180) & (df[\"chol\"] == 0)].index, inplace=True)\n",
    "df.drop(df[df[\"trestbps\"] == 185].index, inplace=True)\n",
    "df.drop(df[(df[\"trestbps\"] == 200) & (df[\"chol\"] == 0)].index, inplace=True)"
   ]
  },
  {
   "cell_type": "code",
   "execution_count": 230,
   "id": "6dab1a69",
   "metadata": {},
   "outputs": [
    {
     "data": {
      "application/vnd.plotly.v1+json": {
       "config": {
        "plotlyServerURL": "https://plot.ly"
       },
       "data": [
        {
         "alignmentgroup": "True",
         "hovertemplate": "Resting Blood Pressure (trestbps)=%{y}<extra></extra>",
         "legendgroup": "",
         "marker": {
          "color": "#636efa"
         },
         "name": "",
         "notched": false,
         "offsetgroup": "",
         "orientation": "v",
         "showlegend": false,
         "type": "box",
         "x0": " ",
         "xaxis": "x",
         "y": {
          "bdata": "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",
          "dtype": "f8"
         },
         "y0": " ",
         "yaxis": "y"
        }
       ],
       "layout": {
        "boxmode": "group",
        "legend": {
         "tracegroupgap": 0
        },
        "template": {
         "data": {
          "bar": [
           {
            "error_x": {
             "color": "#2a3f5f"
            },
            "error_y": {
             "color": "#2a3f5f"
            },
            "marker": {
             "line": {
              "color": "#E5ECF6",
              "width": 0.5
             },
             "pattern": {
              "fillmode": "overlay",
              "size": 10,
              "solidity": 0.2
             }
            },
            "type": "bar"
           }
          ],
          "barpolar": [
           {
            "marker": {
             "line": {
              "color": "#E5ECF6",
              "width": 0.5
             },
             "pattern": {
              "fillmode": "overlay",
              "size": 10,
              "solidity": 0.2
             }
            },
            "type": "barpolar"
           }
          ],
          "carpet": [
           {
            "aaxis": {
             "endlinecolor": "#2a3f5f",
             "gridcolor": "white",
             "linecolor": "white",
             "minorgridcolor": "white",
             "startlinecolor": "#2a3f5f"
            },
            "baxis": {
             "endlinecolor": "#2a3f5f",
             "gridcolor": "white",
             "linecolor": "white",
             "minorgridcolor": "white",
             "startlinecolor": "#2a3f5f"
            },
            "type": "carpet"
           }
          ],
          "choropleth": [
           {
            "colorbar": {
             "outlinewidth": 0,
             "ticks": ""
            },
            "type": "choropleth"
           }
          ],
          "contour": [
           {
            "colorbar": {
             "outlinewidth": 0,
             "ticks": ""
            },
            "colorscale": [
             [
              0,
              "#0d0887"
             ],
             [
              0.1111111111111111,
              "#46039f"
             ],
             [
              0.2222222222222222,
              "#7201a8"
             ],
             [
              0.3333333333333333,
              "#9c179e"
             ],
             [
              0.4444444444444444,
              "#bd3786"
             ],
             [
              0.5555555555555556,
              "#d8576b"
             ],
             [
              0.6666666666666666,
              "#ed7953"
             ],
             [
              0.7777777777777778,
              "#fb9f3a"
             ],
             [
              0.8888888888888888,
              "#fdca26"
             ],
             [
              1,
              "#f0f921"
             ]
            ],
            "type": "contour"
           }
          ],
          "contourcarpet": [
           {
            "colorbar": {
             "outlinewidth": 0,
             "ticks": ""
            },
            "type": "contourcarpet"
           }
          ],
          "heatmap": [
           {
            "colorbar": {
             "outlinewidth": 0,
             "ticks": ""
            },
            "colorscale": [
             [
              0,
              "#0d0887"
             ],
             [
              0.1111111111111111,
              "#46039f"
             ],
             [
              0.2222222222222222,
              "#7201a8"
             ],
             [
              0.3333333333333333,
              "#9c179e"
             ],
             [
              0.4444444444444444,
              "#bd3786"
             ],
             [
              0.5555555555555556,
              "#d8576b"
             ],
             [
              0.6666666666666666,
              "#ed7953"
             ],
             [
              0.7777777777777778,
              "#fb9f3a"
             ],
             [
              0.8888888888888888,
              "#fdca26"
             ],
             [
              1,
              "#f0f921"
             ]
            ],
            "type": "heatmap"
           }
          ],
          "histogram": [
           {
            "marker": {
             "pattern": {
              "fillmode": "overlay",
              "size": 10,
              "solidity": 0.2
             }
            },
            "type": "histogram"
           }
          ],
          "histogram2d": [
           {
            "colorbar": {
             "outlinewidth": 0,
             "ticks": ""
            },
            "colorscale": [
             [
              0,
              "#0d0887"
             ],
             [
              0.1111111111111111,
              "#46039f"
             ],
             [
              0.2222222222222222,
              "#7201a8"
             ],
             [
              0.3333333333333333,
              "#9c179e"
             ],
             [
              0.4444444444444444,
              "#bd3786"
             ],
             [
              0.5555555555555556,
              "#d8576b"
             ],
             [
              0.6666666666666666,
              "#ed7953"
             ],
             [
              0.7777777777777778,
              "#fb9f3a"
             ],
             [
              0.8888888888888888,
              "#fdca26"
             ],
             [
              1,
              "#f0f921"
             ]
            ],
            "type": "histogram2d"
           }
          ],
          "histogram2dcontour": [
           {
            "colorbar": {
             "outlinewidth": 0,
             "ticks": ""
            },
            "colorscale": [
             [
              0,
              "#0d0887"
             ],
             [
              0.1111111111111111,
              "#46039f"
             ],
             [
              0.2222222222222222,
              "#7201a8"
             ],
             [
              0.3333333333333333,
              "#9c179e"
             ],
             [
              0.4444444444444444,
              "#bd3786"
             ],
             [
              0.5555555555555556,
              "#d8576b"
             ],
             [
              0.6666666666666666,
              "#ed7953"
             ],
             [
              0.7777777777777778,
              "#fb9f3a"
             ],
             [
              0.8888888888888888,
              "#fdca26"
             ],
             [
              1,
              "#f0f921"
             ]
            ],
            "type": "histogram2dcontour"
           }
          ],
          "mesh3d": [
           {
            "colorbar": {
             "outlinewidth": 0,
             "ticks": ""
            },
            "type": "mesh3d"
           }
          ],
          "parcoords": [
           {
            "line": {
             "colorbar": {
              "outlinewidth": 0,
              "ticks": ""
             }
            },
            "type": "parcoords"
           }
          ],
          "pie": [
           {
            "automargin": true,
            "type": "pie"
           }
          ],
          "scatter": [
           {
            "fillpattern": {
             "fillmode": "overlay",
             "size": 10,
             "solidity": 0.2
            },
            "type": "scatter"
           }
          ],
          "scatter3d": [
           {
            "line": {
             "colorbar": {
              "outlinewidth": 0,
              "ticks": ""
             }
            },
            "marker": {
             "colorbar": {
              "outlinewidth": 0,
              "ticks": ""
             }
            },
            "type": "scatter3d"
           }
          ],
          "scattercarpet": [
           {
            "marker": {
             "colorbar": {
              "outlinewidth": 0,
              "ticks": ""
             }
            },
            "type": "scattercarpet"
           }
          ],
          "scattergeo": [
           {
            "marker": {
             "colorbar": {
              "outlinewidth": 0,
              "ticks": ""
             }
            },
            "type": "scattergeo"
           }
          ],
          "scattergl": [
           {
            "marker": {
             "colorbar": {
              "outlinewidth": 0,
              "ticks": ""
             }
            },
            "type": "scattergl"
           }
          ],
          "scattermap": [
           {
            "marker": {
             "colorbar": {
              "outlinewidth": 0,
              "ticks": ""
             }
            },
            "type": "scattermap"
           }
          ],
          "scattermapbox": [
           {
            "marker": {
             "colorbar": {
              "outlinewidth": 0,
              "ticks": ""
             }
            },
            "type": "scattermapbox"
           }
          ],
          "scatterpolar": [
           {
            "marker": {
             "colorbar": {
              "outlinewidth": 0,
              "ticks": ""
             }
            },
            "type": "scatterpolar"
           }
          ],
          "scatterpolargl": [
           {
            "marker": {
             "colorbar": {
              "outlinewidth": 0,
              "ticks": ""
             }
            },
            "type": "scatterpolargl"
           }
          ],
          "scatterternary": [
           {
            "marker": {
             "colorbar": {
              "outlinewidth": 0,
              "ticks": ""
             }
            },
            "type": "scatterternary"
           }
          ],
          "surface": [
           {
            "colorbar": {
             "outlinewidth": 0,
             "ticks": ""
            },
            "colorscale": [
             [
              0,
              "#0d0887"
             ],
             [
              0.1111111111111111,
              "#46039f"
             ],
             [
              0.2222222222222222,
              "#7201a8"
             ],
             [
              0.3333333333333333,
              "#9c179e"
             ],
             [
              0.4444444444444444,
              "#bd3786"
             ],
             [
              0.5555555555555556,
              "#d8576b"
             ],
             [
              0.6666666666666666,
              "#ed7953"
             ],
             [
              0.7777777777777778,
              "#fb9f3a"
             ],
             [
              0.8888888888888888,
              "#fdca26"
             ],
             [
              1,
              "#f0f921"
             ]
            ],
            "type": "surface"
           }
          ],
          "table": [
           {
            "cells": {
             "fill": {
              "color": "#EBF0F8"
             },
             "line": {
              "color": "white"
             }
            },
            "header": {
             "fill": {
              "color": "#C8D4E3"
             },
             "line": {
              "color": "white"
             }
            },
            "type": "table"
           }
          ]
         },
         "layout": {
          "annotationdefaults": {
           "arrowcolor": "#2a3f5f",
           "arrowhead": 0,
           "arrowwidth": 1
          },
          "autotypenumbers": "strict",
          "coloraxis": {
           "colorbar": {
            "outlinewidth": 0,
            "ticks": ""
           }
          },
          "colorscale": {
           "diverging": [
            [
             0,
             "#8e0152"
            ],
            [
             0.1,
             "#c51b7d"
            ],
            [
             0.2,
             "#de77ae"
            ],
            [
             0.3,
             "#f1b6da"
            ],
            [
             0.4,
             "#fde0ef"
            ],
            [
             0.5,
             "#f7f7f7"
            ],
            [
             0.6,
             "#e6f5d0"
            ],
            [
             0.7,
             "#b8e186"
            ],
            [
             0.8,
             "#7fbc41"
            ],
            [
             0.9,
             "#4d9221"
            ],
            [
             1,
             "#276419"
            ]
           ],
           "sequential": [
            [
             0,
             "#0d0887"
            ],
            [
             0.1111111111111111,
             "#46039f"
            ],
            [
             0.2222222222222222,
             "#7201a8"
            ],
            [
             0.3333333333333333,
             "#9c179e"
            ],
            [
             0.4444444444444444,
             "#bd3786"
            ],
            [
             0.5555555555555556,
             "#d8576b"
            ],
            [
             0.6666666666666666,
             "#ed7953"
            ],
            [
             0.7777777777777778,
             "#fb9f3a"
            ],
            [
             0.8888888888888888,
             "#fdca26"
            ],
            [
             1,
             "#f0f921"
            ]
           ],
           "sequentialminus": [
            [
             0,
             "#0d0887"
            ],
            [
             0.1111111111111111,
             "#46039f"
            ],
            [
             0.2222222222222222,
             "#7201a8"
            ],
            [
             0.3333333333333333,
             "#9c179e"
            ],
            [
             0.4444444444444444,
             "#bd3786"
            ],
            [
             0.5555555555555556,
             "#d8576b"
            ],
            [
             0.6666666666666666,
             "#ed7953"
            ],
            [
             0.7777777777777778,
             "#fb9f3a"
            ],
            [
             0.8888888888888888,
             "#fdca26"
            ],
            [
             1,
             "#f0f921"
            ]
           ]
          },
          "colorway": [
           "#636efa",
           "#EF553B",
           "#00cc96",
           "#ab63fa",
           "#FFA15A",
           "#19d3f3",
           "#FF6692",
           "#B6E880",
           "#FF97FF",
           "#FECB52"
          ],
          "font": {
           "color": "#2a3f5f"
          },
          "geo": {
           "bgcolor": "white",
           "lakecolor": "white",
           "landcolor": "#E5ECF6",
           "showlakes": true,
           "showland": true,
           "subunitcolor": "white"
          },
          "hoverlabel": {
           "align": "left"
          },
          "hovermode": "closest",
          "mapbox": {
           "style": "light"
          },
          "paper_bgcolor": "white",
          "plot_bgcolor": "#E5ECF6",
          "polar": {
           "angularaxis": {
            "gridcolor": "white",
            "linecolor": "white",
            "ticks": ""
           },
           "bgcolor": "#E5ECF6",
           "radialaxis": {
            "gridcolor": "white",
            "linecolor": "white",
            "ticks": ""
           }
          },
          "scene": {
           "xaxis": {
            "backgroundcolor": "#E5ECF6",
            "gridcolor": "white",
            "gridwidth": 2,
            "linecolor": "white",
            "showbackground": true,
            "ticks": "",
            "zerolinecolor": "white"
           },
           "yaxis": {
            "backgroundcolor": "#E5ECF6",
            "gridcolor": "white",
            "gridwidth": 2,
            "linecolor": "white",
            "showbackground": true,
            "ticks": "",
            "zerolinecolor": "white"
           },
           "zaxis": {
            "backgroundcolor": "#E5ECF6",
            "gridcolor": "white",
            "gridwidth": 2,
            "linecolor": "white",
            "showbackground": true,
            "ticks": "",
            "zerolinecolor": "white"
           }
          },
          "shapedefaults": {
           "line": {
            "color": "#2a3f5f"
           }
          },
          "ternary": {
           "aaxis": {
            "gridcolor": "white",
            "linecolor": "white",
            "ticks": ""
           },
           "baxis": {
            "gridcolor": "white",
            "linecolor": "white",
            "ticks": ""
           },
           "bgcolor": "#E5ECF6",
           "caxis": {
            "gridcolor": "white",
            "linecolor": "white",
            "ticks": ""
           }
          },
          "title": {
           "x": 0.05
          },
          "xaxis": {
           "automargin": true,
           "gridcolor": "white",
           "linecolor": "white",
           "ticks": "",
           "title": {
            "standoff": 15
           },
           "zerolinecolor": "white",
           "zerolinewidth": 2
          },
          "yaxis": {
           "automargin": true,
           "gridcolor": "white",
           "linecolor": "white",
           "ticks": "",
           "title": {
            "standoff": 15
           },
           "zerolinecolor": "white",
           "zerolinewidth": 2
          }
         }
        },
        "title": {
         "text": "Box Plot of Resting Blood Pressure (trestbps) after removing of Outliers"
        },
        "xaxis": {
         "anchor": "y",
         "domain": [
          0,
          1
         ]
        },
        "yaxis": {
         "anchor": "x",
         "domain": [
          0,
          1
         ],
         "title": {
          "text": "Resting Blood Pressure (trestbps)"
         }
        }
       }
      }
     },
     "metadata": {},
     "output_type": "display_data"
    }
   ],
   "source": [
    "# Let's view the tresbps using boxplot\n",
    "# Create a box plot\n",
    "fig4 = px.box(df, y='trestbps', title='Box Plot of Resting Blood Pressure (trestbps) after removing of Outliers',\n",
    "             labels={'trestbps': 'Resting Blood Pressure (trestbps)'})\n",
    "# Save the figure\n",
    "folder_name = 'Plotly Plots'  # Folder to save the image\n",
    "figure_name = 'my_figure4.html'  # Change this to your desired figure name\n",
    "saved_path = save_figure(fig4, folder_name, figure_name)\n",
    "# Show the plot\n",
    "fig4.show()"
   ]
  },
  {
   "cell_type": "code",
   "execution_count": 231,
   "id": "e356c409",
   "metadata": {},
   "outputs": [
    {
     "name": "stdout",
     "output_type": "stream",
     "text": [
      "The average resting blood pressure of patients is 132\n",
      "The maximum resting blood pressure of a patient is 200\n",
      "The minimum resting blood pressure of a patient is 92\n"
     ]
    }
   ],
   "source": [
    "# Let's investigate the trestbps column\n",
    "print(\"The average resting blood pressure of patients is\", df['trestbps'].mean().astype(int))\n",
    "print(\"The maximum resting blood pressure of a patient is\", df['trestbps'].max().astype(int))\n",
    "print(\"The minimum resting blood pressure of a patient is\", df['trestbps'].min().astype(int))"
   ]
  },
  {
   "cell_type": "code",
   "execution_count": 232,
   "id": "e7863467",
   "metadata": {},
   "outputs": [
    {
     "name": "stdout",
     "output_type": "stream",
     "text": [
      "Mean Resting Blood Pressure for Males: 132\n",
      "Maximum Resting Blood Pressure for Males: 200\n",
      "Minimum Resting Blood Pressure for Males: 92\n",
      "-----------------------------\n",
      "Mean Resting Blood Pressure for Females: 131\n",
      "Maximum Resting Blood Pressure for Females: 200\n",
      "Minimum Resting Blood Pressure for Females: 94\n"
     ]
    }
   ],
   "source": [
    "# Calculate the mean resting blood pressure for males\n",
    "mean_trestbps_male = df[df['sex'] == 'Male']['trestbps'].mean().astype(int)\n",
    "# Calculate maximum and minimum resting blood pressure for males\n",
    "max_trestbps_male = df[df['sex'] == 'Male']['trestbps'].max().astype(int)\n",
    "min_trestbps_male = df[df['sex'] == 'Male']['trestbps'].min().astype(int)\n",
    "\n",
    "# Calculate the mean resting blood pressure for females\n",
    "mean_trestbps_female = df[df['sex'] == 'Female']['trestbps'].mean().astype(int)\n",
    "# Calculate maximum and minimum resting blood pressure for females\n",
    "max_trestbps_female = df[df['sex'] == 'Female']['trestbps'].max().astype(int)\n",
    "min_trestbps_female = df[df['sex'] == 'Female']['trestbps'].min().astype(int)\n",
    "\n",
    "# Display the results\n",
    "print(f\"Mean Resting Blood Pressure for Males: {mean_trestbps_male}\")\n",
    "print(f\"Maximum Resting Blood Pressure for Males: {max_trestbps_male}\")\n",
    "print(f\"Minimum Resting Blood Pressure for Males: {min_trestbps_male}\")\n",
    "print(\"-----------------------------\")\n",
    "\n",
    "# Display the results\n",
    "print(f\"Mean Resting Blood Pressure for Females: {mean_trestbps_female}\")\n",
    "print(f\"Maximum Resting Blood Pressure for Females: {max_trestbps_female}\")\n",
    "print(f\"Minimum Resting Blood Pressure for Females: {min_trestbps_female}\")\n",
    "\n"
   ]
  },
  {
   "cell_type": "code",
   "execution_count": 233,
   "id": "8343ef35",
   "metadata": {},
   "outputs": [
    {
     "name": "stdout",
     "output_type": "stream",
     "text": [
      "dataset\n",
      "Cleveland        304\n",
      "Hungary          293\n",
      "VA Long Beach    197\n",
      "Switzerland      118\n",
      "Name: count, dtype: int64\n"
     ]
    }
   ],
   "source": [
    "print(df['dataset'].value_counts())"
   ]
  },
  {
   "cell_type": "code",
   "execution_count": 234,
   "id": "7bd487dd",
   "metadata": {},
   "outputs": [
    {
     "name": "stdout",
     "output_type": "stream",
     "text": [
      "Mean Resting Blood Pressure of Patients of Cleveland: 131\n",
      "Mean Resting Blood Pressure of Patients of Hungary: 132\n",
      "Mean Resting Blood Pressure of Patients of VA Long Beech: 134\n",
      "Mean Resting Blood Pressure of Patients of Switzerland: 128\n"
     ]
    }
   ],
   "source": [
    "# Calculating the average resting blood pressure of patients by dataset. \n",
    "mean_trestbps_clev = df[df['dataset'] == 'Cleveland']['trestbps'].mean().astype(int)\n",
    "mean_trestbps_hung = df[df['dataset'] == 'Hungary']['trestbps'].mean().astype(int)\n",
    "mean_trestbps_va = df[df['dataset'] == 'VA Long Beach']['trestbps'].mean().astype(int)\n",
    "mean_trestbps_swiss = df[df['dataset'] == 'Switzerland']['trestbps'].mean().astype(int)\n",
    "print(f\"Mean Resting Blood Pressure of Patients of Cleveland: {mean_trestbps_clev}\")\n",
    "print(f\"Mean Resting Blood Pressure of Patients of Hungary: {mean_trestbps_hung}\")\n",
    "print(f\"Mean Resting Blood Pressure of Patients of VA Long Beech: {mean_trestbps_va}\")\n",
    "print(f\"Mean Resting Blood Pressure of Patients of Switzerland: {mean_trestbps_swiss}\")\n",
    "  "
   ]
  },
  {
   "cell_type": "code",
   "execution_count": 235,
   "id": "d68430a2",
   "metadata": {},
   "outputs": [
    {
     "data": {
      "application/vnd.plotly.v1+json": {
       "config": {
        "plotlyServerURL": "https://plot.ly"
       },
       "data": [
        {
         "domain": {
          "x": [
           0,
           1
          ],
          "y": [
           0,
           1
          ]
         },
         "hovertemplate": "Dataset=%{label}<br>Mean Trestbps=%{value}<extra></extra>",
         "labels": [
          "Cleveland",
          "Hungary",
          "VA Long Beach",
          "Switzerland"
         ],
         "legendgroup": "",
         "name": "",
         "showlegend": true,
         "type": "pie",
         "values": {
          "bdata": "gwCEAIYAgAA=",
          "dtype": "i2"
         }
        }
       ],
       "layout": {
        "legend": {
         "tracegroupgap": 0
        },
        "template": {
         "data": {
          "bar": [
           {
            "error_x": {
             "color": "#2a3f5f"
            },
            "error_y": {
             "color": "#2a3f5f"
            },
            "marker": {
             "line": {
              "color": "#E5ECF6",
              "width": 0.5
             },
             "pattern": {
              "fillmode": "overlay",
              "size": 10,
              "solidity": 0.2
             }
            },
            "type": "bar"
           }
          ],
          "barpolar": [
           {
            "marker": {
             "line": {
              "color": "#E5ECF6",
              "width": 0.5
             },
             "pattern": {
              "fillmode": "overlay",
              "size": 10,
              "solidity": 0.2
             }
            },
            "type": "barpolar"
           }
          ],
          "carpet": [
           {
            "aaxis": {
             "endlinecolor": "#2a3f5f",
             "gridcolor": "white",
             "linecolor": "white",
             "minorgridcolor": "white",
             "startlinecolor": "#2a3f5f"
            },
            "baxis": {
             "endlinecolor": "#2a3f5f",
             "gridcolor": "white",
             "linecolor": "white",
             "minorgridcolor": "white",
             "startlinecolor": "#2a3f5f"
            },
            "type": "carpet"
           }
          ],
          "choropleth": [
           {
            "colorbar": {
             "outlinewidth": 0,
             "ticks": ""
            },
            "type": "choropleth"
           }
          ],
          "contour": [
           {
            "colorbar": {
             "outlinewidth": 0,
             "ticks": ""
            },
            "colorscale": [
             [
              0,
              "#0d0887"
             ],
             [
              0.1111111111111111,
              "#46039f"
             ],
             [
              0.2222222222222222,
              "#7201a8"
             ],
             [
              0.3333333333333333,
              "#9c179e"
             ],
             [
              0.4444444444444444,
              "#bd3786"
             ],
             [
              0.5555555555555556,
              "#d8576b"
             ],
             [
              0.6666666666666666,
              "#ed7953"
             ],
             [
              0.7777777777777778,
              "#fb9f3a"
             ],
             [
              0.8888888888888888,
              "#fdca26"
             ],
             [
              1,
              "#f0f921"
             ]
            ],
            "type": "contour"
           }
          ],
          "contourcarpet": [
           {
            "colorbar": {
             "outlinewidth": 0,
             "ticks": ""
            },
            "type": "contourcarpet"
           }
          ],
          "heatmap": [
           {
            "colorbar": {
             "outlinewidth": 0,
             "ticks": ""
            },
            "colorscale": [
             [
              0,
              "#0d0887"
             ],
             [
              0.1111111111111111,
              "#46039f"
             ],
             [
              0.2222222222222222,
              "#7201a8"
             ],
             [
              0.3333333333333333,
              "#9c179e"
             ],
             [
              0.4444444444444444,
              "#bd3786"
             ],
             [
              0.5555555555555556,
              "#d8576b"
             ],
             [
              0.6666666666666666,
              "#ed7953"
             ],
             [
              0.7777777777777778,
              "#fb9f3a"
             ],
             [
              0.8888888888888888,
              "#fdca26"
             ],
             [
              1,
              "#f0f921"
             ]
            ],
            "type": "heatmap"
           }
          ],
          "histogram": [
           {
            "marker": {
             "pattern": {
              "fillmode": "overlay",
              "size": 10,
              "solidity": 0.2
             }
            },
            "type": "histogram"
           }
          ],
          "histogram2d": [
           {
            "colorbar": {
             "outlinewidth": 0,
             "ticks": ""
            },
            "colorscale": [
             [
              0,
              "#0d0887"
             ],
             [
              0.1111111111111111,
              "#46039f"
             ],
             [
              0.2222222222222222,
              "#7201a8"
             ],
             [
              0.3333333333333333,
              "#9c179e"
             ],
             [
              0.4444444444444444,
              "#bd3786"
             ],
             [
              0.5555555555555556,
              "#d8576b"
             ],
             [
              0.6666666666666666,
              "#ed7953"
             ],
             [
              0.7777777777777778,
              "#fb9f3a"
             ],
             [
              0.8888888888888888,
              "#fdca26"
             ],
             [
              1,
              "#f0f921"
             ]
            ],
            "type": "histogram2d"
           }
          ],
          "histogram2dcontour": [
           {
            "colorbar": {
             "outlinewidth": 0,
             "ticks": ""
            },
            "colorscale": [
             [
              0,
              "#0d0887"
             ],
             [
              0.1111111111111111,
              "#46039f"
             ],
             [
              0.2222222222222222,
              "#7201a8"
             ],
             [
              0.3333333333333333,
              "#9c179e"
             ],
             [
              0.4444444444444444,
              "#bd3786"
             ],
             [
              0.5555555555555556,
              "#d8576b"
             ],
             [
              0.6666666666666666,
              "#ed7953"
             ],
             [
              0.7777777777777778,
              "#fb9f3a"
             ],
             [
              0.8888888888888888,
              "#fdca26"
             ],
             [
              1,
              "#f0f921"
             ]
            ],
            "type": "histogram2dcontour"
           }
          ],
          "mesh3d": [
           {
            "colorbar": {
             "outlinewidth": 0,
             "ticks": ""
            },
            "type": "mesh3d"
           }
          ],
          "parcoords": [
           {
            "line": {
             "colorbar": {
              "outlinewidth": 0,
              "ticks": ""
             }
            },
            "type": "parcoords"
           }
          ],
          "pie": [
           {
            "automargin": true,
            "type": "pie"
           }
          ],
          "scatter": [
           {
            "fillpattern": {
             "fillmode": "overlay",
             "size": 10,
             "solidity": 0.2
            },
            "type": "scatter"
           }
          ],
          "scatter3d": [
           {
            "line": {
             "colorbar": {
              "outlinewidth": 0,
              "ticks": ""
             }
            },
            "marker": {
             "colorbar": {
              "outlinewidth": 0,
              "ticks": ""
             }
            },
            "type": "scatter3d"
           }
          ],
          "scattercarpet": [
           {
            "marker": {
             "colorbar": {
              "outlinewidth": 0,
              "ticks": ""
             }
            },
            "type": "scattercarpet"
           }
          ],
          "scattergeo": [
           {
            "marker": {
             "colorbar": {
              "outlinewidth": 0,
              "ticks": ""
             }
            },
            "type": "scattergeo"
           }
          ],
          "scattergl": [
           {
            "marker": {
             "colorbar": {
              "outlinewidth": 0,
              "ticks": ""
             }
            },
            "type": "scattergl"
           }
          ],
          "scattermap": [
           {
            "marker": {
             "colorbar": {
              "outlinewidth": 0,
              "ticks": ""
             }
            },
            "type": "scattermap"
           }
          ],
          "scattermapbox": [
           {
            "marker": {
             "colorbar": {
              "outlinewidth": 0,
              "ticks": ""
             }
            },
            "type": "scattermapbox"
           }
          ],
          "scatterpolar": [
           {
            "marker": {
             "colorbar": {
              "outlinewidth": 0,
              "ticks": ""
             }
            },
            "type": "scatterpolar"
           }
          ],
          "scatterpolargl": [
           {
            "marker": {
             "colorbar": {
              "outlinewidth": 0,
              "ticks": ""
             }
            },
            "type": "scatterpolargl"
           }
          ],
          "scatterternary": [
           {
            "marker": {
             "colorbar": {
              "outlinewidth": 0,
              "ticks": ""
             }
            },
            "type": "scatterternary"
           }
          ],
          "surface": [
           {
            "colorbar": {
             "outlinewidth": 0,
             "ticks": ""
            },
            "colorscale": [
             [
              0,
              "#0d0887"
             ],
             [
              0.1111111111111111,
              "#46039f"
             ],
             [
              0.2222222222222222,
              "#7201a8"
             ],
             [
              0.3333333333333333,
              "#9c179e"
             ],
             [
              0.4444444444444444,
              "#bd3786"
             ],
             [
              0.5555555555555556,
              "#d8576b"
             ],
             [
              0.6666666666666666,
              "#ed7953"
             ],
             [
              0.7777777777777778,
              "#fb9f3a"
             ],
             [
              0.8888888888888888,
              "#fdca26"
             ],
             [
              1,
              "#f0f921"
             ]
            ],
            "type": "surface"
           }
          ],
          "table": [
           {
            "cells": {
             "fill": {
              "color": "#EBF0F8"
             },
             "line": {
              "color": "white"
             }
            },
            "header": {
             "fill": {
              "color": "#C8D4E3"
             },
             "line": {
              "color": "white"
             }
            },
            "type": "table"
           }
          ]
         },
         "layout": {
          "annotationdefaults": {
           "arrowcolor": "#2a3f5f",
           "arrowhead": 0,
           "arrowwidth": 1
          },
          "autotypenumbers": "strict",
          "coloraxis": {
           "colorbar": {
            "outlinewidth": 0,
            "ticks": ""
           }
          },
          "colorscale": {
           "diverging": [
            [
             0,
             "#8e0152"
            ],
            [
             0.1,
             "#c51b7d"
            ],
            [
             0.2,
             "#de77ae"
            ],
            [
             0.3,
             "#f1b6da"
            ],
            [
             0.4,
             "#fde0ef"
            ],
            [
             0.5,
             "#f7f7f7"
            ],
            [
             0.6,
             "#e6f5d0"
            ],
            [
             0.7,
             "#b8e186"
            ],
            [
             0.8,
             "#7fbc41"
            ],
            [
             0.9,
             "#4d9221"
            ],
            [
             1,
             "#276419"
            ]
           ],
           "sequential": [
            [
             0,
             "#0d0887"
            ],
            [
             0.1111111111111111,
             "#46039f"
            ],
            [
             0.2222222222222222,
             "#7201a8"
            ],
            [
             0.3333333333333333,
             "#9c179e"
            ],
            [
             0.4444444444444444,
             "#bd3786"
            ],
            [
             0.5555555555555556,
             "#d8576b"
            ],
            [
             0.6666666666666666,
             "#ed7953"
            ],
            [
             0.7777777777777778,
             "#fb9f3a"
            ],
            [
             0.8888888888888888,
             "#fdca26"
            ],
            [
             1,
             "#f0f921"
            ]
           ],
           "sequentialminus": [
            [
             0,
             "#0d0887"
            ],
            [
             0.1111111111111111,
             "#46039f"
            ],
            [
             0.2222222222222222,
             "#7201a8"
            ],
            [
             0.3333333333333333,
             "#9c179e"
            ],
            [
             0.4444444444444444,
             "#bd3786"
            ],
            [
             0.5555555555555556,
             "#d8576b"
            ],
            [
             0.6666666666666666,
             "#ed7953"
            ],
            [
             0.7777777777777778,
             "#fb9f3a"
            ],
            [
             0.8888888888888888,
             "#fdca26"
            ],
            [
             1,
             "#f0f921"
            ]
           ]
          },
          "colorway": [
           "#636efa",
           "#EF553B",
           "#00cc96",
           "#ab63fa",
           "#FFA15A",
           "#19d3f3",
           "#FF6692",
           "#B6E880",
           "#FF97FF",
           "#FECB52"
          ],
          "font": {
           "color": "#2a3f5f"
          },
          "geo": {
           "bgcolor": "white",
           "lakecolor": "white",
           "landcolor": "#E5ECF6",
           "showlakes": true,
           "showland": true,
           "subunitcolor": "white"
          },
          "hoverlabel": {
           "align": "left"
          },
          "hovermode": "closest",
          "mapbox": {
           "style": "light"
          },
          "paper_bgcolor": "white",
          "plot_bgcolor": "#E5ECF6",
          "polar": {
           "angularaxis": {
            "gridcolor": "white",
            "linecolor": "white",
            "ticks": ""
           },
           "bgcolor": "#E5ECF6",
           "radialaxis": {
            "gridcolor": "white",
            "linecolor": "white",
            "ticks": ""
           }
          },
          "scene": {
           "xaxis": {
            "backgroundcolor": "#E5ECF6",
            "gridcolor": "white",
            "gridwidth": 2,
            "linecolor": "white",
            "showbackground": true,
            "ticks": "",
            "zerolinecolor": "white"
           },
           "yaxis": {
            "backgroundcolor": "#E5ECF6",
            "gridcolor": "white",
            "gridwidth": 2,
            "linecolor": "white",
            "showbackground": true,
            "ticks": "",
            "zerolinecolor": "white"
           },
           "zaxis": {
            "backgroundcolor": "#E5ECF6",
            "gridcolor": "white",
            "gridwidth": 2,
            "linecolor": "white",
            "showbackground": true,
            "ticks": "",
            "zerolinecolor": "white"
           }
          },
          "shapedefaults": {
           "line": {
            "color": "#2a3f5f"
           }
          },
          "ternary": {
           "aaxis": {
            "gridcolor": "white",
            "linecolor": "white",
            "ticks": ""
           },
           "baxis": {
            "gridcolor": "white",
            "linecolor": "white",
            "ticks": ""
           },
           "bgcolor": "#E5ECF6",
           "caxis": {
            "gridcolor": "white",
            "linecolor": "white",
            "ticks": ""
           }
          },
          "title": {
           "x": 0.05
          },
          "xaxis": {
           "automargin": true,
           "gridcolor": "white",
           "linecolor": "white",
           "ticks": "",
           "title": {
            "standoff": 15
           },
           "zerolinecolor": "white",
           "zerolinewidth": 2
          },
          "yaxis": {
           "automargin": true,
           "gridcolor": "white",
           "linecolor": "white",
           "ticks": "",
           "title": {
            "standoff": 15
           },
           "zerolinecolor": "white",
           "zerolinewidth": 2
          }
         }
        },
        "title": {
         "text": "Mean Resting Blood Pressure by Dataset"
        }
       }
      }
     },
     "metadata": {},
     "output_type": "display_data"
    }
   ],
   "source": [
    "# Prepare data for the pie chart\n",
    "mean_values = {\n",
    "    'Cleveland': mean_trestbps_clev,\n",
    "    'Hungary': mean_trestbps_hung,\n",
    "    'VA Long Beach': mean_trestbps_va,\n",
    "    'Switzerland': mean_trestbps_swiss\n",
    "}\n",
    "\n",
    "# Create a DataFrame for Plotly\n",
    "mean_df = pd.DataFrame(mean_values.items(), columns=['Dataset', 'Mean Trestbps'])\n",
    "\n",
    "# Create a pie chart\n",
    "fig5 = px.pie(mean_df, values='Mean Trestbps', names='Dataset', \n",
    "             title='Mean Resting Blood Pressure by Dataset')\n",
    "# Save the figure\n",
    "folder_name = 'Plotly Plots'  # Folder to save the image\n",
    "figure_name = 'my_figure5.html'  # Change this to your desired figure name\n",
    "saved_path = save_figure(fig5, folder_name, figure_name)\n",
    "# Show the plot\n",
    "fig5.show()"
   ]
  },
  {
   "cell_type": "code",
   "execution_count": 236,
   "id": "692908c4",
   "metadata": {},
   "outputs": [
    {
     "name": "stdout",
     "output_type": "stream",
     "text": [
      "    id   age     sex    dataset               cp  trestbps   chol    fbs  \\\n",
      "0  1.0  63.0    Male  Cleveland   typical angina     145.0  233.0   True   \n",
      "1  2.0  67.0    Male  Cleveland     asymptomatic     160.0  286.0  False   \n",
      "2  3.0  67.0    Male  Cleveland     asymptomatic     120.0  229.0  False   \n",
      "3  4.0  37.0    Male  Cleveland      non-anginal     130.0  250.0  False   \n",
      "4  5.0  41.0  Female  Cleveland  atypical angina     130.0  204.0  False   \n",
      "\n",
      "          restecg  thalch  exang  oldpeak        slope   ca  \\\n",
      "0  lv hypertrophy   150.0  False      2.3  downsloping  0.0   \n",
      "1  lv hypertrophy   108.0   True      1.5         flat  3.0   \n",
      "2  lv hypertrophy   129.0   True      2.6         flat  2.0   \n",
      "3          normal   187.0  False      3.5  downsloping  0.0   \n",
      "4  lv hypertrophy   172.0  False      1.4    upsloping  0.0   \n",
      "\n",
      "                thal  num age_group  \n",
      "0       fixed defect  0.0     60-64  \n",
      "1             normal  2.0     65-69  \n",
      "2  reversable defect  1.0     65-69  \n",
      "3             normal  0.0     35-39  \n",
      "4             normal  0.0     40-44  \n"
     ]
    }
   ],
   "source": [
    "# Again look on the Data\n",
    "print(df.head())"
   ]
  },
  {
   "cell_type": "code",
   "execution_count": 237,
   "id": "4c63a296",
   "metadata": {},
   "outputs": [
    {
     "name": "stdout",
     "output_type": "stream",
     "text": [
      "The average cholestrol level of patients is 202\n",
      "The maximum cholestrol level of a patient is 603\n",
      "The minimum cholestrol level  of a patient is 0\n"
     ]
    }
   ],
   "source": [
    "# Let's jump into the chol column.\n",
    "print(\"The average cholestrol level of patients is\", df['chol'].mean().astype(int))\n",
    "print(\"The maximum cholestrol level of a patient is\", df['chol'].max().astype(int))\n",
    "print(\"The minimum cholestrol level  of a patient is\", df['chol'].min().astype(int))"
   ]
  },
  {
   "cell_type": "code",
   "execution_count": 238,
   "id": "f824b139",
   "metadata": {},
   "outputs": [
    {
     "data": {
      "application/vnd.plotly.v1+json": {
       "config": {
        "plotlyServerURL": "https://plot.ly"
       },
       "data": [
        {
         "alignmentgroup": "True",
         "hovertemplate": "Cholestrol Level (chol)=%{y}<extra></extra>",
         "legendgroup": "",
         "marker": {
          "color": "#636efa"
         },
         "name": "",
         "notched": false,
         "offsetgroup": "",
         "orientation": "v",
         "showlegend": false,
         "type": "box",
         "x0": " ",
         "xaxis": "x",
         "y": {
          "bdata": "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",
          "dtype": "f8"
         },
         "y0": " ",
         "yaxis": "y"
        }
       ],
       "layout": {
        "boxmode": "group",
        "legend": {
         "tracegroupgap": 0
        },
        "template": {
         "data": {
          "bar": [
           {
            "error_x": {
             "color": "#2a3f5f"
            },
            "error_y": {
             "color": "#2a3f5f"
            },
            "marker": {
             "line": {
              "color": "#E5ECF6",
              "width": 0.5
             },
             "pattern": {
              "fillmode": "overlay",
              "size": 10,
              "solidity": 0.2
             }
            },
            "type": "bar"
           }
          ],
          "barpolar": [
           {
            "marker": {
             "line": {
              "color": "#E5ECF6",
              "width": 0.5
             },
             "pattern": {
              "fillmode": "overlay",
              "size": 10,
              "solidity": 0.2
             }
            },
            "type": "barpolar"
           }
          ],
          "carpet": [
           {
            "aaxis": {
             "endlinecolor": "#2a3f5f",
             "gridcolor": "white",
             "linecolor": "white",
             "minorgridcolor": "white",
             "startlinecolor": "#2a3f5f"
            },
            "baxis": {
             "endlinecolor": "#2a3f5f",
             "gridcolor": "white",
             "linecolor": "white",
             "minorgridcolor": "white",
             "startlinecolor": "#2a3f5f"
            },
            "type": "carpet"
           }
          ],
          "choropleth": [
           {
            "colorbar": {
             "outlinewidth": 0,
             "ticks": ""
            },
            "type": "choropleth"
           }
          ],
          "contour": [
           {
            "colorbar": {
             "outlinewidth": 0,
             "ticks": ""
            },
            "colorscale": [
             [
              0,
              "#0d0887"
             ],
             [
              0.1111111111111111,
              "#46039f"
             ],
             [
              0.2222222222222222,
              "#7201a8"
             ],
             [
              0.3333333333333333,
              "#9c179e"
             ],
             [
              0.4444444444444444,
              "#bd3786"
             ],
             [
              0.5555555555555556,
              "#d8576b"
             ],
             [
              0.6666666666666666,
              "#ed7953"
             ],
             [
              0.7777777777777778,
              "#fb9f3a"
             ],
             [
              0.8888888888888888,
              "#fdca26"
             ],
             [
              1,
              "#f0f921"
             ]
            ],
            "type": "contour"
           }
          ],
          "contourcarpet": [
           {
            "colorbar": {
             "outlinewidth": 0,
             "ticks": ""
            },
            "type": "contourcarpet"
           }
          ],
          "heatmap": [
           {
            "colorbar": {
             "outlinewidth": 0,
             "ticks": ""
            },
            "colorscale": [
             [
              0,
              "#0d0887"
             ],
             [
              0.1111111111111111,
              "#46039f"
             ],
             [
              0.2222222222222222,
              "#7201a8"
             ],
             [
              0.3333333333333333,
              "#9c179e"
             ],
             [
              0.4444444444444444,
              "#bd3786"
             ],
             [
              0.5555555555555556,
              "#d8576b"
             ],
             [
              0.6666666666666666,
              "#ed7953"
             ],
             [
              0.7777777777777778,
              "#fb9f3a"
             ],
             [
              0.8888888888888888,
              "#fdca26"
             ],
             [
              1,
              "#f0f921"
             ]
            ],
            "type": "heatmap"
           }
          ],
          "histogram": [
           {
            "marker": {
             "pattern": {
              "fillmode": "overlay",
              "size": 10,
              "solidity": 0.2
             }
            },
            "type": "histogram"
           }
          ],
          "histogram2d": [
           {
            "colorbar": {
             "outlinewidth": 0,
             "ticks": ""
            },
            "colorscale": [
             [
              0,
              "#0d0887"
             ],
             [
              0.1111111111111111,
              "#46039f"
             ],
             [
              0.2222222222222222,
              "#7201a8"
             ],
             [
              0.3333333333333333,
              "#9c179e"
             ],
             [
              0.4444444444444444,
              "#bd3786"
             ],
             [
              0.5555555555555556,
              "#d8576b"
             ],
             [
              0.6666666666666666,
              "#ed7953"
             ],
             [
              0.7777777777777778,
              "#fb9f3a"
             ],
             [
              0.8888888888888888,
              "#fdca26"
             ],
             [
              1,
              "#f0f921"
             ]
            ],
            "type": "histogram2d"
           }
          ],
          "histogram2dcontour": [
           {
            "colorbar": {
             "outlinewidth": 0,
             "ticks": ""
            },
            "colorscale": [
             [
              0,
              "#0d0887"
             ],
             [
              0.1111111111111111,
              "#46039f"
             ],
             [
              0.2222222222222222,
              "#7201a8"
             ],
             [
              0.3333333333333333,
              "#9c179e"
             ],
             [
              0.4444444444444444,
              "#bd3786"
             ],
             [
              0.5555555555555556,
              "#d8576b"
             ],
             [
              0.6666666666666666,
              "#ed7953"
             ],
             [
              0.7777777777777778,
              "#fb9f3a"
             ],
             [
              0.8888888888888888,
              "#fdca26"
             ],
             [
              1,
              "#f0f921"
             ]
            ],
            "type": "histogram2dcontour"
           }
          ],
          "mesh3d": [
           {
            "colorbar": {
             "outlinewidth": 0,
             "ticks": ""
            },
            "type": "mesh3d"
           }
          ],
          "parcoords": [
           {
            "line": {
             "colorbar": {
              "outlinewidth": 0,
              "ticks": ""
             }
            },
            "type": "parcoords"
           }
          ],
          "pie": [
           {
            "automargin": true,
            "type": "pie"
           }
          ],
          "scatter": [
           {
            "fillpattern": {
             "fillmode": "overlay",
             "size": 10,
             "solidity": 0.2
            },
            "type": "scatter"
           }
          ],
          "scatter3d": [
           {
            "line": {
             "colorbar": {
              "outlinewidth": 0,
              "ticks": ""
             }
            },
            "marker": {
             "colorbar": {
              "outlinewidth": 0,
              "ticks": ""
             }
            },
            "type": "scatter3d"
           }
          ],
          "scattercarpet": [
           {
            "marker": {
             "colorbar": {
              "outlinewidth": 0,
              "ticks": ""
             }
            },
            "type": "scattercarpet"
           }
          ],
          "scattergeo": [
           {
            "marker": {
             "colorbar": {
              "outlinewidth": 0,
              "ticks": ""
             }
            },
            "type": "scattergeo"
           }
          ],
          "scattergl": [
           {
            "marker": {
             "colorbar": {
              "outlinewidth": 0,
              "ticks": ""
             }
            },
            "type": "scattergl"
           }
          ],
          "scattermap": [
           {
            "marker": {
             "colorbar": {
              "outlinewidth": 0,
              "ticks": ""
             }
            },
            "type": "scattermap"
           }
          ],
          "scattermapbox": [
           {
            "marker": {
             "colorbar": {
              "outlinewidth": 0,
              "ticks": ""
             }
            },
            "type": "scattermapbox"
           }
          ],
          "scatterpolar": [
           {
            "marker": {
             "colorbar": {
              "outlinewidth": 0,
              "ticks": ""
             }
            },
            "type": "scatterpolar"
           }
          ],
          "scatterpolargl": [
           {
            "marker": {
             "colorbar": {
              "outlinewidth": 0,
              "ticks": ""
             }
            },
            "type": "scatterpolargl"
           }
          ],
          "scatterternary": [
           {
            "marker": {
             "colorbar": {
              "outlinewidth": 0,
              "ticks": ""
             }
            },
            "type": "scatterternary"
           }
          ],
          "surface": [
           {
            "colorbar": {
             "outlinewidth": 0,
             "ticks": ""
            },
            "colorscale": [
             [
              0,
              "#0d0887"
             ],
             [
              0.1111111111111111,
              "#46039f"
             ],
             [
              0.2222222222222222,
              "#7201a8"
             ],
             [
              0.3333333333333333,
              "#9c179e"
             ],
             [
              0.4444444444444444,
              "#bd3786"
             ],
             [
              0.5555555555555556,
              "#d8576b"
             ],
             [
              0.6666666666666666,
              "#ed7953"
             ],
             [
              0.7777777777777778,
              "#fb9f3a"
             ],
             [
              0.8888888888888888,
              "#fdca26"
             ],
             [
              1,
              "#f0f921"
             ]
            ],
            "type": "surface"
           }
          ],
          "table": [
           {
            "cells": {
             "fill": {
              "color": "#EBF0F8"
             },
             "line": {
              "color": "white"
             }
            },
            "header": {
             "fill": {
              "color": "#C8D4E3"
             },
             "line": {
              "color": "white"
             }
            },
            "type": "table"
           }
          ]
         },
         "layout": {
          "annotationdefaults": {
           "arrowcolor": "#2a3f5f",
           "arrowhead": 0,
           "arrowwidth": 1
          },
          "autotypenumbers": "strict",
          "coloraxis": {
           "colorbar": {
            "outlinewidth": 0,
            "ticks": ""
           }
          },
          "colorscale": {
           "diverging": [
            [
             0,
             "#8e0152"
            ],
            [
             0.1,
             "#c51b7d"
            ],
            [
             0.2,
             "#de77ae"
            ],
            [
             0.3,
             "#f1b6da"
            ],
            [
             0.4,
             "#fde0ef"
            ],
            [
             0.5,
             "#f7f7f7"
            ],
            [
             0.6,
             "#e6f5d0"
            ],
            [
             0.7,
             "#b8e186"
            ],
            [
             0.8,
             "#7fbc41"
            ],
            [
             0.9,
             "#4d9221"
            ],
            [
             1,
             "#276419"
            ]
           ],
           "sequential": [
            [
             0,
             "#0d0887"
            ],
            [
             0.1111111111111111,
             "#46039f"
            ],
            [
             0.2222222222222222,
             "#7201a8"
            ],
            [
             0.3333333333333333,
             "#9c179e"
            ],
            [
             0.4444444444444444,
             "#bd3786"
            ],
            [
             0.5555555555555556,
             "#d8576b"
            ],
            [
             0.6666666666666666,
             "#ed7953"
            ],
            [
             0.7777777777777778,
             "#fb9f3a"
            ],
            [
             0.8888888888888888,
             "#fdca26"
            ],
            [
             1,
             "#f0f921"
            ]
           ],
           "sequentialminus": [
            [
             0,
             "#0d0887"
            ],
            [
             0.1111111111111111,
             "#46039f"
            ],
            [
             0.2222222222222222,
             "#7201a8"
            ],
            [
             0.3333333333333333,
             "#9c179e"
            ],
            [
             0.4444444444444444,
             "#bd3786"
            ],
            [
             0.5555555555555556,
             "#d8576b"
            ],
            [
             0.6666666666666666,
             "#ed7953"
            ],
            [
             0.7777777777777778,
             "#fb9f3a"
            ],
            [
             0.8888888888888888,
             "#fdca26"
            ],
            [
             1,
             "#f0f921"
            ]
           ]
          },
          "colorway": [
           "#636efa",
           "#EF553B",
           "#00cc96",
           "#ab63fa",
           "#FFA15A",
           "#19d3f3",
           "#FF6692",
           "#B6E880",
           "#FF97FF",
           "#FECB52"
          ],
          "font": {
           "color": "#2a3f5f"
          },
          "geo": {
           "bgcolor": "white",
           "lakecolor": "white",
           "landcolor": "#E5ECF6",
           "showlakes": true,
           "showland": true,
           "subunitcolor": "white"
          },
          "hoverlabel": {
           "align": "left"
          },
          "hovermode": "closest",
          "mapbox": {
           "style": "light"
          },
          "paper_bgcolor": "white",
          "plot_bgcolor": "#E5ECF6",
          "polar": {
           "angularaxis": {
            "gridcolor": "white",
            "linecolor": "white",
            "ticks": ""
           },
           "bgcolor": "#E5ECF6",
           "radialaxis": {
            "gridcolor": "white",
            "linecolor": "white",
            "ticks": ""
           }
          },
          "scene": {
           "xaxis": {
            "backgroundcolor": "#E5ECF6",
            "gridcolor": "white",
            "gridwidth": 2,
            "linecolor": "white",
            "showbackground": true,
            "ticks": "",
            "zerolinecolor": "white"
           },
           "yaxis": {
            "backgroundcolor": "#E5ECF6",
            "gridcolor": "white",
            "gridwidth": 2,
            "linecolor": "white",
            "showbackground": true,
            "ticks": "",
            "zerolinecolor": "white"
           },
           "zaxis": {
            "backgroundcolor": "#E5ECF6",
            "gridcolor": "white",
            "gridwidth": 2,
            "linecolor": "white",
            "showbackground": true,
            "ticks": "",
            "zerolinecolor": "white"
           }
          },
          "shapedefaults": {
           "line": {
            "color": "#2a3f5f"
           }
          },
          "ternary": {
           "aaxis": {
            "gridcolor": "white",
            "linecolor": "white",
            "ticks": ""
           },
           "baxis": {
            "gridcolor": "white",
            "linecolor": "white",
            "ticks": ""
           },
           "bgcolor": "#E5ECF6",
           "caxis": {
            "gridcolor": "white",
            "linecolor": "white",
            "ticks": ""
           }
          },
          "title": {
           "x": 0.05
          },
          "xaxis": {
           "automargin": true,
           "gridcolor": "white",
           "linecolor": "white",
           "ticks": "",
           "title": {
            "standoff": 15
           },
           "zerolinecolor": "white",
           "zerolinewidth": 2
          },
          "yaxis": {
           "automargin": true,
           "gridcolor": "white",
           "linecolor": "white",
           "ticks": "",
           "title": {
            "standoff": 15
           },
           "zerolinecolor": "white",
           "zerolinewidth": 2
          }
         }
        },
        "title": {
         "text": "Box Plot of Cholestrol level (chol) of patients"
        },
        "xaxis": {
         "anchor": "y",
         "domain": [
          0,
          1
         ]
        },
        "yaxis": {
         "anchor": "x",
         "domain": [
          0,
          1
         ],
         "title": {
          "text": "Cholestrol Level (chol)"
         }
        }
       }
      }
     },
     "metadata": {},
     "output_type": "display_data"
    }
   ],
   "source": [
    "# Let's view the cholestrol using interactive boxplot to find outliers\n",
    "# Create a box plot\n",
    "fig6 = px.box(df, y='chol', title='Box Plot of Cholestrol level (chol) of patients',\n",
    "             labels={'chol': 'Cholestrol Level (chol)'})\n",
    "# Save the figure\n",
    "folder_name = 'Plotly Plots'  # Folder to save the image\n",
    "figure_name = 'my_figure6.html'  # Change this to your desired figure name\n",
    "saved_path = save_figure(fig6, folder_name, figure_name)\n",
    "# Show the plot\n",
    "fig6.show()"
   ]
  },
  {
   "cell_type": "code",
   "execution_count": 239,
   "id": "0881e8a7",
   "metadata": {},
   "outputs": [],
   "source": [
    "# Dropping some rows from dataset based on my cholestrol study\n",
    "df.drop(df[df[\"chol\"] == 0].index, inplace=True)\n",
    "df.drop(df[df[\"chol\"] == 518].index, inplace=True)\n",
    "df.drop(df[df[\"chol\"] == 529].index, inplace=True)\n",
    "df.drop(df[df[\"chol\"] == 564].index, inplace=True)\n",
    "df.drop(df[df[\"chol\"] == 603].index, inplace=True)"
   ]
  },
  {
   "cell_type": "code",
   "execution_count": 240,
   "id": "0614cd45",
   "metadata": {},
   "outputs": [],
   "source": [
    "# Now i will use IQR method to clean the any other outlier.\n",
    "Q1 = df['chol'].quantile(0.25)\n",
    "Q3 = df['chol'].quantile(0.75)\n",
    "IQR = Q3 - Q1\n",
    "lower_bound = Q1 - 1.5 * IQR\n",
    "upper_bound = Q3 + 1.5 * IQR\n",
    "df = df[(df['chol'] >= lower_bound) & (df['chol'] <= upper_bound)]"
   ]
  },
  {
   "cell_type": "code",
   "execution_count": 241,
   "id": "f8b0df3d",
   "metadata": {},
   "outputs": [
    {
     "data": {
      "application/vnd.plotly.v1+json": {
       "config": {
        "plotlyServerURL": "https://plot.ly"
       },
       "data": [
        {
         "alignmentgroup": "True",
         "hovertemplate": "Cholestrol Level (chol)=%{y}<extra></extra>",
         "legendgroup": "",
         "marker": {
          "color": "#636efa"
         },
         "name": "",
         "notched": false,
         "offsetgroup": "",
         "orientation": "v",
         "showlegend": false,
         "type": "box",
         "x0": " ",
         "xaxis": "x",
         "y": {
          "bdata": "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",
          "dtype": "f8"
         },
         "y0": " ",
         "yaxis": "y"
        }
       ],
       "layout": {
        "boxmode": "group",
        "legend": {
         "tracegroupgap": 0
        },
        "template": {
         "data": {
          "bar": [
           {
            "error_x": {
             "color": "#2a3f5f"
            },
            "error_y": {
             "color": "#2a3f5f"
            },
            "marker": {
             "line": {
              "color": "#E5ECF6",
              "width": 0.5
             },
             "pattern": {
              "fillmode": "overlay",
              "size": 10,
              "solidity": 0.2
             }
            },
            "type": "bar"
           }
          ],
          "barpolar": [
           {
            "marker": {
             "line": {
              "color": "#E5ECF6",
              "width": 0.5
             },
             "pattern": {
              "fillmode": "overlay",
              "size": 10,
              "solidity": 0.2
             }
            },
            "type": "barpolar"
           }
          ],
          "carpet": [
           {
            "aaxis": {
             "endlinecolor": "#2a3f5f",
             "gridcolor": "white",
             "linecolor": "white",
             "minorgridcolor": "white",
             "startlinecolor": "#2a3f5f"
            },
            "baxis": {
             "endlinecolor": "#2a3f5f",
             "gridcolor": "white",
             "linecolor": "white",
             "minorgridcolor": "white",
             "startlinecolor": "#2a3f5f"
            },
            "type": "carpet"
           }
          ],
          "choropleth": [
           {
            "colorbar": {
             "outlinewidth": 0,
             "ticks": ""
            },
            "type": "choropleth"
           }
          ],
          "contour": [
           {
            "colorbar": {
             "outlinewidth": 0,
             "ticks": ""
            },
            "colorscale": [
             [
              0,
              "#0d0887"
             ],
             [
              0.1111111111111111,
              "#46039f"
             ],
             [
              0.2222222222222222,
              "#7201a8"
             ],
             [
              0.3333333333333333,
              "#9c179e"
             ],
             [
              0.4444444444444444,
              "#bd3786"
             ],
             [
              0.5555555555555556,
              "#d8576b"
             ],
             [
              0.6666666666666666,
              "#ed7953"
             ],
             [
              0.7777777777777778,
              "#fb9f3a"
             ],
             [
              0.8888888888888888,
              "#fdca26"
             ],
             [
              1,
              "#f0f921"
             ]
            ],
            "type": "contour"
           }
          ],
          "contourcarpet": [
           {
            "colorbar": {
             "outlinewidth": 0,
             "ticks": ""
            },
            "type": "contourcarpet"
           }
          ],
          "heatmap": [
           {
            "colorbar": {
             "outlinewidth": 0,
             "ticks": ""
            },
            "colorscale": [
             [
              0,
              "#0d0887"
             ],
             [
              0.1111111111111111,
              "#46039f"
             ],
             [
              0.2222222222222222,
              "#7201a8"
             ],
             [
              0.3333333333333333,
              "#9c179e"
             ],
             [
              0.4444444444444444,
              "#bd3786"
             ],
             [
              0.5555555555555556,
              "#d8576b"
             ],
             [
              0.6666666666666666,
              "#ed7953"
             ],
             [
              0.7777777777777778,
              "#fb9f3a"
             ],
             [
              0.8888888888888888,
              "#fdca26"
             ],
             [
              1,
              "#f0f921"
             ]
            ],
            "type": "heatmap"
           }
          ],
          "histogram": [
           {
            "marker": {
             "pattern": {
              "fillmode": "overlay",
              "size": 10,
              "solidity": 0.2
             }
            },
            "type": "histogram"
           }
          ],
          "histogram2d": [
           {
            "colorbar": {
             "outlinewidth": 0,
             "ticks": ""
            },
            "colorscale": [
             [
              0,
              "#0d0887"
             ],
             [
              0.1111111111111111,
              "#46039f"
             ],
             [
              0.2222222222222222,
              "#7201a8"
             ],
             [
              0.3333333333333333,
              "#9c179e"
             ],
             [
              0.4444444444444444,
              "#bd3786"
             ],
             [
              0.5555555555555556,
              "#d8576b"
             ],
             [
              0.6666666666666666,
              "#ed7953"
             ],
             [
              0.7777777777777778,
              "#fb9f3a"
             ],
             [
              0.8888888888888888,
              "#fdca26"
             ],
             [
              1,
              "#f0f921"
             ]
            ],
            "type": "histogram2d"
           }
          ],
          "histogram2dcontour": [
           {
            "colorbar": {
             "outlinewidth": 0,
             "ticks": ""
            },
            "colorscale": [
             [
              0,
              "#0d0887"
             ],
             [
              0.1111111111111111,
              "#46039f"
             ],
             [
              0.2222222222222222,
              "#7201a8"
             ],
             [
              0.3333333333333333,
              "#9c179e"
             ],
             [
              0.4444444444444444,
              "#bd3786"
             ],
             [
              0.5555555555555556,
              "#d8576b"
             ],
             [
              0.6666666666666666,
              "#ed7953"
             ],
             [
              0.7777777777777778,
              "#fb9f3a"
             ],
             [
              0.8888888888888888,
              "#fdca26"
             ],
             [
              1,
              "#f0f921"
             ]
            ],
            "type": "histogram2dcontour"
           }
          ],
          "mesh3d": [
           {
            "colorbar": {
             "outlinewidth": 0,
             "ticks": ""
            },
            "type": "mesh3d"
           }
          ],
          "parcoords": [
           {
            "line": {
             "colorbar": {
              "outlinewidth": 0,
              "ticks": ""
             }
            },
            "type": "parcoords"
           }
          ],
          "pie": [
           {
            "automargin": true,
            "type": "pie"
           }
          ],
          "scatter": [
           {
            "fillpattern": {
             "fillmode": "overlay",
             "size": 10,
             "solidity": 0.2
            },
            "type": "scatter"
           }
          ],
          "scatter3d": [
           {
            "line": {
             "colorbar": {
              "outlinewidth": 0,
              "ticks": ""
             }
            },
            "marker": {
             "colorbar": {
              "outlinewidth": 0,
              "ticks": ""
             }
            },
            "type": "scatter3d"
           }
          ],
          "scattercarpet": [
           {
            "marker": {
             "colorbar": {
              "outlinewidth": 0,
              "ticks": ""
             }
            },
            "type": "scattercarpet"
           }
          ],
          "scattergeo": [
           {
            "marker": {
             "colorbar": {
              "outlinewidth": 0,
              "ticks": ""
             }
            },
            "type": "scattergeo"
           }
          ],
          "scattergl": [
           {
            "marker": {
             "colorbar": {
              "outlinewidth": 0,
              "ticks": ""
             }
            },
            "type": "scattergl"
           }
          ],
          "scattermap": [
           {
            "marker": {
             "colorbar": {
              "outlinewidth": 0,
              "ticks": ""
             }
            },
            "type": "scattermap"
           }
          ],
          "scattermapbox": [
           {
            "marker": {
             "colorbar": {
              "outlinewidth": 0,
              "ticks": ""
             }
            },
            "type": "scattermapbox"
           }
          ],
          "scatterpolar": [
           {
            "marker": {
             "colorbar": {
              "outlinewidth": 0,
              "ticks": ""
             }
            },
            "type": "scatterpolar"
           }
          ],
          "scatterpolargl": [
           {
            "marker": {
             "colorbar": {
              "outlinewidth": 0,
              "ticks": ""
             }
            },
            "type": "scatterpolargl"
           }
          ],
          "scatterternary": [
           {
            "marker": {
             "colorbar": {
              "outlinewidth": 0,
              "ticks": ""
             }
            },
            "type": "scatterternary"
           }
          ],
          "surface": [
           {
            "colorbar": {
             "outlinewidth": 0,
             "ticks": ""
            },
            "colorscale": [
             [
              0,
              "#0d0887"
             ],
             [
              0.1111111111111111,
              "#46039f"
             ],
             [
              0.2222222222222222,
              "#7201a8"
             ],
             [
              0.3333333333333333,
              "#9c179e"
             ],
             [
              0.4444444444444444,
              "#bd3786"
             ],
             [
              0.5555555555555556,
              "#d8576b"
             ],
             [
              0.6666666666666666,
              "#ed7953"
             ],
             [
              0.7777777777777778,
              "#fb9f3a"
             ],
             [
              0.8888888888888888,
              "#fdca26"
             ],
             [
              1,
              "#f0f921"
             ]
            ],
            "type": "surface"
           }
          ],
          "table": [
           {
            "cells": {
             "fill": {
              "color": "#EBF0F8"
             },
             "line": {
              "color": "white"
             }
            },
            "header": {
             "fill": {
              "color": "#C8D4E3"
             },
             "line": {
              "color": "white"
             }
            },
            "type": "table"
           }
          ]
         },
         "layout": {
          "annotationdefaults": {
           "arrowcolor": "#2a3f5f",
           "arrowhead": 0,
           "arrowwidth": 1
          },
          "autotypenumbers": "strict",
          "coloraxis": {
           "colorbar": {
            "outlinewidth": 0,
            "ticks": ""
           }
          },
          "colorscale": {
           "diverging": [
            [
             0,
             "#8e0152"
            ],
            [
             0.1,
             "#c51b7d"
            ],
            [
             0.2,
             "#de77ae"
            ],
            [
             0.3,
             "#f1b6da"
            ],
            [
             0.4,
             "#fde0ef"
            ],
            [
             0.5,
             "#f7f7f7"
            ],
            [
             0.6,
             "#e6f5d0"
            ],
            [
             0.7,
             "#b8e186"
            ],
            [
             0.8,
             "#7fbc41"
            ],
            [
             0.9,
             "#4d9221"
            ],
            [
             1,
             "#276419"
            ]
           ],
           "sequential": [
            [
             0,
             "#0d0887"
            ],
            [
             0.1111111111111111,
             "#46039f"
            ],
            [
             0.2222222222222222,
             "#7201a8"
            ],
            [
             0.3333333333333333,
             "#9c179e"
            ],
            [
             0.4444444444444444,
             "#bd3786"
            ],
            [
             0.5555555555555556,
             "#d8576b"
            ],
            [
             0.6666666666666666,
             "#ed7953"
            ],
            [
             0.7777777777777778,
             "#fb9f3a"
            ],
            [
             0.8888888888888888,
             "#fdca26"
            ],
            [
             1,
             "#f0f921"
            ]
           ],
           "sequentialminus": [
            [
             0,
             "#0d0887"
            ],
            [
             0.1111111111111111,
             "#46039f"
            ],
            [
             0.2222222222222222,
             "#7201a8"
            ],
            [
             0.3333333333333333,
             "#9c179e"
            ],
            [
             0.4444444444444444,
             "#bd3786"
            ],
            [
             0.5555555555555556,
             "#d8576b"
            ],
            [
             0.6666666666666666,
             "#ed7953"
            ],
            [
             0.7777777777777778,
             "#fb9f3a"
            ],
            [
             0.8888888888888888,
             "#fdca26"
            ],
            [
             1,
             "#f0f921"
            ]
           ]
          },
          "colorway": [
           "#636efa",
           "#EF553B",
           "#00cc96",
           "#ab63fa",
           "#FFA15A",
           "#19d3f3",
           "#FF6692",
           "#B6E880",
           "#FF97FF",
           "#FECB52"
          ],
          "font": {
           "color": "#2a3f5f"
          },
          "geo": {
           "bgcolor": "white",
           "lakecolor": "white",
           "landcolor": "#E5ECF6",
           "showlakes": true,
           "showland": true,
           "subunitcolor": "white"
          },
          "hoverlabel": {
           "align": "left"
          },
          "hovermode": "closest",
          "mapbox": {
           "style": "light"
          },
          "paper_bgcolor": "white",
          "plot_bgcolor": "#E5ECF6",
          "polar": {
           "angularaxis": {
            "gridcolor": "white",
            "linecolor": "white",
            "ticks": ""
           },
           "bgcolor": "#E5ECF6",
           "radialaxis": {
            "gridcolor": "white",
            "linecolor": "white",
            "ticks": ""
           }
          },
          "scene": {
           "xaxis": {
            "backgroundcolor": "#E5ECF6",
            "gridcolor": "white",
            "gridwidth": 2,
            "linecolor": "white",
            "showbackground": true,
            "ticks": "",
            "zerolinecolor": "white"
           },
           "yaxis": {
            "backgroundcolor": "#E5ECF6",
            "gridcolor": "white",
            "gridwidth": 2,
            "linecolor": "white",
            "showbackground": true,
            "ticks": "",
            "zerolinecolor": "white"
           },
           "zaxis": {
            "backgroundcolor": "#E5ECF6",
            "gridcolor": "white",
            "gridwidth": 2,
            "linecolor": "white",
            "showbackground": true,
            "ticks": "",
            "zerolinecolor": "white"
           }
          },
          "shapedefaults": {
           "line": {
            "color": "#2a3f5f"
           }
          },
          "ternary": {
           "aaxis": {
            "gridcolor": "white",
            "linecolor": "white",
            "ticks": ""
           },
           "baxis": {
            "gridcolor": "white",
            "linecolor": "white",
            "ticks": ""
           },
           "bgcolor": "#E5ECF6",
           "caxis": {
            "gridcolor": "white",
            "linecolor": "white",
            "ticks": ""
           }
          },
          "title": {
           "x": 0.05
          },
          "xaxis": {
           "automargin": true,
           "gridcolor": "white",
           "linecolor": "white",
           "ticks": "",
           "title": {
            "standoff": 15
           },
           "zerolinecolor": "white",
           "zerolinewidth": 2
          },
          "yaxis": {
           "automargin": true,
           "gridcolor": "white",
           "linecolor": "white",
           "ticks": "",
           "title": {
            "standoff": 15
           },
           "zerolinecolor": "white",
           "zerolinewidth": 2
          }
         }
        },
        "title": {
         "text": "Box Plot of Cholestrol level (chol) of patients after removing Outliers"
        },
        "xaxis": {
         "anchor": "y",
         "domain": [
          0,
          1
         ]
        },
        "yaxis": {
         "anchor": "x",
         "domain": [
          0,
          1
         ],
         "title": {
          "text": "Cholestrol Level (chol)"
         }
        }
       }
      }
     },
     "metadata": {},
     "output_type": "display_data"
    }
   ],
   "source": [
    "# Let's view the box plot after removing outliers of chol column.\n",
    "# Let's view the cholestrol using interactive boxplot to find outliers\n",
    "# Create a box plot\n",
    "fig7 = px.box(df, y='chol', title='Box Plot of Cholestrol level (chol) of patients after removing Outliers',\n",
    "             labels={'chol': 'Cholestrol Level (chol)'})\n",
    "# Save the figure\n",
    "folder_name = 'Plotly Plots'  # Folder to save the image\n",
    "figure_name = 'my_figure7.html'  # Change this to your desired figure name\n",
    "saved_path = save_figure(fig7, folder_name, figure_name)\n",
    "# Show the plot\n",
    "fig7.show()"
   ]
  },
  {
   "cell_type": "code",
   "execution_count": 242,
   "id": "2a361865",
   "metadata": {},
   "outputs": [
    {
     "name": "stdout",
     "output_type": "stream",
     "text": [
      "The average cholestrol level of patients is 242\n",
      "The maximum cholestrol level of a patient is 369\n",
      "The minimum cholestrol level  of a patient is 117\n"
     ]
    }
   ],
   "source": [
    "# Let's jump into the chol column.\n",
    "print(\"The average cholestrol level of patients is\", df['chol'].mean().astype(int))\n",
    "print(\"The maximum cholestrol level of a patient is\", df['chol'].max().astype(int))\n",
    "print(\"The minimum cholestrol level  of a patient is\", df['chol'].min().astype(int))"
   ]
  },
  {
   "cell_type": "code",
   "execution_count": 243,
   "id": "b78bb7b7",
   "metadata": {},
   "outputs": [
    {
     "name": "stdout",
     "output_type": "stream",
     "text": [
      "sex     dataset      \n",
      "Female  Cleveland        252\n",
      "        Hungary          238\n",
      "        VA Long Beach    287\n",
      "Male    Cleveland        239\n",
      "        Hungary          246\n",
      "        VA Long Beach    235\n",
      "Name: chol, dtype: int64\n"
     ]
    }
   ],
   "source": [
    "print(df.groupby([\"sex\",\"dataset\"])[\"chol\"].mean().astype(int))"
   ]
  },
  {
   "cell_type": "code",
   "execution_count": 244,
   "id": "3917c766",
   "metadata": {},
   "outputs": [
    {
     "data": {
      "application/vnd.plotly.v1+json": {
       "config": {
        "plotlyServerURL": "https://plot.ly"
       },
       "data": [
        {
         "alignmentgroup": "True",
         "hovertemplate": "Sex=Female<br>Country=%{x}<br>Avg Cholesterol=%{y}<extra></extra>",
         "legendgroup": "Female",
         "marker": {
          "color": "#636efa",
          "pattern": {
           "shape": ""
          }
         },
         "name": "Female",
         "offsetgroup": "Female",
         "orientation": "v",
         "showlegend": true,
         "textposition": "auto",
         "type": "bar",
         "x": [
          "Cleveland",
          "Hungary",
          "VA Long Beach"
         ],
         "xaxis": "x",
         "y": {
          "bdata": "/ADuAB8B",
          "dtype": "i2"
         },
         "yaxis": "y"
        },
        {
         "alignmentgroup": "True",
         "hovertemplate": "Sex=Male<br>Country=%{x}<br>Avg Cholesterol=%{y}<extra></extra>",
         "legendgroup": "Male",
         "marker": {
          "color": "#EF553B",
          "pattern": {
           "shape": ""
          }
         },
         "name": "Male",
         "offsetgroup": "Male",
         "orientation": "v",
         "showlegend": true,
         "textposition": "auto",
         "type": "bar",
         "x": [
          "Cleveland",
          "Hungary",
          "VA Long Beach"
         ],
         "xaxis": "x",
         "y": {
          "bdata": "7wD2AOsA",
          "dtype": "i2"
         },
         "yaxis": "y"
        }
       ],
       "layout": {
        "barmode": "group",
        "legend": {
         "title": {
          "text": "Sex"
         },
         "tracegroupgap": 0
        },
        "template": {
         "data": {
          "bar": [
           {
            "error_x": {
             "color": "#2a3f5f"
            },
            "error_y": {
             "color": "#2a3f5f"
            },
            "marker": {
             "line": {
              "color": "#E5ECF6",
              "width": 0.5
             },
             "pattern": {
              "fillmode": "overlay",
              "size": 10,
              "solidity": 0.2
             }
            },
            "type": "bar"
           }
          ],
          "barpolar": [
           {
            "marker": {
             "line": {
              "color": "#E5ECF6",
              "width": 0.5
             },
             "pattern": {
              "fillmode": "overlay",
              "size": 10,
              "solidity": 0.2
             }
            },
            "type": "barpolar"
           }
          ],
          "carpet": [
           {
            "aaxis": {
             "endlinecolor": "#2a3f5f",
             "gridcolor": "white",
             "linecolor": "white",
             "minorgridcolor": "white",
             "startlinecolor": "#2a3f5f"
            },
            "baxis": {
             "endlinecolor": "#2a3f5f",
             "gridcolor": "white",
             "linecolor": "white",
             "minorgridcolor": "white",
             "startlinecolor": "#2a3f5f"
            },
            "type": "carpet"
           }
          ],
          "choropleth": [
           {
            "colorbar": {
             "outlinewidth": 0,
             "ticks": ""
            },
            "type": "choropleth"
           }
          ],
          "contour": [
           {
            "colorbar": {
             "outlinewidth": 0,
             "ticks": ""
            },
            "colorscale": [
             [
              0,
              "#0d0887"
             ],
             [
              0.1111111111111111,
              "#46039f"
             ],
             [
              0.2222222222222222,
              "#7201a8"
             ],
             [
              0.3333333333333333,
              "#9c179e"
             ],
             [
              0.4444444444444444,
              "#bd3786"
             ],
             [
              0.5555555555555556,
              "#d8576b"
             ],
             [
              0.6666666666666666,
              "#ed7953"
             ],
             [
              0.7777777777777778,
              "#fb9f3a"
             ],
             [
              0.8888888888888888,
              "#fdca26"
             ],
             [
              1,
              "#f0f921"
             ]
            ],
            "type": "contour"
           }
          ],
          "contourcarpet": [
           {
            "colorbar": {
             "outlinewidth": 0,
             "ticks": ""
            },
            "type": "contourcarpet"
           }
          ],
          "heatmap": [
           {
            "colorbar": {
             "outlinewidth": 0,
             "ticks": ""
            },
            "colorscale": [
             [
              0,
              "#0d0887"
             ],
             [
              0.1111111111111111,
              "#46039f"
             ],
             [
              0.2222222222222222,
              "#7201a8"
             ],
             [
              0.3333333333333333,
              "#9c179e"
             ],
             [
              0.4444444444444444,
              "#bd3786"
             ],
             [
              0.5555555555555556,
              "#d8576b"
             ],
             [
              0.6666666666666666,
              "#ed7953"
             ],
             [
              0.7777777777777778,
              "#fb9f3a"
             ],
             [
              0.8888888888888888,
              "#fdca26"
             ],
             [
              1,
              "#f0f921"
             ]
            ],
            "type": "heatmap"
           }
          ],
          "histogram": [
           {
            "marker": {
             "pattern": {
              "fillmode": "overlay",
              "size": 10,
              "solidity": 0.2
             }
            },
            "type": "histogram"
           }
          ],
          "histogram2d": [
           {
            "colorbar": {
             "outlinewidth": 0,
             "ticks": ""
            },
            "colorscale": [
             [
              0,
              "#0d0887"
             ],
             [
              0.1111111111111111,
              "#46039f"
             ],
             [
              0.2222222222222222,
              "#7201a8"
             ],
             [
              0.3333333333333333,
              "#9c179e"
             ],
             [
              0.4444444444444444,
              "#bd3786"
             ],
             [
              0.5555555555555556,
              "#d8576b"
             ],
             [
              0.6666666666666666,
              "#ed7953"
             ],
             [
              0.7777777777777778,
              "#fb9f3a"
             ],
             [
              0.8888888888888888,
              "#fdca26"
             ],
             [
              1,
              "#f0f921"
             ]
            ],
            "type": "histogram2d"
           }
          ],
          "histogram2dcontour": [
           {
            "colorbar": {
             "outlinewidth": 0,
             "ticks": ""
            },
            "colorscale": [
             [
              0,
              "#0d0887"
             ],
             [
              0.1111111111111111,
              "#46039f"
             ],
             [
              0.2222222222222222,
              "#7201a8"
             ],
             [
              0.3333333333333333,
              "#9c179e"
             ],
             [
              0.4444444444444444,
              "#bd3786"
             ],
             [
              0.5555555555555556,
              "#d8576b"
             ],
             [
              0.6666666666666666,
              "#ed7953"
             ],
             [
              0.7777777777777778,
              "#fb9f3a"
             ],
             [
              0.8888888888888888,
              "#fdca26"
             ],
             [
              1,
              "#f0f921"
             ]
            ],
            "type": "histogram2dcontour"
           }
          ],
          "mesh3d": [
           {
            "colorbar": {
             "outlinewidth": 0,
             "ticks": ""
            },
            "type": "mesh3d"
           }
          ],
          "parcoords": [
           {
            "line": {
             "colorbar": {
              "outlinewidth": 0,
              "ticks": ""
             }
            },
            "type": "parcoords"
           }
          ],
          "pie": [
           {
            "automargin": true,
            "type": "pie"
           }
          ],
          "scatter": [
           {
            "fillpattern": {
             "fillmode": "overlay",
             "size": 10,
             "solidity": 0.2
            },
            "type": "scatter"
           }
          ],
          "scatter3d": [
           {
            "line": {
             "colorbar": {
              "outlinewidth": 0,
              "ticks": ""
             }
            },
            "marker": {
             "colorbar": {
              "outlinewidth": 0,
              "ticks": ""
             }
            },
            "type": "scatter3d"
           }
          ],
          "scattercarpet": [
           {
            "marker": {
             "colorbar": {
              "outlinewidth": 0,
              "ticks": ""
             }
            },
            "type": "scattercarpet"
           }
          ],
          "scattergeo": [
           {
            "marker": {
             "colorbar": {
              "outlinewidth": 0,
              "ticks": ""
             }
            },
            "type": "scattergeo"
           }
          ],
          "scattergl": [
           {
            "marker": {
             "colorbar": {
              "outlinewidth": 0,
              "ticks": ""
             }
            },
            "type": "scattergl"
           }
          ],
          "scattermap": [
           {
            "marker": {
             "colorbar": {
              "outlinewidth": 0,
              "ticks": ""
             }
            },
            "type": "scattermap"
           }
          ],
          "scattermapbox": [
           {
            "marker": {
             "colorbar": {
              "outlinewidth": 0,
              "ticks": ""
             }
            },
            "type": "scattermapbox"
           }
          ],
          "scatterpolar": [
           {
            "marker": {
             "colorbar": {
              "outlinewidth": 0,
              "ticks": ""
             }
            },
            "type": "scatterpolar"
           }
          ],
          "scatterpolargl": [
           {
            "marker": {
             "colorbar": {
              "outlinewidth": 0,
              "ticks": ""
             }
            },
            "type": "scatterpolargl"
           }
          ],
          "scatterternary": [
           {
            "marker": {
             "colorbar": {
              "outlinewidth": 0,
              "ticks": ""
             }
            },
            "type": "scatterternary"
           }
          ],
          "surface": [
           {
            "colorbar": {
             "outlinewidth": 0,
             "ticks": ""
            },
            "colorscale": [
             [
              0,
              "#0d0887"
             ],
             [
              0.1111111111111111,
              "#46039f"
             ],
             [
              0.2222222222222222,
              "#7201a8"
             ],
             [
              0.3333333333333333,
              "#9c179e"
             ],
             [
              0.4444444444444444,
              "#bd3786"
             ],
             [
              0.5555555555555556,
              "#d8576b"
             ],
             [
              0.6666666666666666,
              "#ed7953"
             ],
             [
              0.7777777777777778,
              "#fb9f3a"
             ],
             [
              0.8888888888888888,
              "#fdca26"
             ],
             [
              1,
              "#f0f921"
             ]
            ],
            "type": "surface"
           }
          ],
          "table": [
           {
            "cells": {
             "fill": {
              "color": "#EBF0F8"
             },
             "line": {
              "color": "white"
             }
            },
            "header": {
             "fill": {
              "color": "#C8D4E3"
             },
             "line": {
              "color": "white"
             }
            },
            "type": "table"
           }
          ]
         },
         "layout": {
          "annotationdefaults": {
           "arrowcolor": "#2a3f5f",
           "arrowhead": 0,
           "arrowwidth": 1
          },
          "autotypenumbers": "strict",
          "coloraxis": {
           "colorbar": {
            "outlinewidth": 0,
            "ticks": ""
           }
          },
          "colorscale": {
           "diverging": [
            [
             0,
             "#8e0152"
            ],
            [
             0.1,
             "#c51b7d"
            ],
            [
             0.2,
             "#de77ae"
            ],
            [
             0.3,
             "#f1b6da"
            ],
            [
             0.4,
             "#fde0ef"
            ],
            [
             0.5,
             "#f7f7f7"
            ],
            [
             0.6,
             "#e6f5d0"
            ],
            [
             0.7,
             "#b8e186"
            ],
            [
             0.8,
             "#7fbc41"
            ],
            [
             0.9,
             "#4d9221"
            ],
            [
             1,
             "#276419"
            ]
           ],
           "sequential": [
            [
             0,
             "#0d0887"
            ],
            [
             0.1111111111111111,
             "#46039f"
            ],
            [
             0.2222222222222222,
             "#7201a8"
            ],
            [
             0.3333333333333333,
             "#9c179e"
            ],
            [
             0.4444444444444444,
             "#bd3786"
            ],
            [
             0.5555555555555556,
             "#d8576b"
            ],
            [
             0.6666666666666666,
             "#ed7953"
            ],
            [
             0.7777777777777778,
             "#fb9f3a"
            ],
            [
             0.8888888888888888,
             "#fdca26"
            ],
            [
             1,
             "#f0f921"
            ]
           ],
           "sequentialminus": [
            [
             0,
             "#0d0887"
            ],
            [
             0.1111111111111111,
             "#46039f"
            ],
            [
             0.2222222222222222,
             "#7201a8"
            ],
            [
             0.3333333333333333,
             "#9c179e"
            ],
            [
             0.4444444444444444,
             "#bd3786"
            ],
            [
             0.5555555555555556,
             "#d8576b"
            ],
            [
             0.6666666666666666,
             "#ed7953"
            ],
            [
             0.7777777777777778,
             "#fb9f3a"
            ],
            [
             0.8888888888888888,
             "#fdca26"
            ],
            [
             1,
             "#f0f921"
            ]
           ]
          },
          "colorway": [
           "#636efa",
           "#EF553B",
           "#00cc96",
           "#ab63fa",
           "#FFA15A",
           "#19d3f3",
           "#FF6692",
           "#B6E880",
           "#FF97FF",
           "#FECB52"
          ],
          "font": {
           "color": "#2a3f5f"
          },
          "geo": {
           "bgcolor": "white",
           "lakecolor": "white",
           "landcolor": "#E5ECF6",
           "showlakes": true,
           "showland": true,
           "subunitcolor": "white"
          },
          "hoverlabel": {
           "align": "left"
          },
          "hovermode": "closest",
          "mapbox": {
           "style": "light"
          },
          "paper_bgcolor": "white",
          "plot_bgcolor": "#E5ECF6",
          "polar": {
           "angularaxis": {
            "gridcolor": "white",
            "linecolor": "white",
            "ticks": ""
           },
           "bgcolor": "#E5ECF6",
           "radialaxis": {
            "gridcolor": "white",
            "linecolor": "white",
            "ticks": ""
           }
          },
          "scene": {
           "xaxis": {
            "backgroundcolor": "#E5ECF6",
            "gridcolor": "white",
            "gridwidth": 2,
            "linecolor": "white",
            "showbackground": true,
            "ticks": "",
            "zerolinecolor": "white"
           },
           "yaxis": {
            "backgroundcolor": "#E5ECF6",
            "gridcolor": "white",
            "gridwidth": 2,
            "linecolor": "white",
            "showbackground": true,
            "ticks": "",
            "zerolinecolor": "white"
           },
           "zaxis": {
            "backgroundcolor": "#E5ECF6",
            "gridcolor": "white",
            "gridwidth": 2,
            "linecolor": "white",
            "showbackground": true,
            "ticks": "",
            "zerolinecolor": "white"
           }
          },
          "shapedefaults": {
           "line": {
            "color": "#2a3f5f"
           }
          },
          "ternary": {
           "aaxis": {
            "gridcolor": "white",
            "linecolor": "white",
            "ticks": ""
           },
           "baxis": {
            "gridcolor": "white",
            "linecolor": "white",
            "ticks": ""
           },
           "bgcolor": "#E5ECF6",
           "caxis": {
            "gridcolor": "white",
            "linecolor": "white",
            "ticks": ""
           }
          },
          "title": {
           "x": 0.05
          },
          "xaxis": {
           "automargin": true,
           "gridcolor": "white",
           "linecolor": "white",
           "ticks": "",
           "title": {
            "standoff": 15
           },
           "zerolinecolor": "white",
           "zerolinewidth": 2
          },
          "yaxis": {
           "automargin": true,
           "gridcolor": "white",
           "linecolor": "white",
           "ticks": "",
           "title": {
            "standoff": 15
           },
           "zerolinecolor": "white",
           "zerolinewidth": 2
          }
         }
        },
        "title": {
         "text": "Average Cholesterol by Sex in Each Country"
        },
        "xaxis": {
         "anchor": "y",
         "domain": [
          0,
          1
         ],
         "title": {
          "text": "Country"
         }
        },
        "yaxis": {
         "anchor": "x",
         "domain": [
          0,
          1
         ],
         "title": {
          "text": "Avg Cholesterol"
         }
        }
       }
      }
     },
     "metadata": {},
     "output_type": "display_data"
    }
   ],
   "source": [
    "# ✅ Step 1: Group by 'dataset' and 'sex'\n",
    "df_grouped = df.groupby(['dataset', 'sex'])['chol'].mean().reset_index()\n",
    "\n",
    "# Step 2: (Optional) Round or convert\n",
    "df_grouped['chol'] = df_grouped['chol'].astype(int)\n",
    "\n",
    "# ✅ Step 3: Plot bar chart\n",
    "fig8 = px.bar(df_grouped,\n",
    "             x='dataset',        # 🟡 X-axis is country\n",
    "             y='chol',           # 🟢 Y-axis is average cholesterol\n",
    "             color='sex',        # 🔵 Bars colored by sex\n",
    "             barmode='group',    # Grouped bars (Male/Female side by side)\n",
    "             title='Average Cholesterol by Sex in Each Country',\n",
    "             labels={'chol': 'Avg Cholesterol', 'sex': 'Sex', 'dataset': 'Country'},\n",
    "             hover_data=['chol'])\n",
    "# Save the figure\n",
    "folder_name = 'Plotly Plots'  # Folder to save the image\n",
    "figure_name = 'my_figure8.html'  # Change this to your desired figure name\n",
    "saved_path = save_figure(fig8, folder_name, figure_name)\n",
    "# Show the plot\n",
    "fig8.show()\n"
   ]
  },
  {
   "cell_type": "code",
   "execution_count": 245,
   "id": "674dae27",
   "metadata": {},
   "outputs": [
    {
     "name": "stdout",
     "output_type": "stream",
     "text": [
      "    id   age     sex    dataset               cp  trestbps   chol    fbs  \\\n",
      "0  1.0  63.0    Male  Cleveland   typical angina     145.0  233.0   True   \n",
      "1  2.0  67.0    Male  Cleveland     asymptomatic     160.0  286.0  False   \n",
      "2  3.0  67.0    Male  Cleveland     asymptomatic     120.0  229.0  False   \n",
      "3  4.0  37.0    Male  Cleveland      non-anginal     130.0  250.0  False   \n",
      "4  5.0  41.0  Female  Cleveland  atypical angina     130.0  204.0  False   \n",
      "\n",
      "          restecg  thalch  exang  oldpeak        slope   ca  \\\n",
      "0  lv hypertrophy   150.0  False      2.3  downsloping  0.0   \n",
      "1  lv hypertrophy   108.0   True      1.5         flat  3.0   \n",
      "2  lv hypertrophy   129.0   True      2.6         flat  2.0   \n",
      "3          normal   187.0  False      3.5  downsloping  0.0   \n",
      "4  lv hypertrophy   172.0  False      1.4    upsloping  0.0   \n",
      "\n",
      "                thal  num age_group  \n",
      "0       fixed defect  0.0     60-64  \n",
      "1             normal  2.0     65-69  \n",
      "2  reversable defect  1.0     65-69  \n",
      "3             normal  0.0     35-39  \n",
      "4             normal  0.0     40-44  \n"
     ]
    }
   ],
   "source": [
    "# let's again have a look on our dataset.\n",
    "print(df.head())"
   ]
  },
  {
   "cell_type": "code",
   "execution_count": 246,
   "id": "33e6a038",
   "metadata": {},
   "outputs": [
    {
     "data": {
      "text/plain": [
       "array(['True', 'False'], dtype=object)"
      ]
     },
     "execution_count": 246,
     "metadata": {},
     "output_type": "execute_result"
    }
   ],
   "source": [
    "# Let's check on our fbs dataset.\n",
    "df[\"fbs\"].unique()"
   ]
  },
  {
   "cell_type": "code",
   "execution_count": 247,
   "id": "f7840750",
   "metadata": {},
   "outputs": [
    {
     "name": "stdout",
     "output_type": "stream",
     "text": [
      "0     True\n",
      "1    False\n",
      "2    False\n",
      "3    False\n",
      "4    False\n",
      "Name: fbs, dtype: object\n"
     ]
    }
   ],
   "source": [
    "print(df['fbs'].head())"
   ]
  },
  {
   "cell_type": "code",
   "execution_count": 248,
   "id": "13b0edde",
   "metadata": {},
   "outputs": [
    {
     "name": "stdout",
     "output_type": "stream",
     "text": [
      "0    lv hypertrophy\n",
      "1    lv hypertrophy\n",
      "2    lv hypertrophy\n",
      "3            normal\n",
      "4    lv hypertrophy\n",
      "Name: restecg, dtype: object\n"
     ]
    }
   ],
   "source": [
    "# To check the restecg column.\n",
    "print(df[\"restecg\"].head())"
   ]
  },
  {
   "cell_type": "code",
   "execution_count": 249,
   "id": "9436f97a",
   "metadata": {},
   "outputs": [
    {
     "name": "stdout",
     "output_type": "stream",
     "text": [
      "restecg\n",
      "normal              432\n",
      "lv hypertrophy      169\n",
      "st-t abnormality    124\n",
      "Name: count, dtype: int64\n"
     ]
    }
   ],
   "source": [
    "# Getting the sum of category in the restecg column\n",
    "print(df[\"restecg\"].value_counts())"
   ]
  },
  {
   "cell_type": "code",
   "execution_count": 250,
   "id": "131d0135",
   "metadata": {},
   "outputs": [
    {
     "data": {
      "application/vnd.plotly.v1+json": {
       "config": {
        "plotlyServerURL": "https://plot.ly"
       },
       "data": [
        {
         "hovertemplate": "sex=Female<br>Resting ECG=%{x}<br>Count of Occurrences=%{y}<extra></extra>",
         "legendgroup": "Female",
         "marker": {
          "color": "#636efa",
          "pattern": {
           "shape": ""
          }
         },
         "name": "Female",
         "orientation": "v",
         "showlegend": true,
         "textposition": "auto",
         "type": "bar",
         "x": [
          "lv hypertrophy",
          "normal",
          "st-t abnormality"
         ],
         "xaxis": "x",
         "y": {
          "bdata": "KWsa",
          "dtype": "i1"
         },
         "yaxis": "y"
        },
        {
         "hovertemplate": "sex=Male<br>Resting ECG=%{x}<br>Count of Occurrences=%{y}<extra></extra>",
         "legendgroup": "Male",
         "marker": {
          "color": "#EF553B",
          "pattern": {
           "shape": ""
          }
         },
         "name": "Male",
         "orientation": "v",
         "showlegend": true,
         "textposition": "auto",
         "type": "bar",
         "x": [
          "lv hypertrophy",
          "normal",
          "st-t abnormality"
         ],
         "xaxis": "x",
         "y": {
          "bdata": "gABFAWIA",
          "dtype": "i2"
         },
         "yaxis": "y"
        }
       ],
       "layout": {
        "barmode": "relative",
        "legend": {
         "title": {
          "text": "sex"
         },
         "tracegroupgap": 0
        },
        "template": {
         "data": {
          "bar": [
           {
            "error_x": {
             "color": "#2a3f5f"
            },
            "error_y": {
             "color": "#2a3f5f"
            },
            "marker": {
             "line": {
              "color": "#E5ECF6",
              "width": 0.5
             },
             "pattern": {
              "fillmode": "overlay",
              "size": 10,
              "solidity": 0.2
             }
            },
            "type": "bar"
           }
          ],
          "barpolar": [
           {
            "marker": {
             "line": {
              "color": "#E5ECF6",
              "width": 0.5
             },
             "pattern": {
              "fillmode": "overlay",
              "size": 10,
              "solidity": 0.2
             }
            },
            "type": "barpolar"
           }
          ],
          "carpet": [
           {
            "aaxis": {
             "endlinecolor": "#2a3f5f",
             "gridcolor": "white",
             "linecolor": "white",
             "minorgridcolor": "white",
             "startlinecolor": "#2a3f5f"
            },
            "baxis": {
             "endlinecolor": "#2a3f5f",
             "gridcolor": "white",
             "linecolor": "white",
             "minorgridcolor": "white",
             "startlinecolor": "#2a3f5f"
            },
            "type": "carpet"
           }
          ],
          "choropleth": [
           {
            "colorbar": {
             "outlinewidth": 0,
             "ticks": ""
            },
            "type": "choropleth"
           }
          ],
          "contour": [
           {
            "colorbar": {
             "outlinewidth": 0,
             "ticks": ""
            },
            "colorscale": [
             [
              0,
              "#0d0887"
             ],
             [
              0.1111111111111111,
              "#46039f"
             ],
             [
              0.2222222222222222,
              "#7201a8"
             ],
             [
              0.3333333333333333,
              "#9c179e"
             ],
             [
              0.4444444444444444,
              "#bd3786"
             ],
             [
              0.5555555555555556,
              "#d8576b"
             ],
             [
              0.6666666666666666,
              "#ed7953"
             ],
             [
              0.7777777777777778,
              "#fb9f3a"
             ],
             [
              0.8888888888888888,
              "#fdca26"
             ],
             [
              1,
              "#f0f921"
             ]
            ],
            "type": "contour"
           }
          ],
          "contourcarpet": [
           {
            "colorbar": {
             "outlinewidth": 0,
             "ticks": ""
            },
            "type": "contourcarpet"
           }
          ],
          "heatmap": [
           {
            "colorbar": {
             "outlinewidth": 0,
             "ticks": ""
            },
            "colorscale": [
             [
              0,
              "#0d0887"
             ],
             [
              0.1111111111111111,
              "#46039f"
             ],
             [
              0.2222222222222222,
              "#7201a8"
             ],
             [
              0.3333333333333333,
              "#9c179e"
             ],
             [
              0.4444444444444444,
              "#bd3786"
             ],
             [
              0.5555555555555556,
              "#d8576b"
             ],
             [
              0.6666666666666666,
              "#ed7953"
             ],
             [
              0.7777777777777778,
              "#fb9f3a"
             ],
             [
              0.8888888888888888,
              "#fdca26"
             ],
             [
              1,
              "#f0f921"
             ]
            ],
            "type": "heatmap"
           }
          ],
          "histogram": [
           {
            "marker": {
             "pattern": {
              "fillmode": "overlay",
              "size": 10,
              "solidity": 0.2
             }
            },
            "type": "histogram"
           }
          ],
          "histogram2d": [
           {
            "colorbar": {
             "outlinewidth": 0,
             "ticks": ""
            },
            "colorscale": [
             [
              0,
              "#0d0887"
             ],
             [
              0.1111111111111111,
              "#46039f"
             ],
             [
              0.2222222222222222,
              "#7201a8"
             ],
             [
              0.3333333333333333,
              "#9c179e"
             ],
             [
              0.4444444444444444,
              "#bd3786"
             ],
             [
              0.5555555555555556,
              "#d8576b"
             ],
             [
              0.6666666666666666,
              "#ed7953"
             ],
             [
              0.7777777777777778,
              "#fb9f3a"
             ],
             [
              0.8888888888888888,
              "#fdca26"
             ],
             [
              1,
              "#f0f921"
             ]
            ],
            "type": "histogram2d"
           }
          ],
          "histogram2dcontour": [
           {
            "colorbar": {
             "outlinewidth": 0,
             "ticks": ""
            },
            "colorscale": [
             [
              0,
              "#0d0887"
             ],
             [
              0.1111111111111111,
              "#46039f"
             ],
             [
              0.2222222222222222,
              "#7201a8"
             ],
             [
              0.3333333333333333,
              "#9c179e"
             ],
             [
              0.4444444444444444,
              "#bd3786"
             ],
             [
              0.5555555555555556,
              "#d8576b"
             ],
             [
              0.6666666666666666,
              "#ed7953"
             ],
             [
              0.7777777777777778,
              "#fb9f3a"
             ],
             [
              0.8888888888888888,
              "#fdca26"
             ],
             [
              1,
              "#f0f921"
             ]
            ],
            "type": "histogram2dcontour"
           }
          ],
          "mesh3d": [
           {
            "colorbar": {
             "outlinewidth": 0,
             "ticks": ""
            },
            "type": "mesh3d"
           }
          ],
          "parcoords": [
           {
            "line": {
             "colorbar": {
              "outlinewidth": 0,
              "ticks": ""
             }
            },
            "type": "parcoords"
           }
          ],
          "pie": [
           {
            "automargin": true,
            "type": "pie"
           }
          ],
          "scatter": [
           {
            "fillpattern": {
             "fillmode": "overlay",
             "size": 10,
             "solidity": 0.2
            },
            "type": "scatter"
           }
          ],
          "scatter3d": [
           {
            "line": {
             "colorbar": {
              "outlinewidth": 0,
              "ticks": ""
             }
            },
            "marker": {
             "colorbar": {
              "outlinewidth": 0,
              "ticks": ""
             }
            },
            "type": "scatter3d"
           }
          ],
          "scattercarpet": [
           {
            "marker": {
             "colorbar": {
              "outlinewidth": 0,
              "ticks": ""
             }
            },
            "type": "scattercarpet"
           }
          ],
          "scattergeo": [
           {
            "marker": {
             "colorbar": {
              "outlinewidth": 0,
              "ticks": ""
             }
            },
            "type": "scattergeo"
           }
          ],
          "scattergl": [
           {
            "marker": {
             "colorbar": {
              "outlinewidth": 0,
              "ticks": ""
             }
            },
            "type": "scattergl"
           }
          ],
          "scattermap": [
           {
            "marker": {
             "colorbar": {
              "outlinewidth": 0,
              "ticks": ""
             }
            },
            "type": "scattermap"
           }
          ],
          "scattermapbox": [
           {
            "marker": {
             "colorbar": {
              "outlinewidth": 0,
              "ticks": ""
             }
            },
            "type": "scattermapbox"
           }
          ],
          "scatterpolar": [
           {
            "marker": {
             "colorbar": {
              "outlinewidth": 0,
              "ticks": ""
             }
            },
            "type": "scatterpolar"
           }
          ],
          "scatterpolargl": [
           {
            "marker": {
             "colorbar": {
              "outlinewidth": 0,
              "ticks": ""
             }
            },
            "type": "scatterpolargl"
           }
          ],
          "scatterternary": [
           {
            "marker": {
             "colorbar": {
              "outlinewidth": 0,
              "ticks": ""
             }
            },
            "type": "scatterternary"
           }
          ],
          "surface": [
           {
            "colorbar": {
             "outlinewidth": 0,
             "ticks": ""
            },
            "colorscale": [
             [
              0,
              "#0d0887"
             ],
             [
              0.1111111111111111,
              "#46039f"
             ],
             [
              0.2222222222222222,
              "#7201a8"
             ],
             [
              0.3333333333333333,
              "#9c179e"
             ],
             [
              0.4444444444444444,
              "#bd3786"
             ],
             [
              0.5555555555555556,
              "#d8576b"
             ],
             [
              0.6666666666666666,
              "#ed7953"
             ],
             [
              0.7777777777777778,
              "#fb9f3a"
             ],
             [
              0.8888888888888888,
              "#fdca26"
             ],
             [
              1,
              "#f0f921"
             ]
            ],
            "type": "surface"
           }
          ],
          "table": [
           {
            "cells": {
             "fill": {
              "color": "#EBF0F8"
             },
             "line": {
              "color": "white"
             }
            },
            "header": {
             "fill": {
              "color": "#C8D4E3"
             },
             "line": {
              "color": "white"
             }
            },
            "type": "table"
           }
          ]
         },
         "layout": {
          "annotationdefaults": {
           "arrowcolor": "#2a3f5f",
           "arrowhead": 0,
           "arrowwidth": 1
          },
          "autotypenumbers": "strict",
          "coloraxis": {
           "colorbar": {
            "outlinewidth": 0,
            "ticks": ""
           }
          },
          "colorscale": {
           "diverging": [
            [
             0,
             "#8e0152"
            ],
            [
             0.1,
             "#c51b7d"
            ],
            [
             0.2,
             "#de77ae"
            ],
            [
             0.3,
             "#f1b6da"
            ],
            [
             0.4,
             "#fde0ef"
            ],
            [
             0.5,
             "#f7f7f7"
            ],
            [
             0.6,
             "#e6f5d0"
            ],
            [
             0.7,
             "#b8e186"
            ],
            [
             0.8,
             "#7fbc41"
            ],
            [
             0.9,
             "#4d9221"
            ],
            [
             1,
             "#276419"
            ]
           ],
           "sequential": [
            [
             0,
             "#0d0887"
            ],
            [
             0.1111111111111111,
             "#46039f"
            ],
            [
             0.2222222222222222,
             "#7201a8"
            ],
            [
             0.3333333333333333,
             "#9c179e"
            ],
            [
             0.4444444444444444,
             "#bd3786"
            ],
            [
             0.5555555555555556,
             "#d8576b"
            ],
            [
             0.6666666666666666,
             "#ed7953"
            ],
            [
             0.7777777777777778,
             "#fb9f3a"
            ],
            [
             0.8888888888888888,
             "#fdca26"
            ],
            [
             1,
             "#f0f921"
            ]
           ],
           "sequentialminus": [
            [
             0,
             "#0d0887"
            ],
            [
             0.1111111111111111,
             "#46039f"
            ],
            [
             0.2222222222222222,
             "#7201a8"
            ],
            [
             0.3333333333333333,
             "#9c179e"
            ],
            [
             0.4444444444444444,
             "#bd3786"
            ],
            [
             0.5555555555555556,
             "#d8576b"
            ],
            [
             0.6666666666666666,
             "#ed7953"
            ],
            [
             0.7777777777777778,
             "#fb9f3a"
            ],
            [
             0.8888888888888888,
             "#fdca26"
            ],
            [
             1,
             "#f0f921"
            ]
           ]
          },
          "colorway": [
           "#636efa",
           "#EF553B",
           "#00cc96",
           "#ab63fa",
           "#FFA15A",
           "#19d3f3",
           "#FF6692",
           "#B6E880",
           "#FF97FF",
           "#FECB52"
          ],
          "font": {
           "color": "#2a3f5f"
          },
          "geo": {
           "bgcolor": "white",
           "lakecolor": "white",
           "landcolor": "#E5ECF6",
           "showlakes": true,
           "showland": true,
           "subunitcolor": "white"
          },
          "hoverlabel": {
           "align": "left"
          },
          "hovermode": "closest",
          "mapbox": {
           "style": "light"
          },
          "paper_bgcolor": "white",
          "plot_bgcolor": "#E5ECF6",
          "polar": {
           "angularaxis": {
            "gridcolor": "white",
            "linecolor": "white",
            "ticks": ""
           },
           "bgcolor": "#E5ECF6",
           "radialaxis": {
            "gridcolor": "white",
            "linecolor": "white",
            "ticks": ""
           }
          },
          "scene": {
           "xaxis": {
            "backgroundcolor": "#E5ECF6",
            "gridcolor": "white",
            "gridwidth": 2,
            "linecolor": "white",
            "showbackground": true,
            "ticks": "",
            "zerolinecolor": "white"
           },
           "yaxis": {
            "backgroundcolor": "#E5ECF6",
            "gridcolor": "white",
            "gridwidth": 2,
            "linecolor": "white",
            "showbackground": true,
            "ticks": "",
            "zerolinecolor": "white"
           },
           "zaxis": {
            "backgroundcolor": "#E5ECF6",
            "gridcolor": "white",
            "gridwidth": 2,
            "linecolor": "white",
            "showbackground": true,
            "ticks": "",
            "zerolinecolor": "white"
           }
          },
          "shapedefaults": {
           "line": {
            "color": "#2a3f5f"
           }
          },
          "ternary": {
           "aaxis": {
            "gridcolor": "white",
            "linecolor": "white",
            "ticks": ""
           },
           "baxis": {
            "gridcolor": "white",
            "linecolor": "white",
            "ticks": ""
           },
           "bgcolor": "#E5ECF6",
           "caxis": {
            "gridcolor": "white",
            "linecolor": "white",
            "ticks": ""
           }
          },
          "title": {
           "x": 0.05
          },
          "xaxis": {
           "automargin": true,
           "gridcolor": "white",
           "linecolor": "white",
           "ticks": "",
           "title": {
            "standoff": 15
           },
           "zerolinecolor": "white",
           "zerolinewidth": 2
          },
          "yaxis": {
           "automargin": true,
           "gridcolor": "white",
           "linecolor": "white",
           "ticks": "",
           "title": {
            "standoff": 15
           },
           "zerolinecolor": "white",
           "zerolinewidth": 2
          }
         }
        },
        "title": {
         "text": "Count of Resting ECG by Sex"
        },
        "xaxis": {
         "anchor": "y",
         "domain": [
          0,
          1
         ],
         "title": {
          "text": "Resting ECG"
         }
        },
        "yaxis": {
         "anchor": "x",
         "domain": [
          0,
          1
         ],
         "title": {
          "text": "Count of Occurrences"
         }
        }
       }
      }
     },
     "metadata": {},
     "output_type": "display_data"
    }
   ],
   "source": [
    "import plotly.express as px\n",
    "\n",
    "# Count occurrences of 'restecg' for each category in 'sex'\n",
    "count_by_sex_restecg = df.groupby(['sex', 'restecg']).size().reset_index(name='count')\n",
    "\n",
    "# Create a bar plot\n",
    "fig9 = px.bar(count_by_sex_restecg, x='restecg', y='count', color='sex',\n",
    "             title='Count of Resting ECG by Sex',\n",
    "             labels={'restecg': 'Resting ECG', 'count': 'Count of Occurrences'})\n",
    "# Save the figure\n",
    "folder_name = 'Plotly Plots'  # Folder to save the image\n",
    "figure_name = 'my_figure9.html'  # Change this to your desired figure name\n",
    "saved_path = save_figure(fig9, folder_name, figure_name)\n",
    "# Show the plot\n",
    "fig9.show()"
   ]
  },
  {
   "cell_type": "code",
   "execution_count": 251,
   "id": "33c3ceef",
   "metadata": {},
   "outputs": [
    {
     "name": "stdout",
     "output_type": "stream",
     "text": [
      "0    150.0\n",
      "1    108.0\n",
      "2    129.0\n",
      "3    187.0\n",
      "4    172.0\n",
      "Name: thalch, dtype: float64\n"
     ]
    }
   ],
   "source": [
    "# Let's jump ino thalch column\n",
    "print(df['thalch'].head())"
   ]
  },
  {
   "cell_type": "code",
   "execution_count": 252,
   "id": "ce0e3774",
   "metadata": {},
   "outputs": [
    {
     "name": "stdout",
     "output_type": "stream",
     "text": [
      "The average maximum heart rate acheived  of patients is 140\n",
      "The maximum heart rate achieved of a patient is 202\n",
      "The minimum heart rate acheived of a patient is 71\n"
     ]
    }
   ],
   "source": [
    "# Let's jump into the chol column.\n",
    "print(\"The average maximum heart rate acheived  of patients is\", df['thalch'].mean().astype(int))\n",
    "print(\"The maximum heart rate achieved of a patient is\", df['thalch'].max().astype(int))\n",
    "print(\"The minimum heart rate acheived of a patient is\", df['thalch'].min().astype(int))"
   ]
  },
  {
   "cell_type": "code",
   "execution_count": 253,
   "id": "c304343a",
   "metadata": {},
   "outputs": [
    {
     "data": {
      "application/vnd.plotly.v1+json": {
       "config": {
        "plotlyServerURL": "https://plot.ly"
       },
       "data": [
        {
         "alignmentgroup": "True",
         "hovertemplate": "Maximum Heart Rate Acheived (thalch)=%{y}<extra></extra>",
         "legendgroup": "",
         "marker": {
          "color": "#636efa"
         },
         "name": "",
         "notched": false,
         "offsetgroup": "",
         "orientation": "v",
         "showlegend": false,
         "type": "box",
         "x0": " ",
         "xaxis": "x",
         "y": {
          "bdata": "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",
          "dtype": "f8"
         },
         "y0": " ",
         "yaxis": "y"
        }
       ],
       "layout": {
        "boxmode": "group",
        "legend": {
         "tracegroupgap": 0
        },
        "template": {
         "data": {
          "bar": [
           {
            "error_x": {
             "color": "#2a3f5f"
            },
            "error_y": {
             "color": "#2a3f5f"
            },
            "marker": {
             "line": {
              "color": "#E5ECF6",
              "width": 0.5
             },
             "pattern": {
              "fillmode": "overlay",
              "size": 10,
              "solidity": 0.2
             }
            },
            "type": "bar"
           }
          ],
          "barpolar": [
           {
            "marker": {
             "line": {
              "color": "#E5ECF6",
              "width": 0.5
             },
             "pattern": {
              "fillmode": "overlay",
              "size": 10,
              "solidity": 0.2
             }
            },
            "type": "barpolar"
           }
          ],
          "carpet": [
           {
            "aaxis": {
             "endlinecolor": "#2a3f5f",
             "gridcolor": "white",
             "linecolor": "white",
             "minorgridcolor": "white",
             "startlinecolor": "#2a3f5f"
            },
            "baxis": {
             "endlinecolor": "#2a3f5f",
             "gridcolor": "white",
             "linecolor": "white",
             "minorgridcolor": "white",
             "startlinecolor": "#2a3f5f"
            },
            "type": "carpet"
           }
          ],
          "choropleth": [
           {
            "colorbar": {
             "outlinewidth": 0,
             "ticks": ""
            },
            "type": "choropleth"
           }
          ],
          "contour": [
           {
            "colorbar": {
             "outlinewidth": 0,
             "ticks": ""
            },
            "colorscale": [
             [
              0,
              "#0d0887"
             ],
             [
              0.1111111111111111,
              "#46039f"
             ],
             [
              0.2222222222222222,
              "#7201a8"
             ],
             [
              0.3333333333333333,
              "#9c179e"
             ],
             [
              0.4444444444444444,
              "#bd3786"
             ],
             [
              0.5555555555555556,
              "#d8576b"
             ],
             [
              0.6666666666666666,
              "#ed7953"
             ],
             [
              0.7777777777777778,
              "#fb9f3a"
             ],
             [
              0.8888888888888888,
              "#fdca26"
             ],
             [
              1,
              "#f0f921"
             ]
            ],
            "type": "contour"
           }
          ],
          "contourcarpet": [
           {
            "colorbar": {
             "outlinewidth": 0,
             "ticks": ""
            },
            "type": "contourcarpet"
           }
          ],
          "heatmap": [
           {
            "colorbar": {
             "outlinewidth": 0,
             "ticks": ""
            },
            "colorscale": [
             [
              0,
              "#0d0887"
             ],
             [
              0.1111111111111111,
              "#46039f"
             ],
             [
              0.2222222222222222,
              "#7201a8"
             ],
             [
              0.3333333333333333,
              "#9c179e"
             ],
             [
              0.4444444444444444,
              "#bd3786"
             ],
             [
              0.5555555555555556,
              "#d8576b"
             ],
             [
              0.6666666666666666,
              "#ed7953"
             ],
             [
              0.7777777777777778,
              "#fb9f3a"
             ],
             [
              0.8888888888888888,
              "#fdca26"
             ],
             [
              1,
              "#f0f921"
             ]
            ],
            "type": "heatmap"
           }
          ],
          "histogram": [
           {
            "marker": {
             "pattern": {
              "fillmode": "overlay",
              "size": 10,
              "solidity": 0.2
             }
            },
            "type": "histogram"
           }
          ],
          "histogram2d": [
           {
            "colorbar": {
             "outlinewidth": 0,
             "ticks": ""
            },
            "colorscale": [
             [
              0,
              "#0d0887"
             ],
             [
              0.1111111111111111,
              "#46039f"
             ],
             [
              0.2222222222222222,
              "#7201a8"
             ],
             [
              0.3333333333333333,
              "#9c179e"
             ],
             [
              0.4444444444444444,
              "#bd3786"
             ],
             [
              0.5555555555555556,
              "#d8576b"
             ],
             [
              0.6666666666666666,
              "#ed7953"
             ],
             [
              0.7777777777777778,
              "#fb9f3a"
             ],
             [
              0.8888888888888888,
              "#fdca26"
             ],
             [
              1,
              "#f0f921"
             ]
            ],
            "type": "histogram2d"
           }
          ],
          "histogram2dcontour": [
           {
            "colorbar": {
             "outlinewidth": 0,
             "ticks": ""
            },
            "colorscale": [
             [
              0,
              "#0d0887"
             ],
             [
              0.1111111111111111,
              "#46039f"
             ],
             [
              0.2222222222222222,
              "#7201a8"
             ],
             [
              0.3333333333333333,
              "#9c179e"
             ],
             [
              0.4444444444444444,
              "#bd3786"
             ],
             [
              0.5555555555555556,
              "#d8576b"
             ],
             [
              0.6666666666666666,
              "#ed7953"
             ],
             [
              0.7777777777777778,
              "#fb9f3a"
             ],
             [
              0.8888888888888888,
              "#fdca26"
             ],
             [
              1,
              "#f0f921"
             ]
            ],
            "type": "histogram2dcontour"
           }
          ],
          "mesh3d": [
           {
            "colorbar": {
             "outlinewidth": 0,
             "ticks": ""
            },
            "type": "mesh3d"
           }
          ],
          "parcoords": [
           {
            "line": {
             "colorbar": {
              "outlinewidth": 0,
              "ticks": ""
             }
            },
            "type": "parcoords"
           }
          ],
          "pie": [
           {
            "automargin": true,
            "type": "pie"
           }
          ],
          "scatter": [
           {
            "fillpattern": {
             "fillmode": "overlay",
             "size": 10,
             "solidity": 0.2
            },
            "type": "scatter"
           }
          ],
          "scatter3d": [
           {
            "line": {
             "colorbar": {
              "outlinewidth": 0,
              "ticks": ""
             }
            },
            "marker": {
             "colorbar": {
              "outlinewidth": 0,
              "ticks": ""
             }
            },
            "type": "scatter3d"
           }
          ],
          "scattercarpet": [
           {
            "marker": {
             "colorbar": {
              "outlinewidth": 0,
              "ticks": ""
             }
            },
            "type": "scattercarpet"
           }
          ],
          "scattergeo": [
           {
            "marker": {
             "colorbar": {
              "outlinewidth": 0,
              "ticks": ""
             }
            },
            "type": "scattergeo"
           }
          ],
          "scattergl": [
           {
            "marker": {
             "colorbar": {
              "outlinewidth": 0,
              "ticks": ""
             }
            },
            "type": "scattergl"
           }
          ],
          "scattermap": [
           {
            "marker": {
             "colorbar": {
              "outlinewidth": 0,
              "ticks": ""
             }
            },
            "type": "scattermap"
           }
          ],
          "scattermapbox": [
           {
            "marker": {
             "colorbar": {
              "outlinewidth": 0,
              "ticks": ""
             }
            },
            "type": "scattermapbox"
           }
          ],
          "scatterpolar": [
           {
            "marker": {
             "colorbar": {
              "outlinewidth": 0,
              "ticks": ""
             }
            },
            "type": "scatterpolar"
           }
          ],
          "scatterpolargl": [
           {
            "marker": {
             "colorbar": {
              "outlinewidth": 0,
              "ticks": ""
             }
            },
            "type": "scatterpolargl"
           }
          ],
          "scatterternary": [
           {
            "marker": {
             "colorbar": {
              "outlinewidth": 0,
              "ticks": ""
             }
            },
            "type": "scatterternary"
           }
          ],
          "surface": [
           {
            "colorbar": {
             "outlinewidth": 0,
             "ticks": ""
            },
            "colorscale": [
             [
              0,
              "#0d0887"
             ],
             [
              0.1111111111111111,
              "#46039f"
             ],
             [
              0.2222222222222222,
              "#7201a8"
             ],
             [
              0.3333333333333333,
              "#9c179e"
             ],
             [
              0.4444444444444444,
              "#bd3786"
             ],
             [
              0.5555555555555556,
              "#d8576b"
             ],
             [
              0.6666666666666666,
              "#ed7953"
             ],
             [
              0.7777777777777778,
              "#fb9f3a"
             ],
             [
              0.8888888888888888,
              "#fdca26"
             ],
             [
              1,
              "#f0f921"
             ]
            ],
            "type": "surface"
           }
          ],
          "table": [
           {
            "cells": {
             "fill": {
              "color": "#EBF0F8"
             },
             "line": {
              "color": "white"
             }
            },
            "header": {
             "fill": {
              "color": "#C8D4E3"
             },
             "line": {
              "color": "white"
             }
            },
            "type": "table"
           }
          ]
         },
         "layout": {
          "annotationdefaults": {
           "arrowcolor": "#2a3f5f",
           "arrowhead": 0,
           "arrowwidth": 1
          },
          "autotypenumbers": "strict",
          "coloraxis": {
           "colorbar": {
            "outlinewidth": 0,
            "ticks": ""
           }
          },
          "colorscale": {
           "diverging": [
            [
             0,
             "#8e0152"
            ],
            [
             0.1,
             "#c51b7d"
            ],
            [
             0.2,
             "#de77ae"
            ],
            [
             0.3,
             "#f1b6da"
            ],
            [
             0.4,
             "#fde0ef"
            ],
            [
             0.5,
             "#f7f7f7"
            ],
            [
             0.6,
             "#e6f5d0"
            ],
            [
             0.7,
             "#b8e186"
            ],
            [
             0.8,
             "#7fbc41"
            ],
            [
             0.9,
             "#4d9221"
            ],
            [
             1,
             "#276419"
            ]
           ],
           "sequential": [
            [
             0,
             "#0d0887"
            ],
            [
             0.1111111111111111,
             "#46039f"
            ],
            [
             0.2222222222222222,
             "#7201a8"
            ],
            [
             0.3333333333333333,
             "#9c179e"
            ],
            [
             0.4444444444444444,
             "#bd3786"
            ],
            [
             0.5555555555555556,
             "#d8576b"
            ],
            [
             0.6666666666666666,
             "#ed7953"
            ],
            [
             0.7777777777777778,
             "#fb9f3a"
            ],
            [
             0.8888888888888888,
             "#fdca26"
            ],
            [
             1,
             "#f0f921"
            ]
           ],
           "sequentialminus": [
            [
             0,
             "#0d0887"
            ],
            [
             0.1111111111111111,
             "#46039f"
            ],
            [
             0.2222222222222222,
             "#7201a8"
            ],
            [
             0.3333333333333333,
             "#9c179e"
            ],
            [
             0.4444444444444444,
             "#bd3786"
            ],
            [
             0.5555555555555556,
             "#d8576b"
            ],
            [
             0.6666666666666666,
             "#ed7953"
            ],
            [
             0.7777777777777778,
             "#fb9f3a"
            ],
            [
             0.8888888888888888,
             "#fdca26"
            ],
            [
             1,
             "#f0f921"
            ]
           ]
          },
          "colorway": [
           "#636efa",
           "#EF553B",
           "#00cc96",
           "#ab63fa",
           "#FFA15A",
           "#19d3f3",
           "#FF6692",
           "#B6E880",
           "#FF97FF",
           "#FECB52"
          ],
          "font": {
           "color": "#2a3f5f"
          },
          "geo": {
           "bgcolor": "white",
           "lakecolor": "white",
           "landcolor": "#E5ECF6",
           "showlakes": true,
           "showland": true,
           "subunitcolor": "white"
          },
          "hoverlabel": {
           "align": "left"
          },
          "hovermode": "closest",
          "mapbox": {
           "style": "light"
          },
          "paper_bgcolor": "white",
          "plot_bgcolor": "#E5ECF6",
          "polar": {
           "angularaxis": {
            "gridcolor": "white",
            "linecolor": "white",
            "ticks": ""
           },
           "bgcolor": "#E5ECF6",
           "radialaxis": {
            "gridcolor": "white",
            "linecolor": "white",
            "ticks": ""
           }
          },
          "scene": {
           "xaxis": {
            "backgroundcolor": "#E5ECF6",
            "gridcolor": "white",
            "gridwidth": 2,
            "linecolor": "white",
            "showbackground": true,
            "ticks": "",
            "zerolinecolor": "white"
           },
           "yaxis": {
            "backgroundcolor": "#E5ECF6",
            "gridcolor": "white",
            "gridwidth": 2,
            "linecolor": "white",
            "showbackground": true,
            "ticks": "",
            "zerolinecolor": "white"
           },
           "zaxis": {
            "backgroundcolor": "#E5ECF6",
            "gridcolor": "white",
            "gridwidth": 2,
            "linecolor": "white",
            "showbackground": true,
            "ticks": "",
            "zerolinecolor": "white"
           }
          },
          "shapedefaults": {
           "line": {
            "color": "#2a3f5f"
           }
          },
          "ternary": {
           "aaxis": {
            "gridcolor": "white",
            "linecolor": "white",
            "ticks": ""
           },
           "baxis": {
            "gridcolor": "white",
            "linecolor": "white",
            "ticks": ""
           },
           "bgcolor": "#E5ECF6",
           "caxis": {
            "gridcolor": "white",
            "linecolor": "white",
            "ticks": ""
           }
          },
          "title": {
           "x": 0.05
          },
          "xaxis": {
           "automargin": true,
           "gridcolor": "white",
           "linecolor": "white",
           "ticks": "",
           "title": {
            "standoff": 15
           },
           "zerolinecolor": "white",
           "zerolinewidth": 2
          },
          "yaxis": {
           "automargin": true,
           "gridcolor": "white",
           "linecolor": "white",
           "ticks": "",
           "title": {
            "standoff": 15
           },
           "zerolinecolor": "white",
           "zerolinewidth": 2
          }
         }
        },
        "title": {
         "text": "Box Plot of maximum heart rate acheived (thalch) of patients"
        },
        "xaxis": {
         "anchor": "y",
         "domain": [
          0,
          1
         ]
        },
        "yaxis": {
         "anchor": "x",
         "domain": [
          0,
          1
         ],
         "title": {
          "text": "Maximum Heart Rate Acheived (thalch)"
         }
        }
       }
      }
     },
     "metadata": {},
     "output_type": "display_data"
    }
   ],
   "source": [
    "# Let's view the maximum heart rate achieved using interactive boxplot to find outliers\n",
    "# Create a box plot\n",
    "fig10 = px.box(df, y='thalch', title='Box Plot of maximum heart rate acheived (thalch) of patients',\n",
    "             labels={'thalch': 'Maximum Heart Rate Acheived (thalch)'})\n",
    "# Save the figure\n",
    "folder_name = 'Plotly Plots'  # Folder to save the image\n",
    "figure_name = 'my_figure10.html'  # Change this to your desired figure name\n",
    "saved_path = save_figure(fig10, folder_name, figure_name)\n",
    "# Show the plot\n",
    "fig10.show()"
   ]
  },
  {
   "cell_type": "code",
   "execution_count": 254,
   "id": "6ea3e5dd",
   "metadata": {},
   "outputs": [
    {
     "data": {
      "application/vnd.plotly.v1+json": {
       "config": {
        "plotlyServerURL": "https://plot.ly"
       },
       "data": [
        {
         "bingroup": "x",
         "histnorm": "probability density",
         "hovertemplate": "Thalach=%{x}<br>probability density=%{y}<extra></extra>",
         "legendgroup": "",
         "marker": {
          "color": "#636efa",
          "pattern": {
           "shape": ""
          }
         },
         "name": "",
         "nbinsx": 30,
         "orientation": "v",
         "showlegend": false,
         "type": "histogram",
         "x": {
          "bdata": "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",
          "dtype": "f8"
         },
         "xaxis": "x",
         "yaxis": "y"
        },
        {
         "line": {
          "color": "red"
         },
         "mode": "lines",
         "name": "KDE",
         "type": "scatter",
         "x": {
          "bdata": "AAAAAADAUUC/UqDWrxRSQH+lQK1faVJAPvjggw++UkD9SoFavxJTQL2dITFvZ1NAfPDBBx+8U0A8Q2LezhBUQPuVArV+ZVRAuuiiiy66VEB6O0Ni3g5VQDmO4ziOY1VA+OCDDz64VUC4MyTm7QxWQHeGxLydYVZANtlkk022VkD2KwVq/QpXQLV+pUCtX1dAdNFFF120V0A0JObtDAlYQPN2hsS8XVhAsskmm2yyWEByHMdxHAdZQDFvZ0jMW1lA8MEHH3ywWUCwFKj1KwVaQHBnSMzbWVpALrrooouuWkDuDIl5OwNbQK5fKVDrV1tAbbLJJpusW0AsBWr9SgFcQOxXCtT6VVxAq6qqqqqqXEBq/UqBWv9cQCpQ61cKVF1A6aKLLrqoXUCo9SsFav1dQGhIzNsZUl5AJ5tsssmmXkDm7QyJefteQKZArV8pUF9AZZNNNtmkX0Ak5u0MiflfQHIcx3EcJ2BA0kUXXXRRYEAxb2dIzHtgQJGYtzMkpmBA8MEHH3zQYEBQ61cK1PpgQLAUqPUrJWFAED744INPYUBwZ0jM23lhQM+QmLczpGFALrrooovOYUCO4ziO4/hhQO4MiXk7I2JATjbZZJNNYkCuXylQ63diQA2JeTtDomJAbbLJJpvMYkDM2xkS8/ZiQCwFav1KIWNAjC666KJLY0DsVwrU+nVjQEuBWr9SoGNAq6qqqqrKY0AK1PqVAvVjQGr9SoFaH2RAyiabbLJJZEAqUOtXCnRkQIp5O0NinmRA6aKLLrrIZEBIzNsZEvNkQKj1KwVqHWVACB988MFHZUBoSMzbGXJlQMhxHMdxnGVAJ5tsssnGZUCGxLydIfFlQObtDIl5G2ZARhdddNFFZkCmQK1fKXBmQAZq/UqBmmZAZZNNNtnEZkDFvJ0hMe9mQCTm7QyJGWdAhA8++OBDZ0DkOI7jOG5nQERi3s6QmGdAo4suuujCZ0ADtX6lQO1nQGLezpCYF2hAwgcffPBBaEAiMW9nSGxoQIJav1KglmhA4YMPPvjAaEBBrV8pUOtoQKHWrxSoFWlAAAAAAABAaUA=",
          "dtype": "f8"
         },
         "y": {
          "bdata": "RNOJi266MT8hY0aa1u40P4DMrzAMrDg/F8hRM2cePT9xmswjrjtBP2IN39x/dEQ/gzTaKR9RSD8JuqPGYOZMP4LlxiooI1E/EkCC/D9AVD84ckDJ/9BXP5jVwfQP2ls/QGId72EuYD8YMTySeKpiPzr2F3hVW2U/CMUAG2k2aD9CzeXxvixrP3RHYOJ1LG4/OttwZL6RcD+KEGuFkAFyP3lbHB/MYXM/N/ysiT+zdD/KEEpZtft1P7QJNpAPRXc/AHYrt1KbeD9sy0lTEAp6Px0RxCLTmXs/+DkGUDBOfT97SzS17iR/P8/ht10xi4A/1n+4KGSLgT/R3176FIyCP7EjASoqhoM/JLngBjhzhD8zoQXaBk6FP/PCoGrSEoY/DvjHklW/hj/oIyriulKHP7M8yLmHzYc/uCupIo4xiD8yt1vh5oGIP3b32Ajrwog/dRptjxv6iD9VgMD73y2JP8a8ocQGZYk/BEbqW/6liT/u6M3E1fWJP8t9YFsxV4o/ktcdHHjJij8exWSQgUiLPxpiq4P0zIs/sGoirVZNjD+K+qsBlr+MP8p0ww6sGo0/VxmTePRXjT9dR5IN7XONP6a6/4JKbo0/l1SKH4FJjT9rc56Y/gmNP6sZn5lRtYw/CUbr9WNRjD8A5Qop0eOLPxVnb+hUcYs/ByA8uVL9ij8PLaPshomKP0Hfzan6FYo/Mm/0TkuhiT9HCBToOSmJP0e41LBXq4g/fAfAwJMliD9AtzWbeJaHP1MTGPQL/YY/QdPmtm5Yhj8mKCcZeaeFPzvINQSP6IQ/7sTDb8wZhD8yzwpLfjmDP1LvX8e4RoI/ZfPG0c9BgT8eNbXyhSyAP7QbXXTNE34/5zyrd8a7ez+XltLSs1l5P3s+Rrti9nY/+sJXzjeadD8AbvS6BU1yP/0CBDcQFnA/SHjupx34az8o0COtIQpoP/onMWF4bGQ/CD3E8PAmYT8ZAm+Gh3xcP/8BRAh3Z1c/jL5hIXkKUz+nnuIEpbZOP/I7QOEtlkg/VHNFMoiPQz8U+yyjj/c+P/rKIOgVaDg/b/Ad8bUnMz8=",
          "dtype": "f8"
         }
        }
       ],
       "layout": {
        "barmode": "relative",
        "legend": {
         "tracegroupgap": 0
        },
        "template": {
         "data": {
          "bar": [
           {
            "error_x": {
             "color": "#2a3f5f"
            },
            "error_y": {
             "color": "#2a3f5f"
            },
            "marker": {
             "line": {
              "color": "#E5ECF6",
              "width": 0.5
             },
             "pattern": {
              "fillmode": "overlay",
              "size": 10,
              "solidity": 0.2
             }
            },
            "type": "bar"
           }
          ],
          "barpolar": [
           {
            "marker": {
             "line": {
              "color": "#E5ECF6",
              "width": 0.5
             },
             "pattern": {
              "fillmode": "overlay",
              "size": 10,
              "solidity": 0.2
             }
            },
            "type": "barpolar"
           }
          ],
          "carpet": [
           {
            "aaxis": {
             "endlinecolor": "#2a3f5f",
             "gridcolor": "white",
             "linecolor": "white",
             "minorgridcolor": "white",
             "startlinecolor": "#2a3f5f"
            },
            "baxis": {
             "endlinecolor": "#2a3f5f",
             "gridcolor": "white",
             "linecolor": "white",
             "minorgridcolor": "white",
             "startlinecolor": "#2a3f5f"
            },
            "type": "carpet"
           }
          ],
          "choropleth": [
           {
            "colorbar": {
             "outlinewidth": 0,
             "ticks": ""
            },
            "type": "choropleth"
           }
          ],
          "contour": [
           {
            "colorbar": {
             "outlinewidth": 0,
             "ticks": ""
            },
            "colorscale": [
             [
              0,
              "#0d0887"
             ],
             [
              0.1111111111111111,
              "#46039f"
             ],
             [
              0.2222222222222222,
              "#7201a8"
             ],
             [
              0.3333333333333333,
              "#9c179e"
             ],
             [
              0.4444444444444444,
              "#bd3786"
             ],
             [
              0.5555555555555556,
              "#d8576b"
             ],
             [
              0.6666666666666666,
              "#ed7953"
             ],
             [
              0.7777777777777778,
              "#fb9f3a"
             ],
             [
              0.8888888888888888,
              "#fdca26"
             ],
             [
              1,
              "#f0f921"
             ]
            ],
            "type": "contour"
           }
          ],
          "contourcarpet": [
           {
            "colorbar": {
             "outlinewidth": 0,
             "ticks": ""
            },
            "type": "contourcarpet"
           }
          ],
          "heatmap": [
           {
            "colorbar": {
             "outlinewidth": 0,
             "ticks": ""
            },
            "colorscale": [
             [
              0,
              "#0d0887"
             ],
             [
              0.1111111111111111,
              "#46039f"
             ],
             [
              0.2222222222222222,
              "#7201a8"
             ],
             [
              0.3333333333333333,
              "#9c179e"
             ],
             [
              0.4444444444444444,
              "#bd3786"
             ],
             [
              0.5555555555555556,
              "#d8576b"
             ],
             [
              0.6666666666666666,
              "#ed7953"
             ],
             [
              0.7777777777777778,
              "#fb9f3a"
             ],
             [
              0.8888888888888888,
              "#fdca26"
             ],
             [
              1,
              "#f0f921"
             ]
            ],
            "type": "heatmap"
           }
          ],
          "histogram": [
           {
            "marker": {
             "pattern": {
              "fillmode": "overlay",
              "size": 10,
              "solidity": 0.2
             }
            },
            "type": "histogram"
           }
          ],
          "histogram2d": [
           {
            "colorbar": {
             "outlinewidth": 0,
             "ticks": ""
            },
            "colorscale": [
             [
              0,
              "#0d0887"
             ],
             [
              0.1111111111111111,
              "#46039f"
             ],
             [
              0.2222222222222222,
              "#7201a8"
             ],
             [
              0.3333333333333333,
              "#9c179e"
             ],
             [
              0.4444444444444444,
              "#bd3786"
             ],
             [
              0.5555555555555556,
              "#d8576b"
             ],
             [
              0.6666666666666666,
              "#ed7953"
             ],
             [
              0.7777777777777778,
              "#fb9f3a"
             ],
             [
              0.8888888888888888,
              "#fdca26"
             ],
             [
              1,
              "#f0f921"
             ]
            ],
            "type": "histogram2d"
           }
          ],
          "histogram2dcontour": [
           {
            "colorbar": {
             "outlinewidth": 0,
             "ticks": ""
            },
            "colorscale": [
             [
              0,
              "#0d0887"
             ],
             [
              0.1111111111111111,
              "#46039f"
             ],
             [
              0.2222222222222222,
              "#7201a8"
             ],
             [
              0.3333333333333333,
              "#9c179e"
             ],
             [
              0.4444444444444444,
              "#bd3786"
             ],
             [
              0.5555555555555556,
              "#d8576b"
             ],
             [
              0.6666666666666666,
              "#ed7953"
             ],
             [
              0.7777777777777778,
              "#fb9f3a"
             ],
             [
              0.8888888888888888,
              "#fdca26"
             ],
             [
              1,
              "#f0f921"
             ]
            ],
            "type": "histogram2dcontour"
           }
          ],
          "mesh3d": [
           {
            "colorbar": {
             "outlinewidth": 0,
             "ticks": ""
            },
            "type": "mesh3d"
           }
          ],
          "parcoords": [
           {
            "line": {
             "colorbar": {
              "outlinewidth": 0,
              "ticks": ""
             }
            },
            "type": "parcoords"
           }
          ],
          "pie": [
           {
            "automargin": true,
            "type": "pie"
           }
          ],
          "scatter": [
           {
            "fillpattern": {
             "fillmode": "overlay",
             "size": 10,
             "solidity": 0.2
            },
            "type": "scatter"
           }
          ],
          "scatter3d": [
           {
            "line": {
             "colorbar": {
              "outlinewidth": 0,
              "ticks": ""
             }
            },
            "marker": {
             "colorbar": {
              "outlinewidth": 0,
              "ticks": ""
             }
            },
            "type": "scatter3d"
           }
          ],
          "scattercarpet": [
           {
            "marker": {
             "colorbar": {
              "outlinewidth": 0,
              "ticks": ""
             }
            },
            "type": "scattercarpet"
           }
          ],
          "scattergeo": [
           {
            "marker": {
             "colorbar": {
              "outlinewidth": 0,
              "ticks": ""
             }
            },
            "type": "scattergeo"
           }
          ],
          "scattergl": [
           {
            "marker": {
             "colorbar": {
              "outlinewidth": 0,
              "ticks": ""
             }
            },
            "type": "scattergl"
           }
          ],
          "scattermap": [
           {
            "marker": {
             "colorbar": {
              "outlinewidth": 0,
              "ticks": ""
             }
            },
            "type": "scattermap"
           }
          ],
          "scattermapbox": [
           {
            "marker": {
             "colorbar": {
              "outlinewidth": 0,
              "ticks": ""
             }
            },
            "type": "scattermapbox"
           }
          ],
          "scatterpolar": [
           {
            "marker": {
             "colorbar": {
              "outlinewidth": 0,
              "ticks": ""
             }
            },
            "type": "scatterpolar"
           }
          ],
          "scatterpolargl": [
           {
            "marker": {
             "colorbar": {
              "outlinewidth": 0,
              "ticks": ""
             }
            },
            "type": "scatterpolargl"
           }
          ],
          "scatterternary": [
           {
            "marker": {
             "colorbar": {
              "outlinewidth": 0,
              "ticks": ""
             }
            },
            "type": "scatterternary"
           }
          ],
          "surface": [
           {
            "colorbar": {
             "outlinewidth": 0,
             "ticks": ""
            },
            "colorscale": [
             [
              0,
              "#0d0887"
             ],
             [
              0.1111111111111111,
              "#46039f"
             ],
             [
              0.2222222222222222,
              "#7201a8"
             ],
             [
              0.3333333333333333,
              "#9c179e"
             ],
             [
              0.4444444444444444,
              "#bd3786"
             ],
             [
              0.5555555555555556,
              "#d8576b"
             ],
             [
              0.6666666666666666,
              "#ed7953"
             ],
             [
              0.7777777777777778,
              "#fb9f3a"
             ],
             [
              0.8888888888888888,
              "#fdca26"
             ],
             [
              1,
              "#f0f921"
             ]
            ],
            "type": "surface"
           }
          ],
          "table": [
           {
            "cells": {
             "fill": {
              "color": "#EBF0F8"
             },
             "line": {
              "color": "white"
             }
            },
            "header": {
             "fill": {
              "color": "#C8D4E3"
             },
             "line": {
              "color": "white"
             }
            },
            "type": "table"
           }
          ]
         },
         "layout": {
          "annotationdefaults": {
           "arrowcolor": "#2a3f5f",
           "arrowhead": 0,
           "arrowwidth": 1
          },
          "autotypenumbers": "strict",
          "coloraxis": {
           "colorbar": {
            "outlinewidth": 0,
            "ticks": ""
           }
          },
          "colorscale": {
           "diverging": [
            [
             0,
             "#8e0152"
            ],
            [
             0.1,
             "#c51b7d"
            ],
            [
             0.2,
             "#de77ae"
            ],
            [
             0.3,
             "#f1b6da"
            ],
            [
             0.4,
             "#fde0ef"
            ],
            [
             0.5,
             "#f7f7f7"
            ],
            [
             0.6,
             "#e6f5d0"
            ],
            [
             0.7,
             "#b8e186"
            ],
            [
             0.8,
             "#7fbc41"
            ],
            [
             0.9,
             "#4d9221"
            ],
            [
             1,
             "#276419"
            ]
           ],
           "sequential": [
            [
             0,
             "#0d0887"
            ],
            [
             0.1111111111111111,
             "#46039f"
            ],
            [
             0.2222222222222222,
             "#7201a8"
            ],
            [
             0.3333333333333333,
             "#9c179e"
            ],
            [
             0.4444444444444444,
             "#bd3786"
            ],
            [
             0.5555555555555556,
             "#d8576b"
            ],
            [
             0.6666666666666666,
             "#ed7953"
            ],
            [
             0.7777777777777778,
             "#fb9f3a"
            ],
            [
             0.8888888888888888,
             "#fdca26"
            ],
            [
             1,
             "#f0f921"
            ]
           ],
           "sequentialminus": [
            [
             0,
             "#0d0887"
            ],
            [
             0.1111111111111111,
             "#46039f"
            ],
            [
             0.2222222222222222,
             "#7201a8"
            ],
            [
             0.3333333333333333,
             "#9c179e"
            ],
            [
             0.4444444444444444,
             "#bd3786"
            ],
            [
             0.5555555555555556,
             "#d8576b"
            ],
            [
             0.6666666666666666,
             "#ed7953"
            ],
            [
             0.7777777777777778,
             "#fb9f3a"
            ],
            [
             0.8888888888888888,
             "#fdca26"
            ],
            [
             1,
             "#f0f921"
            ]
           ]
          },
          "colorway": [
           "#636efa",
           "#EF553B",
           "#00cc96",
           "#ab63fa",
           "#FFA15A",
           "#19d3f3",
           "#FF6692",
           "#B6E880",
           "#FF97FF",
           "#FECB52"
          ],
          "font": {
           "color": "#2a3f5f"
          },
          "geo": {
           "bgcolor": "white",
           "lakecolor": "white",
           "landcolor": "#E5ECF6",
           "showlakes": true,
           "showland": true,
           "subunitcolor": "white"
          },
          "hoverlabel": {
           "align": "left"
          },
          "hovermode": "closest",
          "mapbox": {
           "style": "light"
          },
          "paper_bgcolor": "white",
          "plot_bgcolor": "#E5ECF6",
          "polar": {
           "angularaxis": {
            "gridcolor": "white",
            "linecolor": "white",
            "ticks": ""
           },
           "bgcolor": "#E5ECF6",
           "radialaxis": {
            "gridcolor": "white",
            "linecolor": "white",
            "ticks": ""
           }
          },
          "scene": {
           "xaxis": {
            "backgroundcolor": "#E5ECF6",
            "gridcolor": "white",
            "gridwidth": 2,
            "linecolor": "white",
            "showbackground": true,
            "ticks": "",
            "zerolinecolor": "white"
           },
           "yaxis": {
            "backgroundcolor": "#E5ECF6",
            "gridcolor": "white",
            "gridwidth": 2,
            "linecolor": "white",
            "showbackground": true,
            "ticks": "",
            "zerolinecolor": "white"
           },
           "zaxis": {
            "backgroundcolor": "#E5ECF6",
            "gridcolor": "white",
            "gridwidth": 2,
            "linecolor": "white",
            "showbackground": true,
            "ticks": "",
            "zerolinecolor": "white"
           }
          },
          "shapedefaults": {
           "line": {
            "color": "#2a3f5f"
           }
          },
          "ternary": {
           "aaxis": {
            "gridcolor": "white",
            "linecolor": "white",
            "ticks": ""
           },
           "baxis": {
            "gridcolor": "white",
            "linecolor": "white",
            "ticks": ""
           },
           "bgcolor": "#E5ECF6",
           "caxis": {
            "gridcolor": "white",
            "linecolor": "white",
            "ticks": ""
           }
          },
          "title": {
           "x": 0.05
          },
          "xaxis": {
           "automargin": true,
           "gridcolor": "white",
           "linecolor": "white",
           "ticks": "",
           "title": {
            "standoff": 15
           },
           "zerolinecolor": "white",
           "zerolinewidth": 2
          },
          "yaxis": {
           "automargin": true,
           "gridcolor": "white",
           "linecolor": "white",
           "ticks": "",
           "title": {
            "standoff": 15
           },
           "zerolinecolor": "white",
           "zerolinewidth": 2
          }
         }
        },
        "title": {
         "text": "Distribution of Thalach with KDE"
        },
        "xaxis": {
         "anchor": "y",
         "domain": [
          0,
          1
         ],
         "title": {
          "text": "Thalach"
         }
        },
        "yaxis": {
         "anchor": "x",
         "domain": [
          0,
          1
         ],
         "title": {
          "text": "probability density"
         }
        }
       }
      }
     },
     "metadata": {},
     "output_type": "display_data"
    }
   ],
   "source": [
    "# Create a histogram of the 'thalch' column\n",
    "fig11 = px.histogram(df, x='thalch', histnorm='probability density',\n",
    "                   title='Distribution of Thalach with KDE',\n",
    "                   labels={'thalch': 'Thalach'},\n",
    "                   nbins=30)\n",
    "\n",
    "# Calculate the KDE\n",
    "from scipy.stats import gaussian_kde\n",
    "\n",
    "# Create a density estimate\n",
    "kde = gaussian_kde(df['thalch'].dropna())\n",
    "x_vals = np.linspace(df['thalch'].min(), df['thalch'].max(), 100)\n",
    "kde_vals = kde(x_vals)\n",
    "\n",
    "# Add the KDE line to the figure\n",
    "fig11.add_scatter(x=x_vals, y=kde_vals, mode='lines', name='KDE', line=dict(color='red'))\n",
    "# Save the figure\n",
    "folder_name = 'Plotly Plots'  # Folder to save the image\n",
    "figure_name = 'my_figure11.html'  # Change this to your desired figure name\n",
    "saved_path = save_figure(fig11, folder_name, figure_name)\n",
    "\n",
    "# Show the plot\n",
    "fig11.show()"
   ]
  },
  {
   "cell_type": "code",
   "execution_count": 255,
   "id": "28aa66bc",
   "metadata": {},
   "outputs": [
    {
     "name": "stdout",
     "output_type": "stream",
     "text": [
      "0    False\n",
      "1     True\n",
      "2     True\n",
      "3    False\n",
      "4    False\n",
      "Name: exang, dtype: object\n"
     ]
    }
   ],
   "source": [
    "# Let's check the exang column.\n",
    "print(df[\"exang\"].head())"
   ]
  },
  {
   "cell_type": "code",
   "execution_count": 256,
   "id": "70b94f3a",
   "metadata": {},
   "outputs": [
    {
     "name": "stdout",
     "output_type": "stream",
     "text": [
      "exang\n",
      "False    438\n",
      "True     287\n",
      "Name: count, dtype: int64\n"
     ]
    }
   ],
   "source": [
    "# Getting value count of exang to check how many people suffered from chest pain exertion.\n",
    "print(df[\"exang\"].value_counts())"
   ]
  },
  {
   "cell_type": "code",
   "execution_count": 257,
   "id": "3cabf52a",
   "metadata": {},
   "outputs": [
    {
     "data": {
      "application/vnd.plotly.v1+json": {
       "config": {
        "plotlyServerURL": "https://plot.ly"
       },
       "data": [
        {
         "alignmentgroup": "True",
         "hovertemplate": "Exercise-Induced Angina=%{x}<br>Age=%{y}<extra></extra>",
         "legendgroup": "",
         "marker": {
          "color": "#636efa"
         },
         "name": "",
         "notched": false,
         "offsetgroup": "",
         "orientation": "v",
         "showlegend": false,
         "type": "box",
         "x": [
          "False",
          "True",
          "True",
          "False",
          "False",
          "False",
          "False",
          "True",
          "False",
          "True",
          "False",
          "False",
          "True",
          "False",
          "False",
          "False",
          "False",
          "False",
          "False",
          "False",
          "True",
          "False",
          "False",
          "False",
          "True",
          "False",
          "False",
          "False",
          "False",
          "True",
          "False",
          "True",
          "False",
          "False",
          "True",
          "False",
          "True",
          "True",
          "True",
          "True",
          "False",
          "True",
          "False",
          "False",
          "False",
          "False",
          "False",
          "False",
          "False",
          "False",
          "False",
          "False",
          "False",
          "True",
          "True",
          "False",
          "False",
          "False",
          "True",
          "True",
          "True",
          "True",
          "False",
          "False",
          "True",
          "False",
          "False",
          "True",
          "False",
          "False",
          "False",
          "True",
          "False",
          "False",
          "False",
          "True",
          "False",
          "False",
          "True",
          "True",
          "False",
          "False",
          "True",
          "False",
          "False",
          "False",
          "False",
          "False",
          "False",
          "False",
          "False",
          "False",
          "False",
          "False",
          "True",
          "True",
          "False",
          "False",
          "False",
          "False",
          "False",
          "False",
          "False",
          "False",
          "False",
          "True",
          "False",
          "True",
          "False",
          "True",
          "True",
          "False",
          "True",
          "False",
          "False",
          "False",
          "False",
          "True",
          "False",
          "True",
          "True",
          "True",
          "False",
          "False",
          "True",
          "True",
          "False",
          "False",
          "False",
          "True",
          "False",
          "True",
          "False",
          "False",
          "True",
          "False",
          "True",
          "False",
          "True",
          "False",
          "False",
          "True",
          "True",
          "False",
          "False",
          "False",
          "False",
          "False",
          "False",
          "False",
          "True",
          "True",
          "False",
          "True",
          "False",
          "False",
          "False",
          "False",
          "True",
          "False",
          "False",
          "False",
          "True",
          "False",
          "True",
          "True",
          "False",
          "True",
          "True",
          "True",
          "False",
          "True",
          "False",
          "True",
          "False",
          "False",
          "False",
          "False",
          "False",
          "False",
          "False",
          "False",
          "True",
          "False",
          "False",
          "False",
          "True",
          "True",
          "False",
          "False",
          "True",
          "False",
          "True",
          "False",
          "False",
          "False",
          "True",
          "False",
          "False",
          "False",
          "True",
          "True",
          "True",
          "False",
          "True",
          "False",
          "True",
          "False",
          "True",
          "False",
          "False",
          "False",
          "True",
          "False",
          "False",
          "True",
          "False",
          "False",
          "True",
          "True",
          "False",
          "False",
          "False",
          "True",
          "True",
          "False",
          "True",
          "False",
          "True",
          "False",
          "True",
          "True",
          "False",
          "False",
          "False",
          "False",
          "False",
          "False",
          "False",
          "False",
          "False",
          "False",
          "True",
          "False",
          "False",
          "True",
          "False",
          "True",
          "False",
          "False",
          "False",
          "False",
          "False",
          "False",
          "False",
          "False",
          "False",
          "False",
          "False",
          "True",
          "True",
          "True",
          "False",
          "False",
          "False",
          "True",
          "False",
          "True",
          "False",
          "False",
          "False",
          "False",
          "False",
          "False",
          "False",
          "True",
          "False",
          "True",
          "False",
          "False",
          "False",
          "True",
          "False",
          "False",
          "False",
          "False",
          "False",
          "True",
          "True",
          "True",
          "False",
          "False",
          "True",
          "False",
          "False",
          "True",
          "False",
          "False",
          "False",
          "False",
          "False",
          "False",
          "False",
          "False",
          "False",
          "False",
          "False",
          "False",
          "False",
          "False",
          "False",
          "False",
          "False",
          "False",
          "False",
          "False",
          "False",
          "False",
          "False",
          "False",
          "False",
          "False",
          "False",
          "False",
          "False",
          "False",
          "False",
          "False",
          "False",
          "False",
          "True",
          "False",
          "False",
          "False",
          "False",
          "False",
          "False",
          "False",
          "False",
          "False",
          "False",
          "False",
          "False",
          "False",
          "False",
          "False",
          "False",
          "False",
          "False",
          "False",
          "False",
          "False",
          "False",
          "False",
          "True",
          "False",
          "False",
          "False",
          "False",
          "False",
          "False",
          "False",
          "False",
          "False",
          "False",
          "False",
          "False",
          "False",
          "False",
          "False",
          "False",
          "False",
          "False",
          "False",
          "False",
          "False",
          "True",
          "False",
          "False",
          "True",
          "False",
          "False",
          "False",
          "False",
          "False",
          "False",
          "True",
          "False",
          "False",
          "False",
          "False",
          "False",
          "False",
          "True",
          "False",
          "False",
          "False",
          "False",
          "False",
          "False",
          "False",
          "False",
          "False",
          "False",
          "False",
          "False",
          "False",
          "True",
          "False",
          "False",
          "False",
          "False",
          "True",
          "False",
          "False",
          "True",
          "False",
          "False",
          "False",
          "False",
          "False",
          "False",
          "False",
          "True",
          "False",
          "False",
          "False",
          "True",
          "False",
          "False",
          "False",
          "False",
          "True",
          "False",
          "False",
          "False",
          "False",
          "False",
          "False",
          "False",
          "False",
          "False",
          "False",
          "False",
          "False",
          "False",
          "False",
          "False",
          "False",
          "False",
          "False",
          "False",
          "False",
          "False",
          "False",
          "False",
          "False",
          "False",
          "False",
          "True",
          "False",
          "False",
          "False",
          "True",
          "False",
          "True",
          "False",
          "False",
          "False",
          "False",
          "False",
          "False",
          "False",
          "True",
          "False",
          "False",
          "False",
          "True",
          "True",
          "False",
          "False",
          "True",
          "True",
          "False",
          "False",
          "False",
          "True",
          "False",
          "False",
          "True",
          "False",
          "True",
          "True",
          "True",
          "False",
          "True",
          "True",
          "True",
          "False",
          "False",
          "True",
          "False",
          "False",
          "False",
          "True",
          "False",
          "True",
          "True",
          "False",
          "False",
          "True",
          "True",
          "False",
          "True",
          "False",
          "False",
          "True",
          "True",
          "False",
          "False",
          "True",
          "True",
          "False",
          "True",
          "True",
          "True",
          "True",
          "True",
          "False",
          "True",
          "True",
          "True",
          "True",
          "True",
          "True",
          "True",
          "True",
          "True",
          "False",
          "True",
          "False",
          "True",
          "True",
          "True",
          "False",
          "False",
          "True",
          "True",
          "True",
          "False",
          "True",
          "True",
          "True",
          "True",
          "False",
          "False",
          "True",
          "True",
          "False",
          "True",
          "True",
          "False",
          "True",
          "True",
          "True",
          "True",
          "True",
          "True",
          "True",
          "True",
          "False",
          "True",
          "True",
          "True",
          "True",
          "True",
          "True",
          "True",
          "True",
          "False",
          "True",
          "True",
          "True",
          "True",
          "False",
          "False",
          "False",
          "True",
          "True",
          "True",
          "True",
          "True",
          "True",
          "True",
          "True",
          "True",
          "True",
          "False",
          "True",
          "False",
          "True",
          "True",
          "True",
          "False",
          "True",
          "False",
          "True",
          "False",
          "True",
          "True",
          "False",
          "True",
          "True",
          "True",
          "True",
          "True",
          "True",
          "True",
          "True",
          "True",
          "True",
          "True",
          "True",
          "True",
          "False",
          "True",
          "True",
          "False",
          "True",
          "False",
          "True",
          "True",
          "False",
          "True",
          "True",
          "True",
          "False",
          "True",
          "True",
          "False",
          "True",
          "True",
          "True",
          "True",
          "False",
          "True",
          "True",
          "True",
          "True",
          "False",
          "True",
          "False",
          "True",
          "True",
          "True",
          "True",
          "False",
          "False",
          "False",
          "False",
          "False",
          "False",
          "True",
          "True",
          "False",
          "True",
          "True",
          "True",
          "True",
          "True",
          "False",
          "False",
          "True",
          "True",
          "True",
          "True",
          "True",
          "True",
          "True",
          "True",
          "True",
          "True",
          "True",
          "False",
          "True",
          "True",
          "True",
          "True",
          "True",
          "True",
          "True",
          "True",
          "True",
          "False",
          "True",
          "False",
          "True",
          "False",
          "True",
          "False",
          "True",
          "False",
          "True",
          "False",
          "True",
          "True",
          "False",
          "True",
          "True",
          "False",
          "True",
          "True",
          "True",
          "True",
          "True",
          "True",
          "False",
          "True",
          "True",
          "True",
          "False",
          "False",
          "True",
          "False",
          "True"
         ],
         "x0": " ",
         "xaxis": "x",
         "y": {
          "bdata": "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",
          "dtype": "f8"
         },
         "y0": " ",
         "yaxis": "y"
        }
       ],
       "layout": {
        "boxmode": "group",
        "legend": {
         "tracegroupgap": 0
        },
        "template": {
         "data": {
          "bar": [
           {
            "error_x": {
             "color": "#2a3f5f"
            },
            "error_y": {
             "color": "#2a3f5f"
            },
            "marker": {
             "line": {
              "color": "#E5ECF6",
              "width": 0.5
             },
             "pattern": {
              "fillmode": "overlay",
              "size": 10,
              "solidity": 0.2
             }
            },
            "type": "bar"
           }
          ],
          "barpolar": [
           {
            "marker": {
             "line": {
              "color": "#E5ECF6",
              "width": 0.5
             },
             "pattern": {
              "fillmode": "overlay",
              "size": 10,
              "solidity": 0.2
             }
            },
            "type": "barpolar"
           }
          ],
          "carpet": [
           {
            "aaxis": {
             "endlinecolor": "#2a3f5f",
             "gridcolor": "white",
             "linecolor": "white",
             "minorgridcolor": "white",
             "startlinecolor": "#2a3f5f"
            },
            "baxis": {
             "endlinecolor": "#2a3f5f",
             "gridcolor": "white",
             "linecolor": "white",
             "minorgridcolor": "white",
             "startlinecolor": "#2a3f5f"
            },
            "type": "carpet"
           }
          ],
          "choropleth": [
           {
            "colorbar": {
             "outlinewidth": 0,
             "ticks": ""
            },
            "type": "choropleth"
           }
          ],
          "contour": [
           {
            "colorbar": {
             "outlinewidth": 0,
             "ticks": ""
            },
            "colorscale": [
             [
              0,
              "#0d0887"
             ],
             [
              0.1111111111111111,
              "#46039f"
             ],
             [
              0.2222222222222222,
              "#7201a8"
             ],
             [
              0.3333333333333333,
              "#9c179e"
             ],
             [
              0.4444444444444444,
              "#bd3786"
             ],
             [
              0.5555555555555556,
              "#d8576b"
             ],
             [
              0.6666666666666666,
              "#ed7953"
             ],
             [
              0.7777777777777778,
              "#fb9f3a"
             ],
             [
              0.8888888888888888,
              "#fdca26"
             ],
             [
              1,
              "#f0f921"
             ]
            ],
            "type": "contour"
           }
          ],
          "contourcarpet": [
           {
            "colorbar": {
             "outlinewidth": 0,
             "ticks": ""
            },
            "type": "contourcarpet"
           }
          ],
          "heatmap": [
           {
            "colorbar": {
             "outlinewidth": 0,
             "ticks": ""
            },
            "colorscale": [
             [
              0,
              "#0d0887"
             ],
             [
              0.1111111111111111,
              "#46039f"
             ],
             [
              0.2222222222222222,
              "#7201a8"
             ],
             [
              0.3333333333333333,
              "#9c179e"
             ],
             [
              0.4444444444444444,
              "#bd3786"
             ],
             [
              0.5555555555555556,
              "#d8576b"
             ],
             [
              0.6666666666666666,
              "#ed7953"
             ],
             [
              0.7777777777777778,
              "#fb9f3a"
             ],
             [
              0.8888888888888888,
              "#fdca26"
             ],
             [
              1,
              "#f0f921"
             ]
            ],
            "type": "heatmap"
           }
          ],
          "histogram": [
           {
            "marker": {
             "pattern": {
              "fillmode": "overlay",
              "size": 10,
              "solidity": 0.2
             }
            },
            "type": "histogram"
           }
          ],
          "histogram2d": [
           {
            "colorbar": {
             "outlinewidth": 0,
             "ticks": ""
            },
            "colorscale": [
             [
              0,
              "#0d0887"
             ],
             [
              0.1111111111111111,
              "#46039f"
             ],
             [
              0.2222222222222222,
              "#7201a8"
             ],
             [
              0.3333333333333333,
              "#9c179e"
             ],
             [
              0.4444444444444444,
              "#bd3786"
             ],
             [
              0.5555555555555556,
              "#d8576b"
             ],
             [
              0.6666666666666666,
              "#ed7953"
             ],
             [
              0.7777777777777778,
              "#fb9f3a"
             ],
             [
              0.8888888888888888,
              "#fdca26"
             ],
             [
              1,
              "#f0f921"
             ]
            ],
            "type": "histogram2d"
           }
          ],
          "histogram2dcontour": [
           {
            "colorbar": {
             "outlinewidth": 0,
             "ticks": ""
            },
            "colorscale": [
             [
              0,
              "#0d0887"
             ],
             [
              0.1111111111111111,
              "#46039f"
             ],
             [
              0.2222222222222222,
              "#7201a8"
             ],
             [
              0.3333333333333333,
              "#9c179e"
             ],
             [
              0.4444444444444444,
              "#bd3786"
             ],
             [
              0.5555555555555556,
              "#d8576b"
             ],
             [
              0.6666666666666666,
              "#ed7953"
             ],
             [
              0.7777777777777778,
              "#fb9f3a"
             ],
             [
              0.8888888888888888,
              "#fdca26"
             ],
             [
              1,
              "#f0f921"
             ]
            ],
            "type": "histogram2dcontour"
           }
          ],
          "mesh3d": [
           {
            "colorbar": {
             "outlinewidth": 0,
             "ticks": ""
            },
            "type": "mesh3d"
           }
          ],
          "parcoords": [
           {
            "line": {
             "colorbar": {
              "outlinewidth": 0,
              "ticks": ""
             }
            },
            "type": "parcoords"
           }
          ],
          "pie": [
           {
            "automargin": true,
            "type": "pie"
           }
          ],
          "scatter": [
           {
            "fillpattern": {
             "fillmode": "overlay",
             "size": 10,
             "solidity": 0.2
            },
            "type": "scatter"
           }
          ],
          "scatter3d": [
           {
            "line": {
             "colorbar": {
              "outlinewidth": 0,
              "ticks": ""
             }
            },
            "marker": {
             "colorbar": {
              "outlinewidth": 0,
              "ticks": ""
             }
            },
            "type": "scatter3d"
           }
          ],
          "scattercarpet": [
           {
            "marker": {
             "colorbar": {
              "outlinewidth": 0,
              "ticks": ""
             }
            },
            "type": "scattercarpet"
           }
          ],
          "scattergeo": [
           {
            "marker": {
             "colorbar": {
              "outlinewidth": 0,
              "ticks": ""
             }
            },
            "type": "scattergeo"
           }
          ],
          "scattergl": [
           {
            "marker": {
             "colorbar": {
              "outlinewidth": 0,
              "ticks": ""
             }
            },
            "type": "scattergl"
           }
          ],
          "scattermap": [
           {
            "marker": {
             "colorbar": {
              "outlinewidth": 0,
              "ticks": ""
             }
            },
            "type": "scattermap"
           }
          ],
          "scattermapbox": [
           {
            "marker": {
             "colorbar": {
              "outlinewidth": 0,
              "ticks": ""
             }
            },
            "type": "scattermapbox"
           }
          ],
          "scatterpolar": [
           {
            "marker": {
             "colorbar": {
              "outlinewidth": 0,
              "ticks": ""
             }
            },
            "type": "scatterpolar"
           }
          ],
          "scatterpolargl": [
           {
            "marker": {
             "colorbar": {
              "outlinewidth": 0,
              "ticks": ""
             }
            },
            "type": "scatterpolargl"
           }
          ],
          "scatterternary": [
           {
            "marker": {
             "colorbar": {
              "outlinewidth": 0,
              "ticks": ""
             }
            },
            "type": "scatterternary"
           }
          ],
          "surface": [
           {
            "colorbar": {
             "outlinewidth": 0,
             "ticks": ""
            },
            "colorscale": [
             [
              0,
              "#0d0887"
             ],
             [
              0.1111111111111111,
              "#46039f"
             ],
             [
              0.2222222222222222,
              "#7201a8"
             ],
             [
              0.3333333333333333,
              "#9c179e"
             ],
             [
              0.4444444444444444,
              "#bd3786"
             ],
             [
              0.5555555555555556,
              "#d8576b"
             ],
             [
              0.6666666666666666,
              "#ed7953"
             ],
             [
              0.7777777777777778,
              "#fb9f3a"
             ],
             [
              0.8888888888888888,
              "#fdca26"
             ],
             [
              1,
              "#f0f921"
             ]
            ],
            "type": "surface"
           }
          ],
          "table": [
           {
            "cells": {
             "fill": {
              "color": "#EBF0F8"
             },
             "line": {
              "color": "white"
             }
            },
            "header": {
             "fill": {
              "color": "#C8D4E3"
             },
             "line": {
              "color": "white"
             }
            },
            "type": "table"
           }
          ]
         },
         "layout": {
          "annotationdefaults": {
           "arrowcolor": "#2a3f5f",
           "arrowhead": 0,
           "arrowwidth": 1
          },
          "autotypenumbers": "strict",
          "coloraxis": {
           "colorbar": {
            "outlinewidth": 0,
            "ticks": ""
           }
          },
          "colorscale": {
           "diverging": [
            [
             0,
             "#8e0152"
            ],
            [
             0.1,
             "#c51b7d"
            ],
            [
             0.2,
             "#de77ae"
            ],
            [
             0.3,
             "#f1b6da"
            ],
            [
             0.4,
             "#fde0ef"
            ],
            [
             0.5,
             "#f7f7f7"
            ],
            [
             0.6,
             "#e6f5d0"
            ],
            [
             0.7,
             "#b8e186"
            ],
            [
             0.8,
             "#7fbc41"
            ],
            [
             0.9,
             "#4d9221"
            ],
            [
             1,
             "#276419"
            ]
           ],
           "sequential": [
            [
             0,
             "#0d0887"
            ],
            [
             0.1111111111111111,
             "#46039f"
            ],
            [
             0.2222222222222222,
             "#7201a8"
            ],
            [
             0.3333333333333333,
             "#9c179e"
            ],
            [
             0.4444444444444444,
             "#bd3786"
            ],
            [
             0.5555555555555556,
             "#d8576b"
            ],
            [
             0.6666666666666666,
             "#ed7953"
            ],
            [
             0.7777777777777778,
             "#fb9f3a"
            ],
            [
             0.8888888888888888,
             "#fdca26"
            ],
            [
             1,
             "#f0f921"
            ]
           ],
           "sequentialminus": [
            [
             0,
             "#0d0887"
            ],
            [
             0.1111111111111111,
             "#46039f"
            ],
            [
             0.2222222222222222,
             "#7201a8"
            ],
            [
             0.3333333333333333,
             "#9c179e"
            ],
            [
             0.4444444444444444,
             "#bd3786"
            ],
            [
             0.5555555555555556,
             "#d8576b"
            ],
            [
             0.6666666666666666,
             "#ed7953"
            ],
            [
             0.7777777777777778,
             "#fb9f3a"
            ],
            [
             0.8888888888888888,
             "#fdca26"
            ],
            [
             1,
             "#f0f921"
            ]
           ]
          },
          "colorway": [
           "#636efa",
           "#EF553B",
           "#00cc96",
           "#ab63fa",
           "#FFA15A",
           "#19d3f3",
           "#FF6692",
           "#B6E880",
           "#FF97FF",
           "#FECB52"
          ],
          "font": {
           "color": "#2a3f5f"
          },
          "geo": {
           "bgcolor": "white",
           "lakecolor": "white",
           "landcolor": "#E5ECF6",
           "showlakes": true,
           "showland": true,
           "subunitcolor": "white"
          },
          "hoverlabel": {
           "align": "left"
          },
          "hovermode": "closest",
          "mapbox": {
           "style": "light"
          },
          "paper_bgcolor": "white",
          "plot_bgcolor": "#E5ECF6",
          "polar": {
           "angularaxis": {
            "gridcolor": "white",
            "linecolor": "white",
            "ticks": ""
           },
           "bgcolor": "#E5ECF6",
           "radialaxis": {
            "gridcolor": "white",
            "linecolor": "white",
            "ticks": ""
           }
          },
          "scene": {
           "xaxis": {
            "backgroundcolor": "#E5ECF6",
            "gridcolor": "white",
            "gridwidth": 2,
            "linecolor": "white",
            "showbackground": true,
            "ticks": "",
            "zerolinecolor": "white"
           },
           "yaxis": {
            "backgroundcolor": "#E5ECF6",
            "gridcolor": "white",
            "gridwidth": 2,
            "linecolor": "white",
            "showbackground": true,
            "ticks": "",
            "zerolinecolor": "white"
           },
           "zaxis": {
            "backgroundcolor": "#E5ECF6",
            "gridcolor": "white",
            "gridwidth": 2,
            "linecolor": "white",
            "showbackground": true,
            "ticks": "",
            "zerolinecolor": "white"
           }
          },
          "shapedefaults": {
           "line": {
            "color": "#2a3f5f"
           }
          },
          "ternary": {
           "aaxis": {
            "gridcolor": "white",
            "linecolor": "white",
            "ticks": ""
           },
           "baxis": {
            "gridcolor": "white",
            "linecolor": "white",
            "ticks": ""
           },
           "bgcolor": "#E5ECF6",
           "caxis": {
            "gridcolor": "white",
            "linecolor": "white",
            "ticks": ""
           }
          },
          "title": {
           "x": 0.05
          },
          "xaxis": {
           "automargin": true,
           "gridcolor": "white",
           "linecolor": "white",
           "ticks": "",
           "title": {
            "standoff": 15
           },
           "zerolinecolor": "white",
           "zerolinewidth": 2
          },
          "yaxis": {
           "automargin": true,
           "gridcolor": "white",
           "linecolor": "white",
           "ticks": "",
           "title": {
            "standoff": 15
           },
           "zerolinecolor": "white",
           "zerolinewidth": 2
          }
         }
        },
        "title": {
         "text": "Age Distribution by Exercise-Induced Angina"
        },
        "xaxis": {
         "anchor": "y",
         "domain": [
          0,
          1
         ],
         "title": {
          "text": "Exercise-Induced Angina"
         }
        },
        "yaxis": {
         "anchor": "x",
         "domain": [
          0,
          1
         ],
         "title": {
          "text": "Age"
         }
        }
       }
      }
     },
     "metadata": {},
     "output_type": "display_data"
    }
   ],
   "source": [
    "# Create a box plot of age distribution by 'exang'\n",
    "fig12 = px.box(df, x='exang', y='age',\n",
    "             title='Age Distribution by Exercise-Induced Angina',\n",
    "             labels={'exang': 'Exercise-Induced Angina', 'age': 'Age'})\n",
    "# Save the figure\n",
    "folder_name = 'Plotly Plots'  # Folder to save the image\n",
    "figure_name = 'my_figure12.html'  # Change this to your desired figure name\n",
    "saved_path = save_figure(fig12, folder_name, figure_name)\n",
    "\n",
    "# Show the plot\n",
    "fig12.show()\n"
   ]
  },
  {
   "cell_type": "code",
   "execution_count": 258,
   "id": "a6f5803b",
   "metadata": {},
   "outputs": [
    {
     "name": "stdout",
     "output_type": "stream",
     "text": [
      "Average age of patients with exercise-induced angina: 55\n",
      "Average age of patients without exercise-induced angina: 50\n"
     ]
    }
   ],
   "source": [
    "# Assuming 'df' is your DataFrame and 'exang' has been converted to numeric\n",
    "average_age_exang = df[df['exang'] == \"True\"]['age'].mean().astype(int)\n",
    "print(f'Average age of patients with exercise-induced angina: {average_age_exang}')\n",
    "average_age_notexang = df[df['exang'] == \"False\"]['age'].mean().astype(int)\n",
    "print(f'Average age of patients without exercise-induced angina: {average_age_notexang}')"
   ]
  },
  {
   "cell_type": "code",
   "execution_count": 259,
   "id": "51740510",
   "metadata": {},
   "outputs": [
    {
     "name": "stdout",
     "output_type": "stream",
     "text": [
      "    id   age     sex    dataset               cp  trestbps   chol    fbs  \\\n",
      "0  1.0  63.0    Male  Cleveland   typical angina     145.0  233.0   True   \n",
      "1  2.0  67.0    Male  Cleveland     asymptomatic     160.0  286.0  False   \n",
      "2  3.0  67.0    Male  Cleveland     asymptomatic     120.0  229.0  False   \n",
      "3  4.0  37.0    Male  Cleveland      non-anginal     130.0  250.0  False   \n",
      "4  5.0  41.0  Female  Cleveland  atypical angina     130.0  204.0  False   \n",
      "\n",
      "          restecg  thalch  exang  oldpeak        slope   ca  \\\n",
      "0  lv hypertrophy   150.0  False      2.3  downsloping  0.0   \n",
      "1  lv hypertrophy   108.0   True      1.5         flat  3.0   \n",
      "2  lv hypertrophy   129.0   True      2.6         flat  2.0   \n",
      "3          normal   187.0  False      3.5  downsloping  0.0   \n",
      "4  lv hypertrophy   172.0  False      1.4    upsloping  0.0   \n",
      "\n",
      "                thal  num age_group  \n",
      "0       fixed defect  0.0     60-64  \n",
      "1             normal  2.0     65-69  \n",
      "2  reversable defect  1.0     65-69  \n",
      "3             normal  0.0     35-39  \n",
      "4             normal  0.0     40-44  \n"
     ]
    }
   ],
   "source": [
    "# Again look at the dataset\n",
    "print(df.head())"
   ]
  },
  {
   "cell_type": "code",
   "execution_count": 260,
   "id": "dff44c31",
   "metadata": {},
   "outputs": [
    {
     "name": "stdout",
     "output_type": "stream",
     "text": [
      "0    2.3\n",
      "1    1.5\n",
      "2    2.6\n",
      "3    3.5\n",
      "4    1.4\n",
      "Name: oldpeak, dtype: float64\n"
     ]
    }
   ],
   "source": [
    "# View the oldpeak column\n",
    "print(df[\"oldpeak\"].head())"
   ]
  },
  {
   "cell_type": "code",
   "execution_count": 261,
   "id": "308980c9",
   "metadata": {},
   "outputs": [
    {
     "data": {
      "application/vnd.plotly.v1+json": {
       "config": {
        "plotlyServerURL": "https://plot.ly"
       },
       "data": [
        {
         "alignmentgroup": "True",
         "hovertemplate": "Oldpeak (ST Depression)=%{y}<extra></extra>",
         "legendgroup": "",
         "marker": {
          "color": "#636efa"
         },
         "name": "",
         "notched": false,
         "offsetgroup": "",
         "orientation": "v",
         "showlegend": false,
         "type": "box",
         "x0": " ",
         "xaxis": "x",
         "y": {
          "bdata": "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",
          "dtype": "f8"
         },
         "y0": " ",
         "yaxis": "y"
        }
       ],
       "layout": {
        "boxmode": "group",
        "legend": {
         "tracegroupgap": 0
        },
        "template": {
         "data": {
          "bar": [
           {
            "error_x": {
             "color": "#2a3f5f"
            },
            "error_y": {
             "color": "#2a3f5f"
            },
            "marker": {
             "line": {
              "color": "#E5ECF6",
              "width": 0.5
             },
             "pattern": {
              "fillmode": "overlay",
              "size": 10,
              "solidity": 0.2
             }
            },
            "type": "bar"
           }
          ],
          "barpolar": [
           {
            "marker": {
             "line": {
              "color": "#E5ECF6",
              "width": 0.5
             },
             "pattern": {
              "fillmode": "overlay",
              "size": 10,
              "solidity": 0.2
             }
            },
            "type": "barpolar"
           }
          ],
          "carpet": [
           {
            "aaxis": {
             "endlinecolor": "#2a3f5f",
             "gridcolor": "white",
             "linecolor": "white",
             "minorgridcolor": "white",
             "startlinecolor": "#2a3f5f"
            },
            "baxis": {
             "endlinecolor": "#2a3f5f",
             "gridcolor": "white",
             "linecolor": "white",
             "minorgridcolor": "white",
             "startlinecolor": "#2a3f5f"
            },
            "type": "carpet"
           }
          ],
          "choropleth": [
           {
            "colorbar": {
             "outlinewidth": 0,
             "ticks": ""
            },
            "type": "choropleth"
           }
          ],
          "contour": [
           {
            "colorbar": {
             "outlinewidth": 0,
             "ticks": ""
            },
            "colorscale": [
             [
              0,
              "#0d0887"
             ],
             [
              0.1111111111111111,
              "#46039f"
             ],
             [
              0.2222222222222222,
              "#7201a8"
             ],
             [
              0.3333333333333333,
              "#9c179e"
             ],
             [
              0.4444444444444444,
              "#bd3786"
             ],
             [
              0.5555555555555556,
              "#d8576b"
             ],
             [
              0.6666666666666666,
              "#ed7953"
             ],
             [
              0.7777777777777778,
              "#fb9f3a"
             ],
             [
              0.8888888888888888,
              "#fdca26"
             ],
             [
              1,
              "#f0f921"
             ]
            ],
            "type": "contour"
           }
          ],
          "contourcarpet": [
           {
            "colorbar": {
             "outlinewidth": 0,
             "ticks": ""
            },
            "type": "contourcarpet"
           }
          ],
          "heatmap": [
           {
            "colorbar": {
             "outlinewidth": 0,
             "ticks": ""
            },
            "colorscale": [
             [
              0,
              "#0d0887"
             ],
             [
              0.1111111111111111,
              "#46039f"
             ],
             [
              0.2222222222222222,
              "#7201a8"
             ],
             [
              0.3333333333333333,
              "#9c179e"
             ],
             [
              0.4444444444444444,
              "#bd3786"
             ],
             [
              0.5555555555555556,
              "#d8576b"
             ],
             [
              0.6666666666666666,
              "#ed7953"
             ],
             [
              0.7777777777777778,
              "#fb9f3a"
             ],
             [
              0.8888888888888888,
              "#fdca26"
             ],
             [
              1,
              "#f0f921"
             ]
            ],
            "type": "heatmap"
           }
          ],
          "histogram": [
           {
            "marker": {
             "pattern": {
              "fillmode": "overlay",
              "size": 10,
              "solidity": 0.2
             }
            },
            "type": "histogram"
           }
          ],
          "histogram2d": [
           {
            "colorbar": {
             "outlinewidth": 0,
             "ticks": ""
            },
            "colorscale": [
             [
              0,
              "#0d0887"
             ],
             [
              0.1111111111111111,
              "#46039f"
             ],
             [
              0.2222222222222222,
              "#7201a8"
             ],
             [
              0.3333333333333333,
              "#9c179e"
             ],
             [
              0.4444444444444444,
              "#bd3786"
             ],
             [
              0.5555555555555556,
              "#d8576b"
             ],
             [
              0.6666666666666666,
              "#ed7953"
             ],
             [
              0.7777777777777778,
              "#fb9f3a"
             ],
             [
              0.8888888888888888,
              "#fdca26"
             ],
             [
              1,
              "#f0f921"
             ]
            ],
            "type": "histogram2d"
           }
          ],
          "histogram2dcontour": [
           {
            "colorbar": {
             "outlinewidth": 0,
             "ticks": ""
            },
            "colorscale": [
             [
              0,
              "#0d0887"
             ],
             [
              0.1111111111111111,
              "#46039f"
             ],
             [
              0.2222222222222222,
              "#7201a8"
             ],
             [
              0.3333333333333333,
              "#9c179e"
             ],
             [
              0.4444444444444444,
              "#bd3786"
             ],
             [
              0.5555555555555556,
              "#d8576b"
             ],
             [
              0.6666666666666666,
              "#ed7953"
             ],
             [
              0.7777777777777778,
              "#fb9f3a"
             ],
             [
              0.8888888888888888,
              "#fdca26"
             ],
             [
              1,
              "#f0f921"
             ]
            ],
            "type": "histogram2dcontour"
           }
          ],
          "mesh3d": [
           {
            "colorbar": {
             "outlinewidth": 0,
             "ticks": ""
            },
            "type": "mesh3d"
           }
          ],
          "parcoords": [
           {
            "line": {
             "colorbar": {
              "outlinewidth": 0,
              "ticks": ""
             }
            },
            "type": "parcoords"
           }
          ],
          "pie": [
           {
            "automargin": true,
            "type": "pie"
           }
          ],
          "scatter": [
           {
            "fillpattern": {
             "fillmode": "overlay",
             "size": 10,
             "solidity": 0.2
            },
            "type": "scatter"
           }
          ],
          "scatter3d": [
           {
            "line": {
             "colorbar": {
              "outlinewidth": 0,
              "ticks": ""
             }
            },
            "marker": {
             "colorbar": {
              "outlinewidth": 0,
              "ticks": ""
             }
            },
            "type": "scatter3d"
           }
          ],
          "scattercarpet": [
           {
            "marker": {
             "colorbar": {
              "outlinewidth": 0,
              "ticks": ""
             }
            },
            "type": "scattercarpet"
           }
          ],
          "scattergeo": [
           {
            "marker": {
             "colorbar": {
              "outlinewidth": 0,
              "ticks": ""
             }
            },
            "type": "scattergeo"
           }
          ],
          "scattergl": [
           {
            "marker": {
             "colorbar": {
              "outlinewidth": 0,
              "ticks": ""
             }
            },
            "type": "scattergl"
           }
          ],
          "scattermap": [
           {
            "marker": {
             "colorbar": {
              "outlinewidth": 0,
              "ticks": ""
             }
            },
            "type": "scattermap"
           }
          ],
          "scattermapbox": [
           {
            "marker": {
             "colorbar": {
              "outlinewidth": 0,
              "ticks": ""
             }
            },
            "type": "scattermapbox"
           }
          ],
          "scatterpolar": [
           {
            "marker": {
             "colorbar": {
              "outlinewidth": 0,
              "ticks": ""
             }
            },
            "type": "scatterpolar"
           }
          ],
          "scatterpolargl": [
           {
            "marker": {
             "colorbar": {
              "outlinewidth": 0,
              "ticks": ""
             }
            },
            "type": "scatterpolargl"
           }
          ],
          "scatterternary": [
           {
            "marker": {
             "colorbar": {
              "outlinewidth": 0,
              "ticks": ""
             }
            },
            "type": "scatterternary"
           }
          ],
          "surface": [
           {
            "colorbar": {
             "outlinewidth": 0,
             "ticks": ""
            },
            "colorscale": [
             [
              0,
              "#0d0887"
             ],
             [
              0.1111111111111111,
              "#46039f"
             ],
             [
              0.2222222222222222,
              "#7201a8"
             ],
             [
              0.3333333333333333,
              "#9c179e"
             ],
             [
              0.4444444444444444,
              "#bd3786"
             ],
             [
              0.5555555555555556,
              "#d8576b"
             ],
             [
              0.6666666666666666,
              "#ed7953"
             ],
             [
              0.7777777777777778,
              "#fb9f3a"
             ],
             [
              0.8888888888888888,
              "#fdca26"
             ],
             [
              1,
              "#f0f921"
             ]
            ],
            "type": "surface"
           }
          ],
          "table": [
           {
            "cells": {
             "fill": {
              "color": "#EBF0F8"
             },
             "line": {
              "color": "white"
             }
            },
            "header": {
             "fill": {
              "color": "#C8D4E3"
             },
             "line": {
              "color": "white"
             }
            },
            "type": "table"
           }
          ]
         },
         "layout": {
          "annotationdefaults": {
           "arrowcolor": "#2a3f5f",
           "arrowhead": 0,
           "arrowwidth": 1
          },
          "autotypenumbers": "strict",
          "coloraxis": {
           "colorbar": {
            "outlinewidth": 0,
            "ticks": ""
           }
          },
          "colorscale": {
           "diverging": [
            [
             0,
             "#8e0152"
            ],
            [
             0.1,
             "#c51b7d"
            ],
            [
             0.2,
             "#de77ae"
            ],
            [
             0.3,
             "#f1b6da"
            ],
            [
             0.4,
             "#fde0ef"
            ],
            [
             0.5,
             "#f7f7f7"
            ],
            [
             0.6,
             "#e6f5d0"
            ],
            [
             0.7,
             "#b8e186"
            ],
            [
             0.8,
             "#7fbc41"
            ],
            [
             0.9,
             "#4d9221"
            ],
            [
             1,
             "#276419"
            ]
           ],
           "sequential": [
            [
             0,
             "#0d0887"
            ],
            [
             0.1111111111111111,
             "#46039f"
            ],
            [
             0.2222222222222222,
             "#7201a8"
            ],
            [
             0.3333333333333333,
             "#9c179e"
            ],
            [
             0.4444444444444444,
             "#bd3786"
            ],
            [
             0.5555555555555556,
             "#d8576b"
            ],
            [
             0.6666666666666666,
             "#ed7953"
            ],
            [
             0.7777777777777778,
             "#fb9f3a"
            ],
            [
             0.8888888888888888,
             "#fdca26"
            ],
            [
             1,
             "#f0f921"
            ]
           ],
           "sequentialminus": [
            [
             0,
             "#0d0887"
            ],
            [
             0.1111111111111111,
             "#46039f"
            ],
            [
             0.2222222222222222,
             "#7201a8"
            ],
            [
             0.3333333333333333,
             "#9c179e"
            ],
            [
             0.4444444444444444,
             "#bd3786"
            ],
            [
             0.5555555555555556,
             "#d8576b"
            ],
            [
             0.6666666666666666,
             "#ed7953"
            ],
            [
             0.7777777777777778,
             "#fb9f3a"
            ],
            [
             0.8888888888888888,
             "#fdca26"
            ],
            [
             1,
             "#f0f921"
            ]
           ]
          },
          "colorway": [
           "#636efa",
           "#EF553B",
           "#00cc96",
           "#ab63fa",
           "#FFA15A",
           "#19d3f3",
           "#FF6692",
           "#B6E880",
           "#FF97FF",
           "#FECB52"
          ],
          "font": {
           "color": "#2a3f5f"
          },
          "geo": {
           "bgcolor": "white",
           "lakecolor": "white",
           "landcolor": "#E5ECF6",
           "showlakes": true,
           "showland": true,
           "subunitcolor": "white"
          },
          "hoverlabel": {
           "align": "left"
          },
          "hovermode": "closest",
          "mapbox": {
           "style": "light"
          },
          "paper_bgcolor": "white",
          "plot_bgcolor": "#E5ECF6",
          "polar": {
           "angularaxis": {
            "gridcolor": "white",
            "linecolor": "white",
            "ticks": ""
           },
           "bgcolor": "#E5ECF6",
           "radialaxis": {
            "gridcolor": "white",
            "linecolor": "white",
            "ticks": ""
           }
          },
          "scene": {
           "xaxis": {
            "backgroundcolor": "#E5ECF6",
            "gridcolor": "white",
            "gridwidth": 2,
            "linecolor": "white",
            "showbackground": true,
            "ticks": "",
            "zerolinecolor": "white"
           },
           "yaxis": {
            "backgroundcolor": "#E5ECF6",
            "gridcolor": "white",
            "gridwidth": 2,
            "linecolor": "white",
            "showbackground": true,
            "ticks": "",
            "zerolinecolor": "white"
           },
           "zaxis": {
            "backgroundcolor": "#E5ECF6",
            "gridcolor": "white",
            "gridwidth": 2,
            "linecolor": "white",
            "showbackground": true,
            "ticks": "",
            "zerolinecolor": "white"
           }
          },
          "shapedefaults": {
           "line": {
            "color": "#2a3f5f"
           }
          },
          "ternary": {
           "aaxis": {
            "gridcolor": "white",
            "linecolor": "white",
            "ticks": ""
           },
           "baxis": {
            "gridcolor": "white",
            "linecolor": "white",
            "ticks": ""
           },
           "bgcolor": "#E5ECF6",
           "caxis": {
            "gridcolor": "white",
            "linecolor": "white",
            "ticks": ""
           }
          },
          "title": {
           "x": 0.05
          },
          "xaxis": {
           "automargin": true,
           "gridcolor": "white",
           "linecolor": "white",
           "ticks": "",
           "title": {
            "standoff": 15
           },
           "zerolinecolor": "white",
           "zerolinewidth": 2
          },
          "yaxis": {
           "automargin": true,
           "gridcolor": "white",
           "linecolor": "white",
           "ticks": "",
           "title": {
            "standoff": 15
           },
           "zerolinecolor": "white",
           "zerolinewidth": 2
          }
         }
        },
        "title": {
         "text": "Box Plot of ST Depression (Oldpeak) Induced by Exercise"
        },
        "xaxis": {
         "anchor": "y",
         "domain": [
          0,
          1
         ]
        },
        "yaxis": {
         "anchor": "x",
         "domain": [
          0,
          1
         ],
         "title": {
          "text": "Oldpeak (ST Depression)"
         }
        }
       }
      }
     },
     "metadata": {},
     "output_type": "display_data"
    }
   ],
   "source": [
    "# Assuming 'df' is your DataFrame and contains the 'oldpeak' column\n",
    "fig13 = px.box(df, y='oldpeak',\n",
    "             title='Box Plot of ST Depression (Oldpeak) Induced by Exercise',\n",
    "             labels={'oldpeak': 'Oldpeak (ST Depression)'})\n",
    "# Save the figure\n",
    "folder_name = 'Plotly Plots'  # Folder to save the image\n",
    "figure_name = 'my_figure13.html'  # Change this to your desired figure name\n",
    "saved_path = save_figure(fig13, folder_name, figure_name)\n",
    "\n",
    "# Show the plot\n",
    "fig13.show()"
   ]
  },
  {
   "cell_type": "code",
   "execution_count": 262,
   "id": "3ae7ea3a",
   "metadata": {},
   "outputs": [],
   "source": [
    "# Now i will use IQR method to clean the outlier.\n",
    "Q1 = df['oldpeak'].quantile(0.25)\n",
    "Q3 = df['oldpeak'].quantile(0.75)\n",
    "IQR = Q3 - Q1\n",
    "lower_bound = Q1 - 1.5 * IQR\n",
    "upper_bound = Q3 + 1.5 * IQR\n",
    "df = df[(df['oldpeak'] >= lower_bound) & (df['oldpeak'] <= upper_bound)]"
   ]
  },
  {
   "cell_type": "code",
   "execution_count": 263,
   "id": "0bca104d",
   "metadata": {},
   "outputs": [
    {
     "data": {
      "application/vnd.plotly.v1+json": {
       "config": {
        "plotlyServerURL": "https://plot.ly"
       },
       "data": [
        {
         "alignmentgroup": "True",
         "hovertemplate": "Oldpeak (ST Depression)=%{y}<extra></extra>",
         "legendgroup": "",
         "marker": {
          "color": "#636efa"
         },
         "name": "",
         "notched": false,
         "offsetgroup": "",
         "orientation": "v",
         "showlegend": false,
         "type": "box",
         "x0": " ",
         "xaxis": "x",
         "y": {
          "bdata": "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",
          "dtype": "f8"
         },
         "y0": " ",
         "yaxis": "y"
        }
       ],
       "layout": {
        "boxmode": "group",
        "legend": {
         "tracegroupgap": 0
        },
        "template": {
         "data": {
          "bar": [
           {
            "error_x": {
             "color": "#2a3f5f"
            },
            "error_y": {
             "color": "#2a3f5f"
            },
            "marker": {
             "line": {
              "color": "#E5ECF6",
              "width": 0.5
             },
             "pattern": {
              "fillmode": "overlay",
              "size": 10,
              "solidity": 0.2
             }
            },
            "type": "bar"
           }
          ],
          "barpolar": [
           {
            "marker": {
             "line": {
              "color": "#E5ECF6",
              "width": 0.5
             },
             "pattern": {
              "fillmode": "overlay",
              "size": 10,
              "solidity": 0.2
             }
            },
            "type": "barpolar"
           }
          ],
          "carpet": [
           {
            "aaxis": {
             "endlinecolor": "#2a3f5f",
             "gridcolor": "white",
             "linecolor": "white",
             "minorgridcolor": "white",
             "startlinecolor": "#2a3f5f"
            },
            "baxis": {
             "endlinecolor": "#2a3f5f",
             "gridcolor": "white",
             "linecolor": "white",
             "minorgridcolor": "white",
             "startlinecolor": "#2a3f5f"
            },
            "type": "carpet"
           }
          ],
          "choropleth": [
           {
            "colorbar": {
             "outlinewidth": 0,
             "ticks": ""
            },
            "type": "choropleth"
           }
          ],
          "contour": [
           {
            "colorbar": {
             "outlinewidth": 0,
             "ticks": ""
            },
            "colorscale": [
             [
              0,
              "#0d0887"
             ],
             [
              0.1111111111111111,
              "#46039f"
             ],
             [
              0.2222222222222222,
              "#7201a8"
             ],
             [
              0.3333333333333333,
              "#9c179e"
             ],
             [
              0.4444444444444444,
              "#bd3786"
             ],
             [
              0.5555555555555556,
              "#d8576b"
             ],
             [
              0.6666666666666666,
              "#ed7953"
             ],
             [
              0.7777777777777778,
              "#fb9f3a"
             ],
             [
              0.8888888888888888,
              "#fdca26"
             ],
             [
              1,
              "#f0f921"
             ]
            ],
            "type": "contour"
           }
          ],
          "contourcarpet": [
           {
            "colorbar": {
             "outlinewidth": 0,
             "ticks": ""
            },
            "type": "contourcarpet"
           }
          ],
          "heatmap": [
           {
            "colorbar": {
             "outlinewidth": 0,
             "ticks": ""
            },
            "colorscale": [
             [
              0,
              "#0d0887"
             ],
             [
              0.1111111111111111,
              "#46039f"
             ],
             [
              0.2222222222222222,
              "#7201a8"
             ],
             [
              0.3333333333333333,
              "#9c179e"
             ],
             [
              0.4444444444444444,
              "#bd3786"
             ],
             [
              0.5555555555555556,
              "#d8576b"
             ],
             [
              0.6666666666666666,
              "#ed7953"
             ],
             [
              0.7777777777777778,
              "#fb9f3a"
             ],
             [
              0.8888888888888888,
              "#fdca26"
             ],
             [
              1,
              "#f0f921"
             ]
            ],
            "type": "heatmap"
           }
          ],
          "histogram": [
           {
            "marker": {
             "pattern": {
              "fillmode": "overlay",
              "size": 10,
              "solidity": 0.2
             }
            },
            "type": "histogram"
           }
          ],
          "histogram2d": [
           {
            "colorbar": {
             "outlinewidth": 0,
             "ticks": ""
            },
            "colorscale": [
             [
              0,
              "#0d0887"
             ],
             [
              0.1111111111111111,
              "#46039f"
             ],
             [
              0.2222222222222222,
              "#7201a8"
             ],
             [
              0.3333333333333333,
              "#9c179e"
             ],
             [
              0.4444444444444444,
              "#bd3786"
             ],
             [
              0.5555555555555556,
              "#d8576b"
             ],
             [
              0.6666666666666666,
              "#ed7953"
             ],
             [
              0.7777777777777778,
              "#fb9f3a"
             ],
             [
              0.8888888888888888,
              "#fdca26"
             ],
             [
              1,
              "#f0f921"
             ]
            ],
            "type": "histogram2d"
           }
          ],
          "histogram2dcontour": [
           {
            "colorbar": {
             "outlinewidth": 0,
             "ticks": ""
            },
            "colorscale": [
             [
              0,
              "#0d0887"
             ],
             [
              0.1111111111111111,
              "#46039f"
             ],
             [
              0.2222222222222222,
              "#7201a8"
             ],
             [
              0.3333333333333333,
              "#9c179e"
             ],
             [
              0.4444444444444444,
              "#bd3786"
             ],
             [
              0.5555555555555556,
              "#d8576b"
             ],
             [
              0.6666666666666666,
              "#ed7953"
             ],
             [
              0.7777777777777778,
              "#fb9f3a"
             ],
             [
              0.8888888888888888,
              "#fdca26"
             ],
             [
              1,
              "#f0f921"
             ]
            ],
            "type": "histogram2dcontour"
           }
          ],
          "mesh3d": [
           {
            "colorbar": {
             "outlinewidth": 0,
             "ticks": ""
            },
            "type": "mesh3d"
           }
          ],
          "parcoords": [
           {
            "line": {
             "colorbar": {
              "outlinewidth": 0,
              "ticks": ""
             }
            },
            "type": "parcoords"
           }
          ],
          "pie": [
           {
            "automargin": true,
            "type": "pie"
           }
          ],
          "scatter": [
           {
            "fillpattern": {
             "fillmode": "overlay",
             "size": 10,
             "solidity": 0.2
            },
            "type": "scatter"
           }
          ],
          "scatter3d": [
           {
            "line": {
             "colorbar": {
              "outlinewidth": 0,
              "ticks": ""
             }
            },
            "marker": {
             "colorbar": {
              "outlinewidth": 0,
              "ticks": ""
             }
            },
            "type": "scatter3d"
           }
          ],
          "scattercarpet": [
           {
            "marker": {
             "colorbar": {
              "outlinewidth": 0,
              "ticks": ""
             }
            },
            "type": "scattercarpet"
           }
          ],
          "scattergeo": [
           {
            "marker": {
             "colorbar": {
              "outlinewidth": 0,
              "ticks": ""
             }
            },
            "type": "scattergeo"
           }
          ],
          "scattergl": [
           {
            "marker": {
             "colorbar": {
              "outlinewidth": 0,
              "ticks": ""
             }
            },
            "type": "scattergl"
           }
          ],
          "scattermap": [
           {
            "marker": {
             "colorbar": {
              "outlinewidth": 0,
              "ticks": ""
             }
            },
            "type": "scattermap"
           }
          ],
          "scattermapbox": [
           {
            "marker": {
             "colorbar": {
              "outlinewidth": 0,
              "ticks": ""
             }
            },
            "type": "scattermapbox"
           }
          ],
          "scatterpolar": [
           {
            "marker": {
             "colorbar": {
              "outlinewidth": 0,
              "ticks": ""
             }
            },
            "type": "scatterpolar"
           }
          ],
          "scatterpolargl": [
           {
            "marker": {
             "colorbar": {
              "outlinewidth": 0,
              "ticks": ""
             }
            },
            "type": "scatterpolargl"
           }
          ],
          "scatterternary": [
           {
            "marker": {
             "colorbar": {
              "outlinewidth": 0,
              "ticks": ""
             }
            },
            "type": "scatterternary"
           }
          ],
          "surface": [
           {
            "colorbar": {
             "outlinewidth": 0,
             "ticks": ""
            },
            "colorscale": [
             [
              0,
              "#0d0887"
             ],
             [
              0.1111111111111111,
              "#46039f"
             ],
             [
              0.2222222222222222,
              "#7201a8"
             ],
             [
              0.3333333333333333,
              "#9c179e"
             ],
             [
              0.4444444444444444,
              "#bd3786"
             ],
             [
              0.5555555555555556,
              "#d8576b"
             ],
             [
              0.6666666666666666,
              "#ed7953"
             ],
             [
              0.7777777777777778,
              "#fb9f3a"
             ],
             [
              0.8888888888888888,
              "#fdca26"
             ],
             [
              1,
              "#f0f921"
             ]
            ],
            "type": "surface"
           }
          ],
          "table": [
           {
            "cells": {
             "fill": {
              "color": "#EBF0F8"
             },
             "line": {
              "color": "white"
             }
            },
            "header": {
             "fill": {
              "color": "#C8D4E3"
             },
             "line": {
              "color": "white"
             }
            },
            "type": "table"
           }
          ]
         },
         "layout": {
          "annotationdefaults": {
           "arrowcolor": "#2a3f5f",
           "arrowhead": 0,
           "arrowwidth": 1
          },
          "autotypenumbers": "strict",
          "coloraxis": {
           "colorbar": {
            "outlinewidth": 0,
            "ticks": ""
           }
          },
          "colorscale": {
           "diverging": [
            [
             0,
             "#8e0152"
            ],
            [
             0.1,
             "#c51b7d"
            ],
            [
             0.2,
             "#de77ae"
            ],
            [
             0.3,
             "#f1b6da"
            ],
            [
             0.4,
             "#fde0ef"
            ],
            [
             0.5,
             "#f7f7f7"
            ],
            [
             0.6,
             "#e6f5d0"
            ],
            [
             0.7,
             "#b8e186"
            ],
            [
             0.8,
             "#7fbc41"
            ],
            [
             0.9,
             "#4d9221"
            ],
            [
             1,
             "#276419"
            ]
           ],
           "sequential": [
            [
             0,
             "#0d0887"
            ],
            [
             0.1111111111111111,
             "#46039f"
            ],
            [
             0.2222222222222222,
             "#7201a8"
            ],
            [
             0.3333333333333333,
             "#9c179e"
            ],
            [
             0.4444444444444444,
             "#bd3786"
            ],
            [
             0.5555555555555556,
             "#d8576b"
            ],
            [
             0.6666666666666666,
             "#ed7953"
            ],
            [
             0.7777777777777778,
             "#fb9f3a"
            ],
            [
             0.8888888888888888,
             "#fdca26"
            ],
            [
             1,
             "#f0f921"
            ]
           ],
           "sequentialminus": [
            [
             0,
             "#0d0887"
            ],
            [
             0.1111111111111111,
             "#46039f"
            ],
            [
             0.2222222222222222,
             "#7201a8"
            ],
            [
             0.3333333333333333,
             "#9c179e"
            ],
            [
             0.4444444444444444,
             "#bd3786"
            ],
            [
             0.5555555555555556,
             "#d8576b"
            ],
            [
             0.6666666666666666,
             "#ed7953"
            ],
            [
             0.7777777777777778,
             "#fb9f3a"
            ],
            [
             0.8888888888888888,
             "#fdca26"
            ],
            [
             1,
             "#f0f921"
            ]
           ]
          },
          "colorway": [
           "#636efa",
           "#EF553B",
           "#00cc96",
           "#ab63fa",
           "#FFA15A",
           "#19d3f3",
           "#FF6692",
           "#B6E880",
           "#FF97FF",
           "#FECB52"
          ],
          "font": {
           "color": "#2a3f5f"
          },
          "geo": {
           "bgcolor": "white",
           "lakecolor": "white",
           "landcolor": "#E5ECF6",
           "showlakes": true,
           "showland": true,
           "subunitcolor": "white"
          },
          "hoverlabel": {
           "align": "left"
          },
          "hovermode": "closest",
          "mapbox": {
           "style": "light"
          },
          "paper_bgcolor": "white",
          "plot_bgcolor": "#E5ECF6",
          "polar": {
           "angularaxis": {
            "gridcolor": "white",
            "linecolor": "white",
            "ticks": ""
           },
           "bgcolor": "#E5ECF6",
           "radialaxis": {
            "gridcolor": "white",
            "linecolor": "white",
            "ticks": ""
           }
          },
          "scene": {
           "xaxis": {
            "backgroundcolor": "#E5ECF6",
            "gridcolor": "white",
            "gridwidth": 2,
            "linecolor": "white",
            "showbackground": true,
            "ticks": "",
            "zerolinecolor": "white"
           },
           "yaxis": {
            "backgroundcolor": "#E5ECF6",
            "gridcolor": "white",
            "gridwidth": 2,
            "linecolor": "white",
            "showbackground": true,
            "ticks": "",
            "zerolinecolor": "white"
           },
           "zaxis": {
            "backgroundcolor": "#E5ECF6",
            "gridcolor": "white",
            "gridwidth": 2,
            "linecolor": "white",
            "showbackground": true,
            "ticks": "",
            "zerolinecolor": "white"
           }
          },
          "shapedefaults": {
           "line": {
            "color": "#2a3f5f"
           }
          },
          "ternary": {
           "aaxis": {
            "gridcolor": "white",
            "linecolor": "white",
            "ticks": ""
           },
           "baxis": {
            "gridcolor": "white",
            "linecolor": "white",
            "ticks": ""
           },
           "bgcolor": "#E5ECF6",
           "caxis": {
            "gridcolor": "white",
            "linecolor": "white",
            "ticks": ""
           }
          },
          "title": {
           "x": 0.05
          },
          "xaxis": {
           "automargin": true,
           "gridcolor": "white",
           "linecolor": "white",
           "ticks": "",
           "title": {
            "standoff": 15
           },
           "zerolinecolor": "white",
           "zerolinewidth": 2
          },
          "yaxis": {
           "automargin": true,
           "gridcolor": "white",
           "linecolor": "white",
           "ticks": "",
           "title": {
            "standoff": 15
           },
           "zerolinecolor": "white",
           "zerolinewidth": 2
          }
         }
        },
        "title": {
         "text": "Box Plot of ST Depression (Oldpeak) Induced by Exercise"
        },
        "xaxis": {
         "anchor": "y",
         "domain": [
          0,
          1
         ]
        },
        "yaxis": {
         "anchor": "x",
         "domain": [
          0,
          1
         ],
         "title": {
          "text": "Oldpeak (ST Depression)"
         }
        }
       }
      }
     },
     "metadata": {},
     "output_type": "display_data"
    }
   ],
   "source": [
    "# Again view the box plot after removing outliers.\n",
    "fig14 = px.box(df, y='oldpeak',\n",
    "             title='Box Plot of ST Depression (Oldpeak) Induced by Exercise',\n",
    "             labels={'oldpeak': 'Oldpeak (ST Depression)'})\n",
    "# Save the figure\n",
    "folder_name = 'Plotly Plots'  # Folder to save the image\n",
    "figure_name = 'my_figure14.html'  # Change this to your desired figure name\n",
    "saved_path = save_figure(fig14, folder_name, figure_name)\n",
    "\n",
    "# Show the plot\n",
    "fig14.show()"
   ]
  },
  {
   "cell_type": "code",
   "execution_count": 264,
   "id": "c9f0f7be",
   "metadata": {},
   "outputs": [
    {
     "name": "stdout",
     "output_type": "stream",
     "text": [
      "0    downsloping\n",
      "1           flat\n",
      "2           flat\n",
      "3    downsloping\n",
      "4      upsloping\n",
      "Name: slope, dtype: object\n"
     ]
    }
   ],
   "source": [
    "# Let's view the slope column.\n",
    "print(df[\"slope\"].head())"
   ]
  },
  {
   "cell_type": "code",
   "execution_count": 265,
   "id": "463032f8",
   "metadata": {},
   "outputs": [
    {
     "name": "stdout",
     "output_type": "stream",
     "text": [
      "slope\n",
      "flat           430\n",
      "upsloping      248\n",
      "downsloping     41\n",
      "Name: count, dtype: int64\n"
     ]
    }
   ],
   "source": [
    "# Getting the valuecount of each entry in slope column\n",
    "print(df[\"slope\"].value_counts())"
   ]
  },
  {
   "cell_type": "code",
   "execution_count": 266,
   "id": "6a6522db",
   "metadata": {},
   "outputs": [
    {
     "data": {
      "application/vnd.plotly.v1+json": {
       "config": {
        "plotlyServerURL": "https://plot.ly"
       },
       "data": [
        {
         "alignmentgroup": "True",
         "hovertemplate": "Gender=Female<br>Slope=%{x}<br>Count=%{y}<extra></extra>",
         "legendgroup": "Female",
         "marker": {
          "color": "#636efa",
          "pattern": {
           "shape": ""
          }
         },
         "name": "Female",
         "offsetgroup": "Female",
         "orientation": "v",
         "showlegend": true,
         "textposition": "auto",
         "type": "bar",
         "x": [
          "downsloping",
          "flat",
          "upsloping"
         ],
         "xaxis": "x",
         "y": {
          "bdata": "BFdS",
          "dtype": "i1"
         },
         "yaxis": "y"
        },
        {
         "alignmentgroup": "True",
         "hovertemplate": "Gender=Male<br>Slope=%{x}<br>Count=%{y}<extra></extra>",
         "legendgroup": "Male",
         "marker": {
          "color": "#EF553B",
          "pattern": {
           "shape": ""
          }
         },
         "name": "Male",
         "offsetgroup": "Male",
         "orientation": "v",
         "showlegend": true,
         "textposition": "auto",
         "type": "bar",
         "x": [
          "downsloping",
          "flat",
          "upsloping"
         ],
         "xaxis": "x",
         "y": {
          "bdata": "JQBXAaYA",
          "dtype": "i2"
         },
         "yaxis": "y"
        }
       ],
       "layout": {
        "barmode": "group",
        "legend": {
         "title": {
          "text": "Gender"
         },
         "tracegroupgap": 0
        },
        "template": {
         "data": {
          "bar": [
           {
            "error_x": {
             "color": "#2a3f5f"
            },
            "error_y": {
             "color": "#2a3f5f"
            },
            "marker": {
             "line": {
              "color": "#E5ECF6",
              "width": 0.5
             },
             "pattern": {
              "fillmode": "overlay",
              "size": 10,
              "solidity": 0.2
             }
            },
            "type": "bar"
           }
          ],
          "barpolar": [
           {
            "marker": {
             "line": {
              "color": "#E5ECF6",
              "width": 0.5
             },
             "pattern": {
              "fillmode": "overlay",
              "size": 10,
              "solidity": 0.2
             }
            },
            "type": "barpolar"
           }
          ],
          "carpet": [
           {
            "aaxis": {
             "endlinecolor": "#2a3f5f",
             "gridcolor": "white",
             "linecolor": "white",
             "minorgridcolor": "white",
             "startlinecolor": "#2a3f5f"
            },
            "baxis": {
             "endlinecolor": "#2a3f5f",
             "gridcolor": "white",
             "linecolor": "white",
             "minorgridcolor": "white",
             "startlinecolor": "#2a3f5f"
            },
            "type": "carpet"
           }
          ],
          "choropleth": [
           {
            "colorbar": {
             "outlinewidth": 0,
             "ticks": ""
            },
            "type": "choropleth"
           }
          ],
          "contour": [
           {
            "colorbar": {
             "outlinewidth": 0,
             "ticks": ""
            },
            "colorscale": [
             [
              0,
              "#0d0887"
             ],
             [
              0.1111111111111111,
              "#46039f"
             ],
             [
              0.2222222222222222,
              "#7201a8"
             ],
             [
              0.3333333333333333,
              "#9c179e"
             ],
             [
              0.4444444444444444,
              "#bd3786"
             ],
             [
              0.5555555555555556,
              "#d8576b"
             ],
             [
              0.6666666666666666,
              "#ed7953"
             ],
             [
              0.7777777777777778,
              "#fb9f3a"
             ],
             [
              0.8888888888888888,
              "#fdca26"
             ],
             [
              1,
              "#f0f921"
             ]
            ],
            "type": "contour"
           }
          ],
          "contourcarpet": [
           {
            "colorbar": {
             "outlinewidth": 0,
             "ticks": ""
            },
            "type": "contourcarpet"
           }
          ],
          "heatmap": [
           {
            "colorbar": {
             "outlinewidth": 0,
             "ticks": ""
            },
            "colorscale": [
             [
              0,
              "#0d0887"
             ],
             [
              0.1111111111111111,
              "#46039f"
             ],
             [
              0.2222222222222222,
              "#7201a8"
             ],
             [
              0.3333333333333333,
              "#9c179e"
             ],
             [
              0.4444444444444444,
              "#bd3786"
             ],
             [
              0.5555555555555556,
              "#d8576b"
             ],
             [
              0.6666666666666666,
              "#ed7953"
             ],
             [
              0.7777777777777778,
              "#fb9f3a"
             ],
             [
              0.8888888888888888,
              "#fdca26"
             ],
             [
              1,
              "#f0f921"
             ]
            ],
            "type": "heatmap"
           }
          ],
          "histogram": [
           {
            "marker": {
             "pattern": {
              "fillmode": "overlay",
              "size": 10,
              "solidity": 0.2
             }
            },
            "type": "histogram"
           }
          ],
          "histogram2d": [
           {
            "colorbar": {
             "outlinewidth": 0,
             "ticks": ""
            },
            "colorscale": [
             [
              0,
              "#0d0887"
             ],
             [
              0.1111111111111111,
              "#46039f"
             ],
             [
              0.2222222222222222,
              "#7201a8"
             ],
             [
              0.3333333333333333,
              "#9c179e"
             ],
             [
              0.4444444444444444,
              "#bd3786"
             ],
             [
              0.5555555555555556,
              "#d8576b"
             ],
             [
              0.6666666666666666,
              "#ed7953"
             ],
             [
              0.7777777777777778,
              "#fb9f3a"
             ],
             [
              0.8888888888888888,
              "#fdca26"
             ],
             [
              1,
              "#f0f921"
             ]
            ],
            "type": "histogram2d"
           }
          ],
          "histogram2dcontour": [
           {
            "colorbar": {
             "outlinewidth": 0,
             "ticks": ""
            },
            "colorscale": [
             [
              0,
              "#0d0887"
             ],
             [
              0.1111111111111111,
              "#46039f"
             ],
             [
              0.2222222222222222,
              "#7201a8"
             ],
             [
              0.3333333333333333,
              "#9c179e"
             ],
             [
              0.4444444444444444,
              "#bd3786"
             ],
             [
              0.5555555555555556,
              "#d8576b"
             ],
             [
              0.6666666666666666,
              "#ed7953"
             ],
             [
              0.7777777777777778,
              "#fb9f3a"
             ],
             [
              0.8888888888888888,
              "#fdca26"
             ],
             [
              1,
              "#f0f921"
             ]
            ],
            "type": "histogram2dcontour"
           }
          ],
          "mesh3d": [
           {
            "colorbar": {
             "outlinewidth": 0,
             "ticks": ""
            },
            "type": "mesh3d"
           }
          ],
          "parcoords": [
           {
            "line": {
             "colorbar": {
              "outlinewidth": 0,
              "ticks": ""
             }
            },
            "type": "parcoords"
           }
          ],
          "pie": [
           {
            "automargin": true,
            "type": "pie"
           }
          ],
          "scatter": [
           {
            "fillpattern": {
             "fillmode": "overlay",
             "size": 10,
             "solidity": 0.2
            },
            "type": "scatter"
           }
          ],
          "scatter3d": [
           {
            "line": {
             "colorbar": {
              "outlinewidth": 0,
              "ticks": ""
             }
            },
            "marker": {
             "colorbar": {
              "outlinewidth": 0,
              "ticks": ""
             }
            },
            "type": "scatter3d"
           }
          ],
          "scattercarpet": [
           {
            "marker": {
             "colorbar": {
              "outlinewidth": 0,
              "ticks": ""
             }
            },
            "type": "scattercarpet"
           }
          ],
          "scattergeo": [
           {
            "marker": {
             "colorbar": {
              "outlinewidth": 0,
              "ticks": ""
             }
            },
            "type": "scattergeo"
           }
          ],
          "scattergl": [
           {
            "marker": {
             "colorbar": {
              "outlinewidth": 0,
              "ticks": ""
             }
            },
            "type": "scattergl"
           }
          ],
          "scattermap": [
           {
            "marker": {
             "colorbar": {
              "outlinewidth": 0,
              "ticks": ""
             }
            },
            "type": "scattermap"
           }
          ],
          "scattermapbox": [
           {
            "marker": {
             "colorbar": {
              "outlinewidth": 0,
              "ticks": ""
             }
            },
            "type": "scattermapbox"
           }
          ],
          "scatterpolar": [
           {
            "marker": {
             "colorbar": {
              "outlinewidth": 0,
              "ticks": ""
             }
            },
            "type": "scatterpolar"
           }
          ],
          "scatterpolargl": [
           {
            "marker": {
             "colorbar": {
              "outlinewidth": 0,
              "ticks": ""
             }
            },
            "type": "scatterpolargl"
           }
          ],
          "scatterternary": [
           {
            "marker": {
             "colorbar": {
              "outlinewidth": 0,
              "ticks": ""
             }
            },
            "type": "scatterternary"
           }
          ],
          "surface": [
           {
            "colorbar": {
             "outlinewidth": 0,
             "ticks": ""
            },
            "colorscale": [
             [
              0,
              "#0d0887"
             ],
             [
              0.1111111111111111,
              "#46039f"
             ],
             [
              0.2222222222222222,
              "#7201a8"
             ],
             [
              0.3333333333333333,
              "#9c179e"
             ],
             [
              0.4444444444444444,
              "#bd3786"
             ],
             [
              0.5555555555555556,
              "#d8576b"
             ],
             [
              0.6666666666666666,
              "#ed7953"
             ],
             [
              0.7777777777777778,
              "#fb9f3a"
             ],
             [
              0.8888888888888888,
              "#fdca26"
             ],
             [
              1,
              "#f0f921"
             ]
            ],
            "type": "surface"
           }
          ],
          "table": [
           {
            "cells": {
             "fill": {
              "color": "#EBF0F8"
             },
             "line": {
              "color": "white"
             }
            },
            "header": {
             "fill": {
              "color": "#C8D4E3"
             },
             "line": {
              "color": "white"
             }
            },
            "type": "table"
           }
          ]
         },
         "layout": {
          "annotationdefaults": {
           "arrowcolor": "#2a3f5f",
           "arrowhead": 0,
           "arrowwidth": 1
          },
          "autotypenumbers": "strict",
          "coloraxis": {
           "colorbar": {
            "outlinewidth": 0,
            "ticks": ""
           }
          },
          "colorscale": {
           "diverging": [
            [
             0,
             "#8e0152"
            ],
            [
             0.1,
             "#c51b7d"
            ],
            [
             0.2,
             "#de77ae"
            ],
            [
             0.3,
             "#f1b6da"
            ],
            [
             0.4,
             "#fde0ef"
            ],
            [
             0.5,
             "#f7f7f7"
            ],
            [
             0.6,
             "#e6f5d0"
            ],
            [
             0.7,
             "#b8e186"
            ],
            [
             0.8,
             "#7fbc41"
            ],
            [
             0.9,
             "#4d9221"
            ],
            [
             1,
             "#276419"
            ]
           ],
           "sequential": [
            [
             0,
             "#0d0887"
            ],
            [
             0.1111111111111111,
             "#46039f"
            ],
            [
             0.2222222222222222,
             "#7201a8"
            ],
            [
             0.3333333333333333,
             "#9c179e"
            ],
            [
             0.4444444444444444,
             "#bd3786"
            ],
            [
             0.5555555555555556,
             "#d8576b"
            ],
            [
             0.6666666666666666,
             "#ed7953"
            ],
            [
             0.7777777777777778,
             "#fb9f3a"
            ],
            [
             0.8888888888888888,
             "#fdca26"
            ],
            [
             1,
             "#f0f921"
            ]
           ],
           "sequentialminus": [
            [
             0,
             "#0d0887"
            ],
            [
             0.1111111111111111,
             "#46039f"
            ],
            [
             0.2222222222222222,
             "#7201a8"
            ],
            [
             0.3333333333333333,
             "#9c179e"
            ],
            [
             0.4444444444444444,
             "#bd3786"
            ],
            [
             0.5555555555555556,
             "#d8576b"
            ],
            [
             0.6666666666666666,
             "#ed7953"
            ],
            [
             0.7777777777777778,
             "#fb9f3a"
            ],
            [
             0.8888888888888888,
             "#fdca26"
            ],
            [
             1,
             "#f0f921"
            ]
           ]
          },
          "colorway": [
           "#636efa",
           "#EF553B",
           "#00cc96",
           "#ab63fa",
           "#FFA15A",
           "#19d3f3",
           "#FF6692",
           "#B6E880",
           "#FF97FF",
           "#FECB52"
          ],
          "font": {
           "color": "#2a3f5f"
          },
          "geo": {
           "bgcolor": "white",
           "lakecolor": "white",
           "landcolor": "#E5ECF6",
           "showlakes": true,
           "showland": true,
           "subunitcolor": "white"
          },
          "hoverlabel": {
           "align": "left"
          },
          "hovermode": "closest",
          "mapbox": {
           "style": "light"
          },
          "paper_bgcolor": "white",
          "plot_bgcolor": "#E5ECF6",
          "polar": {
           "angularaxis": {
            "gridcolor": "white",
            "linecolor": "white",
            "ticks": ""
           },
           "bgcolor": "#E5ECF6",
           "radialaxis": {
            "gridcolor": "white",
            "linecolor": "white",
            "ticks": ""
           }
          },
          "scene": {
           "xaxis": {
            "backgroundcolor": "#E5ECF6",
            "gridcolor": "white",
            "gridwidth": 2,
            "linecolor": "white",
            "showbackground": true,
            "ticks": "",
            "zerolinecolor": "white"
           },
           "yaxis": {
            "backgroundcolor": "#E5ECF6",
            "gridcolor": "white",
            "gridwidth": 2,
            "linecolor": "white",
            "showbackground": true,
            "ticks": "",
            "zerolinecolor": "white"
           },
           "zaxis": {
            "backgroundcolor": "#E5ECF6",
            "gridcolor": "white",
            "gridwidth": 2,
            "linecolor": "white",
            "showbackground": true,
            "ticks": "",
            "zerolinecolor": "white"
           }
          },
          "shapedefaults": {
           "line": {
            "color": "#2a3f5f"
           }
          },
          "ternary": {
           "aaxis": {
            "gridcolor": "white",
            "linecolor": "white",
            "ticks": ""
           },
           "baxis": {
            "gridcolor": "white",
            "linecolor": "white",
            "ticks": ""
           },
           "bgcolor": "#E5ECF6",
           "caxis": {
            "gridcolor": "white",
            "linecolor": "white",
            "ticks": ""
           }
          },
          "title": {
           "x": 0.05
          },
          "xaxis": {
           "automargin": true,
           "gridcolor": "white",
           "linecolor": "white",
           "ticks": "",
           "title": {
            "standoff": 15
           },
           "zerolinecolor": "white",
           "zerolinewidth": 2
          },
          "yaxis": {
           "automargin": true,
           "gridcolor": "white",
           "linecolor": "white",
           "ticks": "",
           "title": {
            "standoff": 15
           },
           "zerolinecolor": "white",
           "zerolinewidth": 2
          }
         }
        },
        "title": {
         "text": "Distribution of Slope by Gender"
        },
        "xaxis": {
         "anchor": "y",
         "domain": [
          0,
          1
         ],
         "title": {
          "text": "Slope"
         }
        },
        "yaxis": {
         "anchor": "x",
         "domain": [
          0,
          1
         ],
         "title": {
          "text": "Count"
         }
        }
       }
      }
     },
     "metadata": {},
     "output_type": "display_data"
    }
   ],
   "source": [
    "\n",
    "# Create a count of slopes by sex\n",
    "slope_counts = df.groupby(['sex', 'slope']).size().reset_index(name='count')\n",
    "\n",
    "# Create a bar plot\n",
    "fig15 = px.bar(slope_counts, \n",
    "             x='slope', \n",
    "             y='count', \n",
    "             color='sex', \n",
    "             barmode='group',\n",
    "             title='Distribution of Slope by Gender',\n",
    "             labels={'slope': 'Slope', 'count': 'Count', 'sex': 'Gender'})\n",
    "# Save the figure\n",
    "folder_name = 'Plotly Plots'  # Folder to save the image\n",
    "figure_name = 'my_figure15.html'  # Change this to your desired figure name\n",
    "saved_path = save_figure(fig15, folder_name, figure_name)\n",
    "\n",
    "# Show the plot\n",
    "fig15.show()"
   ]
  },
  {
   "cell_type": "code",
   "execution_count": 267,
   "id": "57289599",
   "metadata": {},
   "outputs": [
    {
     "name": "stdout",
     "output_type": "stream",
     "text": [
      "0    0.0\n",
      "1    3.0\n",
      "2    2.0\n",
      "3    0.0\n",
      "4    0.0\n",
      "Name: ca, dtype: float64\n"
     ]
    }
   ],
   "source": [
    "# Let's check the ca column\n",
    "print(df[\"ca\"].head())"
   ]
  },
  {
   "cell_type": "code",
   "execution_count": 268,
   "id": "72389a21",
   "metadata": {},
   "outputs": [
    {
     "name": "stdout",
     "output_type": "stream",
     "text": [
      "ca\n",
      "0.0    220\n",
      "1.0    170\n",
      "0.2     97\n",
      "0.8     53\n",
      "0.4     45\n",
      "0.6     45\n",
      "2.0     37\n",
      "1.2     33\n",
      "3.0     16\n",
      "1.6      2\n",
      "1.4      1\n",
      "Name: count, dtype: int64\n"
     ]
    }
   ],
   "source": [
    "# value count of ca column\n",
    "print(df[\"ca\"].value_counts())\n"
   ]
  },
  {
   "cell_type": "code",
   "execution_count": 269,
   "id": "8f341b30",
   "metadata": {},
   "outputs": [
    {
     "name": "stdout",
     "output_type": "stream",
     "text": [
      "ca\n",
      "0    362\n",
      "1    302\n",
      "2     39\n",
      "3     16\n",
      "Name: count, dtype: int64\n"
     ]
    }
   ],
   "source": [
    "# Round of ca column to get the exact value. \n",
    "df['ca'] = df['ca'].round().astype(int)\n",
    "# value count of ca column\n",
    "print(df[\"ca\"].value_counts())\n"
   ]
  },
  {
   "cell_type": "code",
   "execution_count": 270,
   "id": "355695c7",
   "metadata": {},
   "outputs": [
    {
     "data": {
      "application/vnd.plotly.v1+json": {
       "config": {
        "plotlyServerURL": "https://plot.ly"
       },
       "data": [
        {
         "alignmentgroup": "True",
         "hovertemplate": "Gender=Female<br>Coloured by Flouroscopy=%{x}<br>Count=%{y}<extra></extra>",
         "legendgroup": "Female",
         "marker": {
          "color": "#636efa",
          "pattern": {
           "shape": ""
          }
         },
         "name": "Female",
         "offsetgroup": "Female",
         "orientation": "v",
         "showlegend": true,
         "textposition": "auto",
         "type": "bar",
         "x": {
          "bdata": "AAECAw==",
          "dtype": "i1"
         },
         "xaxis": "x",
         "y": {
          "bdata": "bDMMAg==",
          "dtype": "i1"
         },
         "yaxis": "y"
        },
        {
         "alignmentgroup": "True",
         "hovertemplate": "Gender=Male<br>Coloured by Flouroscopy=%{x}<br>Count=%{y}<extra></extra>",
         "legendgroup": "Male",
         "marker": {
          "color": "#EF553B",
          "pattern": {
           "shape": ""
          }
         },
         "name": "Male",
         "offsetgroup": "Male",
         "orientation": "v",
         "showlegend": true,
         "textposition": "auto",
         "type": "bar",
         "x": {
          "bdata": "AAECAw==",
          "dtype": "i1"
         },
         "xaxis": "x",
         "y": {
          "bdata": "/gD7ABsADgA=",
          "dtype": "i2"
         },
         "yaxis": "y"
        }
       ],
       "layout": {
        "barmode": "group",
        "legend": {
         "title": {
          "text": "Gender"
         },
         "tracegroupgap": 0
        },
        "template": {
         "data": {
          "bar": [
           {
            "error_x": {
             "color": "#2a3f5f"
            },
            "error_y": {
             "color": "#2a3f5f"
            },
            "marker": {
             "line": {
              "color": "#E5ECF6",
              "width": 0.5
             },
             "pattern": {
              "fillmode": "overlay",
              "size": 10,
              "solidity": 0.2
             }
            },
            "type": "bar"
           }
          ],
          "barpolar": [
           {
            "marker": {
             "line": {
              "color": "#E5ECF6",
              "width": 0.5
             },
             "pattern": {
              "fillmode": "overlay",
              "size": 10,
              "solidity": 0.2
             }
            },
            "type": "barpolar"
           }
          ],
          "carpet": [
           {
            "aaxis": {
             "endlinecolor": "#2a3f5f",
             "gridcolor": "white",
             "linecolor": "white",
             "minorgridcolor": "white",
             "startlinecolor": "#2a3f5f"
            },
            "baxis": {
             "endlinecolor": "#2a3f5f",
             "gridcolor": "white",
             "linecolor": "white",
             "minorgridcolor": "white",
             "startlinecolor": "#2a3f5f"
            },
            "type": "carpet"
           }
          ],
          "choropleth": [
           {
            "colorbar": {
             "outlinewidth": 0,
             "ticks": ""
            },
            "type": "choropleth"
           }
          ],
          "contour": [
           {
            "colorbar": {
             "outlinewidth": 0,
             "ticks": ""
            },
            "colorscale": [
             [
              0,
              "#0d0887"
             ],
             [
              0.1111111111111111,
              "#46039f"
             ],
             [
              0.2222222222222222,
              "#7201a8"
             ],
             [
              0.3333333333333333,
              "#9c179e"
             ],
             [
              0.4444444444444444,
              "#bd3786"
             ],
             [
              0.5555555555555556,
              "#d8576b"
             ],
             [
              0.6666666666666666,
              "#ed7953"
             ],
             [
              0.7777777777777778,
              "#fb9f3a"
             ],
             [
              0.8888888888888888,
              "#fdca26"
             ],
             [
              1,
              "#f0f921"
             ]
            ],
            "type": "contour"
           }
          ],
          "contourcarpet": [
           {
            "colorbar": {
             "outlinewidth": 0,
             "ticks": ""
            },
            "type": "contourcarpet"
           }
          ],
          "heatmap": [
           {
            "colorbar": {
             "outlinewidth": 0,
             "ticks": ""
            },
            "colorscale": [
             [
              0,
              "#0d0887"
             ],
             [
              0.1111111111111111,
              "#46039f"
             ],
             [
              0.2222222222222222,
              "#7201a8"
             ],
             [
              0.3333333333333333,
              "#9c179e"
             ],
             [
              0.4444444444444444,
              "#bd3786"
             ],
             [
              0.5555555555555556,
              "#d8576b"
             ],
             [
              0.6666666666666666,
              "#ed7953"
             ],
             [
              0.7777777777777778,
              "#fb9f3a"
             ],
             [
              0.8888888888888888,
              "#fdca26"
             ],
             [
              1,
              "#f0f921"
             ]
            ],
            "type": "heatmap"
           }
          ],
          "histogram": [
           {
            "marker": {
             "pattern": {
              "fillmode": "overlay",
              "size": 10,
              "solidity": 0.2
             }
            },
            "type": "histogram"
           }
          ],
          "histogram2d": [
           {
            "colorbar": {
             "outlinewidth": 0,
             "ticks": ""
            },
            "colorscale": [
             [
              0,
              "#0d0887"
             ],
             [
              0.1111111111111111,
              "#46039f"
             ],
             [
              0.2222222222222222,
              "#7201a8"
             ],
             [
              0.3333333333333333,
              "#9c179e"
             ],
             [
              0.4444444444444444,
              "#bd3786"
             ],
             [
              0.5555555555555556,
              "#d8576b"
             ],
             [
              0.6666666666666666,
              "#ed7953"
             ],
             [
              0.7777777777777778,
              "#fb9f3a"
             ],
             [
              0.8888888888888888,
              "#fdca26"
             ],
             [
              1,
              "#f0f921"
             ]
            ],
            "type": "histogram2d"
           }
          ],
          "histogram2dcontour": [
           {
            "colorbar": {
             "outlinewidth": 0,
             "ticks": ""
            },
            "colorscale": [
             [
              0,
              "#0d0887"
             ],
             [
              0.1111111111111111,
              "#46039f"
             ],
             [
              0.2222222222222222,
              "#7201a8"
             ],
             [
              0.3333333333333333,
              "#9c179e"
             ],
             [
              0.4444444444444444,
              "#bd3786"
             ],
             [
              0.5555555555555556,
              "#d8576b"
             ],
             [
              0.6666666666666666,
              "#ed7953"
             ],
             [
              0.7777777777777778,
              "#fb9f3a"
             ],
             [
              0.8888888888888888,
              "#fdca26"
             ],
             [
              1,
              "#f0f921"
             ]
            ],
            "type": "histogram2dcontour"
           }
          ],
          "mesh3d": [
           {
            "colorbar": {
             "outlinewidth": 0,
             "ticks": ""
            },
            "type": "mesh3d"
           }
          ],
          "parcoords": [
           {
            "line": {
             "colorbar": {
              "outlinewidth": 0,
              "ticks": ""
             }
            },
            "type": "parcoords"
           }
          ],
          "pie": [
           {
            "automargin": true,
            "type": "pie"
           }
          ],
          "scatter": [
           {
            "fillpattern": {
             "fillmode": "overlay",
             "size": 10,
             "solidity": 0.2
            },
            "type": "scatter"
           }
          ],
          "scatter3d": [
           {
            "line": {
             "colorbar": {
              "outlinewidth": 0,
              "ticks": ""
             }
            },
            "marker": {
             "colorbar": {
              "outlinewidth": 0,
              "ticks": ""
             }
            },
            "type": "scatter3d"
           }
          ],
          "scattercarpet": [
           {
            "marker": {
             "colorbar": {
              "outlinewidth": 0,
              "ticks": ""
             }
            },
            "type": "scattercarpet"
           }
          ],
          "scattergeo": [
           {
            "marker": {
             "colorbar": {
              "outlinewidth": 0,
              "ticks": ""
             }
            },
            "type": "scattergeo"
           }
          ],
          "scattergl": [
           {
            "marker": {
             "colorbar": {
              "outlinewidth": 0,
              "ticks": ""
             }
            },
            "type": "scattergl"
           }
          ],
          "scattermap": [
           {
            "marker": {
             "colorbar": {
              "outlinewidth": 0,
              "ticks": ""
             }
            },
            "type": "scattermap"
           }
          ],
          "scattermapbox": [
           {
            "marker": {
             "colorbar": {
              "outlinewidth": 0,
              "ticks": ""
             }
            },
            "type": "scattermapbox"
           }
          ],
          "scatterpolar": [
           {
            "marker": {
             "colorbar": {
              "outlinewidth": 0,
              "ticks": ""
             }
            },
            "type": "scatterpolar"
           }
          ],
          "scatterpolargl": [
           {
            "marker": {
             "colorbar": {
              "outlinewidth": 0,
              "ticks": ""
             }
            },
            "type": "scatterpolargl"
           }
          ],
          "scatterternary": [
           {
            "marker": {
             "colorbar": {
              "outlinewidth": 0,
              "ticks": ""
             }
            },
            "type": "scatterternary"
           }
          ],
          "surface": [
           {
            "colorbar": {
             "outlinewidth": 0,
             "ticks": ""
            },
            "colorscale": [
             [
              0,
              "#0d0887"
             ],
             [
              0.1111111111111111,
              "#46039f"
             ],
             [
              0.2222222222222222,
              "#7201a8"
             ],
             [
              0.3333333333333333,
              "#9c179e"
             ],
             [
              0.4444444444444444,
              "#bd3786"
             ],
             [
              0.5555555555555556,
              "#d8576b"
             ],
             [
              0.6666666666666666,
              "#ed7953"
             ],
             [
              0.7777777777777778,
              "#fb9f3a"
             ],
             [
              0.8888888888888888,
              "#fdca26"
             ],
             [
              1,
              "#f0f921"
             ]
            ],
            "type": "surface"
           }
          ],
          "table": [
           {
            "cells": {
             "fill": {
              "color": "#EBF0F8"
             },
             "line": {
              "color": "white"
             }
            },
            "header": {
             "fill": {
              "color": "#C8D4E3"
             },
             "line": {
              "color": "white"
             }
            },
            "type": "table"
           }
          ]
         },
         "layout": {
          "annotationdefaults": {
           "arrowcolor": "#2a3f5f",
           "arrowhead": 0,
           "arrowwidth": 1
          },
          "autotypenumbers": "strict",
          "coloraxis": {
           "colorbar": {
            "outlinewidth": 0,
            "ticks": ""
           }
          },
          "colorscale": {
           "diverging": [
            [
             0,
             "#8e0152"
            ],
            [
             0.1,
             "#c51b7d"
            ],
            [
             0.2,
             "#de77ae"
            ],
            [
             0.3,
             "#f1b6da"
            ],
            [
             0.4,
             "#fde0ef"
            ],
            [
             0.5,
             "#f7f7f7"
            ],
            [
             0.6,
             "#e6f5d0"
            ],
            [
             0.7,
             "#b8e186"
            ],
            [
             0.8,
             "#7fbc41"
            ],
            [
             0.9,
             "#4d9221"
            ],
            [
             1,
             "#276419"
            ]
           ],
           "sequential": [
            [
             0,
             "#0d0887"
            ],
            [
             0.1111111111111111,
             "#46039f"
            ],
            [
             0.2222222222222222,
             "#7201a8"
            ],
            [
             0.3333333333333333,
             "#9c179e"
            ],
            [
             0.4444444444444444,
             "#bd3786"
            ],
            [
             0.5555555555555556,
             "#d8576b"
            ],
            [
             0.6666666666666666,
             "#ed7953"
            ],
            [
             0.7777777777777778,
             "#fb9f3a"
            ],
            [
             0.8888888888888888,
             "#fdca26"
            ],
            [
             1,
             "#f0f921"
            ]
           ],
           "sequentialminus": [
            [
             0,
             "#0d0887"
            ],
            [
             0.1111111111111111,
             "#46039f"
            ],
            [
             0.2222222222222222,
             "#7201a8"
            ],
            [
             0.3333333333333333,
             "#9c179e"
            ],
            [
             0.4444444444444444,
             "#bd3786"
            ],
            [
             0.5555555555555556,
             "#d8576b"
            ],
            [
             0.6666666666666666,
             "#ed7953"
            ],
            [
             0.7777777777777778,
             "#fb9f3a"
            ],
            [
             0.8888888888888888,
             "#fdca26"
            ],
            [
             1,
             "#f0f921"
            ]
           ]
          },
          "colorway": [
           "#636efa",
           "#EF553B",
           "#00cc96",
           "#ab63fa",
           "#FFA15A",
           "#19d3f3",
           "#FF6692",
           "#B6E880",
           "#FF97FF",
           "#FECB52"
          ],
          "font": {
           "color": "#2a3f5f"
          },
          "geo": {
           "bgcolor": "white",
           "lakecolor": "white",
           "landcolor": "#E5ECF6",
           "showlakes": true,
           "showland": true,
           "subunitcolor": "white"
          },
          "hoverlabel": {
           "align": "left"
          },
          "hovermode": "closest",
          "mapbox": {
           "style": "light"
          },
          "paper_bgcolor": "white",
          "plot_bgcolor": "#E5ECF6",
          "polar": {
           "angularaxis": {
            "gridcolor": "white",
            "linecolor": "white",
            "ticks": ""
           },
           "bgcolor": "#E5ECF6",
           "radialaxis": {
            "gridcolor": "white",
            "linecolor": "white",
            "ticks": ""
           }
          },
          "scene": {
           "xaxis": {
            "backgroundcolor": "#E5ECF6",
            "gridcolor": "white",
            "gridwidth": 2,
            "linecolor": "white",
            "showbackground": true,
            "ticks": "",
            "zerolinecolor": "white"
           },
           "yaxis": {
            "backgroundcolor": "#E5ECF6",
            "gridcolor": "white",
            "gridwidth": 2,
            "linecolor": "white",
            "showbackground": true,
            "ticks": "",
            "zerolinecolor": "white"
           },
           "zaxis": {
            "backgroundcolor": "#E5ECF6",
            "gridcolor": "white",
            "gridwidth": 2,
            "linecolor": "white",
            "showbackground": true,
            "ticks": "",
            "zerolinecolor": "white"
           }
          },
          "shapedefaults": {
           "line": {
            "color": "#2a3f5f"
           }
          },
          "ternary": {
           "aaxis": {
            "gridcolor": "white",
            "linecolor": "white",
            "ticks": ""
           },
           "baxis": {
            "gridcolor": "white",
            "linecolor": "white",
            "ticks": ""
           },
           "bgcolor": "#E5ECF6",
           "caxis": {
            "gridcolor": "white",
            "linecolor": "white",
            "ticks": ""
           }
          },
          "title": {
           "x": 0.05
          },
          "xaxis": {
           "automargin": true,
           "gridcolor": "white",
           "linecolor": "white",
           "ticks": "",
           "title": {
            "standoff": 15
           },
           "zerolinecolor": "white",
           "zerolinewidth": 2
          },
          "yaxis": {
           "automargin": true,
           "gridcolor": "white",
           "linecolor": "white",
           "ticks": "",
           "title": {
            "standoff": 15
           },
           "zerolinecolor": "white",
           "zerolinewidth": 2
          }
         }
        },
        "title": {
         "text": "Distribution of Ca by Gender"
        },
        "xaxis": {
         "anchor": "y",
         "domain": [
          0,
          1
         ],
         "title": {
          "text": "Coloured by Flouroscopy"
         }
        },
        "yaxis": {
         "anchor": "x",
         "domain": [
          0,
          1
         ],
         "title": {
          "text": "Count"
         }
        }
       }
      }
     },
     "metadata": {},
     "output_type": "display_data"
    }
   ],
   "source": [
    "\n",
    "# Create a count of ca by sex\n",
    "ca_counts = df.groupby(['sex', 'ca']).size().reset_index(name='count')\n",
    "\n",
    "# Create a bar plot\n",
    "fig16 = px.bar(ca_counts, \n",
    "             x='ca', \n",
    "             y='count', \n",
    "             color='sex', \n",
    "             barmode='group',\n",
    "             title='Distribution of Ca by Gender',\n",
    "             labels={'ca': 'Coloured by Flouroscopy', 'count': 'Count', 'sex': 'Gender'})\n",
    "\n",
    "# Save the figure\n",
    "folder_name = 'Plotly Plots'  # Folder to save the image\n",
    "figure_name = 'my_figure16.html'  # Change this to your desired figure name\n",
    "saved_path = save_figure(fig16, folder_name, figure_name)\n",
    "\n",
    "# Show the plot\n",
    "fig16.show()"
   ]
  },
  {
   "cell_type": "code",
   "execution_count": 271,
   "id": "43aee5be",
   "metadata": {},
   "outputs": [
    {
     "name": "stdout",
     "output_type": "stream",
     "text": [
      "thal\n",
      "reversable defect    356\n",
      "normal               304\n",
      "fixed defect          59\n",
      "Name: count, dtype: int64\n"
     ]
    }
   ],
   "source": [
    "# Let's jump into the thal column\n",
    "print(df[\"thal\"].value_counts())"
   ]
  },
  {
   "cell_type": "code",
   "execution_count": 272,
   "id": "e3c95d68",
   "metadata": {},
   "outputs": [
    {
     "data": {
      "application/vnd.plotly.v1+json": {
       "config": {
        "plotlyServerURL": "https://plot.ly"
       },
       "data": [
        {
         "hovertemplate": "Gender=Female<br>Origin=Cleveland<br>Thalassemia Type=%{x}<br>Number of Patients=%{text}<extra></extra>",
         "legendgroup": "Female",
         "marker": {
          "color": "#e377c2",
          "pattern": {
           "shape": ""
          }
         },
         "name": "Female",
         "orientation": "v",
         "showlegend": true,
         "text": {
          "bdata": "AAAAAAAA8D8AAAAAAMBTQAAAAAAAACZA",
          "dtype": "f8"
         },
         "textposition": "outside",
         "type": "bar",
         "x": [
          "fixed defect",
          "normal",
          "reversable defect"
         ],
         "xaxis": "x",
         "y": {
          "bdata": "AU8L",
          "dtype": "i1"
         },
         "yaxis": "y"
        },
        {
         "hovertemplate": "Gender=Female<br>Origin=Hungary<br>Thalassemia Type=%{x}<br>Number of Patients=%{text}<extra></extra>",
         "legendgroup": "Female",
         "marker": {
          "color": "#e377c2",
          "pattern": {
           "shape": ""
          }
         },
         "name": "Female",
         "orientation": "v",
         "showlegend": false,
         "text": {
          "bdata": "AAAAAAAACEAAAAAAAIBOQAAAAAAAACpA",
          "dtype": "f8"
         },
         "textposition": "outside",
         "type": "bar",
         "x": [
          "fixed defect",
          "normal",
          "reversable defect"
         ],
         "xaxis": "x2",
         "y": {
          "bdata": "Az0N",
          "dtype": "i1"
         },
         "yaxis": "y2"
        },
        {
         "hovertemplate": "Gender=Female<br>Origin=VA Long Beach<br>Thalassemia Type=%{x}<br>Number of Patients=%{text}<extra></extra>",
         "legendgroup": "Female",
         "marker": {
          "color": "#e377c2",
          "pattern": {
           "shape": ""
          }
         },
         "name": "Female",
         "orientation": "v",
         "showlegend": false,
         "text": {
          "bdata": "AAAAAAAAAAAAAAAAAAAAQAAAAAAAAAhA",
          "dtype": "f8"
         },
         "textposition": "outside",
         "type": "bar",
         "x": [
          "fixed defect",
          "normal",
          "reversable defect"
         ],
         "xaxis": "x3",
         "y": {
          "bdata": "AAID",
          "dtype": "i1"
         },
         "yaxis": "y3"
        },
        {
         "hovertemplate": "Gender=Male<br>Origin=Cleveland<br>Thalassemia Type=%{x}<br>Number of Patients=%{text}<extra></extra>",
         "legendgroup": "Male",
         "marker": {
          "color": "#1f77b4",
          "pattern": {
           "shape": ""
          }
         },
         "name": "Male",
         "orientation": "v",
         "showlegend": true,
         "text": {
          "bdata": "AAAAAAAAMEAAAAAAAMBVQAAAAAAAAFlA",
          "dtype": "f8"
         },
         "textposition": "outside",
         "type": "bar",
         "x": [
          "fixed defect",
          "normal",
          "reversable defect"
         ],
         "xaxis": "x",
         "y": {
          "bdata": "EFdk",
          "dtype": "i1"
         },
         "yaxis": "y"
        },
        {
         "hovertemplate": "Gender=Male<br>Origin=Hungary<br>Thalassemia Type=%{x}<br>Number of Patients=%{text}<extra></extra>",
         "legendgroup": "Male",
         "marker": {
          "color": "#1f77b4",
          "pattern": {
           "shape": ""
          }
         },
         "name": "Male",
         "orientation": "v",
         "showlegend": false,
         "text": {
          "bdata": "AAAAAAAAOUAAAAAAAIBRQAAAAAAAgFpA",
          "dtype": "f8"
         },
         "textposition": "outside",
         "type": "bar",
         "x": [
          "fixed defect",
          "normal",
          "reversable defect"
         ],
         "xaxis": "x2",
         "y": {
          "bdata": "GUZq",
          "dtype": "i1"
         },
         "yaxis": "y2"
        },
        {
         "hovertemplate": "Gender=Male<br>Origin=VA Long Beach<br>Thalassemia Type=%{x}<br>Number of Patients=%{text}<extra></extra>",
         "legendgroup": "Male",
         "marker": {
          "color": "#1f77b4",
          "pattern": {
           "shape": ""
          }
         },
         "name": "Male",
         "orientation": "v",
         "showlegend": false,
         "text": {
          "bdata": "AAAAAAAALEAAAAAAAAAUQAAAAAAAwF5A",
          "dtype": "f8"
         },
         "textposition": "outside",
         "type": "bar",
         "x": [
          "fixed defect",
          "normal",
          "reversable defect"
         ],
         "xaxis": "x3",
         "y": {
          "bdata": "DgV7",
          "dtype": "i1"
         },
         "yaxis": "y3"
        }
       ],
       "layout": {
        "annotations": [
         {
          "font": {},
          "showarrow": false,
          "text": "Origin=Cleveland",
          "x": 0.15999999999999998,
          "xanchor": "center",
          "xref": "paper",
          "y": 1,
          "yanchor": "bottom",
          "yref": "paper"
         },
         {
          "font": {},
          "showarrow": false,
          "text": "Origin=Hungary",
          "x": 0.49999999999999994,
          "xanchor": "center",
          "xref": "paper",
          "y": 1,
          "yanchor": "bottom",
          "yref": "paper"
         },
         {
          "font": {},
          "showarrow": false,
          "text": "Origin=VA Long Beach",
          "x": 0.8399999999999999,
          "xanchor": "center",
          "xref": "paper",
          "y": 1,
          "yanchor": "bottom",
          "yref": "paper"
         }
        ],
        "bargap": 0.15,
        "barmode": "stack",
        "height": 600,
        "legend": {
         "orientation": "h",
         "title": {
          "text": "Gender"
         },
         "tracegroupgap": 0,
         "x": 1,
         "xanchor": "right",
         "y": 1.02,
         "yanchor": "bottom"
        },
        "margin": {
         "b": 40,
         "l": 40,
         "r": 40,
         "t": 80
        },
        "template": {
         "data": {
          "bar": [
           {
            "error_x": {
             "color": "#2a3f5f"
            },
            "error_y": {
             "color": "#2a3f5f"
            },
            "marker": {
             "line": {
              "color": "white",
              "width": 0.5
             },
             "pattern": {
              "fillmode": "overlay",
              "size": 10,
              "solidity": 0.2
             }
            },
            "type": "bar"
           }
          ],
          "barpolar": [
           {
            "marker": {
             "line": {
              "color": "white",
              "width": 0.5
             },
             "pattern": {
              "fillmode": "overlay",
              "size": 10,
              "solidity": 0.2
             }
            },
            "type": "barpolar"
           }
          ],
          "carpet": [
           {
            "aaxis": {
             "endlinecolor": "#2a3f5f",
             "gridcolor": "#C8D4E3",
             "linecolor": "#C8D4E3",
             "minorgridcolor": "#C8D4E3",
             "startlinecolor": "#2a3f5f"
            },
            "baxis": {
             "endlinecolor": "#2a3f5f",
             "gridcolor": "#C8D4E3",
             "linecolor": "#C8D4E3",
             "minorgridcolor": "#C8D4E3",
             "startlinecolor": "#2a3f5f"
            },
            "type": "carpet"
           }
          ],
          "choropleth": [
           {
            "colorbar": {
             "outlinewidth": 0,
             "ticks": ""
            },
            "type": "choropleth"
           }
          ],
          "contour": [
           {
            "colorbar": {
             "outlinewidth": 0,
             "ticks": ""
            },
            "colorscale": [
             [
              0,
              "#0d0887"
             ],
             [
              0.1111111111111111,
              "#46039f"
             ],
             [
              0.2222222222222222,
              "#7201a8"
             ],
             [
              0.3333333333333333,
              "#9c179e"
             ],
             [
              0.4444444444444444,
              "#bd3786"
             ],
             [
              0.5555555555555556,
              "#d8576b"
             ],
             [
              0.6666666666666666,
              "#ed7953"
             ],
             [
              0.7777777777777778,
              "#fb9f3a"
             ],
             [
              0.8888888888888888,
              "#fdca26"
             ],
             [
              1,
              "#f0f921"
             ]
            ],
            "type": "contour"
           }
          ],
          "contourcarpet": [
           {
            "colorbar": {
             "outlinewidth": 0,
             "ticks": ""
            },
            "type": "contourcarpet"
           }
          ],
          "heatmap": [
           {
            "colorbar": {
             "outlinewidth": 0,
             "ticks": ""
            },
            "colorscale": [
             [
              0,
              "#0d0887"
             ],
             [
              0.1111111111111111,
              "#46039f"
             ],
             [
              0.2222222222222222,
              "#7201a8"
             ],
             [
              0.3333333333333333,
              "#9c179e"
             ],
             [
              0.4444444444444444,
              "#bd3786"
             ],
             [
              0.5555555555555556,
              "#d8576b"
             ],
             [
              0.6666666666666666,
              "#ed7953"
             ],
             [
              0.7777777777777778,
              "#fb9f3a"
             ],
             [
              0.8888888888888888,
              "#fdca26"
             ],
             [
              1,
              "#f0f921"
             ]
            ],
            "type": "heatmap"
           }
          ],
          "histogram": [
           {
            "marker": {
             "pattern": {
              "fillmode": "overlay",
              "size": 10,
              "solidity": 0.2
             }
            },
            "type": "histogram"
           }
          ],
          "histogram2d": [
           {
            "colorbar": {
             "outlinewidth": 0,
             "ticks": ""
            },
            "colorscale": [
             [
              0,
              "#0d0887"
             ],
             [
              0.1111111111111111,
              "#46039f"
             ],
             [
              0.2222222222222222,
              "#7201a8"
             ],
             [
              0.3333333333333333,
              "#9c179e"
             ],
             [
              0.4444444444444444,
              "#bd3786"
             ],
             [
              0.5555555555555556,
              "#d8576b"
             ],
             [
              0.6666666666666666,
              "#ed7953"
             ],
             [
              0.7777777777777778,
              "#fb9f3a"
             ],
             [
              0.8888888888888888,
              "#fdca26"
             ],
             [
              1,
              "#f0f921"
             ]
            ],
            "type": "histogram2d"
           }
          ],
          "histogram2dcontour": [
           {
            "colorbar": {
             "outlinewidth": 0,
             "ticks": ""
            },
            "colorscale": [
             [
              0,
              "#0d0887"
             ],
             [
              0.1111111111111111,
              "#46039f"
             ],
             [
              0.2222222222222222,
              "#7201a8"
             ],
             [
              0.3333333333333333,
              "#9c179e"
             ],
             [
              0.4444444444444444,
              "#bd3786"
             ],
             [
              0.5555555555555556,
              "#d8576b"
             ],
             [
              0.6666666666666666,
              "#ed7953"
             ],
             [
              0.7777777777777778,
              "#fb9f3a"
             ],
             [
              0.8888888888888888,
              "#fdca26"
             ],
             [
              1,
              "#f0f921"
             ]
            ],
            "type": "histogram2dcontour"
           }
          ],
          "mesh3d": [
           {
            "colorbar": {
             "outlinewidth": 0,
             "ticks": ""
            },
            "type": "mesh3d"
           }
          ],
          "parcoords": [
           {
            "line": {
             "colorbar": {
              "outlinewidth": 0,
              "ticks": ""
             }
            },
            "type": "parcoords"
           }
          ],
          "pie": [
           {
            "automargin": true,
            "type": "pie"
           }
          ],
          "scatter": [
           {
            "fillpattern": {
             "fillmode": "overlay",
             "size": 10,
             "solidity": 0.2
            },
            "type": "scatter"
           }
          ],
          "scatter3d": [
           {
            "line": {
             "colorbar": {
              "outlinewidth": 0,
              "ticks": ""
             }
            },
            "marker": {
             "colorbar": {
              "outlinewidth": 0,
              "ticks": ""
             }
            },
            "type": "scatter3d"
           }
          ],
          "scattercarpet": [
           {
            "marker": {
             "colorbar": {
              "outlinewidth": 0,
              "ticks": ""
             }
            },
            "type": "scattercarpet"
           }
          ],
          "scattergeo": [
           {
            "marker": {
             "colorbar": {
              "outlinewidth": 0,
              "ticks": ""
             }
            },
            "type": "scattergeo"
           }
          ],
          "scattergl": [
           {
            "marker": {
             "colorbar": {
              "outlinewidth": 0,
              "ticks": ""
             }
            },
            "type": "scattergl"
           }
          ],
          "scattermap": [
           {
            "marker": {
             "colorbar": {
              "outlinewidth": 0,
              "ticks": ""
             }
            },
            "type": "scattermap"
           }
          ],
          "scattermapbox": [
           {
            "marker": {
             "colorbar": {
              "outlinewidth": 0,
              "ticks": ""
             }
            },
            "type": "scattermapbox"
           }
          ],
          "scatterpolar": [
           {
            "marker": {
             "colorbar": {
              "outlinewidth": 0,
              "ticks": ""
             }
            },
            "type": "scatterpolar"
           }
          ],
          "scatterpolargl": [
           {
            "marker": {
             "colorbar": {
              "outlinewidth": 0,
              "ticks": ""
             }
            },
            "type": "scatterpolargl"
           }
          ],
          "scatterternary": [
           {
            "marker": {
             "colorbar": {
              "outlinewidth": 0,
              "ticks": ""
             }
            },
            "type": "scatterternary"
           }
          ],
          "surface": [
           {
            "colorbar": {
             "outlinewidth": 0,
             "ticks": ""
            },
            "colorscale": [
             [
              0,
              "#0d0887"
             ],
             [
              0.1111111111111111,
              "#46039f"
             ],
             [
              0.2222222222222222,
              "#7201a8"
             ],
             [
              0.3333333333333333,
              "#9c179e"
             ],
             [
              0.4444444444444444,
              "#bd3786"
             ],
             [
              0.5555555555555556,
              "#d8576b"
             ],
             [
              0.6666666666666666,
              "#ed7953"
             ],
             [
              0.7777777777777778,
              "#fb9f3a"
             ],
             [
              0.8888888888888888,
              "#fdca26"
             ],
             [
              1,
              "#f0f921"
             ]
            ],
            "type": "surface"
           }
          ],
          "table": [
           {
            "cells": {
             "fill": {
              "color": "#EBF0F8"
             },
             "line": {
              "color": "white"
             }
            },
            "header": {
             "fill": {
              "color": "#C8D4E3"
             },
             "line": {
              "color": "white"
             }
            },
            "type": "table"
           }
          ]
         },
         "layout": {
          "annotationdefaults": {
           "arrowcolor": "#2a3f5f",
           "arrowhead": 0,
           "arrowwidth": 1
          },
          "autotypenumbers": "strict",
          "coloraxis": {
           "colorbar": {
            "outlinewidth": 0,
            "ticks": ""
           }
          },
          "colorscale": {
           "diverging": [
            [
             0,
             "#8e0152"
            ],
            [
             0.1,
             "#c51b7d"
            ],
            [
             0.2,
             "#de77ae"
            ],
            [
             0.3,
             "#f1b6da"
            ],
            [
             0.4,
             "#fde0ef"
            ],
            [
             0.5,
             "#f7f7f7"
            ],
            [
             0.6,
             "#e6f5d0"
            ],
            [
             0.7,
             "#b8e186"
            ],
            [
             0.8,
             "#7fbc41"
            ],
            [
             0.9,
             "#4d9221"
            ],
            [
             1,
             "#276419"
            ]
           ],
           "sequential": [
            [
             0,
             "#0d0887"
            ],
            [
             0.1111111111111111,
             "#46039f"
            ],
            [
             0.2222222222222222,
             "#7201a8"
            ],
            [
             0.3333333333333333,
             "#9c179e"
            ],
            [
             0.4444444444444444,
             "#bd3786"
            ],
            [
             0.5555555555555556,
             "#d8576b"
            ],
            [
             0.6666666666666666,
             "#ed7953"
            ],
            [
             0.7777777777777778,
             "#fb9f3a"
            ],
            [
             0.8888888888888888,
             "#fdca26"
            ],
            [
             1,
             "#f0f921"
            ]
           ],
           "sequentialminus": [
            [
             0,
             "#0d0887"
            ],
            [
             0.1111111111111111,
             "#46039f"
            ],
            [
             0.2222222222222222,
             "#7201a8"
            ],
            [
             0.3333333333333333,
             "#9c179e"
            ],
            [
             0.4444444444444444,
             "#bd3786"
            ],
            [
             0.5555555555555556,
             "#d8576b"
            ],
            [
             0.6666666666666666,
             "#ed7953"
            ],
            [
             0.7777777777777778,
             "#fb9f3a"
            ],
            [
             0.8888888888888888,
             "#fdca26"
            ],
            [
             1,
             "#f0f921"
            ]
           ]
          },
          "colorway": [
           "#636efa",
           "#EF553B",
           "#00cc96",
           "#ab63fa",
           "#FFA15A",
           "#19d3f3",
           "#FF6692",
           "#B6E880",
           "#FF97FF",
           "#FECB52"
          ],
          "font": {
           "color": "#2a3f5f"
          },
          "geo": {
           "bgcolor": "white",
           "lakecolor": "white",
           "landcolor": "white",
           "showlakes": true,
           "showland": true,
           "subunitcolor": "#C8D4E3"
          },
          "hoverlabel": {
           "align": "left"
          },
          "hovermode": "closest",
          "mapbox": {
           "style": "light"
          },
          "paper_bgcolor": "white",
          "plot_bgcolor": "white",
          "polar": {
           "angularaxis": {
            "gridcolor": "#EBF0F8",
            "linecolor": "#EBF0F8",
            "ticks": ""
           },
           "bgcolor": "white",
           "radialaxis": {
            "gridcolor": "#EBF0F8",
            "linecolor": "#EBF0F8",
            "ticks": ""
           }
          },
          "scene": {
           "xaxis": {
            "backgroundcolor": "white",
            "gridcolor": "#DFE8F3",
            "gridwidth": 2,
            "linecolor": "#EBF0F8",
            "showbackground": true,
            "ticks": "",
            "zerolinecolor": "#EBF0F8"
           },
           "yaxis": {
            "backgroundcolor": "white",
            "gridcolor": "#DFE8F3",
            "gridwidth": 2,
            "linecolor": "#EBF0F8",
            "showbackground": true,
            "ticks": "",
            "zerolinecolor": "#EBF0F8"
           },
           "zaxis": {
            "backgroundcolor": "white",
            "gridcolor": "#DFE8F3",
            "gridwidth": 2,
            "linecolor": "#EBF0F8",
            "showbackground": true,
            "ticks": "",
            "zerolinecolor": "#EBF0F8"
           }
          },
          "shapedefaults": {
           "line": {
            "color": "#2a3f5f"
           }
          },
          "ternary": {
           "aaxis": {
            "gridcolor": "#DFE8F3",
            "linecolor": "#A2B1C6",
            "ticks": ""
           },
           "baxis": {
            "gridcolor": "#DFE8F3",
            "linecolor": "#A2B1C6",
            "ticks": ""
           },
           "bgcolor": "white",
           "caxis": {
            "gridcolor": "#DFE8F3",
            "linecolor": "#A2B1C6",
            "ticks": ""
           }
          },
          "title": {
           "x": 0.05
          },
          "xaxis": {
           "automargin": true,
           "gridcolor": "#EBF0F8",
           "linecolor": "#EBF0F8",
           "ticks": "",
           "title": {
            "standoff": 15
           },
           "zerolinecolor": "#EBF0F8",
           "zerolinewidth": 2
          },
          "yaxis": {
           "automargin": true,
           "gridcolor": "#EBF0F8",
           "linecolor": "#EBF0F8",
           "ticks": "",
           "title": {
            "standoff": 15
           },
           "zerolinecolor": "#EBF0F8",
           "zerolinewidth": 2
          }
         }
        },
        "title": {
         "font": {
          "size": 20
         },
         "text": "💉 Thalassemia Condition Distribution by Country and Gender",
         "x": 0.5
        },
        "xaxis": {
         "anchor": "y",
         "domain": [
          0,
          0.31999999999999995
         ],
         "title": {
          "text": "Thalassemia Type"
         }
        },
        "xaxis2": {
         "anchor": "y2",
         "domain": [
          0.33999999999999997,
          0.6599999999999999
         ],
         "matches": "x",
         "title": {
          "text": "Thalassemia Type"
         }
        },
        "xaxis3": {
         "anchor": "y3",
         "domain": [
          0.6799999999999999,
          0.9999999999999999
         ],
         "matches": "x",
         "title": {
          "text": "Thalassemia Type"
         }
        },
        "yaxis": {
         "anchor": "x",
         "domain": [
          0,
          1
         ],
         "title": {
          "text": "Number of Patients"
         }
        },
        "yaxis2": {
         "anchor": "x2",
         "domain": [
          0,
          1
         ],
         "matches": "y",
         "showticklabels": false
        },
        "yaxis3": {
         "anchor": "x3",
         "domain": [
          0,
          1
         ],
         "matches": "y",
         "showticklabels": false
        }
       }
      }
     },
     "metadata": {},
     "output_type": "display_data"
    }
   ],
   "source": [
    "# Convert columns to categorical for safety\n",
    "df['thal'] = df['thal'].astype('category')\n",
    "df['dataset'] = df['dataset'].astype('category')\n",
    "\n",
    "# Count occurrences\n",
    "thal_counts = df.groupby(['thal', 'dataset', 'sex']).size().reset_index(name='count')\n",
    "\n",
    "# Beautified Plot\n",
    "fig17 = px.bar(\n",
    "    thal_counts,\n",
    "    x='thal',\n",
    "    y='count',\n",
    "    color='sex',\n",
    "    text='count',\n",
    "    title='💉 Thalassemia Condition Distribution by Country and Gender',\n",
    "    labels={\n",
    "        'thal': 'Thalassemia Type',\n",
    "        'count': 'Number of Patients',\n",
    "        'sex': 'Gender',\n",
    "        'dataset': 'Origin'\n",
    "    },\n",
    "    barmode='stack',\n",
    "    facet_col='dataset',\n",
    "    color_discrete_map={'Male': '#1f77b4', 'Female': '#e377c2'},\n",
    "    height=600,\n",
    "    template='plotly_white'\n",
    ")\n",
    "\n",
    "# Extra polish\n",
    "fig17.update_traces(textposition='outside')\n",
    "fig17.update_layout(\n",
    "    title_font_size=20,\n",
    "    title_x=0.5,\n",
    "    legend_title_text='Gender',\n",
    "    legend=dict(\n",
    "        orientation=\"h\",\n",
    "        yanchor=\"bottom\",\n",
    "        y=1.02,\n",
    "        xanchor=\"right\",\n",
    "        x=1\n",
    "    ),\n",
    "    margin=dict(t=80, b=40, l=40, r=40),\n",
    "    bargap=0.15\n",
    ")\n",
    "# Save the figure\n",
    "folder_name = 'Plotly Plots'  # Folder to save the image\n",
    "figure_name = 'my_figure17.html'  # Change this to your desired figure name\n",
    "saved_path = save_figure(fig17, folder_name, figure_name)\n",
    "\n",
    "# Show the Plot\n",
    "fig17.show()\n"
   ]
  },
  {
   "cell_type": "code",
   "execution_count": 273,
   "id": "d564860b",
   "metadata": {},
   "outputs": [
    {
     "name": "stdout",
     "output_type": "stream",
     "text": [
      "num\n",
      "0.0    380\n",
      "1.0    192\n",
      "3.0     66\n",
      "2.0     61\n",
      "4.0     20\n",
      "Name: count, dtype: int64\n"
     ]
    }
   ],
   "source": [
    "# Let's see the last column of dataset named num.\n",
    "print(df['num'].value_counts())"
   ]
  },
  {
   "cell_type": "code",
   "execution_count": 274,
   "id": "21f66f23",
   "metadata": {},
   "outputs": [
    {
     "name": "stdout",
     "output_type": "stream",
     "text": [
      "      sex  count             category\n",
      "0  Female    138           No Disease\n",
      "1    Male    242           No Disease\n",
      "2  Female     22         Mild Disease\n",
      "3    Male    170         Mild Disease\n",
      "4  Female      6     Moderate Disease\n",
      "5    Male     55     Moderate Disease\n",
      "6  Female      6       Severe Disease\n",
      "7    Male     60       Severe Disease\n",
      "8  Female      1  Very Severe Disease\n",
      "9    Male     19  Very Severe Disease\n"
     ]
    }
   ],
   "source": [
    "\n",
    "# Aggregate the data\n",
    "df_agg = df.groupby(['num', 'sex']).size().reset_index(name='count')\n",
    "\n",
    "# Define a mapping for num to categories\n",
    "category_mapping = {\n",
    "    0: 'No Disease',\n",
    "    1: 'Mild Disease',\n",
    "    2: 'Moderate Disease',\n",
    "    3: 'Severe Disease',\n",
    "    4: 'Very Severe Disease'\n",
    "}\n",
    "\n",
    "# Replace num values with categories\n",
    "df_agg['category'] = df_agg['num'].map(category_mapping)\n",
    "\n",
    "# Drop the original num column if not needed\n",
    "df_agg = df_agg.drop(columns=['num'])\n",
    "\n",
    "# Display the modified aggregated data\n",
    "print(df_agg)"
   ]
  },
  {
   "cell_type": "code",
   "execution_count": 275,
   "id": "ebdc2d89",
   "metadata": {},
   "outputs": [
    {
     "data": {
      "application/vnd.plotly.v1+json": {
       "config": {
        "plotlyServerURL": "https://plot.ly"
       },
       "data": [
        {
         "alignmentgroup": "True",
         "hovertemplate": "sex=Female<br>Disease Category=%{x}<br>Count=%{text}<extra></extra>",
         "legendgroup": "Female",
         "marker": {
          "color": "#636efa",
          "pattern": {
           "shape": ""
          }
         },
         "name": "Female",
         "offsetgroup": "Female",
         "orientation": "v",
         "showlegend": true,
         "text": {
          "bdata": "AAAAAABAYUAAAAAAAAA2QAAAAAAAABhAAAAAAAAAGEAAAAAAAADwPw==",
          "dtype": "f8"
         },
         "textposition": "outside",
         "texttemplate": "%{text}",
         "type": "bar",
         "x": {
          "bdata": "AAAAAAAAAAAAAAAAAADwPwAAAAAAAABAAAAAAAAACEAAAAAAAAAQQA==",
          "dtype": "f8"
         },
         "xaxis": "x",
         "y": {
          "bdata": "igAWAAYABgABAA==",
          "dtype": "i2"
         },
         "yaxis": "y"
        },
        {
         "alignmentgroup": "True",
         "hovertemplate": "sex=Male<br>Disease Category=%{x}<br>Count=%{text}<extra></extra>",
         "legendgroup": "Male",
         "marker": {
          "color": "#EF553B",
          "pattern": {
           "shape": ""
          }
         },
         "name": "Male",
         "offsetgroup": "Male",
         "orientation": "v",
         "showlegend": true,
         "text": {
          "bdata": "AAAAAABAbkAAAAAAAEBlQAAAAAAAgEtAAAAAAAAATkAAAAAAAAAzQA==",
          "dtype": "f8"
         },
         "textposition": "outside",
         "texttemplate": "%{text}",
         "type": "bar",
         "x": {
          "bdata": "AAAAAAAAAAAAAAAAAADwPwAAAAAAAABAAAAAAAAACEAAAAAAAAAQQA==",
          "dtype": "f8"
         },
         "xaxis": "x",
         "y": {
          "bdata": "8gCqADcAPAATAA==",
          "dtype": "i2"
         },
         "yaxis": "y"
        }
       ],
       "layout": {
        "barmode": "group",
        "legend": {
         "title": {
          "text": "sex"
         },
         "tracegroupgap": 0
        },
        "template": {
         "data": {
          "bar": [
           {
            "error_x": {
             "color": "#2a3f5f"
            },
            "error_y": {
             "color": "#2a3f5f"
            },
            "marker": {
             "line": {
              "color": "#E5ECF6",
              "width": 0.5
             },
             "pattern": {
              "fillmode": "overlay",
              "size": 10,
              "solidity": 0.2
             }
            },
            "type": "bar"
           }
          ],
          "barpolar": [
           {
            "marker": {
             "line": {
              "color": "#E5ECF6",
              "width": 0.5
             },
             "pattern": {
              "fillmode": "overlay",
              "size": 10,
              "solidity": 0.2
             }
            },
            "type": "barpolar"
           }
          ],
          "carpet": [
           {
            "aaxis": {
             "endlinecolor": "#2a3f5f",
             "gridcolor": "white",
             "linecolor": "white",
             "minorgridcolor": "white",
             "startlinecolor": "#2a3f5f"
            },
            "baxis": {
             "endlinecolor": "#2a3f5f",
             "gridcolor": "white",
             "linecolor": "white",
             "minorgridcolor": "white",
             "startlinecolor": "#2a3f5f"
            },
            "type": "carpet"
           }
          ],
          "choropleth": [
           {
            "colorbar": {
             "outlinewidth": 0,
             "ticks": ""
            },
            "type": "choropleth"
           }
          ],
          "contour": [
           {
            "colorbar": {
             "outlinewidth": 0,
             "ticks": ""
            },
            "colorscale": [
             [
              0,
              "#0d0887"
             ],
             [
              0.1111111111111111,
              "#46039f"
             ],
             [
              0.2222222222222222,
              "#7201a8"
             ],
             [
              0.3333333333333333,
              "#9c179e"
             ],
             [
              0.4444444444444444,
              "#bd3786"
             ],
             [
              0.5555555555555556,
              "#d8576b"
             ],
             [
              0.6666666666666666,
              "#ed7953"
             ],
             [
              0.7777777777777778,
              "#fb9f3a"
             ],
             [
              0.8888888888888888,
              "#fdca26"
             ],
             [
              1,
              "#f0f921"
             ]
            ],
            "type": "contour"
           }
          ],
          "contourcarpet": [
           {
            "colorbar": {
             "outlinewidth": 0,
             "ticks": ""
            },
            "type": "contourcarpet"
           }
          ],
          "heatmap": [
           {
            "colorbar": {
             "outlinewidth": 0,
             "ticks": ""
            },
            "colorscale": [
             [
              0,
              "#0d0887"
             ],
             [
              0.1111111111111111,
              "#46039f"
             ],
             [
              0.2222222222222222,
              "#7201a8"
             ],
             [
              0.3333333333333333,
              "#9c179e"
             ],
             [
              0.4444444444444444,
              "#bd3786"
             ],
             [
              0.5555555555555556,
              "#d8576b"
             ],
             [
              0.6666666666666666,
              "#ed7953"
             ],
             [
              0.7777777777777778,
              "#fb9f3a"
             ],
             [
              0.8888888888888888,
              "#fdca26"
             ],
             [
              1,
              "#f0f921"
             ]
            ],
            "type": "heatmap"
           }
          ],
          "histogram": [
           {
            "marker": {
             "pattern": {
              "fillmode": "overlay",
              "size": 10,
              "solidity": 0.2
             }
            },
            "type": "histogram"
           }
          ],
          "histogram2d": [
           {
            "colorbar": {
             "outlinewidth": 0,
             "ticks": ""
            },
            "colorscale": [
             [
              0,
              "#0d0887"
             ],
             [
              0.1111111111111111,
              "#46039f"
             ],
             [
              0.2222222222222222,
              "#7201a8"
             ],
             [
              0.3333333333333333,
              "#9c179e"
             ],
             [
              0.4444444444444444,
              "#bd3786"
             ],
             [
              0.5555555555555556,
              "#d8576b"
             ],
             [
              0.6666666666666666,
              "#ed7953"
             ],
             [
              0.7777777777777778,
              "#fb9f3a"
             ],
             [
              0.8888888888888888,
              "#fdca26"
             ],
             [
              1,
              "#f0f921"
             ]
            ],
            "type": "histogram2d"
           }
          ],
          "histogram2dcontour": [
           {
            "colorbar": {
             "outlinewidth": 0,
             "ticks": ""
            },
            "colorscale": [
             [
              0,
              "#0d0887"
             ],
             [
              0.1111111111111111,
              "#46039f"
             ],
             [
              0.2222222222222222,
              "#7201a8"
             ],
             [
              0.3333333333333333,
              "#9c179e"
             ],
             [
              0.4444444444444444,
              "#bd3786"
             ],
             [
              0.5555555555555556,
              "#d8576b"
             ],
             [
              0.6666666666666666,
              "#ed7953"
             ],
             [
              0.7777777777777778,
              "#fb9f3a"
             ],
             [
              0.8888888888888888,
              "#fdca26"
             ],
             [
              1,
              "#f0f921"
             ]
            ],
            "type": "histogram2dcontour"
           }
          ],
          "mesh3d": [
           {
            "colorbar": {
             "outlinewidth": 0,
             "ticks": ""
            },
            "type": "mesh3d"
           }
          ],
          "parcoords": [
           {
            "line": {
             "colorbar": {
              "outlinewidth": 0,
              "ticks": ""
             }
            },
            "type": "parcoords"
           }
          ],
          "pie": [
           {
            "automargin": true,
            "type": "pie"
           }
          ],
          "scatter": [
           {
            "fillpattern": {
             "fillmode": "overlay",
             "size": 10,
             "solidity": 0.2
            },
            "type": "scatter"
           }
          ],
          "scatter3d": [
           {
            "line": {
             "colorbar": {
              "outlinewidth": 0,
              "ticks": ""
             }
            },
            "marker": {
             "colorbar": {
              "outlinewidth": 0,
              "ticks": ""
             }
            },
            "type": "scatter3d"
           }
          ],
          "scattercarpet": [
           {
            "marker": {
             "colorbar": {
              "outlinewidth": 0,
              "ticks": ""
             }
            },
            "type": "scattercarpet"
           }
          ],
          "scattergeo": [
           {
            "marker": {
             "colorbar": {
              "outlinewidth": 0,
              "ticks": ""
             }
            },
            "type": "scattergeo"
           }
          ],
          "scattergl": [
           {
            "marker": {
             "colorbar": {
              "outlinewidth": 0,
              "ticks": ""
             }
            },
            "type": "scattergl"
           }
          ],
          "scattermap": [
           {
            "marker": {
             "colorbar": {
              "outlinewidth": 0,
              "ticks": ""
             }
            },
            "type": "scattermap"
           }
          ],
          "scattermapbox": [
           {
            "marker": {
             "colorbar": {
              "outlinewidth": 0,
              "ticks": ""
             }
            },
            "type": "scattermapbox"
           }
          ],
          "scatterpolar": [
           {
            "marker": {
             "colorbar": {
              "outlinewidth": 0,
              "ticks": ""
             }
            },
            "type": "scatterpolar"
           }
          ],
          "scatterpolargl": [
           {
            "marker": {
             "colorbar": {
              "outlinewidth": 0,
              "ticks": ""
             }
            },
            "type": "scatterpolargl"
           }
          ],
          "scatterternary": [
           {
            "marker": {
             "colorbar": {
              "outlinewidth": 0,
              "ticks": ""
             }
            },
            "type": "scatterternary"
           }
          ],
          "surface": [
           {
            "colorbar": {
             "outlinewidth": 0,
             "ticks": ""
            },
            "colorscale": [
             [
              0,
              "#0d0887"
             ],
             [
              0.1111111111111111,
              "#46039f"
             ],
             [
              0.2222222222222222,
              "#7201a8"
             ],
             [
              0.3333333333333333,
              "#9c179e"
             ],
             [
              0.4444444444444444,
              "#bd3786"
             ],
             [
              0.5555555555555556,
              "#d8576b"
             ],
             [
              0.6666666666666666,
              "#ed7953"
             ],
             [
              0.7777777777777778,
              "#fb9f3a"
             ],
             [
              0.8888888888888888,
              "#fdca26"
             ],
             [
              1,
              "#f0f921"
             ]
            ],
            "type": "surface"
           }
          ],
          "table": [
           {
            "cells": {
             "fill": {
              "color": "#EBF0F8"
             },
             "line": {
              "color": "white"
             }
            },
            "header": {
             "fill": {
              "color": "#C8D4E3"
             },
             "line": {
              "color": "white"
             }
            },
            "type": "table"
           }
          ]
         },
         "layout": {
          "annotationdefaults": {
           "arrowcolor": "#2a3f5f",
           "arrowhead": 0,
           "arrowwidth": 1
          },
          "autotypenumbers": "strict",
          "coloraxis": {
           "colorbar": {
            "outlinewidth": 0,
            "ticks": ""
           }
          },
          "colorscale": {
           "diverging": [
            [
             0,
             "#8e0152"
            ],
            [
             0.1,
             "#c51b7d"
            ],
            [
             0.2,
             "#de77ae"
            ],
            [
             0.3,
             "#f1b6da"
            ],
            [
             0.4,
             "#fde0ef"
            ],
            [
             0.5,
             "#f7f7f7"
            ],
            [
             0.6,
             "#e6f5d0"
            ],
            [
             0.7,
             "#b8e186"
            ],
            [
             0.8,
             "#7fbc41"
            ],
            [
             0.9,
             "#4d9221"
            ],
            [
             1,
             "#276419"
            ]
           ],
           "sequential": [
            [
             0,
             "#0d0887"
            ],
            [
             0.1111111111111111,
             "#46039f"
            ],
            [
             0.2222222222222222,
             "#7201a8"
            ],
            [
             0.3333333333333333,
             "#9c179e"
            ],
            [
             0.4444444444444444,
             "#bd3786"
            ],
            [
             0.5555555555555556,
             "#d8576b"
            ],
            [
             0.6666666666666666,
             "#ed7953"
            ],
            [
             0.7777777777777778,
             "#fb9f3a"
            ],
            [
             0.8888888888888888,
             "#fdca26"
            ],
            [
             1,
             "#f0f921"
            ]
           ],
           "sequentialminus": [
            [
             0,
             "#0d0887"
            ],
            [
             0.1111111111111111,
             "#46039f"
            ],
            [
             0.2222222222222222,
             "#7201a8"
            ],
            [
             0.3333333333333333,
             "#9c179e"
            ],
            [
             0.4444444444444444,
             "#bd3786"
            ],
            [
             0.5555555555555556,
             "#d8576b"
            ],
            [
             0.6666666666666666,
             "#ed7953"
            ],
            [
             0.7777777777777778,
             "#fb9f3a"
            ],
            [
             0.8888888888888888,
             "#fdca26"
            ],
            [
             1,
             "#f0f921"
            ]
           ]
          },
          "colorway": [
           "#636efa",
           "#EF553B",
           "#00cc96",
           "#ab63fa",
           "#FFA15A",
           "#19d3f3",
           "#FF6692",
           "#B6E880",
           "#FF97FF",
           "#FECB52"
          ],
          "font": {
           "color": "#2a3f5f"
          },
          "geo": {
           "bgcolor": "white",
           "lakecolor": "white",
           "landcolor": "#E5ECF6",
           "showlakes": true,
           "showland": true,
           "subunitcolor": "white"
          },
          "hoverlabel": {
           "align": "left"
          },
          "hovermode": "closest",
          "mapbox": {
           "style": "light"
          },
          "paper_bgcolor": "white",
          "plot_bgcolor": "#E5ECF6",
          "polar": {
           "angularaxis": {
            "gridcolor": "white",
            "linecolor": "white",
            "ticks": ""
           },
           "bgcolor": "#E5ECF6",
           "radialaxis": {
            "gridcolor": "white",
            "linecolor": "white",
            "ticks": ""
           }
          },
          "scene": {
           "xaxis": {
            "backgroundcolor": "#E5ECF6",
            "gridcolor": "white",
            "gridwidth": 2,
            "linecolor": "white",
            "showbackground": true,
            "ticks": "",
            "zerolinecolor": "white"
           },
           "yaxis": {
            "backgroundcolor": "#E5ECF6",
            "gridcolor": "white",
            "gridwidth": 2,
            "linecolor": "white",
            "showbackground": true,
            "ticks": "",
            "zerolinecolor": "white"
           },
           "zaxis": {
            "backgroundcolor": "#E5ECF6",
            "gridcolor": "white",
            "gridwidth": 2,
            "linecolor": "white",
            "showbackground": true,
            "ticks": "",
            "zerolinecolor": "white"
           }
          },
          "shapedefaults": {
           "line": {
            "color": "#2a3f5f"
           }
          },
          "ternary": {
           "aaxis": {
            "gridcolor": "white",
            "linecolor": "white",
            "ticks": ""
           },
           "baxis": {
            "gridcolor": "white",
            "linecolor": "white",
            "ticks": ""
           },
           "bgcolor": "#E5ECF6",
           "caxis": {
            "gridcolor": "white",
            "linecolor": "white",
            "ticks": ""
           }
          },
          "title": {
           "x": 0.05
          },
          "xaxis": {
           "automargin": true,
           "gridcolor": "white",
           "linecolor": "white",
           "ticks": "",
           "title": {
            "standoff": 15
           },
           "zerolinecolor": "white",
           "zerolinewidth": 2
          },
          "yaxis": {
           "automargin": true,
           "gridcolor": "white",
           "linecolor": "white",
           "ticks": "",
           "title": {
            "standoff": 15
           },
           "zerolinecolor": "white",
           "zerolinewidth": 2
          }
         }
        },
        "title": {
         "text": "Distribution of Disease Categories by Gender"
        },
        "xaxis": {
         "anchor": "y",
         "domain": [
          0,
          1
         ],
         "ticktext": [
          "No Disease",
          "Mild Disease",
          "Moderate Disease",
          "Severe Disease",
          "Very Severe Disease"
         ],
         "tickvals": [
          0,
          1,
          2,
          3,
          4
         ],
         "title": {
          "text": "Disease Category"
         }
        },
        "yaxis": {
         "anchor": "x",
         "domain": [
          0,
          1
         ],
         "title": {
          "text": "Count"
         }
        }
       }
      }
     },
     "metadata": {},
     "output_type": "display_data"
    }
   ],
   "source": [
    "# Aggregate the data\n",
    "df_agg = df.groupby(['num', 'sex']).size().reset_index(name='count')\n",
    "# Create a split bar plot\n",
    "fig18 = px.bar(df_agg, \n",
    "             x='num', \n",
    "             y='count', \n",
    "             color='sex', \n",
    "             text='count',\n",
    "             title='Distribution of Disease Categories by Gender',\n",
    "             labels={'num': 'Disease Category', 'count': 'Count'},\n",
    "             barmode='group')\n",
    "\n",
    "# Update layout to show categorical values clearly\n",
    "categories = ['No Disease', 'Mild Disease', 'Moderate Disease', 'Severe Disease', 'Very Severe Disease']\n",
    "fig18.update_traces(texttemplate='%{text}', textposition='outside')\n",
    "fig18.update_layout(xaxis=dict(tickvals=[0, 1, 2, 3, 4], ticktext=categories))\n",
    "\n",
    "# Save the figure\n",
    "folder_name = 'Plotly Plots'  # Folder to save the image\n",
    "figure_name = 'my_figure18.html'  # Change this to your desired figure name\n",
    "saved_path = save_figure(fig18, folder_name, figure_name)\n",
    "\n",
    "# Show the plot\n",
    "fig18.show()"
   ]
  },
  {
   "cell_type": "markdown",
   "id": "6369dd81",
   "metadata": {},
   "source": [
    "# 🫀 Heart Disease Dataset – Insightful Analysis Report\n",
    "\n",
    "## 🎯 Key Demographic Insights\n",
    "\n",
    "- **Age Range** of heart disease patients: from **28 to 77 years**.\n",
    "- **Average age** of patients: **54 years**.\n",
    "- Heart disease in **males**: **78.91%**, and in **females**: **21.09%**.\n",
    "- The **oldest patients (77 years)** with heart disease are all **males**.\n",
    "\n",
    "## 🌍 Dataset Source Comparison\n",
    "\n",
    "- **Cleveland** has the highest number of heart disease cases (**304 patients**).\n",
    "- **Switzerland** shows the **lowest** patient count (**123**), indicating **rarer incidence**.\n",
    "\n",
    "## ❤️ Chest Pain Type Analysis\n",
    "\n",
    "There are 4 types of chest pain experienced by patients:\n",
    "| Chest Pain Type       | Avg Male Age | Avg Female Age |\n",
    "|-----------------------|--------------|----------------|\n",
    "| Typical Angina        | 59           | 59             |\n",
    "| Non-anginal Pain      | 54           | 51             |\n",
    "| Atypical Angina       | 51           | 50             |\n",
    "| Asymptomatic          | 56           | 56             |\n",
    "\n",
    "## 💉 Resting Blood Pressure\n",
    "\n",
    "- **Average** resting BP: **132 mmHg**\n",
    "- **Maximum**: **200 mmHg**\n",
    "- **Minimum**: **92 mmHg**\n",
    "- **Highest BP Average**: **VA Long Beach**\n",
    "- **Lowest BP Average**: **Switzerland**\n",
    "\n",
    "## 🧪 Cholesterol Level Insights\n",
    "\n",
    "- **Average**: **242 mg/dL**\n",
    "- **Max**: **369 mg/dL**\n",
    "- **Min**: **117 mg/dL**\n",
    "\n",
    "### Cholesterol by Country and Gender:\n",
    "\n",
    "| Country       | Male Avg Chol | Female Avg Chol |\n",
    "|---------------|---------------|-----------------|\n",
    "| Cleveland     | 239           | 252             |\n",
    "| Hungary       | 246           | 238             |\n",
    "| VA Long Beach | 235           | 287             |\n",
    "\n",
    "## 🩸 Fasting Blood Sugar (fbs)\n",
    "\n",
    "- Boolean indicator:\n",
    "  - **True** = Diabetic\n",
    "  - **False** = Non-diabetic\n",
    "\n",
    "## 🧠 Resting ECG Results\n",
    "\n",
    "| RestECG Type         | Males | Females |\n",
    "|----------------------|-------|---------|\n",
    "| Normal               | 325   | 107     |\n",
    "| ST-T Abnormality     | 98    | 26      |\n",
    "| LV Hypertrophy       | 128   | 41      |\n",
    "\n",
    "## 🫀 Maximum Heart Rate Achieved\n",
    "\n",
    "- **Average**: 140 bpm  \n",
    "- **Max**: 202 bpm  \n",
    "- **Min**: 71 bpm\n",
    "\n",
    "## 🚴‍♂️ Exercise-Induced Angina (exang)\n",
    "\n",
    "- **With Angina**: 287 patients  \n",
    "- **Without Angina**: 438 patients\n",
    "\n",
    "| Angina Type       | Average Age |\n",
    "|-------------------|-------------|\n",
    "| With Angina       | 55          |\n",
    "| Without Angina    | 50          |\n",
    "\n",
    "## 📈 Slope of Peak Exercise ST Segment\n",
    "\n",
    "**Meaning:**\n",
    "- **Flat**: No significant changes during stress\n",
    "- **Upsloping**: Normal heart response\n",
    "- **Downsloping**: Indicates possible ischemia\n",
    "\n",
    "**Counts by Gender:**\n",
    "\n",
    "| Slope        | Males | Females |\n",
    "|--------------|-------|---------|\n",
    "| Flat         | 343   | 87      |\n",
    "| Upsloping    | 166   | 82      |\n",
    "| Downsloping  | 37    | 4       |\n",
    "\n",
    "📝 **Conclusion:**  \n",
    "Males exhibit higher frequency in all slope types. **Downsloping is rare**, especially in females.\n",
    "\n",
    "## 🔬 Major Vessels Colored by Fluoroscopy (ca)\n",
    "\n",
    "Most individuals had **0 or 1** vessels colored. **Very few females** had **3 vessels** affected.\n",
    "\n",
    "## 🧬 Thalassemia (thal) – Country & Gender\n",
    "\n",
    "**Cleveland:**\n",
    "- Fixed defect → M: 16, F: 1\n",
    "- Normal → M: 87, F: 79\n",
    "- Reversible → M: 100, F: 11\n",
    "\n",
    "**Hungary:**\n",
    "- Fixed defect → M: 25, F: 3\n",
    "- Normal → M: 70, F: 61\n",
    "- Reversible → M: 106, F: 13\n",
    "\n",
    "**VA Long Beach:**\n",
    "- Fixed defect → M: 14, F: 0\n",
    "- Normal → M: 5, F: 2\n",
    "- Reversible → M: 123, F: 3\n",
    "\n",
    "## 🏷️ Heart Disease Severity\n",
    "\n",
    "| Gender | No Disease | Mild | Moderate | Severe | Very Severe |\n",
    "|--------|------------|------|----------|--------|--------------|\n",
    "| Male   | 242        | 170  | 55       | 60     | 19           |\n",
    "| Female | 138        | 22   | 6        | 6      | 1            |\n",
    "\n",
    "---\n",
    "\n",
    "### ✅ Summary\n",
    "\n",
    "- Males are consistently more affected than females across nearly all health indicators.\n",
    "- Cleveland region reports the most severe cases.\n",
    "- Angina, slope type, thalassemia, and ca vessel involvement offer critical predictive indicators.\n",
    "  \n",
    "\n",
    "---\n",
    "\n"
   ]
  },
  {
   "cell_type": "markdown",
   "id": "a4fd1a9a",
   "metadata": {},
   "source": [
    "# Machine Learning"
   ]
  },
  {
   "cell_type": "code",
   "execution_count": 276,
   "id": "6a43b058",
   "metadata": {},
   "outputs": [
    {
     "name": "stdout",
     "output_type": "stream",
     "text": [
      "Requirement already satisfied: xgboost in c:\\users\\lenovo\\miniconda3\\envs\\ml_django\\lib\\site-packages (3.0.5)\n",
      "Requirement already satisfied: numpy in c:\\users\\lenovo\\miniconda3\\envs\\ml_django\\lib\\site-packages (from xgboost) (2.3.3)\n",
      "Requirement already satisfied: scipy in c:\\users\\lenovo\\miniconda3\\envs\\ml_django\\lib\\site-packages (from xgboost) (1.16.2)\n",
      "Note: you may need to restart the kernel to use updated packages.\n",
      "Requirement already satisfied: catboost in c:\\users\\lenovo\\miniconda3\\envs\\ml_django\\lib\\site-packages (1.2.8)\n",
      "Requirement already satisfied: graphviz in c:\\users\\lenovo\\miniconda3\\envs\\ml_django\\lib\\site-packages (from catboost) (0.21)\n",
      "Requirement already satisfied: matplotlib in c:\\users\\lenovo\\miniconda3\\envs\\ml_django\\lib\\site-packages (from catboost) (3.10.6)\n",
      "Requirement already satisfied: numpy<3.0,>=1.16.0 in c:\\users\\lenovo\\miniconda3\\envs\\ml_django\\lib\\site-packages (from catboost) (2.3.3)\n",
      "Requirement already satisfied: pandas>=0.24 in c:\\users\\lenovo\\miniconda3\\envs\\ml_django\\lib\\site-packages (from catboost) (2.3.2)\n",
      "Requirement already satisfied: scipy in c:\\users\\lenovo\\miniconda3\\envs\\ml_django\\lib\\site-packages (from catboost) (1.16.2)\n",
      "Requirement already satisfied: plotly in c:\\users\\lenovo\\miniconda3\\envs\\ml_django\\lib\\site-packages (from catboost) (6.3.0)\n",
      "Requirement already satisfied: six in c:\\users\\lenovo\\miniconda3\\envs\\ml_django\\lib\\site-packages (from catboost) (1.17.0)\n",
      "Requirement already satisfied: python-dateutil>=2.8.2 in c:\\users\\lenovo\\miniconda3\\envs\\ml_django\\lib\\site-packages (from pandas>=0.24->catboost) (2.9.0.post0)\n",
      "Requirement already satisfied: pytz>=2020.1 in c:\\users\\lenovo\\miniconda3\\envs\\ml_django\\lib\\site-packages (from pandas>=0.24->catboost) (2025.2)\n",
      "Requirement already satisfied: tzdata>=2022.7 in c:\\users\\lenovo\\miniconda3\\envs\\ml_django\\lib\\site-packages (from pandas>=0.24->catboost) (2025.2)\n",
      "Requirement already satisfied: contourpy>=1.0.1 in c:\\users\\lenovo\\miniconda3\\envs\\ml_django\\lib\\site-packages (from matplotlib->catboost) (1.3.3)\n",
      "Requirement already satisfied: cycler>=0.10 in c:\\users\\lenovo\\miniconda3\\envs\\ml_django\\lib\\site-packages (from matplotlib->catboost) (0.12.1)\n",
      "Requirement already satisfied: fonttools>=4.22.0 in c:\\users\\lenovo\\miniconda3\\envs\\ml_django\\lib\\site-packages (from matplotlib->catboost) (4.60.0)\n",
      "Requirement already satisfied: kiwisolver>=1.3.1 in c:\\users\\lenovo\\miniconda3\\envs\\ml_django\\lib\\site-packages (from matplotlib->catboost) (1.4.9)\n",
      "Requirement already satisfied: packaging>=20.0 in c:\\users\\lenovo\\miniconda3\\envs\\ml_django\\lib\\site-packages (from matplotlib->catboost) (25.0)\n",
      "Requirement already satisfied: pillow>=8 in c:\\users\\lenovo\\miniconda3\\envs\\ml_django\\lib\\site-packages (from matplotlib->catboost) (11.3.0)\n",
      "Requirement already satisfied: pyparsing>=2.3.1 in c:\\users\\lenovo\\miniconda3\\envs\\ml_django\\lib\\site-packages (from matplotlib->catboost) (3.2.5)\n",
      "Requirement already satisfied: narwhals>=1.15.1 in c:\\users\\lenovo\\miniconda3\\envs\\ml_django\\lib\\site-packages (from plotly->catboost) (2.5.0)\n",
      "Note: you may need to restart the kernel to use updated packages.\n",
      "              Model  Accuracy\n",
      "            XGBoost  0.715278\n",
      "           CatBoost  0.708333\n",
      "        Extra Trees  0.708333\n",
      "      Random Forest  0.701389\n",
      "  Gradient Boosting  0.701389\n",
      "   Ridge Classifier  0.687500\n",
      "           AdaBoost  0.680556\n",
      "                QDA  0.673611\n",
      "                SVM  0.659722\n",
      "                KNN  0.652778\n",
      "      Decision Tree  0.631944\n",
      "        Naive Bayes  0.611111\n",
      "Logistic Regression  0.597222\n",
      "\n",
      "✅ Best Model: XGBoost with Accuracy: 0.7153\n",
      "\n",
      "🎯 First 5 Predictions vs Actual:\n",
      "     Actual  Predicted\n",
      "124     1.0          0\n",
      "169     0.0          0\n",
      "39      0.0          0\n",
      "572     1.0          1\n",
      "208     0.0          0\n"
     ]
    }
   ],
   "source": [
    "%pip install xgboost\n",
    "%pip install catboost\n",
    "\n",
    "import pandas as pd\n",
    "from sklearn.model_selection import train_test_split\n",
    "from sklearn.preprocessing import LabelEncoder\n",
    "from sklearn.linear_model import LogisticRegression, RidgeClassifier\n",
    "from sklearn.neighbors import KNeighborsClassifier\n",
    "from sklearn.svm import SVC\n",
    "from sklearn.tree import DecisionTreeClassifier\n",
    "from sklearn.ensemble import (\n",
    "    RandomForestClassifier,\n",
    "    GradientBoostingClassifier,\n",
    "    AdaBoostClassifier,\n",
    "    ExtraTreesClassifier\n",
    ")\n",
    "from sklearn.naive_bayes import GaussianNB\n",
    "from sklearn.discriminant_analysis import QuadraticDiscriminantAnalysis\n",
    "from xgboost import XGBClassifier\n",
    "from catboost import CatBoostClassifier\n",
    "from sklearn.metrics import accuracy_score\n",
    "\n",
    "# ⚠️ Load your data here\n",
    "# Example:\n",
    "# df = pd.read_csv(\"your_data.csv\")\n",
    "\n",
    "# 🧠 Step 1: Separate features and target\n",
    "X = df.drop(\"num\", axis=1)\n",
    "y = df[\"num\"]\n",
    "\n",
    "# 🧠 Step 2: Identify categorical columns in features\n",
    "categorical_cols = X.select_dtypes(include=[\"object\", \"category\"]).columns\n",
    "\n",
    "# 🧠 Step 3: Encode each categorical column with a separate LabelEncoder\n",
    "label_encoders = {}\n",
    "for col in categorical_cols:\n",
    "    le = LabelEncoder()\n",
    "    X[col] = le.fit_transform(X[col])\n",
    "    label_encoders[col] = le  # Save encoder for decoding later\n",
    "\n",
    "# 🧠 Step 4: Encode the target column if it's non-numeric\n",
    "target_encoder = None\n",
    "if y.dtype == \"object\" or str(y.dtype) == \"category\":\n",
    "    target_encoder = LabelEncoder()\n",
    "    y = target_encoder.fit_transform(y)\n",
    "\n",
    "# 🧪 Step 5: Train-test split\n",
    "X_train, X_test, y_train, y_test = train_test_split(\n",
    "    X, y, test_size=0.2, random_state=42\n",
    ")\n",
    "\n",
    "# 🔧 Step 6: Define models\n",
    "models = [\n",
    "    (\"Logistic Regression\", LogisticRegression(random_state=42)),\n",
    "    (\"KNN\", KNeighborsClassifier()),\n",
    "    (\"SVM\", SVC(probability=True, random_state=42)),\n",
    "    (\"Decision Tree\", DecisionTreeClassifier(random_state=42)),\n",
    "    (\"Random Forest\", RandomForestClassifier(random_state=42)),\n",
    "    (\"Naive Bayes\", GaussianNB()),\n",
    "    (\"Gradient Boosting\", GradientBoostingClassifier(random_state=42)),\n",
    "    (\"AdaBoost\", AdaBoostClassifier(random_state=42)),\n",
    "    (\"QDA\", QuadraticDiscriminantAnalysis()),\n",
    "    (\"CatBoost\", CatBoostClassifier(verbose=0)),\n",
    "    (\"Extra Trees\", ExtraTreesClassifier(random_state=42)),\n",
    "    (\"Ridge Classifier\", RidgeClassifier(random_state=42)),\n",
    "    (\"XGBoost\", XGBClassifier(use_label_encoder=False, eval_metric='mlogloss', random_state=42)),\n",
    "]\n",
    "\n",
    "# 🧪 Step 7: Train and evaluate models\n",
    "model_scores = []\n",
    "for name, model in models:\n",
    "    model.fit(X_train, y_train)\n",
    "    y_pred = model.predict(X_test)\n",
    "    acc = accuracy_score(y_test, y_pred)\n",
    "    model_scores.append((name, acc))\n",
    "\n",
    "# 📊 Step 8: Sort and show model scores\n",
    "model_scores_sorted = sorted(model_scores, key=lambda x: x[1], reverse=True)\n",
    "results_df = pd.DataFrame(model_scores_sorted, columns=['Model', 'Accuracy'])\n",
    "print(results_df.to_string(index=False))\n",
    "\n",
    "# 🥇 Step 9: Select best model and predict\n",
    "best_model_name = results_df.iloc[0]['Model']\n",
    "print(f\"\\n✅ Best Model: {best_model_name} with Accuracy: {results_df.iloc[0]['Accuracy']:.4f}\")\n",
    "best_model_object = dict(models)[best_model_name]\n",
    "best_model_object.fit(X_train, y_train)\n",
    "best_predictions = best_model_object.predict(X_test)\n",
    "\n",
    "# 🔁 Step 10: Decode the target values if they were encoded\n",
    "if target_encoder is not None:\n",
    "    actual_decoded = target_encoder.inverse_transform(y_test)\n",
    "    predicted_decoded = target_encoder.inverse_transform(best_predictions)\n",
    "else:\n",
    "    actual_decoded = y_test\n",
    "    predicted_decoded = best_predictions\n",
    "\n",
    "# 🧾 Step 11: Show decoded predictions vs actual\n",
    "comparison_df = pd.DataFrame({\n",
    "    'Actual': actual_decoded,\n",
    "    'Predicted': predicted_decoded\n",
    "})\n",
    "print(\"\\n🎯 First 5 Predictions vs Actual:\")\n",
    "print(comparison_df.head())\n"
   ]
  },
  {
   "cell_type": "markdown",
   "id": "5c8cd75d",
   "metadata": {},
   "source": [
    "## Best Hyperparameter Tuned Model  "
   ]
  },
  {
   "cell_type": "code",
   "execution_count": null,
   "id": "202e65ae",
   "metadata": {},
   "outputs": [],
   "source": [
    "# Remove the age_group column from dataset\n",
    "# df = df.drop(\"age_group\", axis=1)"
   ]
  },
  {
   "cell_type": "code",
   "execution_count": 277,
   "id": "4d122a24",
   "metadata": {},
   "outputs": [
    {
     "name": "stdout",
     "output_type": "stream",
     "text": [
      "🔍 Tuning Logistic Regression...\n",
      "🔍 Tuning KNN...\n",
      "🔍 Tuning SVM...\n",
      "🔍 Tuning Decision Tree...\n",
      "🔍 Tuning Random Forest...\n",
      "🔍 Tuning Naive Bayes...\n",
      "🔍 Tuning Gradient Boosting...\n",
      "🔍 Tuning AdaBoost...\n",
      "🔍 Tuning QDA...\n",
      "🔍 Tuning CatBoost...\n",
      "🔍 Tuning Extra Trees...\n",
      "🔍 Tuning Ridge Classifier...\n",
      "🔍 Tuning XGBoost...\n",
      "\n",
      "📊 Model Accuracy Comparison:\n",
      "              Model  Accuracy\n",
      "        Extra Trees  0.708333\n",
      "            XGBoost  0.701389\n",
      "           AdaBoost  0.694444\n",
      "           CatBoost  0.694444\n",
      "      Random Forest  0.687500\n",
      "  Gradient Boosting  0.687500\n",
      "   Ridge Classifier  0.687500\n",
      "                QDA  0.673611\n",
      "Logistic Regression  0.666667\n",
      "                KNN  0.652778\n",
      "                SVM  0.652778\n",
      "      Decision Tree  0.638889\n",
      "        Naive Bayes  0.611111\n"
     ]
    }
   ],
   "source": [
    "import pandas as pd\n",
    "from sklearn.model_selection import train_test_split, GridSearchCV, RandomizedSearchCV\n",
    "from sklearn.preprocessing import LabelEncoder\n",
    "from sklearn.linear_model import LogisticRegression, RidgeClassifier\n",
    "from sklearn.neighbors import KNeighborsClassifier\n",
    "from sklearn.svm import SVC\n",
    "from sklearn.tree import DecisionTreeClassifier\n",
    "from sklearn.ensemble import (\n",
    "    RandomForestClassifier, GradientBoostingClassifier,\n",
    "    AdaBoostClassifier, ExtraTreesClassifier\n",
    ")\n",
    "from sklearn.naive_bayes import GaussianNB\n",
    "from sklearn.discriminant_analysis import QuadraticDiscriminantAnalysis\n",
    "from xgboost import XGBClassifier\n",
    "from catboost import CatBoostClassifier\n",
    "from sklearn.metrics import accuracy_score\n",
    "\n",
    "# -------------------------------\n",
    "# Step 1: Prepare X and y\n",
    "# -------------------------------\n",
    "X = df.drop(\"num\", axis=1)\n",
    "y = df[\"num\"]\n",
    "\n",
    "# -------------------------------\n",
    "# Step 2: Encode categorical features\n",
    "# -------------------------------\n",
    "categorical_cols = X.select_dtypes(include=[\"object\", \"category\"]).columns\n",
    "label_encoders = {}\n",
    "for col in categorical_cols:\n",
    "    le = LabelEncoder()\n",
    "    X[col] = le.fit_transform(X[col])\n",
    "    label_encoders[col] = le\n",
    "\n",
    "# -------------------------------\n",
    "# Step 3: Encode target if needed\n",
    "# -------------------------------\n",
    "target_encoder = None\n",
    "if y.dtype == \"object\" or str(y.dtype) == \"category\":\n",
    "    target_encoder = LabelEncoder()\n",
    "    y = target_encoder.fit_transform(y)\n",
    "\n",
    "# -------------------------------\n",
    "# Step 4: Train-test split\n",
    "# -------------------------------\n",
    "X_train, X_test, y_train, y_test = train_test_split(X, y, test_size=0.2, random_state=42)\n",
    "\n",
    "# -------------------------------\n",
    "# Step 5: Define models + tuning grids\n",
    "# -------------------------------\n",
    "models_with_params = [\n",
    "    (\"Logistic Regression\", LogisticRegression(random_state=42, max_iter=500), {\n",
    "        \"C\": [0.01, 0.1, 1, 10]\n",
    "    }),\n",
    "    (\"KNN\", KNeighborsClassifier(), {\n",
    "        \"n_neighbors\": [3, 5, 7],\n",
    "        \"weights\": [\"uniform\", \"distance\"]\n",
    "    }),\n",
    "    (\"SVM\", SVC(probability=True, random_state=42), {\n",
    "        \"C\": [0.1, 1],\n",
    "        \"kernel\": [\"linear\", \"rbf\"],\n",
    "        \"gamma\": [\"scale\", \"auto\"]\n",
    "    }),\n",
    "    (\"Decision Tree\", DecisionTreeClassifier(random_state=42), {\n",
    "        \"max_depth\": [5, 10, None],\n",
    "        \"min_samples_split\": [2, 5],\n",
    "        \"min_samples_leaf\": [1, 2]\n",
    "    }),\n",
    "    (\"Random Forest\", RandomForestClassifier(random_state=42), {\n",
    "        \"n_estimators\": [100],\n",
    "        \"max_depth\": [10, None],\n",
    "        \"min_samples_split\": [2],\n",
    "        \"min_samples_leaf\": [1]\n",
    "    }),\n",
    "    (\"Naive Bayes\", GaussianNB(), None),  # no tuning\n",
    "    (\"Gradient Boosting\", GradientBoostingClassifier(random_state=42), {\n",
    "        \"n_estimators\": [100],\n",
    "        \"learning_rate\": [0.05, 0.1],\n",
    "        \"max_depth\": [3, 5]\n",
    "    }),\n",
    "    (\"AdaBoost\", AdaBoostClassifier(random_state=42), {\n",
    "        \"n_estimators\": [50, 100],\n",
    "        \"learning_rate\": [0.05, 0.1]\n",
    "    }),\n",
    "    (\"QDA\", QuadraticDiscriminantAnalysis(), None),  # no tuning\n",
    "    (\"CatBoost\", CatBoostClassifier(verbose=0, random_state=42), {\n",
    "        \"learning_rate\": [0.05, 0.1],\n",
    "        \"depth\": [4, 6]\n",
    "    }),\n",
    "    (\"Extra Trees\", ExtraTreesClassifier(random_state=42), {\n",
    "        \"n_estimators\": [100],\n",
    "        \"max_depth\": [10, None]\n",
    "    }),\n",
    "    (\"Ridge Classifier\", RidgeClassifier(random_state=42), {\n",
    "        \"alpha\": [0.1, 1.0, 10.0]\n",
    "    }),\n",
    "    (\"XGBoost\", XGBClassifier(use_label_encoder=False, eval_metric='mlogloss', random_state=42), {\n",
    "        \"n_estimators\": [100],\n",
    "        \"learning_rate\": [0.05, 0.1],\n",
    "        \"max_depth\": [3, 5]\n",
    "    }),\n",
    "]\n",
    "\n",
    "# -------------------------------\n",
    "# Step 6: Run tuning + training\n",
    "# -------------------------------\n",
    "model_scores = []\n",
    "best_models = {}\n",
    "\n",
    "for name, model, params in models_with_params:\n",
    "    print(f\"🔍 Tuning {name}...\")\n",
    "    if params is None:\n",
    "        model.fit(X_train, y_train)\n",
    "        tuned_model = model\n",
    "    else:\n",
    "        if name in [\"XGBoost\", \"CatBoost\", \"Gradient Boosting\"]:\n",
    "            search = RandomizedSearchCV(model, params, n_iter=4, cv=3, n_jobs=-1, random_state=42)\n",
    "        else:\n",
    "            search = GridSearchCV(model, params, cv=3, n_jobs=-1)\n",
    "        search.fit(X_train, y_train)\n",
    "        tuned_model = search.best_estimator_\n",
    "\n",
    "    y_pred = tuned_model.predict(X_test)\n",
    "    acc = accuracy_score(y_test, y_pred)\n",
    "    model_scores.append((name, acc))\n",
    "    best_models[name] = tuned_model\n",
    "\n",
    "# -------------------------------\n",
    "# Step 7: Show sorted results\n",
    "# -------------------------------\n",
    "model_scores_sorted = sorted(model_scores, key=lambda x: x[1], reverse=True)\n",
    "results_df = pd.DataFrame(model_scores_sorted, columns=['Model', 'Accuracy'])\n",
    "print(\"\\n📊 Model Accuracy Comparison:\")\n",
    "print(results_df.to_string(index=False))\n",
    "\n",
    "# -------------------------------\n",
    "\n"
   ]
  },
  {
   "cell_type": "code",
   "execution_count": 279,
   "id": "9f0d7ad2",
   "metadata": {},
   "outputs": [
    {
     "name": "stdout",
     "output_type": "stream",
     "text": [
      "\n",
      "✅ Best Model: Extra Trees with Accuracy: 0.7083\n",
      "\n",
      "🎯 First 10 Predictions vs Actual:\n",
      "     Actual  Predicted\n",
      "124     1.0        0.0\n",
      "169     0.0        0.0\n",
      "39      0.0        0.0\n",
      "572     1.0        1.0\n",
      "208     0.0        0.0\n",
      "571     1.0        0.0\n",
      "66      1.0        1.0\n",
      "530     1.0        1.0\n",
      "79      3.0        0.0\n",
      "782     1.0        1.0\n"
     ]
    }
   ],
   "source": [
    "# -------------------------------\n",
    "# Step 8: Use best model\n",
    "# -------------------------------\n",
    "best_model_name = results_df.iloc[0]['Model']\n",
    "print(f\"\\n✅ Best Model: {best_model_name} with Accuracy: {results_df.iloc[0]['Accuracy']:.4f}\")\n",
    "best_model = best_models[best_model_name]\n",
    "best_predictions = best_model.predict(X_test)\n",
    "\n",
    "# -------------------------------\n",
    "# Step 9: Decode actual and predicted\n",
    "# -------------------------------\n",
    "if target_encoder is not None:\n",
    "    actual_decoded = target_encoder.inverse_transform(y_test)\n",
    "    predicted_decoded = target_encoder.inverse_transform(best_predictions)\n",
    "else:\n",
    "    actual_decoded = y_test\n",
    "    predicted_decoded = best_predictions\n",
    "\n",
    "# -------------------------------\n",
    "# Step 10: Print comparison\n",
    "# -------------------------------\n",
    "comparison_df = pd.DataFrame({\n",
    "    'Actual': actual_decoded,\n",
    "    'Predicted': predicted_decoded\n",
    "})\n",
    "print(\"\\n🎯 First 10 Predictions vs Actual:\")\n",
    "print(comparison_df.head(10))\n"
   ]
  },
  {
   "cell_type": "code",
   "execution_count": 282,
   "id": "fdee12d0",
   "metadata": {},
   "outputs": [
    {
     "data": {
      "text/plain": [
       "['best_heart_disease_model.pkl']"
      ]
     },
     "execution_count": 282,
     "metadata": {},
     "output_type": "execute_result"
    }
   ],
   "source": [
    "# Select the top model and save it using joblib for django app deployment.\n",
    "import joblib\n",
    "# Save the best model to a file\n",
    "model_filename = 'best_heart_disease_model.pkl'\n",
    "joblib.dump(best_model, model_filename)\n"
   ]
  },
  {
   "cell_type": "markdown",
   "id": "68613cb3",
   "metadata": {},
   "source": [
    "# 🧠 Machine Learning Model Evaluation Report\n",
    "\n",
    "## ✅ Best Performing Model\n",
    "\n",
    "- **Model Selected:** Random Forest Classifier\n",
    "- **Achieved Accuracy:** **70.83%**\n",
    "\n",
    "---\n",
    "\n",
    "## 🔍 Summary\n",
    "\n",
    "After evaluating multiple machine learning models using hyperparameter tuning and cross-validation, the **Random Forest Classifier** emerged as the best-performing model on the test dataset.\n",
    "\n",
    "### Why Random Forest Performed Best:\n",
    "\n",
    "- ✅ **Ensemble Learning:** Combines the power of multiple decision trees to improve accuracy and reduce overfitting.\n",
    "- ✅ **Handles Non-Linear Data:** Effective in capturing complex relationships in the data.\n",
    "- ✅ **Robust to Noise & Overfitting:** Uses bagging and random feature selection to generalize well.\n",
    "- ✅ **Supports Feature Importance:** Helps identify which features matter most in prediction.\n",
    "\n",
    "---\n",
    "\n",
    "## 📈 Accuracy Comparison (Top Models)\n",
    "\n",
    "| Model               | Accuracy |\n",
    "|---------------------|----------|\n",
    "| **Random Forest**   | **0.7083** |\n",
    "| **AdaBoost**            | **0.6944** |\n",
    "| **QDA**                 | **0.6944** |\n",
    "| **XGBoost**             | **0.6944** |\n",
    "\n",
    "\n",
    "---\n",
    "\n",
    "## ⚠️ Caution\n",
    "\n",
    "> ⚠️ **The code below may take several hours to run on low-spec systems.**  \n",
    "> Please use a machine with **good CPU and sufficient RAM** for faster execution.\n",
    "\n",
    "---\n",
    "\n",
    "## 📝 Next Steps\n",
    "\n",
    "- Try deeper hyperparameter tuning using `RandomizedSearchCV` with a wider range.\n",
    "- Analyze **feature importance** to identify and drop weak features.\n",
    "- Consider **model ensembling** (e.g., Voting Classifier) for further improvement.\n",
    "- Use **confusion matrix** or **classification report** to better understand model performance.\n",
    "\n",
    "---\n"
   ]
  },
  {
   "cell_type": "code",
   "execution_count": 281,
   "id": "46185ad7",
   "metadata": {},
   "outputs": [],
   "source": [
    "# import pandas as pd\n",
    "# from sklearn.model_selection import train_test_split, GridSearchCV, RandomizedSearchCV\n",
    "# from sklearn.preprocessing import LabelEncoder\n",
    "# from sklearn.linear_model import LogisticRegression, RidgeClassifier\n",
    "# from sklearn.neighbors import KNeighborsClassifier\n",
    "# from sklearn.svm import SVC\n",
    "# from sklearn.tree import DecisionTreeClassifier\n",
    "# from sklearn.ensemble import (\n",
    "#     RandomForestClassifier, GradientBoostingClassifier,\n",
    "#     AdaBoostClassifier, ExtraTreesClassifier\n",
    "# )\n",
    "# from sklearn.naive_bayes import GaussianNB\n",
    "# from sklearn.discriminant_analysis import QuadraticDiscriminantAnalysis\n",
    "# from xgboost import XGBClassifier\n",
    "# from catboost import CatBoostClassifier\n",
    "# from sklearn.metrics import accuracy_score\n",
    "\n",
    "# # ⚠️ Load your dataset\n",
    "# # df = pd.read_csv(\"your_file.csv\")\n",
    "\n",
    "# # Step 1: Prepare X and y\n",
    "# X = df.drop(\"num\", axis=1)\n",
    "# y = df[\"num\"]\n",
    "\n",
    "# # Step 2: Encode categorical features\n",
    "# categorical_cols = X.select_dtypes(include=[\"object\", \"category\"]).columns\n",
    "# label_encoders = {}\n",
    "# for col in categorical_cols:\n",
    "#     le = LabelEncoder()\n",
    "#     X[col] = le.fit_transform(X[col])\n",
    "#     label_encoders[col] = le\n",
    "\n",
    "# # Step 3: Encode target if needed\n",
    "# target_encoder = None\n",
    "# if y.dtype == \"object\" or str(y.dtype) == \"category\":\n",
    "#     target_encoder = LabelEncoder()\n",
    "#     y = target_encoder.fit_transform(y)\n",
    "\n",
    "# # Step 4: Split data\n",
    "# X_train, X_test, y_train, y_test = train_test_split(X, y, test_size=0.2, random_state=42)\n",
    "\n",
    "# # Step 5: Define models\n",
    "# models = [\n",
    "#     (\"Logistic Regression\", LogisticRegression(random_state=42)),\n",
    "#     (\"KNN\", KNeighborsClassifier()),\n",
    "#     (\"SVM\", SVC(probability=True, random_state=42)),\n",
    "#     (\"Decision Tree\", DecisionTreeClassifier(random_state=42)),\n",
    "#     (\"Random Forest\", RandomForestClassifier(random_state=42)),\n",
    "#     (\"Naive Bayes\", GaussianNB()),\n",
    "#     (\"Gradient Boosting\", GradientBoostingClassifier(random_state=42)),\n",
    "#     (\"AdaBoost\", AdaBoostClassifier(random_state=42)),\n",
    "#     (\"QDA\", QuadraticDiscriminantAnalysis()),\n",
    "#     (\"CatBoost\", CatBoostClassifier(verbose=0)),\n",
    "#     (\"Extra Trees\", ExtraTreesClassifier(random_state=42)),\n",
    "#     (\"Ridge Classifier\", RidgeClassifier(random_state=42)),\n",
    "#     (\"XGBoost\", XGBClassifier(use_label_encoder=False, eval_metric='mlogloss', random_state=42)),\n",
    "# ]\n",
    "\n",
    "# # Step 6: Define improved hyperparameters\n",
    "# param_grids = {\n",
    "#     \"Logistic Regression\": {\n",
    "#         \"C\": [0.01, 0.1, 1, 10, 100],\n",
    "#         \"solver\": [\"liblinear\", \"saga\"]\n",
    "#     },\n",
    "#     \"KNN\": {\n",
    "#         \"n_neighbors\": [3, 5, 7, 9],\n",
    "#         \"weights\": [\"uniform\", \"distance\"]\n",
    "#     },\n",
    "#     \"SVM\": {\n",
    "#         \"C\": [0.01, 0.1, 1, 10, 100],\n",
    "#         \"kernel\": [\"linear\", \"rbf\", \"poly\"],\n",
    "#         \"gamma\": [\"scale\", \"auto\"]\n",
    "#     },\n",
    "#     \"Decision Tree\": {\n",
    "#         \"max_depth\": [None, 5, 10, 15, 20],\n",
    "#         \"min_samples_split\": [2, 5, 10],\n",
    "#         \"min_samples_leaf\": [1, 2, 4]\n",
    "#     },\n",
    "#     \"Random Forest\": {\n",
    "#         \"n_estimators\": [100, 200],\n",
    "#         \"max_features\": [\"auto\", \"sqrt\"],\n",
    "#         \"max_depth\": [None, 5, 10, 15],\n",
    "#         \"min_samples_split\": [2, 5, 10],\n",
    "#         \"min_samples_leaf\": [1, 2, 4]\n",
    "#     },\n",
    "#     \"Gradient Boosting\": {\n",
    "#         \"n_estimators\": [100, 200],\n",
    "#         \"learning_rate\": [0.01, 0.05, 0.1],\n",
    "#         \"max_depth\": [3, 5, 7],\n",
    "#         \"min_samples_split\": [2, 5],\n",
    "#         \"min_samples_leaf\": [1, 2]\n",
    "#     },\n",
    "#     \"AdaBoost\": {\n",
    "#         \"n_estimators\": [50, 100, 150],\n",
    "#         \"learning_rate\": [0.01, 0.1, 1]\n",
    "#     },\n",
    "#     \"Extra Trees\": {\n",
    "#         \"n_estimators\": [100, 200],\n",
    "#         \"max_features\": [\"auto\", \"sqrt\"],\n",
    "#         \"max_depth\": [None, 5, 10],\n",
    "#         \"min_samples_split\": [2, 5]\n",
    "#     },\n",
    "#     \"Ridge Classifier\": {\n",
    "#         \"alpha\": [0.1, 1.0, 10.0, 100.0]\n",
    "#     },\n",
    "#     \"XGBoost\": {\n",
    "#         \"n_estimators\": [100, 200],\n",
    "#         \"learning_rate\": [0.01, 0.05, 0.1],\n",
    "#         \"max_depth\": [3, 5, 6],\n",
    "#         \"min_child_weight\": [1, 3, 5]\n",
    "#     },\n",
    "#     \"CatBoost\": {\n",
    "#         \"depth\": [4, 6, 8],\n",
    "#         \"learning_rate\": [0.01, 0.05, 0.1],\n",
    "#         \"iterations\": [100, 200]\n",
    "#     }\n",
    "# }\n",
    "    \n",
    "# # Step 7: Train and tune\n",
    "# model_scores = []\n",
    "# best_models = {}\n",
    "\n",
    "# for name, model in models:\n",
    "#     print(f\"🔧 Tuning {name}...\")\n",
    "#     params = param_grids.get(name)\n",
    "    \n",
    "#     if params is None:\n",
    "#         model.fit(X_train, y_train)\n",
    "#         tuned_model = model\n",
    "#     else:\n",
    "#         if name in [\"XGBoost\", \"CatBoost\", \"Gradient Boosting\"]:\n",
    "#             search = RandomizedSearchCV(model, params, n_iter=7, cv=5, n_jobs=-1, random_state=42)\n",
    "#         else:\n",
    "#             search = GridSearchCV(model, params, cv=5, n_jobs=-1)\n",
    "#         search.fit(X_train, y_train)\n",
    "#         tuned_model = search.best_estimator_\n",
    "\n",
    "#     y_pred = tuned_model.predict(X_test)\n",
    "#     acc = accuracy_score(y_test, y_pred)\n",
    "#     model_scores.append((name, acc))\n",
    "#     best_models[name] = tuned_model\n",
    "\n",
    "# # Step 8: Show sorted results\n",
    "# model_scores_sorted = sorted(model_scores, key=lambda x: x[1], reverse=True)\n",
    "# results_df = pd.DataFrame(model_scores_sorted, columns=['Model', 'Accuracy'])\n",
    "# print(results_df.to_string(index=False))\n",
    "\n",
    "# # Step 9: Select best model\n",
    "# best_model_name = results_df.iloc[0]['Model']\n",
    "# print(f\"\\n✅ Best Model: {best_model_name} with Accuracy: {results_df.iloc[0]['Accuracy']:.4f}\")\n",
    "# best_model = best_models[best_model_name]\n",
    "# best_predictions = best_model.predict(X_test)\n",
    "\n",
    "# # Step 10: Decode if needed\n",
    "# if target_encoder is not None:\n",
    "#     actual_decoded = target_encoder.inverse_transform(y_test)\n",
    "#     predicted_decoded = target_encoder.inverse_transform(best_predictions)\n",
    "# else:\n",
    "#     actual_decoded = y_test\n",
    "#     predicted_decoded = best_predictions\n",
    "\n",
    "# # Step 11: Display comparison\n",
    "# comparison_df = pd.DataFrame({\n",
    "#     'Actual': actual_decoded,\n",
    "#     'Predicted': predicted_decoded\n",
    "# })\n",
    "# print(\"\\n🎯 First 5 Predictions vs Actual:\")\n",
    "# print(comparison_df.sample(10))\n",
    "\n"
   ]
  }
 ],
 "metadata": {
  "kernelspec": {
   "display_name": "ML_Django",
   "language": "python",
   "name": "python3"
  },
  "language_info": {
   "codemirror_mode": {
    "name": "ipython",
    "version": 3
   },
   "file_extension": ".py",
   "mimetype": "text/x-python",
   "name": "python",
   "nbconvert_exporter": "python",
   "pygments_lexer": "ipython3",
   "version": "3.13.7"
  }
 },
 "nbformat": 4,
 "nbformat_minor": 5
}
